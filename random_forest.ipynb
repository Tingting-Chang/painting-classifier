{
 "cells": [
  {
   "cell_type": "markdown",
   "metadata": {
    "deletable": true,
    "editable": true
   },
   "source": [
    "============================================================================================\n",
    "\n",
    "# RandomForest\n",
    "\n",
    "============================================================================================\n"
   ]
  },
  {
   "cell_type": "code",
   "execution_count": 3,
   "metadata": {
    "collapsed": false,
    "deletable": true,
    "editable": true
   },
   "outputs": [],
   "source": [
    "import warnings\n",
    "\n",
    "warnings.filterwarnings('ignore', category=DeprecationWarning)"
   ]
  },
  {
   "cell_type": "code",
   "execution_count": 20,
   "metadata": {
    "collapsed": false,
    "deletable": true,
    "editable": true
   },
   "outputs": [
    {
     "name": "stdout",
     "output_type": "stream",
     "text": [
      "athenaeum_authors_preview.csv\n",
      "athenaeum_painting_filtered.csv\n",
      "athenaeum_paintings.csv\n",
      "athenaeum_paintings_sizes.csv\n",
      "color_histograms.csv\n",
      "complete_data.csv\n",
      "images\n",
      "images_athenaeum\n",
      "images_sizes_2325.csv\n",
      "net_predicted.csv\n",
      "painter_info_clean.csv\n",
      "painting_info_clean.csv\n",
      "resized_200\n",
      "test_author200.csv\n",
      "test_data.csv\n",
      "test_hist_author_knn.csv\n",
      "test_hist_author_rf.csv\n",
      "train_author200.csv\n",
      "train_data.csv\n",
      "train_hist_author_knn.csv\n",
      "train_hist_author_rf.csv\n",
      "\n"
     ]
    }
   ],
   "source": [
    "import pandas as pd\n",
    "import numpy as np\n",
    "import os\n",
    "import re\n",
    "import random\n",
    "from matplotlib import pyplot as plt\n",
    "from sklearn.ensemble import RandomForestClassifier\n",
    "from sklearn.model_selection import cross_val_score\n",
    "from bayes_opt import BayesianOptimization\n",
    "from sklearn.decomposition import PCA\n",
    "\n",
    "import fns_models as fns\n",
    "\n",
    "\n",
    "% matplotlib inline\n",
    "\n",
    "from subprocess import check_output\n",
    "print(check_output([\"ls\", \"data\"]).decode(\"utf-8\"))"
   ]
  },
  {
   "cell_type": "code",
   "execution_count": null,
   "metadata": {
    "collapsed": false
   },
   "outputs": [],
   "source": [
    "# Do not run this\n",
    "# def get_data():\n",
    "#     train = pd.read_csv(\"data/train_hist_author_knn.csv\")\n",
    "#     test = pd.read_csv(\"data/test_hist_author_knn.csv\")\n",
    "\n",
    "#     print \"[INFO] The size of train histogram for Random Forest\" + str(train.shape)\n",
    "#     print \"[INFO] The size of test histogram for Random Forest\" + str(test.shape)\n",
    "\n",
    "#     train_labels = train.author_id\n",
    "#     train = train.drop(['author_id', 'painting_id'], axis=1)\n",
    "#     test_labels = test.author_id\n",
    "#     test = test.drop(['author_id', 'painting_id'], axis=1)\n",
    "    \n",
    "#     train.iloc[:,:-2] = train.iloc[:, :-2]\\\n",
    "#         .apply(lambda x: x.astype(np.float) / (x.sum()/3), axis = 1, raw = True)\n",
    "#     test.iloc[:,:-2] = test.iloc[:, :-2]\\\n",
    "#         .apply(lambda x: x.astype(np.float) / (x.sum()/3), axis = 1, raw = True)\n",
    "    \n",
    "#     return train, train_labels, test, test_labels\n",
    "\n",
    "# train_data, train_labels, test_data, test_labels = get_data()"
   ]
  },
  {
   "cell_type": "code",
   "execution_count": 50,
   "metadata": {
    "collapsed": false
   },
   "outputs": [
    {
     "name": "stdout",
     "output_type": "stream",
     "text": [
      "[INFO] The size of train histogram for Random Forest(49890, 34)\n",
      "[INFO] The size of test histogram for Random Forest(12473, 34)\n",
      "24      1369\n",
      "1793    1338\n",
      "368     1335\n",
      "Name: author_id, dtype: int64\n",
      "[trian above] ==================================================[test below]\n",
      "24      342\n",
      "1793    335\n",
      "368     334\n",
      "Name: author_id, dtype: int64\n",
      "(4042,)\n",
      "(4042, 34)\n"
     ]
    }
   ],
   "source": [
    "# Pick top 3 authors\n",
    "def get_top_author(num_author=3):\n",
    "    train = pd.read_csv(\"data/train_hist_author_knn.csv\")\n",
    "    test = pd.read_csv(\"data/test_hist_author_knn.csv\")\n",
    "\n",
    "    print \"[INFO] The size of train histogram for Random Forest\" + str(train.shape)\n",
    "    print \"[INFO] The size of test histogram for Random Forest\" + str(test.shape)\n",
    "\n",
    "     \n",
    "    train.iloc[:,2:-2] = train.iloc[:, 2:-2]\\\n",
    "        .apply(lambda x: x.astype(np.float) / (x.sum()/3), axis = 1, raw = True)\n",
    "    test.iloc[:,2:-2] = test.iloc[:, 2:-2]\\\n",
    "        .apply(lambda x: x.astype(np.float) / (x.sum()/3), axis = 1, raw = True)\n",
    "        \n",
    "    author_index = train.author_id.value_counts().index[:num_author]\n",
    "    train = train.loc[train['author_id'].isin(author_index)]\n",
    "    test = test.loc[test['author_id'].isin(author_index)]\n",
    "    \n",
    "    \n",
    "    print train.author_id.value_counts().head(10)\n",
    "    print \"[trian above] \" + '=' * 50 + \"[test below]\"\n",
    "    print test.author_id.value_counts().head(10)\n",
    "    \n",
    "\n",
    "    train_labels = train.author_id\n",
    "    print train_labels.shape\n",
    "    print  train.shape\n",
    "    train = train.drop(['author_id', 'painting_id'], axis=1)\n",
    "    test_labels = test.author_id\n",
    "    test = test.drop(['author_id', 'painting_id'], axis=1)\n",
    "   \n",
    "    return train, train_labels, test, test_labels\n",
    "\n",
    "\n"
   ]
  },
  {
   "cell_type": "code",
   "execution_count": null,
   "metadata": {
    "collapsed": true
   },
   "outputs": [],
   "source": [
    "train, train_labels, test, test_labels = fns.get_top_author(3)\n"
   ]
  },
  {
   "cell_type": "code",
   "execution_count": null,
   "metadata": {
    "collapsed": false
   },
   "outputs": [],
   "source": []
  },
  {
   "cell_type": "markdown",
   "metadata": {},
   "source": [
    "================================================================================================================\n",
    "\n",
    "# Bayesian Optimization + Random Forest\n",
    "\n",
    "[bayesian-optimization](https://github.com/fmfn/BayesianOptimization/blob/master/bayes_opt/bayesian_optimization.py)\n",
    "\n",
    "================================================================================================================"
   ]
  },
  {
   "cell_type": "code",
   "execution_count": 7,
   "metadata": {
    "collapsed": false
   },
   "outputs": [],
   "source": [
    "def rf_evaluate(max_features, max_depth, n_estimators):\n",
    "    \n",
    "    random.seed(2017)\n",
    "#     params['max_features'] = int(max_features)\n",
    "#     params['max_depth'] = int(max_depth)\n",
    "#     params['n_estimators'] = int(n_estimators)\n",
    "    \n",
    "    rfc = RandomForestClassifier(n_jobs = 4, n_estimators=int(n_estimators), oob_score=True,\n",
    "                                max_depth = int(max_depth), max_features = int(max_features))\n",
    "    #scores = cross_val_score(rfc, X=train, y = train_labels, cv=5, n_jobs = 2)\n",
    "    \n",
    "    # The mean score and the 95% confidence interval of the score estimate are hence given by:\n",
    "    #print(\"Accuracy: %0.2f (+/- %0.2f)\" % (scores.mean(), scores.std() * 2))\n",
    "    #return scores.mean()\n",
    "    rfc.fit(train, train_labels)\n",
    "    return rfc.oob_score_\n",
    "\n",
    "def rf_pca_evaluate(max_features,\n",
    "                    max_depth,\n",
    "                    n_estimators):\n",
    "    \n",
    "    random.seed(2017)\n",
    "    \n",
    "    rfc = RandomForestClassifier(n_jobs = 4, n_estimators=int(n_estimators), oob_score=True,\n",
    "                                max_depth = int(max_depth), max_features = int(max_features))\n",
    "    \n",
    "    rfc.fit(pca_transformed, train_labels)\n",
    "    return rfc.oob_score_\n",
    "\n",
    "def rf_bo(rf_fnc=rf_evaluate):\n",
    "    num_iter = 25\n",
    "    init_points = 5\n",
    "    random_state = 2017\n",
    "    # params = {\n",
    "    #     #'eta': 0.1,\n",
    "    #     #'silent': 1,\n",
    "    #     'eval_metric': 'mae',\n",
    "    #     'verbose_eval': True,\n",
    "    #     #'seed': random_state\n",
    "    # }\n",
    "\n",
    "    rfBO = BayesianOptimization(rf_fnc, {'max_features': (5, 7),\n",
    "                                             'max_depth': (2, 10),\n",
    "                                             'n_estimators': (100, 900)})\n",
    "\n",
    "    rfBO.maximize(init_points=init_points, n_iter=num_iter)\n",
    "    \n",
    "    print \"Bayesian Optimization Best Score: %d\" % rfBO.res['max']['max_val']\n",
    "\n",
    "    print \"Bayesian Optimization Best Parameters: %s\" % str(rfBO.res['max']['max_params'])\n",
    "    \n",
    "    print (rfBO.res['max'])\n",
    "    \n",
    "    fns.plot_bo(rf_fnc, rfBO)\n",
    "\n",
    "#     print \"Bayesian Optimization  Parameters: %s\" % str(rfBO.res['all'])\n",
    "\n"
   ]
  },
  {
   "cell_type": "code",
   "execution_count": null,
   "metadata": {
    "collapsed": true
   },
   "outputs": [],
   "source": [
    "# Run BO for color histogram\n",
    "rf_bo(rf_evaluate)"
   ]
  },
  {
   "cell_type": "code",
   "execution_count": null,
   "metadata": {
    "collapsed": false,
    "deletable": true,
    "editable": true
   },
   "outputs": [],
   "source": [
    "# Choose the best params from BO results then predict \n",
    "best_estimators = \n",
    "best_max_depth = \n",
    "best_max_features = \n",
    "best_rfc = RandomForestClassifier(n_jobs = 4, n_estimators=best_estimators, oob_score=False,\n",
    "                                max_depth = best_max_depth, max_features = best_max_features)\n",
    "\n",
    "best_rfc.fit(train, train_labels)\n",
    "\n",
    "# use the best params to predict\n",
    "rfc_true, rfc_pred = test_labels, best_rfc.predict(test)\n",
    "rfc_pred"
   ]
  },
  {
   "cell_type": "code",
   "execution_count": null,
   "metadata": {
    "collapsed": false
   },
   "outputs": [],
   "source": [
    "def result_table(y_true, y_pred):\n",
    "    rslt = y_true  == y_pred\n",
    "\n",
    "    test_data_df = pd.DataFrame()\n",
    "    test_data_df.insert(0,'actual',y_true)\n",
    "    test_data_df.insert(1,'predictions',y_pred)\n",
    "    test_data_df.insert(2,'results',rslt)\n",
    "    \n",
    "    return test_data_df"
   ]
  },
  {
   "cell_type": "code",
   "execution_count": null,
   "metadata": {
    "collapsed": false,
    "deletable": true,
    "editable": true
   },
   "outputs": [],
   "source": [
    "\n",
    "test_data_df = fns.result_table(rfc_true, rfc_pred)\n",
    "test_data_df"
   ]
  },
  {
   "cell_type": "markdown",
   "metadata": {
    "collapsed": false,
    "deletable": true,
    "editable": true
   },
   "source": [
    "================================================================================================================\n",
    "\n",
    "# PCA\n",
    "\n",
    "================================================================================================================"
   ]
  },
  {
   "cell_type": "code",
   "execution_count": 67,
   "metadata": {
    "collapsed": false
   },
   "outputs": [],
   "source": [
    "## Get 15 principal components\n",
    "pca = PCA(n_components=15)\n",
    "pca.fit(train)\n",
    "pca_transformed = pca.transform(train)\n",
    "\n",
    "pca_transformed_test = pca.transform(test)"
   ]
  },
  {
   "cell_type": "code",
   "execution_count": 52,
   "metadata": {
    "collapsed": false
   },
   "outputs": [
    {
     "data": {
      "text/plain": [
       "0.9647590224311009"
      ]
     },
     "execution_count": 52,
     "metadata": {},
     "output_type": "execute_result"
    },
    {
     "data": {
      "image/png": "[encoded data removed]",
      "text/plain": [
       "<matplotlib.figure.Figure at 0x7f23427505d0>"
      ]
     },
     "metadata": {},
     "output_type": "display_data"
    }
   ],
   "source": [
    "plt.plot(pca.explained_variance_ratio_)\n",
    "plt.title(\"Scree Plot: 10 Principal Components\")\n",
    "plt.xlabel(\"Number of Components\")\n",
    "plt.ylabel(\"% of Explained Variance\")\n",
    "sum(pca.explained_variance_ratio_)"
   ]
  },
  {
   "cell_type": "markdown",
   "metadata": {},
   "source": [
    "======================================================================================================\n",
    "\n",
    "# Random Forest + PCA\n",
    "\n",
    "======================================================================================================"
   ]
  },
  {
   "cell_type": "code",
   "execution_count": 53,
   "metadata": {
    "collapsed": true
   },
   "outputs": [],
   "source": [
    "# Run BO for pca of color histogram\n",
    "rf_bo(rf_pca_evaluate)"
   ]
  },
  {
   "cell_type": "code",
   "execution_count": 54,
   "metadata": {
    "collapsed": false
   },
   "outputs": [
    {
     "data": {
      "text/plain": [
       "(4042,)"
      ]
     },
     "execution_count": 54,
     "metadata": {},
     "output_type": "execute_result"
    }
   ],
   "source": [
    "# Choose the best params from BO results then predict \n",
    "best_pca_estimators = \n",
    "best_pca_max_depth = \n",
    "best_pca_max_features = \n",
    "best_pca_rfc = RandomForestClassifier(n_jobs = 4, n_estimators=best_pca_estimators, oob_score=False,\n",
    "                                max_depth = best_pca_max_depth, max_features = best_pca_max_features)\n",
    "\n",
    "best_pca_rfc.fit(pca_transformed, train_labels)\n",
    "\n",
    "# use the best params to predict\n",
    "rfc_pac_true, rfc_pca_pred = test_labels, best_pca_rfc.predict(pca_transformed_test)\n",
    "rfc_pca_pred"
   ]
  },
  {
   "cell_type": "code",
   "execution_count": 66,
   "metadata": {
    "collapsed": false
   },
   "outputs": [
    {
     "data": {
      "text/plain": [
       "0.92726373082632363"
      ]
     },
     "execution_count": 66,
     "metadata": {},
     "output_type": "execute_result"
    }
   ],
   "source": [
    "# accuracy of training dataset\n",
    "best_pca_rfc.score(pca_transformed, train_labels)"
   ]
  },
  {
   "cell_type": "code",
   "execution_count": 68,
   "metadata": {
    "collapsed": false
   },
   "outputs": [
    {
     "data": {
      "text/plain": [
       "0.70524233432245298"
      ]
     },
     "execution_count": 68,
     "metadata": {},
     "output_type": "execute_result"
    }
   ],
   "source": [
    "# accuracy of testing dataset\n",
    "best_pca_rfc.score(pca_transformed_test, test_labels)"
   ]
  },
  {
   "cell_type": "code",
   "execution_count": null,
   "metadata": {
    "collapsed": true
   },
   "outputs": [],
   "source": [
    "test_data_df = result_table(rfc_true, rfc_pred)\n",
    "test_data_df"
   ]
  }
 ],
 "metadata": {
  "anaconda-cloud": {},
  "kernelspec": {
   "display_name": "Python [default]",
   "language": "python",
   "name": "python2"
  },
  "language_info": {
   "codemirror_mode": {
    "name": "ipython",
    "version": 2
   },
   "file_extension": ".py",
   "mimetype": "text/x-python",
   "name": "python",
   "nbconvert_exporter": "python",
   "pygments_lexer": "ipython2",
   "version": "2.7.12"
  }
 },
 "nbformat": 4,
 "nbformat_minor": 0
}
