{
 "cells": [
  {
   "cell_type": "markdown",
   "metadata": {
    "deletable": true,
    "editable": true
   },
   "source": [
    "======================================================================================================\n",
    "\n",
    "# KNN & PCA\n",
    "\n",
    "======================================================================================================"
   ]
  },
  {
   "cell_type": "code",
   "execution_count": 1,
   "metadata": {
    "collapsed": false,
    "deletable": true,
    "editable": true
   },
   "outputs": [],
   "source": [
    "import warnings\n",
    "\n",
    "warnings.filterwarnings('ignore', category=DeprecationWarning)"
   ]
  },
  {
   "cell_type": "code",
   "execution_count": 2,
   "metadata": {
    "collapsed": false,
    "deletable": true,
    "editable": true
   },
   "outputs": [
    {
     "name": "stdout",
     "output_type": "stream",
     "text": [
      "athenaeum_authors_preview.csv\n",
      "athenaeum_painting_filtered.csv\n",
      "athenaeum_paintings.csv\n",
      "athenaeum_paintings_sizes.csv\n",
      "color_histograms.csv\n",
      "complete_data.csv\n",
      "images\n",
      "images_athenaeum\n",
      "images_sizes_2325.csv\n",
      "net_predicted.csv\n",
      "painter_info_clean.csv\n",
      "painting_info_clean.csv\n",
      "resized_200\n",
      "test_author200.csv\n",
      "test_data.csv\n",
      "test_hist_author_knn.csv\n",
      "test_hist_author_rf.csv\n",
      "train_author200.csv\n",
      "train_data.csv\n",
      "train_hist_author_knn.csv\n",
      "train_hist_author_rf.csv\n",
      "\n"
     ]
    }
   ],
   "source": [
    "import pandas as pd\n",
    "import numpy as np\n",
    "import os\n",
    "import re\n",
    "import random\n",
    "from matplotlib import pyplot as plt\n",
    "from sklearn.neighbors import KNeighborsClassifier\n",
    "from sklearn.model_selection import GridSearchCV\n",
    "from sklearn.model_selection import train_test_split\n",
    "from sklearn.decomposition import PCA\n",
    "# import sklearn.grid_search\n",
    "\n",
    "\n",
    "\n",
    "\n",
    "% matplotlib inline\n",
    "\n",
    "from subprocess import check_output\n",
    "print(check_output([\"ls\", \"data\"]).decode(\"utf-8\"))"
   ]
  },
  {
   "cell_type": "code",
   "execution_count": 6,
   "metadata": {
    "collapsed": false,
    "deletable": true,
    "editable": true
   },
   "outputs": [
    {
     "name": "stdout",
     "output_type": "stream",
     "text": [
      "[INFO] The size of train histogram for KNN(49890, 34)\n",
      "[INFO] The size of test histogram for KNN(12473, 34)\n"
     ]
    }
   ],
   "source": [
    "train_data = pd.read_csv(\"data/train_hist_author_knn.csv\")\n",
    "test_data = pd.read_csv(\"data/test_hist_author_knn.csv\")\n",
    "\n",
    "print \"[INFO] The size of train histogram for KNN\" + str(train_data.shape)\n",
    "print \"[INFO] The size of test histogram for KNN\" + str(test_data.shape)\n"
   ]
  },
  {
   "cell_type": "code",
   "execution_count": 7,
   "metadata": {
    "collapsed": false,
    "deletable": true,
    "editable": true
   },
   "outputs": [
    {
     "data": {
      "text/html": [
       "<div>\n",
       "<table border=\"1\" class=\"dataframe\">\n",
       "  <thead>\n",
       "    <tr style=\"text-align: right;\">\n",
       "      <th></th>\n",
       "      <th>author_id</th>\n",
       "      <th>painting_id</th>\n",
       "      <th>hist_01</th>\n",
       "      <th>hist_02</th>\n",
       "      <th>hist_03</th>\n",
       "      <th>hist_04</th>\n",
       "      <th>hist_05</th>\n",
       "      <th>hist_06</th>\n",
       "      <th>hist_07</th>\n",
       "      <th>hist_08</th>\n",
       "      <th>...</th>\n",
       "      <th>hist_23</th>\n",
       "      <th>hist_24</th>\n",
       "      <th>hist_25</th>\n",
       "      <th>hist_26</th>\n",
       "      <th>hist_27</th>\n",
       "      <th>hist_28</th>\n",
       "      <th>hist_29</th>\n",
       "      <th>hist_30</th>\n",
       "      <th>height_px</th>\n",
       "      <th>width_px</th>\n",
       "    </tr>\n",
       "  </thead>\n",
       "  <tbody>\n",
       "    <tr>\n",
       "      <th>0</th>\n",
       "      <td>444</td>\n",
       "      <td>11653</td>\n",
       "      <td>141479</td>\n",
       "      <td>107241</td>\n",
       "      <td>3576</td>\n",
       "      <td>1031</td>\n",
       "      <td>1010</td>\n",
       "      <td>3886</td>\n",
       "      <td>568</td>\n",
       "      <td>2650</td>\n",
       "      <td>...</td>\n",
       "      <td>144006</td>\n",
       "      <td>99116</td>\n",
       "      <td>46843</td>\n",
       "      <td>25371</td>\n",
       "      <td>63071</td>\n",
       "      <td>67621</td>\n",
       "      <td>69665</td>\n",
       "      <td>480656</td>\n",
       "      <td>0.188182</td>\n",
       "      <td>0.263858</td>\n",
       "    </tr>\n",
       "  </tbody>\n",
       "</table>\n",
       "<p>1 rows × 34 columns</p>\n",
       "</div>"
      ],
      "text/plain": [
       "   author_id  painting_id  hist_01  hist_02  hist_03  hist_04  hist_05  \\\n",
       "0        444        11653   141479   107241     3576     1031     1010   \n",
       "\n",
       "   hist_06  hist_07  hist_08    ...     hist_23  hist_24  hist_25  hist_26  \\\n",
       "0     3886      568     2650    ...      144006    99116    46843    25371   \n",
       "\n",
       "   hist_27  hist_28  hist_29  hist_30  height_px  width_px  \n",
       "0    63071    67621    69665   480656   0.188182  0.263858  \n",
       "\n",
       "[1 rows x 34 columns]"
      ]
     },
     "execution_count": 7,
     "metadata": {},
     "output_type": "execute_result"
    }
   ],
   "source": [
    "train_data.head(1)"
   ]
  },
  {
   "cell_type": "code",
   "execution_count": 8,
   "metadata": {
    "collapsed": false,
    "deletable": true,
    "editable": true
   },
   "outputs": [
    {
     "name": "stdout",
     "output_type": "stream",
     "text": [
      "24      1369\n",
      "1793    1338\n",
      "368     1335\n",
      "Name: author_id, dtype: int64\n",
      "[trian above] ==================================================[test below]\n",
      "24      342\n",
      "1793    335\n",
      "368     334\n",
      "Name: author_id, dtype: int64\n"
     ]
    }
   ],
   "source": [
    "def get_top_author(data, num_author=3):\n",
    "    author_index = data.author_id.value_counts().index[:num_author]\n",
    "    data_new = data.loc[data['author_id'].isin(author_index)]\n",
    "    \n",
    "    return data_new\n",
    "\n",
    "train = get_top_author(train_data, 3)\n",
    "test = get_top_author(test_data, 3)\n",
    "\n",
    "print train.author_id.value_counts()\n",
    "print \"[trian above] \" + '=' * 50 + \"[test below]\"\n",
    "print test.author_id.value_counts()"
   ]
  },
  {
   "cell_type": "code",
   "execution_count": 9,
   "metadata": {
    "collapsed": false,
    "deletable": true,
    "editable": true
   },
   "outputs": [
    {
     "name": "stdout",
     "output_type": "stream",
     "text": [
      "24      1369\n",
      "1793    1338\n",
      "368     1335\n",
      "Name: author_id, dtype: int64\n"
     ]
    }
   ],
   "source": [
    "train_labels = train.author_id\n",
    "train = train.drop(['author_id', 'painting_id'], axis=1)\n",
    "\n",
    "print train_labels.value_counts()\n"
   ]
  },
  {
   "cell_type": "code",
   "execution_count": 10,
   "metadata": {
    "collapsed": false,
    "deletable": true,
    "editable": true
   },
   "outputs": [
    {
     "data": {
      "text/plain": [
       "24      342\n",
       "1793    335\n",
       "368     334\n",
       "Name: author_id, dtype: int64"
      ]
     },
     "execution_count": 10,
     "metadata": {},
     "output_type": "execute_result"
    }
   ],
   "source": [
    "test_labels = test.author_id\n",
    "test = test.drop(['author_id', 'painting_id'], axis=1)\n",
    "\n",
    "test_labels.value_counts()"
   ]
  },
  {
   "cell_type": "code",
   "execution_count": null,
   "metadata": {
    "collapsed": false,
    "deletable": true,
    "editable": true
   },
   "outputs": [],
   "source": []
  },
  {
   "cell_type": "code",
   "execution_count": null,
   "metadata": {
    "collapsed": false,
    "deletable": true,
    "editable": true
   },
   "outputs": [],
   "source": []
  },
  {
   "cell_type": "markdown",
   "metadata": {
    "deletable": true,
    "editable": true
   },
   "source": [
    "======================================================================================================\n",
    "\n",
    "# KNN \n",
    "\n",
    "======================================================================================================"
   ]
  },
  {
   "cell_type": "code",
   "execution_count": 54,
   "metadata": {
    "collapsed": false,
    "deletable": true,
    "editable": true
   },
   "outputs": [],
   "source": [
    "# random.seed(2017)\n",
    "\n",
    "# X_trian, X_val, y_train, y_val = train_test_split(train, train_labels, test_size = 0.5, random_state=0)\n",
    "\n",
    "# print \"Length of Validation Set:\" + str(len(y_val))\n",
    "# print \"Length of Train Set:\" + str(len(y_train))\n",
    "# print \"Ratio: \" + str(len(y_val) / float(len(y_train)))"
   ]
  },
  {
   "cell_type": "code",
   "execution_count": 55,
   "metadata": {
    "collapsed": false,
    "deletable": true,
    "editable": true
   },
   "outputs": [
    {
     "data": {
      "text/plain": [
       "64"
      ]
     },
     "execution_count": 55,
     "metadata": {},
     "output_type": "execute_result"
    }
   ],
   "source": [
    "import math\n",
    "\n",
    "int(math.ceil(math.sqrt(len(train))))\n"
   ]
  },
  {
   "cell_type": "code",
   "execution_count": 59,
   "metadata": {
    "collapsed": false,
    "deletable": true,
    "editable": true
   },
   "outputs": [
    {
     "data": {
      "text/plain": [
       "GridSearchCV(cv=6, error_score='raise',\n",
       "       estimator=KNeighborsClassifier(algorithm='auto', leaf_size=30, metric='minkowski',\n",
       "           metric_params=None, n_jobs=1, n_neighbors=5, p=2,\n",
       "           weights='uniform'),\n",
       "       fit_params={}, iid=True, n_jobs=4,\n",
       "       param_grid={'n_neighbors': [5, 10, 15, 20, 30, 40, 50, 70, 80, 90, 100, 150, 200, 210, 220, 224, 230], 'algorithm': ['auto', 'ball_tree', 'kd_tree', 'brute'], 'p': [1, 2, 9]},\n",
       "       pre_dispatch='2*n_jobs', refit=True, return_train_score=True,\n",
       "       scoring=None, verbose=0)"
      ]
     },
     "execution_count": 59,
     "metadata": {},
     "output_type": "execute_result"
    }
   ],
   "source": [
    "## Train the KNN model\n",
    "print \"Training KNN Model...\"\n",
    "\n",
    "# minkowski_distance\n",
    "k = [5, 10, 15, 20, 30, 40, 50, 70, 80, 90, 100, 150, 200, 210, 220, 224, 230]\n",
    "#k = [5, 20]\n",
    "parameters = {'n_neighbors': k, 'algorithm': ['auto', 'ball_tree', 'kd_tree', 'brute'],\n",
    "              'p': [1, 2, 9]\n",
    "              }\n",
    "knn = KNeighborsClassifier()\n",
    "clf = GridSearchCV(knn, parameters, cv=6, n_jobs=4)\n",
    "clf"
   ]
  },
  {
   "cell_type": "code",
   "execution_count": 60,
   "metadata": {
    "collapsed": false,
    "deletable": true,
    "editable": true
   },
   "outputs": [
    {
     "data": {
      "text/plain": [
       "GridSearchCV(cv=6, error_score='raise',\n",
       "       estimator=KNeighborsClassifier(algorithm='auto', leaf_size=30, metric='minkowski',\n",
       "           metric_params=None, n_jobs=1, n_neighbors=5, p=2,\n",
       "           weights='uniform'),\n",
       "       fit_params={}, iid=True, n_jobs=4,\n",
       "       param_grid={'n_neighbors': [5, 10, 15, 20, 30, 40, 50, 70, 80, 90, 100, 150, 200, 210, 220, 224, 230], 'algorithm': ['auto', 'ball_tree', 'kd_tree', 'brute'], 'p': [1, 2, 9]},\n",
       "       pre_dispatch='2*n_jobs', refit=True, return_train_score=True,\n",
       "       scoring=None, verbose=0)"
      ]
     },
     "execution_count": 60,
     "metadata": {},
     "output_type": "execute_result"
    }
   ],
   "source": [
    "clf.fit(train, train_labels)"
   ]
  },
  {
   "cell_type": "code",
   "execution_count": 63,
   "metadata": {
    "collapsed": false,
    "deletable": true,
    "editable": true,
    "scrolled": true
   },
   "outputs": [
    {
     "name": "stdout",
     "output_type": "stream",
     "text": [
      "Best parameters set found on development set:\n",
      "()\n",
      "{'n_neighbors': 15, 'algorithm': 'auto', 'p': 1}\n",
      "()\n",
      "Grid scores on development set:\n",
      "()\n",
      "0.645 (+/-0.053) for {'n_neighbors': 5, 'algorithm': 'auto', 'p': 1}\n",
      "0.643 (+/-0.038) for {'n_neighbors': 5, 'algorithm': 'auto', 'p': 2}\n",
      "0.624 (+/-0.040) for {'n_neighbors': 5, 'algorithm': 'auto', 'p': 9}\n",
      "0.670 (+/-0.035) for {'n_neighbors': 10, 'algorithm': 'auto', 'p': 1}\n",
      "0.664 (+/-0.037) for {'n_neighbors': 10, 'algorithm': 'auto', 'p': 2}\n",
      "0.648 (+/-0.038) for {'n_neighbors': 10, 'algorithm': 'auto', 'p': 9}\n",
      "0.674 (+/-0.044) for {'n_neighbors': 15, 'algorithm': 'auto', 'p': 1}\n",
      "0.663 (+/-0.018) for {'n_neighbors': 15, 'algorithm': 'auto', 'p': 2}\n",
      "0.650 (+/-0.023) for {'n_neighbors': 15, 'algorithm': 'auto', 'p': 9}\n",
      "0.673 (+/-0.037) for {'n_neighbors': 20, 'algorithm': 'auto', 'p': 1}\n",
      "0.671 (+/-0.032) for {'n_neighbors': 20, 'algorithm': 'auto', 'p': 2}\n",
      "0.654 (+/-0.022) for {'n_neighbors': 20, 'algorithm': 'auto', 'p': 9}\n",
      "0.661 (+/-0.043) for {'n_neighbors': 30, 'algorithm': 'auto', 'p': 1}\n",
      "0.662 (+/-0.025) for {'n_neighbors': 30, 'algorithm': 'auto', 'p': 2}\n",
      "0.647 (+/-0.031) for {'n_neighbors': 30, 'algorithm': 'auto', 'p': 9}\n",
      "0.662 (+/-0.036) for {'n_neighbors': 40, 'algorithm': 'auto', 'p': 1}\n",
      "0.656 (+/-0.028) for {'n_neighbors': 40, 'algorithm': 'auto', 'p': 2}\n",
      "0.640 (+/-0.027) for {'n_neighbors': 40, 'algorithm': 'auto', 'p': 9}\n",
      "0.657 (+/-0.039) for {'n_neighbors': 50, 'algorithm': 'auto', 'p': 1}\n",
      "0.652 (+/-0.028) for {'n_neighbors': 50, 'algorithm': 'auto', 'p': 2}\n",
      "0.636 (+/-0.025) for {'n_neighbors': 50, 'algorithm': 'auto', 'p': 9}\n",
      "0.653 (+/-0.038) for {'n_neighbors': 70, 'algorithm': 'auto', 'p': 1}\n",
      "0.650 (+/-0.030) for {'n_neighbors': 70, 'algorithm': 'auto', 'p': 2}\n",
      "0.632 (+/-0.028) for {'n_neighbors': 70, 'algorithm': 'auto', 'p': 9}\n",
      "0.645 (+/-0.034) for {'n_neighbors': 80, 'algorithm': 'auto', 'p': 1}\n",
      "0.644 (+/-0.030) for {'n_neighbors': 80, 'algorithm': 'auto', 'p': 2}\n",
      "0.627 (+/-0.024) for {'n_neighbors': 80, 'algorithm': 'auto', 'p': 9}\n",
      "0.644 (+/-0.035) for {'n_neighbors': 90, 'algorithm': 'auto', 'p': 1}\n",
      "0.643 (+/-0.022) for {'n_neighbors': 90, 'algorithm': 'auto', 'p': 2}\n",
      "0.625 (+/-0.023) for {'n_neighbors': 90, 'algorithm': 'auto', 'p': 9}\n",
      "0.640 (+/-0.030) for {'n_neighbors': 100, 'algorithm': 'auto', 'p': 1}\n",
      "0.639 (+/-0.023) for {'n_neighbors': 100, 'algorithm': 'auto', 'p': 2}\n",
      "0.624 (+/-0.020) for {'n_neighbors': 100, 'algorithm': 'auto', 'p': 9}\n",
      "0.631 (+/-0.037) for {'n_neighbors': 150, 'algorithm': 'auto', 'p': 1}\n",
      "0.623 (+/-0.021) for {'n_neighbors': 150, 'algorithm': 'auto', 'p': 2}\n",
      "0.618 (+/-0.027) for {'n_neighbors': 150, 'algorithm': 'auto', 'p': 9}\n",
      "0.621 (+/-0.037) for {'n_neighbors': 200, 'algorithm': 'auto', 'p': 1}\n",
      "0.618 (+/-0.027) for {'n_neighbors': 200, 'algorithm': 'auto', 'p': 2}\n",
      "0.612 (+/-0.020) for {'n_neighbors': 200, 'algorithm': 'auto', 'p': 9}\n",
      "0.620 (+/-0.039) for {'n_neighbors': 210, 'algorithm': 'auto', 'p': 1}\n",
      "0.617 (+/-0.024) for {'n_neighbors': 210, 'algorithm': 'auto', 'p': 2}\n",
      "0.608 (+/-0.024) for {'n_neighbors': 210, 'algorithm': 'auto', 'p': 9}\n",
      "0.619 (+/-0.037) for {'n_neighbors': 220, 'algorithm': 'auto', 'p': 1}\n",
      "0.613 (+/-0.030) for {'n_neighbors': 220, 'algorithm': 'auto', 'p': 2}\n",
      "0.607 (+/-0.027) for {'n_neighbors': 220, 'algorithm': 'auto', 'p': 9}\n",
      "0.619 (+/-0.037) for {'n_neighbors': 224, 'algorithm': 'auto', 'p': 1}\n",
      "0.613 (+/-0.027) for {'n_neighbors': 224, 'algorithm': 'auto', 'p': 2}\n",
      "0.605 (+/-0.024) for {'n_neighbors': 224, 'algorithm': 'auto', 'p': 9}\n",
      "0.616 (+/-0.035) for {'n_neighbors': 230, 'algorithm': 'auto', 'p': 1}\n",
      "0.612 (+/-0.024) for {'n_neighbors': 230, 'algorithm': 'auto', 'p': 2}\n",
      "0.602 (+/-0.024) for {'n_neighbors': 230, 'algorithm': 'auto', 'p': 9}\n",
      "0.645 (+/-0.053) for {'n_neighbors': 5, 'algorithm': 'ball_tree', 'p': 1}\n",
      "0.643 (+/-0.038) for {'n_neighbors': 5, 'algorithm': 'ball_tree', 'p': 2}\n",
      "0.624 (+/-0.040) for {'n_neighbors': 5, 'algorithm': 'ball_tree', 'p': 9}\n",
      "0.670 (+/-0.035) for {'n_neighbors': 10, 'algorithm': 'ball_tree', 'p': 1}\n",
      "0.664 (+/-0.037) for {'n_neighbors': 10, 'algorithm': 'ball_tree', 'p': 2}\n",
      "0.648 (+/-0.038) for {'n_neighbors': 10, 'algorithm': 'ball_tree', 'p': 9}\n",
      "0.674 (+/-0.044) for {'n_neighbors': 15, 'algorithm': 'ball_tree', 'p': 1}\n",
      "0.663 (+/-0.018) for {'n_neighbors': 15, 'algorithm': 'ball_tree', 'p': 2}\n",
      "0.650 (+/-0.023) for {'n_neighbors': 15, 'algorithm': 'ball_tree', 'p': 9}\n",
      "0.673 (+/-0.037) for {'n_neighbors': 20, 'algorithm': 'ball_tree', 'p': 1}\n",
      "0.671 (+/-0.032) for {'n_neighbors': 20, 'algorithm': 'ball_tree', 'p': 2}\n",
      "0.654 (+/-0.022) for {'n_neighbors': 20, 'algorithm': 'ball_tree', 'p': 9}\n",
      "0.661 (+/-0.043) for {'n_neighbors': 30, 'algorithm': 'ball_tree', 'p': 1}\n",
      "0.662 (+/-0.025) for {'n_neighbors': 30, 'algorithm': 'ball_tree', 'p': 2}\n",
      "0.647 (+/-0.031) for {'n_neighbors': 30, 'algorithm': 'ball_tree', 'p': 9}\n",
      "0.662 (+/-0.036) for {'n_neighbors': 40, 'algorithm': 'ball_tree', 'p': 1}\n",
      "0.656 (+/-0.028) for {'n_neighbors': 40, 'algorithm': 'ball_tree', 'p': 2}\n",
      "0.640 (+/-0.027) for {'n_neighbors': 40, 'algorithm': 'ball_tree', 'p': 9}\n",
      "0.657 (+/-0.039) for {'n_neighbors': 50, 'algorithm': 'ball_tree', 'p': 1}\n",
      "0.652 (+/-0.028) for {'n_neighbors': 50, 'algorithm': 'ball_tree', 'p': 2}\n",
      "0.636 (+/-0.025) for {'n_neighbors': 50, 'algorithm': 'ball_tree', 'p': 9}\n",
      "0.653 (+/-0.038) for {'n_neighbors': 70, 'algorithm': 'ball_tree', 'p': 1}\n",
      "0.650 (+/-0.030) for {'n_neighbors': 70, 'algorithm': 'ball_tree', 'p': 2}\n",
      "0.632 (+/-0.028) for {'n_neighbors': 70, 'algorithm': 'ball_tree', 'p': 9}\n",
      "0.645 (+/-0.034) for {'n_neighbors': 80, 'algorithm': 'ball_tree', 'p': 1}\n",
      "0.644 (+/-0.030) for {'n_neighbors': 80, 'algorithm': 'ball_tree', 'p': 2}\n",
      "0.627 (+/-0.024) for {'n_neighbors': 80, 'algorithm': 'ball_tree', 'p': 9}\n",
      "0.644 (+/-0.035) for {'n_neighbors': 90, 'algorithm': 'ball_tree', 'p': 1}\n",
      "0.643 (+/-0.022) for {'n_neighbors': 90, 'algorithm': 'ball_tree', 'p': 2}\n",
      "0.625 (+/-0.023) for {'n_neighbors': 90, 'algorithm': 'ball_tree', 'p': 9}\n",
      "0.640 (+/-0.030) for {'n_neighbors': 100, 'algorithm': 'ball_tree', 'p': 1}\n",
      "0.639 (+/-0.023) for {'n_neighbors': 100, 'algorithm': 'ball_tree', 'p': 2}\n",
      "0.624 (+/-0.020) for {'n_neighbors': 100, 'algorithm': 'ball_tree', 'p': 9}\n",
      "0.631 (+/-0.037) for {'n_neighbors': 150, 'algorithm': 'ball_tree', 'p': 1}\n",
      "0.623 (+/-0.021) for {'n_neighbors': 150, 'algorithm': 'ball_tree', 'p': 2}\n",
      "0.618 (+/-0.027) for {'n_neighbors': 150, 'algorithm': 'ball_tree', 'p': 9}\n",
      "0.621 (+/-0.037) for {'n_neighbors': 200, 'algorithm': 'ball_tree', 'p': 1}\n",
      "0.618 (+/-0.027) for {'n_neighbors': 200, 'algorithm': 'ball_tree', 'p': 2}\n",
      "0.612 (+/-0.020) for {'n_neighbors': 200, 'algorithm': 'ball_tree', 'p': 9}\n",
      "0.620 (+/-0.039) for {'n_neighbors': 210, 'algorithm': 'ball_tree', 'p': 1}\n",
      "0.617 (+/-0.024) for {'n_neighbors': 210, 'algorithm': 'ball_tree', 'p': 2}\n",
      "0.608 (+/-0.024) for {'n_neighbors': 210, 'algorithm': 'ball_tree', 'p': 9}\n",
      "0.619 (+/-0.037) for {'n_neighbors': 220, 'algorithm': 'ball_tree', 'p': 1}\n",
      "0.613 (+/-0.030) for {'n_neighbors': 220, 'algorithm': 'ball_tree', 'p': 2}\n",
      "0.607 (+/-0.027) for {'n_neighbors': 220, 'algorithm': 'ball_tree', 'p': 9}\n",
      "0.619 (+/-0.037) for {'n_neighbors': 224, 'algorithm': 'ball_tree', 'p': 1}\n",
      "0.613 (+/-0.027) for {'n_neighbors': 224, 'algorithm': 'ball_tree', 'p': 2}\n",
      "0.605 (+/-0.024) for {'n_neighbors': 224, 'algorithm': 'ball_tree', 'p': 9}\n",
      "0.616 (+/-0.035) for {'n_neighbors': 230, 'algorithm': 'ball_tree', 'p': 1}\n",
      "0.612 (+/-0.024) for {'n_neighbors': 230, 'algorithm': 'ball_tree', 'p': 2}\n",
      "0.602 (+/-0.024) for {'n_neighbors': 230, 'algorithm': 'ball_tree', 'p': 9}\n",
      "0.645 (+/-0.053) for {'n_neighbors': 5, 'algorithm': 'kd_tree', 'p': 1}\n",
      "0.643 (+/-0.038) for {'n_neighbors': 5, 'algorithm': 'kd_tree', 'p': 2}\n",
      "0.624 (+/-0.040) for {'n_neighbors': 5, 'algorithm': 'kd_tree', 'p': 9}\n",
      "0.670 (+/-0.035) for {'n_neighbors': 10, 'algorithm': 'kd_tree', 'p': 1}\n",
      "0.664 (+/-0.037) for {'n_neighbors': 10, 'algorithm': 'kd_tree', 'p': 2}\n",
      "0.648 (+/-0.038) for {'n_neighbors': 10, 'algorithm': 'kd_tree', 'p': 9}\n",
      "0.674 (+/-0.044) for {'n_neighbors': 15, 'algorithm': 'kd_tree', 'p': 1}\n",
      "0.663 (+/-0.018) for {'n_neighbors': 15, 'algorithm': 'kd_tree', 'p': 2}\n",
      "0.650 (+/-0.023) for {'n_neighbors': 15, 'algorithm': 'kd_tree', 'p': 9}\n",
      "0.673 (+/-0.037) for {'n_neighbors': 20, 'algorithm': 'kd_tree', 'p': 1}\n",
      "0.671 (+/-0.032) for {'n_neighbors': 20, 'algorithm': 'kd_tree', 'p': 2}\n",
      "0.654 (+/-0.022) for {'n_neighbors': 20, 'algorithm': 'kd_tree', 'p': 9}\n",
      "0.661 (+/-0.043) for {'n_neighbors': 30, 'algorithm': 'kd_tree', 'p': 1}\n",
      "0.662 (+/-0.025) for {'n_neighbors': 30, 'algorithm': 'kd_tree', 'p': 2}\n",
      "0.647 (+/-0.031) for {'n_neighbors': 30, 'algorithm': 'kd_tree', 'p': 9}\n",
      "0.662 (+/-0.036) for {'n_neighbors': 40, 'algorithm': 'kd_tree', 'p': 1}\n",
      "0.656 (+/-0.028) for {'n_neighbors': 40, 'algorithm': 'kd_tree', 'p': 2}\n",
      "0.640 (+/-0.027) for {'n_neighbors': 40, 'algorithm': 'kd_tree', 'p': 9}\n",
      "0.657 (+/-0.039) for {'n_neighbors': 50, 'algorithm': 'kd_tree', 'p': 1}\n",
      "0.652 (+/-0.028) for {'n_neighbors': 50, 'algorithm': 'kd_tree', 'p': 2}\n",
      "0.636 (+/-0.025) for {'n_neighbors': 50, 'algorithm': 'kd_tree', 'p': 9}\n",
      "0.653 (+/-0.038) for {'n_neighbors': 70, 'algorithm': 'kd_tree', 'p': 1}\n",
      "0.650 (+/-0.030) for {'n_neighbors': 70, 'algorithm': 'kd_tree', 'p': 2}\n",
      "0.632 (+/-0.028) for {'n_neighbors': 70, 'algorithm': 'kd_tree', 'p': 9}\n",
      "0.645 (+/-0.034) for {'n_neighbors': 80, 'algorithm': 'kd_tree', 'p': 1}\n",
      "0.644 (+/-0.030) for {'n_neighbors': 80, 'algorithm': 'kd_tree', 'p': 2}\n",
      "0.627 (+/-0.024) for {'n_neighbors': 80, 'algorithm': 'kd_tree', 'p': 9}\n",
      "0.644 (+/-0.035) for {'n_neighbors': 90, 'algorithm': 'kd_tree', 'p': 1}\n",
      "0.643 (+/-0.022) for {'n_neighbors': 90, 'algorithm': 'kd_tree', 'p': 2}\n",
      "0.625 (+/-0.023) for {'n_neighbors': 90, 'algorithm': 'kd_tree', 'p': 9}\n",
      "0.640 (+/-0.030) for {'n_neighbors': 100, 'algorithm': 'kd_tree', 'p': 1}\n",
      "0.639 (+/-0.023) for {'n_neighbors': 100, 'algorithm': 'kd_tree', 'p': 2}\n",
      "0.624 (+/-0.020) for {'n_neighbors': 100, 'algorithm': 'kd_tree', 'p': 9}\n",
      "0.631 (+/-0.037) for {'n_neighbors': 150, 'algorithm': 'kd_tree', 'p': 1}\n",
      "0.623 (+/-0.021) for {'n_neighbors': 150, 'algorithm': 'kd_tree', 'p': 2}\n",
      "0.618 (+/-0.027) for {'n_neighbors': 150, 'algorithm': 'kd_tree', 'p': 9}\n",
      "0.621 (+/-0.037) for {'n_neighbors': 200, 'algorithm': 'kd_tree', 'p': 1}\n",
      "0.618 (+/-0.027) for {'n_neighbors': 200, 'algorithm': 'kd_tree', 'p': 2}\n",
      "0.612 (+/-0.020) for {'n_neighbors': 200, 'algorithm': 'kd_tree', 'p': 9}\n",
      "0.620 (+/-0.039) for {'n_neighbors': 210, 'algorithm': 'kd_tree', 'p': 1}\n",
      "0.617 (+/-0.024) for {'n_neighbors': 210, 'algorithm': 'kd_tree', 'p': 2}\n",
      "0.608 (+/-0.024) for {'n_neighbors': 210, 'algorithm': 'kd_tree', 'p': 9}\n",
      "0.619 (+/-0.037) for {'n_neighbors': 220, 'algorithm': 'kd_tree', 'p': 1}\n",
      "0.613 (+/-0.030) for {'n_neighbors': 220, 'algorithm': 'kd_tree', 'p': 2}\n",
      "0.607 (+/-0.027) for {'n_neighbors': 220, 'algorithm': 'kd_tree', 'p': 9}\n",
      "0.619 (+/-0.037) for {'n_neighbors': 224, 'algorithm': 'kd_tree', 'p': 1}\n",
      "0.613 (+/-0.027) for {'n_neighbors': 224, 'algorithm': 'kd_tree', 'p': 2}\n",
      "0.605 (+/-0.024) for {'n_neighbors': 224, 'algorithm': 'kd_tree', 'p': 9}\n",
      "0.616 (+/-0.035) for {'n_neighbors': 230, 'algorithm': 'kd_tree', 'p': 1}\n",
      "0.612 (+/-0.024) for {'n_neighbors': 230, 'algorithm': 'kd_tree', 'p': 2}\n",
      "0.602 (+/-0.024) for {'n_neighbors': 230, 'algorithm': 'kd_tree', 'p': 9}\n",
      "0.645 (+/-0.053) for {'n_neighbors': 5, 'algorithm': 'brute', 'p': 1}\n",
      "0.643 (+/-0.038) for {'n_neighbors': 5, 'algorithm': 'brute', 'p': 2}\n",
      "0.624 (+/-0.040) for {'n_neighbors': 5, 'algorithm': 'brute', 'p': 9}\n",
      "0.670 (+/-0.035) for {'n_neighbors': 10, 'algorithm': 'brute', 'p': 1}\n",
      "0.664 (+/-0.037) for {'n_neighbors': 10, 'algorithm': 'brute', 'p': 2}\n",
      "0.648 (+/-0.038) for {'n_neighbors': 10, 'algorithm': 'brute', 'p': 9}\n",
      "0.674 (+/-0.044) for {'n_neighbors': 15, 'algorithm': 'brute', 'p': 1}\n",
      "0.663 (+/-0.018) for {'n_neighbors': 15, 'algorithm': 'brute', 'p': 2}\n",
      "0.650 (+/-0.023) for {'n_neighbors': 15, 'algorithm': 'brute', 'p': 9}\n",
      "0.673 (+/-0.037) for {'n_neighbors': 20, 'algorithm': 'brute', 'p': 1}\n",
      "0.671 (+/-0.032) for {'n_neighbors': 20, 'algorithm': 'brute', 'p': 2}\n",
      "0.654 (+/-0.022) for {'n_neighbors': 20, 'algorithm': 'brute', 'p': 9}\n",
      "0.661 (+/-0.043) for {'n_neighbors': 30, 'algorithm': 'brute', 'p': 1}\n",
      "0.662 (+/-0.025) for {'n_neighbors': 30, 'algorithm': 'brute', 'p': 2}\n",
      "0.647 (+/-0.031) for {'n_neighbors': 30, 'algorithm': 'brute', 'p': 9}\n",
      "0.662 (+/-0.036) for {'n_neighbors': 40, 'algorithm': 'brute', 'p': 1}\n",
      "0.656 (+/-0.028) for {'n_neighbors': 40, 'algorithm': 'brute', 'p': 2}\n",
      "0.640 (+/-0.027) for {'n_neighbors': 40, 'algorithm': 'brute', 'p': 9}\n",
      "0.657 (+/-0.039) for {'n_neighbors': 50, 'algorithm': 'brute', 'p': 1}\n",
      "0.652 (+/-0.028) for {'n_neighbors': 50, 'algorithm': 'brute', 'p': 2}\n",
      "0.636 (+/-0.025) for {'n_neighbors': 50, 'algorithm': 'brute', 'p': 9}\n",
      "0.653 (+/-0.038) for {'n_neighbors': 70, 'algorithm': 'brute', 'p': 1}\n",
      "0.650 (+/-0.030) for {'n_neighbors': 70, 'algorithm': 'brute', 'p': 2}\n",
      "0.632 (+/-0.028) for {'n_neighbors': 70, 'algorithm': 'brute', 'p': 9}\n",
      "0.645 (+/-0.034) for {'n_neighbors': 80, 'algorithm': 'brute', 'p': 1}\n",
      "0.644 (+/-0.030) for {'n_neighbors': 80, 'algorithm': 'brute', 'p': 2}\n",
      "0.627 (+/-0.024) for {'n_neighbors': 80, 'algorithm': 'brute', 'p': 9}\n",
      "0.644 (+/-0.035) for {'n_neighbors': 90, 'algorithm': 'brute', 'p': 1}\n",
      "0.643 (+/-0.022) for {'n_neighbors': 90, 'algorithm': 'brute', 'p': 2}\n",
      "0.625 (+/-0.023) for {'n_neighbors': 90, 'algorithm': 'brute', 'p': 9}\n",
      "0.640 (+/-0.030) for {'n_neighbors': 100, 'algorithm': 'brute', 'p': 1}\n",
      "0.639 (+/-0.023) for {'n_neighbors': 100, 'algorithm': 'brute', 'p': 2}\n",
      "0.624 (+/-0.020) for {'n_neighbors': 100, 'algorithm': 'brute', 'p': 9}\n",
      "0.631 (+/-0.037) for {'n_neighbors': 150, 'algorithm': 'brute', 'p': 1}\n",
      "0.623 (+/-0.021) for {'n_neighbors': 150, 'algorithm': 'brute', 'p': 2}\n",
      "0.618 (+/-0.027) for {'n_neighbors': 150, 'algorithm': 'brute', 'p': 9}\n",
      "0.621 (+/-0.037) for {'n_neighbors': 200, 'algorithm': 'brute', 'p': 1}\n",
      "0.618 (+/-0.027) for {'n_neighbors': 200, 'algorithm': 'brute', 'p': 2}\n",
      "0.612 (+/-0.020) for {'n_neighbors': 200, 'algorithm': 'brute', 'p': 9}\n",
      "0.620 (+/-0.039) for {'n_neighbors': 210, 'algorithm': 'brute', 'p': 1}\n",
      "0.617 (+/-0.024) for {'n_neighbors': 210, 'algorithm': 'brute', 'p': 2}\n",
      "0.608 (+/-0.024) for {'n_neighbors': 210, 'algorithm': 'brute', 'p': 9}\n",
      "0.619 (+/-0.037) for {'n_neighbors': 220, 'algorithm': 'brute', 'p': 1}\n",
      "0.613 (+/-0.030) for {'n_neighbors': 220, 'algorithm': 'brute', 'p': 2}\n",
      "0.607 (+/-0.027) for {'n_neighbors': 220, 'algorithm': 'brute', 'p': 9}\n",
      "0.619 (+/-0.037) for {'n_neighbors': 224, 'algorithm': 'brute', 'p': 1}\n",
      "0.613 (+/-0.027) for {'n_neighbors': 224, 'algorithm': 'brute', 'p': 2}\n",
      "0.605 (+/-0.024) for {'n_neighbors': 224, 'algorithm': 'brute', 'p': 9}\n",
      "0.616 (+/-0.035) for {'n_neighbors': 230, 'algorithm': 'brute', 'p': 1}\n",
      "0.612 (+/-0.024) for {'n_neighbors': 230, 'algorithm': 'brute', 'p': 2}\n",
      "0.602 (+/-0.024) for {'n_neighbors': 230, 'algorithm': 'brute', 'p': 9}\n",
      "()\n",
      "Detailed classification report:\n",
      "()\n",
      "The model is trained on the full development set.\n",
      "The scores are computed on the full evaluation set.\n",
      "()\n",
      "             precision    recall  f1-score   support\n",
      "\n",
      "         24       0.69      0.76      0.72       342\n",
      "        368       0.65      0.66      0.65       334\n",
      "       1793       0.72      0.64      0.68       335\n",
      "\n",
      "avg / total       0.68      0.68      0.68      1011\n",
      "\n",
      "()\n"
     ]
    }
   ],
   "source": [
    "from sklearn.metrics import classification_report\n",
    "\n",
    "print(\"Best parameters set found on development set:\")\n",
    "print()\n",
    "print(clf.best_params_)\n",
    "print()\n",
    "print(\"Grid scores on development set:\")\n",
    "print()\n",
    "means = clf.cv_results_['mean_test_score']\n",
    "stds = clf.cv_results_['std_test_score']\n",
    "for mean, std, params in zip(means, stds, clf.cv_results_['params']):\n",
    "    print(\"%0.3f (+/-%0.03f) for %r\"\n",
    "          % (mean, std * 2, params))\n",
    "print()\n",
    "\n",
    "print(\"Detailed classification report:\")\n",
    "print()\n",
    "print(\"The model is trained on the full development set.\")\n",
    "print(\"The scores are computed on the full evaluation set.\")\n",
    "print()\n",
    "y_true, y_pred = test_labels, clf.best_estimator_.predict(test)\n",
    "print(classification_report(y_true, y_pred))\n",
    "print()\n"
   ]
  },
  {
   "cell_type": "code",
   "execution_count": 64,
   "metadata": {
    "collapsed": false,
    "deletable": true,
    "editable": true
   },
   "outputs": [
    {
     "data": {
      "text/plain": [
       "array([  24, 1793, 1793, ..., 1793,   24,   24])"
      ]
     },
     "execution_count": 64,
     "metadata": {},
     "output_type": "execute_result"
    }
   ],
   "source": [
    "y_pred"
   ]
  },
  {
   "cell_type": "code",
   "execution_count": 65,
   "metadata": {
    "collapsed": false,
    "deletable": true,
    "editable": true
   },
   "outputs": [
    {
     "data": {
      "text/plain": [
       "0.31651829871414439"
      ]
     },
     "execution_count": 65,
     "metadata": {},
     "output_type": "execute_result"
    }
   ],
   "source": [
    "\n",
    "results = pd.DataFrame()\n",
    "\n",
    "results.insert(0,'actual',test_labels)\n",
    "results.insert(1,'predictions',y_pred)\n",
    "\n",
    "misclassified = (results['actual'] != results['predictions']).mean()\n",
    "misclassified"
   ]
  },
  {
   "cell_type": "code",
   "execution_count": 16,
   "metadata": {
    "collapsed": false,
    "deletable": true,
    "editable": true
   },
   "outputs": [
    {
     "data": {
      "text/plain": [
       "152"
      ]
     },
     "execution_count": 16,
     "metadata": {},
     "output_type": "execute_result"
    }
   ],
   "source": [
    "## Give me the 5 nearest neighbors of the first two items in the validation set\n",
    "pd.concat((test_labels.iloc[:5].reset_index(drop = True), \n",
    "           pd.DataFrame(clf.kneighbors(test[0:5], n_neighbors=3, return_distance=False)).\n",
    "        applymap(lambda x: fn_train.iloc[x])), axis = 1)"
   ]
  },
  {
   "cell_type": "code",
   "execution_count": 68,
   "metadata": {
    "collapsed": false,
    "deletable": true,
    "editable": true
   },
   "outputs": [
    {
     "name": "stdout",
     "output_type": "stream",
     "text": [
      "Accuracy of the Model:0.683481701286\n",
      "Accuracy of the Model on training set:0.718951014349\n"
     ]
    }
   ],
   "source": [
    "# accuracy for the test set\n",
    "print \"Accuracy of the Model:\" + str(clf.score(test,test_labels))\n",
    "\n",
    "# accuracy for the train set\n",
    "print \"Accuracy of the Model on training set:\" + str(clf.score(train,train_labels))\n"
   ]
  },
  {
   "cell_type": "code",
   "execution_count": 69,
   "metadata": {
    "collapsed": false,
    "deletable": true,
    "editable": true
   },
   "outputs": [],
   "source": [
    "def result_table(y_true, y_pred):\n",
    "    rslt = y_true  == y_pred\n",
    "\n",
    "    test_data_df = pd.DataFrame()\n",
    "    test_data_df.insert(0,'actual',y_true)\n",
    "    test_data_df.insert(1,'predictions',y_pred)\n",
    "    test_data_df.insert(2,'results',rslt)\n",
    "    \n",
    "    return test_data_df\n",
    "\n",
    "test_data_df = result_table(y_true, y_pred)"
   ]
  },
  {
   "cell_type": "code",
   "execution_count": null,
   "metadata": {
    "collapsed": false,
    "deletable": true,
    "editable": true
   },
   "outputs": [],
   "source": []
  },
  {
   "cell_type": "code",
   "execution_count": null,
   "metadata": {
    "collapsed": false,
    "deletable": true,
    "editable": true
   },
   "outputs": [],
   "source": [
    "# get neighbors \n",
    "prediction_nearest_neighbors = pd.DataFrame(clf.kneighbors(test, n_neighbors=107, return_distance=False))\n",
    "prediction_nearest_neighbors"
   ]
  },
  {
   "cell_type": "code",
   "execution_count": null,
   "metadata": {
    "collapsed": false,
    "deletable": true,
    "editable": true
   },
   "outputs": [],
   "source": [
    "nearest_neighbors = list(model.kneighbors(test_data_img[5], n_neighbors=31, return_distance=False)[0])\n",
    "NN_images = [y_train.iloc[x] for x in nearest_neighbors]\n",
    "[ (i,NN_images.count(i)) for i in set(NN_images) ]"
   ]
  },
  {
   "cell_type": "markdown",
   "metadata": {
    "deletable": true,
    "editable": true
   },
   "source": [
    "======================================================================================================\n",
    "\n",
    "# PCA\n",
    "\n",
    "======================================================================================================"
   ]
  },
  {
   "cell_type": "code",
   "execution_count": 70,
   "metadata": {
    "collapsed": false,
    "deletable": true,
    "editable": true
   },
   "outputs": [],
   "source": [
    "## Get 10 principal components\n",
    "pca = PCA(n_components=15)\n",
    "pca.fit(train)\n",
    "pca_transformed = pca.transform(train)"
   ]
  },
  {
   "cell_type": "code",
   "execution_count": 71,
   "metadata": {
    "collapsed": false,
    "deletable": true,
    "editable": true
   },
   "outputs": [
    {
     "data": {
      "text/plain": [
       "0.97650450836418023"
      ]
     },
     "execution_count": 71,
     "metadata": {},
     "output_type": "execute_result"
    },
    {
     "data": {
      "image/png": "[encoded data removed]",
      "text/plain": [
       "<matplotlib.figure.Figure at 0x7fab19b8c6d0>"
      ]
     },
     "metadata": {},
     "output_type": "display_data"
    }
   ],
   "source": [
    "plt.plot(pca.explained_variance_ratio_)\n",
    "plt.title(\"Scree Plot: 10 Principal Components\")\n",
    "plt.xlabel(\"Number of Components\")\n",
    "plt.ylabel(\"% of Explained Variance\")\n",
    "sum(pca.explained_variance_ratio_)"
   ]
  },
  {
   "cell_type": "markdown",
   "metadata": {
    "deletable": true,
    "editable": true
   },
   "source": [
    "======================================================================================================\n",
    "\n",
    "# KNN + PCA\n",
    "\n",
    "======================================================================================================"
   ]
  },
  {
   "cell_type": "code",
   "execution_count": 74,
   "metadata": {
    "collapsed": false,
    "deletable": true,
    "editable": true
   },
   "outputs": [
    {
     "name": "stdout",
     "output_type": "stream",
     "text": [
      "Training KNN Model...\n"
     ]
    },
    {
     "data": {
      "text/plain": [
       "GridSearchCV(cv=6, error_score='raise',\n",
       "       estimator=KNeighborsClassifier(algorithm='auto', leaf_size=30, metric='minkowski',\n",
       "           metric_params=None, n_jobs=1, n_neighbors=5, p=2,\n",
       "           weights='uniform'),\n",
       "       fit_params={}, iid=True, n_jobs=4,\n",
       "       param_grid={'n_neighbors': [2, 3, 4, 5, 10, 15, 20], 'algorithm': ['auto', 'ball_tree', 'kd_tree', 'brute'], 'p': [1, 2, 9]},\n",
       "       pre_dispatch='2*n_jobs', refit=True, return_train_score=True,\n",
       "       scoring=None, verbose=0)"
      ]
     },
     "execution_count": 74,
     "metadata": {},
     "output_type": "execute_result"
    }
   ],
   "source": [
    "## Train the KNN model\n",
    "print \"Training KNN Model...\"\n",
    "\n",
    "# minkowski_distance\n",
    "k = [2, 3, 4, 5, 10, 15, 20]\n",
    "#k = [5, 20]\n",
    "parameters = {'n_neighbors': k, 'algorithm': ['auto', 'ball_tree', 'kd_tree', 'brute'],\n",
    "              'p': [1, 2, 9]\n",
    "              }\n",
    "knn_pca = KNeighborsClassifier()\n",
    "clf_pca = GridSearchCV(knn_pca, parameters, cv=6, n_jobs=4)\n",
    "clf_pca"
   ]
  },
  {
   "cell_type": "code",
   "execution_count": 75,
   "metadata": {
    "collapsed": false,
    "deletable": true,
    "editable": true
   },
   "outputs": [
    {
     "data": {
      "text/plain": [
       "GridSearchCV(cv=6, error_score='raise',\n",
       "       estimator=KNeighborsClassifier(algorithm='auto', leaf_size=30, metric='minkowski',\n",
       "           metric_params=None, n_jobs=1, n_neighbors=5, p=2,\n",
       "           weights='uniform'),\n",
       "       fit_params={}, iid=True, n_jobs=4,\n",
       "       param_grid={'n_neighbors': [2, 3, 4, 5, 10, 15, 20], 'algorithm': ['auto', 'ball_tree', 'kd_tree', 'brute'], 'p': [1, 2, 9]},\n",
       "       pre_dispatch='2*n_jobs', refit=True, return_train_score=True,\n",
       "       scoring=None, verbose=0)"
      ]
     },
     "execution_count": 75,
     "metadata": {},
     "output_type": "execute_result"
    }
   ],
   "source": [
    "clf_pca.fit(pca_transformed, train_labels)"
   ]
  },
  {
   "cell_type": "code",
   "execution_count": 62,
   "metadata": {
    "collapsed": false,
    "deletable": true,
    "editable": true
   },
   "outputs": [
    {
     "name": "stdout",
     "output_type": "stream",
     "text": [
      "Best parameters set found on development set:\n",
      "()\n"
     ]
    },
    {
     "ename": "NameError",
     "evalue": "name 'clf_pca' is not defined",
     "output_type": "error",
     "traceback": [
      "\u001b[0;31m---------------------------------------------------------------------------\u001b[0m\n\u001b[0;31mNameError\u001b[0m                                 Traceback (most recent call last)",
      "\u001b[0;32m<ipython-input-62-e8a424a90098>\u001b[0m in \u001b[0;36m<module>\u001b[0;34m()\u001b[0m\n\u001b[1;32m      3\u001b[0m \u001b[0;32mprint\u001b[0m\u001b[0;34m(\u001b[0m\u001b[0;34m\"Best parameters set found on development set:\"\u001b[0m\u001b[0;34m)\u001b[0m\u001b[0;34m\u001b[0m\u001b[0m\n\u001b[1;32m      4\u001b[0m \u001b[0;32mprint\u001b[0m\u001b[0;34m(\u001b[0m\u001b[0;34m)\u001b[0m\u001b[0;34m\u001b[0m\u001b[0m\n\u001b[0;32m----> 5\u001b[0;31m \u001b[0;32mprint\u001b[0m\u001b[0;34m(\u001b[0m\u001b[0mclf_pca\u001b[0m\u001b[0;34m.\u001b[0m\u001b[0mbest_params_\u001b[0m\u001b[0;34m)\u001b[0m\u001b[0;34m\u001b[0m\u001b[0m\n\u001b[0m\u001b[1;32m      6\u001b[0m \u001b[0;32mprint\u001b[0m\u001b[0;34m(\u001b[0m\u001b[0;34m)\u001b[0m\u001b[0;34m\u001b[0m\u001b[0m\n\u001b[1;32m      7\u001b[0m \u001b[0;32mprint\u001b[0m\u001b[0;34m(\u001b[0m\u001b[0;34m\"Grid scores on development set:\"\u001b[0m\u001b[0;34m)\u001b[0m\u001b[0;34m\u001b[0m\u001b[0m\n",
      "\u001b[0;31mNameError\u001b[0m: name 'clf_pca' is not defined"
     ]
    }
   ],
   "source": [
    "from sklearn.metrics import classification_report\n",
    "\n",
    "print(\"Best parameters set found on development set:\")\n",
    "print()\n",
    "print(clf_pca.best_params_)\n",
    "print()\n",
    "print(\"Grid scores on development set:\")\n",
    "print()\n",
    "means = clf_pca.cv_results_['mean_test_score']\n",
    "stds = clf_pca.cv_results_['std_test_score']\n",
    "for mean, std, params in zip(means, stds, clf_pca.cv_results_['params']):\n",
    "    print(\"%0.3f (+/-%0.03f) for %r\"\n",
    "          % (mean, std * 2, params))\n",
    "print()\n",
    "\n",
    "print(\"Detailed classification report:\")\n",
    "print()\n",
    "print(\"The model is trained on the full development set.\")\n",
    "print(\"The scores are computed on the full evaluation set.\")\n",
    "print()\n",
    "y_pca_true, y_pca_pred = test_labels, clf_pca.best_estimator_.predict(test)\n",
    "print(classification_report(y_true, y_pred))\n",
    "print()\n"
   ]
  },
  {
   "cell_type": "code",
   "execution_count": 80,
   "metadata": {
    "collapsed": false,
    "deletable": true,
    "editable": true
   },
   "outputs": [
    {
     "name": "stdout",
     "output_type": "stream",
     "text": [
      "Accuracy of the Model:0.683481701286\n",
      "Accuracy of the Model on training set:0.718951014349\n"
     ]
    }
   ],
   "source": [
    "# accuracy for the test set\n",
    "print \"Accuracy of the Model:\" + str(clf.score(test,test_labels))\n",
    "\n",
    "# accuracy for the train set\n",
    "print \"Accuracy of the Model on training set:\" + str(clf.score(train,train_labels))\n"
   ]
  },
  {
   "cell_type": "code",
   "execution_count": null,
   "metadata": {
    "collapsed": false,
    "deletable": true,
    "editable": true
   },
   "outputs": [],
   "source": [
    "test_data_pca_df = result_table(y_pca_true, y_pca_pred)"
   ]
  },
  {
   "cell_type": "code",
   "execution_count": null,
   "metadata": {
    "collapsed": false,
    "deletable": true,
    "editable": true
   },
   "outputs": [],
   "source": []
  },
  {
   "cell_type": "code",
   "execution_count": null,
   "metadata": {
    "collapsed": false,
    "deletable": true,
    "editable": true
   },
   "outputs": [],
   "source": []
  },
  {
   "cell_type": "markdown",
   "metadata": {
    "deletable": true,
    "editable": true
   },
   "source": []
  },
  {
   "cell_type": "code",
   "execution_count": 11,
   "metadata": {
    "collapsed": false,
    "deletable": true,
    "editable": true
   },
   "outputs": [],
   "source": []
  },
  {
   "cell_type": "code",
   "execution_count": null,
   "metadata": {
    "collapsed": false,
    "deletable": true,
    "editable": true
   },
   "outputs": [],
   "source": []
  }
 ],
 "metadata": {
  "kernelspec": {
   "display_name": "Python 2",
   "language": "python",
   "name": "python2"
  },
  "language_info": {
   "codemirror_mode": {
    "name": "ipython",
    "version": 2
   },
   "file_extension": ".py",
   "mimetype": "text/x-python",
   "name": "python",
   "nbconvert_exporter": "python",
   "pygments_lexer": "ipython2",
   "version": "2.7.9"
  }
 },
 "nbformat": 4,
 "nbformat_minor": 0
}
