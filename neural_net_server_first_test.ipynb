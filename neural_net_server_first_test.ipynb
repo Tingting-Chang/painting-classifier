{
 "metadata": {
  "name": "",
  "signature": "sha256:d94c4a752c48553d1c81f4da4c23dd74b91827abd1a83c2cbe36e008f10bd27d"
 },
 "nbformat": 3,
 "nbformat_minor": 0,
 "worksheets": [
  {
   "cells": [
    {
     "cell_type": "code",
     "collapsed": false,
     "input": [
      "import neural_net_version2"
     ],
     "language": "python",
     "metadata": {},
     "outputs": [
      {
       "output_type": "stream",
       "stream": "stderr",
       "text": [
        "Using TensorFlow backend.\n"
       ]
      }
     ],
     "prompt_number": 5
    },
    {
     "cell_type": "code",
     "collapsed": false,
     "input": [
      "neural_net_version2.run()"
     ],
     "language": "python",
     "metadata": {},
     "outputs": [
      {
       "output_type": "stream",
       "stream": "stdout",
       "text": [
        "\u001b[2K\r",
        "Loading images: 1/682"
       ]
      },
      {
       "output_type": "stream",
       "stream": "stdout",
       "text": [
        "\n",
        "\u001b[2K\r",
        "Loading images: 2/682"
       ]
      },
      {
       "output_type": "stream",
       "stream": "stdout",
       "text": [
        "\n",
        "\u001b[2K\r",
        "Loading images: 3/682"
       ]
      },
      {
       "output_type": "stream",
       "stream": "stdout",
       "text": [
        "\n",
        "\u001b[2K\r",
        "Loading images: 4/682"
       ]
      },
      {
       "output_type": "stream",
       "stream": "stdout",
       "text": [
        "\n",
        "\u001b[2K\r",
        "Loading images: 5/682"
       ]
      },
      {
       "output_type": "stream",
       "stream": "stdout",
       "text": [
        "\n",
        "\u001b[2K\r",
        "Loading images: 6/682"
       ]
      },
      {
       "output_type": "stream",
       "stream": "stdout",
       "text": [
        "\n",
        "\u001b[2K\r",
        "Loading images: 7/682"
       ]
      },
      {
       "output_type": "stream",
       "stream": "stdout",
       "text": [
        "\n",
        "\u001b[2K\r",
        "Loading images: 8/682"
       ]
      },
      {
       "output_type": "stream",
       "stream": "stdout",
       "text": [
        "\n",
        "\u001b[2K\r",
        "Loading images: 9/682"
       ]
      },
      {
       "output_type": "stream",
       "stream": "stdout",
       "text": [
        "\n",
        "\u001b[2K\r",
        "Loading images: 10/682"
       ]
      },
      {
       "output_type": "stream",
       "stream": "stdout",
       "text": [
        "\n",
        "\u001b[2K\r",
        "Loading images: 11/682"
       ]
      },
      {
       "output_type": "stream",
       "stream": "stdout",
       "text": [
        "\n",
        "\u001b[2K\r",
        "Loading images: 12/682"
       ]
      },
      {
       "output_type": "stream",
       "stream": "stdout",
       "text": [
        "\n",
        "\u001b[2K\r",
        "Loading images: 13/682"
       ]
      },
      {
       "output_type": "stream",
       "stream": "stdout",
       "text": [
        "\n",
        "\u001b[2K\r",
        "Loading images: 14/682"
       ]
      },
      {
       "output_type": "stream",
       "stream": "stdout",
       "text": [
        "\n",
        "\u001b[2K\r",
        "Loading images: 15/682"
       ]
      },
      {
       "output_type": "stream",
       "stream": "stdout",
       "text": [
        "\n",
        "\u001b[2K\r",
        "Loading images: 16/682"
       ]
      },
      {
       "output_type": "stream",
       "stream": "stdout",
       "text": [
        "\n",
        "\u001b[2K\r",
        "Loading images: 17/682"
       ]
      },
      {
       "output_type": "stream",
       "stream": "stdout",
       "text": [
        "\n",
        "\u001b[2K\r",
        "Loading images: 18/682"
       ]
      },
      {
       "output_type": "stream",
       "stream": "stdout",
       "text": [
        "\n",
        "\u001b[2K\r",
        "Loading images: 19/682"
       ]
      },
      {
       "output_type": "stream",
       "stream": "stdout",
       "text": [
        "\n",
        "\u001b[2K\r",
        "Loading images: 20/682"
       ]
      },
      {
       "output_type": "stream",
       "stream": "stdout",
       "text": [
        "\n",
        "\u001b[2K\r",
        "Loading images: 21/682"
       ]
      },
      {
       "output_type": "stream",
       "stream": "stdout",
       "text": [
        "\n",
        "\u001b[2K\r",
        "Loading images: 22/682"
       ]
      },
      {
       "output_type": "stream",
       "stream": "stdout",
       "text": [
        "\n",
        "\u001b[2K\r",
        "Loading images: 23/682"
       ]
      },
      {
       "output_type": "stream",
       "stream": "stdout",
       "text": [
        "\n",
        "\u001b[2K\r",
        "Loading images: 24/682"
       ]
      },
      {
       "output_type": "stream",
       "stream": "stdout",
       "text": [
        "\n",
        "\u001b[2K\r",
        "Loading images: 25/682"
       ]
      },
      {
       "output_type": "stream",
       "stream": "stdout",
       "text": [
        "\n",
        "\u001b[2K\r",
        "Loading images: 26/682"
       ]
      },
      {
       "output_type": "stream",
       "stream": "stdout",
       "text": [
        "\n",
        "\u001b[2K\r",
        "Loading images: 27/682"
       ]
      },
      {
       "output_type": "stream",
       "stream": "stdout",
       "text": [
        "\n",
        "\u001b[2K\r",
        "Loading images: 28/682"
       ]
      },
      {
       "output_type": "stream",
       "stream": "stdout",
       "text": [
        "\n",
        "\u001b[2K\r",
        "Loading images: 29/682"
       ]
      },
      {
       "output_type": "stream",
       "stream": "stdout",
       "text": [
        "\n",
        "\u001b[2K\r",
        "Loading images: 30/682"
       ]
      },
      {
       "output_type": "stream",
       "stream": "stdout",
       "text": [
        "\n",
        "\u001b[2K\r",
        "Loading images: 31/682"
       ]
      },
      {
       "output_type": "stream",
       "stream": "stdout",
       "text": [
        "\n",
        "\u001b[2K\r",
        "Loading images: 32/682"
       ]
      },
      {
       "output_type": "stream",
       "stream": "stdout",
       "text": [
        "\n",
        "\u001b[2K\r",
        "Loading images: 33/682"
       ]
      },
      {
       "output_type": "stream",
       "stream": "stdout",
       "text": [
        "\n",
        "\u001b[2K\r",
        "Loading images: 34/682"
       ]
      },
      {
       "output_type": "stream",
       "stream": "stdout",
       "text": [
        "\n",
        "\u001b[2K\r",
        "Loading images: 35/682"
       ]
      },
      {
       "output_type": "stream",
       "stream": "stdout",
       "text": [
        "\n",
        "\u001b[2K\r",
        "Loading images: 36/682"
       ]
      },
      {
       "output_type": "stream",
       "stream": "stdout",
       "text": [
        "\n",
        "\u001b[2K\r",
        "Loading images: 37/682"
       ]
      },
      {
       "output_type": "stream",
       "stream": "stdout",
       "text": [
        "\n",
        "\u001b[2K\r",
        "Loading images: 38/682"
       ]
      },
      {
       "output_type": "stream",
       "stream": "stdout",
       "text": [
        "\n",
        "\u001b[2K\r",
        "Loading images: 39/682"
       ]
      },
      {
       "output_type": "stream",
       "stream": "stdout",
       "text": [
        "\n",
        "\u001b[2K\r",
        "Loading images: 40/682"
       ]
      },
      {
       "output_type": "stream",
       "stream": "stdout",
       "text": [
        "\n",
        "\u001b[2K\r",
        "Loading images: 41/682"
       ]
      },
      {
       "output_type": "stream",
       "stream": "stdout",
       "text": [
        "\n",
        "\u001b[2K\r",
        "Loading images: 42/682"
       ]
      },
      {
       "output_type": "stream",
       "stream": "stdout",
       "text": [
        "\n",
        "\u001b[2K\r",
        "Loading images: 43/682"
       ]
      },
      {
       "output_type": "stream",
       "stream": "stdout",
       "text": [
        "\n",
        "\u001b[2K\r",
        "Loading images: 44/682"
       ]
      },
      {
       "output_type": "stream",
       "stream": "stdout",
       "text": [
        "\n",
        "\u001b[2K\r",
        "Loading images: 45/682"
       ]
      },
      {
       "output_type": "stream",
       "stream": "stdout",
       "text": [
        "\n",
        "\u001b[2K\r",
        "Loading images: 46/682"
       ]
      },
      {
       "output_type": "stream",
       "stream": "stdout",
       "text": [
        "\n",
        "\u001b[2K\r",
        "Loading images: 47/682"
       ]
      },
      {
       "output_type": "stream",
       "stream": "stdout",
       "text": [
        "\n",
        "\u001b[2K\r",
        "Loading images: 48/682"
       ]
      },
      {
       "output_type": "stream",
       "stream": "stdout",
       "text": [
        "\n",
        "\u001b[2K\r",
        "Loading images: 49/682"
       ]
      },
      {
       "output_type": "stream",
       "stream": "stdout",
       "text": [
        "\n",
        "\u001b[2K\r",
        "Loading images: 50/682"
       ]
      },
      {
       "output_type": "stream",
       "stream": "stdout",
       "text": [
        "\n",
        "\u001b[2K\r",
        "Loading images: 51/682"
       ]
      },
      {
       "output_type": "stream",
       "stream": "stdout",
       "text": [
        "\n",
        "\u001b[2K\r",
        "Loading images: 52/682"
       ]
      },
      {
       "output_type": "stream",
       "stream": "stdout",
       "text": [
        "\n",
        "\u001b[2K\r",
        "Loading images: 53/682"
       ]
      },
      {
       "output_type": "stream",
       "stream": "stdout",
       "text": [
        "\n",
        "\u001b[2K\r",
        "Loading images: 54/682"
       ]
      },
      {
       "output_type": "stream",
       "stream": "stdout",
       "text": [
        "\n",
        "\u001b[2K\r",
        "Loading images: 55/682"
       ]
      },
      {
       "output_type": "stream",
       "stream": "stdout",
       "text": [
        "\n",
        "\u001b[2K\r",
        "Loading images: 56/682"
       ]
      },
      {
       "output_type": "stream",
       "stream": "stdout",
       "text": [
        "\n",
        "\u001b[2K\r",
        "Loading images: 57/682"
       ]
      },
      {
       "output_type": "stream",
       "stream": "stdout",
       "text": [
        "\n",
        "\u001b[2K\r",
        "Loading images: 58/682"
       ]
      },
      {
       "output_type": "stream",
       "stream": "stdout",
       "text": [
        "\n",
        "\u001b[2K\r",
        "Loading images: 59/682"
       ]
      },
      {
       "output_type": "stream",
       "stream": "stdout",
       "text": [
        "\n",
        "\u001b[2K\r",
        "Loading images: 60/682"
       ]
      },
      {
       "output_type": "stream",
       "stream": "stdout",
       "text": [
        "\n",
        "\u001b[2K\r",
        "Loading images: 61/682"
       ]
      },
      {
       "output_type": "stream",
       "stream": "stdout",
       "text": [
        "\n",
        "\u001b[2K\r",
        "Loading images: 62/682"
       ]
      },
      {
       "output_type": "stream",
       "stream": "stdout",
       "text": [
        "\n",
        "\u001b[2K\r",
        "Loading images: 63/682"
       ]
      },
      {
       "output_type": "stream",
       "stream": "stdout",
       "text": [
        "\n",
        "\u001b[2K\r",
        "Loading images: 64/682"
       ]
      },
      {
       "output_type": "stream",
       "stream": "stdout",
       "text": [
        "\n",
        "\u001b[2K\r",
        "Loading images: 65/682"
       ]
      },
      {
       "output_type": "stream",
       "stream": "stdout",
       "text": [
        "\n",
        "\u001b[2K\r",
        "Loading images: 66/682"
       ]
      },
      {
       "output_type": "stream",
       "stream": "stdout",
       "text": [
        "\n",
        "\u001b[2K\r",
        "Loading images: 67/682"
       ]
      },
      {
       "output_type": "stream",
       "stream": "stdout",
       "text": [
        "\n",
        "\u001b[2K\r",
        "Loading images: 68/682"
       ]
      },
      {
       "output_type": "stream",
       "stream": "stdout",
       "text": [
        "\n",
        "\u001b[2K\r",
        "Loading images: 69/682"
       ]
      },
      {
       "output_type": "stream",
       "stream": "stdout",
       "text": [
        "\n",
        "\u001b[2K\r",
        "Loading images: 70/682"
       ]
      },
      {
       "output_type": "stream",
       "stream": "stdout",
       "text": [
        "\n",
        "\u001b[2K\r",
        "Loading images: 71/682"
       ]
      },
      {
       "output_type": "stream",
       "stream": "stdout",
       "text": [
        "\n",
        "\u001b[2K\r",
        "Loading images: 72/682"
       ]
      },
      {
       "output_type": "stream",
       "stream": "stdout",
       "text": [
        "\n",
        "\u001b[2K\r",
        "Loading images: 73/682"
       ]
      },
      {
       "output_type": "stream",
       "stream": "stdout",
       "text": [
        "\n",
        "\u001b[2K\r",
        "Loading images: 74/682"
       ]
      },
      {
       "output_type": "stream",
       "stream": "stdout",
       "text": [
        "\n",
        "\u001b[2K\r",
        "Loading images: 75/682"
       ]
      },
      {
       "output_type": "stream",
       "stream": "stdout",
       "text": [
        "\n",
        "\u001b[2K\r",
        "Loading images: 76/682"
       ]
      },
      {
       "output_type": "stream",
       "stream": "stdout",
       "text": [
        "\n",
        "\u001b[2K\r",
        "Loading images: 77/682"
       ]
      },
      {
       "output_type": "stream",
       "stream": "stdout",
       "text": [
        "\n",
        "\u001b[2K\r",
        "Loading images: 78/682"
       ]
      },
      {
       "output_type": "stream",
       "stream": "stdout",
       "text": [
        "\n",
        "\u001b[2K\r",
        "Loading images: 79/682"
       ]
      },
      {
       "output_type": "stream",
       "stream": "stdout",
       "text": [
        "\n",
        "\u001b[2K\r",
        "Loading images: 80/682"
       ]
      },
      {
       "output_type": "stream",
       "stream": "stdout",
       "text": [
        "\n",
        "\u001b[2K\r",
        "Loading images: 81/682"
       ]
      },
      {
       "output_type": "stream",
       "stream": "stdout",
       "text": [
        "\n",
        "\u001b[2K\r",
        "Loading images: 82/682"
       ]
      },
      {
       "output_type": "stream",
       "stream": "stdout",
       "text": [
        "\n",
        "\u001b[2K\r",
        "Loading images: 83/682"
       ]
      },
      {
       "output_type": "stream",
       "stream": "stdout",
       "text": [
        "\n",
        "\u001b[2K\r",
        "Loading images: 84/682"
       ]
      },
      {
       "output_type": "stream",
       "stream": "stdout",
       "text": [
        "\n",
        "\u001b[2K\r",
        "Loading images: 85/682"
       ]
      },
      {
       "output_type": "stream",
       "stream": "stdout",
       "text": [
        "\n",
        "\u001b[2K\r",
        "Loading images: 86/682"
       ]
      },
      {
       "output_type": "stream",
       "stream": "stdout",
       "text": [
        "\n",
        "\u001b[2K\r",
        "Loading images: 87/682"
       ]
      },
      {
       "output_type": "stream",
       "stream": "stdout",
       "text": [
        "\n",
        "\u001b[2K\r",
        "Loading images: 88/682"
       ]
      },
      {
       "output_type": "stream",
       "stream": "stdout",
       "text": [
        "\n",
        "\u001b[2K\r",
        "Loading images: 89/682"
       ]
      },
      {
       "output_type": "stream",
       "stream": "stdout",
       "text": [
        "\n",
        "\u001b[2K\r",
        "Loading images: 90/682"
       ]
      },
      {
       "output_type": "stream",
       "stream": "stdout",
       "text": [
        "\n",
        "\u001b[2K\r",
        "Loading images: 91/682"
       ]
      },
      {
       "output_type": "stream",
       "stream": "stdout",
       "text": [
        "\n",
        "\u001b[2K\r",
        "Loading images: 92/682"
       ]
      },
      {
       "output_type": "stream",
       "stream": "stdout",
       "text": [
        "\n",
        "\u001b[2K\r",
        "Loading images: 93/682"
       ]
      },
      {
       "output_type": "stream",
       "stream": "stdout",
       "text": [
        "\n",
        "\u001b[2K\r",
        "Loading images: 94/682"
       ]
      },
      {
       "output_type": "stream",
       "stream": "stdout",
       "text": [
        "\n",
        "\u001b[2K\r",
        "Loading images: 95/682"
       ]
      },
      {
       "output_type": "stream",
       "stream": "stdout",
       "text": [
        "\n",
        "\u001b[2K\r",
        "Loading images: 96/682"
       ]
      },
      {
       "output_type": "stream",
       "stream": "stdout",
       "text": [
        "\n",
        "\u001b[2K\r",
        "Loading images: 97/682"
       ]
      },
      {
       "output_type": "stream",
       "stream": "stdout",
       "text": [
        "\n",
        "\u001b[2K\r",
        "Loading images: 98/682"
       ]
      },
      {
       "output_type": "stream",
       "stream": "stdout",
       "text": [
        "\n",
        "\u001b[2K\r",
        "Loading images: 99/682"
       ]
      },
      {
       "output_type": "stream",
       "stream": "stdout",
       "text": [
        "\n",
        "\u001b[2K\r",
        "Loading images: 100/682"
       ]
      },
      {
       "output_type": "stream",
       "stream": "stdout",
       "text": [
        "\n",
        "\u001b[2K\r",
        "Loading images: 101/682"
       ]
      },
      {
       "output_type": "stream",
       "stream": "stdout",
       "text": [
        "\n",
        "\u001b[2K\r",
        "Loading images: 102/682"
       ]
      },
      {
       "output_type": "stream",
       "stream": "stdout",
       "text": [
        "\n",
        "\u001b[2K\r",
        "Loading images: 103/682"
       ]
      },
      {
       "output_type": "stream",
       "stream": "stdout",
       "text": [
        "\n",
        "\u001b[2K\r",
        "Loading images: 104/682"
       ]
      },
      {
       "output_type": "stream",
       "stream": "stdout",
       "text": [
        "\n",
        "\u001b[2K\r",
        "Loading images: 105/682"
       ]
      },
      {
       "output_type": "stream",
       "stream": "stdout",
       "text": [
        "\n",
        "\u001b[2K\r",
        "Loading images: 106/682"
       ]
      },
      {
       "output_type": "stream",
       "stream": "stdout",
       "text": [
        "\n",
        "\u001b[2K\r",
        "Loading images: 107/682"
       ]
      },
      {
       "output_type": "stream",
       "stream": "stdout",
       "text": [
        "\n",
        "\u001b[2K\r",
        "Loading images: 108/682"
       ]
      },
      {
       "output_type": "stream",
       "stream": "stdout",
       "text": [
        "\n",
        "\u001b[2K\r",
        "Loading images: 109/682"
       ]
      },
      {
       "output_type": "stream",
       "stream": "stdout",
       "text": [
        "\n",
        "\u001b[2K\r",
        "Loading images: 110/682"
       ]
      },
      {
       "output_type": "stream",
       "stream": "stdout",
       "text": [
        "\n",
        "\u001b[2K\r",
        "Loading images: 111/682"
       ]
      },
      {
       "output_type": "stream",
       "stream": "stdout",
       "text": [
        "\n",
        "\u001b[2K\r",
        "Loading images: 112/682"
       ]
      },
      {
       "output_type": "stream",
       "stream": "stdout",
       "text": [
        "\n",
        "\u001b[2K\r",
        "Loading images: 113/682"
       ]
      },
      {
       "output_type": "stream",
       "stream": "stdout",
       "text": [
        "\n",
        "\u001b[2K\r",
        "Loading images: 114/682"
       ]
      },
      {
       "output_type": "stream",
       "stream": "stdout",
       "text": [
        "\n",
        "\u001b[2K\r",
        "Loading images: 115/682"
       ]
      },
      {
       "output_type": "stream",
       "stream": "stdout",
       "text": [
        "\n",
        "\u001b[2K\r",
        "Loading images: 116/682"
       ]
      },
      {
       "output_type": "stream",
       "stream": "stdout",
       "text": [
        "\n",
        "\u001b[2K\r",
        "Loading images: 117/682"
       ]
      },
      {
       "output_type": "stream",
       "stream": "stdout",
       "text": [
        "\n",
        "\u001b[2K\r",
        "Loading images: 118/682"
       ]
      },
      {
       "output_type": "stream",
       "stream": "stdout",
       "text": [
        "\n",
        "\u001b[2K\r",
        "Loading images: 119/682"
       ]
      },
      {
       "output_type": "stream",
       "stream": "stdout",
       "text": [
        "\n",
        "\u001b[2K\r",
        "Loading images: 120/682"
       ]
      },
      {
       "output_type": "stream",
       "stream": "stdout",
       "text": [
        "\n",
        "\u001b[2K\r",
        "Loading images: 121/682"
       ]
      },
      {
       "output_type": "stream",
       "stream": "stdout",
       "text": [
        "\n",
        "\u001b[2K\r",
        "Loading images: 122/682"
       ]
      },
      {
       "output_type": "stream",
       "stream": "stdout",
       "text": [
        "\n",
        "\u001b[2K\r",
        "Loading images: 123/682"
       ]
      },
      {
       "output_type": "stream",
       "stream": "stdout",
       "text": [
        "\n",
        "\u001b[2K\r",
        "Loading images: 124/682"
       ]
      },
      {
       "output_type": "stream",
       "stream": "stdout",
       "text": [
        "\n",
        "\u001b[2K\r",
        "Loading images: 125/682"
       ]
      },
      {
       "output_type": "stream",
       "stream": "stdout",
       "text": [
        "\n",
        "\u001b[2K\r",
        "Loading images: 126/682"
       ]
      },
      {
       "output_type": "stream",
       "stream": "stdout",
       "text": [
        "\n",
        "\u001b[2K\r",
        "Loading images: 127/682"
       ]
      },
      {
       "output_type": "stream",
       "stream": "stdout",
       "text": [
        "\n",
        "\u001b[2K\r",
        "Loading images: 128/682"
       ]
      },
      {
       "output_type": "stream",
       "stream": "stdout",
       "text": [
        "\n",
        "\u001b[2K\r",
        "Loading images: 129/682"
       ]
      },
      {
       "output_type": "stream",
       "stream": "stdout",
       "text": [
        "\n",
        "\u001b[2K\r",
        "Loading images: 130/682"
       ]
      },
      {
       "output_type": "stream",
       "stream": "stdout",
       "text": [
        "\n",
        "\u001b[2K\r",
        "Loading images: 131/682"
       ]
      },
      {
       "output_type": "stream",
       "stream": "stdout",
       "text": [
        "\n",
        "\u001b[2K\r",
        "Loading images: 132/682"
       ]
      },
      {
       "output_type": "stream",
       "stream": "stdout",
       "text": [
        "\n",
        "\u001b[2K\r",
        "Loading images: 133/682"
       ]
      },
      {
       "output_type": "stream",
       "stream": "stdout",
       "text": [
        "\n",
        "\u001b[2K\r",
        "Loading images: 134/682"
       ]
      },
      {
       "output_type": "stream",
       "stream": "stdout",
       "text": [
        "\n",
        "\u001b[2K\r",
        "Loading images: 135/682"
       ]
      },
      {
       "output_type": "stream",
       "stream": "stdout",
       "text": [
        "\n",
        "\u001b[2K\r",
        "Loading images: 136/682"
       ]
      },
      {
       "output_type": "stream",
       "stream": "stdout",
       "text": [
        "\n",
        "\u001b[2K\r",
        "Loading images: 137/682"
       ]
      },
      {
       "output_type": "stream",
       "stream": "stdout",
       "text": [
        "\n",
        "\u001b[2K\r",
        "Loading images: 138/682"
       ]
      },
      {
       "output_type": "stream",
       "stream": "stdout",
       "text": [
        "\n",
        "\u001b[2K\r",
        "Loading images: 139/682"
       ]
      },
      {
       "output_type": "stream",
       "stream": "stdout",
       "text": [
        "\n",
        "\u001b[2K\r",
        "Loading images: 140/682"
       ]
      },
      {
       "output_type": "stream",
       "stream": "stdout",
       "text": [
        "\n",
        "\u001b[2K\r",
        "Loading images: 141/682"
       ]
      },
      {
       "output_type": "stream",
       "stream": "stdout",
       "text": [
        "\n",
        "\u001b[2K\r",
        "Loading images: 142/682"
       ]
      },
      {
       "output_type": "stream",
       "stream": "stdout",
       "text": [
        "\n",
        "\u001b[2K\r",
        "Loading images: 143/682"
       ]
      },
      {
       "output_type": "stream",
       "stream": "stdout",
       "text": [
        "\n",
        "\u001b[2K\r",
        "Loading images: 144/682"
       ]
      },
      {
       "output_type": "stream",
       "stream": "stdout",
       "text": [
        "\n",
        "\u001b[2K\r",
        "Loading images: 145/682"
       ]
      },
      {
       "output_type": "stream",
       "stream": "stdout",
       "text": [
        "\n",
        "\u001b[2K\r",
        "Loading images: 146/682"
       ]
      },
      {
       "output_type": "stream",
       "stream": "stdout",
       "text": [
        "\n",
        "\u001b[2K\r",
        "Loading images: 147/682"
       ]
      },
      {
       "output_type": "stream",
       "stream": "stdout",
       "text": [
        "\n",
        "\u001b[2K\r",
        "Loading images: 148/682"
       ]
      },
      {
       "output_type": "stream",
       "stream": "stdout",
       "text": [
        "\n",
        "\u001b[2K\r",
        "Loading images: 149/682"
       ]
      },
      {
       "output_type": "stream",
       "stream": "stdout",
       "text": [
        "\n",
        "\u001b[2K\r",
        "Loading images: 150/682"
       ]
      },
      {
       "output_type": "stream",
       "stream": "stdout",
       "text": [
        "\n",
        "\u001b[2K\r",
        "Loading images: 151/682"
       ]
      },
      {
       "output_type": "stream",
       "stream": "stdout",
       "text": [
        "\n",
        "\u001b[2K\r",
        "Loading images: 152/682"
       ]
      },
      {
       "output_type": "stream",
       "stream": "stdout",
       "text": [
        "\n",
        "\u001b[2K\r",
        "Loading images: 153/682"
       ]
      },
      {
       "output_type": "stream",
       "stream": "stdout",
       "text": [
        "\n",
        "\u001b[2K\r",
        "Loading images: 154/682"
       ]
      },
      {
       "output_type": "stream",
       "stream": "stdout",
       "text": [
        "\n",
        "\u001b[2K\r",
        "Loading images: 155/682"
       ]
      },
      {
       "output_type": "stream",
       "stream": "stdout",
       "text": [
        "\n",
        "\u001b[2K\r",
        "Loading images: 156/682"
       ]
      },
      {
       "output_type": "stream",
       "stream": "stdout",
       "text": [
        "\n",
        "\u001b[2K\r",
        "Loading images: 157/682"
       ]
      },
      {
       "output_type": "stream",
       "stream": "stdout",
       "text": [
        "\n",
        "\u001b[2K\r",
        "Loading images: 158/682"
       ]
      },
      {
       "output_type": "stream",
       "stream": "stdout",
       "text": [
        "\n",
        "\u001b[2K\r",
        "Loading images: 159/682"
       ]
      },
      {
       "output_type": "stream",
       "stream": "stdout",
       "text": [
        "\n",
        "\u001b[2K\r",
        "Loading images: 160/682"
       ]
      },
      {
       "output_type": "stream",
       "stream": "stdout",
       "text": [
        "\n",
        "\u001b[2K\r",
        "Loading images: 161/682"
       ]
      },
      {
       "output_type": "stream",
       "stream": "stdout",
       "text": [
        "\n",
        "\u001b[2K\r",
        "Loading images: 162/682"
       ]
      },
      {
       "output_type": "stream",
       "stream": "stdout",
       "text": [
        "\n",
        "\u001b[2K\r",
        "Loading images: 163/682"
       ]
      },
      {
       "output_type": "stream",
       "stream": "stdout",
       "text": [
        "\n",
        "\u001b[2K\r",
        "Loading images: 164/682"
       ]
      },
      {
       "output_type": "stream",
       "stream": "stdout",
       "text": [
        "\n",
        "\u001b[2K\r",
        "Loading images: 165/682"
       ]
      },
      {
       "output_type": "stream",
       "stream": "stdout",
       "text": [
        "\n",
        "\u001b[2K\r",
        "Loading images: 166/682"
       ]
      },
      {
       "output_type": "stream",
       "stream": "stdout",
       "text": [
        "\n",
        "\u001b[2K\r",
        "Loading images: 167/682"
       ]
      },
      {
       "output_type": "stream",
       "stream": "stdout",
       "text": [
        "\n",
        "\u001b[2K\r",
        "Loading images: 168/682"
       ]
      },
      {
       "output_type": "stream",
       "stream": "stdout",
       "text": [
        "\n",
        "\u001b[2K\r",
        "Loading images: 169/682"
       ]
      },
      {
       "output_type": "stream",
       "stream": "stdout",
       "text": [
        "\n",
        "\u001b[2K\r",
        "Loading images: 170/682"
       ]
      },
      {
       "output_type": "stream",
       "stream": "stdout",
       "text": [
        "\n",
        "\u001b[2K\r",
        "Loading images: 171/682"
       ]
      },
      {
       "output_type": "stream",
       "stream": "stdout",
       "text": [
        "\n",
        "\u001b[2K\r",
        "Loading images: 172/682"
       ]
      },
      {
       "output_type": "stream",
       "stream": "stdout",
       "text": [
        "\n",
        "\u001b[2K\r",
        "Loading images: 173/682"
       ]
      },
      {
       "output_type": "stream",
       "stream": "stdout",
       "text": [
        "\n",
        "\u001b[2K\r",
        "Loading images: 174/682"
       ]
      },
      {
       "output_type": "stream",
       "stream": "stdout",
       "text": [
        "\n",
        "\u001b[2K\r",
        "Loading images: 175/682"
       ]
      },
      {
       "output_type": "stream",
       "stream": "stdout",
       "text": [
        "\n",
        "\u001b[2K\r",
        "Loading images: 176/682"
       ]
      },
      {
       "output_type": "stream",
       "stream": "stdout",
       "text": [
        "\n",
        "\u001b[2K\r",
        "Loading images: 177/682"
       ]
      },
      {
       "output_type": "stream",
       "stream": "stdout",
       "text": [
        "\n",
        "\u001b[2K\r",
        "Loading images: 178/682"
       ]
      },
      {
       "output_type": "stream",
       "stream": "stdout",
       "text": [
        "\n",
        "\u001b[2K\r",
        "Loading images: 179/682"
       ]
      },
      {
       "output_type": "stream",
       "stream": "stdout",
       "text": [
        "\n",
        "\u001b[2K\r",
        "Loading images: 180/682"
       ]
      },
      {
       "output_type": "stream",
       "stream": "stdout",
       "text": [
        "\n",
        "\u001b[2K\r",
        "Loading images: 181/682"
       ]
      },
      {
       "output_type": "stream",
       "stream": "stdout",
       "text": [
        "\n",
        "\u001b[2K\r",
        "Loading images: 182/682"
       ]
      },
      {
       "output_type": "stream",
       "stream": "stdout",
       "text": [
        "\n",
        "\u001b[2K\r",
        "Loading images: 183/682"
       ]
      },
      {
       "output_type": "stream",
       "stream": "stdout",
       "text": [
        "\n",
        "\u001b[2K\r",
        "Loading images: 184/682"
       ]
      },
      {
       "output_type": "stream",
       "stream": "stdout",
       "text": [
        "\n",
        "\u001b[2K\r",
        "Loading images: 185/682"
       ]
      },
      {
       "output_type": "stream",
       "stream": "stdout",
       "text": [
        "\n",
        "\u001b[2K\r",
        "Loading images: 186/682"
       ]
      },
      {
       "output_type": "stream",
       "stream": "stdout",
       "text": [
        "\n",
        "\u001b[2K\r",
        "Loading images: 187/682"
       ]
      },
      {
       "output_type": "stream",
       "stream": "stdout",
       "text": [
        "\n",
        "\u001b[2K\r",
        "Loading images: 188/682"
       ]
      },
      {
       "output_type": "stream",
       "stream": "stdout",
       "text": [
        "\n",
        "\u001b[2K\r",
        "Loading images: 189/682"
       ]
      },
      {
       "output_type": "stream",
       "stream": "stdout",
       "text": [
        "\n",
        "\u001b[2K\r",
        "Loading images: 190/682"
       ]
      },
      {
       "output_type": "stream",
       "stream": "stdout",
       "text": [
        "\n",
        "\u001b[2K\r",
        "Loading images: 191/682"
       ]
      },
      {
       "output_type": "stream",
       "stream": "stdout",
       "text": [
        "\n",
        "\u001b[2K\r",
        "Loading images: 192/682"
       ]
      },
      {
       "output_type": "stream",
       "stream": "stdout",
       "text": [
        "\n",
        "\u001b[2K\r",
        "Loading images: 193/682"
       ]
      },
      {
       "output_type": "stream",
       "stream": "stdout",
       "text": [
        "\n",
        "\u001b[2K\r",
        "Loading images: 194/682"
       ]
      },
      {
       "output_type": "stream",
       "stream": "stdout",
       "text": [
        "\n",
        "\u001b[2K\r",
        "Loading images: 195/682"
       ]
      },
      {
       "output_type": "stream",
       "stream": "stdout",
       "text": [
        "\n",
        "\u001b[2K\r",
        "Loading images: 196/682"
       ]
      },
      {
       "output_type": "stream",
       "stream": "stdout",
       "text": [
        "\n",
        "\u001b[2K\r",
        "Loading images: 197/682"
       ]
      },
      {
       "output_type": "stream",
       "stream": "stdout",
       "text": [
        "\n",
        "\u001b[2K\r",
        "Loading images: 198/682"
       ]
      },
      {
       "output_type": "stream",
       "stream": "stdout",
       "text": [
        "\n",
        "\u001b[2K\r",
        "Loading images: 199/682"
       ]
      },
      {
       "output_type": "stream",
       "stream": "stdout",
       "text": [
        "\n",
        "\u001b[2K\r",
        "Loading images: 200/682"
       ]
      },
      {
       "output_type": "stream",
       "stream": "stdout",
       "text": [
        "\n",
        "\u001b[2K\r",
        "Loading images: 201/682"
       ]
      },
      {
       "output_type": "stream",
       "stream": "stdout",
       "text": [
        "\n",
        "\u001b[2K\r",
        "Loading images: 202/682"
       ]
      },
      {
       "output_type": "stream",
       "stream": "stdout",
       "text": [
        "\n",
        "\u001b[2K\r",
        "Loading images: 203/682"
       ]
      },
      {
       "output_type": "stream",
       "stream": "stdout",
       "text": [
        "\n",
        "\u001b[2K\r",
        "Loading images: 204/682"
       ]
      },
      {
       "output_type": "stream",
       "stream": "stdout",
       "text": [
        "\n",
        "\u001b[2K\r",
        "Loading images: 205/682"
       ]
      },
      {
       "output_type": "stream",
       "stream": "stdout",
       "text": [
        "\n",
        "\u001b[2K\r",
        "Loading images: 206/682"
       ]
      },
      {
       "output_type": "stream",
       "stream": "stdout",
       "text": [
        "\n",
        "\u001b[2K\r",
        "Loading images: 207/682"
       ]
      },
      {
       "output_type": "stream",
       "stream": "stdout",
       "text": [
        "\n",
        "\u001b[2K\r",
        "Loading images: 208/682"
       ]
      },
      {
       "output_type": "stream",
       "stream": "stdout",
       "text": [
        "\n",
        "\u001b[2K\r",
        "Loading images: 209/682"
       ]
      },
      {
       "output_type": "stream",
       "stream": "stdout",
       "text": [
        "\n",
        "\u001b[2K\r",
        "Loading images: 210/682"
       ]
      },
      {
       "output_type": "stream",
       "stream": "stdout",
       "text": [
        "\n",
        "\u001b[2K\r",
        "Loading images: 211/682"
       ]
      },
      {
       "output_type": "stream",
       "stream": "stdout",
       "text": [
        "\n",
        "\u001b[2K\r",
        "Loading images: 212/682"
       ]
      },
      {
       "output_type": "stream",
       "stream": "stdout",
       "text": [
        "\n",
        "\u001b[2K\r",
        "Loading images: 213/682"
       ]
      },
      {
       "output_type": "stream",
       "stream": "stdout",
       "text": [
        "\n",
        "\u001b[2K\r",
        "Loading images: 214/682"
       ]
      },
      {
       "output_type": "stream",
       "stream": "stdout",
       "text": [
        "\n",
        "\u001b[2K\r",
        "Loading images: 215/682"
       ]
      },
      {
       "output_type": "stream",
       "stream": "stdout",
       "text": [
        "\n",
        "\u001b[2K\r",
        "Loading images: 216/682"
       ]
      },
      {
       "output_type": "stream",
       "stream": "stdout",
       "text": [
        "\n",
        "\u001b[2K\r",
        "Loading images: 217/682"
       ]
      },
      {
       "output_type": "stream",
       "stream": "stdout",
       "text": [
        "\n",
        "\u001b[2K\r",
        "Loading images: 218/682"
       ]
      },
      {
       "output_type": "stream",
       "stream": "stdout",
       "text": [
        "\n",
        "\u001b[2K\r",
        "Loading images: 219/682"
       ]
      },
      {
       "output_type": "stream",
       "stream": "stdout",
       "text": [
        "\n",
        "\u001b[2K\r",
        "Loading images: 220/682"
       ]
      },
      {
       "output_type": "stream",
       "stream": "stdout",
       "text": [
        "\n",
        "\u001b[2K\r",
        "Loading images: 221/682"
       ]
      },
      {
       "output_type": "stream",
       "stream": "stdout",
       "text": [
        "\n",
        "\u001b[2K\r",
        "Loading images: 222/682"
       ]
      },
      {
       "output_type": "stream",
       "stream": "stdout",
       "text": [
        "\n",
        "\u001b[2K\r",
        "Loading images: 223/682"
       ]
      },
      {
       "output_type": "stream",
       "stream": "stdout",
       "text": [
        "\n",
        "\u001b[2K\r",
        "Loading images: 224/682"
       ]
      },
      {
       "output_type": "stream",
       "stream": "stdout",
       "text": [
        "\n",
        "\u001b[2K\r",
        "Loading images: 225/682"
       ]
      },
      {
       "output_type": "stream",
       "stream": "stdout",
       "text": [
        "\n",
        "\u001b[2K\r",
        "Loading images: 226/682"
       ]
      },
      {
       "output_type": "stream",
       "stream": "stdout",
       "text": [
        "\n",
        "\u001b[2K\r",
        "Loading images: 227/682"
       ]
      },
      {
       "output_type": "stream",
       "stream": "stdout",
       "text": [
        "\n",
        "\u001b[2K\r",
        "Loading images: 228/682"
       ]
      },
      {
       "output_type": "stream",
       "stream": "stdout",
       "text": [
        "\n",
        "\u001b[2K\r",
        "Loading images: 229/682"
       ]
      },
      {
       "output_type": "stream",
       "stream": "stdout",
       "text": [
        "\n",
        "\u001b[2K\r",
        "Loading images: 230/682"
       ]
      },
      {
       "output_type": "stream",
       "stream": "stdout",
       "text": [
        "\n",
        "\u001b[2K\r",
        "Loading images: 231/682"
       ]
      },
      {
       "output_type": "stream",
       "stream": "stdout",
       "text": [
        "\n",
        "\u001b[2K\r",
        "Loading images: 232/682"
       ]
      },
      {
       "output_type": "stream",
       "stream": "stdout",
       "text": [
        "\n",
        "\u001b[2K\r",
        "Loading images: 233/682"
       ]
      },
      {
       "output_type": "stream",
       "stream": "stdout",
       "text": [
        "\n",
        "\u001b[2K\r",
        "Loading images: 234/682"
       ]
      },
      {
       "output_type": "stream",
       "stream": "stdout",
       "text": [
        "\n",
        "\u001b[2K\r",
        "Loading images: 235/682"
       ]
      },
      {
       "output_type": "stream",
       "stream": "stdout",
       "text": [
        "\n",
        "\u001b[2K\r",
        "Loading images: 236/682"
       ]
      },
      {
       "output_type": "stream",
       "stream": "stdout",
       "text": [
        "\n",
        "\u001b[2K\r",
        "Loading images: 237/682"
       ]
      },
      {
       "output_type": "stream",
       "stream": "stdout",
       "text": [
        "\n",
        "\u001b[2K\r",
        "Loading images: 238/682"
       ]
      },
      {
       "output_type": "stream",
       "stream": "stdout",
       "text": [
        "\n",
        "\u001b[2K\r",
        "Loading images: 239/682"
       ]
      },
      {
       "output_type": "stream",
       "stream": "stdout",
       "text": [
        "\n",
        "\u001b[2K\r",
        "Loading images: 240/682"
       ]
      },
      {
       "output_type": "stream",
       "stream": "stdout",
       "text": [
        "\n",
        "\u001b[2K\r",
        "Loading images: 241/682"
       ]
      },
      {
       "output_type": "stream",
       "stream": "stdout",
       "text": [
        "\n",
        "\u001b[2K\r",
        "Loading images: 242/682"
       ]
      },
      {
       "output_type": "stream",
       "stream": "stdout",
       "text": [
        "\n",
        "\u001b[2K\r",
        "Loading images: 243/682"
       ]
      },
      {
       "output_type": "stream",
       "stream": "stdout",
       "text": [
        "\n",
        "\u001b[2K\r",
        "Loading images: 244/682"
       ]
      },
      {
       "output_type": "stream",
       "stream": "stdout",
       "text": [
        "\n",
        "\u001b[2K\r",
        "Loading images: 245/682"
       ]
      },
      {
       "output_type": "stream",
       "stream": "stdout",
       "text": [
        "\n",
        "\u001b[2K\r",
        "Loading images: 246/682"
       ]
      },
      {
       "output_type": "stream",
       "stream": "stdout",
       "text": [
        "\n",
        "\u001b[2K\r",
        "Loading images: 247/682"
       ]
      },
      {
       "output_type": "stream",
       "stream": "stdout",
       "text": [
        "\n",
        "\u001b[2K\r",
        "Loading images: 248/682"
       ]
      },
      {
       "output_type": "stream",
       "stream": "stdout",
       "text": [
        "\n",
        "\u001b[2K\r",
        "Loading images: 249/682"
       ]
      },
      {
       "output_type": "stream",
       "stream": "stdout",
       "text": [
        "\n",
        "\u001b[2K\r",
        "Loading images: 250/682"
       ]
      },
      {
       "output_type": "stream",
       "stream": "stdout",
       "text": [
        "\n",
        "\u001b[2K\r",
        "Loading images: 251/682"
       ]
      },
      {
       "output_type": "stream",
       "stream": "stdout",
       "text": [
        "\n",
        "\u001b[2K\r",
        "Loading images: 252/682"
       ]
      },
      {
       "output_type": "stream",
       "stream": "stdout",
       "text": [
        "\n",
        "\u001b[2K\r",
        "Loading images: 253/682"
       ]
      },
      {
       "output_type": "stream",
       "stream": "stdout",
       "text": [
        "\n",
        "\u001b[2K\r",
        "Loading images: 254/682"
       ]
      },
      {
       "output_type": "stream",
       "stream": "stdout",
       "text": [
        "\n",
        "\u001b[2K\r",
        "Loading images: 255/682"
       ]
      },
      {
       "output_type": "stream",
       "stream": "stdout",
       "text": [
        "\n",
        "\u001b[2K\r",
        "Loading images: 256/682"
       ]
      },
      {
       "output_type": "stream",
       "stream": "stdout",
       "text": [
        "\n",
        "\u001b[2K\r",
        "Loading images: 257/682"
       ]
      },
      {
       "output_type": "stream",
       "stream": "stdout",
       "text": [
        "\n",
        "\u001b[2K\r",
        "Loading images: 258/682"
       ]
      },
      {
       "output_type": "stream",
       "stream": "stdout",
       "text": [
        "\n",
        "\u001b[2K\r",
        "Loading images: 259/682"
       ]
      },
      {
       "output_type": "stream",
       "stream": "stdout",
       "text": [
        "\n",
        "\u001b[2K\r",
        "Loading images: 260/682"
       ]
      },
      {
       "output_type": "stream",
       "stream": "stdout",
       "text": [
        "\n",
        "\u001b[2K\r",
        "Loading images: 261/682"
       ]
      },
      {
       "output_type": "stream",
       "stream": "stdout",
       "text": [
        "\n",
        "\u001b[2K\r",
        "Loading images: 262/682"
       ]
      },
      {
       "output_type": "stream",
       "stream": "stdout",
       "text": [
        "\n",
        "\u001b[2K\r",
        "Loading images: 263/682"
       ]
      },
      {
       "output_type": "stream",
       "stream": "stdout",
       "text": [
        "\n",
        "\u001b[2K\r",
        "Loading images: 264/682"
       ]
      },
      {
       "output_type": "stream",
       "stream": "stdout",
       "text": [
        "\n",
        "\u001b[2K\r",
        "Loading images: 265/682"
       ]
      },
      {
       "output_type": "stream",
       "stream": "stdout",
       "text": [
        "\n",
        "\u001b[2K\r",
        "Loading images: 266/682"
       ]
      },
      {
       "output_type": "stream",
       "stream": "stdout",
       "text": [
        "\n",
        "\u001b[2K\r",
        "Loading images: 267/682"
       ]
      },
      {
       "output_type": "stream",
       "stream": "stdout",
       "text": [
        "\n",
        "\u001b[2K\r",
        "Loading images: 268/682"
       ]
      },
      {
       "output_type": "stream",
       "stream": "stdout",
       "text": [
        "\n",
        "\u001b[2K\r",
        "Loading images: 269/682"
       ]
      },
      {
       "output_type": "stream",
       "stream": "stdout",
       "text": [
        "\n",
        "\u001b[2K\r",
        "Loading images: 270/682"
       ]
      },
      {
       "output_type": "stream",
       "stream": "stdout",
       "text": [
        "\n",
        "\u001b[2K\r",
        "Loading images: 271/682"
       ]
      },
      {
       "output_type": "stream",
       "stream": "stdout",
       "text": [
        "\n",
        "\u001b[2K\r",
        "Loading images: 272/682"
       ]
      },
      {
       "output_type": "stream",
       "stream": "stdout",
       "text": [
        "\n",
        "\u001b[2K\r",
        "Loading images: 273/682"
       ]
      },
      {
       "output_type": "stream",
       "stream": "stdout",
       "text": [
        "\n",
        "\u001b[2K\r",
        "Loading images: 274/682"
       ]
      },
      {
       "output_type": "stream",
       "stream": "stdout",
       "text": [
        "\n",
        "\u001b[2K\r",
        "Loading images: 275/682"
       ]
      },
      {
       "output_type": "stream",
       "stream": "stdout",
       "text": [
        "\n",
        "\u001b[2K\r",
        "Loading images: 276/682"
       ]
      },
      {
       "output_type": "stream",
       "stream": "stdout",
       "text": [
        "\n",
        "\u001b[2K\r",
        "Loading images: 277/682"
       ]
      },
      {
       "output_type": "stream",
       "stream": "stdout",
       "text": [
        "\n",
        "\u001b[2K\r",
        "Loading images: 278/682"
       ]
      },
      {
       "output_type": "stream",
       "stream": "stdout",
       "text": [
        "\n",
        "\u001b[2K\r",
        "Loading images: 279/682"
       ]
      },
      {
       "output_type": "stream",
       "stream": "stdout",
       "text": [
        "\n",
        "\u001b[2K\r",
        "Loading images: 280/682"
       ]
      },
      {
       "output_type": "stream",
       "stream": "stdout",
       "text": [
        "\n",
        "\u001b[2K\r",
        "Loading images: 281/682"
       ]
      },
      {
       "output_type": "stream",
       "stream": "stdout",
       "text": [
        "\n",
        "\u001b[2K\r",
        "Loading images: 282/682"
       ]
      },
      {
       "output_type": "stream",
       "stream": "stdout",
       "text": [
        "\n",
        "\u001b[2K\r",
        "Loading images: 283/682"
       ]
      },
      {
       "output_type": "stream",
       "stream": "stdout",
       "text": [
        "\n",
        "\u001b[2K\r",
        "Loading images: 284/682"
       ]
      },
      {
       "output_type": "stream",
       "stream": "stdout",
       "text": [
        "\n",
        "\u001b[2K\r",
        "Loading images: 285/682"
       ]
      },
      {
       "output_type": "stream",
       "stream": "stdout",
       "text": [
        "\n",
        "\u001b[2K\r",
        "Loading images: 286/682"
       ]
      },
      {
       "output_type": "stream",
       "stream": "stdout",
       "text": [
        "\n",
        "\u001b[2K\r",
        "Loading images: 287/682"
       ]
      },
      {
       "output_type": "stream",
       "stream": "stdout",
       "text": [
        "\n",
        "\u001b[2K\r",
        "Loading images: 288/682"
       ]
      },
      {
       "output_type": "stream",
       "stream": "stdout",
       "text": [
        "\n",
        "\u001b[2K\r",
        "Loading images: 289/682"
       ]
      },
      {
       "output_type": "stream",
       "stream": "stdout",
       "text": [
        "\n",
        "\u001b[2K\r",
        "Loading images: 290/682"
       ]
      },
      {
       "output_type": "stream",
       "stream": "stdout",
       "text": [
        "\n",
        "\u001b[2K\r",
        "Loading images: 291/682"
       ]
      },
      {
       "output_type": "stream",
       "stream": "stdout",
       "text": [
        "\n",
        "\u001b[2K\r",
        "Loading images: 292/682"
       ]
      },
      {
       "output_type": "stream",
       "stream": "stdout",
       "text": [
        "\n",
        "\u001b[2K\r",
        "Loading images: 293/682"
       ]
      },
      {
       "output_type": "stream",
       "stream": "stdout",
       "text": [
        "\n",
        "\u001b[2K\r",
        "Loading images: 294/682"
       ]
      },
      {
       "output_type": "stream",
       "stream": "stdout",
       "text": [
        "\n",
        "\u001b[2K\r",
        "Loading images: 295/682"
       ]
      },
      {
       "output_type": "stream",
       "stream": "stdout",
       "text": [
        "\n",
        "\u001b[2K\r",
        "Loading images: 296/682"
       ]
      },
      {
       "output_type": "stream",
       "stream": "stdout",
       "text": [
        "\n",
        "\u001b[2K\r",
        "Loading images: 297/682"
       ]
      },
      {
       "output_type": "stream",
       "stream": "stdout",
       "text": [
        "\n",
        "\u001b[2K\r",
        "Loading images: 298/682"
       ]
      },
      {
       "output_type": "stream",
       "stream": "stdout",
       "text": [
        "\n",
        "\u001b[2K\r",
        "Loading images: 299/682"
       ]
      },
      {
       "output_type": "stream",
       "stream": "stdout",
       "text": [
        "\n",
        "\u001b[2K\r",
        "Loading images: 300/682"
       ]
      },
      {
       "output_type": "stream",
       "stream": "stdout",
       "text": [
        "\n",
        "\u001b[2K\r",
        "Loading images: 301/682"
       ]
      },
      {
       "output_type": "stream",
       "stream": "stdout",
       "text": [
        "\n",
        "\u001b[2K\r",
        "Loading images: 302/682"
       ]
      },
      {
       "output_type": "stream",
       "stream": "stdout",
       "text": [
        "\n",
        "\u001b[2K\r",
        "Loading images: 303/682"
       ]
      },
      {
       "output_type": "stream",
       "stream": "stdout",
       "text": [
        "\n",
        "\u001b[2K\r",
        "Loading images: 304/682"
       ]
      },
      {
       "output_type": "stream",
       "stream": "stdout",
       "text": [
        "\n",
        "\u001b[2K\r",
        "Loading images: 305/682"
       ]
      },
      {
       "output_type": "stream",
       "stream": "stdout",
       "text": [
        "\n",
        "\u001b[2K\r",
        "Loading images: 306/682"
       ]
      },
      {
       "output_type": "stream",
       "stream": "stdout",
       "text": [
        "\n",
        "\u001b[2K\r",
        "Loading images: 307/682"
       ]
      },
      {
       "output_type": "stream",
       "stream": "stdout",
       "text": [
        "\n",
        "\u001b[2K\r",
        "Loading images: 308/682"
       ]
      },
      {
       "output_type": "stream",
       "stream": "stdout",
       "text": [
        "\n",
        "\u001b[2K\r",
        "Loading images: 309/682"
       ]
      },
      {
       "output_type": "stream",
       "stream": "stdout",
       "text": [
        "\n",
        "\u001b[2K\r",
        "Loading images: 310/682"
       ]
      },
      {
       "output_type": "stream",
       "stream": "stdout",
       "text": [
        "\n",
        "\u001b[2K\r",
        "Loading images: 311/682"
       ]
      },
      {
       "output_type": "stream",
       "stream": "stdout",
       "text": [
        "\n",
        "\u001b[2K\r",
        "Loading images: 312/682"
       ]
      },
      {
       "output_type": "stream",
       "stream": "stdout",
       "text": [
        "\n",
        "\u001b[2K\r",
        "Loading images: 313/682"
       ]
      },
      {
       "output_type": "stream",
       "stream": "stdout",
       "text": [
        "\n",
        "\u001b[2K\r",
        "Loading images: 314/682"
       ]
      },
      {
       "output_type": "stream",
       "stream": "stdout",
       "text": [
        "\n",
        "\u001b[2K\r",
        "Loading images: 315/682"
       ]
      },
      {
       "output_type": "stream",
       "stream": "stdout",
       "text": [
        "\n",
        "\u001b[2K\r",
        "Loading images: 316/682"
       ]
      },
      {
       "output_type": "stream",
       "stream": "stdout",
       "text": [
        "\n",
        "\u001b[2K\r",
        "Loading images: 317/682"
       ]
      },
      {
       "output_type": "stream",
       "stream": "stdout",
       "text": [
        "\n",
        "\u001b[2K\r",
        "Loading images: 318/682"
       ]
      },
      {
       "output_type": "stream",
       "stream": "stdout",
       "text": [
        "\n",
        "\u001b[2K\r",
        "Loading images: 319/682"
       ]
      },
      {
       "output_type": "stream",
       "stream": "stdout",
       "text": [
        "\n",
        "\u001b[2K\r",
        "Loading images: 320/682"
       ]
      },
      {
       "output_type": "stream",
       "stream": "stdout",
       "text": [
        "\n",
        "\u001b[2K\r",
        "Loading images: 321/682"
       ]
      },
      {
       "output_type": "stream",
       "stream": "stdout",
       "text": [
        "\n",
        "\u001b[2K\r",
        "Loading images: 322/682"
       ]
      },
      {
       "output_type": "stream",
       "stream": "stdout",
       "text": [
        "\n",
        "\u001b[2K\r",
        "Loading images: 323/682"
       ]
      },
      {
       "output_type": "stream",
       "stream": "stdout",
       "text": [
        "\n",
        "\u001b[2K\r",
        "Loading images: 324/682"
       ]
      },
      {
       "output_type": "stream",
       "stream": "stdout",
       "text": [
        "\n",
        "\u001b[2K\r",
        "Loading images: 325/682"
       ]
      },
      {
       "output_type": "stream",
       "stream": "stdout",
       "text": [
        "\n",
        "\u001b[2K\r",
        "Loading images: 326/682"
       ]
      },
      {
       "output_type": "stream",
       "stream": "stdout",
       "text": [
        "\n",
        "\u001b[2K\r",
        "Loading images: 327/682"
       ]
      },
      {
       "output_type": "stream",
       "stream": "stdout",
       "text": [
        "\n",
        "\u001b[2K\r",
        "Loading images: 328/682"
       ]
      },
      {
       "output_type": "stream",
       "stream": "stdout",
       "text": [
        "\n",
        "\u001b[2K\r",
        "Loading images: 329/682"
       ]
      },
      {
       "output_type": "stream",
       "stream": "stdout",
       "text": [
        "\n",
        "\u001b[2K\r",
        "Loading images: 330/682"
       ]
      },
      {
       "output_type": "stream",
       "stream": "stdout",
       "text": [
        "\n",
        "\u001b[2K\r",
        "Loading images: 331/682"
       ]
      },
      {
       "output_type": "stream",
       "stream": "stdout",
       "text": [
        "\n",
        "\u001b[2K\r",
        "Loading images: 332/682"
       ]
      },
      {
       "output_type": "stream",
       "stream": "stdout",
       "text": [
        "\n",
        "\u001b[2K\r",
        "Loading images: 333/682"
       ]
      },
      {
       "output_type": "stream",
       "stream": "stdout",
       "text": [
        "\n",
        "\u001b[2K\r",
        "Loading images: 334/682"
       ]
      },
      {
       "output_type": "stream",
       "stream": "stdout",
       "text": [
        "\n",
        "\u001b[2K\r",
        "Loading images: 335/682"
       ]
      },
      {
       "output_type": "stream",
       "stream": "stdout",
       "text": [
        "\n",
        "\u001b[2K\r",
        "Loading images: 336/682"
       ]
      },
      {
       "output_type": "stream",
       "stream": "stdout",
       "text": [
        "\n",
        "\u001b[2K\r",
        "Loading images: 337/682"
       ]
      },
      {
       "output_type": "stream",
       "stream": "stdout",
       "text": [
        "\n",
        "\u001b[2K\r",
        "Loading images: 338/682"
       ]
      },
      {
       "output_type": "stream",
       "stream": "stdout",
       "text": [
        "\n",
        "\u001b[2K\r",
        "Loading images: 339/682"
       ]
      },
      {
       "output_type": "stream",
       "stream": "stdout",
       "text": [
        "\n",
        "\u001b[2K\r",
        "Loading images: 340/682"
       ]
      },
      {
       "output_type": "stream",
       "stream": "stdout",
       "text": [
        "\n",
        "\u001b[2K\r",
        "Loading images: 341/682"
       ]
      },
      {
       "output_type": "stream",
       "stream": "stdout",
       "text": [
        "\n",
        "\u001b[2K\r",
        "Loading images: 342/682"
       ]
      },
      {
       "output_type": "stream",
       "stream": "stdout",
       "text": [
        "\n",
        "\u001b[2K\r",
        "Loading images: 343/682"
       ]
      },
      {
       "output_type": "stream",
       "stream": "stdout",
       "text": [
        "\n",
        "\u001b[2K\r",
        "Loading images: 344/682"
       ]
      },
      {
       "output_type": "stream",
       "stream": "stdout",
       "text": [
        "\n",
        "\u001b[2K\r",
        "Loading images: 345/682"
       ]
      },
      {
       "output_type": "stream",
       "stream": "stdout",
       "text": [
        "\n",
        "\u001b[2K\r",
        "Loading images: 346/682"
       ]
      },
      {
       "output_type": "stream",
       "stream": "stdout",
       "text": [
        "\n",
        "\u001b[2K\r",
        "Loading images: 347/682"
       ]
      },
      {
       "output_type": "stream",
       "stream": "stdout",
       "text": [
        "\n",
        "\u001b[2K\r",
        "Loading images: 348/682"
       ]
      },
      {
       "output_type": "stream",
       "stream": "stdout",
       "text": [
        "\n",
        "\u001b[2K\r",
        "Loading images: 349/682"
       ]
      },
      {
       "output_type": "stream",
       "stream": "stdout",
       "text": [
        "\n",
        "\u001b[2K\r",
        "Loading images: 350/682"
       ]
      },
      {
       "output_type": "stream",
       "stream": "stdout",
       "text": [
        "\n",
        "\u001b[2K\r",
        "Loading images: 351/682"
       ]
      },
      {
       "output_type": "stream",
       "stream": "stdout",
       "text": [
        "\n",
        "\u001b[2K\r",
        "Loading images: 352/682"
       ]
      },
      {
       "output_type": "stream",
       "stream": "stdout",
       "text": [
        "\n",
        "\u001b[2K\r",
        "Loading images: 353/682"
       ]
      },
      {
       "output_type": "stream",
       "stream": "stdout",
       "text": [
        "\n",
        "\u001b[2K\r",
        "Loading images: 354/682"
       ]
      },
      {
       "output_type": "stream",
       "stream": "stdout",
       "text": [
        "\n",
        "\u001b[2K\r",
        "Loading images: 355/682"
       ]
      },
      {
       "output_type": "stream",
       "stream": "stdout",
       "text": [
        "\n",
        "\u001b[2K\r",
        "Loading images: 356/682"
       ]
      },
      {
       "output_type": "stream",
       "stream": "stdout",
       "text": [
        "\n",
        "\u001b[2K\r",
        "Loading images: 357/682"
       ]
      },
      {
       "output_type": "stream",
       "stream": "stdout",
       "text": [
        "\n",
        "\u001b[2K\r",
        "Loading images: 358/682"
       ]
      },
      {
       "output_type": "stream",
       "stream": "stdout",
       "text": [
        "\n",
        "\u001b[2K\r",
        "Loading images: 359/682"
       ]
      },
      {
       "output_type": "stream",
       "stream": "stdout",
       "text": [
        "\n",
        "\u001b[2K\r",
        "Loading images: 360/682"
       ]
      },
      {
       "output_type": "stream",
       "stream": "stdout",
       "text": [
        "\n",
        "\u001b[2K\r",
        "Loading images: 361/682"
       ]
      },
      {
       "output_type": "stream",
       "stream": "stdout",
       "text": [
        "\n",
        "\u001b[2K\r",
        "Loading images: 362/682"
       ]
      },
      {
       "output_type": "stream",
       "stream": "stdout",
       "text": [
        "\n",
        "\u001b[2K\r",
        "Loading images: 363/682"
       ]
      },
      {
       "output_type": "stream",
       "stream": "stdout",
       "text": [
        "\n",
        "\u001b[2K\r",
        "Loading images: 364/682"
       ]
      },
      {
       "output_type": "stream",
       "stream": "stdout",
       "text": [
        "\n",
        "\u001b[2K\r",
        "Loading images: 365/682"
       ]
      },
      {
       "output_type": "stream",
       "stream": "stdout",
       "text": [
        "\n",
        "\u001b[2K\r",
        "Loading images: 366/682"
       ]
      },
      {
       "output_type": "stream",
       "stream": "stdout",
       "text": [
        "\n",
        "\u001b[2K\r",
        "Loading images: 367/682"
       ]
      },
      {
       "output_type": "stream",
       "stream": "stdout",
       "text": [
        "\n",
        "\u001b[2K\r",
        "Loading images: 368/682"
       ]
      },
      {
       "output_type": "stream",
       "stream": "stdout",
       "text": [
        "\n",
        "\u001b[2K\r",
        "Loading images: 369/682"
       ]
      },
      {
       "output_type": "stream",
       "stream": "stdout",
       "text": [
        "\n",
        "\u001b[2K\r",
        "Loading images: 370/682"
       ]
      },
      {
       "output_type": "stream",
       "stream": "stdout",
       "text": [
        "\n",
        "\u001b[2K\r",
        "Loading images: 371/682"
       ]
      },
      {
       "output_type": "stream",
       "stream": "stdout",
       "text": [
        "\n",
        "\u001b[2K\r",
        "Loading images: 372/682"
       ]
      },
      {
       "output_type": "stream",
       "stream": "stdout",
       "text": [
        "\n",
        "\u001b[2K\r",
        "Loading images: 373/682"
       ]
      },
      {
       "output_type": "stream",
       "stream": "stdout",
       "text": [
        "\n",
        "\u001b[2K\r",
        "Loading images: 374/682"
       ]
      },
      {
       "output_type": "stream",
       "stream": "stdout",
       "text": [
        "\n",
        "\u001b[2K\r",
        "Loading images: 375/682"
       ]
      },
      {
       "output_type": "stream",
       "stream": "stdout",
       "text": [
        "\n",
        "\u001b[2K\r",
        "Loading images: 376/682"
       ]
      },
      {
       "output_type": "stream",
       "stream": "stdout",
       "text": [
        "\n",
        "\u001b[2K\r",
        "Loading images: 377/682"
       ]
      },
      {
       "output_type": "stream",
       "stream": "stdout",
       "text": [
        "\n",
        "\u001b[2K\r",
        "Loading images: 378/682"
       ]
      },
      {
       "output_type": "stream",
       "stream": "stdout",
       "text": [
        "\n",
        "\u001b[2K\r",
        "Loading images: 379/682"
       ]
      },
      {
       "output_type": "stream",
       "stream": "stdout",
       "text": [
        "\n",
        "\u001b[2K\r",
        "Loading images: 380/682"
       ]
      },
      {
       "output_type": "stream",
       "stream": "stdout",
       "text": [
        "\n",
        "\u001b[2K\r",
        "Loading images: 381/682"
       ]
      },
      {
       "output_type": "stream",
       "stream": "stdout",
       "text": [
        "\n",
        "\u001b[2K\r",
        "Loading images: 382/682"
       ]
      },
      {
       "output_type": "stream",
       "stream": "stdout",
       "text": [
        "\n",
        "\u001b[2K\r",
        "Loading images: 383/682"
       ]
      },
      {
       "output_type": "stream",
       "stream": "stdout",
       "text": [
        "\n",
        "\u001b[2K\r",
        "Loading images: 384/682"
       ]
      },
      {
       "output_type": "stream",
       "stream": "stdout",
       "text": [
        "\n",
        "\u001b[2K\r",
        "Loading images: 385/682"
       ]
      },
      {
       "output_type": "stream",
       "stream": "stdout",
       "text": [
        "\n",
        "\u001b[2K\r",
        "Loading images: 386/682"
       ]
      },
      {
       "output_type": "stream",
       "stream": "stdout",
       "text": [
        "\n",
        "\u001b[2K\r",
        "Loading images: 387/682"
       ]
      },
      {
       "output_type": "stream",
       "stream": "stdout",
       "text": [
        "\n",
        "\u001b[2K\r",
        "Loading images: 388/682"
       ]
      },
      {
       "output_type": "stream",
       "stream": "stdout",
       "text": [
        "\n",
        "\u001b[2K\r",
        "Loading images: 389/682"
       ]
      },
      {
       "output_type": "stream",
       "stream": "stdout",
       "text": [
        "\n",
        "\u001b[2K\r",
        "Loading images: 390/682"
       ]
      },
      {
       "output_type": "stream",
       "stream": "stdout",
       "text": [
        "\n",
        "\u001b[2K\r",
        "Loading images: 391/682"
       ]
      },
      {
       "output_type": "stream",
       "stream": "stdout",
       "text": [
        "\n",
        "\u001b[2K\r",
        "Loading images: 392/682"
       ]
      },
      {
       "output_type": "stream",
       "stream": "stdout",
       "text": [
        "\n",
        "\u001b[2K\r",
        "Loading images: 393/682"
       ]
      },
      {
       "output_type": "stream",
       "stream": "stdout",
       "text": [
        "\n",
        "\u001b[2K\r",
        "Loading images: 394/682"
       ]
      },
      {
       "output_type": "stream",
       "stream": "stdout",
       "text": [
        "\n",
        "\u001b[2K\r",
        "Loading images: 395/682"
       ]
      },
      {
       "output_type": "stream",
       "stream": "stdout",
       "text": [
        "\n",
        "\u001b[2K\r",
        "Loading images: 396/682"
       ]
      },
      {
       "output_type": "stream",
       "stream": "stdout",
       "text": [
        "\n",
        "\u001b[2K\r",
        "Loading images: 397/682"
       ]
      },
      {
       "output_type": "stream",
       "stream": "stdout",
       "text": [
        "\n",
        "\u001b[2K\r",
        "Loading images: 398/682"
       ]
      },
      {
       "output_type": "stream",
       "stream": "stdout",
       "text": [
        "\n",
        "\u001b[2K\r",
        "Loading images: 399/682"
       ]
      },
      {
       "output_type": "stream",
       "stream": "stdout",
       "text": [
        "\n",
        "\u001b[2K\r",
        "Loading images: 400/682"
       ]
      },
      {
       "output_type": "stream",
       "stream": "stdout",
       "text": [
        "\n",
        "\u001b[2K\r",
        "Loading images: 401/682"
       ]
      },
      {
       "output_type": "stream",
       "stream": "stdout",
       "text": [
        "\n",
        "\u001b[2K\r",
        "Loading images: 402/682"
       ]
      },
      {
       "output_type": "stream",
       "stream": "stdout",
       "text": [
        "\n",
        "\u001b[2K\r",
        "Loading images: 403/682"
       ]
      },
      {
       "output_type": "stream",
       "stream": "stdout",
       "text": [
        "\n",
        "\u001b[2K\r",
        "Loading images: 404/682"
       ]
      },
      {
       "output_type": "stream",
       "stream": "stdout",
       "text": [
        "\n",
        "\u001b[2K\r",
        "Loading images: 405/682"
       ]
      },
      {
       "output_type": "stream",
       "stream": "stdout",
       "text": [
        "\n",
        "\u001b[2K\r",
        "Loading images: 406/682"
       ]
      },
      {
       "output_type": "stream",
       "stream": "stdout",
       "text": [
        "\n",
        "\u001b[2K\r",
        "Loading images: 407/682"
       ]
      },
      {
       "output_type": "stream",
       "stream": "stdout",
       "text": [
        "\n",
        "\u001b[2K\r",
        "Loading images: 408/682"
       ]
      },
      {
       "output_type": "stream",
       "stream": "stdout",
       "text": [
        "\n",
        "\u001b[2K\r",
        "Loading images: 409/682"
       ]
      },
      {
       "output_type": "stream",
       "stream": "stdout",
       "text": [
        "\n",
        "\u001b[2K\r",
        "Loading images: 410/682"
       ]
      },
      {
       "output_type": "stream",
       "stream": "stdout",
       "text": [
        "\n",
        "\u001b[2K\r",
        "Loading images: 411/682"
       ]
      },
      {
       "output_type": "stream",
       "stream": "stdout",
       "text": [
        "\n",
        "\u001b[2K\r",
        "Loading images: 412/682"
       ]
      },
      {
       "output_type": "stream",
       "stream": "stdout",
       "text": [
        "\n",
        "\u001b[2K\r",
        "Loading images: 413/682"
       ]
      },
      {
       "output_type": "stream",
       "stream": "stdout",
       "text": [
        "\n",
        "\u001b[2K\r",
        "Loading images: 414/682"
       ]
      },
      {
       "output_type": "stream",
       "stream": "stdout",
       "text": [
        "\n",
        "\u001b[2K\r",
        "Loading images: 415/682"
       ]
      },
      {
       "output_type": "stream",
       "stream": "stdout",
       "text": [
        "\n",
        "\u001b[2K\r",
        "Loading images: 416/682"
       ]
      },
      {
       "output_type": "stream",
       "stream": "stdout",
       "text": [
        "\n",
        "\u001b[2K\r",
        "Loading images: 417/682"
       ]
      },
      {
       "output_type": "stream",
       "stream": "stdout",
       "text": [
        "\n",
        "\u001b[2K\r",
        "Loading images: 418/682"
       ]
      },
      {
       "output_type": "stream",
       "stream": "stdout",
       "text": [
        "\n",
        "\u001b[2K\r",
        "Loading images: 419/682"
       ]
      },
      {
       "output_type": "stream",
       "stream": "stdout",
       "text": [
        "\n",
        "\u001b[2K\r",
        "Loading images: 420/682"
       ]
      },
      {
       "output_type": "stream",
       "stream": "stdout",
       "text": [
        "\n",
        "\u001b[2K\r",
        "Loading images: 421/682"
       ]
      },
      {
       "output_type": "stream",
       "stream": "stdout",
       "text": [
        "\n",
        "\u001b[2K\r",
        "Loading images: 422/682"
       ]
      },
      {
       "output_type": "stream",
       "stream": "stdout",
       "text": [
        "\n",
        "\u001b[2K\r",
        "Loading images: 423/682"
       ]
      },
      {
       "output_type": "stream",
       "stream": "stdout",
       "text": [
        "\n",
        "\u001b[2K\r",
        "Loading images: 424/682"
       ]
      },
      {
       "output_type": "stream",
       "stream": "stdout",
       "text": [
        "\n",
        "\u001b[2K\r",
        "Loading images: 425/682"
       ]
      },
      {
       "output_type": "stream",
       "stream": "stdout",
       "text": [
        "\n",
        "\u001b[2K\r",
        "Loading images: 426/682"
       ]
      },
      {
       "output_type": "stream",
       "stream": "stdout",
       "text": [
        "\n",
        "\u001b[2K\r",
        "Loading images: 427/682"
       ]
      },
      {
       "output_type": "stream",
       "stream": "stdout",
       "text": [
        "\n",
        "\u001b[2K\r",
        "Loading images: 428/682"
       ]
      },
      {
       "output_type": "stream",
       "stream": "stdout",
       "text": [
        "\n",
        "\u001b[2K\r",
        "Loading images: 429/682"
       ]
      },
      {
       "output_type": "stream",
       "stream": "stdout",
       "text": [
        "\n",
        "\u001b[2K\r",
        "Loading images: 430/682"
       ]
      },
      {
       "output_type": "stream",
       "stream": "stdout",
       "text": [
        "\n",
        "\u001b[2K\r",
        "Loading images: 431/682"
       ]
      },
      {
       "output_type": "stream",
       "stream": "stdout",
       "text": [
        "\n",
        "\u001b[2K\r",
        "Loading images: 432/682"
       ]
      },
      {
       "output_type": "stream",
       "stream": "stdout",
       "text": [
        "\n",
        "\u001b[2K\r",
        "Loading images: 433/682"
       ]
      },
      {
       "output_type": "stream",
       "stream": "stdout",
       "text": [
        "\n",
        "\u001b[2K\r",
        "Loading images: 434/682"
       ]
      },
      {
       "output_type": "stream",
       "stream": "stdout",
       "text": [
        "\n",
        "\u001b[2K\r",
        "Loading images: 435/682"
       ]
      },
      {
       "output_type": "stream",
       "stream": "stdout",
       "text": [
        "\n",
        "\u001b[2K\r",
        "Loading images: 436/682"
       ]
      },
      {
       "output_type": "stream",
       "stream": "stdout",
       "text": [
        "\n",
        "\u001b[2K\r",
        "Loading images: 437/682"
       ]
      },
      {
       "output_type": "stream",
       "stream": "stdout",
       "text": [
        "\n",
        "\u001b[2K\r",
        "Loading images: 438/682"
       ]
      },
      {
       "output_type": "stream",
       "stream": "stdout",
       "text": [
        "\n",
        "\u001b[2K\r",
        "Loading images: 439/682"
       ]
      },
      {
       "output_type": "stream",
       "stream": "stdout",
       "text": [
        "\n",
        "\u001b[2K\r",
        "Loading images: 440/682"
       ]
      },
      {
       "output_type": "stream",
       "stream": "stdout",
       "text": [
        "\n",
        "\u001b[2K\r",
        "Loading images: 441/682"
       ]
      },
      {
       "output_type": "stream",
       "stream": "stdout",
       "text": [
        "\n",
        "\u001b[2K\r",
        "Loading images: 442/682"
       ]
      },
      {
       "output_type": "stream",
       "stream": "stdout",
       "text": [
        "\n",
        "\u001b[2K\r",
        "Loading images: 443/682"
       ]
      },
      {
       "output_type": "stream",
       "stream": "stdout",
       "text": [
        "\n",
        "\u001b[2K\r",
        "Loading images: 444/682"
       ]
      },
      {
       "output_type": "stream",
       "stream": "stdout",
       "text": [
        "\n",
        "\u001b[2K\r",
        "Loading images: 445/682"
       ]
      },
      {
       "output_type": "stream",
       "stream": "stdout",
       "text": [
        "\n",
        "\u001b[2K\r",
        "Loading images: 446/682"
       ]
      },
      {
       "output_type": "stream",
       "stream": "stdout",
       "text": [
        "\n",
        "\u001b[2K\r",
        "Loading images: 447/682"
       ]
      },
      {
       "output_type": "stream",
       "stream": "stdout",
       "text": [
        "\n",
        "\u001b[2K\r",
        "Loading images: 448/682"
       ]
      },
      {
       "output_type": "stream",
       "stream": "stdout",
       "text": [
        "\n",
        "\u001b[2K\r",
        "Loading images: 449/682"
       ]
      },
      {
       "output_type": "stream",
       "stream": "stdout",
       "text": [
        "\n",
        "\u001b[2K\r",
        "Loading images: 450/682"
       ]
      },
      {
       "output_type": "stream",
       "stream": "stdout",
       "text": [
        "\n",
        "\u001b[2K\r",
        "Loading images: 451/682"
       ]
      },
      {
       "output_type": "stream",
       "stream": "stdout",
       "text": [
        "\n",
        "\u001b[2K\r",
        "Loading images: 452/682"
       ]
      },
      {
       "output_type": "stream",
       "stream": "stdout",
       "text": [
        "\n",
        "\u001b[2K\r",
        "Loading images: 453/682"
       ]
      },
      {
       "output_type": "stream",
       "stream": "stdout",
       "text": [
        "\n",
        "\u001b[2K\r",
        "Loading images: 454/682"
       ]
      },
      {
       "output_type": "stream",
       "stream": "stdout",
       "text": [
        "\n",
        "\u001b[2K\r",
        "Loading images: 455/682"
       ]
      },
      {
       "output_type": "stream",
       "stream": "stdout",
       "text": [
        "\n",
        "\u001b[2K\r",
        "Loading images: 456/682"
       ]
      },
      {
       "output_type": "stream",
       "stream": "stdout",
       "text": [
        "\n",
        "\u001b[2K\r",
        "Loading images: 457/682"
       ]
      },
      {
       "output_type": "stream",
       "stream": "stdout",
       "text": [
        "\n",
        "\u001b[2K\r",
        "Loading images: 458/682"
       ]
      },
      {
       "output_type": "stream",
       "stream": "stdout",
       "text": [
        "\n",
        "\u001b[2K\r",
        "Loading images: 459/682"
       ]
      },
      {
       "output_type": "stream",
       "stream": "stdout",
       "text": [
        "\n",
        "\u001b[2K\r",
        "Loading images: 460/682"
       ]
      },
      {
       "output_type": "stream",
       "stream": "stdout",
       "text": [
        "\n",
        "\u001b[2K\r",
        "Loading images: 461/682"
       ]
      },
      {
       "output_type": "stream",
       "stream": "stdout",
       "text": [
        "\n",
        "\u001b[2K\r",
        "Loading images: 462/682"
       ]
      },
      {
       "output_type": "stream",
       "stream": "stdout",
       "text": [
        "\n",
        "\u001b[2K\r",
        "Loading images: 463/682"
       ]
      },
      {
       "output_type": "stream",
       "stream": "stdout",
       "text": [
        "\n",
        "\u001b[2K\r",
        "Loading images: 464/682"
       ]
      },
      {
       "output_type": "stream",
       "stream": "stdout",
       "text": [
        "\n",
        "\u001b[2K\r",
        "Loading images: 465/682"
       ]
      },
      {
       "output_type": "stream",
       "stream": "stdout",
       "text": [
        "\n",
        "\u001b[2K\r",
        "Loading images: 466/682"
       ]
      },
      {
       "output_type": "stream",
       "stream": "stdout",
       "text": [
        "\n",
        "\u001b[2K\r",
        "Loading images: 467/682"
       ]
      },
      {
       "output_type": "stream",
       "stream": "stdout",
       "text": [
        "\n",
        "\u001b[2K\r",
        "Loading images: 468/682"
       ]
      },
      {
       "output_type": "stream",
       "stream": "stdout",
       "text": [
        "\n",
        "\u001b[2K\r",
        "Loading images: 469/682"
       ]
      },
      {
       "output_type": "stream",
       "stream": "stdout",
       "text": [
        "\n",
        "\u001b[2K\r",
        "Loading images: 470/682"
       ]
      },
      {
       "output_type": "stream",
       "stream": "stdout",
       "text": [
        "\n",
        "\u001b[2K\r",
        "Loading images: 471/682"
       ]
      },
      {
       "output_type": "stream",
       "stream": "stdout",
       "text": [
        "\n",
        "\u001b[2K\r",
        "Loading images: 472/682"
       ]
      },
      {
       "output_type": "stream",
       "stream": "stdout",
       "text": [
        "\n",
        "\u001b[2K\r",
        "Loading images: 473/682"
       ]
      },
      {
       "output_type": "stream",
       "stream": "stdout",
       "text": [
        "\n",
        "\u001b[2K\r",
        "Loading images: 474/682"
       ]
      },
      {
       "output_type": "stream",
       "stream": "stdout",
       "text": [
        "\n",
        "\u001b[2K\r",
        "Loading images: 475/682"
       ]
      },
      {
       "output_type": "stream",
       "stream": "stdout",
       "text": [
        "\n",
        "\u001b[2K\r",
        "Loading images: 476/682"
       ]
      },
      {
       "output_type": "stream",
       "stream": "stdout",
       "text": [
        "\n",
        "\u001b[2K\r",
        "Loading images: 477/682"
       ]
      },
      {
       "output_type": "stream",
       "stream": "stdout",
       "text": [
        "\n",
        "\u001b[2K\r",
        "Loading images: 478/682"
       ]
      },
      {
       "output_type": "stream",
       "stream": "stdout",
       "text": [
        "\n",
        "\u001b[2K\r",
        "Loading images: 479/682"
       ]
      },
      {
       "output_type": "stream",
       "stream": "stdout",
       "text": [
        "\n",
        "\u001b[2K\r",
        "Loading images: 480/682"
       ]
      },
      {
       "output_type": "stream",
       "stream": "stdout",
       "text": [
        "\n",
        "\u001b[2K\r",
        "Loading images: 481/682"
       ]
      },
      {
       "output_type": "stream",
       "stream": "stdout",
       "text": [
        "\n",
        "\u001b[2K\r",
        "Loading images: 482/682"
       ]
      },
      {
       "output_type": "stream",
       "stream": "stdout",
       "text": [
        "\n",
        "\u001b[2K\r",
        "Loading images: 483/682"
       ]
      },
      {
       "output_type": "stream",
       "stream": "stdout",
       "text": [
        "\n",
        "\u001b[2K\r",
        "Loading images: 484/682"
       ]
      },
      {
       "output_type": "stream",
       "stream": "stdout",
       "text": [
        "\n",
        "\u001b[2K\r",
        "Loading images: 485/682"
       ]
      },
      {
       "output_type": "stream",
       "stream": "stdout",
       "text": [
        "\n",
        "\u001b[2K\r",
        "Loading images: 486/682"
       ]
      },
      {
       "output_type": "stream",
       "stream": "stdout",
       "text": [
        "\n",
        "\u001b[2K\r",
        "Loading images: 487/682"
       ]
      },
      {
       "output_type": "stream",
       "stream": "stdout",
       "text": [
        "\n",
        "\u001b[2K\r",
        "Loading images: 488/682"
       ]
      },
      {
       "output_type": "stream",
       "stream": "stdout",
       "text": [
        "\n",
        "\u001b[2K\r",
        "Loading images: 489/682"
       ]
      },
      {
       "output_type": "stream",
       "stream": "stdout",
       "text": [
        "\n",
        "\u001b[2K\r",
        "Loading images: 490/682"
       ]
      },
      {
       "output_type": "stream",
       "stream": "stdout",
       "text": [
        "\n",
        "\u001b[2K\r",
        "Loading images: 491/682"
       ]
      },
      {
       "output_type": "stream",
       "stream": "stdout",
       "text": [
        "\n",
        "\u001b[2K\r",
        "Loading images: 492/682"
       ]
      },
      {
       "output_type": "stream",
       "stream": "stdout",
       "text": [
        "\n",
        "\u001b[2K\r",
        "Loading images: 493/682"
       ]
      },
      {
       "output_type": "stream",
       "stream": "stdout",
       "text": [
        "\n",
        "\u001b[2K\r",
        "Loading images: 494/682"
       ]
      },
      {
       "output_type": "stream",
       "stream": "stdout",
       "text": [
        "\n",
        "\u001b[2K\r",
        "Loading images: 495/682"
       ]
      },
      {
       "output_type": "stream",
       "stream": "stdout",
       "text": [
        "\n",
        "\u001b[2K\r",
        "Loading images: 496/682"
       ]
      },
      {
       "output_type": "stream",
       "stream": "stdout",
       "text": [
        "\n",
        "\u001b[2K\r",
        "Loading images: 497/682"
       ]
      },
      {
       "output_type": "stream",
       "stream": "stdout",
       "text": [
        "\n",
        "\u001b[2K\r",
        "Loading images: 498/682"
       ]
      },
      {
       "output_type": "stream",
       "stream": "stdout",
       "text": [
        "\n",
        "\u001b[2K\r",
        "Loading images: 499/682"
       ]
      },
      {
       "output_type": "stream",
       "stream": "stdout",
       "text": [
        "\n",
        "\u001b[2K\r",
        "Loading images: 500/682"
       ]
      },
      {
       "output_type": "stream",
       "stream": "stdout",
       "text": [
        "\n",
        "\u001b[2K\r",
        "Loading images: 501/682"
       ]
      },
      {
       "output_type": "stream",
       "stream": "stdout",
       "text": [
        "\n",
        "\u001b[2K\r",
        "Loading images: 502/682"
       ]
      },
      {
       "output_type": "stream",
       "stream": "stdout",
       "text": [
        "\n",
        "\u001b[2K\r",
        "Loading images: 503/682"
       ]
      },
      {
       "output_type": "stream",
       "stream": "stdout",
       "text": [
        "\n",
        "\u001b[2K\r",
        "Loading images: 504/682"
       ]
      },
      {
       "output_type": "stream",
       "stream": "stdout",
       "text": [
        "\n",
        "\u001b[2K\r",
        "Loading images: 505/682"
       ]
      },
      {
       "output_type": "stream",
       "stream": "stdout",
       "text": [
        "\n",
        "\u001b[2K\r",
        "Loading images: 506/682"
       ]
      },
      {
       "output_type": "stream",
       "stream": "stdout",
       "text": [
        "\n",
        "\u001b[2K\r",
        "Loading images: 507/682"
       ]
      },
      {
       "output_type": "stream",
       "stream": "stdout",
       "text": [
        "\n",
        "\u001b[2K\r",
        "Loading images: 508/682"
       ]
      },
      {
       "output_type": "stream",
       "stream": "stdout",
       "text": [
        "\n",
        "\u001b[2K\r",
        "Loading images: 509/682"
       ]
      },
      {
       "output_type": "stream",
       "stream": "stdout",
       "text": [
        "\n",
        "\u001b[2K\r",
        "Loading images: 510/682"
       ]
      },
      {
       "output_type": "stream",
       "stream": "stdout",
       "text": [
        "\n",
        "\u001b[2K\r",
        "Loading images: 511/682"
       ]
      },
      {
       "output_type": "stream",
       "stream": "stdout",
       "text": [
        "\n",
        "\u001b[2K\r",
        "Loading images: 512/682"
       ]
      },
      {
       "output_type": "stream",
       "stream": "stdout",
       "text": [
        "\n",
        "\u001b[2K\r",
        "Loading images: 513/682"
       ]
      },
      {
       "output_type": "stream",
       "stream": "stdout",
       "text": [
        "\n",
        "\u001b[2K\r",
        "Loading images: 514/682"
       ]
      },
      {
       "output_type": "stream",
       "stream": "stdout",
       "text": [
        "\n",
        "\u001b[2K\r",
        "Loading images: 515/682"
       ]
      },
      {
       "output_type": "stream",
       "stream": "stdout",
       "text": [
        "\n",
        "\u001b[2K\r",
        "Loading images: 516/682"
       ]
      },
      {
       "output_type": "stream",
       "stream": "stdout",
       "text": [
        "\n",
        "\u001b[2K\r",
        "Loading images: 517/682"
       ]
      },
      {
       "output_type": "stream",
       "stream": "stdout",
       "text": [
        "\n",
        "\u001b[2K\r",
        "Loading images: 518/682"
       ]
      },
      {
       "output_type": "stream",
       "stream": "stdout",
       "text": [
        "\n",
        "\u001b[2K\r",
        "Loading images: 519/682"
       ]
      },
      {
       "output_type": "stream",
       "stream": "stdout",
       "text": [
        "\n",
        "\u001b[2K\r",
        "Loading images: 520/682"
       ]
      },
      {
       "output_type": "stream",
       "stream": "stdout",
       "text": [
        "\n",
        "\u001b[2K\r",
        "Loading images: 521/682"
       ]
      },
      {
       "output_type": "stream",
       "stream": "stdout",
       "text": [
        "\n",
        "\u001b[2K\r",
        "Loading images: 522/682"
       ]
      },
      {
       "output_type": "stream",
       "stream": "stdout",
       "text": [
        "\n",
        "\u001b[2K\r",
        "Loading images: 523/682"
       ]
      },
      {
       "output_type": "stream",
       "stream": "stdout",
       "text": [
        "\n",
        "\u001b[2K\r",
        "Loading images: 524/682"
       ]
      },
      {
       "output_type": "stream",
       "stream": "stdout",
       "text": [
        "\n",
        "\u001b[2K\r",
        "Loading images: 525/682"
       ]
      },
      {
       "output_type": "stream",
       "stream": "stdout",
       "text": [
        "\n",
        "\u001b[2K\r",
        "Loading images: 526/682"
       ]
      },
      {
       "output_type": "stream",
       "stream": "stdout",
       "text": [
        "\n",
        "\u001b[2K\r",
        "Loading images: 527/682"
       ]
      },
      {
       "output_type": "stream",
       "stream": "stdout",
       "text": [
        "\n",
        "\u001b[2K\r",
        "Loading images: 528/682"
       ]
      },
      {
       "output_type": "stream",
       "stream": "stdout",
       "text": [
        "\n",
        "\u001b[2K\r",
        "Loading images: 529/682"
       ]
      },
      {
       "output_type": "stream",
       "stream": "stdout",
       "text": [
        "\n",
        "\u001b[2K\r",
        "Loading images: 530/682"
       ]
      },
      {
       "output_type": "stream",
       "stream": "stdout",
       "text": [
        "\n",
        "\u001b[2K\r",
        "Loading images: 531/682"
       ]
      },
      {
       "output_type": "stream",
       "stream": "stdout",
       "text": [
        "\n",
        "\u001b[2K\r",
        "Loading images: 532/682"
       ]
      },
      {
       "output_type": "stream",
       "stream": "stdout",
       "text": [
        "\n",
        "\u001b[2K\r",
        "Loading images: 533/682"
       ]
      },
      {
       "output_type": "stream",
       "stream": "stdout",
       "text": [
        "\n",
        "\u001b[2K\r",
        "Loading images: 534/682"
       ]
      },
      {
       "output_type": "stream",
       "stream": "stdout",
       "text": [
        "\n",
        "\u001b[2K\r",
        "Loading images: 535/682"
       ]
      },
      {
       "output_type": "stream",
       "stream": "stdout",
       "text": [
        "\n",
        "\u001b[2K\r",
        "Loading images: 536/682"
       ]
      },
      {
       "output_type": "stream",
       "stream": "stdout",
       "text": [
        "\n",
        "\u001b[2K\r",
        "Loading images: 537/682"
       ]
      },
      {
       "output_type": "stream",
       "stream": "stdout",
       "text": [
        "\n",
        "\u001b[2K\r",
        "Loading images: 538/682"
       ]
      },
      {
       "output_type": "stream",
       "stream": "stdout",
       "text": [
        "\n",
        "\u001b[2K\r",
        "Loading images: 539/682"
       ]
      },
      {
       "output_type": "stream",
       "stream": "stdout",
       "text": [
        "\n",
        "\u001b[2K\r",
        "Loading images: 540/682"
       ]
      },
      {
       "output_type": "stream",
       "stream": "stdout",
       "text": [
        "\n",
        "\u001b[2K\r",
        "Loading images: 541/682"
       ]
      },
      {
       "output_type": "stream",
       "stream": "stdout",
       "text": [
        "\n",
        "\u001b[2K\r",
        "Loading images: 542/682"
       ]
      },
      {
       "output_type": "stream",
       "stream": "stdout",
       "text": [
        "\n",
        "\u001b[2K\r",
        "Loading images: 543/682"
       ]
      },
      {
       "output_type": "stream",
       "stream": "stdout",
       "text": [
        "\n",
        "\u001b[2K\r",
        "Loading images: 544/682"
       ]
      },
      {
       "output_type": "stream",
       "stream": "stdout",
       "text": [
        "\n",
        "\u001b[2K\r",
        "Loading images: 545/682"
       ]
      },
      {
       "output_type": "stream",
       "stream": "stdout",
       "text": [
        "\n",
        "\u001b[2K\r",
        "Loading images: 546/682"
       ]
      },
      {
       "output_type": "stream",
       "stream": "stdout",
       "text": [
        "\n",
        "\u001b[2K\r",
        "Loading images: 547/682"
       ]
      },
      {
       "output_type": "stream",
       "stream": "stdout",
       "text": [
        "\n",
        "\u001b[2K\r",
        "Loading images: 548/682"
       ]
      },
      {
       "output_type": "stream",
       "stream": "stdout",
       "text": [
        "\n",
        "\u001b[2K\r",
        "Loading images: 549/682"
       ]
      },
      {
       "output_type": "stream",
       "stream": "stdout",
       "text": [
        "\n",
        "\u001b[2K\r",
        "Loading images: 550/682"
       ]
      },
      {
       "output_type": "stream",
       "stream": "stdout",
       "text": [
        "\n",
        "\u001b[2K\r",
        "Loading images: 551/682"
       ]
      },
      {
       "output_type": "stream",
       "stream": "stdout",
       "text": [
        "\n",
        "\u001b[2K\r",
        "Loading images: 552/682"
       ]
      },
      {
       "output_type": "stream",
       "stream": "stdout",
       "text": [
        "\n",
        "\u001b[2K\r",
        "Loading images: 553/682"
       ]
      },
      {
       "output_type": "stream",
       "stream": "stdout",
       "text": [
        "\n",
        "\u001b[2K\r",
        "Loading images: 554/682"
       ]
      },
      {
       "output_type": "stream",
       "stream": "stdout",
       "text": [
        "\n",
        "\u001b[2K\r",
        "Loading images: 555/682"
       ]
      },
      {
       "output_type": "stream",
       "stream": "stdout",
       "text": [
        "\n",
        "\u001b[2K\r",
        "Loading images: 556/682"
       ]
      },
      {
       "output_type": "stream",
       "stream": "stdout",
       "text": [
        "\n",
        "\u001b[2K\r",
        "Loading images: 557/682"
       ]
      },
      {
       "output_type": "stream",
       "stream": "stdout",
       "text": [
        "\n",
        "\u001b[2K\r",
        "Loading images: 558/682"
       ]
      },
      {
       "output_type": "stream",
       "stream": "stdout",
       "text": [
        "\n",
        "\u001b[2K\r",
        "Loading images: 559/682"
       ]
      },
      {
       "output_type": "stream",
       "stream": "stdout",
       "text": [
        "\n",
        "\u001b[2K\r",
        "Loading images: 560/682"
       ]
      },
      {
       "output_type": "stream",
       "stream": "stdout",
       "text": [
        "\n",
        "\u001b[2K\r",
        "Loading images: 561/682"
       ]
      },
      {
       "output_type": "stream",
       "stream": "stdout",
       "text": [
        "\n",
        "\u001b[2K\r",
        "Loading images: 562/682"
       ]
      },
      {
       "output_type": "stream",
       "stream": "stdout",
       "text": [
        "\n",
        "\u001b[2K\r",
        "Loading images: 563/682"
       ]
      },
      {
       "output_type": "stream",
       "stream": "stdout",
       "text": [
        "\n",
        "\u001b[2K\r",
        "Loading images: 564/682"
       ]
      },
      {
       "output_type": "stream",
       "stream": "stdout",
       "text": [
        "\n",
        "\u001b[2K\r",
        "Loading images: 565/682"
       ]
      },
      {
       "output_type": "stream",
       "stream": "stdout",
       "text": [
        "\n",
        "\u001b[2K\r",
        "Loading images: 566/682"
       ]
      },
      {
       "output_type": "stream",
       "stream": "stdout",
       "text": [
        "\n",
        "\u001b[2K\r",
        "Loading images: 567/682"
       ]
      },
      {
       "output_type": "stream",
       "stream": "stdout",
       "text": [
        "\n",
        "\u001b[2K\r",
        "Loading images: 568/682"
       ]
      },
      {
       "output_type": "stream",
       "stream": "stdout",
       "text": [
        "\n",
        "\u001b[2K\r",
        "Loading images: 569/682"
       ]
      },
      {
       "output_type": "stream",
       "stream": "stdout",
       "text": [
        "\n",
        "\u001b[2K\r",
        "Loading images: 570/682"
       ]
      },
      {
       "output_type": "stream",
       "stream": "stdout",
       "text": [
        "\n",
        "\u001b[2K\r",
        "Loading images: 571/682"
       ]
      },
      {
       "output_type": "stream",
       "stream": "stdout",
       "text": [
        "\n",
        "\u001b[2K\r",
        "Loading images: 572/682"
       ]
      },
      {
       "output_type": "stream",
       "stream": "stdout",
       "text": [
        "\n",
        "\u001b[2K\r",
        "Loading images: 573/682"
       ]
      },
      {
       "output_type": "stream",
       "stream": "stdout",
       "text": [
        "\n",
        "\u001b[2K\r",
        "Loading images: 574/682"
       ]
      },
      {
       "output_type": "stream",
       "stream": "stdout",
       "text": [
        "\n",
        "\u001b[2K\r",
        "Loading images: 575/682"
       ]
      },
      {
       "output_type": "stream",
       "stream": "stdout",
       "text": [
        "\n",
        "\u001b[2K\r",
        "Loading images: 576/682"
       ]
      },
      {
       "output_type": "stream",
       "stream": "stdout",
       "text": [
        "\n",
        "\u001b[2K\r",
        "Loading images: 577/682"
       ]
      },
      {
       "output_type": "stream",
       "stream": "stdout",
       "text": [
        "\n",
        "\u001b[2K\r",
        "Loading images: 578/682"
       ]
      },
      {
       "output_type": "stream",
       "stream": "stdout",
       "text": [
        "\n",
        "\u001b[2K\r",
        "Loading images: 579/682"
       ]
      },
      {
       "output_type": "stream",
       "stream": "stdout",
       "text": [
        "\n",
        "\u001b[2K\r",
        "Loading images: 580/682"
       ]
      },
      {
       "output_type": "stream",
       "stream": "stdout",
       "text": [
        "\n",
        "\u001b[2K\r",
        "Loading images: 581/682"
       ]
      },
      {
       "output_type": "stream",
       "stream": "stdout",
       "text": [
        "\n",
        "\u001b[2K\r",
        "Loading images: 582/682"
       ]
      },
      {
       "output_type": "stream",
       "stream": "stdout",
       "text": [
        "\n",
        "\u001b[2K\r",
        "Loading images: 583/682"
       ]
      },
      {
       "output_type": "stream",
       "stream": "stdout",
       "text": [
        "\n",
        "\u001b[2K\r",
        "Loading images: 584/682"
       ]
      },
      {
       "output_type": "stream",
       "stream": "stdout",
       "text": [
        "\n",
        "\u001b[2K\r",
        "Loading images: 585/682"
       ]
      },
      {
       "output_type": "stream",
       "stream": "stdout",
       "text": [
        "\n",
        "\u001b[2K\r",
        "Loading images: 586/682"
       ]
      },
      {
       "output_type": "stream",
       "stream": "stdout",
       "text": [
        "\n",
        "\u001b[2K\r",
        "Loading images: 587/682"
       ]
      },
      {
       "output_type": "stream",
       "stream": "stdout",
       "text": [
        "\n",
        "\u001b[2K\r",
        "Loading images: 588/682"
       ]
      },
      {
       "output_type": "stream",
       "stream": "stdout",
       "text": [
        "\n",
        "\u001b[2K\r",
        "Loading images: 589/682"
       ]
      },
      {
       "output_type": "stream",
       "stream": "stdout",
       "text": [
        "\n",
        "\u001b[2K\r",
        "Loading images: 590/682"
       ]
      },
      {
       "output_type": "stream",
       "stream": "stdout",
       "text": [
        "\n",
        "\u001b[2K\r",
        "Loading images: 591/682"
       ]
      },
      {
       "output_type": "stream",
       "stream": "stdout",
       "text": [
        "\n",
        "\u001b[2K\r",
        "Loading images: 592/682"
       ]
      },
      {
       "output_type": "stream",
       "stream": "stdout",
       "text": [
        "\n",
        "\u001b[2K\r",
        "Loading images: 593/682"
       ]
      },
      {
       "output_type": "stream",
       "stream": "stdout",
       "text": [
        "\n",
        "\u001b[2K\r",
        "Loading images: 594/682"
       ]
      },
      {
       "output_type": "stream",
       "stream": "stdout",
       "text": [
        "\n",
        "\u001b[2K\r",
        "Loading images: 595/682"
       ]
      },
      {
       "output_type": "stream",
       "stream": "stdout",
       "text": [
        "\n",
        "\u001b[2K\r",
        "Loading images: 596/682"
       ]
      },
      {
       "output_type": "stream",
       "stream": "stdout",
       "text": [
        "\n",
        "\u001b[2K\r",
        "Loading images: 597/682"
       ]
      },
      {
       "output_type": "stream",
       "stream": "stdout",
       "text": [
        "\n",
        "\u001b[2K\r",
        "Loading images: 598/682"
       ]
      },
      {
       "output_type": "stream",
       "stream": "stdout",
       "text": [
        "\n",
        "\u001b[2K\r",
        "Loading images: 599/682"
       ]
      },
      {
       "output_type": "stream",
       "stream": "stdout",
       "text": [
        "\n",
        "\u001b[2K\r",
        "Loading images: 600/682"
       ]
      },
      {
       "output_type": "stream",
       "stream": "stdout",
       "text": [
        "\n",
        "\u001b[2K\r",
        "Loading images: 601/682"
       ]
      },
      {
       "output_type": "stream",
       "stream": "stdout",
       "text": [
        "\n",
        "\u001b[2K\r",
        "Loading images: 602/682"
       ]
      },
      {
       "output_type": "stream",
       "stream": "stdout",
       "text": [
        "\n",
        "\u001b[2K\r",
        "Loading images: 603/682"
       ]
      },
      {
       "output_type": "stream",
       "stream": "stdout",
       "text": [
        "\n",
        "\u001b[2K\r",
        "Loading images: 604/682"
       ]
      },
      {
       "output_type": "stream",
       "stream": "stdout",
       "text": [
        "\n",
        "\u001b[2K\r",
        "Loading images: 605/682"
       ]
      },
      {
       "output_type": "stream",
       "stream": "stdout",
       "text": [
        "\n",
        "\u001b[2K\r",
        "Loading images: 606/682"
       ]
      },
      {
       "output_type": "stream",
       "stream": "stdout",
       "text": [
        "\n",
        "\u001b[2K\r",
        "Loading images: 607/682"
       ]
      },
      {
       "output_type": "stream",
       "stream": "stdout",
       "text": [
        "\n",
        "\u001b[2K\r",
        "Loading images: 608/682"
       ]
      },
      {
       "output_type": "stream",
       "stream": "stdout",
       "text": [
        "\n",
        "\u001b[2K\r",
        "Loading images: 609/682"
       ]
      },
      {
       "output_type": "stream",
       "stream": "stdout",
       "text": [
        "\n",
        "\u001b[2K\r",
        "Loading images: 610/682"
       ]
      },
      {
       "output_type": "stream",
       "stream": "stdout",
       "text": [
        "\n",
        "\u001b[2K\r",
        "Loading images: 611/682"
       ]
      },
      {
       "output_type": "stream",
       "stream": "stdout",
       "text": [
        "\n",
        "\u001b[2K\r",
        "Loading images: 612/682"
       ]
      },
      {
       "output_type": "stream",
       "stream": "stdout",
       "text": [
        "\n",
        "\u001b[2K\r",
        "Loading images: 613/682"
       ]
      },
      {
       "output_type": "stream",
       "stream": "stdout",
       "text": [
        "\n",
        "\u001b[2K\r",
        "Loading images: 614/682"
       ]
      },
      {
       "output_type": "stream",
       "stream": "stdout",
       "text": [
        "\n",
        "\u001b[2K\r",
        "Loading images: 615/682"
       ]
      },
      {
       "output_type": "stream",
       "stream": "stdout",
       "text": [
        "\n",
        "\u001b[2K\r",
        "Loading images: 616/682"
       ]
      },
      {
       "output_type": "stream",
       "stream": "stdout",
       "text": [
        "\n",
        "\u001b[2K\r",
        "Loading images: 617/682"
       ]
      },
      {
       "output_type": "stream",
       "stream": "stdout",
       "text": [
        "\n",
        "\u001b[2K\r",
        "Loading images: 618/682"
       ]
      },
      {
       "output_type": "stream",
       "stream": "stdout",
       "text": [
        "\n",
        "\u001b[2K\r",
        "Loading images: 619/682"
       ]
      },
      {
       "output_type": "stream",
       "stream": "stdout",
       "text": [
        "\n",
        "\u001b[2K\r",
        "Loading images: 620/682"
       ]
      },
      {
       "output_type": "stream",
       "stream": "stdout",
       "text": [
        "\n",
        "\u001b[2K\r",
        "Loading images: 621/682"
       ]
      },
      {
       "output_type": "stream",
       "stream": "stdout",
       "text": [
        "\n",
        "\u001b[2K\r",
        "Loading images: 622/682"
       ]
      },
      {
       "output_type": "stream",
       "stream": "stdout",
       "text": [
        "\n",
        "\u001b[2K\r",
        "Loading images: 623/682"
       ]
      },
      {
       "output_type": "stream",
       "stream": "stdout",
       "text": [
        "\n",
        "\u001b[2K\r",
        "Loading images: 624/682"
       ]
      },
      {
       "output_type": "stream",
       "stream": "stdout",
       "text": [
        "\n",
        "\u001b[2K\r",
        "Loading images: 625/682"
       ]
      },
      {
       "output_type": "stream",
       "stream": "stdout",
       "text": [
        "\n",
        "\u001b[2K\r",
        "Loading images: 626/682"
       ]
      },
      {
       "output_type": "stream",
       "stream": "stdout",
       "text": [
        "\n",
        "\u001b[2K\r",
        "Loading images: 627/682"
       ]
      },
      {
       "output_type": "stream",
       "stream": "stdout",
       "text": [
        "\n",
        "\u001b[2K\r",
        "Loading images: 628/682"
       ]
      },
      {
       "output_type": "stream",
       "stream": "stdout",
       "text": [
        "\n",
        "\u001b[2K\r",
        "Loading images: 629/682"
       ]
      },
      {
       "output_type": "stream",
       "stream": "stdout",
       "text": [
        "\n",
        "\u001b[2K\r",
        "Loading images: 630/682"
       ]
      },
      {
       "output_type": "stream",
       "stream": "stdout",
       "text": [
        "\n",
        "\u001b[2K\r",
        "Loading images: 631/682"
       ]
      },
      {
       "output_type": "stream",
       "stream": "stdout",
       "text": [
        "\n",
        "\u001b[2K\r",
        "Loading images: 632/682"
       ]
      },
      {
       "output_type": "stream",
       "stream": "stdout",
       "text": [
        "\n",
        "\u001b[2K\r",
        "Loading images: 633/682"
       ]
      },
      {
       "output_type": "stream",
       "stream": "stdout",
       "text": [
        "\n",
        "\u001b[2K\r",
        "Loading images: 634/682"
       ]
      },
      {
       "output_type": "stream",
       "stream": "stdout",
       "text": [
        "\n",
        "\u001b[2K\r",
        "Loading images: 635/682"
       ]
      },
      {
       "output_type": "stream",
       "stream": "stdout",
       "text": [
        "\n",
        "\u001b[2K\r",
        "Loading images: 636/682"
       ]
      },
      {
       "output_type": "stream",
       "stream": "stdout",
       "text": [
        "\n",
        "\u001b[2K\r",
        "Loading images: 637/682"
       ]
      },
      {
       "output_type": "stream",
       "stream": "stdout",
       "text": [
        "\n",
        "\u001b[2K\r",
        "Loading images: 638/682"
       ]
      },
      {
       "output_type": "stream",
       "stream": "stdout",
       "text": [
        "\n",
        "\u001b[2K\r",
        "Loading images: 639/682"
       ]
      },
      {
       "output_type": "stream",
       "stream": "stdout",
       "text": [
        "\n",
        "\u001b[2K\r",
        "Loading images: 640/682"
       ]
      },
      {
       "output_type": "stream",
       "stream": "stdout",
       "text": [
        "\n",
        "\u001b[2K\r",
        "Loading images: 641/682"
       ]
      },
      {
       "output_type": "stream",
       "stream": "stdout",
       "text": [
        "\n",
        "\u001b[2K\r",
        "Loading images: 642/682"
       ]
      },
      {
       "output_type": "stream",
       "stream": "stdout",
       "text": [
        "\n",
        "\u001b[2K\r",
        "Loading images: 643/682"
       ]
      },
      {
       "output_type": "stream",
       "stream": "stdout",
       "text": [
        "\n",
        "\u001b[2K\r",
        "Loading images: 644/682"
       ]
      },
      {
       "output_type": "stream",
       "stream": "stdout",
       "text": [
        "\n",
        "\u001b[2K\r",
        "Loading images: 645/682"
       ]
      },
      {
       "output_type": "stream",
       "stream": "stdout",
       "text": [
        "\n",
        "\u001b[2K\r",
        "Loading images: 646/682"
       ]
      },
      {
       "output_type": "stream",
       "stream": "stdout",
       "text": [
        "\n",
        "\u001b[2K\r",
        "Loading images: 647/682"
       ]
      },
      {
       "output_type": "stream",
       "stream": "stdout",
       "text": [
        "\n",
        "\u001b[2K\r",
        "Loading images: 648/682"
       ]
      },
      {
       "output_type": "stream",
       "stream": "stdout",
       "text": [
        "\n",
        "\u001b[2K\r",
        "Loading images: 649/682"
       ]
      },
      {
       "output_type": "stream",
       "stream": "stdout",
       "text": [
        "\n",
        "\u001b[2K\r",
        "Loading images: 650/682"
       ]
      },
      {
       "output_type": "stream",
       "stream": "stdout",
       "text": [
        "\n",
        "\u001b[2K\r",
        "Loading images: 651/682"
       ]
      },
      {
       "output_type": "stream",
       "stream": "stdout",
       "text": [
        "\n",
        "\u001b[2K\r",
        "Loading images: 652/682"
       ]
      },
      {
       "output_type": "stream",
       "stream": "stdout",
       "text": [
        "\n",
        "\u001b[2K\r",
        "Loading images: 653/682"
       ]
      },
      {
       "output_type": "stream",
       "stream": "stdout",
       "text": [
        "\n",
        "\u001b[2K\r",
        "Loading images: 654/682"
       ]
      },
      {
       "output_type": "stream",
       "stream": "stdout",
       "text": [
        "\n",
        "\u001b[2K\r",
        "Loading images: 655/682"
       ]
      },
      {
       "output_type": "stream",
       "stream": "stdout",
       "text": [
        "\n",
        "\u001b[2K\r",
        "Loading images: 656/682"
       ]
      },
      {
       "output_type": "stream",
       "stream": "stdout",
       "text": [
        "\n",
        "\u001b[2K\r",
        "Loading images: 657/682"
       ]
      },
      {
       "output_type": "stream",
       "stream": "stdout",
       "text": [
        "\n",
        "\u001b[2K\r",
        "Loading images: 658/682"
       ]
      },
      {
       "output_type": "stream",
       "stream": "stdout",
       "text": [
        "\n",
        "\u001b[2K\r",
        "Loading images: 659/682"
       ]
      },
      {
       "output_type": "stream",
       "stream": "stdout",
       "text": [
        "\n",
        "\u001b[2K\r",
        "Loading images: 660/682"
       ]
      },
      {
       "output_type": "stream",
       "stream": "stdout",
       "text": [
        "\n",
        "\u001b[2K\r",
        "Loading images: 661/682"
       ]
      },
      {
       "output_type": "stream",
       "stream": "stdout",
       "text": [
        "\n",
        "\u001b[2K\r",
        "Loading images: 662/682"
       ]
      },
      {
       "output_type": "stream",
       "stream": "stdout",
       "text": [
        "\n",
        "\u001b[2K\r",
        "Loading images: 663/682"
       ]
      },
      {
       "output_type": "stream",
       "stream": "stdout",
       "text": [
        "\n",
        "\u001b[2K\r",
        "Loading images: 664/682"
       ]
      },
      {
       "output_type": "stream",
       "stream": "stdout",
       "text": [
        "\n",
        "\u001b[2K\r",
        "Loading images: 665/682"
       ]
      },
      {
       "output_type": "stream",
       "stream": "stdout",
       "text": [
        "\n",
        "\u001b[2K\r",
        "Loading images: 666/682"
       ]
      },
      {
       "output_type": "stream",
       "stream": "stdout",
       "text": [
        "\n",
        "\u001b[2K\r",
        "Loading images: 667/682"
       ]
      },
      {
       "output_type": "stream",
       "stream": "stdout",
       "text": [
        "\n",
        "\u001b[2K\r",
        "Loading images: 668/682"
       ]
      },
      {
       "output_type": "stream",
       "stream": "stdout",
       "text": [
        "\n",
        "\u001b[2K\r",
        "Loading images: 669/682"
       ]
      },
      {
       "output_type": "stream",
       "stream": "stdout",
       "text": [
        "\n",
        "\u001b[2K\r",
        "Loading images: 670/682"
       ]
      },
      {
       "output_type": "stream",
       "stream": "stdout",
       "text": [
        "\n",
        "\u001b[2K\r",
        "Loading images: 671/682"
       ]
      },
      {
       "output_type": "stream",
       "stream": "stdout",
       "text": [
        "\n",
        "\u001b[2K\r",
        "Loading images: 672/682"
       ]
      },
      {
       "output_type": "stream",
       "stream": "stdout",
       "text": [
        "\n",
        "\u001b[2K\r",
        "Loading images: 673/682"
       ]
      },
      {
       "output_type": "stream",
       "stream": "stdout",
       "text": [
        "\n",
        "\u001b[2K\r",
        "Loading images: 674/682"
       ]
      },
      {
       "output_type": "stream",
       "stream": "stdout",
       "text": [
        "\n",
        "\u001b[2K\r",
        "Loading images: 675/682"
       ]
      },
      {
       "output_type": "stream",
       "stream": "stdout",
       "text": [
        "\n",
        "\u001b[2K\r",
        "Loading images: 676/682"
       ]
      },
      {
       "output_type": "stream",
       "stream": "stdout",
       "text": [
        "\n",
        "\u001b[2K\r",
        "Loading images: 677/682"
       ]
      },
      {
       "output_type": "stream",
       "stream": "stdout",
       "text": [
        "\n",
        "\u001b[2K\r",
        "Loading images: 678/682"
       ]
      },
      {
       "output_type": "stream",
       "stream": "stdout",
       "text": [
        "\n",
        "\u001b[2K\r",
        "Loading images: 679/682"
       ]
      },
      {
       "output_type": "stream",
       "stream": "stdout",
       "text": [
        "\n",
        "\u001b[2K\r",
        "Loading images: 680/682"
       ]
      },
      {
       "output_type": "stream",
       "stream": "stdout",
       "text": [
        "\n",
        "\u001b[2K\r",
        "Loading images: 681/682"
       ]
      },
      {
       "output_type": "stream",
       "stream": "stdout",
       "text": [
        "\n",
        "\u001b[2K\r",
        "Loading images: 682/682"
       ]
      },
      {
       "output_type": "stream",
       "stream": "stdout",
       "text": [
        "\n"
       ]
      },
      {
       "ename": "MemoryError",
       "evalue": "",
       "output_type": "pyerr",
       "traceback": [
        "\u001b[0;31m---------------------------------------------------------------------------\u001b[0m\n\u001b[0;31mMemoryError\u001b[0m                               Traceback (most recent call last)",
        "\u001b[0;32m<ipython-input-6-bfc4e2c0097a>\u001b[0m in \u001b[0;36m<module>\u001b[0;34m()\u001b[0m\n\u001b[0;32m----> 1\u001b[0;31m \u001b[0mneural_net_version2\u001b[0m\u001b[0;34m.\u001b[0m\u001b[0mrun\u001b[0m\u001b[0;34m(\u001b[0m\u001b[0;34m)\u001b[0m\u001b[0;34m\u001b[0m\u001b[0m\n\u001b[0m",
        "\u001b[0;32m/home/Ting/painting-classifier/neural_net_version2.pyc\u001b[0m in \u001b[0;36mrun\u001b[0;34m()\u001b[0m\n\u001b[1;32m    107\u001b[0m         \u001b[0mphoto_stats\u001b[0m \u001b[0;34m=\u001b[0m \u001b[0mscaler\u001b[0m\u001b[0;34m.\u001b[0m\u001b[0mtransform\u001b[0m\u001b[0;34m(\u001b[0m\u001b[0mphoto_stats\u001b[0m\u001b[0;34m)\u001b[0m\u001b[0;34m\u001b[0m\u001b[0m\n\u001b[1;32m    108\u001b[0m \u001b[0;34m\u001b[0m\u001b[0m\n\u001b[0;32m--> 109\u001b[0;31m         \u001b[0mphotos\u001b[0m \u001b[0;34m=\u001b[0m \u001b[0mimages_colors\u001b[0m\u001b[0;34m(\u001b[0m\u001b[0mdf_data\u001b[0m\u001b[0;34m[\u001b[0m\u001b[0;34m'file_name'\u001b[0m\u001b[0;34m]\u001b[0m\u001b[0;34m,\u001b[0m \u001b[0;34m'data/resized_200/'\u001b[0m\u001b[0;34m)\u001b[0m\u001b[0;34m\u001b[0m\u001b[0m\n\u001b[0m\u001b[1;32m    110\u001b[0m \u001b[0;34m\u001b[0m\u001b[0m\n\u001b[1;32m    111\u001b[0m         \u001b[0mnet\u001b[0m \u001b[0;34m=\u001b[0m \u001b[0mneural_net_photo_version2\u001b[0m\u001b[0;34m(\u001b[0m\u001b[0;34m)\u001b[0m\u001b[0;34m\u001b[0m\u001b[0m\n",
        "\u001b[0;32m/home/Ting/painting-classifier/neural_net_version2.pyc\u001b[0m in \u001b[0;36mimages_colors\u001b[0;34m(file_names, image_dir)\u001b[0m\n\u001b[1;32m     82\u001b[0m             \u001b[0msys\u001b[0m\u001b[0;34m.\u001b[0m\u001b[0mstderr\u001b[0m\u001b[0;34m.\u001b[0m\u001b[0mflush\u001b[0m\u001b[0;34m(\u001b[0m\u001b[0;34m)\u001b[0m\u001b[0;34m\u001b[0m\u001b[0m\n\u001b[1;32m     83\u001b[0m         \u001b[0msys\u001b[0m\u001b[0;34m.\u001b[0m\u001b[0mstdout\u001b[0m\u001b[0;34m.\u001b[0m\u001b[0mwrite\u001b[0m\u001b[0;34m(\u001b[0m\u001b[0;34m'\\n'\u001b[0m\u001b[0;34m)\u001b[0m\u001b[0;34m\u001b[0m\u001b[0m\n\u001b[0;32m---> 84\u001b[0;31m     \u001b[0mphotos\u001b[0m \u001b[0;34m=\u001b[0m \u001b[0mnp\u001b[0m\u001b[0;34m.\u001b[0m\u001b[0mvstack\u001b[0m\u001b[0;34m(\u001b[0m\u001b[0mphotos\u001b[0m\u001b[0;34m)\u001b[0m \u001b[0;34m/\u001b[0m \u001b[0;36m255\u001b[0m\u001b[0;34m\u001b[0m\u001b[0m\n\u001b[0m\u001b[1;32m     85\u001b[0m \u001b[0;34m\u001b[0m\u001b[0m\n\u001b[1;32m     86\u001b[0m     \u001b[0;32mreturn\u001b[0m \u001b[0mphotos\u001b[0m\u001b[0;34m\u001b[0m\u001b[0m\n",
        "\u001b[0;31mMemoryError\u001b[0m: "
       ]
      }
     ],
     "prompt_number": 6
    },
    {
     "cell_type": "code",
     "collapsed": false,
     "input": [
      "neural_net_version2.get_image_data('resized_200/gogh_van_01_3drenth2.jpg')"
     ],
     "language": "python",
     "metadata": {},
     "outputs": []
    },
    {
     "cell_type": "code",
     "collapsed": false,
     "input": [
      "from google.cloud import storage\n",
      "from StringIO import StringIO\n",
      "from PIL import Image"
     ],
     "language": "python",
     "metadata": {},
     "outputs": [],
     "prompt_number": 1
    },
    {
     "cell_type": "code",
     "collapsed": false,
     "input": [
      "PROJECT_NAME = 'painting-classifier'\n",
      "BUCKET_NAME = 'painting-classifier-data'\n",
      "\n",
      "bucket = storage.Client(project = PROJECT_NAME).bucket(BUCKET_NAME)"
     ],
     "language": "python",
     "metadata": {},
     "outputs": [],
     "prompt_number": 2
    },
    {
     "cell_type": "code",
     "collapsed": false,
     "input": [
      "im = Image.open(StringIO(bucket.blob('resized_200/gogh_van_01_3drenth2.jpg').download_as_string()))"
     ],
     "language": "python",
     "metadata": {},
     "outputs": [],
     "prompt_number": 3
    },
    {
     "cell_type": "code",
     "collapsed": false,
     "input": [
      "im.height"
     ],
     "language": "python",
     "metadata": {},
     "outputs": [
      {
       "metadata": {},
       "output_type": "pyout",
       "prompt_number": 4,
       "text": [
        "200"
       ]
      }
     ],
     "prompt_number": 4
    },
    {
     "cell_type": "code",
     "collapsed": false,
     "input": [
      "import pandas as pd"
     ],
     "language": "python",
     "metadata": {},
     "outputs": [],
     "prompt_number": 29
    },
    {
     "cell_type": "code",
     "collapsed": false,
     "input": [
      "pd.read_csv('data/painting_info_clean.csv')"
     ],
     "language": "python",
     "metadata": {},
     "outputs": [
      {
       "html": [
        "<div style=\"max-width:1500px;overflow:auto;\">\n",
        "<table border=\"1\" class=\"dataframe\">\n",
        "  <thead>\n",
        "    <tr style=\"text-align: right;\">\n",
        "      <th></th>\n",
        "      <th>painting_url</th>\n",
        "      <th>short_name</th>\n",
        "      <th>painting_info_detail</th>\n",
        "      <th>period_code</th>\n",
        "      <th>creation_date</th>\n",
        "      <th>creation_place</th>\n",
        "      <th>dimension</th>\n",
        "      <th>exibit_place</th>\n",
        "      <th>technique</th>\n",
        "      <th>title</th>\n",
        "      <th>file_name</th>\n",
        "    </tr>\n",
        "  </thead>\n",
        "  <tbody>\n",
        "    <tr>\n",
        "      <th>0</th>\n",
        "      <td>http://www.wga.hu/art/g/gogh_van/21/waterc01.jpg</td>\n",
        "      <td>gogh_van</td>\n",
        "      <td>\\r\\n,Edge of a Wood,\\r\\nJune-July 1881, Etten,...</td>\n",
        "      <td>21</td>\n",
        "      <td>June-July 1881</td>\n",
        "      <td>Etten</td>\n",
        "      <td>416 x 548 mm</td>\n",
        "      <td>Rijksmuseum Kr\u00f6ller-M\u00fcller, Otterlo</td>\n",
        "      <td>Pencil, charcoal, brush and ink, watercolour o...</td>\n",
        "      <td>Edge of a Wood</td>\n",
        "      <td>gogh_van_21_waterc01.jpg</td>\n",
        "    </tr>\n",
        "    <tr>\n",
        "      <th>1</th>\n",
        "      <td>http://www.wga.hu/art/g/gogh_van/21/waterc02.jpg</td>\n",
        "      <td>gogh_van</td>\n",
        "      <td>\\r\\n,Woman Sewing,\\r\\nOctober-November 1881, E...</td>\n",
        "      <td>21</td>\n",
        "      <td>October-November 1881</td>\n",
        "      <td>Etten</td>\n",
        "      <td>620 x 472 mm</td>\n",
        "      <td>Rijksmuseum Kr\u00f6ller-M\u00fcller, Otterlo</td>\n",
        "      <td>Black chalk, washed, opaque watercolour, on la...</td>\n",
        "      <td>Woman Sewing</td>\n",
        "      <td>gogh_van_21_waterc02.jpg</td>\n",
        "    </tr>\n",
        "    <tr>\n",
        "      <th>2</th>\n",
        "      <td>http://www.wga.hu/art/g/gogh_van/21/waterc03.jpg</td>\n",
        "      <td>gogh_van</td>\n",
        "      <td>\\r\\n,Sien with Cigar Sitting on the Floor near...</td>\n",
        "      <td>21</td>\n",
        "      <td>March-April 1882</td>\n",
        "      <td>The Hague</td>\n",
        "      <td>452 x 557 mm</td>\n",
        "      <td>Rijksmuseum Kr\u00f6ller-M\u00fcller, Otterlo</td>\n",
        "      <td>Pencil, pen and brush in black ink, white opaq...</td>\n",
        "      <td>Sien with Cigar Sitting on the Floor near Stove</td>\n",
        "      <td>gogh_van_21_waterc03.jpg</td>\n",
        "    </tr>\n",
        "    <tr>\n",
        "      <th>3</th>\n",
        "      <td>http://www.wga.hu/art/g/gogh_van/21/waterc04.jpg</td>\n",
        "      <td>gogh_van</td>\n",
        "      <td>\\r\\n,Beach at Scheveningen,\\r\\nOctober 1882, T...</td>\n",
        "      <td>21</td>\n",
        "      <td>October 1882</td>\n",
        "      <td>The Hague</td>\n",
        "      <td>340 x 495 mm</td>\n",
        "      <td>Baltimore Museum of Art, Baltimore</td>\n",
        "      <td>Watercolour</td>\n",
        "      <td>Beach at Scheveningen</td>\n",
        "      <td>gogh_van_21_waterc04.jpg</td>\n",
        "    </tr>\n",
        "    <tr>\n",
        "      <th>4</th>\n",
        "      <td>http://www.wga.hu/art/g/gogh_van/21/waterc05.jpg</td>\n",
        "      <td>gogh_van</td>\n",
        "      <td>\\r\\n,The Weaver,\\r\\nDecember-August 1883-84, N...</td>\n",
        "      <td>21</td>\n",
        "      <td>December-August 1883-84</td>\n",
        "      <td>Nuenen</td>\n",
        "      <td>356 x 254 mm</td>\n",
        "      <td>Rijksmuseum Vincent van Gogh, Amsterdam</td>\n",
        "      <td>Watercolour</td>\n",
        "      <td>The Weaver</td>\n",
        "      <td>gogh_van_21_waterc05.jpg</td>\n",
        "    </tr>\n",
        "    <tr>\n",
        "      <th>5</th>\n",
        "      <td>http://www.wga.hu/art/g/gogh_van/21/waterc06.jpg</td>\n",
        "      <td>gogh_van</td>\n",
        "      <td>\\r\\n,Weaver: The Whole Loom Facing Right,\\r\\nJ...</td>\n",
        "      <td>21</td>\n",
        "      <td>January 1884</td>\n",
        "      <td>Nuenen</td>\n",
        "      <td>318 x 451 mm</td>\n",
        "      <td>Mus\u00e9e du Louvre, Paris</td>\n",
        "      <td>Pencil, pen, gouache, watercolour</td>\n",
        "      <td>Weaver: The Whole Loom Facing Right</td>\n",
        "      <td>gogh_van_21_waterc06.jpg</td>\n",
        "    </tr>\n",
        "    <tr>\n",
        "      <th>6</th>\n",
        "      <td>http://www.wga.hu/art/g/gogh_van/21/waterc07.jpg</td>\n",
        "      <td>gogh_van</td>\n",
        "      <td>\\r\\n,The Sale of Crosses at the Nuenen Cemeter...</td>\n",
        "      <td>21</td>\n",
        "      <td>May 1885</td>\n",
        "      <td>Nuenen</td>\n",
        "      <td>381 x 559 mm</td>\n",
        "      <td>Rijksmuseum Vincent van Gogh, Amsterdam</td>\n",
        "      <td>Watercolour</td>\n",
        "      <td>The Sale of Crosses at the Nuenen Cemetery</td>\n",
        "      <td>gogh_van_21_waterc07.jpg</td>\n",
        "    </tr>\n",
        "    <tr>\n",
        "      <th>7</th>\n",
        "      <td>http://www.wga.hu/art/g/gogh_van/21/waterc08.jpg</td>\n",
        "      <td>gogh_van</td>\n",
        "      <td>\\r\\n,Outskirts of Paris near Montmartre,\\r\\nSu...</td>\n",
        "      <td>21</td>\n",
        "      <td>Summer 1887</td>\n",
        "      <td>Paris</td>\n",
        "      <td>395 x 535 mm</td>\n",
        "      <td>Stedelijk Museum, Amsterdam</td>\n",
        "      <td>Watercolour on paper</td>\n",
        "      <td>Outskirts of Paris near Montmartre</td>\n",
        "      <td>gogh_van_21_waterc08.jpg</td>\n",
        "    </tr>\n",
        "    <tr>\n",
        "      <th>8</th>\n",
        "      <td>http://www.wga.hu/art/g/gogh_van/21/waterc09.jpg</td>\n",
        "      <td>gogh_van</td>\n",
        "      <td>\\r\\n,The Langlois Bridge at Arles,\\r\\nApril 18...</td>\n",
        "      <td>21</td>\n",
        "      <td>April 1888</td>\n",
        "      <td>Arles</td>\n",
        "      <td>300 x 300 mm</td>\n",
        "      <td>Private collection</td>\n",
        "      <td>Watercolour on paper</td>\n",
        "      <td>The Langlois Bridge at Arles</td>\n",
        "      <td>gogh_van_21_waterc09.jpg</td>\n",
        "    </tr>\n",
        "    <tr>\n",
        "      <th>9</th>\n",
        "      <td>http://www.wga.hu/art/g/gogh_van/21/waterc10.jpg</td>\n",
        "      <td>gogh_van</td>\n",
        "      <td>\\r\\n,Harvest in Provence, at the Left Montmajo...</td>\n",
        "      <td>21</td>\n",
        "      <td>June 1888</td>\n",
        "      <td>Arles</td>\n",
        "      <td>395 x 525 mm</td>\n",
        "      <td>Fogg Art Museum, Harvard University, Cambridge</td>\n",
        "      <td>Watercolour and pen</td>\n",
        "      <td>Harvest in Provence, at the Left Montmajour</td>\n",
        "      <td>gogh_van_21_waterc10.jpg</td>\n",
        "    </tr>\n",
        "    <tr>\n",
        "      <th>10</th>\n",
        "      <td>http://www.wga.hu/art/g/gogh_van/21/waterc11.jpg</td>\n",
        "      <td>gogh_van</td>\n",
        "      <td>\\r\\n,The Night Caf\u00e9 in the Place Lamartine in ...</td>\n",
        "      <td>21</td>\n",
        "      <td>September 1888</td>\n",
        "      <td>Arles</td>\n",
        "      <td>444 x 632 mm</td>\n",
        "      <td>Private collection</td>\n",
        "      <td>Watercolour</td>\n",
        "      <td>The Night Caf\u00e9 in the Place Lamartine in Arles</td>\n",
        "      <td>gogh_van_21_waterc11.jpg</td>\n",
        "    </tr>\n",
        "    <tr>\n",
        "      <th>11</th>\n",
        "      <td>http://www.wga.hu/art/g/gogh_van/21/waterc12.jpg</td>\n",
        "      <td>gogh_van</td>\n",
        "      <td>\\r\\n,Flowering Bushes in the Asylum Garden,\\r\\...</td>\n",
        "      <td>21</td>\n",
        "      <td>October 1889</td>\n",
        "      <td>Saint-R\u00e9my</td>\n",
        "      <td>620 x 470 mm</td>\n",
        "      <td>Rijksmuseum Kr\u00f6ller-M\u00fcller, Otterlo</td>\n",
        "      <td>Watercolour on paper</td>\n",
        "      <td>Flowering Bushes in the Asylum Garden</td>\n",
        "      <td>gogh_van_21_waterc12.jpg</td>\n",
        "    </tr>\n",
        "    <tr>\n",
        "      <th>12</th>\n",
        "      <td>http://www.wga.hu/art/m/monet/08/1london1.jpg</td>\n",
        "      <td>monet</td>\n",
        "      <td>\\r\\n,Waterloo Bridge, Effect of Fog,\\r\\n1899-1...</td>\n",
        "      <td>8</td>\n",
        "      <td>1899-1901</td>\n",
        "      <td>NaN</td>\n",
        "      <td>65 x 100 cm</td>\n",
        "      <td>The Hermitage, St. Petersburg</td>\n",
        "      <td>Oil on canvas</td>\n",
        "      <td>Waterloo Bridge, Effect of Fog</td>\n",
        "      <td>monet_08_1london1.jpg</td>\n",
        "    </tr>\n",
        "    <tr>\n",
        "      <th>13</th>\n",
        "      <td>http://www.wga.hu/art/m/monet/08/1london2.jpg</td>\n",
        "      <td>monet</td>\n",
        "      <td>\\r\\n,Waterloo Bridge,\\r\\n1903,\\r\\nOil on canva...</td>\n",
        "      <td>8</td>\n",
        "      <td>1903</td>\n",
        "      <td>NaN</td>\n",
        "      <td>64 x 101 cm</td>\n",
        "      <td>The Hermitage, St. Petersburg</td>\n",
        "      <td>Oil on canvas</td>\n",
        "      <td>Waterloo Bridge</td>\n",
        "      <td>monet_08_1london2.jpg</td>\n",
        "    </tr>\n",
        "    <tr>\n",
        "      <th>14</th>\n",
        "      <td>http://www.wga.hu/art/m/monet/08/1london3.jpg</td>\n",
        "      <td>monet</td>\n",
        "      <td>\\r\\n,The Houses of Parliament in London,\\r\\n19...</td>\n",
        "      <td>8</td>\n",
        "      <td>1904</td>\n",
        "      <td>NaN</td>\n",
        "      <td>81 x 92 cm</td>\n",
        "      <td>Mus\u00e9e d'Orsay, Paris</td>\n",
        "      <td>Oil on canvas</td>\n",
        "      <td>The Houses of Parliament in London</td>\n",
        "      <td>monet_08_1london3.jpg</td>\n",
        "    </tr>\n",
        "    <tr>\n",
        "      <th>15</th>\n",
        "      <td>http://www.wga.hu/art/m/monet/08/1london4.jpg</td>\n",
        "      <td>monet</td>\n",
        "      <td>\\r\\n,The Houses of Parliament, London,\\r\\n1904...</td>\n",
        "      <td>8</td>\n",
        "      <td>1904</td>\n",
        "      <td>NaN</td>\n",
        "      <td>81 x 92 cm</td>\n",
        "      <td>Palais des Beaux-Arts, Lille</td>\n",
        "      <td>Oil on canvas</td>\n",
        "      <td>The Houses of Parliament, London</td>\n",
        "      <td>monet_08_1london4.jpg</td>\n",
        "    </tr>\n",
        "    <tr>\n",
        "      <th>16</th>\n",
        "      <td>http://www.wga.hu/art/m/monet/08/2venice1.jpg</td>\n",
        "      <td>monet</td>\n",
        "      <td>\\r\\n,Palazzo Contarini,\\r\\n1908,\\r\\nOil on can...</td>\n",
        "      <td>8</td>\n",
        "      <td>1908</td>\n",
        "      <td>NaN</td>\n",
        "      <td>92 x 81 cm</td>\n",
        "      <td>Kunstmuseum, St. Gallen</td>\n",
        "      <td>Oil on canvas</td>\n",
        "      <td>Palazzo Contarini</td>\n",
        "      <td>monet_08_2venice1.jpg</td>\n",
        "    </tr>\n",
        "    <tr>\n",
        "      <th>17</th>\n",
        "      <td>http://www.wga.hu/art/m/monet/08/2venice2.jpg</td>\n",
        "      <td>monet</td>\n",
        "      <td>\\r\\n,The Palazzo Ducale Seen from San Giorgio ...</td>\n",
        "      <td>8</td>\n",
        "      <td>1908</td>\n",
        "      <td>NaN</td>\n",
        "      <td>65 x 93 cm</td>\n",
        "      <td>Metropolitan Museum of Art, New York</td>\n",
        "      <td>Oil on canvas</td>\n",
        "      <td>The Palazzo Ducale Seen from San Giorgio Maggiore</td>\n",
        "      <td>monet_08_2venice2.jpg</td>\n",
        "    </tr>\n",
        "    <tr>\n",
        "      <th>18</th>\n",
        "      <td>http://www.wga.hu/art/m/monet/08/2venice3.jpg</td>\n",
        "      <td>monet</td>\n",
        "      <td>\\r\\n,Gondola in Venice,\\r\\n1908,\\r\\nOil on can...</td>\n",
        "      <td>8</td>\n",
        "      <td>1908</td>\n",
        "      <td>NaN</td>\n",
        "      <td>81 x 55 cm</td>\n",
        "      <td>Mus\u00e9e des Beaux-Arts, Nantes</td>\n",
        "      <td>Oil on canvas</td>\n",
        "      <td>Gondola in Venice</td>\n",
        "      <td>monet_08_2venice3.jpg</td>\n",
        "    </tr>\n",
        "    <tr>\n",
        "      <th>19</th>\n",
        "      <td>http://www.wga.hu/art/m/monet/08/2venice4.jpg</td>\n",
        "      <td>monet</td>\n",
        "      <td>\\r\\n,The Grand Canal in Venice,\\r\\n1908,\\r\\nOi...</td>\n",
        "      <td>8</td>\n",
        "      <td>1908</td>\n",
        "      <td>NaN</td>\n",
        "      <td>74 x 92 cm</td>\n",
        "      <td>Museum of Fine Arts, Boston</td>\n",
        "      <td>Oil on canvas</td>\n",
        "      <td>The Grand Canal in Venice</td>\n",
        "      <td>monet_08_2venice4.jpg</td>\n",
        "    </tr>\n",
        "    <tr>\n",
        "      <th>20</th>\n",
        "      <td>http://www.wga.hu/art/m/monet/08/2venice5.jpg</td>\n",
        "      <td>monet</td>\n",
        "      <td>\\r\\n,Sunset in Venice,\\r\\n1908,\\r\\nOil on canv...</td>\n",
        "      <td>8</td>\n",
        "      <td>1908</td>\n",
        "      <td>NaN</td>\n",
        "      <td>73 x 92 cm</td>\n",
        "      <td>Bridgestone Museum of Art, Tokyo</td>\n",
        "      <td>Oil on canvas</td>\n",
        "      <td>Sunset in Venice</td>\n",
        "      <td>monet_08_2venice5.jpg</td>\n",
        "    </tr>\n",
        "    <tr>\n",
        "      <th>21</th>\n",
        "      <td>http://www.wga.hu/art/m/monet/08/3bridge1.jpg</td>\n",
        "      <td>monet</td>\n",
        "      <td>\\r\\n,Bridge over a Pond of Water Lilies,\\r\\n18...</td>\n",
        "      <td>8</td>\n",
        "      <td>1899</td>\n",
        "      <td>NaN</td>\n",
        "      <td>93 x 74 cm</td>\n",
        "      <td>Metropolitan Museum of Art, New York</td>\n",
        "      <td>Oil on canvas</td>\n",
        "      <td>Bridge over a Pond of Water Lilies</td>\n",
        "      <td>monet_08_3bridge1.jpg</td>\n",
        "    </tr>\n",
        "    <tr>\n",
        "      <th>22</th>\n",
        "      <td>http://www.wga.hu/art/m/monet/08/3bridge2.jpg</td>\n",
        "      <td>monet</td>\n",
        "      <td>\\r\\n,Water Lily Pond, Harmony in Green,\\r\\n189...</td>\n",
        "      <td>8</td>\n",
        "      <td>1899</td>\n",
        "      <td>NaN</td>\n",
        "      <td>89 x 94 cm</td>\n",
        "      <td>Mus\u00e9e d'Orsay, Paris</td>\n",
        "      <td>Oil on canvas</td>\n",
        "      <td>Water Lily Pond, Harmony in Green</td>\n",
        "      <td>monet_08_3bridge2.jpg</td>\n",
        "    </tr>\n",
        "    <tr>\n",
        "      <th>23</th>\n",
        "      <td>http://www.wga.hu/art/m/monet/08/3bridge3.jpg</td>\n",
        "      <td>monet</td>\n",
        "      <td>\\r\\n,Water Lily Pond, Harmony in Rose,\\r\\n1900...</td>\n",
        "      <td>8</td>\n",
        "      <td>1900</td>\n",
        "      <td>NaN</td>\n",
        "      <td>90 x 100 cm</td>\n",
        "      <td>Mus\u00e9e d'Orsay, Paris</td>\n",
        "      <td>Oil on canvas</td>\n",
        "      <td>Water Lily Pond, Harmony in Rose</td>\n",
        "      <td>monet_08_3bridge3.jpg</td>\n",
        "    </tr>\n",
        "    <tr>\n",
        "      <th>24</th>\n",
        "      <td>http://www.wga.hu/art/m/monet/08/3bridge4.jpg</td>\n",
        "      <td>monet</td>\n",
        "      <td>\\r\\n,The Water Lily Pond,\\r\\n1900,\\r\\nOil on c...</td>\n",
        "      <td>8</td>\n",
        "      <td>1900</td>\n",
        "      <td>NaN</td>\n",
        "      <td>90 x 93 cm</td>\n",
        "      <td>Museum of Fine Arts, Boston</td>\n",
        "      <td>Oil on canvas</td>\n",
        "      <td>The Water Lily Pond</td>\n",
        "      <td>monet_08_3bridge4.jpg</td>\n",
        "    </tr>\n",
        "    <tr>\n",
        "      <th>25</th>\n",
        "      <td>http://www.wga.hu/art/m/monet/08/3bridge5.jpg</td>\n",
        "      <td>monet</td>\n",
        "      <td>\\r\\n,The Japanese Bridge,\\r\\n1922,\\r\\nOil on c...</td>\n",
        "      <td>8</td>\n",
        "      <td>1922</td>\n",
        "      <td>NaN</td>\n",
        "      <td>89 x 116 cm</td>\n",
        "      <td>Institute of Arts, Minneapolis</td>\n",
        "      <td>Oil on canvas</td>\n",
        "      <td>The Japanese Bridge</td>\n",
        "      <td>monet_08_3bridge5.jpg</td>\n",
        "    </tr>\n",
        "    <tr>\n",
        "      <th>26</th>\n",
        "      <td>http://www.wga.hu/art/m/monet/08/6irises1.jpg</td>\n",
        "      <td>monet</td>\n",
        "      <td>\\r\\n,Irises in Monet's Garden at Giverny,\\r\\n1...</td>\n",
        "      <td>8</td>\n",
        "      <td>1900</td>\n",
        "      <td>NaN</td>\n",
        "      <td>81 x 92 cm</td>\n",
        "      <td>Mus\u00e9e d'Orsay, Paris</td>\n",
        "      <td>Oil on canvas</td>\n",
        "      <td>Irises in Monet's Garden at Giverny</td>\n",
        "      <td>monet_08_6irises1.jpg</td>\n",
        "    </tr>\n",
        "    <tr>\n",
        "      <th>27</th>\n",
        "      <td>http://www.wga.hu/art/m/monet/08/6irises2.jpg</td>\n",
        "      <td>monet</td>\n",
        "      <td>\\r\\n,Weeping Willow,\\r\\n1920-22,\\r\\nOil on can...</td>\n",
        "      <td>8</td>\n",
        "      <td>1920-22</td>\n",
        "      <td>NaN</td>\n",
        "      <td>110 x 100 cm</td>\n",
        "      <td>Mus\u00e9e d'Orsay, Paris</td>\n",
        "      <td>Oil on canvas</td>\n",
        "      <td>Weeping Willow</td>\n",
        "      <td>monet_08_6irises2.jpg</td>\n",
        "    </tr>\n",
        "    <tr>\n",
        "      <th>28</th>\n",
        "      <td>http://www.wga.hu/art/m/monet/08/7liliy01.jpg</td>\n",
        "      <td>monet</td>\n",
        "      <td>\\r\\n,Water Lilies,\\r\\n1905,\\r\\nOil on canvas, ...</td>\n",
        "      <td>8</td>\n",
        "      <td>1905</td>\n",
        "      <td>NaN</td>\n",
        "      <td>90 x 100 cm</td>\n",
        "      <td>Museum of Fine Arts, Boston</td>\n",
        "      <td>Oil on canvas</td>\n",
        "      <td>Water Lilies</td>\n",
        "      <td>monet_08_7liliy01.jpg</td>\n",
        "    </tr>\n",
        "    <tr>\n",
        "      <th>29</th>\n",
        "      <td>http://www.wga.hu/art/m/monet/08/7liliy02.jpg</td>\n",
        "      <td>monet</td>\n",
        "      <td>\\r\\n,Water Lilies,\\r\\n1906,\\r\\nOil on canvas, ...</td>\n",
        "      <td>8</td>\n",
        "      <td>1906</td>\n",
        "      <td>NaN</td>\n",
        "      <td>88 x 93 cm</td>\n",
        "      <td>Art Institute, Chicago</td>\n",
        "      <td>Oil on canvas</td>\n",
        "      <td>Water Lilies</td>\n",
        "      <td>monet_08_7liliy02.jpg</td>\n",
        "    </tr>\n",
        "    <tr>\n",
        "      <th>...</th>\n",
        "      <td>...</td>\n",
        "      <td>...</td>\n",
        "      <td>...</td>\n",
        "      <td>...</td>\n",
        "      <td>...</td>\n",
        "      <td>...</td>\n",
        "      <td>...</td>\n",
        "      <td>...</td>\n",
        "      <td>...</td>\n",
        "      <td>...</td>\n",
        "      <td>...</td>\n",
        "    </tr>\n",
        "    <tr>\n",
        "      <th>2295</th>\n",
        "      <td>http://www.wga.hu/art/l/lippi/filippo/1440/06a...</td>\n",
        "      <td>lippi__filippo</td>\n",
        "      <td>\\r\\n,Annunciation,\\r\\nc. 1445,\\r\\nWood, 175 x ...</td>\n",
        "      <td>2</td>\n",
        "      <td>c. 1445</td>\n",
        "      <td>NaN</td>\n",
        "      <td>175 x 183 cm</td>\n",
        "      <td>San Lorenzo, Florence</td>\n",
        "      <td>Wood</td>\n",
        "      <td>Annunciation</td>\n",
        "      <td>lippi_filippo_1440_06annunc.jpg</td>\n",
        "    </tr>\n",
        "    <tr>\n",
        "      <th>2296</th>\n",
        "      <td>http://www.wga.hu/art/l/lippi/filippo/1440/07m...</td>\n",
        "      <td>lippi__filippo</td>\n",
        "      <td>\\r\\n,Madonna Enthroned with Saints,\\r\\nc. 1445...</td>\n",
        "      <td>2</td>\n",
        "      <td>c. 1445</td>\n",
        "      <td>NaN</td>\n",
        "      <td>196 x 196 cm</td>\n",
        "      <td>Galleria degli Uffizi, Florence</td>\n",
        "      <td>Tempera on wood</td>\n",
        "      <td>Madonna Enthroned with Saints</td>\n",
        "      <td>lippi_filippo_1440_07madonn.jpg</td>\n",
        "    </tr>\n",
        "    <tr>\n",
        "      <th>2297</th>\n",
        "      <td>http://www.wga.hu/art/l/lippi/filippo/1440/07m...</td>\n",
        "      <td>lippi__filippo</td>\n",
        "      <td>\\r\\n,Meeting of Joachim and Anne at the Golden...</td>\n",
        "      <td>2</td>\n",
        "      <td>c. 1445</td>\n",
        "      <td>NaN</td>\n",
        "      <td>21 x 48 cm</td>\n",
        "      <td>Ashmolean Museum, Oxford</td>\n",
        "      <td>Tempera on wood</td>\n",
        "      <td>Meeting of Joachim and Anne at the Golden Gate</td>\n",
        "      <td>lippi_filippo_1440_07meetin.jpg</td>\n",
        "    </tr>\n",
        "    <tr>\n",
        "      <th>2298</th>\n",
        "      <td>http://www.wga.hu/art/l/lippi/filippo/1440/08b...</td>\n",
        "      <td>lippi__filippo</td>\n",
        "      <td>\\r\\n,The Virgin Appears to St Bernard,\\r\\n1447...</td>\n",
        "      <td>2</td>\n",
        "      <td>1447</td>\n",
        "      <td>NaN</td>\n",
        "      <td>69 x 105 cm</td>\n",
        "      <td>National Gallery, London</td>\n",
        "      <td>Wood</td>\n",
        "      <td>The Virgin Appears to St Bernard</td>\n",
        "      <td>lippi_filippo_1440_08bernar.jpg</td>\n",
        "    </tr>\n",
        "    <tr>\n",
        "      <th>2299</th>\n",
        "      <td>http://www.wga.hu/art/l/lippi/filippo/1440/09a...</td>\n",
        "      <td>lippi__filippo</td>\n",
        "      <td>\\r\\n,Annunciation,\\r\\n1445-50,\\r\\nTempera on p...</td>\n",
        "      <td>2</td>\n",
        "      <td>1445-50</td>\n",
        "      <td>NaN</td>\n",
        "      <td>117 x 173 cm</td>\n",
        "      <td>Galleria Doria Pamphilj, Rome</td>\n",
        "      <td>Tempera on panel</td>\n",
        "      <td>Annunciation</td>\n",
        "      <td>lippi_filippo_1440_09annunc.jpg</td>\n",
        "    </tr>\n",
        "    <tr>\n",
        "      <th>2300</th>\n",
        "      <td>http://www.wga.hu/art/l/lippi/filippo/1440/10a...</td>\n",
        "      <td>lippi__filippo</td>\n",
        "      <td>\\r\\n,Annunciation,\\r\\n1448-50,\\r\\nEgg tempera ...</td>\n",
        "      <td>2</td>\n",
        "      <td>1448-50</td>\n",
        "      <td>NaN</td>\n",
        "      <td>68 x 152 cm</td>\n",
        "      <td>National Gallery, London</td>\n",
        "      <td>Egg tempera on wood</td>\n",
        "      <td>Annunciation</td>\n",
        "      <td>lippi_filippo_1440_10annun.jpg</td>\n",
        "    </tr>\n",
        "    <tr>\n",
        "      <th>2301</th>\n",
        "      <td>http://www.wga.hu/art/l/lippi/filippo/1440/10p...</td>\n",
        "      <td>lippi__filippo</td>\n",
        "      <td>\\r\\n,Seven Saints,\\r\\n1448-50,\\r\\nEgg tempera ...</td>\n",
        "      <td>2</td>\n",
        "      <td>1448-50</td>\n",
        "      <td>NaN</td>\n",
        "      <td>68 x 151 cm</td>\n",
        "      <td>National Gallery, London</td>\n",
        "      <td>Egg tempera on wood</td>\n",
        "      <td>Seven Saints</td>\n",
        "      <td>lippi_filippo_1440_10panel2.jpg</td>\n",
        "    </tr>\n",
        "    <tr>\n",
        "      <th>2302</th>\n",
        "      <td>http://www.wga.hu/art/l/lippi/filippo/1430/1ma...</td>\n",
        "      <td>lippi__filippo</td>\n",
        "      <td>\\r\\n,Madonna and Child Enthroned with Saints,\\...</td>\n",
        "      <td>1</td>\n",
        "      <td>c. 1430</td>\n",
        "      <td>NaN</td>\n",
        "      <td>44 x 34 cm</td>\n",
        "      <td>Museo della Collegiata, Empoli</td>\n",
        "      <td>Panel</td>\n",
        "      <td>Madonna and Child Enthroned with Saints</td>\n",
        "      <td>lippi_filippo_1430_1madonna.jpg</td>\n",
        "    </tr>\n",
        "    <tr>\n",
        "      <th>2303</th>\n",
        "      <td>http://www.wga.hu/art/l/lippi/filippo/1430/2hu...</td>\n",
        "      <td>lippi__filippo</td>\n",
        "      <td>\\r\\n,Madonna of Humility (Trivulzio Madonna),\\...</td>\n",
        "      <td>1</td>\n",
        "      <td>c. 1430</td>\n",
        "      <td>NaN</td>\n",
        "      <td>NaN</td>\n",
        "      <td>Castello Sforzesco, Milan</td>\n",
        "      <td>Panel</td>\n",
        "      <td>Madonna of Humility (Trivulzio Madonna)</td>\n",
        "      <td>lippi_filippo_1430_2humilit.jpg</td>\n",
        "    </tr>\n",
        "    <tr>\n",
        "      <th>2304</th>\n",
        "      <td>http://www.wga.hu/art/l/lippi/filippo/1430/3ru...</td>\n",
        "      <td>lippi__filippo</td>\n",
        "      <td>\\r\\n,Confirmation of the Carmelite Rule,\\r\\nc....</td>\n",
        "      <td>1</td>\n",
        "      <td>c. 1432</td>\n",
        "      <td>NaN</td>\n",
        "      <td>NaN</td>\n",
        "      <td>Museo di Santa Maria del Carmine, Florence</td>\n",
        "      <td>Fresco</td>\n",
        "      <td>Confirmation of the Carmelite Rule</td>\n",
        "      <td>lippi_filippo_1430_3rules.jpg</td>\n",
        "    </tr>\n",
        "    <tr>\n",
        "      <th>2305</th>\n",
        "      <td>http://www.wga.hu/art/l/lippi/filippo/1430/4je...</td>\n",
        "      <td>lippi__filippo</td>\n",
        "      <td>\\r\\n,The Penitent St Jerome with a Young Monk,...</td>\n",
        "      <td>1</td>\n",
        "      <td>1435-36</td>\n",
        "      <td>NaN</td>\n",
        "      <td>47 x 29 cm</td>\n",
        "      <td>Lindenau-Museum, Altenburg</td>\n",
        "      <td>Tempera on wood</td>\n",
        "      <td>The Penitent St Jerome with a Young Monk</td>\n",
        "      <td>lippi_filippo_1430_4jerome.jpg</td>\n",
        "    </tr>\n",
        "    <tr>\n",
        "      <th>2306</th>\n",
        "      <td>http://www.wga.hu/art/l/lippi/filippo/1430/4jp...</td>\n",
        "      <td>lippi__filippo</td>\n",
        "      <td>\\r\\n,Piet\u00e0,\\r\\n1435-39,\\r\\nTempera on panel, 5...</td>\n",
        "      <td>1</td>\n",
        "      <td>1435-39</td>\n",
        "      <td>NaN</td>\n",
        "      <td>58 x 32 cm</td>\n",
        "      <td>Museo Poldi Pezzoli, Milan</td>\n",
        "      <td>Tempera on panel</td>\n",
        "      <td>Piet\u00e0</td>\n",
        "      <td>lippi_filippo_1430_4jpieta.jpg</td>\n",
        "    </tr>\n",
        "    <tr>\n",
        "      <th>2307</th>\n",
        "      <td>http://www.wga.hu/art/l/lippi/filippo/1430/4jp...</td>\n",
        "      <td>lippi__filippo</td>\n",
        "      <td>\\r\\n,Piet\u00e0,\\r\\n1435-39,\\r\\nTempera on panel, 5...</td>\n",
        "      <td>1</td>\n",
        "      <td>1435-39</td>\n",
        "      <td>NaN</td>\n",
        "      <td>58 x 32 cm</td>\n",
        "      <td>Museo Poldi Pezzoli, Milan</td>\n",
        "      <td>Tempera on panel</td>\n",
        "      <td>Piet\u00e0</td>\n",
        "      <td>lippi_filippo_1430_4jpieta1.jpg</td>\n",
        "    </tr>\n",
        "    <tr>\n",
        "      <th>2308</th>\n",
        "      <td>http://www.wga.hu/art/l/lippi/filippo/1430/4ma...</td>\n",
        "      <td>lippi__filippo</td>\n",
        "      <td>\\r\\n,Madonna with Child (Tarquinia Madonna),\\r...</td>\n",
        "      <td>1</td>\n",
        "      <td>1437</td>\n",
        "      <td>NaN</td>\n",
        "      <td>151 x 66 cm</td>\n",
        "      <td>Galleria Nazionale d'Arte Antica, Rome</td>\n",
        "      <td>Tempera on panel</td>\n",
        "      <td>Madonna with Child (Tarquinia Madonna)</td>\n",
        "      <td>lippi_filippo_1430_4madonna.jpg</td>\n",
        "    </tr>\n",
        "    <tr>\n",
        "      <th>2309</th>\n",
        "      <td>http://www.wga.hu/art/l/lippi/filippo/1430/5ma...</td>\n",
        "      <td>lippi__filippo</td>\n",
        "      <td>\\r\\n,Madonna and Child Enthroned with Two Ange...</td>\n",
        "      <td>1</td>\n",
        "      <td>c. 1437</td>\n",
        "      <td>NaN</td>\n",
        "      <td>123 x 63 cm</td>\n",
        "      <td>Metropolitan Museum of Art, New York</td>\n",
        "      <td>Tempera and gold on wood transferred from wood...</td>\n",
        "      <td>Madonna and Child Enthroned with Two Angels</td>\n",
        "      <td>lippi_filippo_1430_5madch.jpg</td>\n",
        "    </tr>\n",
        "    <tr>\n",
        "      <th>2310</th>\n",
        "      <td>http://www.wga.hu/art/l/lippi/filippo/1430/5ma...</td>\n",
        "      <td>lippi__filippo</td>\n",
        "      <td>\\r\\n,Madonna and Child Enthroned with Two Ange...</td>\n",
        "      <td>1</td>\n",
        "      <td>c. 1437</td>\n",
        "      <td>NaN</td>\n",
        "      <td>123 x 63 cm</td>\n",
        "      <td>Metropolitan Museum of Art, New York</td>\n",
        "      <td>Tempera and gold on wood transferred from wood...</td>\n",
        "      <td>Madonna and Child Enthroned with Two Angels</td>\n",
        "      <td>lippi_filippo_1430_5madchi.jpg</td>\n",
        "    </tr>\n",
        "    <tr>\n",
        "      <th>2311</th>\n",
        "      <td>http://www.wga.hu/art/l/lippi/filippo/1430/5ma...</td>\n",
        "      <td>lippi__filippo</td>\n",
        "      <td>\\r\\n,The Doctors of the Church,\\r\\nc. 1437,\\r\\...</td>\n",
        "      <td>1</td>\n",
        "      <td>c. 1437</td>\n",
        "      <td>NaN</td>\n",
        "      <td>129 x 65 cm</td>\n",
        "      <td>Accademina Albertina, Turin</td>\n",
        "      <td>Panel,  (each)</td>\n",
        "      <td>The Doctors of the Church</td>\n",
        "      <td>lippi_filippo_1430_5madchi1.jpg</td>\n",
        "    </tr>\n",
        "    <tr>\n",
        "      <th>2312</th>\n",
        "      <td>http://www.wga.hu/art/l/lippi/filippo/1430/5ma...</td>\n",
        "      <td>lippi__filippo</td>\n",
        "      <td>\\r\\n,Sts Augustine and Ambrose,\\r\\nc. 1437,\\r\\...</td>\n",
        "      <td>1</td>\n",
        "      <td>c. 1437</td>\n",
        "      <td>NaN</td>\n",
        "      <td>129 x 65 cm</td>\n",
        "      <td>Accademia Albertina di Belle Arti, Turin</td>\n",
        "      <td>Tempera and gold on wood</td>\n",
        "      <td>Sts Augustine and Ambrose</td>\n",
        "      <td>lippi_filippo_1430_5madchi2.jpg</td>\n",
        "    </tr>\n",
        "    <tr>\n",
        "      <th>2313</th>\n",
        "      <td>http://www.wga.hu/art/l/lippi/filippo/1430/5ma...</td>\n",
        "      <td>lippi__filippo</td>\n",
        "      <td>\\r\\n,Sts Gregory and Jerome,\\r\\nc. 1437,\\r\\nTe...</td>\n",
        "      <td>1</td>\n",
        "      <td>c. 1437</td>\n",
        "      <td>NaN</td>\n",
        "      <td>129 x 65 cm</td>\n",
        "      <td>Accademia Albertina di Belle Arti, Turin</td>\n",
        "      <td>Tempera and gold on wood</td>\n",
        "      <td>Sts Gregory and Jerome</td>\n",
        "      <td>lippi_filippo_1430_5madchi3.jpg</td>\n",
        "    </tr>\n",
        "    <tr>\n",
        "      <th>2314</th>\n",
        "      <td>http://www.wga.hu/art/l/lippi/filippo/1430/5ma...</td>\n",
        "      <td>lippi__filippo</td>\n",
        "      <td>\\r\\n,Triptych,\\r\\nc. 1437,\\r\\nTempera and gold...</td>\n",
        "      <td>1</td>\n",
        "      <td>c. 1437</td>\n",
        "      <td>NaN</td>\n",
        "      <td>NaN</td>\n",
        "      <td>Accademia Albertina di Belle Arti, Turin and M...</td>\n",
        "      <td>Tempera and gold on wood</td>\n",
        "      <td>Triptych</td>\n",
        "      <td>lippi_filippo_1430_5madchi4.jpg</td>\n",
        "    </tr>\n",
        "    <tr>\n",
        "      <th>2315</th>\n",
        "      <td>http://www.wga.hu/art/l/lippi/filippo/1430/6ma...</td>\n",
        "      <td>lippi__filippo</td>\n",
        "      <td>\\r\\n,Madonna and Child with Saints, Angels, an...</td>\n",
        "      <td>1</td>\n",
        "      <td>c. 1437</td>\n",
        "      <td>NaN</td>\n",
        "      <td>47 x 36 cm</td>\n",
        "      <td>Collezione Vittorio Cini, Venice</td>\n",
        "      <td>Panel</td>\n",
        "      <td>Madonna and Child with Saints, Angels, and a D...</td>\n",
        "      <td>lippi_filippo_1430_6madsain.jpg</td>\n",
        "    </tr>\n",
        "    <tr>\n",
        "      <th>2316</th>\n",
        "      <td>http://www.wga.hu/art/l/lippi/filippo/1430/7an...</td>\n",
        "      <td>lippi__filippo</td>\n",
        "      <td>\\r\\n,Annunciation,\\r\\n1437-39,\\r\\nTempera on w...</td>\n",
        "      <td>1</td>\n",
        "      <td>1437-39</td>\n",
        "      <td>NaN</td>\n",
        "      <td>64 x 23 cm</td>\n",
        "      <td>Frick Collection, New York</td>\n",
        "      <td>Tempera on wood,  (each panel)</td>\n",
        "      <td>Annunciation</td>\n",
        "      <td>lippi_filippo_1430_7annunc.jpg</td>\n",
        "    </tr>\n",
        "    <tr>\n",
        "      <th>2317</th>\n",
        "      <td>http://www.wga.hu/art/l/lippi/filippo/1430/7so...</td>\n",
        "      <td>lippi__filippo</td>\n",
        "      <td>\\r\\n,Man of Sorrows,\\r\\n-,\\r\\nPanel, 82 x 101 ...</td>\n",
        "      <td>1</td>\n",
        "      <td>-</td>\n",
        "      <td>NaN</td>\n",
        "      <td>82 x 101 cm</td>\n",
        "      <td>Archbishop's Palace, Florence</td>\n",
        "      <td>Panel</td>\n",
        "      <td>Man of Sorrows</td>\n",
        "      <td>lippi_filippo_1430_7sorrows.jpg</td>\n",
        "    </tr>\n",
        "    <tr>\n",
        "      <th>2318</th>\n",
        "      <td>http://www.wga.hu/art/l/lippi/filippo/1430/8ba...</td>\n",
        "      <td>lippi__filippo</td>\n",
        "      <td>\\r\\n,Madonna and Child with St Fredianus and S...</td>\n",
        "      <td>1</td>\n",
        "      <td>1437-38</td>\n",
        "      <td>NaN</td>\n",
        "      <td>208 x 244 cm</td>\n",
        "      <td>Mus\u00e9e du Louvre, Paris</td>\n",
        "      <td>Panel</td>\n",
        "      <td>Madonna and Child with St Fredianus and St Aug...</td>\n",
        "      <td>lippi_filippo_1430_8barbad.jpg</td>\n",
        "    </tr>\n",
        "    <tr>\n",
        "      <th>2319</th>\n",
        "      <td>http://www.wga.hu/art/l/lippi/filippo/1430/8ba...</td>\n",
        "      <td>lippi__filippo</td>\n",
        "      <td>\\r\\n,St Fredianus Diverts the River Serchio,\\r...</td>\n",
        "      <td>1</td>\n",
        "      <td>c. 1438</td>\n",
        "      <td>NaN</td>\n",
        "      <td>40 x 235 cm</td>\n",
        "      <td>Galleria degli Uffizi, Florence</td>\n",
        "      <td>Tempera on wood,  (three panels together)</td>\n",
        "      <td>St Fredianus Diverts the River Serchio</td>\n",
        "      <td>lippi_filippo_1430_8barbad1.jpg</td>\n",
        "    </tr>\n",
        "    <tr>\n",
        "      <th>2320</th>\n",
        "      <td>http://www.wga.hu/art/l/lippi/filippo/1430/8ba...</td>\n",
        "      <td>lippi__filippo</td>\n",
        "      <td>\\r\\n,Announcement of the Death of the Virgin,\\...</td>\n",
        "      <td>1</td>\n",
        "      <td>c. 1438</td>\n",
        "      <td>NaN</td>\n",
        "      <td>40 x 235 cm</td>\n",
        "      <td>Galleria degli Uffizi, Florence</td>\n",
        "      <td>Tempera on wood,  (three panels together)</td>\n",
        "      <td>Announcement of the Death of the Virgin</td>\n",
        "      <td>lippi_filippo_1430_8barbad2.jpg</td>\n",
        "    </tr>\n",
        "    <tr>\n",
        "      <th>2321</th>\n",
        "      <td>http://www.wga.hu/art/l/lippi/filippo/1430/8ba...</td>\n",
        "      <td>lippi__filippo</td>\n",
        "      <td>\\r\\n,Vision of St Augustine,\\r\\nc. 1438,\\r\\nTe...</td>\n",
        "      <td>1</td>\n",
        "      <td>c. 1438</td>\n",
        "      <td>NaN</td>\n",
        "      <td>40 x 235 cm</td>\n",
        "      <td>Galleria degli Uffizi, Florence</td>\n",
        "      <td>Tempera on wood,  (three panels together)</td>\n",
        "      <td>Vision of St Augustine</td>\n",
        "      <td>lippi_filippo_1430_8barbad3.jpg</td>\n",
        "    </tr>\n",
        "    <tr>\n",
        "      <th>2322</th>\n",
        "      <td>http://www.wga.hu/art/l/lippi/filippo/1430/9an...</td>\n",
        "      <td>lippi__filippo</td>\n",
        "      <td>\\r\\n,The Annunciation,\\r\\n1435-40,\\r\\nTempera ...</td>\n",
        "      <td>1</td>\n",
        "      <td>1435-40</td>\n",
        "      <td>NaN</td>\n",
        "      <td>100 x 161 cm</td>\n",
        "      <td>National Gallery of Art, Washington</td>\n",
        "      <td>Tempera on panel</td>\n",
        "      <td>The Annunciation</td>\n",
        "      <td>lippi_filippo_1430_9annunci.jpg</td>\n",
        "    </tr>\n",
        "    <tr>\n",
        "      <th>2323</th>\n",
        "      <td>http://www.wga.hu/art/l/lippi/filippo/1430/9me...</td>\n",
        "      <td>lippi__filippo</td>\n",
        "      <td>\\r\\n,Madonna and Child,\\r\\n-,\\r\\nPanel, 155 x ...</td>\n",
        "      <td>1</td>\n",
        "      <td>-</td>\n",
        "      <td>NaN</td>\n",
        "      <td>155 x 71 cm</td>\n",
        "      <td>Palazzo Medici-Riccardi, Florence</td>\n",
        "      <td>Panel</td>\n",
        "      <td>Madonna and Child</td>\n",
        "      <td>lippi_filippo_1430_9medici.jpg</td>\n",
        "    </tr>\n",
        "    <tr>\n",
        "      <th>2324</th>\n",
        "      <td>http://www.wga.hu/art/l/lippi/filippo/1430/9st...</td>\n",
        "      <td>lippi__filippo</td>\n",
        "      <td>\\r\\n,Female Figure (Prophetess?),\\r\\n1430s,\\r\\...</td>\n",
        "      <td>1</td>\n",
        "      <td>1430s</td>\n",
        "      <td>NaN</td>\n",
        "      <td>251 x 114 mm</td>\n",
        "      <td>Harvard University Art Museum, Cambridge</td>\n",
        "      <td>Pen and ink, heightened with white gouache on ...</td>\n",
        "      <td>Female Figure (Prophetess?)</td>\n",
        "      <td>lippi_filippo_1430_9study.jpg</td>\n",
        "    </tr>\n",
        "  </tbody>\n",
        "</table>\n",
        "<p>2325 rows \u00d7 11 columns</p>\n",
        "</div>"
       ],
       "metadata": {},
       "output_type": "pyout",
       "prompt_number": 31,
       "text": [
        "                                           painting_url      short_name  \\\n",
        "0      http://www.wga.hu/art/g/gogh_van/21/waterc01.jpg        gogh_van   \n",
        "1      http://www.wga.hu/art/g/gogh_van/21/waterc02.jpg        gogh_van   \n",
        "2      http://www.wga.hu/art/g/gogh_van/21/waterc03.jpg        gogh_van   \n",
        "3      http://www.wga.hu/art/g/gogh_van/21/waterc04.jpg        gogh_van   \n",
        "4      http://www.wga.hu/art/g/gogh_van/21/waterc05.jpg        gogh_van   \n",
        "5      http://www.wga.hu/art/g/gogh_van/21/waterc06.jpg        gogh_van   \n",
        "6      http://www.wga.hu/art/g/gogh_van/21/waterc07.jpg        gogh_van   \n",
        "7      http://www.wga.hu/art/g/gogh_van/21/waterc08.jpg        gogh_van   \n",
        "8      http://www.wga.hu/art/g/gogh_van/21/waterc09.jpg        gogh_van   \n",
        "9      http://www.wga.hu/art/g/gogh_van/21/waterc10.jpg        gogh_van   \n",
        "10     http://www.wga.hu/art/g/gogh_van/21/waterc11.jpg        gogh_van   \n",
        "11     http://www.wga.hu/art/g/gogh_van/21/waterc12.jpg        gogh_van   \n",
        "12        http://www.wga.hu/art/m/monet/08/1london1.jpg           monet   \n",
        "13        http://www.wga.hu/art/m/monet/08/1london2.jpg           monet   \n",
        "14        http://www.wga.hu/art/m/monet/08/1london3.jpg           monet   \n",
        "15        http://www.wga.hu/art/m/monet/08/1london4.jpg           monet   \n",
        "16        http://www.wga.hu/art/m/monet/08/2venice1.jpg           monet   \n",
        "17        http://www.wga.hu/art/m/monet/08/2venice2.jpg           monet   \n",
        "18        http://www.wga.hu/art/m/monet/08/2venice3.jpg           monet   \n",
        "19        http://www.wga.hu/art/m/monet/08/2venice4.jpg           monet   \n",
        "20        http://www.wga.hu/art/m/monet/08/2venice5.jpg           monet   \n",
        "21        http://www.wga.hu/art/m/monet/08/3bridge1.jpg           monet   \n",
        "22        http://www.wga.hu/art/m/monet/08/3bridge2.jpg           monet   \n",
        "23        http://www.wga.hu/art/m/monet/08/3bridge3.jpg           monet   \n",
        "24        http://www.wga.hu/art/m/monet/08/3bridge4.jpg           monet   \n",
        "25        http://www.wga.hu/art/m/monet/08/3bridge5.jpg           monet   \n",
        "26        http://www.wga.hu/art/m/monet/08/6irises1.jpg           monet   \n",
        "27        http://www.wga.hu/art/m/monet/08/6irises2.jpg           monet   \n",
        "28        http://www.wga.hu/art/m/monet/08/7liliy01.jpg           monet   \n",
        "29        http://www.wga.hu/art/m/monet/08/7liliy02.jpg           monet   \n",
        "...                                                 ...             ...   \n",
        "2295  http://www.wga.hu/art/l/lippi/filippo/1440/06a...  lippi__filippo   \n",
        "2296  http://www.wga.hu/art/l/lippi/filippo/1440/07m...  lippi__filippo   \n",
        "2297  http://www.wga.hu/art/l/lippi/filippo/1440/07m...  lippi__filippo   \n",
        "2298  http://www.wga.hu/art/l/lippi/filippo/1440/08b...  lippi__filippo   \n",
        "2299  http://www.wga.hu/art/l/lippi/filippo/1440/09a...  lippi__filippo   \n",
        "2300  http://www.wga.hu/art/l/lippi/filippo/1440/10a...  lippi__filippo   \n",
        "2301  http://www.wga.hu/art/l/lippi/filippo/1440/10p...  lippi__filippo   \n",
        "2302  http://www.wga.hu/art/l/lippi/filippo/1430/1ma...  lippi__filippo   \n",
        "2303  http://www.wga.hu/art/l/lippi/filippo/1430/2hu...  lippi__filippo   \n",
        "2304  http://www.wga.hu/art/l/lippi/filippo/1430/3ru...  lippi__filippo   \n",
        "2305  http://www.wga.hu/art/l/lippi/filippo/1430/4je...  lippi__filippo   \n",
        "2306  http://www.wga.hu/art/l/lippi/filippo/1430/4jp...  lippi__filippo   \n",
        "2307  http://www.wga.hu/art/l/lippi/filippo/1430/4jp...  lippi__filippo   \n",
        "2308  http://www.wga.hu/art/l/lippi/filippo/1430/4ma...  lippi__filippo   \n",
        "2309  http://www.wga.hu/art/l/lippi/filippo/1430/5ma...  lippi__filippo   \n",
        "2310  http://www.wga.hu/art/l/lippi/filippo/1430/5ma...  lippi__filippo   \n",
        "2311  http://www.wga.hu/art/l/lippi/filippo/1430/5ma...  lippi__filippo   \n",
        "2312  http://www.wga.hu/art/l/lippi/filippo/1430/5ma...  lippi__filippo   \n",
        "2313  http://www.wga.hu/art/l/lippi/filippo/1430/5ma...  lippi__filippo   \n",
        "2314  http://www.wga.hu/art/l/lippi/filippo/1430/5ma...  lippi__filippo   \n",
        "2315  http://www.wga.hu/art/l/lippi/filippo/1430/6ma...  lippi__filippo   \n",
        "2316  http://www.wga.hu/art/l/lippi/filippo/1430/7an...  lippi__filippo   \n",
        "2317  http://www.wga.hu/art/l/lippi/filippo/1430/7so...  lippi__filippo   \n",
        "2318  http://www.wga.hu/art/l/lippi/filippo/1430/8ba...  lippi__filippo   \n",
        "2319  http://www.wga.hu/art/l/lippi/filippo/1430/8ba...  lippi__filippo   \n",
        "2320  http://www.wga.hu/art/l/lippi/filippo/1430/8ba...  lippi__filippo   \n",
        "2321  http://www.wga.hu/art/l/lippi/filippo/1430/8ba...  lippi__filippo   \n",
        "2322  http://www.wga.hu/art/l/lippi/filippo/1430/9an...  lippi__filippo   \n",
        "2323  http://www.wga.hu/art/l/lippi/filippo/1430/9me...  lippi__filippo   \n",
        "2324  http://www.wga.hu/art/l/lippi/filippo/1430/9st...  lippi__filippo   \n",
        "\n",
        "                                   painting_info_detail  period_code  \\\n",
        "0     \\r\\n,Edge of a Wood,\\r\\nJune-July 1881, Etten,...           21   \n",
        "1     \\r\\n,Woman Sewing,\\r\\nOctober-November 1881, E...           21   \n",
        "2     \\r\\n,Sien with Cigar Sitting on the Floor near...           21   \n",
        "3     \\r\\n,Beach at Scheveningen,\\r\\nOctober 1882, T...           21   \n",
        "4     \\r\\n,The Weaver,\\r\\nDecember-August 1883-84, N...           21   \n",
        "5     \\r\\n,Weaver: The Whole Loom Facing Right,\\r\\nJ...           21   \n",
        "6     \\r\\n,The Sale of Crosses at the Nuenen Cemeter...           21   \n",
        "7     \\r\\n,Outskirts of Paris near Montmartre,\\r\\nSu...           21   \n",
        "8     \\r\\n,The Langlois Bridge at Arles,\\r\\nApril 18...           21   \n",
        "9     \\r\\n,Harvest in Provence, at the Left Montmajo...           21   \n",
        "10    \\r\\n,The Night Caf\u00e9 in the Place Lamartine in ...           21   \n",
        "11    \\r\\n,Flowering Bushes in the Asylum Garden,\\r\\...           21   \n",
        "12    \\r\\n,Waterloo Bridge, Effect of Fog,\\r\\n1899-1...            8   \n",
        "13    \\r\\n,Waterloo Bridge,\\r\\n1903,\\r\\nOil on canva...            8   \n",
        "14    \\r\\n,The Houses of Parliament in London,\\r\\n19...            8   \n",
        "15    \\r\\n,The Houses of Parliament, London,\\r\\n1904...            8   \n",
        "16    \\r\\n,Palazzo Contarini,\\r\\n1908,\\r\\nOil on can...            8   \n",
        "17    \\r\\n,The Palazzo Ducale Seen from San Giorgio ...            8   \n",
        "18    \\r\\n,Gondola in Venice,\\r\\n1908,\\r\\nOil on can...            8   \n",
        "19    \\r\\n,The Grand Canal in Venice,\\r\\n1908,\\r\\nOi...            8   \n",
        "20    \\r\\n,Sunset in Venice,\\r\\n1908,\\r\\nOil on canv...            8   \n",
        "21    \\r\\n,Bridge over a Pond of Water Lilies,\\r\\n18...            8   \n",
        "22    \\r\\n,Water Lily Pond, Harmony in Green,\\r\\n189...            8   \n",
        "23    \\r\\n,Water Lily Pond, Harmony in Rose,\\r\\n1900...            8   \n",
        "24    \\r\\n,The Water Lily Pond,\\r\\n1900,\\r\\nOil on c...            8   \n",
        "25    \\r\\n,The Japanese Bridge,\\r\\n1922,\\r\\nOil on c...            8   \n",
        "26    \\r\\n,Irises in Monet's Garden at Giverny,\\r\\n1...            8   \n",
        "27    \\r\\n,Weeping Willow,\\r\\n1920-22,\\r\\nOil on can...            8   \n",
        "28    \\r\\n,Water Lilies,\\r\\n1905,\\r\\nOil on canvas, ...            8   \n",
        "29    \\r\\n,Water Lilies,\\r\\n1906,\\r\\nOil on canvas, ...            8   \n",
        "...                                                 ...          ...   \n",
        "2295  \\r\\n,Annunciation,\\r\\nc. 1445,\\r\\nWood, 175 x ...            2   \n",
        "2296  \\r\\n,Madonna Enthroned with Saints,\\r\\nc. 1445...            2   \n",
        "2297  \\r\\n,Meeting of Joachim and Anne at the Golden...            2   \n",
        "2298  \\r\\n,The Virgin Appears to St Bernard,\\r\\n1447...            2   \n",
        "2299  \\r\\n,Annunciation,\\r\\n1445-50,\\r\\nTempera on p...            2   \n",
        "2300  \\r\\n,Annunciation,\\r\\n1448-50,\\r\\nEgg tempera ...            2   \n",
        "2301  \\r\\n,Seven Saints,\\r\\n1448-50,\\r\\nEgg tempera ...            2   \n",
        "2302  \\r\\n,Madonna and Child Enthroned with Saints,\\...            1   \n",
        "2303  \\r\\n,Madonna of Humility (Trivulzio Madonna),\\...            1   \n",
        "2304  \\r\\n,Confirmation of the Carmelite Rule,\\r\\nc....            1   \n",
        "2305  \\r\\n,The Penitent St Jerome with a Young Monk,...            1   \n",
        "2306  \\r\\n,Piet\u00e0,\\r\\n1435-39,\\r\\nTempera on panel, 5...            1   \n",
        "2307  \\r\\n,Piet\u00e0,\\r\\n1435-39,\\r\\nTempera on panel, 5...            1   \n",
        "2308  \\r\\n,Madonna with Child (Tarquinia Madonna),\\r...            1   \n",
        "2309  \\r\\n,Madonna and Child Enthroned with Two Ange...            1   \n",
        "2310  \\r\\n,Madonna and Child Enthroned with Two Ange...            1   \n",
        "2311  \\r\\n,The Doctors of the Church,\\r\\nc. 1437,\\r\\...            1   \n",
        "2312  \\r\\n,Sts Augustine and Ambrose,\\r\\nc. 1437,\\r\\...            1   \n",
        "2313  \\r\\n,Sts Gregory and Jerome,\\r\\nc. 1437,\\r\\nTe...            1   \n",
        "2314  \\r\\n,Triptych,\\r\\nc. 1437,\\r\\nTempera and gold...            1   \n",
        "2315  \\r\\n,Madonna and Child with Saints, Angels, an...            1   \n",
        "2316  \\r\\n,Annunciation,\\r\\n1437-39,\\r\\nTempera on w...            1   \n",
        "2317  \\r\\n,Man of Sorrows,\\r\\n-,\\r\\nPanel, 82 x 101 ...            1   \n",
        "2318  \\r\\n,Madonna and Child with St Fredianus and S...            1   \n",
        "2319  \\r\\n,St Fredianus Diverts the River Serchio,\\r...            1   \n",
        "2320  \\r\\n,Announcement of the Death of the Virgin,\\...            1   \n",
        "2321  \\r\\n,Vision of St Augustine,\\r\\nc. 1438,\\r\\nTe...            1   \n",
        "2322  \\r\\n,The Annunciation,\\r\\n1435-40,\\r\\nTempera ...            1   \n",
        "2323  \\r\\n,Madonna and Child,\\r\\n-,\\r\\nPanel, 155 x ...            1   \n",
        "2324  \\r\\n,Female Figure (Prophetess?),\\r\\n1430s,\\r\\...            1   \n",
        "\n",
        "                creation_date creation_place     dimension  \\\n",
        "0              June-July 1881          Etten  416 x 548 mm   \n",
        "1       October-November 1881          Etten  620 x 472 mm   \n",
        "2            March-April 1882      The Hague  452 x 557 mm   \n",
        "3                October 1882      The Hague  340 x 495 mm   \n",
        "4     December-August 1883-84         Nuenen  356 x 254 mm   \n",
        "5                January 1884         Nuenen  318 x 451 mm   \n",
        "6                    May 1885         Nuenen  381 x 559 mm   \n",
        "7                 Summer 1887          Paris  395 x 535 mm   \n",
        "8                  April 1888          Arles  300 x 300 mm   \n",
        "9                   June 1888          Arles  395 x 525 mm   \n",
        "10             September 1888          Arles  444 x 632 mm   \n",
        "11               October 1889     Saint-R\u00e9my  620 x 470 mm   \n",
        "12                  1899-1901            NaN   65 x 100 cm   \n",
        "13                       1903            NaN   64 x 101 cm   \n",
        "14                       1904            NaN    81 x 92 cm   \n",
        "15                       1904            NaN    81 x 92 cm   \n",
        "16                       1908            NaN    92 x 81 cm   \n",
        "17                       1908            NaN    65 x 93 cm   \n",
        "18                       1908            NaN    81 x 55 cm   \n",
        "19                       1908            NaN    74 x 92 cm   \n",
        "20                       1908            NaN    73 x 92 cm   \n",
        "21                       1899            NaN    93 x 74 cm   \n",
        "22                       1899            NaN    89 x 94 cm   \n",
        "23                       1900            NaN   90 x 100 cm   \n",
        "24                       1900            NaN    90 x 93 cm   \n",
        "25                       1922            NaN   89 x 116 cm   \n",
        "26                       1900            NaN    81 x 92 cm   \n",
        "27                    1920-22            NaN  110 x 100 cm   \n",
        "28                       1905            NaN   90 x 100 cm   \n",
        "29                       1906            NaN    88 x 93 cm   \n",
        "...                       ...            ...           ...   \n",
        "2295                  c. 1445            NaN  175 x 183 cm   \n",
        "2296                  c. 1445            NaN  196 x 196 cm   \n",
        "2297                  c. 1445            NaN    21 x 48 cm   \n",
        "2298                     1447            NaN   69 x 105 cm   \n",
        "2299                  1445-50            NaN  117 x 173 cm   \n",
        "2300                  1448-50            NaN   68 x 152 cm   \n",
        "2301                  1448-50            NaN   68 x 151 cm   \n",
        "2302                  c. 1430            NaN    44 x 34 cm   \n",
        "2303                  c. 1430            NaN           NaN   \n",
        "2304                  c. 1432            NaN           NaN   \n",
        "2305                  1435-36            NaN    47 x 29 cm   \n",
        "2306                  1435-39            NaN    58 x 32 cm   \n",
        "2307                  1435-39            NaN    58 x 32 cm   \n",
        "2308                     1437            NaN   151 x 66 cm   \n",
        "2309                  c. 1437            NaN   123 x 63 cm   \n",
        "2310                  c. 1437            NaN   123 x 63 cm   \n",
        "2311                  c. 1437            NaN   129 x 65 cm   \n",
        "2312                  c. 1437            NaN   129 x 65 cm   \n",
        "2313                  c. 1437            NaN   129 x 65 cm   \n",
        "2314                  c. 1437            NaN           NaN   \n",
        "2315                  c. 1437            NaN    47 x 36 cm   \n",
        "2316                  1437-39            NaN    64 x 23 cm   \n",
        "2317                        -            NaN   82 x 101 cm   \n",
        "2318                  1437-38            NaN  208 x 244 cm   \n",
        "2319                  c. 1438            NaN   40 x 235 cm   \n",
        "2320                  c. 1438            NaN   40 x 235 cm   \n",
        "2321                  c. 1438            NaN   40 x 235 cm   \n",
        "2322                  1435-40            NaN  100 x 161 cm   \n",
        "2323                        -            NaN   155 x 71 cm   \n",
        "2324                    1430s            NaN  251 x 114 mm   \n",
        "\n",
        "                                           exibit_place  \\\n",
        "0                   Rijksmuseum Kr\u00f6ller-M\u00fcller, Otterlo   \n",
        "1                   Rijksmuseum Kr\u00f6ller-M\u00fcller, Otterlo   \n",
        "2                   Rijksmuseum Kr\u00f6ller-M\u00fcller, Otterlo   \n",
        "3                    Baltimore Museum of Art, Baltimore   \n",
        "4               Rijksmuseum Vincent van Gogh, Amsterdam   \n",
        "5                                Mus\u00e9e du Louvre, Paris   \n",
        "6               Rijksmuseum Vincent van Gogh, Amsterdam   \n",
        "7                           Stedelijk Museum, Amsterdam   \n",
        "8                                    Private collection   \n",
        "9        Fogg Art Museum, Harvard University, Cambridge   \n",
        "10                                   Private collection   \n",
        "11                  Rijksmuseum Kr\u00f6ller-M\u00fcller, Otterlo   \n",
        "12                        The Hermitage, St. Petersburg   \n",
        "13                        The Hermitage, St. Petersburg   \n",
        "14                                 Mus\u00e9e d'Orsay, Paris   \n",
        "15                         Palais des Beaux-Arts, Lille   \n",
        "16                              Kunstmuseum, St. Gallen   \n",
        "17                 Metropolitan Museum of Art, New York   \n",
        "18                         Mus\u00e9e des Beaux-Arts, Nantes   \n",
        "19                          Museum of Fine Arts, Boston   \n",
        "20                     Bridgestone Museum of Art, Tokyo   \n",
        "21                 Metropolitan Museum of Art, New York   \n",
        "22                                 Mus\u00e9e d'Orsay, Paris   \n",
        "23                                 Mus\u00e9e d'Orsay, Paris   \n",
        "24                          Museum of Fine Arts, Boston   \n",
        "25                       Institute of Arts, Minneapolis   \n",
        "26                                 Mus\u00e9e d'Orsay, Paris   \n",
        "27                                 Mus\u00e9e d'Orsay, Paris   \n",
        "28                          Museum of Fine Arts, Boston   \n",
        "29                               Art Institute, Chicago   \n",
        "...                                                 ...   \n",
        "2295                              San Lorenzo, Florence   \n",
        "2296                    Galleria degli Uffizi, Florence   \n",
        "2297                           Ashmolean Museum, Oxford   \n",
        "2298                           National Gallery, London   \n",
        "2299                      Galleria Doria Pamphilj, Rome   \n",
        "2300                           National Gallery, London   \n",
        "2301                           National Gallery, London   \n",
        "2302                     Museo della Collegiata, Empoli   \n",
        "2303                          Castello Sforzesco, Milan   \n",
        "2304         Museo di Santa Maria del Carmine, Florence   \n",
        "2305                         Lindenau-Museum, Altenburg   \n",
        "2306                         Museo Poldi Pezzoli, Milan   \n",
        "2307                         Museo Poldi Pezzoli, Milan   \n",
        "2308             Galleria Nazionale d'Arte Antica, Rome   \n",
        "2309               Metropolitan Museum of Art, New York   \n",
        "2310               Metropolitan Museum of Art, New York   \n",
        "2311                        Accademina Albertina, Turin   \n",
        "2312           Accademia Albertina di Belle Arti, Turin   \n",
        "2313           Accademia Albertina di Belle Arti, Turin   \n",
        "2314  Accademia Albertina di Belle Arti, Turin and M...   \n",
        "2315                   Collezione Vittorio Cini, Venice   \n",
        "2316                         Frick Collection, New York   \n",
        "2317                      Archbishop's Palace, Florence   \n",
        "2318                             Mus\u00e9e du Louvre, Paris   \n",
        "2319                    Galleria degli Uffizi, Florence   \n",
        "2320                    Galleria degli Uffizi, Florence   \n",
        "2321                    Galleria degli Uffizi, Florence   \n",
        "2322                National Gallery of Art, Washington   \n",
        "2323                  Palazzo Medici-Riccardi, Florence   \n",
        "2324           Harvard University Art Museum, Cambridge   \n",
        "\n",
        "                                              technique  \\\n",
        "0     Pencil, charcoal, brush and ink, watercolour o...   \n",
        "1     Black chalk, washed, opaque watercolour, on la...   \n",
        "2     Pencil, pen and brush in black ink, white opaq...   \n",
        "3                                           Watercolour   \n",
        "4                                           Watercolour   \n",
        "5                     Pencil, pen, gouache, watercolour   \n",
        "6                                           Watercolour   \n",
        "7                                  Watercolour on paper   \n",
        "8                                  Watercolour on paper   \n",
        "9                                   Watercolour and pen   \n",
        "10                                          Watercolour   \n",
        "11                                 Watercolour on paper   \n",
        "12                                        Oil on canvas   \n",
        "13                                        Oil on canvas   \n",
        "14                                        Oil on canvas   \n",
        "15                                        Oil on canvas   \n",
        "16                                        Oil on canvas   \n",
        "17                                        Oil on canvas   \n",
        "18                                        Oil on canvas   \n",
        "19                                        Oil on canvas   \n",
        "20                                        Oil on canvas   \n",
        "21                                        Oil on canvas   \n",
        "22                                        Oil on canvas   \n",
        "23                                        Oil on canvas   \n",
        "24                                        Oil on canvas   \n",
        "25                                        Oil on canvas   \n",
        "26                                        Oil on canvas   \n",
        "27                                        Oil on canvas   \n",
        "28                                        Oil on canvas   \n",
        "29                                        Oil on canvas   \n",
        "...                                                 ...   \n",
        "2295                                               Wood   \n",
        "2296                                    Tempera on wood   \n",
        "2297                                    Tempera on wood   \n",
        "2298                                               Wood   \n",
        "2299                                   Tempera on panel   \n",
        "2300                                Egg tempera on wood   \n",
        "2301                                Egg tempera on wood   \n",
        "2302                                              Panel   \n",
        "2303                                              Panel   \n",
        "2304                                             Fresco   \n",
        "2305                                    Tempera on wood   \n",
        "2306                                   Tempera on panel   \n",
        "2307                                   Tempera on panel   \n",
        "2308                                   Tempera on panel   \n",
        "2309  Tempera and gold on wood transferred from wood...   \n",
        "2310  Tempera and gold on wood transferred from wood...   \n",
        "2311                                     Panel,  (each)   \n",
        "2312                           Tempera and gold on wood   \n",
        "2313                           Tempera and gold on wood   \n",
        "2314                           Tempera and gold on wood   \n",
        "2315                                              Panel   \n",
        "2316                     Tempera on wood,  (each panel)   \n",
        "2317                                              Panel   \n",
        "2318                                              Panel   \n",
        "2319          Tempera on wood,  (three panels together)   \n",
        "2320          Tempera on wood,  (three panels together)   \n",
        "2321          Tempera on wood,  (three panels together)   \n",
        "2322                                   Tempera on panel   \n",
        "2323                                              Panel   \n",
        "2324  Pen and ink, heightened with white gouache on ...   \n",
        "\n",
        "                                                  title  \\\n",
        "0                                        Edge of a Wood   \n",
        "1                                          Woman Sewing   \n",
        "2       Sien with Cigar Sitting on the Floor near Stove   \n",
        "3                                 Beach at Scheveningen   \n",
        "4                                            The Weaver   \n",
        "5                   Weaver: The Whole Loom Facing Right   \n",
        "6            The Sale of Crosses at the Nuenen Cemetery   \n",
        "7                    Outskirts of Paris near Montmartre   \n",
        "8                          The Langlois Bridge at Arles   \n",
        "9           Harvest in Provence, at the Left Montmajour   \n",
        "10       The Night Caf\u00e9 in the Place Lamartine in Arles   \n",
        "11                Flowering Bushes in the Asylum Garden   \n",
        "12                       Waterloo Bridge, Effect of Fog   \n",
        "13                                      Waterloo Bridge   \n",
        "14                   The Houses of Parliament in London   \n",
        "15                     The Houses of Parliament, London   \n",
        "16                                    Palazzo Contarini   \n",
        "17    The Palazzo Ducale Seen from San Giorgio Maggiore   \n",
        "18                                    Gondola in Venice   \n",
        "19                            The Grand Canal in Venice   \n",
        "20                                     Sunset in Venice   \n",
        "21                   Bridge over a Pond of Water Lilies   \n",
        "22                    Water Lily Pond, Harmony in Green   \n",
        "23                     Water Lily Pond, Harmony in Rose   \n",
        "24                                  The Water Lily Pond   \n",
        "25                                  The Japanese Bridge   \n",
        "26                  Irises in Monet's Garden at Giverny   \n",
        "27                                       Weeping Willow   \n",
        "28                                         Water Lilies   \n",
        "29                                         Water Lilies   \n",
        "...                                                 ...   \n",
        "2295                                       Annunciation   \n",
        "2296                      Madonna Enthroned with Saints   \n",
        "2297     Meeting of Joachim and Anne at the Golden Gate   \n",
        "2298                   The Virgin Appears to St Bernard   \n",
        "2299                                       Annunciation   \n",
        "2300                                       Annunciation   \n",
        "2301                                       Seven Saints   \n",
        "2302            Madonna and Child Enthroned with Saints   \n",
        "2303            Madonna of Humility (Trivulzio Madonna)   \n",
        "2304                 Confirmation of the Carmelite Rule   \n",
        "2305           The Penitent St Jerome with a Young Monk   \n",
        "2306                                              Piet\u00e0   \n",
        "2307                                              Piet\u00e0   \n",
        "2308             Madonna with Child (Tarquinia Madonna)   \n",
        "2309        Madonna and Child Enthroned with Two Angels   \n",
        "2310        Madonna and Child Enthroned with Two Angels   \n",
        "2311                          The Doctors of the Church   \n",
        "2312                          Sts Augustine and Ambrose   \n",
        "2313                             Sts Gregory and Jerome   \n",
        "2314                                           Triptych   \n",
        "2315  Madonna and Child with Saints, Angels, and a D...   \n",
        "2316                                       Annunciation   \n",
        "2317                                     Man of Sorrows   \n",
        "2318  Madonna and Child with St Fredianus and St Aug...   \n",
        "2319             St Fredianus Diverts the River Serchio   \n",
        "2320            Announcement of the Death of the Virgin   \n",
        "2321                             Vision of St Augustine   \n",
        "2322                                   The Annunciation   \n",
        "2323                                  Madonna and Child   \n",
        "2324                        Female Figure (Prophetess?)   \n",
        "\n",
        "                            file_name  \n",
        "0            gogh_van_21_waterc01.jpg  \n",
        "1            gogh_van_21_waterc02.jpg  \n",
        "2            gogh_van_21_waterc03.jpg  \n",
        "3            gogh_van_21_waterc04.jpg  \n",
        "4            gogh_van_21_waterc05.jpg  \n",
        "5            gogh_van_21_waterc06.jpg  \n",
        "6            gogh_van_21_waterc07.jpg  \n",
        "7            gogh_van_21_waterc08.jpg  \n",
        "8            gogh_van_21_waterc09.jpg  \n",
        "9            gogh_van_21_waterc10.jpg  \n",
        "10           gogh_van_21_waterc11.jpg  \n",
        "11           gogh_van_21_waterc12.jpg  \n",
        "12              monet_08_1london1.jpg  \n",
        "13              monet_08_1london2.jpg  \n",
        "14              monet_08_1london3.jpg  \n",
        "15              monet_08_1london4.jpg  \n",
        "16              monet_08_2venice1.jpg  \n",
        "17              monet_08_2venice2.jpg  \n",
        "18              monet_08_2venice3.jpg  \n",
        "19              monet_08_2venice4.jpg  \n",
        "20              monet_08_2venice5.jpg  \n",
        "21              monet_08_3bridge1.jpg  \n",
        "22              monet_08_3bridge2.jpg  \n",
        "23              monet_08_3bridge3.jpg  \n",
        "24              monet_08_3bridge4.jpg  \n",
        "25              monet_08_3bridge5.jpg  \n",
        "26              monet_08_6irises1.jpg  \n",
        "27              monet_08_6irises2.jpg  \n",
        "28              monet_08_7liliy01.jpg  \n",
        "29              monet_08_7liliy02.jpg  \n",
        "...                               ...  \n",
        "2295  lippi_filippo_1440_06annunc.jpg  \n",
        "2296  lippi_filippo_1440_07madonn.jpg  \n",
        "2297  lippi_filippo_1440_07meetin.jpg  \n",
        "2298  lippi_filippo_1440_08bernar.jpg  \n",
        "2299  lippi_filippo_1440_09annunc.jpg  \n",
        "2300   lippi_filippo_1440_10annun.jpg  \n",
        "2301  lippi_filippo_1440_10panel2.jpg  \n",
        "2302  lippi_filippo_1430_1madonna.jpg  \n",
        "2303  lippi_filippo_1430_2humilit.jpg  \n",
        "2304    lippi_filippo_1430_3rules.jpg  \n",
        "2305   lippi_filippo_1430_4jerome.jpg  \n",
        "2306   lippi_filippo_1430_4jpieta.jpg  \n",
        "2307  lippi_filippo_1430_4jpieta1.jpg  \n",
        "2308  lippi_filippo_1430_4madonna.jpg  \n",
        "2309    lippi_filippo_1430_5madch.jpg  \n",
        "2310   lippi_filippo_1430_5madchi.jpg  \n",
        "2311  lippi_filippo_1430_5madchi1.jpg  \n",
        "2312  lippi_filippo_1430_5madchi2.jpg  \n",
        "2313  lippi_filippo_1430_5madchi3.jpg  \n",
        "2314  lippi_filippo_1430_5madchi4.jpg  \n",
        "2315  lippi_filippo_1430_6madsain.jpg  \n",
        "2316   lippi_filippo_1430_7annunc.jpg  \n",
        "2317  lippi_filippo_1430_7sorrows.jpg  \n",
        "2318   lippi_filippo_1430_8barbad.jpg  \n",
        "2319  lippi_filippo_1430_8barbad1.jpg  \n",
        "2320  lippi_filippo_1430_8barbad2.jpg  \n",
        "2321  lippi_filippo_1430_8barbad3.jpg  \n",
        "2322  lippi_filippo_1430_9annunci.jpg  \n",
        "2323   lippi_filippo_1430_9medici.jpg  \n",
        "2324    lippi_filippo_1430_9study.jpg  \n",
        "\n",
        "[2325 rows x 11 columns]"
       ]
      }
     ],
     "prompt_number": 31
    },
    {
     "cell_type": "code",
     "collapsed": false,
     "input": [
      "import os\n",
      "\n",
      "os.listdir('./')"
     ],
     "language": "python",
     "metadata": {},
     "outputs": [
      {
       "metadata": {},
       "output_type": "pyout",
       "prompt_number": 11,
       "text": [
        "['neural_net_version2.py',\n",
        " 'neural_net_version2.pyc',\n",
        " '.ipynb_checkpoints',\n",
        " 'README.md',\n",
        " '.gitignore',\n",
        " 'Untitled0.ipynb',\n",
        " 'data',\n",
        " '.git']"
       ]
      }
     ],
     "prompt_number": 11
    },
    {
     "cell_type": "code",
     "collapsed": false,
     "input": [
      "from google.cloud import storage"
     ],
     "language": "python",
     "metadata": {},
     "outputs": [],
     "prompt_number": 12
    },
    {
     "cell_type": "code",
     "collapsed": false,
     "input": [
      "client = storage.Client(project = 'painting-classifier')"
     ],
     "language": "python",
     "metadata": {},
     "outputs": [],
     "prompt_number": 13
    },
    {
     "cell_type": "code",
     "collapsed": false,
     "input": [
      "bucket = client.bucket('painting-classifier-data')"
     ],
     "language": "python",
     "metadata": {},
     "outputs": [],
     "prompt_number": 14
    },
    {
     "cell_type": "code",
     "collapsed": false,
     "input": [
      "blobs = list(bucket.list_blobs())"
     ],
     "language": "python",
     "metadata": {},
     "outputs": [],
     "prompt_number": 19
    },
    {
     "cell_type": "code",
     "collapsed": false,
     "input": [
      "len(blobs)"
     ],
     "language": "python",
     "metadata": {},
     "outputs": [
      {
       "metadata": {},
       "output_type": "pyout",
       "prompt_number": 20,
       "text": [
        "4653"
       ]
      }
     ],
     "prompt_number": 20
    },
    {
     "cell_type": "code",
     "collapsed": false,
     "input": [
      "blobs"
     ],
     "language": "python",
     "metadata": {},
     "outputs": [
      {
       "metadata": {},
       "output_type": "pyout",
       "prompt_number": 21,
       "text": [
        "[<Blob: painting-classifier-data, images/angelico_00_10fieso1.jpg>,\n",
        " <Blob: painting-classifier-data, images/angelico_00_11fieso1.jpg>,\n",
        " <Blob: painting-classifier-data, images/angelico_00_11fieso3.jpg>,\n",
        " <Blob: painting-classifier-data, images/angelico_00_11fieso4.jpg>,\n",
        " <Blob: painting-classifier-data, images/angelico_00_11fieso5.jpg>,\n",
        " <Blob: painting-classifier-data, images/angelico_00_11fieso6.jpg>,\n",
        " <Blob: painting-classifier-data, images/angelico_00_11fieso7.jpg>,\n",
        " <Blob: painting-classifier-data, images/angelico_01_1prado.jpg>,\n",
        " <Blob: painting-classifier-data, images/angelico_01_2prado.jpg>,\n",
        " <Blob: painting-classifier-data, images/angelico_02_1closed.jpg>,\n",
        " <Blob: painting-classifier-data, images/angelico_02_2open.jpg>,\n",
        " <Blob: painting-classifier-data, images/angelico_02_2open1.jpg>,\n",
        " <Blob: painting-classifier-data, images/angelico_02_2open2.jpg>,\n",
        " <Blob: painting-classifier-data, images/angelico_02_predel1.jpg>,\n",
        " <Blob: painting-classifier-data, images/angelico_02_predel2.jpg>,\n",
        " <Blob: painting-classifier-data, images/angelico_02_predel3.jpg>,\n",
        " <Blob: painting-classifier-data, images/angelico_03_lastjud1.jpg>,\n",
        " <Blob: painting-classifier-data, images/angelico_04_1annunc.jpg>,\n",
        " <Blob: painting-classifier-data, images/angelico_04_1annunc1.jpg>,\n",
        " <Blob: painting-classifier-data, images/angelico_04_2edge1.jpg>,\n",
        " <Blob: painting-classifier-data, images/angelico_04_3predel1.jpg>,\n",
        " <Blob: painting-classifier-data, images/angelico_04_3predel2.jpg>,\n",
        " <Blob: painting-classifier-data, images/angelico_04_3predel3.jpg>,\n",
        " <Blob: painting-classifier-data, images/angelico_04_3predel4.jpg>,\n",
        " <Blob: painting-classifier-data, images/angelico_04_3predel5.jpg>,\n",
        " <Blob: painting-classifier-data, images/angelico_04_4edge2.jpg>,\n",
        " <Blob: painting-classifier-data, images/angelico_05_cortona1.jpg>,\n",
        " <Blob: painting-classifier-data, images/angelico_05_cortona2.jpg>,\n",
        " <Blob: painting-classifier-data, images/angelico_05_predell1.jpg>,\n",
        " <Blob: painting-classifier-data, images/angelico_05_predell2.jpg>,\n",
        " <Blob: painting-classifier-data, images/angelico_05_predell3.jpg>,\n",
        " <Blob: painting-classifier-data, images/angelico_06_perugia.jpg>,\n",
        " <Blob: painting-classifier-data, images/angelico_06_perugia0.jpg>,\n",
        " <Blob: painting-classifier-data, images/angelico_06_perugia1.jpg>,\n",
        " <Blob: painting-classifier-data, images/angelico_06_perugia2.jpg>,\n",
        " <Blob: painting-classifier-data, images/angelico_06_perugia3.jpg>,\n",
        " <Blob: painting-classifier-data, images/angelico_06_predel1.jpg>,\n",
        " <Blob: painting-classifier-data, images/angelico_06_predel12.jpg>,\n",
        " <Blob: painting-classifier-data, images/angelico_06_predel2.jpg>,\n",
        " <Blob: painting-classifier-data, images/angelico_06_predel3.jpg>,\n",
        " <Blob: painting-classifier-data, images/angelico_06_predel31.jpg>,\n",
        " <Blob: painting-classifier-data, images/angelico_06_predel32.jpg>,\n",
        " <Blob: painting-classifier-data, images/angelico_07_altar_sm.jpg>,\n",
        " <Blob: painting-classifier-data, images/angelico_07_marco_p1.jpg>,\n",
        " <Blob: painting-classifier-data, images/angelico_07_marco_p2.jpg>,\n",
        " <Blob: painting-classifier-data, images/angelico_07_marco_p3.jpg>,\n",
        " <Blob: painting-classifier-data, images/angelico_07_marco_p4.jpg>,\n",
        " <Blob: painting-classifier-data, images/angelico_07_marco_p5.jpg>,\n",
        " <Blob: painting-classifier-data, images/angelico_07_marco_p6.jpg>,\n",
        " <Blob: painting-classifier-data, images/angelico_07_marco_p7.jpg>,\n",
        " <Blob: painting-classifier-data, images/angelico_07_marco_p8.jpg>,\n",
        " <Blob: painting-classifier-data, images/angelico_07_marco_p9.jpg>,\n",
        " <Blob: painting-classifier-data, images/angelico_07_panel1.jpg>,\n",
        " <Blob: painting-classifier-data, images/angelico_07_panel2.jpg>,\n",
        " <Blob: painting-classifier-data, images/angelico_07_panel3.jpg>,\n",
        " <Blob: painting-classifier-data, images/angelico_07_panel4.jpg>,\n",
        " <Blob: painting-classifier-data, images/angelico_07_panel5.jpg>,\n",
        " <Blob: painting-classifier-data, images/angelico_07_panel6.jpg>,\n",
        " <Blob: painting-classifier-data, images/angelico_08_1trinita.jpg>,\n",
        " <Blob: painting-classifier-data, images/angelico_09_marco2.jpg>,\n",
        " <Blob: painting-classifier-data, images/angelico_09_marco3.jpg>,\n",
        " <Blob: painting-classifier-data, images/angelico_09_marco4.jpg>,\n",
        " <Blob: painting-classifier-data, images/angelico_09_smarco_1.jpg>,\n",
        " <Blob: painting-classifier-data, images/angelico_09_smarco_g.jpg>,\n",
        " <Blob: painting-classifier-data, images/angelico_10_1scenes.jpg>,\n",
        " <Blob: painting-classifier-data, images/angelico_10_2scenes.jpg>,\n",
        " <Blob: painting-classifier-data, images/angelico_10_3vault.jpg>,\n",
        " <Blob: painting-classifier-data, images/angelico_10_3vault1.jpg>,\n",
        " <Blob: painting-classifier-data, images/angelico_10_3vault2.jpg>,\n",
        " <Blob: painting-classifier-data, images/angelico_11_1armadio.jpg>,\n",
        " <Blob: painting-classifier-data, images/angelico_11_2armadio.jpg>,\n",
        " <Blob: painting-classifier-data, images/angelico_11_3armadio.jpg>,\n",
        " <Blob: painting-classifier-data, images/angelico_11_5armadio.jpg>,\n",
        " <Blob: painting-classifier-data, images/angelico_11_armadio1.jpg>,\n",
        " <Blob: painting-classifier-data, images/angelico_11_armadio4.jpg>,\n",
        " <Blob: painting-classifier-data, images/angelico_11_armadio5.jpg>,\n",
        " <Blob: painting-classifier-data, images/angelico_11_armadio6.jpg>,\n",
        " <Blob: painting-classifier-data, images/angelico_11_armadio7.jpg>,\n",
        " <Blob: painting-classifier-data, images/angelico_11_armadio8.jpg>,\n",
        " <Blob: painting-classifier-data, images/angelico_12_00_annun.jpg>,\n",
        " <Blob: painting-classifier-data, images/angelico_12_00_madon.jpg>,\n",
        " <Blob: painting-classifier-data, images/angelico_12_00_peter.jpg>,\n",
        " <Blob: painting-classifier-data, images/angelico_12_01compag.jpg>,\n",
        " <Blob: painting-classifier-data, images/angelico_12_02compa1.jpg>,\n",
        " <Blob: painting-classifier-data, images/angelico_12_02compa2.jpg>,\n",
        " <Blob: painting-classifier-data, images/angelico_12_02compa3.jpg>,\n",
        " <Blob: painting-classifier-data, images/angelico_12_02compa4.jpg>,\n",
        " <Blob: painting-classifier-data, images/angelico_12_02compa5.jpg>,\n",
        " <Blob: painting-classifier-data, images/angelico_12_20louvre.jpg>,\n",
        " <Blob: painting-classifier-data, images/angelico_12_30coron.jpg>,\n",
        " <Blob: painting-classifier-data, images/angelico_12_31corona.jpg>,\n",
        " <Blob: painting-classifier-data, images/angelico_12_32corona.jpg>,\n",
        " <Blob: painting-classifier-data, images/angelico_12_40annunc.jpg>,\n",
        " <Blob: painting-classifier-data, images/angelico_12_50annale.jpg>,\n",
        " <Blob: painting-classifier-data, images/angelico_12_51annale.jpg>,\n",
        " <Blob: painting-classifier-data, images/angelico_12_60bosco.jpg>,\n",
        " <Blob: painting-classifier-data, images/angelico_12_60bosco1.jpg>,\n",
        " <Blob: painting-classifier-data, images/angelico_12_70lastju.jpg>,\n",
        " <Blob: painting-classifier-data, images/angelico_13_00adorati.jpg>,\n",
        " <Blob: painting-classifier-data, images/angelico_13_00crucif.jpg>,\n",
        " <Blob: painting-classifier-data, images/angelico_13_00humil1.jpg>,\n",
        " <Blob: painting-classifier-data, images/angelico_13_00humil2.jpg>,\n",
        " <Blob: painting-classifier-data, images/angelico_13_00virgin.jpg>,\n",
        " <Blob: painting-classifier-data, images/angelico_13_01crucif.jpg>,\n",
        " <Blob: painting-classifier-data, images/angelico_13_01grapes.jpg>,\n",
        " <Blob: painting-classifier-data, images/angelico_13_01jerome.jpg>,\n",
        " <Blob: painting-classifier-data, images/angelico_13_01reliqu.jpg>,\n",
        " <Blob: painting-classifier-data, images/angelico_13_01virgin.jpg>,\n",
        " <Blob: painting-classifier-data, images/angelico_13_021annun.jpg>,\n",
        " <Blob: painting-classifier-data, images/angelico_13_022annun.jpg>,\n",
        " <Blob: painting-classifier-data, images/angelico_13_02virgin.jpg>,\n",
        " <Blob: painting-classifier-data, images/angelico_13_031virgi.jpg>,\n",
        " <Blob: painting-classifier-data, images/angelico_13_03prede1.jpg>,\n",
        " <Blob: painting-classifier-data, images/angelico_13_03prede2.jpg>,\n",
        " <Blob: painting-classifier-data, images/angelico_13_03prede3.jpg>,\n",
        " <Blob: painting-classifier-data, images/angelico_13_03prede4.jpg>,\n",
        " <Blob: painting-classifier-data, images/angelico_13_04anthon.jpg>,\n",
        " <Blob: painting-classifier-data, images/angelico_13_04lament.jpg>,\n",
        " <Blob: painting-classifier-data, images/angelico_13_05humili.jpg>,\n",
        " <Blob: painting-classifier-data, images/angelico_13_06franci.jpg>,\n",
        " <Blob: painting-classifier-data, images/angelico_13_07adorat.jpg>,\n",
        " <Blob: painting-classifier-data, images/angelico_13_09crucif.jpg>,\n",
        " <Blob: painting-classifier-data, images/angelico_13_10ponta1.jpg>,\n",
        " <Blob: painting-classifier-data, images/angelico_14_0fiesol1.jpg>,\n",
        " <Blob: painting-classifier-data, images/angelico_14_0fiesol2.jpg>,\n",
        " <Blob: painting-classifier-data, images/angelico_14_0fiesol3.jpg>,\n",
        " <Blob: painting-classifier-data, images/angelico_14_0fresco.jpg>,\n",
        " <Blob: painting-classifier-data, images/angelico_14_1illumin.jpg>,\n",
        " <Blob: painting-classifier-data, images/angelico_14_2illumin.jpg>,\n",
        " <Blob: painting-classifier-data, images/angelico_14_2illumio.jpg>,\n",
        " <Blob: painting-classifier-data, images/angelico_14_2illumip.jpg>,\n",
        " <Blob: painting-classifier-data, images/angelico_14_2illumir.jpg>,\n",
        " <Blob: painting-classifier-data, images/angelico_14_2illumix.jpg>,\n",
        " <Blob: painting-classifier-data, images/angelico_14_3brisio.jpg>,\n",
        " <Blob: painting-classifier-data, images/angelico_14_3brisio1.jpg>,\n",
        " <Blob: painting-classifier-data, images/angelico_14_4brisio.jpg>,\n",
        " <Blob: painting-classifier-data, images/angelico_14_4fiesole.jpg>,\n",
        " <Blob: painting-classifier-data, images/angelico_14_5drawing.jpg>,\n",
        " <Blob: painting-classifier-data, images/angelico_14_6drawing.jpg>,\n",
        " <Blob: painting-classifier-data, images/angelico_14_7metalpo.jpg>,\n",
        " <Blob: painting-classifier-data, images/caravagg_01_01bacch.jpg>,\n",
        " <Blob: painting-classifier-data, images/caravagg_01_02peelin.jpg>,\n",
        " <Blob: painting-classifier-data, images/caravagg_01_03boy.jpg>,\n",
        " <Blob: painting-classifier-data, images/caravagg_01_03boy_fr.jpg>,\n",
        " <Blob: painting-classifier-data, images/caravagg_01_041boy.jpg>,\n",
        " <Blob: painting-classifier-data, images/caravagg_01_042boy.jpg>,\n",
        " <Blob: painting-classifier-data, images/caravagg_01_05franc.jpg>,\n",
        " <Blob: painting-classifier-data, images/caravagg_01_06concer.jpg>,\n",
        " <Blob: painting-classifier-data, images/caravagg_01_07fortun.jpg>,\n",
        " <Blob: painting-classifier-data, images/caravagg_01_08cardsh.jpg>,\n",
        " <Blob: painting-classifier-data, images/caravagg_01_091lute.jpg>,\n",
        " <Blob: painting-classifier-data, images/caravagg_01_092lute.jpg>,\n",
        " <Blob: painting-classifier-data, images/caravagg_01_10bacch.jpg>,\n",
        " <Blob: painting-classifier-data, images/caravagg_02_11fortu.jpg>,\n",
        " <Blob: painting-classifier-data, images/caravagg_02_12magda.jpg>,\n",
        " <Blob: painting-classifier-data, images/caravagg_02_13fligh.jpg>,\n",
        " <Blob: painting-classifier-data, images/caravagg_02_14basket.jpg>,\n",
        " <Blob: painting-classifier-data, images/caravagg_02_15cather.jpg>,\n",
        " <Blob: painting-classifier-data, images/caravagg_02_16martha.jpg>,\n",
        " <Blob: painting-classifier-data, images/caravagg_03_17judit.jpg>,\n",
        " <Blob: painting-classifier-data, images/caravagg_03_18phylli.jpg>,\n",
        " <Blob: painting-classifier-data, images/caravagg_03_191captu.jpg>,\n",
        " <Blob: painting-classifier-data, images/caravagg_03_192captu.jpg>,\n",
        " <Blob: painting-classifier-data, images/caravagg_03_20medusa.jpg>,\n",
        " <Blob: painting-classifier-data, images/caravagg_03_21narcis.jpg>,\n",
        " <Blob: painting-classifier-data, images/caravagg_03_22barber.jpg>,\n",
        " <Blob: painting-classifier-data, images/caravagg_03_271y_ram.jpg>,\n",
        " <Blob: painting-classifier-data, images/caravagg_03_271y_ran.jpg>,\n",
        " <Blob: painting-classifier-data, images/caravagg_03_272y_ram.jpg>,\n",
        " <Blob: painting-classifier-data, images/caravagg_04_23cont1.jpg>,\n",
        " <Blob: painting-classifier-data, images/caravagg_04_23cont2.jpg>,\n",
        " <Blob: painting-classifier-data, images/caravagg_04_23conta.jpg>,\n",
        " <Blob: painting-classifier-data, images/caravagg_04_23conta0.jpg>,\n",
        " <Blob: painting-classifier-data, images/caravagg_04_24conta.jpg>,\n",
        " <Blob: painting-classifier-data, images/caravagg_04_25conta.jpg>,\n",
        " <Blob: painting-classifier-data, images/caravagg_04_26conta.jpg>,\n",
        " <Blob: painting-classifier-data, images/caravagg_05_27ceras.jpg>,\n",
        " <Blob: painting-classifier-data, images/caravagg_05_27ceras1.jpg>,\n",
        " <Blob: painting-classifier-data, images/caravagg_05_28ceras.jpg>,\n",
        " <Blob: painting-classifier-data, images/caravagg_05_29ceras.jpg>,\n",
        " <Blob: painting-classifier-data, images/caravagg_05_30conver.jpg>,\n",
        " <Blob: painting-classifier-data, images/caravagg_06_31david.jpg>,\n",
        " <Blob: painting-classifier-data, images/caravagg_06_32marino.jpg>,\n",
        " <Blob: painting-classifier-data, images/caravagg_06_33isaac.jpg>,\n",
        " <Blob: painting-classifier-data, images/caravagg_06_34thomas.jpg>,\n",
        " <Blob: painting-classifier-data, images/caravagg_06_35emmau.jpg>,\n",
        " <Blob: painting-classifier-data, images/caravagg_06_36amor_v.jpg>,\n",
        " <Blob: painting-classifier-data, images/caravagg_07_37depos.jpg>,\n",
        " <Blob: painting-classifier-data, images/caravagg_07_38crowni.jpg>,\n",
        " <Blob: painting-classifier-data, images/caravagg_07_39garden.jpg>,\n",
        " <Blob: painting-classifier-data, images/caravagg_07_40baptis.jpg>,\n",
        " <Blob: painting-classifier-data, images/caravagg_07_41baptis.jpg>,\n",
        " <Blob: painting-classifier-data, images/caravagg_07_42loreto.jpg>,\n",
        " <Blob: painting-classifier-data, images/caravagg_07_42loretx.jpg>,\n",
        " <Blob: painting-classifier-data, images/caravagg_07_43jerome.jpg>,\n",
        " <Blob: painting-classifier-data, images/caravagg_07_44jerome.jpg>,\n",
        " <Blob: painting-classifier-data, images/caravagg_07_45death.jpg>,\n",
        " <Blob: painting-classifier-data, images/caravagg_07_45death0.jpg>,\n",
        " <Blob: painting-classifier-data, images/caravagg_08_46ecceho.jpg>,\n",
        " <Blob: painting-classifier-data, images/caravagg_08_47ecceho.jpg>,\n",
        " <Blob: painting-classifier-data, images/caravagg_08_47emmau.jpg>,\n",
        " <Blob: painting-classifier-data, images/caravagg_08_48palaf.jpg>,\n",
        " <Blob: painting-classifier-data, images/caravagg_08_49franci.jpg>,\n",
        " <Blob: painting-classifier-data, images/caravagg_08_50franci.jpg>,\n",
        " <Blob: painting-classifier-data, images/caravagg_08_52david.jpg>,\n",
        " <Blob: painting-classifier-data, images/caravagg_09_53mercy.jpg>,\n",
        " <Blob: painting-classifier-data, images/caravagg_09_53mercy0.jpg>,\n",
        " <Blob: painting-classifier-data, images/caravagg_09_54andrew.jpg>,\n",
        " <Blob: painting-classifier-data, images/caravagg_09_55flagel.jpg>,\n",
        " <Blob: painting-classifier-data, images/caravagg_09_56christ.jpg>,\n",
        " <Blob: painting-classifier-data, images/caravagg_09_57salome.jpg>,\n",
        " <Blob: painting-classifier-data, images/caravagg_09_58rosar.jpg>,\n",
        " <Blob: painting-classifier-data, images/caravagg_10_59jerome.jpg>,\n",
        " <Blob: painting-classifier-data, images/caravagg_10_60alof.jpg>,\n",
        " <Blob: painting-classifier-data, images/caravagg_10_61alof.jpg>,\n",
        " <Blob: painting-classifier-data, images/caravagg_10_62behead.jpg>,\n",
        " <Blob: painting-classifier-data, images/caravagg_10_63sleepi.jpg>,\n",
        " <Blob: painting-classifier-data, images/caravagg_10_64lucy.jpg>,\n",
        " <Blob: painting-classifier-data, images/caravagg_10_65lazar.jpg>,\n",
        " <Blob: painting-classifier-data, images/caravagg_11_66annunc.jpg>,\n",
        " <Blob: painting-classifier-data, images/caravagg_11_67sheph.jpg>,\n",
        " <Blob: painting-classifier-data, images/caravagg_11_68nativi.jpg>,\n",
        " <Blob: painting-classifier-data, images/caravagg_11_69salome.jpg>,\n",
        " <Blob: painting-classifier-data, images/caravagg_11_70david.jpg>,\n",
        " <Blob: painting-classifier-data, images/caravagg_11_71baptis.jpg>,\n",
        " <Blob: painting-classifier-data, images/caravagg_11_72denial.jpg>,\n",
        " <Blob: painting-classifier-data, images/caravagg_11_73ursula.jpg>,\n",
        " <Blob: painting-classifier-data, images/caravagg_12_75stjohn.jpg>,\n",
        " <Blob: painting-classifier-data, images/caravagg_12_76stjohn.jpg>,\n",
        " <Blob: painting-classifier-data, images/caravagg_12_77tooth.jpg>,\n",
        " <Blob: painting-classifier-data, images/caravagg_12_79stjohn.jpg>,\n",
        " <Blob: painting-classifier-data, images/caravagg_12_821isaac.jpg>,\n",
        " <Blob: painting-classifier-data, images/caravagg_12_84jupite.jpg>,\n",
        " <Blob: painting-classifier-data, images/caravagg_12_84jupitx.jpg>,\n",
        " <Blob: painting-classifier-data, images/caravagg_12_87crowni.jpg>,\n",
        " <Blob: painting-classifier-data, images/caravagg_12_89d_stil.jpg>,\n",
        " <Blob: painting-classifier-data, images/caravagg_12_90holyfa.jpg>,\n",
        " <Blob: painting-classifier-data, images/cezanne_1_01early.jpg>,\n",
        " <Blob: painting-classifier-data, images/cezanne_1_02early.jpg>,\n",
        " <Blob: painting-classifier-data, images/cezanne_1_03early.jpg>,\n",
        " <Blob: painting-classifier-data, images/cezanne_1_04early.jpg>,\n",
        " <Blob: painting-classifier-data, images/cezanne_1_05early.jpg>,\n",
        " <Blob: painting-classifier-data, images/cezanne_1_06early.jpg>,\n",
        " <Blob: painting-classifier-data, images/cezanne_1_07early.jpg>,\n",
        " <Blob: painting-classifier-data, images/cezanne_1_07early1.jpg>,\n",
        " <Blob: painting-classifier-data, images/cezanne_1_08early.jpg>,\n",
        " <Blob: painting-classifier-data, images/cezanne_1_09early.jpg>,\n",
        " <Blob: painting-classifier-data, images/cezanne_1_10early.jpg>,\n",
        " <Blob: painting-classifier-data, images/cezanne_1_11early.jpg>,\n",
        " <Blob: painting-classifier-data, images/cezanne_1_12early.jpg>,\n",
        " <Blob: painting-classifier-data, images/cezanne_1_13early.jpg>,\n",
        " <Blob: painting-classifier-data, images/cezanne_1_14early.jpg>,\n",
        " <Blob: painting-classifier-data, images/cezanne_2_1lands01.jpg>,\n",
        " <Blob: painting-classifier-data, images/cezanne_2_1lands02.jpg>,\n",
        " <Blob: painting-classifier-data, images/cezanne_2_1lands03.jpg>,\n",
        " <Blob: painting-classifier-data, images/cezanne_2_1lands04.jpg>,\n",
        " <Blob: painting-classifier-data, images/cezanne_2_1lands05.jpg>,\n",
        " <Blob: painting-classifier-data, images/cezanne_2_1lands06.jpg>,\n",
        " <Blob: painting-classifier-data, images/cezanne_2_1lands07.jpg>,\n",
        " <Blob: painting-classifier-data, images/cezanne_2_1lands08.jpg>,\n",
        " <Blob: painting-classifier-data, images/cezanne_2_1lands09.jpg>,\n",
        " <Blob: painting-classifier-data, images/cezanne_2_1lands10.jpg>,\n",
        " <Blob: painting-classifier-data, images/cezanne_2_1lands11.jpg>,\n",
        " <Blob: painting-classifier-data, images/cezanne_2_1lands12.jpg>,\n",
        " <Blob: painting-classifier-data, images/cezanne_2_1lands13.jpg>,\n",
        " <Blob: painting-classifier-data, images/cezanne_2_2nudes1.jpg>,\n",
        " <Blob: painting-classifier-data, images/cezanne_2_2nudes2.jpg>,\n",
        " <Blob: painting-classifier-data, images/cezanne_2_2nudes3.jpg>,\n",
        " <Blob: painting-classifier-data, images/cezanne_2_2nudes4.jpg>,\n",
        " <Blob: painting-classifier-data, images/cezanne_2_2nudes5.jpg>,\n",
        " <Blob: painting-classifier-data, images/cezanne_2_2nudes6.jpg>,\n",
        " <Blob: painting-classifier-data, images/cezanne_2_3still1.jpg>,\n",
        " <Blob: painting-classifier-data, images/cezanne_2_3still2.jpg>,\n",
        " <Blob: painting-classifier-data, images/cezanne_2_3still3.jpg>,\n",
        " <Blob: painting-classifier-data, images/cezanne_2_4portra.jpg>,\n",
        " <Blob: painting-classifier-data, images/cezanne_2_4portra1.jpg>,\n",
        " <Blob: painting-classifier-data, images/cezanne_2_4portra2.jpg>,\n",
        " <Blob: painting-classifier-data, images/cezanne_2_4portra3.jpg>,\n",
        " <Blob: painting-classifier-data, images/cezanne_3_1lands01.jpg>,\n",
        " <Blob: painting-classifier-data, images/cezanne_3_1lands02.jpg>,\n",
        " <Blob: painting-classifier-data, images/cezanne_3_1lands03.jpg>,\n",
        " <Blob: painting-classifier-data, images/cezanne_3_1lands04.jpg>,\n",
        " <Blob: painting-classifier-data, images/cezanne_3_1lands05.jpg>,\n",
        " <Blob: painting-classifier-data, images/cezanne_3_1lands06.jpg>,\n",
        " <Blob: painting-classifier-data, images/cezanne_3_1lands07.jpg>,\n",
        " <Blob: painting-classifier-data, images/cezanne_3_1lands08.jpg>,\n",
        " <Blob: painting-classifier-data, images/cezanne_3_1lands09.jpg>,\n",
        " <Blob: painting-classifier-data, images/cezanne_3_2still1.jpg>,\n",
        " <Blob: painting-classifier-data, images/cezanne_3_2still2.jpg>,\n",
        " <Blob: painting-classifier-data, images/cezanne_3_2still3.jpg>,\n",
        " <Blob: painting-classifier-data, images/cezanne_3_2still4.jpg>,\n",
        " <Blob: painting-classifier-data, images/cezanne_3_2still5.jpg>,\n",
        " <Blob: painting-classifier-data, images/cezanne_3_3figure1.jpg>,\n",
        " <Blob: painting-classifier-data, images/cezanne_3_3figure2.jpg>,\n",
        " <Blob: painting-classifier-data, images/cezanne_3_3figure3.jpg>,\n",
        " <Blob: painting-classifier-data, images/cezanne_3_3figure4.jpg>,\n",
        " <Blob: painting-classifier-data, images/cezanne_3_3figure5.jpg>,\n",
        " <Blob: painting-classifier-data, images/cezanne_3_3figure6.jpg>,\n",
        " <Blob: painting-classifier-data, images/cezanne_4_1bather1.jpg>,\n",
        " <Blob: painting-classifier-data, images/cezanne_4_1bather2.jpg>,\n",
        " <Blob: painting-classifier-data, images/cezanne_4_2figure1.jpg>,\n",
        " <Blob: painting-classifier-data, images/cezanne_4_2figure2.jpg>,\n",
        " <Blob: painting-classifier-data, images/cezanne_4_2figure3.jpg>,\n",
        " <Blob: painting-classifier-data, images/cezanne_4_2figure4.jpg>,\n",
        " <Blob: painting-classifier-data, images/cezanne_4_2figure5.jpg>,\n",
        " <Blob: painting-classifier-data, images/cezanne_4_3lands01.jpg>,\n",
        " <Blob: painting-classifier-data, images/cezanne_4_3lands02.jpg>,\n",
        " <Blob: painting-classifier-data, images/cezanne_4_3lands03.jpg>,\n",
        " <Blob: painting-classifier-data, images/cezanne_4_3lands04.jpg>,\n",
        " <Blob: painting-classifier-data, images/cezanne_4_3lands05.jpg>,\n",
        " <Blob: painting-classifier-data, images/cezanne_4_3lands06.jpg>,\n",
        " <Blob: painting-classifier-data, images/cezanne_4_3lands07.jpg>,\n",
        " <Blob: painting-classifier-data, images/cezanne_4_3lands08.jpg>,\n",
        " <Blob: painting-classifier-data, images/cezanne_4_3lands09.jpg>,\n",
        " <Blob: painting-classifier-data, images/cezanne_4_3lands10.jpg>,\n",
        " <Blob: painting-classifier-data, images/cezanne_4_4still1.jpg>,\n",
        " <Blob: painting-classifier-data, images/cezanne_4_4still2.jpg>,\n",
        " <Blob: painting-classifier-data, images/cezanne_4_4still3.jpg>,\n",
        " <Blob: painting-classifier-data, images/cezanne_4_4still4.jpg>,\n",
        " <Blob: painting-classifier-data, images/cezanne_4_4still5.jpg>,\n",
        " <Blob: painting-classifier-data, images/cezanne_4_4still6.jpg>,\n",
        " <Blob: painting-classifier-data, images/cezanne_4_4still7.jpg>,\n",
        " <Blob: painting-classifier-data, images/cezanne_5_1variou1.jpg>,\n",
        " <Blob: painting-classifier-data, images/cezanne_5_1variou2.jpg>,\n",
        " <Blob: painting-classifier-data, images/cezanne_5_1variou3.jpg>,\n",
        " <Blob: painting-classifier-data, images/cezanne_5_3victor0.jpg>,\n",
        " <Blob: painting-classifier-data, images/cezanne_5_3victor1.jpg>,\n",
        " <Blob: painting-classifier-data, images/cezanne_5_3victor2.jpg>,\n",
        " <Blob: painting-classifier-data, images/cezanne_5_3victor3.jpg>,\n",
        " <Blob: painting-classifier-data, images/cezanne_5_3victor4.jpg>,\n",
        " <Blob: painting-classifier-data, images/cezanne_5_3victor5.jpg>,\n",
        " <Blob: painting-classifier-data, images/cezanne_5_3victor6.jpg>,\n",
        " <Blob: painting-classifier-data, images/cezanne_5_4bather1.jpg>,\n",
        " <Blob: painting-classifier-data, images/cezanne_5_4bather2.jpg>,\n",
        " <Blob: painting-classifier-data, images/cezanne_5_4bather3.jpg>,\n",
        " <Blob: painting-classifier-data, images/cezanne_5_5portra1.jpg>,\n",
        " <Blob: painting-classifier-data, images/cezanne_5_5portra2.jpg>,\n",
        " <Blob: painting-classifier-data, images/cezanne_5_5portra3.jpg>,\n",
        " <Blob: painting-classifier-data, images/cezanne_6_graphi01.jpg>,\n",
        " <Blob: painting-classifier-data, images/cezanne_6_graphi02.jpg>,\n",
        " <Blob: painting-classifier-data, images/cezanne_6_graphi03.jpg>,\n",
        " <Blob: painting-classifier-data, images/cezanne_6_graphi04.jpg>,\n",
        " <Blob: painting-classifier-data, images/cezanne_6_graphi05.jpg>,\n",
        " <Blob: painting-classifier-data, images/cezanne_6_graphi06.jpg>,\n",
        " <Blob: painting-classifier-data, images/cezanne_6_graphi07.jpg>,\n",
        " <Blob: painting-classifier-data, images/cezanne_6_graphi08.jpg>,\n",
        " <Blob: painting-classifier-data, images/cezanne_6_graphi09.jpg>,\n",
        " <Blob: painting-classifier-data, images/degas_1_early01.jpg>,\n",
        " <Blob: painting-classifier-data, images/degas_1_early02.jpg>,\n",
        " <Blob: painting-classifier-data, images/degas_1_early03.jpg>,\n",
        " <Blob: painting-classifier-data, images/degas_1_early04.jpg>,\n",
        " <Blob: painting-classifier-data, images/degas_1_early05.jpg>,\n",
        " <Blob: painting-classifier-data, images/degas_1_early07.jpg>,\n",
        " <Blob: painting-classifier-data, images/degas_1_early08.jpg>,\n",
        " <Blob: painting-classifier-data, images/degas_1_early09.jpg>,\n",
        " <Blob: painting-classifier-data, images/degas_1_early10.jpg>,\n",
        " <Blob: painting-classifier-data, images/degas_1_early11.jpg>,\n",
        " <Blob: painting-classifier-data, images/degas_1_early12.jpg>,\n",
        " <Blob: painting-classifier-data, images/degas_1_early13.jpg>,\n",
        " <Blob: painting-classifier-data, images/degas_1_early14.jpg>,\n",
        " <Blob: painting-classifier-data, images/degas_1_early15.jpg>,\n",
        " <Blob: painting-classifier-data, images/degas_1_early16.jpg>,\n",
        " <Blob: painting-classifier-data, images/degas_1_early17.jpg>,\n",
        " <Blob: painting-classifier-data, images/degas_1_early18.jpg>,\n",
        " <Blob: painting-classifier-data, images/degas_1_early19.jpg>,\n",
        " <Blob: painting-classifier-data, images/degas_1_early21.jpg>,\n",
        " <Blob: painting-classifier-data, images/degas_1_early22.jpg>,\n",
        " <Blob: painting-classifier-data, images/degas_1_early23.jpg>,\n",
        " <Blob: painting-classifier-data, images/degas_1_early24.jpg>,\n",
        " <Blob: painting-classifier-data, images/degas_1_early25.jpg>,\n",
        " <Blob: painting-classifier-data, images/degas_1_early26.jpg>,\n",
        " <Blob: painting-classifier-data, images/degas_2_1870s_01.jpg>,\n",
        " <Blob: painting-classifier-data, images/degas_2_1870s_02.jpg>,\n",
        " <Blob: painting-classifier-data, images/degas_2_1870s_03.jpg>,\n",
        " <Blob: painting-classifier-data, images/degas_2_1870s_04.jpg>,\n",
        " <Blob: painting-classifier-data, images/degas_2_1870s_05.jpg>,\n",
        " <Blob: painting-classifier-data, images/degas_2_1870s_06.jpg>,\n",
        " <Blob: painting-classifier-data, images/degas_2_1870s_07.jpg>,\n",
        " <Blob: painting-classifier-data, images/degas_2_1870s_08.jpg>,\n",
        " <Blob: painting-classifier-data, images/degas_2_1870s_09.jpg>,\n",
        " <Blob: painting-classifier-data, images/degas_2_1870s_10.jpg>,\n",
        " <Blob: painting-classifier-data, images/degas_2_1870s_11.jpg>,\n",
        " <Blob: painting-classifier-data, images/degas_2_1870s_12.jpg>,\n",
        " <Blob: painting-classifier-data, images/degas_2_1870s_13.jpg>,\n",
        " <Blob: painting-classifier-data, images/degas_2_1870s_14.jpg>,\n",
        " <Blob: painting-classifier-data, images/degas_2_1870s_17.jpg>,\n",
        " <Blob: painting-classifier-data, images/degas_2_1870s_18.jpg>,\n",
        " <Blob: painting-classifier-data, images/degas_2_1870s_19.jpg>,\n",
        " <Blob: painting-classifier-data, images/degas_2_1870s_20.jpg>,\n",
        " <Blob: painting-classifier-data, images/degas_2_1870s_21.jpg>,\n",
        " <Blob: painting-classifier-data, images/degas_2_1870s_22.jpg>,\n",
        " <Blob: painting-classifier-data, images/degas_3_1870s_61.jpg>,\n",
        " <Blob: painting-classifier-data, images/degas_3_1870s_62.jpg>,\n",
        " <Blob: painting-classifier-data, images/degas_3_1870s_63.jpg>,\n",
        " <Blob: painting-classifier-data, images/degas_3_1870s_64.jpg>,\n",
        " <Blob: painting-classifier-data, images/degas_3_1870s_65.jpg>,\n",
        " <Blob: painting-classifier-data, images/degas_3_1870s_66.jpg>,\n",
        " <Blob: painting-classifier-data, images/degas_3_1870s_67.jpg>,\n",
        " <Blob: painting-classifier-data, images/degas_3_1870s_68.jpg>,\n",
        " <Blob: painting-classifier-data, images/degas_3_1870s_69.jpg>,\n",
        " <Blob: painting-classifier-data, images/degas_3_1870s_70.jpg>,\n",
        " <Blob: painting-classifier-data, images/degas_3_1870s_71.jpg>,\n",
        " <Blob: painting-classifier-data, images/degas_3_1870s_72.jpg>,\n",
        " <Blob: painting-classifier-data, images/degas_3_1870s_73.jpg>,\n",
        " <Blob: painting-classifier-data, images/degas_3_1870s_74.jpg>,\n",
        " <Blob: painting-classifier-data, images/degas_3_1870s_75.jpg>,\n",
        " <Blob: painting-classifier-data, images/degas_3_1870s_76.jpg>,\n",
        " <Blob: painting-classifier-data, images/degas_3_1870s_77.jpg>,\n",
        " <Blob: painting-classifier-data, images/degas_3_1870s_78.jpg>,\n",
        " <Blob: painting-classifier-data, images/degas_3_1870s_79.jpg>,\n",
        " <Blob: painting-classifier-data, images/degas_4_1880s_01.jpg>,\n",
        " <Blob: painting-classifier-data, images/degas_4_1880s_02.jpg>,\n",
        " <Blob: painting-classifier-data, images/degas_4_1880s_03.jpg>,\n",
        " <Blob: painting-classifier-data, images/degas_4_1880s_04.jpg>,\n",
        " <Blob: painting-classifier-data, images/degas_4_1880s_05.jpg>,\n",
        " <Blob: painting-classifier-data, images/degas_4_1880s_06.jpg>,\n",
        " <Blob: painting-classifier-data, images/degas_4_1880s_07.jpg>,\n",
        " <Blob: painting-classifier-data, images/degas_4_1880s_08.jpg>,\n",
        " <Blob: painting-classifier-data, images/degas_4_1880s_09.jpg>,\n",
        " <Blob: painting-classifier-data, images/degas_4_1880s_10.jpg>,\n",
        " <Blob: painting-classifier-data, images/degas_4_1880s_11.jpg>,\n",
        " <Blob: painting-classifier-data, images/degas_4_1880s_12.jpg>,\n",
        " <Blob: painting-classifier-data, images/degas_4_1880s_13.jpg>,\n",
        " <Blob: painting-classifier-data, images/degas_4_1880s_14.jpg>,\n",
        " <Blob: painting-classifier-data, images/degas_4_1880s_15.jpg>,\n",
        " <Blob: painting-classifier-data, images/degas_4_1880s_16.jpg>,\n",
        " <Blob: painting-classifier-data, images/degas_4_1880s_17.jpg>,\n",
        " <Blob: painting-classifier-data, images/degas_4_1880s_18.jpg>,\n",
        " <Blob: painting-classifier-data, images/degas_4_1880s_20.jpg>,\n",
        " <Blob: painting-classifier-data, images/degas_4_1880s_21.jpg>,\n",
        " <Blob: painting-classifier-data, images/degas_4_1880s_22.jpg>,\n",
        " <Blob: painting-classifier-data, images/degas_4_1880s_23.jpg>,\n",
        " <Blob: painting-classifier-data, images/degas_4_1880s_24.jpg>,\n",
        " <Blob: painting-classifier-data, images/degas_5_1890s_01.jpg>,\n",
        " <Blob: painting-classifier-data, images/degas_5_1890s_02.jpg>,\n",
        " <Blob: painting-classifier-data, images/degas_5_1890s_03.jpg>,\n",
        " <Blob: painting-classifier-data, images/degas_5_1890s_04.jpg>,\n",
        " <Blob: painting-classifier-data, images/degas_5_1890s_05.jpg>,\n",
        " <Blob: painting-classifier-data, images/degas_5_1890s_06.jpg>,\n",
        " <Blob: painting-classifier-data, images/degas_5_1890s_07.jpg>,\n",
        " <Blob: painting-classifier-data, images/degas_5_1890s_08.jpg>,\n",
        " <Blob: painting-classifier-data, images/degas_7_graphi01.jpg>,\n",
        " <Blob: painting-classifier-data, images/degas_7_graphi02.jpg>,\n",
        " <Blob: painting-classifier-data, images/degas_7_graphi03.jpg>,\n",
        " <Blob: painting-classifier-data, images/degas_7_graphi04.jpg>,\n",
        " <Blob: painting-classifier-data, images/degas_7_graphi05.jpg>,\n",
        " <Blob: painting-classifier-data, images/degas_7_graphi06.jpg>,\n",
        " <Blob: painting-classifier-data, images/degas_7_graphi07.jpg>,\n",
        " <Blob: painting-classifier-data, images/degas_7_graphi08.jpg>,\n",
        " <Blob: painting-classifier-data, images/degas_7_graphi09.jpg>,\n",
        " <Blob: painting-classifier-data, images/degas_7_graphi10.jpg>,\n",
        " <Blob: painting-classifier-data, images/degas_7_graphi11.jpg>,\n",
        " <Blob: painting-classifier-data, images/degas_7_graphi12.jpg>,\n",
        " <Blob: painting-classifier-data, images/degas_7_graphi13.jpg>,\n",
        " <Blob: painting-classifier-data, images/degas_7_graphi14.jpg>,\n",
        " <Blob: painting-classifier-data, images/degas_7_graphi15.jpg>,\n",
        " <Blob: painting-classifier-data, images/degas_7_graphi16.jpg>,\n",
        " <Blob: painting-classifier-data, images/degas_7_graphi17.jpg>,\n",
        " <Blob: painting-classifier-data, images/degas_7_graphi18.jpg>,\n",
        " <Blob: painting-classifier-data, images/degas_7_graphi19.jpg>,\n",
        " <Blob: painting-classifier-data, images/degas_7_graphi20.jpg>,\n",
        " <Blob: painting-classifier-data, images/degas_7_graphi21.jpg>,\n",
        " <Blob: painting-classifier-data, images/gogh_van_01_1etten1.jpg>,\n",
        " <Blob: painting-classifier-data, images/gogh_van_01_2hague01.jpg>,\n",
        " <Blob: painting-classifier-data, images/gogh_van_01_2hague02.jpg>,\n",
        " <Blob: painting-classifier-data, images/gogh_van_01_2hague03.jpg>,\n",
        " <Blob: painting-classifier-data, images/gogh_van_01_2hague04.jpg>,\n",
        " <Blob: painting-classifier-data, images/gogh_van_01_2hague05.jpg>,\n",
        " <Blob: painting-classifier-data, images/gogh_van_01_2hague06.jpg>,\n",
        " <Blob: painting-classifier-data, images/gogh_van_01_3drenth1.jpg>,\n",
        " <Blob: painting-classifier-data, images/gogh_van_01_3drenth2.jpg>,\n",
        " <Blob: painting-classifier-data, images/gogh_van_02_nuenen01.jpg>,\n",
        " <Blob: painting-classifier-data, images/gogh_van_02_nuenen02.jpg>,\n",
        " <Blob: painting-classifier-data, images/gogh_van_02_nuenen03.jpg>,\n",
        " <Blob: painting-classifier-data, images/gogh_van_02_nuenen04.jpg>,\n",
        " <Blob: painting-classifier-data, images/gogh_van_02_nuenen05.jpg>,\n",
        " <Blob: painting-classifier-data, images/gogh_van_02_nuenen06.jpg>,\n",
        " <Blob: painting-classifier-data, images/gogh_van_02_nuenen07.jpg>,\n",
        " <Blob: painting-classifier-data, images/gogh_van_02_nuenen08.jpg>,\n",
        " <Blob: painting-classifier-data, images/gogh_van_02_nuenen09.jpg>,\n",
        " <Blob: painting-classifier-data, images/gogh_van_02_nuenen10.jpg>,\n",
        " <Blob: painting-classifier-data, images/gogh_van_02_nuenen11.jpg>,\n",
        " <Blob: painting-classifier-data, images/gogh_van_02_nuenen12.jpg>,\n",
        " <Blob: painting-classifier-data, images/gogh_van_02_nuenen13.jpg>,\n",
        " <Blob: painting-classifier-data, images/gogh_van_02_nuenen14.jpg>,\n",
        " <Blob: painting-classifier-data, images/gogh_van_02_nuenen15.jpg>,\n",
        " <Blob: painting-classifier-data, images/gogh_van_02_nuenen16.jpg>,\n",
        " <Blob: painting-classifier-data, images/gogh_van_02_nuenen17.jpg>,\n",
        " <Blob: painting-classifier-data, images/gogh_van_02_nuenen18.jpg>,\n",
        " <Blob: painting-classifier-data, images/gogh_van_02_nuenen19.jpg>,\n",
        " <Blob: painting-classifier-data, images/gogh_van_02_nuenen20.jpg>,\n",
        " <Blob: painting-classifier-data, images/gogh_van_02_nuenen21.jpg>,\n",
        " <Blob: painting-classifier-data, images/gogh_van_02_nuenen22.jpg>,\n",
        " <Blob: painting-classifier-data, images/gogh_van_02_nuenen23.jpg>,\n",
        " <Blob: painting-classifier-data, images/gogh_van_02_nuenen24.jpg>,\n",
        " <Blob: painting-classifier-data, images/gogh_van_02_nuenen25.jpg>,\n",
        " <Blob: painting-classifier-data, images/gogh_van_03_nuenen31.jpg>,\n",
        " <Blob: painting-classifier-data, images/gogh_van_03_nuenen32.jpg>,\n",
        " <Blob: painting-classifier-data, images/gogh_van_03_nuenen33.jpg>,\n",
        " <Blob: painting-classifier-data, images/gogh_van_03_nuenen34.jpg>,\n",
        " <Blob: painting-classifier-data, images/gogh_van_03_nuenen35.jpg>,\n",
        " <Blob: painting-classifier-data, images/gogh_van_03_nuenen36.jpg>,\n",
        " <Blob: painting-classifier-data, images/gogh_van_03_nuenen37.jpg>,\n",
        " <Blob: painting-classifier-data, images/gogh_van_03_nuenen38.jpg>,\n",
        " <Blob: painting-classifier-data, images/gogh_van_03_nuenen40.jpg>,\n",
        " <Blob: painting-classifier-data, images/gogh_van_03_nuenen41.jpg>,\n",
        " <Blob: painting-classifier-data, images/gogh_van_04_antwerp1.jpg>,\n",
        " <Blob: painting-classifier-data, images/gogh_van_04_antwerp2.jpg>,\n",
        " <Blob: painting-classifier-data, images/gogh_van_04_antwerp3.jpg>,\n",
        " <Blob: painting-classifier-data, images/gogh_van_04_antwerp4.jpg>,\n",
        " <Blob: painting-classifier-data, images/gogh_van_04_antwerp5.jpg>,\n",
        " <Blob: painting-classifier-data, images/gogh_van_04_antwerp6.jpg>,\n",
        " <Blob: painting-classifier-data, images/gogh_van_05_flower01.jpg>,\n",
        " <Blob: painting-classifier-data, images/gogh_van_05_flower02.jpg>,\n",
        " <Blob: painting-classifier-data, images/gogh_van_05_flower03.jpg>,\n",
        " <Blob: painting-classifier-data, images/gogh_van_05_flower04.jpg>,\n",
        " <Blob: painting-classifier-data, images/gogh_van_05_flower05.jpg>,\n",
        " <Blob: painting-classifier-data, images/gogh_van_05_flower06.jpg>,\n",
        " <Blob: painting-classifier-data, images/gogh_van_05_flower07.jpg>,\n",
        " <Blob: painting-classifier-data, images/gogh_van_05_flower08.jpg>,\n",
        " <Blob: painting-classifier-data, images/gogh_van_05_flower09.jpg>,\n",
        " <Blob: painting-classifier-data, images/gogh_van_05_flower10.jpg>,\n",
        " <Blob: painting-classifier-data, images/gogh_van_05_flower11.jpg>,\n",
        " <Blob: painting-classifier-data, images/gogh_van_05_flower12.jpg>,\n",
        " <Blob: painting-classifier-data, images/gogh_van_05_flower13.jpg>,\n",
        " <Blob: painting-classifier-data, images/gogh_van_05_flower14.jpg>,\n",
        " <Blob: painting-classifier-data, images/gogh_van_05_still01.jpg>,\n",
        " <Blob: painting-classifier-data, images/gogh_van_05_still02.jpg>,\n",
        " <Blob: painting-classifier-data, images/gogh_van_05_still03.jpg>,\n",
        " <Blob: painting-classifier-data, images/gogh_van_05_still04.jpg>,\n",
        " <Blob: painting-classifier-data, images/gogh_van_05_still05.jpg>,\n",
        " <Blob: painting-classifier-data, images/gogh_van_05_still06.jpg>,\n",
        " <Blob: painting-classifier-data, images/gogh_van_05_still07.jpg>,\n",
        " <Blob: painting-classifier-data, images/gogh_van_05_still08.jpg>,\n",
        " <Blob: painting-classifier-data, images/gogh_van_05_still09.jpg>,\n",
        " <Blob: painting-classifier-data, images/gogh_van_06_paris01.jpg>,\n",
        " <Blob: painting-classifier-data, images/gogh_van_06_paris02.jpg>,\n",
        " <Blob: painting-classifier-data, images/gogh_van_06_paris03.jpg>,\n",
        " <Blob: painting-classifier-data, images/gogh_van_06_paris04.jpg>,\n",
        " <Blob: painting-classifier-data, images/gogh_van_06_paris05.jpg>,\n",
        " <Blob: painting-classifier-data, images/gogh_van_06_paris06.jpg>,\n",
        " <Blob: painting-classifier-data, images/gogh_van_06_paris07.jpg>,\n",
        " <Blob: painting-classifier-data, images/gogh_van_06_paris08.jpg>,\n",
        " <Blob: painting-classifier-data, images/gogh_van_06_paris09.jpg>,\n",
        " <Blob: painting-classifier-data, images/gogh_van_06_paris10.jpg>,\n",
        " <Blob: painting-classifier-data, images/gogh_van_06_paris11.jpg>,\n",
        " <Blob: painting-classifier-data, images/gogh_van_06_paris12.jpg>,\n",
        " <Blob: painting-classifier-data, images/gogh_van_06_paris13.jpg>,\n",
        " <Blob: painting-classifier-data, images/gogh_van_06_paris14.jpg>,\n",
        " <Blob: painting-classifier-data, images/gogh_van_06_paris15.jpg>,\n",
        " <Blob: painting-classifier-data, images/gogh_van_06_paris16.jpg>,\n",
        " <Blob: painting-classifier-data, images/gogh_van_06_paris17.jpg>,\n",
        " <Blob: painting-classifier-data, images/gogh_van_06_paris18.jpg>,\n",
        " <Blob: painting-classifier-data, images/gogh_van_06_paris19.jpg>,\n",
        " <Blob: painting-classifier-data, images/gogh_van_06_paris20.jpg>,\n",
        " <Blob: painting-classifier-data, images/gogh_van_06_paris21.jpg>,\n",
        " <Blob: painting-classifier-data, images/gogh_van_06_paris22.jpg>,\n",
        " <Blob: painting-classifier-data, images/gogh_van_06_paris24.jpg>,\n",
        " <Blob: painting-classifier-data, images/gogh_van_06_paris25.jpg>,\n",
        " <Blob: painting-classifier-data, images/gogh_van_06_paris26.jpg>,\n",
        " <Blob: painting-classifier-data, images/gogh_van_06_paris28.jpg>,\n",
        " <Blob: painting-classifier-data, images/gogh_van_07_orchar00.jpg>,\n",
        " <Blob: painting-classifier-data, images/gogh_van_07_orchar01.jpg>,\n",
        " <Blob: painting-classifier-data, images/gogh_van_07_orchar02.jpg>,\n",
        " <Blob: painting-classifier-data, images/gogh_van_07_orchar03.jpg>,\n",
        " <Blob: painting-classifier-data, images/gogh_van_07_orchar04.jpg>,\n",
        " <Blob: painting-classifier-data, images/gogh_van_07_orchar05.jpg>,\n",
        " <Blob: painting-classifier-data, images/gogh_van_07_orchar06.jpg>,\n",
        " <Blob: painting-classifier-data, images/gogh_van_07_orchar07.jpg>,\n",
        " <Blob: painting-classifier-data, images/gogh_van_07_orchar08.jpg>,\n",
        " <Blob: painting-classifier-data, images/gogh_van_07_orchar09.jpg>,\n",
        " <Blob: painting-classifier-data, images/gogh_van_08_1arles01.jpg>,\n",
        " <Blob: painting-classifier-data, images/gogh_van_08_1arles03.jpg>,\n",
        " <Blob: painting-classifier-data, images/gogh_van_08_1arles04.jpg>,\n",
        " <Blob: painting-classifier-data, images/gogh_van_08_1arles05.jpg>,\n",
        " <Blob: painting-classifier-data, images/gogh_van_08_1arles06.jpg>,\n",
        " <Blob: painting-classifier-data, images/gogh_van_08_1arles07.jpg>,\n",
        " <Blob: painting-classifier-data, images/gogh_van_08_1arles08.jpg>,\n",
        " <Blob: painting-classifier-data, images/gogh_van_08_1arles09.jpg>,\n",
        " <Blob: painting-classifier-data, images/gogh_van_08_1arles10.jpg>,\n",
        " <Blob: painting-classifier-data, images/gogh_van_08_1arles11.jpg>,\n",
        " <Blob: painting-classifier-data, images/gogh_van_08_1arles12.jpg>,\n",
        " <Blob: painting-classifier-data, images/gogh_van_08_2maries1.jpg>,\n",
        " <Blob: painting-classifier-data, images/gogh_van_08_2maries2.jpg>,\n",
        " <Blob: painting-classifier-data, images/gogh_van_08_2maries3.jpg>,\n",
        " <Blob: painting-classifier-data, images/gogh_van_08_2maries4.jpg>,\n",
        " <Blob: painting-classifier-data, images/gogh_van_08_2maries5.jpg>,\n",
        " <Blob: painting-classifier-data, images/gogh_van_08_2maries6.jpg>,\n",
        " <Blob: painting-classifier-data, images/gogh_van_08_3arles21.jpg>,\n",
        " <Blob: painting-classifier-data, images/gogh_van_08_3arles22.jpg>,\n",
        " <Blob: painting-classifier-data, images/gogh_van_08_3arles23.jpg>,\n",
        " <Blob: painting-classifier-data, images/gogh_van_08_3arles24.jpg>,\n",
        " <Blob: painting-classifier-data, images/gogh_van_08_3arles25.jpg>,\n",
        " <Blob: painting-classifier-data, images/gogh_van_08_3arles26.jpg>,\n",
        " <Blob: painting-classifier-data, images/gogh_van_08_3arles28.jpg>,\n",
        " <Blob: painting-classifier-data, images/gogh_van_08_3arles29.jpg>,\n",
        " <Blob: painting-classifier-data, images/gogh_van_08_3arles30.jpg>,\n",
        " <Blob: painting-classifier-data, images/gogh_van_08_3arles31.jpg>,\n",
        " <Blob: painting-classifier-data, images/gogh_van_08_3arles32.jpg>,\n",
        " <Blob: painting-classifier-data, images/gogh_van_09_arles41.jpg>,\n",
        " <Blob: painting-classifier-data, images/gogh_van_09_arles42.jpg>,\n",
        " <Blob: painting-classifier-data, images/gogh_van_09_arles43.jpg>,\n",
        " <Blob: painting-classifier-data, images/gogh_van_09_arles44.jpg>,\n",
        " <Blob: painting-classifier-data, images/gogh_van_09_arles45.jpg>,\n",
        " <Blob: painting-classifier-data, images/gogh_van_09_arles46.jpg>,\n",
        " <Blob: painting-classifier-data, images/gogh_van_09_arles47.jpg>,\n",
        " <Blob: painting-classifier-data, images/gogh_van_09_arles48.jpg>,\n",
        " <Blob: painting-classifier-data, images/gogh_van_09_arles49.jpg>,\n",
        " <Blob: painting-classifier-data, images/gogh_van_09_arles50.jpg>,\n",
        " <Blob: painting-classifier-data, images/gogh_van_09_arles51.jpg>,\n",
        " <Blob: painting-classifier-data, images/gogh_van_09_arles52.jpg>,\n",
        " <Blob: painting-classifier-data, images/gogh_van_09_arles53.jpg>,\n",
        " <Blob: painting-classifier-data, images/gogh_van_09_arles54.jpg>,\n",
        " <Blob: painting-classifier-data, images/gogh_van_09_arles55.jpg>,\n",
        " <Blob: painting-classifier-data, images/gogh_van_09_arles56.jpg>,\n",
        " <Blob: painting-classifier-data, images/gogh_van_09_arles57.jpg>,\n",
        " <Blob: painting-classifier-data, images/gogh_van_09_arles58.jpg>,\n",
        " <Blob: painting-classifier-data, images/gogh_van_09_arles59.jpg>,\n",
        " <Blob: painting-classifier-data, images/gogh_van_09_arles60.jpg>,\n",
        " <Blob: painting-classifier-data, images/gogh_van_09_arles61.jpg>,\n",
        " <Blob: painting-classifier-data, images/gogh_van_09_arles62.jpg>,\n",
        " <Blob: painting-classifier-data, images/gogh_van_09_arles63.jpg>,\n",
        " <Blob: painting-classifier-data, images/gogh_van_09_arles64.jpg>,\n",
        " <Blob: painting-classifier-data, images/gogh_van_09_arles65.jpg>,\n",
        " <Blob: painting-classifier-data, images/gogh_van_09_arles66.jpg>,\n",
        " <Blob: painting-classifier-data, images/gogh_van_09_arles67.jpg>,\n",
        " <Blob: painting-classifier-data, images/gogh_van_09_arles68.jpg>,\n",
        " <Blob: painting-classifier-data, images/gogh_van_09_arles69.jpg>,\n",
        " <Blob: painting-classifier-data, images/gogh_van_09_arles70.jpg>,\n",
        " <Blob: painting-classifier-data, images/gogh_van_10_portra01.jpg>,\n",
        " <Blob: painting-classifier-data, images/gogh_van_10_portra02.jpg>,\n",
        " <Blob: painting-classifier-data, images/gogh_van_10_portra03.jpg>,\n",
        " <Blob: painting-classifier-data, images/gogh_van_10_portra04.jpg>,\n",
        " <Blob: painting-classifier-data, images/gogh_van_10_portra05.jpg>,\n",
        " <Blob: painting-classifier-data, images/gogh_van_10_portra06.jpg>,\n",
        " <Blob: painting-classifier-data, images/gogh_van_10_portra07.jpg>,\n",
        " <Blob: painting-classifier-data, images/gogh_van_10_portra08.jpg>,\n",
        " <Blob: painting-classifier-data, images/gogh_van_10_portra09.jpg>,\n",
        " <Blob: painting-classifier-data, images/gogh_van_10_portra10.jpg>,\n",
        " <Blob: painting-classifier-data, images/gogh_van_10_portra11.jpg>,\n",
        " <Blob: painting-classifier-data, images/gogh_van_10_portra12.jpg>,\n",
        " <Blob: painting-classifier-data, images/gogh_van_10_portra13.jpg>,\n",
        " <Blob: painting-classifier-data, images/gogh_van_10_portra14.jpg>,\n",
        " <Blob: painting-classifier-data, images/gogh_van_10_portra15.jpg>,\n",
        " <Blob: painting-classifier-data, images/gogh_van_10_portra16.jpg>,\n",
        " <Blob: painting-classifier-data, images/gogh_van_10_portra17.jpg>,\n",
        " <Blob: painting-classifier-data, images/gogh_van_10_portra18.jpg>,\n",
        " <Blob: painting-classifier-data, images/gogh_van_10_portra19.jpg>,\n",
        " <Blob: painting-classifier-data, images/gogh_van_11_1asylu01.jpg>,\n",
        " <Blob: painting-classifier-data, images/gogh_van_11_1asylu02.jpg>,\n",
        " <Blob: painting-classifier-data, images/gogh_van_11_1asylu03.jpg>,\n",
        " <Blob: painting-classifier-data, images/gogh_van_11_1asylu04.jpg>,\n",
        " <Blob: painting-classifier-data, images/gogh_van_11_1asylu05.jpg>,\n",
        " <Blob: painting-classifier-data, images/gogh_van_11_1asylu06.jpg>,\n",
        " <Blob: painting-classifier-data, images/gogh_van_11_1asylu07.jpg>,\n",
        " <Blob: painting-classifier-data, images/gogh_van_11_1asylu08.jpg>,\n",
        " <Blob: painting-classifier-data, images/gogh_van_11_1asylu09.jpg>,\n",
        " <Blob: painting-classifier-data, images/gogh_van_11_1asylu10.jpg>,\n",
        " <Blob: painting-classifier-data, images/gogh_van_11_2enclos1.jpg>,\n",
        " <Blob: painting-classifier-data, images/gogh_van_11_2enclos2.jpg>,\n",
        " <Blob: painting-classifier-data, images/gogh_van_11_2enclos3.jpg>,\n",
        " <Blob: painting-classifier-data, images/gogh_van_11_2enclos4.jpg>,\n",
        " <Blob: painting-classifier-data, images/gogh_van_11_2enclos5.jpg>,\n",
        " <Blob: painting-classifier-data, images/gogh_van_11_2enclos6.jpg>,\n",
        " <Blob: painting-classifier-data, images/gogh_van_11_3enviro1.jpg>,\n",
        " <Blob: painting-classifier-data, images/gogh_van_11_3enviro2.jpg>,\n",
        " <Blob: painting-classifier-data, images/gogh_van_11_3enviro3.jpg>,\n",
        " <Blob: painting-classifier-data, images/gogh_van_11_3enviro4.jpg>,\n",
        " <Blob: painting-classifier-data, images/gogh_van_12_cypres01.jpg>,\n",
        " <Blob: painting-classifier-data, images/gogh_van_12_cypres02.jpg>,\n",
        " <Blob: painting-classifier-data, images/gogh_van_12_cypres03.jpg>,\n",
        " <Blob: painting-classifier-data, images/gogh_van_12_cypres04.jpg>,\n",
        " <Blob: painting-classifier-data, images/gogh_van_12_cypres05.jpg>,\n",
        " <Blob: painting-classifier-data, images/gogh_van_12_cypres06.jpg>,\n",
        " <Blob: painting-classifier-data, images/gogh_van_12_cypres07.jpg>,\n",
        " <Blob: painting-classifier-data, images/gogh_van_12_cypres08.jpg>,\n",
        " <Blob: painting-classifier-data, images/gogh_van_12_cypres09.jpg>,\n",
        " <Blob: painting-classifier-data, images/gogh_van_12_olive01.jpg>,\n",
        " <Blob: painting-classifier-data, images/gogh_van_12_olive02.jpg>,\n",
        " <Blob: painting-classifier-data, images/gogh_van_12_olive03.jpg>,\n",
        " <Blob: painting-classifier-data, images/gogh_van_12_olive04.jpg>,\n",
        " <Blob: painting-classifier-data, images/gogh_van_12_olive05.jpg>,\n",
        " <Blob: painting-classifier-data, images/gogh_van_12_olive06.jpg>,\n",
        " <Blob: painting-classifier-data, images/gogh_van_12_olive07.jpg>,\n",
        " <Blob: painting-classifier-data, images/gogh_van_12_olive08.jpg>,\n",
        " <Blob: painting-classifier-data, images/gogh_van_12_olive09.jpg>,\n",
        " <Blob: painting-classifier-data, images/gogh_van_12_olive10.jpg>,\n",
        " <Blob: painting-classifier-data, images/gogh_van_13_copies01.jpg>,\n",
        " <Blob: painting-classifier-data, images/gogh_van_13_copies02.jpg>,\n",
        " <Blob: painting-classifier-data, images/gogh_van_13_copies03.jpg>,\n",
        " <Blob: painting-classifier-data, images/gogh_van_13_copies04.jpg>,\n",
        " <Blob: painting-classifier-data, images/gogh_van_13_copies05.jpg>,\n",
        " <Blob: painting-classifier-data, images/gogh_van_13_copies06.jpg>,\n",
        " <Blob: painting-classifier-data, images/gogh_van_13_copies07.jpg>,\n",
        " <Blob: painting-classifier-data, images/gogh_van_13_copies08.jpg>,\n",
        " <Blob: painting-classifier-data, images/gogh_van_13_copies09.jpg>,\n",
        " <Blob: painting-classifier-data, images/gogh_van_13_copies10.jpg>,\n",
        " <Blob: painting-classifier-data, images/gogh_van_13_copies11.jpg>,\n",
        " <Blob: painting-classifier-data, images/gogh_van_13_copies12.jpg>,\n",
        " <Blob: painting-classifier-data, images/gogh_van_13_copies13.jpg>,\n",
        " <Blob: painting-classifier-data, images/gogh_van_13_copies14.jpg>,\n",
        " <Blob: painting-classifier-data, images/gogh_van_13_copies15.jpg>,\n",
        " <Blob: painting-classifier-data, images/gogh_van_13_copies16.jpg>,\n",
        " <Blob: painting-classifier-data, images/gogh_van_13_copies17.jpg>,\n",
        " <Blob: painting-classifier-data, images/gogh_van_13_copies18.jpg>,\n",
        " <Blob: painting-classifier-data, images/gogh_van_13_copies19.jpg>,\n",
        " <Blob: painting-classifier-data, images/gogh_van_13_copies20.jpg>,\n",
        " <Blob: painting-classifier-data, images/gogh_van_13_copies21.jpg>,\n",
        " <Blob: painting-classifier-data, images/gogh_van_14_4earlie1.jpg>,\n",
        " <Blob: painting-classifier-data, images/gogh_van_14_4earlie2.jpg>,\n",
        " <Blob: painting-classifier-data, images/gogh_van_14_4earlie3.jpg>,\n",
        " <Blob: painting-classifier-data, images/gogh_van_14_5portra1.jpg>,\n",
        " <Blob: painting-classifier-data, images/gogh_van_14_5portra2.jpg>,\n",
        " <Blob: painting-classifier-data, images/gogh_van_14_5portra3.jpg>,\n",
        " <Blob: painting-classifier-data, images/gogh_van_14_5portra4.jpg>,\n",
        " <Blob: painting-classifier-data, images/gogh_van_14_5portra5.jpg>,\n",
        " <Blob: painting-classifier-data, images/gogh_van_14_6still1.jpg>,\n",
        " <Blob: painting-classifier-data, images/gogh_van_14_6still2.jpg>,\n",
        " <Blob: painting-classifier-data, images/gogh_van_14_6still3.jpg>,\n",
        " <Blob: painting-classifier-data, images/gogh_van_15_auvers01.jpg>,\n",
        " <Blob: painting-classifier-data, images/gogh_van_15_auvers02.jpg>,\n",
        " <Blob: painting-classifier-data, images/gogh_van_15_auvers03.jpg>,\n",
        " <Blob: painting-classifier-data, images/gogh_van_15_auvers04.jpg>,\n",
        " <Blob: painting-classifier-data, images/gogh_van_15_auvers05.jpg>,\n",
        " <Blob: painting-classifier-data, images/gogh_van_15_auvers06.jpg>,\n",
        " <Blob: painting-classifier-data, images/gogh_van_15_auvers07.jpg>,\n",
        " <Blob: painting-classifier-data, images/gogh_van_15_auvers08.jpg>,\n",
        " <Blob: painting-classifier-data, images/gogh_van_15_auvers09.jpg>,\n",
        " <Blob: painting-classifier-data, images/gogh_van_15_auvers10.jpg>,\n",
        " <Blob: painting-classifier-data, images/gogh_van_15_auvers11.jpg>,\n",
        " <Blob: painting-classifier-data, images/gogh_van_15_auvers12.jpg>,\n",
        " <Blob: painting-classifier-data, images/gogh_van_15_auvers13.jpg>,\n",
        " <Blob: painting-classifier-data, images/gogh_van_15_auvers14.jpg>,\n",
        " <Blob: painting-classifier-data, images/gogh_van_15_auvers15.jpg>,\n",
        " <Blob: painting-classifier-data, images/gogh_van_15_auvers16.jpg>,\n",
        " <Blob: painting-classifier-data, images/gogh_van_15_auvers17.jpg>,\n",
        " <Blob: painting-classifier-data, images/gogh_van_15_auvers18.jpg>,\n",
        " <Blob: painting-classifier-data, images/gogh_van_15_auvers19.jpg>,\n",
        " <Blob: painting-classifier-data, images/gogh_van_15_auvers20.jpg>,\n",
        " <Blob: painting-classifier-data, images/gogh_van_15_auvers21.jpg>,\n",
        " <Blob: painting-classifier-data, images/gogh_van_15_auvers22.jpg>,\n",
        " <Blob: painting-classifier-data, images/gogh_van_15_auvers23.jpg>,\n",
        " <Blob: painting-classifier-data, images/gogh_van_15_auvers24.jpg>,\n",
        " <Blob: painting-classifier-data, images/gogh_van_15_auvers25.jpg>,\n",
        " <Blob: painting-classifier-data, images/gogh_van_15_auvers26.jpg>,\n",
        " <Blob: painting-classifier-data, images/gogh_van_15_auvers27.jpg>,\n",
        " <Blob: painting-classifier-data, images/gogh_van_15_auvers28.jpg>,\n",
        " <Blob: painting-classifier-data, images/gogh_van_15_auvers29.jpg>,\n",
        " <Blob: painting-classifier-data, images/gogh_van_15_auvers30.jpg>,\n",
        " <Blob: painting-classifier-data, images/gogh_van_15_auvers31.jpg>,\n",
        " <Blob: painting-classifier-data, images/gogh_van_15_auvers32.jpg>,\n",
        " <Blob: painting-classifier-data, images/gogh_van_15_auvers33.jpg>,\n",
        " <Blob: painting-classifier-data, images/gogh_van_16_selfpo01.jpg>,\n",
        " <Blob: painting-classifier-data, images/gogh_van_16_selfpo02.jpg>,\n",
        " <Blob: painting-classifier-data, images/gogh_van_16_selfpo03.jpg>,\n",
        " <Blob: painting-classifier-data, images/gogh_van_16_selfpo04.jpg>,\n",
        " <Blob: painting-classifier-data, images/gogh_van_16_selfpo05.jpg>,\n",
        " <Blob: painting-classifier-data, images/gogh_van_16_selfpo06.jpg>,\n",
        " <Blob: painting-classifier-data, images/gogh_van_16_selfpo07.jpg>,\n",
        " <Blob: painting-classifier-data, images/gogh_van_16_selfpo08.jpg>,\n",
        " <Blob: painting-classifier-data, images/gogh_van_16_selfpo09.jpg>,\n",
        " <Blob: painting-classifier-data, images/gogh_van_16_selfpo10.jpg>,\n",
        " <Blob: painting-classifier-data, images/gogh_van_16_selfpo11.jpg>,\n",
        " <Blob: painting-classifier-data, images/gogh_van_16_selfpo12.jpg>,\n",
        " <Blob: painting-classifier-data, images/gogh_van_16_selfpo13.jpg>,\n",
        " <Blob: painting-classifier-data, images/gogh_van_16_selfpo14.jpg>,\n",
        " <Blob: painting-classifier-data, images/gogh_van_16_selfpo15.jpg>,\n",
        " <Blob: painting-classifier-data, images/gogh_van_16_selfpo16.jpg>,\n",
        " <Blob: painting-classifier-data, images/gogh_van_16_selfpo17.jpg>,\n",
        " <Blob: painting-classifier-data, images/gogh_van_16_selfpo18.jpg>,\n",
        " <Blob: painting-classifier-data, images/gogh_van_16_selfpo19.jpg>,\n",
        " <Blob: painting-classifier-data, images/gogh_van_16_selfpo20.jpg>,\n",
        " <Blob: painting-classifier-data, images/gogh_van_16_selfpo21.jpg>,\n",
        " <Blob: painting-classifier-data, images/gogh_van_16_selfpo22.jpg>,\n",
        " <Blob: painting-classifier-data, images/gogh_van_16_selfpo23.jpg>,\n",
        " <Blob: painting-classifier-data, images/gogh_van_16_selfpo24.jpg>,\n",
        " <Blob: painting-classifier-data, images/gogh_van_16_selfpo25.jpg>,\n",
        " <Blob: painting-classifier-data, images/gogh_van_16_selfpo26.jpg>,\n",
        " <Blob: painting-classifier-data, images/gogh_van_16_selfpo27.jpg>,\n",
        " <Blob: painting-classifier-data, images/gogh_van_16_selfpo28.jpg>,\n",
        " <Blob: painting-classifier-data, images/gogh_van_16_selfpo29.jpg>,\n",
        " <Blob: painting-classifier-data, images/gogh_van_16_selfpo30.jpg>,\n",
        " <Blob: painting-classifier-data, images/gogh_van_16_selfpo31.jpg>,\n",
        " <Blob: painting-classifier-data, images/gogh_van_16_selfpo32.jpg>,\n",
        " <Blob: painting-classifier-data, images/gogh_van_16_selfpo33.jpg>,\n",
        " <Blob: painting-classifier-data, images/gogh_van_16_selfpo34.jpg>,\n",
        " <Blob: painting-classifier-data, images/gogh_van_16_selfpo35.jpg>,\n",
        " <Blob: painting-classifier-data, images/gogh_van_17_1etten1.jpg>,\n",
        " <Blob: painting-classifier-data, images/gogh_van_17_1etten2.jpg>,\n",
        " <Blob: painting-classifier-data, images/gogh_van_17_1etten3.jpg>,\n",
        " <Blob: painting-classifier-data, images/gogh_van_17_1etten4.jpg>,\n",
        " <Blob: painting-classifier-data, images/gogh_van_17_1etten5.jpg>,\n",
        " <Blob: painting-classifier-data, images/gogh_van_17_1etten6.jpg>,\n",
        " <Blob: painting-classifier-data, images/gogh_van_17_2hague01.jpg>,\n",
        " <Blob: painting-classifier-data, images/gogh_van_17_2hague02.jpg>,\n",
        " <Blob: painting-classifier-data, images/gogh_van_17_2hague03.jpg>,\n",
        " <Blob: painting-classifier-data, images/gogh_van_17_2hague04.jpg>,\n",
        " <Blob: painting-classifier-data, images/gogh_van_17_2hague05.jpg>,\n",
        " <Blob: painting-classifier-data, images/gogh_van_17_2hague06.jpg>,\n",
        " <Blob: painting-classifier-data, images/gogh_van_17_2hague07.jpg>,\n",
        " <Blob: painting-classifier-data, images/gogh_van_17_2hague08.jpg>,\n",
        " <Blob: painting-classifier-data, images/gogh_van_17_2hague09.jpg>,\n",
        " <Blob: painting-classifier-data, images/gogh_van_17_3drenth1.jpg>,\n",
        " <Blob: painting-classifier-data, images/gogh_van_17_3drenth2.jpg>,\n",
        " <Blob: painting-classifier-data, images/gogh_van_17_4nuene01.jpg>,\n",
        " <Blob: painting-classifier-data, images/gogh_van_17_4nuene02.jpg>,\n",
        " <Blob: painting-classifier-data, images/gogh_van_17_4nuene03.jpg>,\n",
        " <Blob: painting-classifier-data, images/gogh_van_17_4nuene04.jpg>,\n",
        " <Blob: painting-classifier-data, images/gogh_van_17_4nuene05.jpg>,\n",
        " <Blob: painting-classifier-data, images/gogh_van_17_4nuene06.jpg>,\n",
        " <Blob: painting-classifier-data, images/gogh_van_17_4nuene07.jpg>,\n",
        " <Blob: painting-classifier-data, images/gogh_van_17_4nuene08.jpg>,\n",
        " <Blob: painting-classifier-data, images/gogh_van_17_4nuene09.jpg>,\n",
        " <Blob: painting-classifier-data, images/gogh_van_17_4nuene10.jpg>,\n",
        " <Blob: painting-classifier-data, images/gogh_van_17_4nuene11.jpg>,\n",
        " <Blob: painting-classifier-data, images/gogh_van_18_1paris01.jpg>,\n",
        " <Blob: painting-classifier-data, images/gogh_van_18_1paris02.jpg>,\n",
        " <Blob: painting-classifier-data, images/gogh_van_18_1paris03.jpg>,\n",
        " <Blob: painting-classifier-data, images/gogh_van_18_1paris04.jpg>,\n",
        " <Blob: painting-classifier-data, images/gogh_van_18_1paris05.jpg>,\n",
        " <Blob: painting-classifier-data, images/gogh_van_18_2arles01.jpg>,\n",
        " <Blob: painting-classifier-data, images/gogh_van_18_2arles02.jpg>,\n",
        " <Blob: painting-classifier-data, images/gogh_van_18_2arles03.jpg>,\n",
        " <Blob: painting-classifier-data, images/gogh_van_18_2arles04.jpg>,\n",
        " <Blob: painting-classifier-data, images/gogh_van_18_2arles05.jpg>,\n",
        " <Blob: painting-classifier-data, images/gogh_van_18_2arles06.jpg>,\n",
        " <Blob: painting-classifier-data, images/gogh_van_18_2arles07.jpg>,\n",
        " <Blob: painting-classifier-data, images/gogh_van_18_2arles08.jpg>,\n",
        " <Blob: painting-classifier-data, images/gogh_van_18_2arles09.jpg>,\n",
        " <Blob: painting-classifier-data, images/gogh_van_18_2arles10.jpg>,\n",
        " <Blob: painting-classifier-data, images/gogh_van_18_2arles11.jpg>,\n",
        " <Blob: painting-classifier-data, images/gogh_van_18_2arles12.jpg>,\n",
        " <Blob: painting-classifier-data, images/gogh_van_18_2arles13.jpg>,\n",
        " <Blob: painting-classifier-data, images/gogh_van_18_2arles14.jpg>,\n",
        " <Blob: painting-classifier-data, images/gogh_van_19_1remy01.jpg>,\n",
        " <Blob: painting-classifier-data, images/gogh_van_19_1remy02.jpg>,\n",
        " <Blob: painting-classifier-data, images/gogh_van_19_1remy03.jpg>,\n",
        " <Blob: painting-classifier-data, images/gogh_van_19_1remy04.jpg>,\n",
        " <Blob: painting-classifier-data, images/gogh_van_19_1remy05.jpg>,\n",
        " <Blob: painting-classifier-data, images/gogh_van_19_1remy06.jpg>,\n",
        " <Blob: painting-classifier-data, images/gogh_van_19_1remy07.jpg>,\n",
        " <Blob: painting-classifier-data, images/gogh_van_19_1remy08.jpg>,\n",
        " <Blob: painting-classifier-data, images/gogh_van_19_1remy09.jpg>,\n",
        " <Blob: painting-classifier-data, images/gogh_van_19_1remy10.jpg>,\n",
        " <Blob: painting-classifier-data, images/gogh_van_19_1remy11.jpg>,\n",
        " <Blob: painting-classifier-data, images/gogh_van_19_1remy12.jpg>,\n",
        " <Blob: painting-classifier-data, images/gogh_van_19_1remy13.jpg>,\n",
        " <Blob: painting-classifier-data, images/gogh_van_19_1remy14.jpg>,\n",
        " <Blob: painting-classifier-data, images/gogh_van_19_1remy15.jpg>,\n",
        " <Blob: painting-classifier-data, images/gogh_van_19_1remy16.jpg>,\n",
        " <Blob: painting-classifier-data, images/gogh_van_19_2auvers1.jpg>,\n",
        " <Blob: painting-classifier-data, images/gogh_van_19_2auvers2.jpg>,\n",
        " <Blob: painting-classifier-data, images/gogh_van_19_2auvers3.jpg>,\n",
        " <Blob: painting-classifier-data, images/gogh_van_19_2auvers4.jpg>,\n",
        " <Blob: painting-classifier-data, images/gogh_van_20_litho01.jpg>,\n",
        " <Blob: painting-classifier-data, images/gogh_van_20_litho02.jpg>,\n",
        " <Blob: painting-classifier-data, images/gogh_van_20_litho03.jpg>,\n",
        " <Blob: painting-classifier-data, images/gogh_van_20_litho04.jpg>,\n",
        " <Blob: painting-classifier-data, images/gogh_van_20_litho05.jpg>,\n",
        " <Blob: painting-classifier-data, images/gogh_van_20_litho06.jpg>,\n",
        " <Blob: painting-classifier-data, images/gogh_van_20_litho07.jpg>,\n",
        " <Blob: painting-classifier-data, images/gogh_van_20_litho08.jpg>,\n",
        " <Blob: painting-classifier-data, images/gogh_van_20_litho09.jpg>,\n",
        " <Blob: painting-classifier-data, images/gogh_van_21_waterc01.jpg>,\n",
        " <Blob: painting-classifier-data, images/gogh_van_21_waterc02.jpg>,\n",
        " <Blob: painting-classifier-data, images/gogh_van_21_waterc03.jpg>,\n",
        " <Blob: painting-classifier-data, images/gogh_van_21_waterc04.jpg>,\n",
        " <Blob: painting-classifier-data, images/gogh_van_21_waterc05.jpg>,\n",
        " <Blob: painting-classifier-data, images/gogh_van_21_waterc06.jpg>,\n",
        " <Blob: painting-classifier-data, images/gogh_van_21_waterc07.jpg>,\n",
        " <Blob: painting-classifier-data, images/gogh_van_21_waterc08.jpg>,\n",
        " <Blob: painting-classifier-data, images/gogh_van_21_waterc09.jpg>,\n",
        " <Blob: painting-classifier-data, images/gogh_van_21_waterc10.jpg>,\n",
        " <Blob: painting-classifier-data, images/gogh_van_21_waterc11.jpg>,\n",
        " <Blob: painting-classifier-data, images/gogh_van_21_waterc12.jpg>,\n",
        " <Blob: painting-classifier-data, images/goya_1_11goya.jpg>,\n",
        " <Blob: painting-classifier-data, images/goya_1_12goya.jpg>,\n",
        " <Blob: painting-classifier-data, images/goya_1_13goya.jpg>,\n",
        " <Blob: painting-classifier-data, images/goya_1_14goya.jpg>,\n",
        " <Blob: painting-classifier-data, images/goya_1_15goya.jpg>,\n",
        " <Blob: painting-classifier-data, images/goya_1_16goya.jpg>,\n",
        " <Blob: painting-classifier-data, images/goya_1_17goya.jpg>,\n",
        " <Blob: painting-classifier-data, images/goya_1_18goya.jpg>,\n",
        " <Blob: painting-classifier-data, images/goya_2_201goya.jpg>,\n",
        " <Blob: painting-classifier-data, images/goya_2_202goya.jpg>,\n",
        " <Blob: painting-classifier-data, images/goya_2_203goya.jpg>,\n",
        " <Blob: painting-classifier-data, images/goya_2_204goya.jpg>,\n",
        " <Blob: painting-classifier-data, images/goya_2_206goya.jpg>,\n",
        " <Blob: painting-classifier-data, images/goya_2_207goya.jpg>,\n",
        " <Blob: painting-classifier-data, images/goya_2_208goya.jpg>,\n",
        " <Blob: painting-classifier-data, images/goya_2_209goya.jpg>,\n",
        " <Blob: painting-classifier-data, images/goya_2_210goya.jpg>,\n",
        " <Blob: painting-classifier-data, images/goya_2_211goya.jpg>,\n",
        " <Blob: painting-classifier-data, images/goya_2_212goya.jpg>,\n",
        " <Blob: painting-classifier-data, images/goya_2_213goya.jpg>,\n",
        " <Blob: painting-classifier-data, images/goya_2_214goya.jpg>,\n",
        " <Blob: painting-classifier-data, images/goya_2_215goya.jpg>,\n",
        " <Blob: painting-classifier-data, images/goya_2_216goya.jpg>,\n",
        " <Blob: painting-classifier-data, images/goya_2_217goya.jpg>,\n",
        " <Blob: painting-classifier-data, images/goya_2_218goya.jpg>,\n",
        " <Blob: painting-classifier-data, images/goya_3_301goya.jpg>,\n",
        " <Blob: painting-classifier-data, images/goya_3_302goya.jpg>,\n",
        " <Blob: painting-classifier-data, images/goya_3_303goya.jpg>,\n",
        " <Blob: painting-classifier-data, images/goya_3_303goya1.jpg>,\n",
        " <Blob: painting-classifier-data, images/goya_3_304goya.jpg>,\n",
        " <Blob: painting-classifier-data, images/goya_3_305goya.jpg>,\n",
        " <Blob: painting-classifier-data, images/goya_3_306goya.jpg>,\n",
        " <Blob: painting-classifier-data, images/goya_3_306goya1.jpg>,\n",
        " <Blob: painting-classifier-data, images/goya_3_307goya.jpg>,\n",
        " <Blob: painting-classifier-data, images/goya_3_308goya.jpg>,\n",
        " <Blob: painting-classifier-data, images/goya_3_309goya.jpg>,\n",
        " <Blob: painting-classifier-data, images/goya_3_310goya.jpg>,\n",
        " <Blob: painting-classifier-data, images/goya_3_312goya.jpg>,\n",
        " <Blob: painting-classifier-data, images/goya_3_313goya.jpg>,\n",
        " <Blob: painting-classifier-data, images/goya_3_314goya.jpg>,\n",
        " <Blob: painting-classifier-data, images/goya_3_315goya.jpg>,\n",
        " <Blob: painting-classifier-data, images/goya_4_400goya.jpg>,\n",
        " <Blob: painting-classifier-data, images/goya_4_401goya.jpg>,\n",
        " <Blob: painting-classifier-data, images/goya_4_402goya.jpg>,\n",
        " <Blob: painting-classifier-data, images/goya_4_403goya.jpg>,\n",
        " <Blob: painting-classifier-data, images/goya_4_404goya.jpg>,\n",
        " <Blob: painting-classifier-data, images/goya_4_405goya.jpg>,\n",
        " <Blob: painting-classifier-data, images/goya_4_406goya.jpg>,\n",
        " <Blob: painting-classifier-data, images/goya_4_407goya.jpg>,\n",
        " <Blob: painting-classifier-data, images/goya_4_407goya1.jpg>,\n",
        " <Blob: painting-classifier-data, images/goya_4_408goya.jpg>,\n",
        " <Blob: painting-classifier-data, images/goya_4_413goya.jpg>,\n",
        " <Blob: painting-classifier-data, images/goya_4_414goya.jpg>,\n",
        " <Blob: painting-classifier-data, images/goya_4_415goya.jpg>,\n",
        " <Blob: painting-classifier-data, images/goya_4_416goya.jpg>,\n",
        " <Blob: painting-classifier-data, images/goya_4_417goya.jpg>,\n",
        " <Blob: painting-classifier-data, images/goya_4_418goya.jpg>,\n",
        " <Blob: painting-classifier-data, images/goya_5_501goya.jpg>,\n",
        " <Blob: painting-classifier-data, images/goya_5_501goya1.jpg>,\n",
        " <Blob: painting-classifier-data, images/goya_5_502goya.jpg>,\n",
        " <Blob: painting-classifier-data, images/goya_5_502goya1.jpg>,\n",
        " <Blob: painting-classifier-data, images/goya_5_502goya2.jpg>,\n",
        " <Blob: painting-classifier-data, images/goya_5_503goya.jpg>,\n",
        " <Blob: painting-classifier-data, images/goya_5_504goya.jpg>,\n",
        " <Blob: painting-classifier-data, images/goya_5_505goya.jpg>,\n",
        " <Blob: painting-classifier-data, images/goya_5_506goya.jpg>,\n",
        " <Blob: painting-classifier-data, images/goya_5_507goya.jpg>,\n",
        " <Blob: painting-classifier-data, images/goya_5_508goya.jpg>,\n",
        " <Blob: painting-classifier-data, images/goya_5_509goya.jpg>,\n",
        " <Blob: painting-classifier-data, images/goya_5_510goya.jpg>,\n",
        " <Blob: painting-classifier-data, images/goya_6_601goya.jpg>,\n",
        " <Blob: painting-classifier-data, images/goya_6_602goya.jpg>,\n",
        " <Blob: painting-classifier-data, images/goya_6_603goya.jpg>,\n",
        " <Blob: painting-classifier-data, images/goya_6_604goya.jpg>,\n",
        " <Blob: painting-classifier-data, images/goya_6_605goya.jpg>,\n",
        " <Blob: painting-classifier-data, images/goya_6_607goya.jpg>,\n",
        " <Blob: painting-classifier-data, images/goya_6_608goya.jpg>,\n",
        " <Blob: painting-classifier-data, images/goya_6_609goya.jpg>,\n",
        " <Blob: painting-classifier-data, images/goya_6_610goya.jpg>,\n",
        " <Blob: painting-classifier-data, images/goya_6_611goya.jpg>,\n",
        " <Blob: painting-classifier-data, images/goya_6_612goya.jpg>,\n",
        " <Blob: painting-classifier-data, images/goya_6_613goya.jpg>,\n",
        " <Blob: painting-classifier-data, images/goya_6_614goya.jpg>,\n",
        " <Blob: painting-classifier-data, images/goya_7_701goya.jpg>,\n",
        " <Blob: painting-classifier-data, images/goya_7_702goya.jpg>,\n",
        " <Blob: painting-classifier-data, images/goya_7_702goya1.jpg>,\n",
        " <Blob: painting-classifier-data, images/goya_7_703goya.jpg>,\n",
        " <Blob: painting-classifier-data, images/goya_7_704goya.jpg>,\n",
        " <Blob: painting-classifier-data, images/goya_7_705goya.jpg>,\n",
        " <Blob: painting-classifier-data, images/goya_7_706goya.jpg>,\n",
        " <Blob: painting-classifier-data, images/goya_7_707goya.jpg>,\n",
        " <Blob: painting-classifier-data, images/goya_7_708goya.jpg>,\n",
        " <Blob: painting-classifier-data, images/goya_7_709goya.jpg>,\n",
        " <Blob: painting-classifier-data, images/goya_7_710goya.jpg>,\n",
        " <Blob: painting-classifier-data, images/goya_7_711goya.jpg>,\n",
        " <Blob: painting-classifier-data, images/goya_7_712goya.jpg>,\n",
        " <Blob: painting-classifier-data, images/goya_7_713goya.jpg>,\n",
        " <Blob: painting-classifier-data, images/goya_7_714goya.jpg>,\n",
        " <Blob: painting-classifier-data, images/goya_7_716goya.jpg>,\n",
        " <Blob: painting-classifier-data, images/goya_7_717goya.jpg>,\n",
        " <Blob: painting-classifier-data, images/goya_7_718goya.jpg>,\n",
        " <Blob: painting-classifier-data, images/goya_7_719goya.jpg>,\n",
        " <Blob: painting-classifier-data, images/goya_7_720goya.jpg>,\n",
        " <Blob: painting-classifier-data, images/goya_8_801goya.jpg>,\n",
        " <Blob: painting-classifier-data, images/goya_8_802goya.jpg>,\n",
        " <Blob: painting-classifier-data, images/goya_8_803goya.jpg>,\n",
        " <Blob: painting-classifier-data, images/goya_8_804goya.jpg>,\n",
        " <Blob: painting-classifier-data, images/goya_8_805goya.jpg>,\n",
        " <Blob: painting-classifier-data, images/goya_8_806goya.jpg>,\n",
        " <Blob: painting-classifier-data, images/goya_8_807goya.jpg>,\n",
        " <Blob: painting-classifier-data, images/goya_8_808goya.jpg>,\n",
        " <Blob: painting-classifier-data, images/goya_8_809goya.jpg>,\n",
        " <Blob: painting-classifier-data, images/goya_8_8101goya.jpg>,\n",
        " <Blob: painting-classifier-data, images/goya_8_810goya.jpg>,\n",
        " <Blob: painting-classifier-data, images/goya_8_811goya.jpg>,\n",
        " <Blob: painting-classifier-data, images/goya_8_812goya.jpg>,\n",
        " <Blob: painting-classifier-data, images/goya_9_blac622.jpg>,\n",
        " <Blob: painting-classifier-data, images/goya_9_blac623.jpg>,\n",
        " <Blob: painting-classifier-data, images/goya_9_blac624.jpg>,\n",
        " <Blob: painting-classifier-data, images/goya_9_blac625.jpg>,\n",
        " <Blob: painting-classifier-data, images/goya_9_blac629.jpg>,\n",
        " <Blob: painting-classifier-data, images/goya_9_blac630.jpg>,\n",
        " <Blob: painting-classifier-data, images/goya_9_blac631.jpg>,\n",
        " <Blob: painting-classifier-data, images/goya_9_blac632.jpg>,\n",
        " <Blob: painting-classifier-data, images/goya_9_blac633.jpg>,\n",
        " ...]"
       ]
      }
     ],
     "prompt_number": 21
    },
    {
     "cell_type": "code",
     "collapsed": false,
     "input": [],
     "language": "python",
     "metadata": {},
     "outputs": []
    }
   ],
   "metadata": {}
  }
 ]
}