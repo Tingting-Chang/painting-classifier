{
 "cells": [
  {
   "cell_type": "markdown",
   "metadata": {
    "deletable": true,
    "editable": true
   },
   "source": [
    "============================================================================================\n",
    "\n",
    "# Prepare Color Histogram & Sizes Data For KNN\n",
    "\n",
    "\n",
    "============================================================================================"
   ]
  },
  {
   "cell_type": "code",
   "execution_count": 2,
   "metadata": {
    "collapsed": false,
    "deletable": true,
    "editable": true
   },
   "outputs": [],
   "source": [
    "import warnings\n",
    "\n",
    "warnings.filterwarnings('ignore', category=DeprecationWarning)"
   ]
  },
  {
   "cell_type": "code",
   "execution_count": 39,
   "metadata": {
    "collapsed": false,
    "deletable": true,
    "editable": true
   },
   "outputs": [
    {
     "name": "stdout",
     "output_type": "stream",
     "text": [
      "athenaeum_authors_preview.csv\n",
      "athenaeum_painting_filtered.csv\n",
      "athenaeum_paintings.csv\n",
      "athenaeum_paintings_sizes.csv\n",
      "color_hist_kmeans_206552.csv\n",
      "color_histograms.csv\n",
      "color_hist_size_206552.csv\n",
      "complete_data.csv\n",
      "extra_tree_com.csv\n",
      "grad_boost_com.csv\n",
      "images\n",
      "images_athenaeum\n",
      "images_sizes_2325.csv\n",
      "nbc_com.csv\n",
      "net_predicted.csv\n",
      "painter_info_clean.csv\n",
      "painting_info_clean.csv\n",
      "pca_transformed_test_20.csv\n",
      "pca_transformed_train_20.csv\n",
      "resized_200\n",
      "rf_com.csv\n",
      "test_author200.csv\n",
      "test_data.csv\n",
      "test_hist_author_knn.csv\n",
      "test_hist_author_rf.csv\n",
      "train_author200.csv\n",
      "train_data.csv\n",
      "train_hist_author_knn.csv\n",
      "train_hist_author_rf.csv\n",
      "xgb_com.csv\n",
      "\n"
     ]
    }
   ],
   "source": [
    "import pandas as pd\n",
    "import numpy as np\n",
    "\n",
    "from sklearn.decomposition import PCA\n",
    "\n",
    "from subprocess import check_output\n",
    "print (check_output([\"ls\", \"data\"]).decode(\"utf-8\"))\n"
   ]
  },
  {
   "cell_type": "code",
   "execution_count": 3,
   "metadata": {
    "collapsed": false,
    "deletable": true,
    "editable": true
   },
   "outputs": [
    {
     "name": "stdout",
     "output_type": "stream",
     "text": [
      "[INFO] The size of test data: (12473, 12)\n",
      "[INFO] The size of train data: (49890, 12)\n",
      "[INFO] The size of color histogram: (206550, 32)\n"
     ]
    },
    {
     "data": {
      "text/html": [
       "<div>\n",
       "<table border=\"1\" class=\"dataframe\">\n",
       "  <thead>\n",
       "    <tr style=\"text-align: right;\">\n",
       "      <th></th>\n",
       "      <th>medium</th>\n",
       "      <th>painting_location</th>\n",
       "      <th>height</th>\n",
       "      <th>article_type</th>\n",
       "      <th>painting_url</th>\n",
       "      <th>painting_dates</th>\n",
       "      <th>painting_title</th>\n",
       "      <th>author_id</th>\n",
       "      <th>painting_id</th>\n",
       "      <th>width</th>\n",
       "      <th>height_px</th>\n",
       "      <th>width_px</th>\n",
       "    </tr>\n",
       "  </thead>\n",
       "  <tbody>\n",
       "    <tr>\n",
       "      <th>0</th>\n",
       "      <td>oil on canvas</td>\n",
       "      <td>Munch-museet  (Norway - Oslo)</td>\n",
       "      <td>90.0</td>\n",
       "      <td>Painting</td>\n",
       "      <td>http://www.the-athenaeum.org/art/display_image...</td>\n",
       "      <td>1907-1908</td>\n",
       "      <td>Mason and Mechanic</td>\n",
       "      <td>1793</td>\n",
       "      <td>52573</td>\n",
       "      <td>69.5</td>\n",
       "      <td>722</td>\n",
       "      <td>534</td>\n",
       "    </tr>\n",
       "    <tr>\n",
       "      <th>1</th>\n",
       "      <td>oil on canvas</td>\n",
       "      <td>Royal Botanic Gardens, Kew  (United Kingdom - ...</td>\n",
       "      <td>107.0</td>\n",
       "      <td>Painting</td>\n",
       "      <td>http://www.the-athenaeum.org/art/display_image...</td>\n",
       "      <td>circa 1880</td>\n",
       "      <td>A South African Sedge</td>\n",
       "      <td>9266</td>\n",
       "      <td>207890</td>\n",
       "      <td>45.0</td>\n",
       "      <td>944</td>\n",
       "      <td>384</td>\n",
       "    </tr>\n",
       "    <tr>\n",
       "      <th>2</th>\n",
       "      <td>oil on canvas</td>\n",
       "      <td>Watts Gallery - Compton (Surrey)  (United King...</td>\n",
       "      <td>137.0</td>\n",
       "      <td>Painting</td>\n",
       "      <td>http://www.the-athenaeum.org/art/display_image...</td>\n",
       "      <td>1849-1850</td>\n",
       "      <td>Under the Dry Arch</td>\n",
       "      <td>502</td>\n",
       "      <td>214715</td>\n",
       "      <td>101.5</td>\n",
       "      <td>944</td>\n",
       "      <td>677</td>\n",
       "    </tr>\n",
       "  </tbody>\n",
       "</table>\n",
       "</div>"
      ],
      "text/plain": [
       "          medium                                  painting_location  height  \\\n",
       "0  oil on canvas                      Munch-museet  (Norway - Oslo)    90.0   \n",
       "1  oil on canvas  Royal Botanic Gardens, Kew  (United Kingdom - ...   107.0   \n",
       "2  oil on canvas  Watts Gallery - Compton (Surrey)  (United King...   137.0   \n",
       "\n",
       "  article_type                                       painting_url  \\\n",
       "0     Painting  http://www.the-athenaeum.org/art/display_image...   \n",
       "1     Painting  http://www.the-athenaeum.org/art/display_image...   \n",
       "2     Painting  http://www.the-athenaeum.org/art/display_image...   \n",
       "\n",
       "  painting_dates         painting_title  author_id  painting_id  width  \\\n",
       "0      1907-1908     Mason and Mechanic       1793        52573   69.5   \n",
       "1     circa 1880  A South African Sedge       9266       207890   45.0   \n",
       "2      1849-1850     Under the Dry Arch        502       214715  101.5   \n",
       "\n",
       "   height_px  width_px  \n",
       "0        722       534  \n",
       "1        944       384  \n",
       "2        944       677  "
      ]
     },
     "execution_count": 3,
     "metadata": {},
     "output_type": "execute_result"
    }
   ],
   "source": [
    "test_author200 = pd.read_csv('data/test_author200.csv')\n",
    "train_author200 = pd.read_csv('data/train_author200.csv')\n",
    "color_hist = pd.read_csv('data/color_histograms.csv')\n",
    "\n",
    "print \"[INFO] The size of test data: \" + str(test_author200.shape)\n",
    "print \"[INFO] The size of train data: \" + str(train_author200.shape)\n",
    "print \"[INFO] The size of color histogram: \" + str(color_hist.shape)\n",
    "train_author200.head(3)"
   ]
  },
  {
   "cell_type": "code",
   "execution_count": 4,
   "metadata": {
    "collapsed": false,
    "deletable": true,
    "editable": true
   },
   "outputs": [
    {
     "data": {
      "text/html": [
       "<div>\n",
       "<table border=\"1\" class=\"dataframe\">\n",
       "  <thead>\n",
       "    <tr style=\"text-align: right;\">\n",
       "      <th></th>\n",
       "      <th>painting_id</th>\n",
       "      <th>height_px</th>\n",
       "      <th>width_px</th>\n",
       "    </tr>\n",
       "  </thead>\n",
       "  <tbody>\n",
       "    <tr>\n",
       "      <th>0</th>\n",
       "      <td>52573</td>\n",
       "      <td>722</td>\n",
       "      <td>534</td>\n",
       "    </tr>\n",
       "    <tr>\n",
       "      <th>1</th>\n",
       "      <td>207890</td>\n",
       "      <td>944</td>\n",
       "      <td>384</td>\n",
       "    </tr>\n",
       "  </tbody>\n",
       "</table>\n",
       "</div>"
      ],
      "text/plain": [
       "   painting_id  height_px  width_px\n",
       "0        52573        722       534\n",
       "1       207890        944       384"
      ]
     },
     "execution_count": 4,
     "metadata": {},
     "output_type": "execute_result"
    }
   ],
   "source": [
    "train_subset = train_author200[['painting_id', 'height_px', 'width_px']]\n",
    "test_subset = test_author200[['painting_id', 'height_px', 'width_px']]\n",
    "train_subset.head(2)"
   ]
  },
  {
   "cell_type": "code",
   "execution_count": 5,
   "metadata": {
    "collapsed": false,
    "deletable": true,
    "editable": true
   },
   "outputs": [
    {
     "name": "stdout",
     "output_type": "stream",
     "text": [
      "[INFO] The size of train histogram for KNN(49890, 34)\n"
     ]
    },
    {
     "data": {
      "text/html": [
       "<div>\n",
       "<table border=\"1\" class=\"dataframe\">\n",
       "  <thead>\n",
       "    <tr style=\"text-align: right;\">\n",
       "      <th></th>\n",
       "      <th>author_id</th>\n",
       "      <th>painting_id</th>\n",
       "      <th>hist_01</th>\n",
       "      <th>hist_02</th>\n",
       "      <th>hist_03</th>\n",
       "      <th>hist_04</th>\n",
       "      <th>hist_05</th>\n",
       "      <th>hist_06</th>\n",
       "      <th>hist_07</th>\n",
       "      <th>hist_08</th>\n",
       "      <th>...</th>\n",
       "      <th>hist_23</th>\n",
       "      <th>hist_24</th>\n",
       "      <th>hist_25</th>\n",
       "      <th>hist_26</th>\n",
       "      <th>hist_27</th>\n",
       "      <th>hist_28</th>\n",
       "      <th>hist_29</th>\n",
       "      <th>hist_30</th>\n",
       "      <th>height_px</th>\n",
       "      <th>width_px</th>\n",
       "    </tr>\n",
       "  </thead>\n",
       "  <tbody>\n",
       "    <tr>\n",
       "      <th>0</th>\n",
       "      <td>444</td>\n",
       "      <td>11653</td>\n",
       "      <td>141479</td>\n",
       "      <td>107241</td>\n",
       "      <td>3576</td>\n",
       "      <td>1031</td>\n",
       "      <td>1010</td>\n",
       "      <td>3886</td>\n",
       "      <td>568</td>\n",
       "      <td>2650</td>\n",
       "      <td>...</td>\n",
       "      <td>144006</td>\n",
       "      <td>99116</td>\n",
       "      <td>46843</td>\n",
       "      <td>25371</td>\n",
       "      <td>63071</td>\n",
       "      <td>67621</td>\n",
       "      <td>69665</td>\n",
       "      <td>480656</td>\n",
       "      <td>742</td>\n",
       "      <td>952</td>\n",
       "    </tr>\n",
       "    <tr>\n",
       "      <th>1</th>\n",
       "      <td>444</td>\n",
       "      <td>12097</td>\n",
       "      <td>1429</td>\n",
       "      <td>713</td>\n",
       "      <td>600</td>\n",
       "      <td>581</td>\n",
       "      <td>1362</td>\n",
       "      <td>3304</td>\n",
       "      <td>8280</td>\n",
       "      <td>16148</td>\n",
       "      <td>...</td>\n",
       "      <td>174675</td>\n",
       "      <td>107953</td>\n",
       "      <td>51343</td>\n",
       "      <td>77403</td>\n",
       "      <td>128000</td>\n",
       "      <td>147619</td>\n",
       "      <td>172075</td>\n",
       "      <td>150541</td>\n",
       "      <td>941</td>\n",
       "      <td>718</td>\n",
       "    </tr>\n",
       "  </tbody>\n",
       "</table>\n",
       "<p>2 rows × 34 columns</p>\n",
       "</div>"
      ],
      "text/plain": [
       "   author_id  painting_id  hist_01  hist_02  hist_03  hist_04  hist_05  \\\n",
       "0        444        11653   141479   107241     3576     1031     1010   \n",
       "1        444        12097     1429      713      600      581     1362   \n",
       "\n",
       "   hist_06  hist_07  hist_08    ...     hist_23  hist_24  hist_25  hist_26  \\\n",
       "0     3886      568     2650    ...      144006    99116    46843    25371   \n",
       "1     3304     8280    16148    ...      174675   107953    51343    77403   \n",
       "\n",
       "   hist_27  hist_28  hist_29  hist_30  height_px  width_px  \n",
       "0    63071    67621    69665   480656        742       952  \n",
       "1   128000   147619   172075   150541        941       718  \n",
       "\n",
       "[2 rows x 34 columns]"
      ]
     },
     "execution_count": 5,
     "metadata": {},
     "output_type": "execute_result"
    }
   ],
   "source": [
    "train_hist = color_hist.merge(train_subset, how = 'right', on = 'painting_id')\n",
    "print \"[INFO] The size of train histogram for KNN\" + str(train_hist.shape)\n",
    "train_hist.head(2)"
   ]
  },
  {
   "cell_type": "code",
   "execution_count": 6,
   "metadata": {
    "collapsed": false,
    "deletable": true,
    "editable": true
   },
   "outputs": [
    {
     "name": "stdout",
     "output_type": "stream",
     "text": [
      "[INFO] The size of test histogram for KNN(12473, 34)\n"
     ]
    },
    {
     "data": {
      "text/html": [
       "<div>\n",
       "<table border=\"1\" class=\"dataframe\">\n",
       "  <thead>\n",
       "    <tr style=\"text-align: right;\">\n",
       "      <th></th>\n",
       "      <th>author_id</th>\n",
       "      <th>painting_id</th>\n",
       "      <th>hist_01</th>\n",
       "      <th>hist_02</th>\n",
       "      <th>hist_03</th>\n",
       "      <th>hist_04</th>\n",
       "      <th>hist_05</th>\n",
       "      <th>hist_06</th>\n",
       "      <th>hist_07</th>\n",
       "      <th>hist_08</th>\n",
       "      <th>...</th>\n",
       "      <th>hist_23</th>\n",
       "      <th>hist_24</th>\n",
       "      <th>hist_25</th>\n",
       "      <th>hist_26</th>\n",
       "      <th>hist_27</th>\n",
       "      <th>hist_28</th>\n",
       "      <th>hist_29</th>\n",
       "      <th>hist_30</th>\n",
       "      <th>height_px</th>\n",
       "      <th>width_px</th>\n",
       "    </tr>\n",
       "  </thead>\n",
       "  <tbody>\n",
       "    <tr>\n",
       "      <th>0</th>\n",
       "      <td>444</td>\n",
       "      <td>12077</td>\n",
       "      <td>7603</td>\n",
       "      <td>1687</td>\n",
       "      <td>587</td>\n",
       "      <td>348</td>\n",
       "      <td>403</td>\n",
       "      <td>538</td>\n",
       "      <td>671</td>\n",
       "      <td>959</td>\n",
       "      <td>...</td>\n",
       "      <td>99139</td>\n",
       "      <td>69539</td>\n",
       "      <td>24143</td>\n",
       "      <td>46874</td>\n",
       "      <td>97427</td>\n",
       "      <td>117568</td>\n",
       "      <td>102332</td>\n",
       "      <td>79799</td>\n",
       "      <td>555</td>\n",
       "      <td>800</td>\n",
       "    </tr>\n",
       "    <tr>\n",
       "      <th>1</th>\n",
       "      <td>444</td>\n",
       "      <td>87820</td>\n",
       "      <td>18868</td>\n",
       "      <td>4502</td>\n",
       "      <td>1403</td>\n",
       "      <td>696</td>\n",
       "      <td>672</td>\n",
       "      <td>763</td>\n",
       "      <td>857</td>\n",
       "      <td>1430</td>\n",
       "      <td>...</td>\n",
       "      <td>352276</td>\n",
       "      <td>123167</td>\n",
       "      <td>17879</td>\n",
       "      <td>17396</td>\n",
       "      <td>139326</td>\n",
       "      <td>225701</td>\n",
       "      <td>318966</td>\n",
       "      <td>413491</td>\n",
       "      <td>871</td>\n",
       "      <td>1280</td>\n",
       "    </tr>\n",
       "  </tbody>\n",
       "</table>\n",
       "<p>2 rows × 34 columns</p>\n",
       "</div>"
      ],
      "text/plain": [
       "   author_id  painting_id  hist_01  hist_02  hist_03  hist_04  hist_05  \\\n",
       "0        444        12077     7603     1687      587      348      403   \n",
       "1        444        87820    18868     4502     1403      696      672   \n",
       "\n",
       "   hist_06  hist_07  hist_08    ...     hist_23  hist_24  hist_25  hist_26  \\\n",
       "0      538      671      959    ...       99139    69539    24143    46874   \n",
       "1      763      857     1430    ...      352276   123167    17879    17396   \n",
       "\n",
       "   hist_27  hist_28  hist_29  hist_30  height_px  width_px  \n",
       "0    97427   117568   102332    79799        555       800  \n",
       "1   139326   225701   318966   413491        871      1280  \n",
       "\n",
       "[2 rows x 34 columns]"
      ]
     },
     "execution_count": 6,
     "metadata": {},
     "output_type": "execute_result"
    }
   ],
   "source": [
    "test_hist = color_hist.merge(test_subset, how = 'right', on = 'painting_id')\n",
    "print \"[INFO] The size of test histogram for KNN\" + str(test_hist.shape)\n",
    "test_hist.head(2)"
   ]
  },
  {
   "cell_type": "code",
   "execution_count": 9,
   "metadata": {
    "collapsed": true,
    "deletable": true,
    "editable": true
   },
   "outputs": [],
   "source": [
    "# prepare width & height ratio\n",
    "train_hist['height_width_ratio'] = train_hist['height_px'] / train_hist['width_px']\n",
    "test_hist['height_width_ratio'] = test_hist['height_px'] / test_hist['width_px']"
   ]
  },
  {
   "cell_type": "code",
   "execution_count": 11,
   "metadata": {
    "collapsed": false,
    "deletable": true,
    "editable": true
   },
   "outputs": [
    {
     "data": {
      "text/html": [
       "<div>\n",
       "<table border=\"1\" class=\"dataframe\">\n",
       "  <thead>\n",
       "    <tr style=\"text-align: right;\">\n",
       "      <th></th>\n",
       "      <th>author_id</th>\n",
       "      <th>painting_id</th>\n",
       "      <th>hist_01</th>\n",
       "      <th>hist_02</th>\n",
       "      <th>hist_03</th>\n",
       "      <th>hist_04</th>\n",
       "      <th>hist_05</th>\n",
       "      <th>hist_06</th>\n",
       "      <th>hist_07</th>\n",
       "      <th>hist_08</th>\n",
       "      <th>...</th>\n",
       "      <th>hist_24</th>\n",
       "      <th>hist_25</th>\n",
       "      <th>hist_26</th>\n",
       "      <th>hist_27</th>\n",
       "      <th>hist_28</th>\n",
       "      <th>hist_29</th>\n",
       "      <th>hist_30</th>\n",
       "      <th>height_px</th>\n",
       "      <th>width_px</th>\n",
       "      <th>height_width_ratio</th>\n",
       "    </tr>\n",
       "  </thead>\n",
       "  <tbody>\n",
       "    <tr>\n",
       "      <th>0</th>\n",
       "      <td>444</td>\n",
       "      <td>12077</td>\n",
       "      <td>7603</td>\n",
       "      <td>1687</td>\n",
       "      <td>587</td>\n",
       "      <td>348</td>\n",
       "      <td>403</td>\n",
       "      <td>538</td>\n",
       "      <td>671</td>\n",
       "      <td>959</td>\n",
       "      <td>...</td>\n",
       "      <td>69539</td>\n",
       "      <td>24143</td>\n",
       "      <td>46874</td>\n",
       "      <td>97427</td>\n",
       "      <td>117568</td>\n",
       "      <td>102332</td>\n",
       "      <td>79799</td>\n",
       "      <td>555</td>\n",
       "      <td>800</td>\n",
       "      <td>0.693750</td>\n",
       "    </tr>\n",
       "    <tr>\n",
       "      <th>1</th>\n",
       "      <td>444</td>\n",
       "      <td>87820</td>\n",
       "      <td>18868</td>\n",
       "      <td>4502</td>\n",
       "      <td>1403</td>\n",
       "      <td>696</td>\n",
       "      <td>672</td>\n",
       "      <td>763</td>\n",
       "      <td>857</td>\n",
       "      <td>1430</td>\n",
       "      <td>...</td>\n",
       "      <td>123167</td>\n",
       "      <td>17879</td>\n",
       "      <td>17396</td>\n",
       "      <td>139326</td>\n",
       "      <td>225701</td>\n",
       "      <td>318966</td>\n",
       "      <td>413491</td>\n",
       "      <td>871</td>\n",
       "      <td>1280</td>\n",
       "      <td>0.680469</td>\n",
       "    </tr>\n",
       "  </tbody>\n",
       "</table>\n",
       "<p>2 rows × 35 columns</p>\n",
       "</div>"
      ],
      "text/plain": [
       "   author_id  painting_id  hist_01  hist_02  hist_03  hist_04  hist_05  \\\n",
       "0        444        12077     7603     1687      587      348      403   \n",
       "1        444        87820    18868     4502     1403      696      672   \n",
       "\n",
       "   hist_06  hist_07  hist_08         ...          hist_24  hist_25  hist_26  \\\n",
       "0      538      671      959         ...            69539    24143    46874   \n",
       "1      763      857     1430         ...           123167    17879    17396   \n",
       "\n",
       "   hist_27  hist_28  hist_29  hist_30  height_px  width_px  height_width_ratio  \n",
       "0    97427   117568   102332    79799        555       800            0.693750  \n",
       "1   139326   225701   318966   413491        871      1280            0.680469  \n",
       "\n",
       "[2 rows x 35 columns]"
      ]
     },
     "execution_count": 11,
     "metadata": {},
     "output_type": "execute_result"
    }
   ],
   "source": [
    "test_hist.head(2)"
   ]
  },
  {
   "cell_type": "code",
   "execution_count": 42,
   "metadata": {
    "collapsed": false,
    "deletable": true,
    "editable": true
   },
   "outputs": [],
   "source": [
    "# Random Forest color histogram Dataset\n",
    "train_hist.to_csv(\"data/train_hist_author_rf.csv\", index=False)\n",
    "test_hist.to_csv(\"data/test_hist_author_rf.csv\", index=False)"
   ]
  },
  {
   "cell_type": "code",
   "execution_count": 36,
   "metadata": {
    "collapsed": false,
    "deletable": true,
    "editable": true
   },
   "outputs": [],
   "source": [
    "# Scaling height_px, width_px for KNN\n",
    "train_hist.iloc[:, -2] = train_hist.iloc[:, -2] / train_hist.height_px.max()\n",
    "train_hist.iloc[:, -1] = train_hist.iloc[:, -1] / train_hist.width_px.max()\n",
    "\n",
    "test_hist.iloc[:, -2] = test_hist.iloc[:, -2] / train_hist.height_px.max()\n",
    "test_hist.iloc[:, -1] = test_hist.iloc[:, -1] / train_hist.width_px.max()\n"
   ]
  },
  {
   "cell_type": "code",
   "execution_count": 12,
   "metadata": {
    "collapsed": false,
    "deletable": true,
    "editable": true
   },
   "outputs": [],
   "source": [
    "# KNN color histogram Dataset\n",
    "train_hist.to_csv(\"data/train_hist_author_knn.csv\", index=False)\n",
    "test_hist.to_csv(\"data/test_hist_author_knn.csv\", index=False)"
   ]
  },
  {
   "cell_type": "code",
   "execution_count": 43,
   "metadata": {
    "collapsed": false,
    "deletable": true,
    "editable": true
   },
   "outputs": [],
   "source": []
  },
  {
   "cell_type": "markdown",
   "metadata": {
    "deletable": true,
    "editable": true
   },
   "source": [
    "============================================================================================\n",
    "\n",
    "# Prepare Data For Random Forest\n",
    "\n",
    "============================================================================================"
   ]
  },
  {
   "cell_type": "code",
   "execution_count": 29,
   "metadata": {
    "collapsed": false,
    "deletable": true,
    "editable": true
   },
   "outputs": [
    {
     "name": "stdout",
     "output_type": "stream",
     "text": [
      "[INFO] The size of test data: (12473, 12)\n",
      "[INFO] The size of train data: (49890, 12)\n",
      "[INFO] The size of color histogram: (206550, 32)\n"
     ]
    },
    {
     "data": {
      "text/html": [
       "<div style=\"max-width:1500px;overflow:auto;\">\n",
       "<table border=\"1\" class=\"dataframe\">\n",
       "  <thead>\n",
       "    <tr style=\"text-align: right;\">\n",
       "      <th></th>\n",
       "      <th>medium</th>\n",
       "      <th>painting_location</th>\n",
       "      <th>height</th>\n",
       "      <th>article_type</th>\n",
       "      <th>painting_url</th>\n",
       "      <th>painting_dates</th>\n",
       "      <th>painting_title</th>\n",
       "      <th>author_id</th>\n",
       "      <th>painting_id</th>\n",
       "      <th>width</th>\n",
       "      <th>height_px</th>\n",
       "      <th>width_px</th>\n",
       "    </tr>\n",
       "  </thead>\n",
       "  <tbody>\n",
       "    <tr>\n",
       "      <th>0</th>\n",
       "      <td>oil on canvas</td>\n",
       "      <td>Munch-museet  (Norway - Oslo)</td>\n",
       "      <td>90.0</td>\n",
       "      <td>Painting</td>\n",
       "      <td>http://www.the-athenaeum.org/art/display_image...</td>\n",
       "      <td>1907-1908</td>\n",
       "      <td>Mason and Mechanic</td>\n",
       "      <td>1793</td>\n",
       "      <td>52573</td>\n",
       "      <td>69.5</td>\n",
       "      <td>722</td>\n",
       "      <td>534</td>\n",
       "    </tr>\n",
       "    <tr>\n",
       "      <th>1</th>\n",
       "      <td>oil on canvas</td>\n",
       "      <td>Royal Botanic Gardens, Kew  (United Kingdom - ...</td>\n",
       "      <td>107.0</td>\n",
       "      <td>Painting</td>\n",
       "      <td>http://www.the-athenaeum.org/art/display_image...</td>\n",
       "      <td>circa 1880</td>\n",
       "      <td>A South African Sedge</td>\n",
       "      <td>9266</td>\n",
       "      <td>207890</td>\n",
       "      <td>45.0</td>\n",
       "      <td>944</td>\n",
       "      <td>384</td>\n",
       "    </tr>\n",
       "    <tr>\n",
       "      <th>2</th>\n",
       "      <td>oil on canvas</td>\n",
       "      <td>Watts Gallery - Compton (Surrey)  (United King...</td>\n",
       "      <td>137.0</td>\n",
       "      <td>Painting</td>\n",
       "      <td>http://www.the-athenaeum.org/art/display_image...</td>\n",
       "      <td>1849-1850</td>\n",
       "      <td>Under the Dry Arch</td>\n",
       "      <td>502</td>\n",
       "      <td>214715</td>\n",
       "      <td>101.5</td>\n",
       "      <td>944</td>\n",
       "      <td>677</td>\n",
       "    </tr>\n",
       "  </tbody>\n",
       "</table>\n",
       "</div>"
      ],
      "text/plain": [
       "          medium                                  painting_location  height  \\\n",
       "0  oil on canvas                      Munch-museet  (Norway - Oslo)    90.0   \n",
       "1  oil on canvas  Royal Botanic Gardens, Kew  (United Kingdom - ...   107.0   \n",
       "2  oil on canvas  Watts Gallery - Compton (Surrey)  (United King...   137.0   \n",
       "\n",
       "  article_type                                       painting_url  \\\n",
       "0     Painting  http://www.the-athenaeum.org/art/display_image...   \n",
       "1     Painting  http://www.the-athenaeum.org/art/display_image...   \n",
       "2     Painting  http://www.the-athenaeum.org/art/display_image...   \n",
       "\n",
       "  painting_dates         painting_title  author_id  painting_id  width  \\\n",
       "0      1907-1908     Mason and Mechanic       1793        52573   69.5   \n",
       "1     circa 1880  A South African Sedge       9266       207890   45.0   \n",
       "2      1849-1850     Under the Dry Arch        502       214715  101.5   \n",
       "\n",
       "   height_px  width_px  \n",
       "0        722       534  \n",
       "1        944       384  \n",
       "2        944       677  "
      ]
     },
     "execution_count": 29,
     "metadata": {},
     "output_type": "execute_result"
    }
   ],
   "source": [
    "test_author200 = pd.read_csv('data/test_author200.csv')\n",
    "train_author200 = pd.read_csv('data/train_author200.csv')\n",
    "color_hist = pd.read_csv('data/color_histograms.csv')\n",
    "\n",
    "print \"[INFO] The size of test data: \" + str(test_author200.shape)\n",
    "print \"[INFO] The size of train data: \" + str(train_author200.shape)\n",
    "print \"[INFO] The size of color histogram: \" + str(color_hist.shape)\n",
    "train_author200.head(3)"
   ]
  },
  {
   "cell_type": "code",
   "execution_count": 30,
   "metadata": {
    "collapsed": false,
    "deletable": true,
    "editable": true
   },
   "outputs": [],
   "source": [
    "train_subset = train_author200[['painting_id', 'height_px', 'width_px']]\n",
    "test_subset = test_author200[['painting_id', 'height_px', 'width_px']]\n",
    "train_hist = color_hist.merge(train_subset, how = 'right', on = 'painting_id')\n",
    "test_hist = color_hist.merge(test_subset, how = 'right', on = 'painting_id')\n"
   ]
  },
  {
   "cell_type": "code",
   "execution_count": null,
   "metadata": {
    "collapsed": false,
    "deletable": true,
    "editable": true
   },
   "outputs": [],
   "source": [
    "train_hist.to_csv(\"data/train_hist_author_knn.csv\", index=False)\n",
    "test_hist.to_csv(\"data/test_hist_author_knn.csv\", index=False)"
   ]
  },
  {
   "cell_type": "code",
   "execution_count": 31,
   "metadata": {
    "collapsed": false,
    "deletable": true,
    "editable": true
   },
   "outputs": [
    {
     "data": {
      "text/html": [
       "<div style=\"max-width:1500px;overflow:auto;\">\n",
       "<table border=\"1\" class=\"dataframe\">\n",
       "  <thead>\n",
       "    <tr style=\"text-align: right;\">\n",
       "      <th></th>\n",
       "      <th>author_id</th>\n",
       "      <th>painting_id</th>\n",
       "      <th>hist_01</th>\n",
       "      <th>hist_02</th>\n",
       "      <th>hist_03</th>\n",
       "      <th>hist_04</th>\n",
       "      <th>hist_05</th>\n",
       "      <th>hist_06</th>\n",
       "      <th>hist_07</th>\n",
       "      <th>hist_08</th>\n",
       "      <th>...</th>\n",
       "      <th>hist_23</th>\n",
       "      <th>hist_24</th>\n",
       "      <th>hist_25</th>\n",
       "      <th>hist_26</th>\n",
       "      <th>hist_27</th>\n",
       "      <th>hist_28</th>\n",
       "      <th>hist_29</th>\n",
       "      <th>hist_30</th>\n",
       "      <th>height_px</th>\n",
       "      <th>width_px</th>\n",
       "    </tr>\n",
       "  </thead>\n",
       "  <tbody>\n",
       "    <tr>\n",
       "      <th>0</th>\n",
       "      <td>444</td>\n",
       "      <td>12077</td>\n",
       "      <td>7603</td>\n",
       "      <td>1687</td>\n",
       "      <td>587</td>\n",
       "      <td>348</td>\n",
       "      <td>403</td>\n",
       "      <td>538</td>\n",
       "      <td>671</td>\n",
       "      <td>959</td>\n",
       "      <td>...</td>\n",
       "      <td>99139</td>\n",
       "      <td>69539</td>\n",
       "      <td>24143</td>\n",
       "      <td>46874</td>\n",
       "      <td>97427</td>\n",
       "      <td>117568</td>\n",
       "      <td>102332</td>\n",
       "      <td>79799</td>\n",
       "      <td>555</td>\n",
       "      <td>800</td>\n",
       "    </tr>\n",
       "  </tbody>\n",
       "</table>\n",
       "<p>1 rows × 34 columns</p>\n",
       "</div>"
      ],
      "text/plain": [
       "   author_id  painting_id  hist_01  hist_02  hist_03  hist_04  hist_05  \\\n",
       "0        444        12077     7603     1687      587      348      403   \n",
       "\n",
       "   hist_06  hist_07  hist_08    ...     hist_23  hist_24  hist_25  hist_26  \\\n",
       "0      538      671      959    ...       99139    69539    24143    46874   \n",
       "\n",
       "   hist_27  hist_28  hist_29  hist_30  height_px  width_px  \n",
       "0    97427   117568   102332    79799        555       800  \n",
       "\n",
       "[1 rows x 34 columns]"
      ]
     },
     "execution_count": 31,
     "metadata": {},
     "output_type": "execute_result"
    }
   ],
   "source": [
    "test_hist.head(1)"
   ]
  },
  {
   "cell_type": "code",
   "execution_count": null,
   "metadata": {
    "collapsed": false,
    "deletable": true,
    "editable": true
   },
   "outputs": [],
   "source": []
  },
  {
   "cell_type": "markdown",
   "metadata": {
    "collapsed": false,
    "deletable": true,
    "editable": true
   },
   "source": [
    "============================================================================================\n",
    "\n",
    "# Prepare Data For KMeans\n",
    "\n",
    "============================================================================================"
   ]
  },
  {
   "cell_type": "code",
   "execution_count": 4,
   "metadata": {
    "collapsed": false,
    "deletable": true,
    "editable": true
   },
   "outputs": [
    {
     "name": "stdout",
     "output_type": "stream",
     "text": [
      "[INFO] The size of color histogram: (206550, 32)\n",
      "[INFO] The size of image sizes file: (207245, 12)\n"
     ]
    }
   ],
   "source": [
    "color_hist = pd.read_csv('data/color_histograms.csv')\n",
    "img_sizes = pd.read_csv('data/athenaeum_paintings_sizes.csv')\n",
    "\n",
    "print \"[INFO] The size of color histogram: \" + str(color_hist.shape)\n",
    "print \"[INFO] The size of image sizes file: \" + str(img_sizes.shape)\n"
   ]
  },
  {
   "cell_type": "code",
   "execution_count": 14,
   "metadata": {
    "collapsed": false
   },
   "outputs": [
    {
     "data": {
      "text/plain": [
       "Index([u'medium', u'painting_location', u'height', u'article_type',\n",
       "       u'painting_url', u'painting_dates', u'painting_title', u'author_id',\n",
       "       u'painting_id', u'width', u'height_px', u'width_px'],\n",
       "      dtype='object')"
      ]
     },
     "execution_count": 14,
     "metadata": {},
     "output_type": "execute_result"
    }
   ],
   "source": [
    "img_sizes.columns"
   ]
  },
  {
   "cell_type": "code",
   "execution_count": 21,
   "metadata": {
    "collapsed": false
   },
   "outputs": [
    {
     "data": {
      "text/html": [
       "<div>\n",
       "<table border=\"1\" class=\"dataframe\">\n",
       "  <thead>\n",
       "    <tr style=\"text-align: right;\">\n",
       "      <th></th>\n",
       "      <th>painting_id</th>\n",
       "      <th>height_px</th>\n",
       "      <th>width_px</th>\n",
       "    </tr>\n",
       "  </thead>\n",
       "  <tbody>\n",
       "    <tr>\n",
       "      <th>0</th>\n",
       "      <td>104839</td>\n",
       "      <td>842.0</td>\n",
       "      <td>1280.0</td>\n",
       "    </tr>\n",
       "  </tbody>\n",
       "</table>\n",
       "</div>"
      ],
      "text/plain": [
       "   painting_id  height_px  width_px\n",
       "0       104839      842.0    1280.0"
      ]
     },
     "execution_count": 21,
     "metadata": {},
     "output_type": "execute_result"
    }
   ],
   "source": [
    "sub_sizes = img_sizes[['painting_id','height_px', 'width_px']]\n",
    "sub_sizes.head(1)"
   ]
  },
  {
   "cell_type": "code",
   "execution_count": 25,
   "metadata": {
    "collapsed": false
   },
   "outputs": [
    {
     "data": {
      "text/plain": [
       "(206552, 34)"
      ]
     },
     "execution_count": 25,
     "metadata": {},
     "output_type": "execute_result"
    }
   ],
   "source": [
    "color_hist_size_206552 = color_hist.merge(sub_sizes, how='inner', on='painting_id')\n",
    "color_hist_size_206552.shape"
   ]
  },
  {
   "cell_type": "code",
   "execution_count": 28,
   "metadata": {
    "collapsed": true
   },
   "outputs": [],
   "source": [
    "color_hist_size_206552['height_width_ratio'] = color_hist_size_206552['height_px'] / color_hist_size_206552['width_px']"
   ]
  },
  {
   "cell_type": "code",
   "execution_count": 29,
   "metadata": {
    "collapsed": false
   },
   "outputs": [
    {
     "data": {
      "text/html": [
       "<div>\n",
       "<table border=\"1\" class=\"dataframe\">\n",
       "  <thead>\n",
       "    <tr style=\"text-align: right;\">\n",
       "      <th></th>\n",
       "      <th>author_id</th>\n",
       "      <th>painting_id</th>\n",
       "      <th>hist_01</th>\n",
       "      <th>hist_02</th>\n",
       "      <th>hist_03</th>\n",
       "      <th>hist_04</th>\n",
       "      <th>hist_05</th>\n",
       "      <th>hist_06</th>\n",
       "      <th>hist_07</th>\n",
       "      <th>hist_08</th>\n",
       "      <th>...</th>\n",
       "      <th>hist_24</th>\n",
       "      <th>hist_25</th>\n",
       "      <th>hist_26</th>\n",
       "      <th>hist_27</th>\n",
       "      <th>hist_28</th>\n",
       "      <th>hist_29</th>\n",
       "      <th>hist_30</th>\n",
       "      <th>height_px</th>\n",
       "      <th>width_px</th>\n",
       "      <th>height_width_ratio</th>\n",
       "    </tr>\n",
       "  </thead>\n",
       "  <tbody>\n",
       "    <tr>\n",
       "      <th>0</th>\n",
       "      <td>444</td>\n",
       "      <td>12077</td>\n",
       "      <td>7603</td>\n",
       "      <td>1687</td>\n",
       "      <td>587</td>\n",
       "      <td>348</td>\n",
       "      <td>403</td>\n",
       "      <td>538</td>\n",
       "      <td>671</td>\n",
       "      <td>959</td>\n",
       "      <td>...</td>\n",
       "      <td>69539</td>\n",
       "      <td>24143</td>\n",
       "      <td>46874</td>\n",
       "      <td>97427</td>\n",
       "      <td>117568</td>\n",
       "      <td>102332</td>\n",
       "      <td>79799</td>\n",
       "      <td>555.0</td>\n",
       "      <td>800.0</td>\n",
       "      <td>0.69375</td>\n",
       "    </tr>\n",
       "  </tbody>\n",
       "</table>\n",
       "<p>1 rows × 35 columns</p>\n",
       "</div>"
      ],
      "text/plain": [
       "   author_id  painting_id  hist_01  hist_02  hist_03  hist_04  hist_05  \\\n",
       "0        444        12077     7603     1687      587      348      403   \n",
       "\n",
       "   hist_06  hist_07  hist_08         ...          hist_24  hist_25  hist_26  \\\n",
       "0      538      671      959         ...            69539    24143    46874   \n",
       "\n",
       "   hist_27  hist_28  hist_29  hist_30  height_px  width_px  height_width_ratio  \n",
       "0    97427   117568   102332    79799      555.0     800.0             0.69375  \n",
       "\n",
       "[1 rows x 35 columns]"
      ]
     },
     "execution_count": 29,
     "metadata": {},
     "output_type": "execute_result"
    }
   ],
   "source": [
    "color_hist_size_206552.head(1)"
   ]
  },
  {
   "cell_type": "code",
   "execution_count": 30,
   "metadata": {
    "collapsed": false
   },
   "outputs": [],
   "source": [
    "color_hist_size_206552.to_csv('data/color_hist_size_206552.csv', index=False)"
   ]
  },
  {
   "cell_type": "code",
   "execution_count": null,
   "metadata": {
    "collapsed": true
   },
   "outputs": [],
   "source": []
  },
  {
   "cell_type": "markdown",
   "metadata": {},
   "source": [
    "============================================================================================\n",
    "\n",
    "# Prepare Data 3rd pca + kmeans + NN\n",
    "\n",
    "============================================================================================"
   ]
  },
  {
   "cell_type": "code",
   "execution_count": 32,
   "metadata": {
    "collapsed": false
   },
   "outputs": [
    {
     "name": "stdout",
     "output_type": "stream",
     "text": [
      "[INFO] The size of test data: (12473, 12)\n",
      "[INFO] The size of train data: (49890, 12)\n",
      "[INFO] The size of color histogram: (206552, 36)\n"
     ]
    },
    {
     "data": {
      "text/html": [
       "<div>\n",
       "<table border=\"1\" class=\"dataframe\">\n",
       "  <thead>\n",
       "    <tr style=\"text-align: right;\">\n",
       "      <th></th>\n",
       "      <th>author_id</th>\n",
       "      <th>painting_id</th>\n",
       "      <th>hist_01</th>\n",
       "      <th>hist_02</th>\n",
       "      <th>hist_03</th>\n",
       "      <th>hist_04</th>\n",
       "      <th>hist_05</th>\n",
       "      <th>hist_06</th>\n",
       "      <th>hist_07</th>\n",
       "      <th>hist_08</th>\n",
       "      <th>...</th>\n",
       "      <th>hist_25</th>\n",
       "      <th>hist_26</th>\n",
       "      <th>hist_27</th>\n",
       "      <th>hist_28</th>\n",
       "      <th>hist_29</th>\n",
       "      <th>hist_30</th>\n",
       "      <th>height_px</th>\n",
       "      <th>width_px</th>\n",
       "      <th>height_width_ratio</th>\n",
       "      <th>kmeans_labels</th>\n",
       "    </tr>\n",
       "  </thead>\n",
       "  <tbody>\n",
       "    <tr>\n",
       "      <th>0</th>\n",
       "      <td>444</td>\n",
       "      <td>12077</td>\n",
       "      <td>7603</td>\n",
       "      <td>1687</td>\n",
       "      <td>587</td>\n",
       "      <td>348</td>\n",
       "      <td>403</td>\n",
       "      <td>538</td>\n",
       "      <td>671</td>\n",
       "      <td>959</td>\n",
       "      <td>...</td>\n",
       "      <td>24143</td>\n",
       "      <td>46874</td>\n",
       "      <td>97427</td>\n",
       "      <td>117568</td>\n",
       "      <td>102332</td>\n",
       "      <td>79799</td>\n",
       "      <td>555.0</td>\n",
       "      <td>800.0</td>\n",
       "      <td>0.693750</td>\n",
       "      <td>6</td>\n",
       "    </tr>\n",
       "    <tr>\n",
       "      <th>1</th>\n",
       "      <td>444</td>\n",
       "      <td>11653</td>\n",
       "      <td>141479</td>\n",
       "      <td>107241</td>\n",
       "      <td>3576</td>\n",
       "      <td>1031</td>\n",
       "      <td>1010</td>\n",
       "      <td>3886</td>\n",
       "      <td>568</td>\n",
       "      <td>2650</td>\n",
       "      <td>...</td>\n",
       "      <td>46843</td>\n",
       "      <td>25371</td>\n",
       "      <td>63071</td>\n",
       "      <td>67621</td>\n",
       "      <td>69665</td>\n",
       "      <td>480656</td>\n",
       "      <td>742.0</td>\n",
       "      <td>952.0</td>\n",
       "      <td>0.779412</td>\n",
       "      <td>0</td>\n",
       "    </tr>\n",
       "    <tr>\n",
       "      <th>2</th>\n",
       "      <td>444</td>\n",
       "      <td>12097</td>\n",
       "      <td>1429</td>\n",
       "      <td>713</td>\n",
       "      <td>600</td>\n",
       "      <td>581</td>\n",
       "      <td>1362</td>\n",
       "      <td>3304</td>\n",
       "      <td>8280</td>\n",
       "      <td>16148</td>\n",
       "      <td>...</td>\n",
       "      <td>51343</td>\n",
       "      <td>77403</td>\n",
       "      <td>128000</td>\n",
       "      <td>147619</td>\n",
       "      <td>172075</td>\n",
       "      <td>150541</td>\n",
       "      <td>941.0</td>\n",
       "      <td>718.0</td>\n",
       "      <td>1.310585</td>\n",
       "      <td>6</td>\n",
       "    </tr>\n",
       "  </tbody>\n",
       "</table>\n",
       "<p>3 rows × 36 columns</p>\n",
       "</div>"
      ],
      "text/plain": [
       "   author_id  painting_id  hist_01  hist_02  hist_03  hist_04  hist_05  \\\n",
       "0        444        12077     7603     1687      587      348      403   \n",
       "1        444        11653   141479   107241     3576     1031     1010   \n",
       "2        444        12097     1429      713      600      581     1362   \n",
       "\n",
       "   hist_06  hist_07  hist_08      ...        hist_25  hist_26  hist_27  \\\n",
       "0      538      671      959      ...          24143    46874    97427   \n",
       "1     3886      568     2650      ...          46843    25371    63071   \n",
       "2     3304     8280    16148      ...          51343    77403   128000   \n",
       "\n",
       "   hist_28  hist_29  hist_30  height_px  width_px  height_width_ratio  \\\n",
       "0   117568   102332    79799      555.0     800.0            0.693750   \n",
       "1    67621    69665   480656      742.0     952.0            0.779412   \n",
       "2   147619   172075   150541      941.0     718.0            1.310585   \n",
       "\n",
       "   kmeans_labels  \n",
       "0              6  \n",
       "1              0  \n",
       "2              6  \n",
       "\n",
       "[3 rows x 36 columns]"
      ]
     },
     "execution_count": 32,
     "metadata": {},
     "output_type": "execute_result"
    }
   ],
   "source": [
    "test_author200 = pd.read_csv('data/test_author200.csv')\n",
    "train_author200 = pd.read_csv('data/train_author200.csv')\n",
    "color_hist_kmeans = pd.read_csv('data/color_hist_kmeans_206552.csv')\n",
    "\n",
    "print \"[INFO] The size of test data: \" + str(test_author200.shape)\n",
    "print \"[INFO] The size of train data: \" + str(train_author200.shape)\n",
    "print \"[INFO] The size of color histogram: \" + str(color_hist_kmeans.shape)\n",
    "color_hist_kmeans.head(3)"
   ]
  },
  {
   "cell_type": "code",
   "execution_count": 86,
   "metadata": {
    "collapsed": false
   },
   "outputs": [
    {
     "name": "stdout",
     "output_type": "stream",
     "text": [
      "[INFO] The size of 3rd train set (49890, 36)\n"
     ]
    },
    {
     "data": {
      "text/html": [
       "<div>\n",
       "<table border=\"1\" class=\"dataframe\">\n",
       "  <thead>\n",
       "    <tr style=\"text-align: right;\">\n",
       "      <th></th>\n",
       "      <th>author_id</th>\n",
       "      <th>painting_id</th>\n",
       "      <th>hist_01</th>\n",
       "      <th>hist_02</th>\n",
       "      <th>hist_03</th>\n",
       "      <th>hist_04</th>\n",
       "      <th>hist_05</th>\n",
       "      <th>hist_06</th>\n",
       "      <th>hist_07</th>\n",
       "      <th>hist_08</th>\n",
       "      <th>...</th>\n",
       "      <th>hist_25</th>\n",
       "      <th>hist_26</th>\n",
       "      <th>hist_27</th>\n",
       "      <th>hist_28</th>\n",
       "      <th>hist_29</th>\n",
       "      <th>hist_30</th>\n",
       "      <th>height_px</th>\n",
       "      <th>width_px</th>\n",
       "      <th>height_width_ratio</th>\n",
       "      <th>kmeans_labels</th>\n",
       "    </tr>\n",
       "  </thead>\n",
       "  <tbody>\n",
       "    <tr>\n",
       "      <th>0</th>\n",
       "      <td>444</td>\n",
       "      <td>11653</td>\n",
       "      <td>141479</td>\n",
       "      <td>107241</td>\n",
       "      <td>3576</td>\n",
       "      <td>1031</td>\n",
       "      <td>1010</td>\n",
       "      <td>3886</td>\n",
       "      <td>568</td>\n",
       "      <td>2650</td>\n",
       "      <td>...</td>\n",
       "      <td>46843</td>\n",
       "      <td>25371</td>\n",
       "      <td>63071</td>\n",
       "      <td>67621</td>\n",
       "      <td>69665</td>\n",
       "      <td>480656</td>\n",
       "      <td>742.0</td>\n",
       "      <td>952.0</td>\n",
       "      <td>0.779412</td>\n",
       "      <td>0</td>\n",
       "    </tr>\n",
       "    <tr>\n",
       "      <th>1</th>\n",
       "      <td>444</td>\n",
       "      <td>12097</td>\n",
       "      <td>1429</td>\n",
       "      <td>713</td>\n",
       "      <td>600</td>\n",
       "      <td>581</td>\n",
       "      <td>1362</td>\n",
       "      <td>3304</td>\n",
       "      <td>8280</td>\n",
       "      <td>16148</td>\n",
       "      <td>...</td>\n",
       "      <td>51343</td>\n",
       "      <td>77403</td>\n",
       "      <td>128000</td>\n",
       "      <td>147619</td>\n",
       "      <td>172075</td>\n",
       "      <td>150541</td>\n",
       "      <td>941.0</td>\n",
       "      <td>718.0</td>\n",
       "      <td>1.310585</td>\n",
       "      <td>6</td>\n",
       "    </tr>\n",
       "  </tbody>\n",
       "</table>\n",
       "<p>2 rows × 36 columns</p>\n",
       "</div>"
      ],
      "text/plain": [
       "   author_id  painting_id  hist_01  hist_02  hist_03  hist_04  hist_05  \\\n",
       "0        444        11653   141479   107241     3576     1031     1010   \n",
       "1        444        12097     1429      713      600      581     1362   \n",
       "\n",
       "   hist_06  hist_07  hist_08      ...        hist_25  hist_26  hist_27  \\\n",
       "0     3886      568     2650      ...          46843    25371    63071   \n",
       "1     3304     8280    16148      ...          51343    77403   128000   \n",
       "\n",
       "   hist_28  hist_29  hist_30  height_px  width_px  height_width_ratio  \\\n",
       "0    67621    69665   480656      742.0     952.0            0.779412   \n",
       "1   147619   172075   150541      941.0     718.0            1.310585   \n",
       "\n",
       "   kmeans_labels  \n",
       "0              0  \n",
       "1              6  \n",
       "\n",
       "[2 rows x 36 columns]"
      ]
     },
     "execution_count": 86,
     "metadata": {},
     "output_type": "execute_result"
    }
   ],
   "source": [
    "train_sub = pd.DataFrame(train_author200['painting_id'])\n",
    "train_hist = color_hist_kmeans.merge(train_sub, how = 'inner', on = 'painting_id')\n",
    "print \"[INFO] The size of 3rd train set \" + str(train_hist.shape)\n",
    "train_hist.head(2)"
   ]
  },
  {
   "cell_type": "code",
   "execution_count": 87,
   "metadata": {
    "collapsed": false
   },
   "outputs": [
    {
     "name": "stdout",
     "output_type": "stream",
     "text": [
      "[INFO] The size of 3rd test set (12473, 36)\n"
     ]
    },
    {
     "data": {
      "text/html": [
       "<div>\n",
       "<table border=\"1\" class=\"dataframe\">\n",
       "  <thead>\n",
       "    <tr style=\"text-align: right;\">\n",
       "      <th></th>\n",
       "      <th>author_id</th>\n",
       "      <th>painting_id</th>\n",
       "      <th>hist_01</th>\n",
       "      <th>hist_02</th>\n",
       "      <th>hist_03</th>\n",
       "      <th>hist_04</th>\n",
       "      <th>hist_05</th>\n",
       "      <th>hist_06</th>\n",
       "      <th>hist_07</th>\n",
       "      <th>hist_08</th>\n",
       "      <th>...</th>\n",
       "      <th>hist_25</th>\n",
       "      <th>hist_26</th>\n",
       "      <th>hist_27</th>\n",
       "      <th>hist_28</th>\n",
       "      <th>hist_29</th>\n",
       "      <th>hist_30</th>\n",
       "      <th>height_px</th>\n",
       "      <th>width_px</th>\n",
       "      <th>height_width_ratio</th>\n",
       "      <th>kmeans_labels</th>\n",
       "    </tr>\n",
       "  </thead>\n",
       "  <tbody>\n",
       "    <tr>\n",
       "      <th>0</th>\n",
       "      <td>444</td>\n",
       "      <td>12077</td>\n",
       "      <td>7603</td>\n",
       "      <td>1687</td>\n",
       "      <td>587</td>\n",
       "      <td>348</td>\n",
       "      <td>403</td>\n",
       "      <td>538</td>\n",
       "      <td>671</td>\n",
       "      <td>959</td>\n",
       "      <td>...</td>\n",
       "      <td>24143</td>\n",
       "      <td>46874</td>\n",
       "      <td>97427</td>\n",
       "      <td>117568</td>\n",
       "      <td>102332</td>\n",
       "      <td>79799</td>\n",
       "      <td>555.0</td>\n",
       "      <td>800.0</td>\n",
       "      <td>0.693750</td>\n",
       "      <td>6</td>\n",
       "    </tr>\n",
       "    <tr>\n",
       "      <th>1</th>\n",
       "      <td>444</td>\n",
       "      <td>87820</td>\n",
       "      <td>18868</td>\n",
       "      <td>4502</td>\n",
       "      <td>1403</td>\n",
       "      <td>696</td>\n",
       "      <td>672</td>\n",
       "      <td>763</td>\n",
       "      <td>857</td>\n",
       "      <td>1430</td>\n",
       "      <td>...</td>\n",
       "      <td>17879</td>\n",
       "      <td>17396</td>\n",
       "      <td>139326</td>\n",
       "      <td>225701</td>\n",
       "      <td>318966</td>\n",
       "      <td>413491</td>\n",
       "      <td>871.0</td>\n",
       "      <td>1280.0</td>\n",
       "      <td>0.680469</td>\n",
       "      <td>0</td>\n",
       "    </tr>\n",
       "  </tbody>\n",
       "</table>\n",
       "<p>2 rows × 36 columns</p>\n",
       "</div>"
      ],
      "text/plain": [
       "   author_id  painting_id  hist_01  hist_02  hist_03  hist_04  hist_05  \\\n",
       "0        444        12077     7603     1687      587      348      403   \n",
       "1        444        87820    18868     4502     1403      696      672   \n",
       "\n",
       "   hist_06  hist_07  hist_08      ...        hist_25  hist_26  hist_27  \\\n",
       "0      538      671      959      ...          24143    46874    97427   \n",
       "1      763      857     1430      ...          17879    17396   139326   \n",
       "\n",
       "   hist_28  hist_29  hist_30  height_px  width_px  height_width_ratio  \\\n",
       "0   117568   102332    79799      555.0     800.0            0.693750   \n",
       "1   225701   318966   413491      871.0    1280.0            0.680469   \n",
       "\n",
       "   kmeans_labels  \n",
       "0              6  \n",
       "1              0  \n",
       "\n",
       "[2 rows x 36 columns]"
      ]
     },
     "execution_count": 87,
     "metadata": {},
     "output_type": "execute_result"
    }
   ],
   "source": [
    "test_sub = pd.DataFrame(test_author200['painting_id'])\n",
    "test_hist = color_hist_kmeans.merge(test_sub, how = 'inner', on = 'painting_id')\n",
    "print \"[INFO] The size of 3rd test set \" + str(test_hist.shape)\n",
    "test_hist.head(2)"
   ]
  },
  {
   "cell_type": "code",
   "execution_count": 88,
   "metadata": {
    "collapsed": false
   },
   "outputs": [
    {
     "data": {
      "text/html": [
       "<div>\n",
       "<table border=\"1\" class=\"dataframe\">\n",
       "  <thead>\n",
       "    <tr style=\"text-align: right;\">\n",
       "      <th></th>\n",
       "      <th>author_id</th>\n",
       "      <th>painting_id</th>\n",
       "      <th>hist_01</th>\n",
       "      <th>hist_02</th>\n",
       "      <th>hist_03</th>\n",
       "      <th>hist_04</th>\n",
       "      <th>hist_05</th>\n",
       "      <th>hist_06</th>\n",
       "      <th>hist_07</th>\n",
       "      <th>hist_08</th>\n",
       "      <th>...</th>\n",
       "      <th>hist_22</th>\n",
       "      <th>hist_23</th>\n",
       "      <th>hist_24</th>\n",
       "      <th>hist_25</th>\n",
       "      <th>hist_26</th>\n",
       "      <th>hist_27</th>\n",
       "      <th>hist_28</th>\n",
       "      <th>hist_29</th>\n",
       "      <th>hist_30</th>\n",
       "      <th>height_width_ratio</th>\n",
       "    </tr>\n",
       "  </thead>\n",
       "  <tbody>\n",
       "    <tr>\n",
       "      <th>0</th>\n",
       "      <td>444</td>\n",
       "      <td>12077</td>\n",
       "      <td>7603</td>\n",
       "      <td>1687</td>\n",
       "      <td>587</td>\n",
       "      <td>348</td>\n",
       "      <td>403</td>\n",
       "      <td>538</td>\n",
       "      <td>671</td>\n",
       "      <td>959</td>\n",
       "      <td>...</td>\n",
       "      <td>83566</td>\n",
       "      <td>99139</td>\n",
       "      <td>69539</td>\n",
       "      <td>24143</td>\n",
       "      <td>46874</td>\n",
       "      <td>97427</td>\n",
       "      <td>117568</td>\n",
       "      <td>102332</td>\n",
       "      <td>79799</td>\n",
       "      <td>0.69375</td>\n",
       "    </tr>\n",
       "  </tbody>\n",
       "</table>\n",
       "<p>1 rows × 33 columns</p>\n",
       "</div>"
      ],
      "text/plain": [
       "   author_id  painting_id  hist_01  hist_02  hist_03  hist_04  hist_05  \\\n",
       "0        444        12077     7603     1687      587      348      403   \n",
       "\n",
       "   hist_06  hist_07  hist_08         ...          hist_22  hist_23  hist_24  \\\n",
       "0      538      671      959         ...            83566    99139    69539   \n",
       "\n",
       "   hist_25  hist_26  hist_27  hist_28  hist_29  hist_30  height_width_ratio  \n",
       "0    24143    46874    97427   117568   102332    79799             0.69375  \n",
       "\n",
       "[1 rows x 33 columns]"
      ]
     },
     "execution_count": 88,
     "metadata": {},
     "output_type": "execute_result"
    }
   ],
   "source": [
    "train_hist = train_hist.drop(['height_px', 'width_px', 'kmeans_labels'], axis=1)\n",
    "test_hist = test_hist.drop(['height_px', 'width_px', 'kmeans_labels'], axis=1)\n",
    "test_hist.head(1)"
   ]
  },
  {
   "cell_type": "code",
   "execution_count": 100,
   "metadata": {
    "collapsed": false
   },
   "outputs": [
    {
     "data": {
      "text/html": [
       "<div>\n",
       "<table border=\"1\" class=\"dataframe\">\n",
       "  <thead>\n",
       "    <tr style=\"text-align: right;\">\n",
       "      <th></th>\n",
       "      <th>0</th>\n",
       "      <th>1</th>\n",
       "      <th>2</th>\n",
       "      <th>3</th>\n",
       "      <th>4</th>\n",
       "      <th>5</th>\n",
       "      <th>6</th>\n",
       "      <th>7</th>\n",
       "      <th>8</th>\n",
       "      <th>9</th>\n",
       "      <th>10</th>\n",
       "      <th>11</th>\n",
       "      <th>12</th>\n",
       "      <th>13</th>\n",
       "      <th>14</th>\n",
       "      <th>15</th>\n",
       "      <th>16</th>\n",
       "      <th>17</th>\n",
       "      <th>18</th>\n",
       "      <th>19</th>\n",
       "    </tr>\n",
       "  </thead>\n",
       "  <tbody>\n",
       "    <tr>\n",
       "      <th>0</th>\n",
       "      <td>-386277.953668</td>\n",
       "      <td>-45186.81012</td>\n",
       "      <td>-26079.142204</td>\n",
       "      <td>-38646.498522</td>\n",
       "      <td>35962.104708</td>\n",
       "      <td>-7930.620972</td>\n",
       "      <td>-64150.202933</td>\n",
       "      <td>-21410.705819</td>\n",
       "      <td>-21971.626999</td>\n",
       "      <td>-20419.46059</td>\n",
       "      <td>17066.833942</td>\n",
       "      <td>7246.74219</td>\n",
       "      <td>1269.983856</td>\n",
       "      <td>39346.493735</td>\n",
       "      <td>-2047.62402</td>\n",
       "      <td>-588.127104</td>\n",
       "      <td>14072.253562</td>\n",
       "      <td>2401.983214</td>\n",
       "      <td>17298.894825</td>\n",
       "      <td>-1009.90643</td>\n",
       "    </tr>\n",
       "  </tbody>\n",
       "</table>\n",
       "</div>"
      ],
      "text/plain": [
       "              0            1             2             3             4   \\\n",
       "0 -386277.953668 -45186.81012 -26079.142204 -38646.498522  35962.104708   \n",
       "\n",
       "            5             6             7             8            9   \\\n",
       "0 -7930.620972 -64150.202933 -21410.705819 -21971.626999 -20419.46059   \n",
       "\n",
       "             10          11           12            13          14  \\\n",
       "0  17066.833942  7246.74219  1269.983856  39346.493735 -2047.62402   \n",
       "\n",
       "           15            16           17            18          19  \n",
       "0 -588.127104  14072.253562  2401.983214  17298.894825 -1009.90643  "
      ]
     },
     "execution_count": 100,
     "metadata": {},
     "output_type": "execute_result"
    }
   ],
   "source": [
    "## Get 15 principal components\n",
    "pca = PCA(n_components=20)\n",
    "pca.fit(train_hist.iloc[:, 2:])\n",
    "pca_transformed_train = pd.DataFrame(pca.transform(train_hist.iloc[:, 2:]))\n",
    "pca_transformed_test = pd.DataFrame(pca.transform(test_hist.iloc[:, 2:]))\n",
    "pca_transformed_test.head(1)"
   ]
  },
  {
   "cell_type": "code",
   "execution_count": 101,
   "metadata": {
    "collapsed": false
   },
   "outputs": [
    {
     "data": {
      "text/plain": [
       "20"
      ]
     },
     "execution_count": 101,
     "metadata": {},
     "output_type": "execute_result"
    }
   ],
   "source": [
    "columns_name = [\"pca_%02d\" % i for i in range(pca_transformed.shape[1])]\n",
    "len(columns_name)"
   ]
  },
  {
   "cell_type": "code",
   "execution_count": 105,
   "metadata": {
    "collapsed": false
   },
   "outputs": [
    {
     "data": {
      "text/html": [
       "<div>\n",
       "<table border=\"1\" class=\"dataframe\">\n",
       "  <thead>\n",
       "    <tr style=\"text-align: right;\">\n",
       "      <th></th>\n",
       "      <th>pca_00</th>\n",
       "      <th>pca_01</th>\n",
       "      <th>pca_02</th>\n",
       "      <th>pca_03</th>\n",
       "      <th>pca_04</th>\n",
       "      <th>pca_05</th>\n",
       "      <th>pca_06</th>\n",
       "      <th>pca_07</th>\n",
       "      <th>pca_08</th>\n",
       "      <th>pca_09</th>\n",
       "      <th>pca_10</th>\n",
       "      <th>pca_11</th>\n",
       "      <th>pca_12</th>\n",
       "      <th>pca_13</th>\n",
       "      <th>pca_14</th>\n",
       "      <th>pca_15</th>\n",
       "      <th>pca_16</th>\n",
       "      <th>pca_17</th>\n",
       "      <th>pca_18</th>\n",
       "      <th>pca_19</th>\n",
       "    </tr>\n",
       "  </thead>\n",
       "  <tbody>\n",
       "    <tr>\n",
       "      <th>0</th>\n",
       "      <td>-386277.953668</td>\n",
       "      <td>-45186.81012</td>\n",
       "      <td>-26079.142204</td>\n",
       "      <td>-38646.498522</td>\n",
       "      <td>35962.104708</td>\n",
       "      <td>-7930.620972</td>\n",
       "      <td>-64150.202933</td>\n",
       "      <td>-21410.705819</td>\n",
       "      <td>-21971.626999</td>\n",
       "      <td>-20419.46059</td>\n",
       "      <td>17066.833942</td>\n",
       "      <td>7246.74219</td>\n",
       "      <td>1269.983856</td>\n",
       "      <td>39346.493735</td>\n",
       "      <td>-2047.62402</td>\n",
       "      <td>-588.127104</td>\n",
       "      <td>14072.253562</td>\n",
       "      <td>2401.983214</td>\n",
       "      <td>17298.894825</td>\n",
       "      <td>-1009.90643</td>\n",
       "    </tr>\n",
       "  </tbody>\n",
       "</table>\n",
       "</div>"
      ],
      "text/plain": [
       "          pca_00       pca_01        pca_02        pca_03        pca_04  \\\n",
       "0 -386277.953668 -45186.81012 -26079.142204 -38646.498522  35962.104708   \n",
       "\n",
       "        pca_05        pca_06        pca_07        pca_08       pca_09  \\\n",
       "0 -7930.620972 -64150.202933 -21410.705819 -21971.626999 -20419.46059   \n",
       "\n",
       "         pca_10      pca_11       pca_12        pca_13      pca_14  \\\n",
       "0  17066.833942  7246.74219  1269.983856  39346.493735 -2047.62402   \n",
       "\n",
       "       pca_15        pca_16       pca_17        pca_18      pca_19  \n",
       "0 -588.127104  14072.253562  2401.983214  17298.894825 -1009.90643  "
      ]
     },
     "execution_count": 105,
     "metadata": {},
     "output_type": "execute_result"
    }
   ],
   "source": [
    "pca_transformed_train.columns = columns_name\n",
    "pca_transformed_test.columns = columns_name\n",
    "\n",
    "pca_transformed_test.head(1)"
   ]
  },
  {
   "cell_type": "code",
   "execution_count": 106,
   "metadata": {
    "collapsed": false
   },
   "outputs": [
    {
     "data": {
      "text/html": [
       "<div>\n",
       "<table border=\"1\" class=\"dataframe\">\n",
       "  <thead>\n",
       "    <tr style=\"text-align: right;\">\n",
       "      <th></th>\n",
       "      <th>pca_00</th>\n",
       "      <th>pca_01</th>\n",
       "      <th>pca_02</th>\n",
       "      <th>pca_03</th>\n",
       "      <th>pca_04</th>\n",
       "      <th>pca_05</th>\n",
       "      <th>pca_06</th>\n",
       "      <th>pca_07</th>\n",
       "      <th>pca_08</th>\n",
       "      <th>pca_09</th>\n",
       "      <th>...</th>\n",
       "      <th>pca_11</th>\n",
       "      <th>pca_12</th>\n",
       "      <th>pca_13</th>\n",
       "      <th>pca_14</th>\n",
       "      <th>pca_15</th>\n",
       "      <th>pca_16</th>\n",
       "      <th>pca_17</th>\n",
       "      <th>pca_18</th>\n",
       "      <th>pca_19</th>\n",
       "      <th>kmeans_labels</th>\n",
       "    </tr>\n",
       "  </thead>\n",
       "  <tbody>\n",
       "    <tr>\n",
       "      <th>0</th>\n",
       "      <td>-386277.953668</td>\n",
       "      <td>-45186.81012</td>\n",
       "      <td>-26079.142204</td>\n",
       "      <td>-38646.498522</td>\n",
       "      <td>35962.104708</td>\n",
       "      <td>-7930.620972</td>\n",
       "      <td>-64150.202933</td>\n",
       "      <td>-21410.705819</td>\n",
       "      <td>-21971.626999</td>\n",
       "      <td>-20419.46059</td>\n",
       "      <td>...</td>\n",
       "      <td>7246.74219</td>\n",
       "      <td>1269.983856</td>\n",
       "      <td>39346.493735</td>\n",
       "      <td>-2047.62402</td>\n",
       "      <td>-588.127104</td>\n",
       "      <td>14072.253562</td>\n",
       "      <td>2401.983214</td>\n",
       "      <td>17298.894825</td>\n",
       "      <td>-1009.90643</td>\n",
       "      <td>6</td>\n",
       "    </tr>\n",
       "  </tbody>\n",
       "</table>\n",
       "<p>1 rows × 21 columns</p>\n",
       "</div>"
      ],
      "text/plain": [
       "          pca_00       pca_01        pca_02        pca_03        pca_04  \\\n",
       "0 -386277.953668 -45186.81012 -26079.142204 -38646.498522  35962.104708   \n",
       "\n",
       "        pca_05        pca_06        pca_07        pca_08       pca_09  \\\n",
       "0 -7930.620972 -64150.202933 -21410.705819 -21971.626999 -20419.46059   \n",
       "\n",
       "       ...            pca_11       pca_12        pca_13      pca_14  \\\n",
       "0      ...        7246.74219  1269.983856  39346.493735 -2047.62402   \n",
       "\n",
       "       pca_15        pca_16       pca_17        pca_18      pca_19  \\\n",
       "0 -588.127104  14072.253562  2401.983214  17298.894825 -1009.90643   \n",
       "\n",
       "   kmeans_labels  \n",
       "0              6  \n",
       "\n",
       "[1 rows x 21 columns]"
      ]
     },
     "execution_count": 106,
     "metadata": {},
     "output_type": "execute_result"
    }
   ],
   "source": [
    "pca_transformed_train['kmeans_labels'] = color_hist_kmeans['kmeans_labels']\n",
    "pca_transformed_test['kmeans_labels'] = color_hist_kmeans['kmeans_labels']\n",
    "pca_transformed_test.head(1)"
   ]
  },
  {
   "cell_type": "code",
   "execution_count": 111,
   "metadata": {
    "collapsed": false
   },
   "outputs": [
    {
     "data": {
      "text/html": [
       "<div>\n",
       "<table border=\"1\" class=\"dataframe\">\n",
       "  <thead>\n",
       "    <tr style=\"text-align: right;\">\n",
       "      <th></th>\n",
       "      <th>author_id</th>\n",
       "      <th>painting_id</th>\n",
       "      <th>hist_01</th>\n",
       "      <th>hist_02</th>\n",
       "      <th>hist_03</th>\n",
       "      <th>hist_04</th>\n",
       "      <th>hist_05</th>\n",
       "      <th>hist_06</th>\n",
       "      <th>hist_07</th>\n",
       "      <th>hist_08</th>\n",
       "      <th>...</th>\n",
       "      <th>hist_22</th>\n",
       "      <th>hist_23</th>\n",
       "      <th>hist_24</th>\n",
       "      <th>hist_25</th>\n",
       "      <th>hist_26</th>\n",
       "      <th>hist_27</th>\n",
       "      <th>hist_28</th>\n",
       "      <th>hist_29</th>\n",
       "      <th>hist_30</th>\n",
       "      <th>height_width_ratio</th>\n",
       "    </tr>\n",
       "  </thead>\n",
       "  <tbody>\n",
       "    <tr>\n",
       "      <th>0</th>\n",
       "      <td>444</td>\n",
       "      <td>11653</td>\n",
       "      <td>141479</td>\n",
       "      <td>107241</td>\n",
       "      <td>3576</td>\n",
       "      <td>1031</td>\n",
       "      <td>1010</td>\n",
       "      <td>3886</td>\n",
       "      <td>568</td>\n",
       "      <td>2650</td>\n",
       "      <td>...</td>\n",
       "      <td>117472</td>\n",
       "      <td>144006</td>\n",
       "      <td>99116</td>\n",
       "      <td>46843</td>\n",
       "      <td>25371</td>\n",
       "      <td>63071</td>\n",
       "      <td>67621</td>\n",
       "      <td>69665</td>\n",
       "      <td>480656</td>\n",
       "      <td>0.779412</td>\n",
       "    </tr>\n",
       "  </tbody>\n",
       "</table>\n",
       "<p>1 rows × 33 columns</p>\n",
       "</div>"
      ],
      "text/plain": [
       "   author_id  painting_id  hist_01  hist_02  hist_03  hist_04  hist_05  \\\n",
       "0        444        11653   141479   107241     3576     1031     1010   \n",
       "\n",
       "   hist_06  hist_07  hist_08         ...          hist_22  hist_23  hist_24  \\\n",
       "0     3886      568     2650         ...           117472   144006    99116   \n",
       "\n",
       "   hist_25  hist_26  hist_27  hist_28  hist_29  hist_30  height_width_ratio  \n",
       "0    46843    25371    63071    67621    69665   480656            0.779412  \n",
       "\n",
       "[1 rows x 33 columns]"
      ]
     },
     "execution_count": 111,
     "metadata": {},
     "output_type": "execute_result"
    }
   ],
   "source": [
    "train_hist.head(1)"
   ]
  },
  {
   "cell_type": "code",
   "execution_count": 114,
   "metadata": {
    "collapsed": false
   },
   "outputs": [
    {
     "name": "stdout",
     "output_type": "stream",
     "text": [
      "(49890, 54)\n"
     ]
    },
    {
     "data": {
      "text/plain": [
       "Index([u'author_id', u'painting_id', u'hist_01', u'hist_02', u'hist_03',\n",
       "       u'hist_04', u'hist_05', u'hist_06', u'hist_07', u'hist_08', u'hist_09',\n",
       "       u'hist_10', u'hist_11', u'hist_12', u'hist_13', u'hist_14', u'hist_15',\n",
       "       u'hist_16', u'hist_17', u'hist_18', u'hist_19', u'hist_20', u'hist_21',\n",
       "       u'hist_22', u'hist_23', u'hist_24', u'hist_25', u'hist_26', u'hist_27',\n",
       "       u'hist_28', u'hist_29', u'hist_30', u'height_width_ratio', u'pca_00',\n",
       "       u'pca_01', u'pca_02', u'pca_03', u'pca_04', u'pca_05', u'pca_06',\n",
       "       u'pca_07', u'pca_08', u'pca_09', u'pca_10', u'pca_11', u'pca_12',\n",
       "       u'pca_13', u'pca_14', u'pca_15', u'pca_16', u'pca_17', u'pca_18',\n",
       "       u'pca_19', u'kmeans_labels'],\n",
       "      dtype='object')"
      ]
     },
     "execution_count": 114,
     "metadata": {},
     "output_type": "execute_result"
    }
   ],
   "source": [
    "pca_kmean_train = pd.concat([train_hist.reset_index(drop=True), pca_transformed_train], axis=1 )\n",
    "print pca_kmean_train.shape\n",
    "pca_kmean_train.columns"
   ]
  },
  {
   "cell_type": "code",
   "execution_count": 115,
   "metadata": {
    "collapsed": false
   },
   "outputs": [
    {
     "name": "stdout",
     "output_type": "stream",
     "text": [
      "(12473, 54)\n"
     ]
    },
    {
     "data": {
      "text/plain": [
       "Index([u'author_id', u'painting_id', u'hist_01', u'hist_02', u'hist_03',\n",
       "       u'hist_04', u'hist_05', u'hist_06', u'hist_07', u'hist_08', u'hist_09',\n",
       "       u'hist_10', u'hist_11', u'hist_12', u'hist_13', u'hist_14', u'hist_15',\n",
       "       u'hist_16', u'hist_17', u'hist_18', u'hist_19', u'hist_20', u'hist_21',\n",
       "       u'hist_22', u'hist_23', u'hist_24', u'hist_25', u'hist_26', u'hist_27',\n",
       "       u'hist_28', u'hist_29', u'hist_30', u'height_width_ratio', u'pca_00',\n",
       "       u'pca_01', u'pca_02', u'pca_03', u'pca_04', u'pca_05', u'pca_06',\n",
       "       u'pca_07', u'pca_08', u'pca_09', u'pca_10', u'pca_11', u'pca_12',\n",
       "       u'pca_13', u'pca_14', u'pca_15', u'pca_16', u'pca_17', u'pca_18',\n",
       "       u'pca_19', u'kmeans_labels'],\n",
       "      dtype='object')"
      ]
     },
     "execution_count": 115,
     "metadata": {},
     "output_type": "execute_result"
    }
   ],
   "source": [
    "pca_kmean_test = pd.concat([test_hist.reset_index(drop=True), pca_transformed_test], axis=1 )\n",
    "print pca_kmean_test.shape\n",
    "pca_kmean_test.columns"
   ]
  },
  {
   "cell_type": "code",
   "execution_count": 116,
   "metadata": {
    "collapsed": false
   },
   "outputs": [],
   "source": [
    "pd.DataFrame(pca_kmean_train).to_csv('data/pca20_kmeans_train.csv', index=False)\n",
    "pd.DataFrame(pca_kmean_test).to_csv('data/pca20_kmeans_test.csv', index=False)\n"
   ]
  },
  {
   "cell_type": "code",
   "execution_count": null,
   "metadata": {
    "collapsed": true
   },
   "outputs": [],
   "source": []
  },
  {
   "cell_type": "code",
   "execution_count": null,
   "metadata": {
    "collapsed": true
   },
   "outputs": [],
   "source": []
  },
  {
   "cell_type": "code",
   "execution_count": 117,
   "metadata": {
    "collapsed": true
   },
   "outputs": [],
   "source": [
    "random_forest = ['random_forest', 0.686449060336, 0.668644906034]\n",
    "xgboost = ['xgboost', 0.79440870856, 0.71315529179]\n",
    "naive_bayes = ['naive_bayes', 0.59940652819, 0.623145400593]\n",
    "extra_tree = ['extra_tree', 0.673590504451, 0.660731948566]\n",
    "knn = ['knn', 0.705838693716, ]\n",
    "model_accuracy = pd.DataFrame([random_forest, xgboost, naive_bayes, extra_tree], columns=['model_name', 'color_hist', 'pca'])"
   ]
  },
  {
   "cell_type": "code",
   "execution_count": 118,
   "metadata": {
    "collapsed": true
   },
   "outputs": [],
   "source": [
    "model_accuracy.to_csv('data/model_accuracy.csv', index=False)"
   ]
  },
  {
   "cell_type": "code",
   "execution_count": null,
   "metadata": {
    "collapsed": false,
    "deletable": true,
    "editable": true
   },
   "outputs": [],
   "source": []
  }
 ],
 "metadata": {
  "kernelspec": {
   "display_name": "Python 2",
   "language": "python",
   "name": "python2"
  },
  "language_info": {
   "codemirror_mode": {
    "name": "ipython",
    "version": 2
   },
   "file_extension": ".py",
   "mimetype": "text/x-python",
   "name": "python",
   "nbconvert_exporter": "python",
   "pygments_lexer": "ipython2",
   "version": "2.7.9"
  }
 },
 "nbformat": 4,
 "nbformat_minor": 0
}
