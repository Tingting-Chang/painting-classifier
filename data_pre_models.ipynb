{
 "cells": [
  {
   "cell_type": "markdown",
   "metadata": {
    "deletable": true,
    "editable": true
   },
   "source": [
    "============================================================================================\n",
    "\n",
    "#Prepare Color Histogram & Sizes Data For KNN\n",
    "\n",
    "\n",
    "============================================================================================"
   ]
  },
  {
   "cell_type": "code",
   "execution_count": 2,
   "metadata": {
    "collapsed": false,
    "deletable": true,
    "editable": true
   },
   "outputs": [],
   "source": [
    "import warnings\n",
    "\n",
    "warnings.filterwarnings('ignore', category=DeprecationWarning)"
   ]
  },
  {
   "cell_type": "code",
   "execution_count": 4,
   "metadata": {
    "collapsed": false,
    "deletable": true,
    "editable": true
   },
   "outputs": [
    {
     "name": "stdout",
     "output_type": "stream",
     "text": [
      "athenaeum_authors_preview.csv\n",
      "athenaeum_painting_filtered.csv\n",
      "athenaeum_paintings.csv\n",
      "athenaeum_paintings_sizes.csv\n",
      "color_histograms.csv\n",
      "complete_data.csv\n",
      "images\n",
      "images_athenaeum\n",
      "images_sizes_2325.csv\n",
      "net_predicted.csv\n",
      "painter_info_clean.csv\n",
      "painting_info_clean.csv\n",
      "resized_200\n",
      "test_author200.csv\n",
      "test_data.csv\n",
      "train_author200.csv\n",
      "train_data.csv\n",
      "\n"
     ]
    }
   ],
   "source": [
    "import pandas as pd\n",
    "import numpy as np\n",
    "\n",
    "from subprocess import check_output\n",
    "print (check_output([\"ls\", \"data\"]).decode(\"utf-8\"))\n"
   ]
  },
  {
   "cell_type": "code",
   "execution_count": 38,
   "metadata": {
    "collapsed": false,
    "deletable": true,
    "editable": true
   },
   "outputs": [
    {
     "name": "stdout",
     "output_type": "stream",
     "text": [
      "[INFO] The size of test data: (12473, 12)\n",
      "[INFO] The size of train data: (49890, 12)\n",
      "[INFO] The size of color histogram: (206550, 32)\n"
     ]
    },
    {
     "data": {
      "text/html": [
       "<div style=\"max-width:1500px;overflow:auto;\">\n",
       "<table border=\"1\" class=\"dataframe\">\n",
       "  <thead>\n",
       "    <tr style=\"text-align: right;\">\n",
       "      <th></th>\n",
       "      <th>medium</th>\n",
       "      <th>painting_location</th>\n",
       "      <th>height</th>\n",
       "      <th>article_type</th>\n",
       "      <th>painting_url</th>\n",
       "      <th>painting_dates</th>\n",
       "      <th>painting_title</th>\n",
       "      <th>author_id</th>\n",
       "      <th>painting_id</th>\n",
       "      <th>width</th>\n",
       "      <th>height_px</th>\n",
       "      <th>width_px</th>\n",
       "    </tr>\n",
       "  </thead>\n",
       "  <tbody>\n",
       "    <tr>\n",
       "      <th>0</th>\n",
       "      <td>oil on canvas</td>\n",
       "      <td>Munch-museet  (Norway - Oslo)</td>\n",
       "      <td>90.0</td>\n",
       "      <td>Painting</td>\n",
       "      <td>http://www.the-athenaeum.org/art/display_image...</td>\n",
       "      <td>1907-1908</td>\n",
       "      <td>Mason and Mechanic</td>\n",
       "      <td>1793</td>\n",
       "      <td>52573</td>\n",
       "      <td>69.5</td>\n",
       "      <td>722</td>\n",
       "      <td>534</td>\n",
       "    </tr>\n",
       "    <tr>\n",
       "      <th>1</th>\n",
       "      <td>oil on canvas</td>\n",
       "      <td>Royal Botanic Gardens, Kew  (United Kingdom - ...</td>\n",
       "      <td>107.0</td>\n",
       "      <td>Painting</td>\n",
       "      <td>http://www.the-athenaeum.org/art/display_image...</td>\n",
       "      <td>circa 1880</td>\n",
       "      <td>A South African Sedge</td>\n",
       "      <td>9266</td>\n",
       "      <td>207890</td>\n",
       "      <td>45.0</td>\n",
       "      <td>944</td>\n",
       "      <td>384</td>\n",
       "    </tr>\n",
       "    <tr>\n",
       "      <th>2</th>\n",
       "      <td>oil on canvas</td>\n",
       "      <td>Watts Gallery - Compton (Surrey)  (United King...</td>\n",
       "      <td>137.0</td>\n",
       "      <td>Painting</td>\n",
       "      <td>http://www.the-athenaeum.org/art/display_image...</td>\n",
       "      <td>1849-1850</td>\n",
       "      <td>Under the Dry Arch</td>\n",
       "      <td>502</td>\n",
       "      <td>214715</td>\n",
       "      <td>101.5</td>\n",
       "      <td>944</td>\n",
       "      <td>677</td>\n",
       "    </tr>\n",
       "  </tbody>\n",
       "</table>\n",
       "</div>"
      ],
      "text/plain": [
       "          medium                                  painting_location  height  \\\n",
       "0  oil on canvas                      Munch-museet  (Norway - Oslo)    90.0   \n",
       "1  oil on canvas  Royal Botanic Gardens, Kew  (United Kingdom - ...   107.0   \n",
       "2  oil on canvas  Watts Gallery - Compton (Surrey)  (United King...   137.0   \n",
       "\n",
       "  article_type                                       painting_url  \\\n",
       "0     Painting  http://www.the-athenaeum.org/art/display_image...   \n",
       "1     Painting  http://www.the-athenaeum.org/art/display_image...   \n",
       "2     Painting  http://www.the-athenaeum.org/art/display_image...   \n",
       "\n",
       "  painting_dates         painting_title  author_id  painting_id  width  \\\n",
       "0      1907-1908     Mason and Mechanic       1793        52573   69.5   \n",
       "1     circa 1880  A South African Sedge       9266       207890   45.0   \n",
       "2      1849-1850     Under the Dry Arch        502       214715  101.5   \n",
       "\n",
       "   height_px  width_px  \n",
       "0        722       534  \n",
       "1        944       384  \n",
       "2        944       677  "
      ]
     },
     "execution_count": 38,
     "metadata": {},
     "output_type": "execute_result"
    }
   ],
   "source": [
    "test_author200 = pd.read_csv('data/test_author200.csv')\n",
    "train_author200 = pd.read_csv('data/train_author200.csv')\n",
    "color_hist = pd.read_csv('data/color_histograms.csv')\n",
    "\n",
    "print \"[INFO] The size of test data: \" + str(test_author200.shape)\n",
    "print \"[INFO] The size of train data: \" + str(train_author200.shape)\n",
    "print \"[INFO] The size of color histogram: \" + str(color_hist.shape)\n",
    "train_author200.head(3)"
   ]
  },
  {
   "cell_type": "code",
   "execution_count": 39,
   "metadata": {
    "collapsed": false,
    "deletable": true,
    "editable": true
   },
   "outputs": [
    {
     "data": {
      "text/html": [
       "<div style=\"max-width:1500px;overflow:auto;\">\n",
       "<table border=\"1\" class=\"dataframe\">\n",
       "  <thead>\n",
       "    <tr style=\"text-align: right;\">\n",
       "      <th></th>\n",
       "      <th>painting_id</th>\n",
       "      <th>height_px</th>\n",
       "      <th>width_px</th>\n",
       "    </tr>\n",
       "  </thead>\n",
       "  <tbody>\n",
       "    <tr>\n",
       "      <th>0</th>\n",
       "      <td>52573</td>\n",
       "      <td>722</td>\n",
       "      <td>534</td>\n",
       "    </tr>\n",
       "    <tr>\n",
       "      <th>1</th>\n",
       "      <td>207890</td>\n",
       "      <td>944</td>\n",
       "      <td>384</td>\n",
       "    </tr>\n",
       "  </tbody>\n",
       "</table>\n",
       "</div>"
      ],
      "text/plain": [
       "   painting_id  height_px  width_px\n",
       "0        52573        722       534\n",
       "1       207890        944       384"
      ]
     },
     "execution_count": 39,
     "metadata": {},
     "output_type": "execute_result"
    }
   ],
   "source": [
    "train_subset = train_author200[['painting_id', 'height_px', 'width_px']]\n",
    "test_subset = test_author200[['painting_id', 'height_px', 'width_px']]\n",
    "train_subset.head(2)"
   ]
  },
  {
   "cell_type": "code",
   "execution_count": 40,
   "metadata": {
    "collapsed": false,
    "deletable": true,
    "editable": true
   },
   "outputs": [
    {
     "name": "stdout",
     "output_type": "stream",
     "text": [
      "[INFO] The size of train histogram for KNN(49890, 34)\n"
     ]
    },
    {
     "data": {
      "text/html": [
       "<div style=\"max-width:1500px;overflow:auto;\">\n",
       "<table border=\"1\" class=\"dataframe\">\n",
       "  <thead>\n",
       "    <tr style=\"text-align: right;\">\n",
       "      <th></th>\n",
       "      <th>author_id</th>\n",
       "      <th>painting_id</th>\n",
       "      <th>hist_01</th>\n",
       "      <th>hist_02</th>\n",
       "      <th>hist_03</th>\n",
       "      <th>hist_04</th>\n",
       "      <th>hist_05</th>\n",
       "      <th>hist_06</th>\n",
       "      <th>hist_07</th>\n",
       "      <th>hist_08</th>\n",
       "      <th>...</th>\n",
       "      <th>hist_23</th>\n",
       "      <th>hist_24</th>\n",
       "      <th>hist_25</th>\n",
       "      <th>hist_26</th>\n",
       "      <th>hist_27</th>\n",
       "      <th>hist_28</th>\n",
       "      <th>hist_29</th>\n",
       "      <th>hist_30</th>\n",
       "      <th>height_px</th>\n",
       "      <th>width_px</th>\n",
       "    </tr>\n",
       "  </thead>\n",
       "  <tbody>\n",
       "    <tr>\n",
       "      <th>0</th>\n",
       "      <td>444</td>\n",
       "      <td>11653</td>\n",
       "      <td>141479</td>\n",
       "      <td>107241</td>\n",
       "      <td>3576</td>\n",
       "      <td>1031</td>\n",
       "      <td>1010</td>\n",
       "      <td>3886</td>\n",
       "      <td>568</td>\n",
       "      <td>2650</td>\n",
       "      <td>...</td>\n",
       "      <td>144006</td>\n",
       "      <td>99116</td>\n",
       "      <td>46843</td>\n",
       "      <td>25371</td>\n",
       "      <td>63071</td>\n",
       "      <td>67621</td>\n",
       "      <td>69665</td>\n",
       "      <td>480656</td>\n",
       "      <td>742</td>\n",
       "      <td>952</td>\n",
       "    </tr>\n",
       "    <tr>\n",
       "      <th>1</th>\n",
       "      <td>444</td>\n",
       "      <td>12097</td>\n",
       "      <td>1429</td>\n",
       "      <td>713</td>\n",
       "      <td>600</td>\n",
       "      <td>581</td>\n",
       "      <td>1362</td>\n",
       "      <td>3304</td>\n",
       "      <td>8280</td>\n",
       "      <td>16148</td>\n",
       "      <td>...</td>\n",
       "      <td>174675</td>\n",
       "      <td>107953</td>\n",
       "      <td>51343</td>\n",
       "      <td>77403</td>\n",
       "      <td>128000</td>\n",
       "      <td>147619</td>\n",
       "      <td>172075</td>\n",
       "      <td>150541</td>\n",
       "      <td>941</td>\n",
       "      <td>718</td>\n",
       "    </tr>\n",
       "  </tbody>\n",
       "</table>\n",
       "<p>2 rows × 34 columns</p>\n",
       "</div>"
      ],
      "text/plain": [
       "   author_id  painting_id  hist_01  hist_02  hist_03  hist_04  hist_05  \\\n",
       "0        444        11653   141479   107241     3576     1031     1010   \n",
       "1        444        12097     1429      713      600      581     1362   \n",
       "\n",
       "   hist_06  hist_07  hist_08    ...     hist_23  hist_24  hist_25  hist_26  \\\n",
       "0     3886      568     2650    ...      144006    99116    46843    25371   \n",
       "1     3304     8280    16148    ...      174675   107953    51343    77403   \n",
       "\n",
       "   hist_27  hist_28  hist_29  hist_30  height_px  width_px  \n",
       "0    63071    67621    69665   480656        742       952  \n",
       "1   128000   147619   172075   150541        941       718  \n",
       "\n",
       "[2 rows x 34 columns]"
      ]
     },
     "execution_count": 40,
     "metadata": {},
     "output_type": "execute_result"
    }
   ],
   "source": [
    "train_hist = color_hist.merge(train_subset, how = 'right', on = 'painting_id')\n",
    "print \"[INFO] The size of train histogram for KNN\" + str(train_hist.shape)\n",
    "train_hist.head(2)"
   ]
  },
  {
   "cell_type": "code",
   "execution_count": 41,
   "metadata": {
    "collapsed": false,
    "deletable": true,
    "editable": true
   },
   "outputs": [
    {
     "name": "stdout",
     "output_type": "stream",
     "text": [
      "[INFO] The size of test histogram for KNN(12473, 34)\n"
     ]
    },
    {
     "data": {
      "text/html": [
       "<div style=\"max-width:1500px;overflow:auto;\">\n",
       "<table border=\"1\" class=\"dataframe\">\n",
       "  <thead>\n",
       "    <tr style=\"text-align: right;\">\n",
       "      <th></th>\n",
       "      <th>author_id</th>\n",
       "      <th>painting_id</th>\n",
       "      <th>hist_01</th>\n",
       "      <th>hist_02</th>\n",
       "      <th>hist_03</th>\n",
       "      <th>hist_04</th>\n",
       "      <th>hist_05</th>\n",
       "      <th>hist_06</th>\n",
       "      <th>hist_07</th>\n",
       "      <th>hist_08</th>\n",
       "      <th>...</th>\n",
       "      <th>hist_23</th>\n",
       "      <th>hist_24</th>\n",
       "      <th>hist_25</th>\n",
       "      <th>hist_26</th>\n",
       "      <th>hist_27</th>\n",
       "      <th>hist_28</th>\n",
       "      <th>hist_29</th>\n",
       "      <th>hist_30</th>\n",
       "      <th>height_px</th>\n",
       "      <th>width_px</th>\n",
       "    </tr>\n",
       "  </thead>\n",
       "  <tbody>\n",
       "    <tr>\n",
       "      <th>0</th>\n",
       "      <td>444</td>\n",
       "      <td>12077</td>\n",
       "      <td>7603</td>\n",
       "      <td>1687</td>\n",
       "      <td>587</td>\n",
       "      <td>348</td>\n",
       "      <td>403</td>\n",
       "      <td>538</td>\n",
       "      <td>671</td>\n",
       "      <td>959</td>\n",
       "      <td>...</td>\n",
       "      <td>99139</td>\n",
       "      <td>69539</td>\n",
       "      <td>24143</td>\n",
       "      <td>46874</td>\n",
       "      <td>97427</td>\n",
       "      <td>117568</td>\n",
       "      <td>102332</td>\n",
       "      <td>79799</td>\n",
       "      <td>555</td>\n",
       "      <td>800</td>\n",
       "    </tr>\n",
       "    <tr>\n",
       "      <th>1</th>\n",
       "      <td>444</td>\n",
       "      <td>87820</td>\n",
       "      <td>18868</td>\n",
       "      <td>4502</td>\n",
       "      <td>1403</td>\n",
       "      <td>696</td>\n",
       "      <td>672</td>\n",
       "      <td>763</td>\n",
       "      <td>857</td>\n",
       "      <td>1430</td>\n",
       "      <td>...</td>\n",
       "      <td>352276</td>\n",
       "      <td>123167</td>\n",
       "      <td>17879</td>\n",
       "      <td>17396</td>\n",
       "      <td>139326</td>\n",
       "      <td>225701</td>\n",
       "      <td>318966</td>\n",
       "      <td>413491</td>\n",
       "      <td>871</td>\n",
       "      <td>1280</td>\n",
       "    </tr>\n",
       "  </tbody>\n",
       "</table>\n",
       "<p>2 rows × 34 columns</p>\n",
       "</div>"
      ],
      "text/plain": [
       "   author_id  painting_id  hist_01  hist_02  hist_03  hist_04  hist_05  \\\n",
       "0        444        12077     7603     1687      587      348      403   \n",
       "1        444        87820    18868     4502     1403      696      672   \n",
       "\n",
       "   hist_06  hist_07  hist_08    ...     hist_23  hist_24  hist_25  hist_26  \\\n",
       "0      538      671      959    ...       99139    69539    24143    46874   \n",
       "1      763      857     1430    ...      352276   123167    17879    17396   \n",
       "\n",
       "   hist_27  hist_28  hist_29  hist_30  height_px  width_px  \n",
       "0    97427   117568   102332    79799        555       800  \n",
       "1   139326   225701   318966   413491        871      1280  \n",
       "\n",
       "[2 rows x 34 columns]"
      ]
     },
     "execution_count": 41,
     "metadata": {},
     "output_type": "execute_result"
    }
   ],
   "source": [
    "test_hist = color_hist.merge(test_subset, how = 'right', on = 'painting_id')\n",
    "print \"[INFO] The size of test histogram for KNN\" + str(test_hist.shape)\n",
    "test_hist.head(2)"
   ]
  },
  {
   "cell_type": "code",
   "execution_count": 42,
   "metadata": {
    "collapsed": false,
    "deletable": true,
    "editable": true
   },
   "outputs": [],
   "source": [
    "# Random Forest color histogram Dataset\n",
    "train_hist.to_csv(\"data/train_hist_author_rf.csv\", index=False)\n",
    "test_hist.to_csv(\"data/test_hist_author_rf.csv\", index=False)"
   ]
  },
  {
   "cell_type": "code",
   "execution_count": 36,
   "metadata": {
    "collapsed": false,
    "deletable": true,
    "editable": true
   },
   "outputs": [],
   "source": [
    "# Scaling height_px, width_px for KNN\n",
    "train_hist.iloc[:, -2] = train_hist.iloc[:, -2] / train_hist.height_px.max()\n",
    "train_hist.iloc[:, -1] = train_hist.iloc[:, -1] / train_hist.width_px.max()\n",
    "\n",
    "test_hist.iloc[:, -2] = test_hist.iloc[:, -2] / train_hist.height_px.max()\n",
    "test_hist.iloc[:, -1] = test_hist.iloc[:, -1] / train_hist.width_px.max()\n"
   ]
  },
  {
   "cell_type": "code",
   "execution_count": 28,
   "metadata": {
    "collapsed": false,
    "deletable": true,
    "editable": true
   },
   "outputs": [],
   "source": [
    "# KNN color histogram Dataset\n",
    "train_hist.to_csv(\"data/train_hist_author_knn.csv\", index=False)\n",
    "test_hist.to_csv(\"data/test_hist_author_knn.csv\", index=False)"
   ]
  },
  {
   "cell_type": "code",
   "execution_count": 43,
   "metadata": {
    "collapsed": false,
    "deletable": true,
    "editable": true
   },
   "outputs": [],
   "source": []
  },
  {
   "cell_type": "markdown",
   "metadata": {
    "deletable": true,
    "editable": true
   },
   "source": [
    "============================================================================================\n",
    "\n",
    "# Prepare Data For Random Forest\n",
    "\n",
    "============================================================================================"
   ]
  },
  {
   "cell_type": "code",
   "execution_count": 29,
   "metadata": {
    "collapsed": false,
    "deletable": true,
    "editable": true
   },
   "outputs": [
    {
     "name": "stdout",
     "output_type": "stream",
     "text": [
      "[INFO] The size of test data: (12473, 12)\n",
      "[INFO] The size of train data: (49890, 12)\n",
      "[INFO] The size of color histogram: (206550, 32)\n"
     ]
    },
    {
     "data": {
      "text/html": [
       "<div style=\"max-width:1500px;overflow:auto;\">\n",
       "<table border=\"1\" class=\"dataframe\">\n",
       "  <thead>\n",
       "    <tr style=\"text-align: right;\">\n",
       "      <th></th>\n",
       "      <th>medium</th>\n",
       "      <th>painting_location</th>\n",
       "      <th>height</th>\n",
       "      <th>article_type</th>\n",
       "      <th>painting_url</th>\n",
       "      <th>painting_dates</th>\n",
       "      <th>painting_title</th>\n",
       "      <th>author_id</th>\n",
       "      <th>painting_id</th>\n",
       "      <th>width</th>\n",
       "      <th>height_px</th>\n",
       "      <th>width_px</th>\n",
       "    </tr>\n",
       "  </thead>\n",
       "  <tbody>\n",
       "    <tr>\n",
       "      <th>0</th>\n",
       "      <td>oil on canvas</td>\n",
       "      <td>Munch-museet  (Norway - Oslo)</td>\n",
       "      <td>90.0</td>\n",
       "      <td>Painting</td>\n",
       "      <td>http://www.the-athenaeum.org/art/display_image...</td>\n",
       "      <td>1907-1908</td>\n",
       "      <td>Mason and Mechanic</td>\n",
       "      <td>1793</td>\n",
       "      <td>52573</td>\n",
       "      <td>69.5</td>\n",
       "      <td>722</td>\n",
       "      <td>534</td>\n",
       "    </tr>\n",
       "    <tr>\n",
       "      <th>1</th>\n",
       "      <td>oil on canvas</td>\n",
       "      <td>Royal Botanic Gardens, Kew  (United Kingdom - ...</td>\n",
       "      <td>107.0</td>\n",
       "      <td>Painting</td>\n",
       "      <td>http://www.the-athenaeum.org/art/display_image...</td>\n",
       "      <td>circa 1880</td>\n",
       "      <td>A South African Sedge</td>\n",
       "      <td>9266</td>\n",
       "      <td>207890</td>\n",
       "      <td>45.0</td>\n",
       "      <td>944</td>\n",
       "      <td>384</td>\n",
       "    </tr>\n",
       "    <tr>\n",
       "      <th>2</th>\n",
       "      <td>oil on canvas</td>\n",
       "      <td>Watts Gallery - Compton (Surrey)  (United King...</td>\n",
       "      <td>137.0</td>\n",
       "      <td>Painting</td>\n",
       "      <td>http://www.the-athenaeum.org/art/display_image...</td>\n",
       "      <td>1849-1850</td>\n",
       "      <td>Under the Dry Arch</td>\n",
       "      <td>502</td>\n",
       "      <td>214715</td>\n",
       "      <td>101.5</td>\n",
       "      <td>944</td>\n",
       "      <td>677</td>\n",
       "    </tr>\n",
       "  </tbody>\n",
       "</table>\n",
       "</div>"
      ],
      "text/plain": [
       "          medium                                  painting_location  height  \\\n",
       "0  oil on canvas                      Munch-museet  (Norway - Oslo)    90.0   \n",
       "1  oil on canvas  Royal Botanic Gardens, Kew  (United Kingdom - ...   107.0   \n",
       "2  oil on canvas  Watts Gallery - Compton (Surrey)  (United King...   137.0   \n",
       "\n",
       "  article_type                                       painting_url  \\\n",
       "0     Painting  http://www.the-athenaeum.org/art/display_image...   \n",
       "1     Painting  http://www.the-athenaeum.org/art/display_image...   \n",
       "2     Painting  http://www.the-athenaeum.org/art/display_image...   \n",
       "\n",
       "  painting_dates         painting_title  author_id  painting_id  width  \\\n",
       "0      1907-1908     Mason and Mechanic       1793        52573   69.5   \n",
       "1     circa 1880  A South African Sedge       9266       207890   45.0   \n",
       "2      1849-1850     Under the Dry Arch        502       214715  101.5   \n",
       "\n",
       "   height_px  width_px  \n",
       "0        722       534  \n",
       "1        944       384  \n",
       "2        944       677  "
      ]
     },
     "execution_count": 29,
     "metadata": {},
     "output_type": "execute_result"
    }
   ],
   "source": [
    "test_author200 = pd.read_csv('data/test_author200.csv')\n",
    "train_author200 = pd.read_csv('data/train_author200.csv')\n",
    "color_hist = pd.read_csv('data/color_histograms.csv')\n",
    "\n",
    "print \"[INFO] The size of test data: \" + str(test_author200.shape)\n",
    "print \"[INFO] The size of train data: \" + str(train_author200.shape)\n",
    "print \"[INFO] The size of color histogram: \" + str(color_hist.shape)\n",
    "train_author200.head(3)"
   ]
  },
  {
   "cell_type": "code",
   "execution_count": 30,
   "metadata": {
    "collapsed": false,
    "deletable": true,
    "editable": true
   },
   "outputs": [],
   "source": [
    "train_subset = train_author200[['painting_id', 'height_px', 'width_px']]\n",
    "test_subset = test_author200[['painting_id', 'height_px', 'width_px']]\n",
    "train_hist = color_hist.merge(train_subset, how = 'right', on = 'painting_id')\n",
    "test_hist = color_hist.merge(test_subset, how = 'right', on = 'painting_id')\n"
   ]
  },
  {
   "cell_type": "code",
   "execution_count": null,
   "metadata": {
    "collapsed": false,
    "deletable": true,
    "editable": true
   },
   "outputs": [],
   "source": [
    "train_hist.to_csv(\"data/train_hist_author_knn.csv\", index=False)\n",
    "test_hist.to_csv(\"data/test_hist_author_knn.csv\", index=False)"
   ]
  },
  {
   "cell_type": "code",
   "execution_count": 31,
   "metadata": {
    "collapsed": false,
    "deletable": true,
    "editable": true
   },
   "outputs": [
    {
     "data": {
      "text/html": [
       "<div style=\"max-width:1500px;overflow:auto;\">\n",
       "<table border=\"1\" class=\"dataframe\">\n",
       "  <thead>\n",
       "    <tr style=\"text-align: right;\">\n",
       "      <th></th>\n",
       "      <th>author_id</th>\n",
       "      <th>painting_id</th>\n",
       "      <th>hist_01</th>\n",
       "      <th>hist_02</th>\n",
       "      <th>hist_03</th>\n",
       "      <th>hist_04</th>\n",
       "      <th>hist_05</th>\n",
       "      <th>hist_06</th>\n",
       "      <th>hist_07</th>\n",
       "      <th>hist_08</th>\n",
       "      <th>...</th>\n",
       "      <th>hist_23</th>\n",
       "      <th>hist_24</th>\n",
       "      <th>hist_25</th>\n",
       "      <th>hist_26</th>\n",
       "      <th>hist_27</th>\n",
       "      <th>hist_28</th>\n",
       "      <th>hist_29</th>\n",
       "      <th>hist_30</th>\n",
       "      <th>height_px</th>\n",
       "      <th>width_px</th>\n",
       "    </tr>\n",
       "  </thead>\n",
       "  <tbody>\n",
       "    <tr>\n",
       "      <th>0</th>\n",
       "      <td>444</td>\n",
       "      <td>12077</td>\n",
       "      <td>7603</td>\n",
       "      <td>1687</td>\n",
       "      <td>587</td>\n",
       "      <td>348</td>\n",
       "      <td>403</td>\n",
       "      <td>538</td>\n",
       "      <td>671</td>\n",
       "      <td>959</td>\n",
       "      <td>...</td>\n",
       "      <td>99139</td>\n",
       "      <td>69539</td>\n",
       "      <td>24143</td>\n",
       "      <td>46874</td>\n",
       "      <td>97427</td>\n",
       "      <td>117568</td>\n",
       "      <td>102332</td>\n",
       "      <td>79799</td>\n",
       "      <td>555</td>\n",
       "      <td>800</td>\n",
       "    </tr>\n",
       "  </tbody>\n",
       "</table>\n",
       "<p>1 rows × 34 columns</p>\n",
       "</div>"
      ],
      "text/plain": [
       "   author_id  painting_id  hist_01  hist_02  hist_03  hist_04  hist_05  \\\n",
       "0        444        12077     7603     1687      587      348      403   \n",
       "\n",
       "   hist_06  hist_07  hist_08    ...     hist_23  hist_24  hist_25  hist_26  \\\n",
       "0      538      671      959    ...       99139    69539    24143    46874   \n",
       "\n",
       "   hist_27  hist_28  hist_29  hist_30  height_px  width_px  \n",
       "0    97427   117568   102332    79799        555       800  \n",
       "\n",
       "[1 rows x 34 columns]"
      ]
     },
     "execution_count": 31,
     "metadata": {},
     "output_type": "execute_result"
    }
   ],
   "source": [
    "test_hist.head(1)"
   ]
  },
  {
   "cell_type": "code",
   "execution_count": null,
   "metadata": {
    "collapsed": false,
    "deletable": true,
    "editable": true
   },
   "outputs": [],
   "source": []
  },
  {
   "cell_type": "code",
   "execution_count": null,
   "metadata": {
    "collapsed": false,
    "deletable": true,
    "editable": true
   },
   "outputs": [],
   "source": []
  },
  {
   "cell_type": "code",
   "execution_count": null,
   "metadata": {
    "collapsed": false,
    "deletable": true,
    "editable": true
   },
   "outputs": [],
   "source": []
  },
  {
   "cell_type": "code",
   "execution_count": null,
   "metadata": {
    "collapsed": false,
    "deletable": true,
    "editable": true
   },
   "outputs": [],
   "source": []
  }
 ],
 "metadata": {
  "kernelspec": {
   "display_name": "Python 2",
   "language": "python",
   "name": "python2"
  },
  "language_info": {
   "codemirror_mode": {
    "name": "ipython",
    "version": 2
   },
   "file_extension": ".py",
   "mimetype": "text/x-python",
   "name": "python",
   "nbconvert_exporter": "python",
   "pygments_lexer": "ipython2",
   "version": "2.7.9"
  }
 },
 "nbformat": 4,
 "nbformat_minor": 0
}
