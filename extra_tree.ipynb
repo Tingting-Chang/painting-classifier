{
 "cells": [
  {
   "cell_type": "markdown",
   "metadata": {
    "deletable": true,
    "editable": true
   },
   "source": [
    "============================================================================================\n",
    "\n",
    "# Extra Tree\n",
    "\n",
    "\n",
    "============================================================================================\n"
   ]
  },
  {
   "cell_type": "code",
   "execution_count": 40,
   "metadata": {
    "collapsed": true,
    "deletable": true,
    "editable": true
   },
   "outputs": [],
   "source": [
    "import warnings\n",
    "\n",
    "warnings.filterwarnings('ignore', category=DeprecationWarning)"
   ]
  },
  {
   "cell_type": "code",
   "execution_count": 41,
   "metadata": {
    "collapsed": false,
    "deletable": true,
    "editable": true
   },
   "outputs": [
    {
     "name": "stdout",
     "output_type": "stream",
     "text": [
      "athenaeum_authors_preview.csv\n",
      "athenaeum_painting_filtered.csv\n",
      "athenaeum_paintings.csv\n",
      "athenaeum_paintings_sizes.csv\n",
      "color_histograms.csv\n",
      "complete_data.csv\n",
      "images\n",
      "images_athenaeum\n",
      "images_sizes_2325.csv\n",
      "net_predicted.csv\n",
      "painter_info_clean.csv\n",
      "painting_info_clean.csv\n",
      "resized_200\n",
      "test_author200.csv\n",
      "test_data.csv\n",
      "test_hist_author_knn.csv\n",
      "test_hist_author_rf.csv\n",
      "train_author200.csv\n",
      "train_data.csv\n",
      "train_hist_author_knn.csv\n",
      "train_hist_author_rf.csv\n",
      "\n"
     ]
    }
   ],
   "source": [
    "import pandas as pd\n",
    "import numpy as np\n",
    "import os\n",
    "import re\n",
    "import time\n",
    "import random\n",
    "from matplotlib import pyplot as plt\n",
    "from sklearn.ensemble import ExtraTreesClassifier\n",
    "\n",
    "\n",
    "from sklearn.model_selection import cross_val_score\n",
    "from bayes_opt import BayesianOptimization\n",
    "\n",
    "from sklearn.decomposition import PCA\n",
    "\n",
    "import fns_models as fns\n",
    "\n",
    "\n",
    "% matplotlib inline\n",
    "\n",
    "from subprocess import check_output\n",
    "print(check_output([\"ls\", \"data\"]).decode(\"utf-8\"))"
   ]
  },
  {
   "cell_type": "code",
   "execution_count": 42,
   "metadata": {
    "collapsed": false,
    "deletable": true,
    "editable": true
   },
   "outputs": [
    {
     "name": "stdout",
     "output_type": "stream",
     "text": [
      "[INFO] The size of train histogram for Random Forest(49890, 34)\n",
      "[INFO] The size of test histogram for Random Forest(12473, 34)\n",
      "24      1369\n",
      "1793    1338\n",
      "368     1335\n",
      "Name: author_id, dtype: int64\n",
      "[trian above] ==================================================[test below]\n",
      "24      342\n",
      "1793    335\n",
      "368     334\n",
      "Name: author_id, dtype: int64\n",
      "(4042,)\n",
      "(4042, 34)\n"
     ]
    }
   ],
   "source": [
    "train, train_labels, test, test_labels = fns.get_top_author(3)\n"
   ]
  },
  {
   "cell_type": "code",
   "execution_count": 25,
   "metadata": {
    "collapsed": false
   },
   "outputs": [],
   "source": [
    "# Do not run it \n",
    "train = train.sample(10)\n",
    "test = test.sample(7)\n",
    "train_labels = train_labels.sample(10)\n",
    "test_labels = test_labels.sample(7)"
   ]
  },
  {
   "cell_type": "markdown",
   "metadata": {
    "deletable": true,
    "editable": true
   },
   "source": [
    "================================================================================================================\n",
    "\n",
    "# Bayesian Optimization + Extra Tree\n",
    "\n",
    "[bayesian-optimization](https://github.com/fmfn/BayesianOptimization/blob/master/bayes_opt/bayesian_optimization.py)\n",
    "\n",
    "================================================================================================================"
   ]
  },
  {
   "cell_type": "code",
   "execution_count": 43,
   "metadata": {
    "collapsed": true,
    "deletable": true,
    "editable": true
   },
   "outputs": [],
   "source": [
    "def extr_evaluate(max_features, max_depth, n_estimators):\n",
    "    \n",
    "    random.seed(2017)\n",
    "#     params['max_features'] = int(max_features)\n",
    "#     params['max_depth'] = int(max_depth)\n",
    "#     params['n_estimators'] = int(n_estimators)\n",
    "    \n",
    "    extrc = ExtraTreesClassifier(n_jobs = 4, n_estimators=int(n_estimators), oob_score=True,\n",
    "                                max_depth = int(max_depth), max_features = int(max_features),\n",
    "                                random_state = 2017, bootstrap=True)\n",
    "    #scores = cross_val_score(extrc, X=train, y = train_labels, cv=5, n_jobs = 2)\n",
    "    \n",
    "    # The mean score and the 95% confidence interval of the score estimate are hence given by:\n",
    "    #print(\"Accuracy: %0.2f (+/- %0.2f)\" % (scores.mean(), scores.std() * 2))\n",
    "    #return scores.mean()\n",
    "    extrc.fit(train, train_labels)\n",
    "    return extrc.oob_score_\n",
    "\n",
    "def extr_pca_evaluate(max_features,\n",
    "                    max_depth,\n",
    "                    n_estimators):\n",
    "    \n",
    "    \n",
    "    extrc = ExtraTreesClassifier(n_jobs = 4, n_estimators=int(n_estimators), oob_score=True,\n",
    "                                max_depth = int(max_depth), max_features = int(max_features),\n",
    "                                random_state = 2017, bootstrap=True)\n",
    "    \n",
    "    extrc.fit(pca_transformed, train_labels)\n",
    "    return extrc.oob_score_\n",
    "\n",
    "def extr_bo(extr_fnc=extr_evaluate):\n",
    "    start_time = time.time()\n",
    "    num_iter = 25\n",
    "    init_points = 5\n",
    "    random_state = 2017\n",
    "    # params = {\n",
    "    #     #'eta': 0.1,\n",
    "    #     #'silent': 1,\n",
    "    #     'eval_metric': 'mae',\n",
    "    #     'verbose_eval': True,\n",
    "    #     #'seed': random_state\n",
    "    # }\n",
    "\n",
    "    extrBO = BayesianOptimization(extr_fnc, {'max_features': (5, 7),\n",
    "                                             'max_depth': (2, 10),\n",
    "                                             'n_estimators': (100, 900)})\n",
    "\n",
    "    extrBO.maximize(init_points=init_points, n_iter=num_iter)\n",
    "    \n",
    "    print('-' * 53)\n",
    "    print '\\n%f' % (time.time() - start_time)\n",
    "    \n",
    "    print \"Bayesian Optimization Best Score: %d\" % extrBO.res['max']['max_val']\n",
    "\n",
    "    print \"Bayesian Optimization Best Parameters: %s\" % str(extrBO.res['max']['max_params'])\n",
    "    \n",
    "    print (extrBO.res['max'])\n",
    "    \n",
    "#     fns.plot_bo(extr_fnc, extrBO)\n",
    "\n",
    "#     print \"Bayesian Optimization  Parameters: %s\" % str(extrBO.res['all'])\n",
    "\n"
   ]
  },
  {
   "cell_type": "code",
   "execution_count": null,
   "metadata": {
    "collapsed": false,
    "deletable": true,
    "editable": true
   },
   "outputs": [
    {
     "name": "stdout",
     "output_type": "stream",
     "text": [
      "\u001b[31mInitialization\u001b[0m\n",
      "\u001b[94m-----------------------------------------------------------------------------\u001b[0m\n",
      " Step |   Time |      Value |   max_depth |   max_features |   n_estimators | \n",
      "    1 | 00m01s | \u001b[35m   0.63978\u001b[0m | \u001b[32m     5.9959\u001b[0m | \u001b[32m        6.5949\u001b[0m | \u001b[32m      387.6933\u001b[0m | \n",
      "    2 | 00m01s | \u001b[35m   0.66700\u001b[0m | \u001b[32m     9.4831\u001b[0m | \u001b[32m        5.4508\u001b[0m | \u001b[32m      248.9311\u001b[0m | \n",
      "    3 | 00m03s | \u001b[35m   0.67467\u001b[0m | \u001b[32m     9.5938\u001b[0m | \u001b[32m        6.5803\u001b[0m | \u001b[32m      820.3952\u001b[0m | \n",
      "    4 | 00m01s |    0.62840 |      4.9289 |         5.4437 |       494.8356 | \n",
      "    5 | 00m02s |    0.65710 |      7.2597 |         6.4230 |       776.1727 | \n",
      "\u001b[31mBayesian Optimization\u001b[0m\n",
      "\u001b[94m-----------------------------------------------------------------------------\u001b[0m\n",
      " Step |   Time |      Value |   max_depth |   max_features |   n_estimators | \n",
      "    6 | 00m09s |    0.60391 |      2.0850 |         5.8327 |       100.0313 | \n",
      "    7 | 00m07s |    0.60861 |      2.1468 |         6.1698 |       899.9912 | \n",
      "    8 | 00m06s |    0.67417 |      9.9866 |         6.5324 |       633.9424 | \n",
      "    9 | 00m05s |    0.67170 |     10.0000 |         6.9557 |       308.5611 | \n",
      "   10 | 00m06s |    0.67244 |      9.9810 |         5.3092 |       687.9647 | \n",
      "   11 | 00m06s |    0.60787 |      2.0380 |         5.2584 |       282.9635 | \n",
      "   12 | 00m05s |    0.67368 |     10.0000 |         7.0000 |       174.6206 | \n",
      "   13 | 00m07s |    0.67442 |      9.9941 |         6.3177 |       569.9924 | \n",
      "   14 | 00m05s |    0.66749 |      9.9650 |         6.9850 |       213.5581 | \n",
      "   15 | 00m06s |    0.67120 |      9.9874 |         5.3540 |       347.5968 | \n"
     ]
    },
    {
     "name": "stderr",
     "output_type": "stream",
     "text": [
      "/usr/local/lib/python2.7/dist-packages/sklearn/gaussian_process/gpr.py:427: UserWarning: fmin_l_bfgs_b terminated abnormally with the  state: {'warnflag': 2, 'task': 'ABNORMAL_TERMINATION_IN_LNSRCH', 'grad': array([  1.13257467e-05]), 'nit': 3, 'funcalls': 45}\n",
      "  \" state: %s\" % convergence_dict)\n"
     ]
    },
    {
     "name": "stdout",
     "output_type": "stream",
     "text": [
      "   16 | 00m08s |    0.67442 |      9.9658 |         6.8246 |       724.2127 | \n",
      "   17 | 00m07s | \u001b[35m   0.67566\u001b[0m | \u001b[32m     9.9812\u001b[0m | \u001b[32m        6.8416\u001b[0m | \u001b[32m      434.7020\u001b[0m | \n",
      "   18 | 00m08s |    0.67368 |      9.9863 |         5.0986 |       598.4945 | \n",
      "   19 | 00m09s |    0.67343 |      9.9601 |         6.6159 |       851.0331 | \n",
      "   20 | 00m06s |    0.66675 |      9.9880 |         6.9376 |       143.6844 | \n",
      "   21 | 00m08s | \u001b[35m   0.67640\u001b[0m | \u001b[32m     9.9525\u001b[0m | \u001b[32m        6.9360\u001b[0m | \u001b[32m      536.4571\u001b[0m | \n",
      "   22 | 00m11s |    0.67566 |      9.9513 |         6.7791 |       660.5319 | \n",
      "   23 | 00m11s |    0.66972 |      9.9886 |         5.0779 |       745.9886 | \n",
      "   24 | 00m11s |    0.67541 |      9.9925 |         6.6507 |       456.0467 | \n",
      "   25 | 00m14s |    0.67417 |      9.9771 |         6.6955 |       800.7933 | \n",
      "   26 | 00m13s |    0.67293 |      9.9632 |         5.1087 |       549.6350 | \n",
      "   27 | 00m14s |    0.67615 |      9.9436 |         6.8827 |       612.8869 | \n"
     ]
    }
   ],
   "source": [
    "# Run BO for color histogram\n",
    "extr_bo(extr_evaluate)"
   ]
  },
  {
   "cell_type": "code",
   "execution_count": 28,
   "metadata": {
    "collapsed": false,
    "deletable": true,
    "editable": true
   },
   "outputs": [
    {
     "data": {
      "text/plain": [
       "array([368, 368, 368, 368, 368, 368, 368])"
      ]
     },
     "execution_count": 28,
     "metadata": {},
     "output_type": "execute_result"
    }
   ],
   "source": [
    "# Choose the best params from BO results then predict \n",
    "best_estimators = 524\n",
    "best_max_depth = 8\n",
    "best_max_features = 6\n",
    "best_extrc = ExtraTreesClassifier(n_jobs = 4, n_estimators=best_estimators, oob_score=False,\n",
    "                                max_depth = best_max_depth, max_features = best_max_features)\n",
    "\n",
    "best_extrc.fit(train, train_labels)\n",
    "\n",
    "\n",
    "# accuracy of trianing dataset\n",
    "print \"Accuracy of best Extra Tree model on training: %s\" % str(best_extrc.score(train, train_labels))\n",
    "\n",
    "# accuracy of testing dataset\n",
    "print \"Accuracy of best Extra Tree model on training: %s\" % str(best_extrc.score(test, test_labels))\n",
    "\n",
    "\n",
    "# use the best params to predict\n",
    "extrc_true, extrc_pred = test_labels, best_extrc.predict(test)\n",
    "extrc_pred"
   ]
  },
  {
   "cell_type": "code",
   "execution_count": 29,
   "metadata": {
    "collapsed": false,
    "deletable": true,
    "editable": true
   },
   "outputs": [
    {
     "data": {
      "text/html": [
       "<div>\n",
       "<table border=\"1\" class=\"dataframe\">\n",
       "  <thead>\n",
       "    <tr style=\"text-align: right;\">\n",
       "      <th></th>\n",
       "      <th>actual</th>\n",
       "      <th>predictions</th>\n",
       "      <th>results</th>\n",
       "    </tr>\n",
       "  </thead>\n",
       "  <tbody>\n",
       "    <tr>\n",
       "      <th>1008</th>\n",
       "      <td>24</td>\n",
       "      <td>368</td>\n",
       "      <td>False</td>\n",
       "    </tr>\n",
       "    <tr>\n",
       "      <th>1293</th>\n",
       "      <td>368</td>\n",
       "      <td>368</td>\n",
       "      <td>True</td>\n",
       "    </tr>\n",
       "    <tr>\n",
       "      <th>1265</th>\n",
       "      <td>368</td>\n",
       "      <td>368</td>\n",
       "      <td>True</td>\n",
       "    </tr>\n",
       "    <tr>\n",
       "      <th>1197</th>\n",
       "      <td>368</td>\n",
       "      <td>368</td>\n",
       "      <td>True</td>\n",
       "    </tr>\n",
       "    <tr>\n",
       "      <th>1029</th>\n",
       "      <td>24</td>\n",
       "      <td>368</td>\n",
       "      <td>False</td>\n",
       "    </tr>\n",
       "    <tr>\n",
       "      <th>1754</th>\n",
       "      <td>1793</td>\n",
       "      <td>368</td>\n",
       "      <td>False</td>\n",
       "    </tr>\n",
       "    <tr>\n",
       "      <th>1297</th>\n",
       "      <td>368</td>\n",
       "      <td>368</td>\n",
       "      <td>True</td>\n",
       "    </tr>\n",
       "  </tbody>\n",
       "</table>\n",
       "</div>"
      ],
      "text/plain": [
       "      actual  predictions results\n",
       "1008      24          368   False\n",
       "1293     368          368    True\n",
       "1265     368          368    True\n",
       "1197     368          368    True\n",
       "1029      24          368   False\n",
       "1754    1793          368   False\n",
       "1297     368          368    True"
      ]
     },
     "execution_count": 29,
     "metadata": {},
     "output_type": "execute_result"
    }
   ],
   "source": [
    "test_data_df = fns.result_table(extrc_true, extrc_pred)\n",
    "test_data_df"
   ]
  },
  {
   "cell_type": "code",
   "execution_count": 31,
   "metadata": {
    "collapsed": false,
    "deletable": true,
    "editable": true
   },
   "outputs": [
    {
     "name": "stdout",
     "output_type": "stream",
     "text": [
      "Accuracy of best SVC model on training: 1.0\n",
      "Accuracy of best SVC model on training: 0.571428571429\n"
     ]
    }
   ],
   "source": []
  },
  {
   "cell_type": "markdown",
   "metadata": {
    "deletable": true,
    "editable": true
   },
   "source": [
    "================================================================================================================\n",
    "\n",
    "# PCA + Extra Tree\n",
    "\n",
    "================================================================================================================"
   ]
  },
  {
   "cell_type": "code",
   "execution_count": 32,
   "metadata": {
    "collapsed": true,
    "deletable": true,
    "editable": true
   },
   "outputs": [],
   "source": [
    "## Get 15 principal components\n",
    "pca = PCA(n_components=15)\n",
    "pca.fit(train)\n",
    "pca_transformed = pca.transform(train)\n",
    "\n",
    "pca_transformed_test = pca.transform(test)"
   ]
  },
  {
   "cell_type": "code",
   "execution_count": null,
   "metadata": {
    "collapsed": true,
    "deletable": true,
    "editable": true
   },
   "outputs": [],
   "source": [
    "plt.plot(pca.explained_variance_ratio_)\n",
    "plt.title(\"Scree Plot: 10 Principal Components\")\n",
    "plt.xlabel(\"Number of Components\")\n",
    "plt.ylabel(\"% of Explained Variance\")\n",
    "sum(pca.explained_variance_ratio_)"
   ]
  },
  {
   "cell_type": "code",
   "execution_count": 33,
   "metadata": {
    "collapsed": false,
    "deletable": true,
    "editable": true
   },
   "outputs": [
    {
     "name": "stdout",
     "output_type": "stream",
     "text": [
      "\u001b[31mInitialization\u001b[0m\n",
      "\u001b[94m-----------------------------------------------------------------------------\u001b[0m\n",
      " Step |   Time |      Value |   max_depth |   max_features |   n_estimators | \n",
      "    1 | 00m02s | \u001b[35m   0.80000\u001b[0m | \u001b[32m     9.3402\u001b[0m | \u001b[32m        5.7412\u001b[0m | \u001b[32m      720.6584\u001b[0m | \n",
      "    2 | 00m02s |    0.80000 |      9.7716 |         5.2058 |       612.3286 | \n",
      "    3 | 00m00s | \u001b[35m   0.90000\u001b[0m | \u001b[32m     4.4079\u001b[0m | \u001b[32m        6.8950\u001b[0m | \u001b[32m      170.1955\u001b[0m | \n",
      "    4 | 00m02s |    0.80000 |      7.2055 |         6.7904 |       733.6774 | \n",
      "    5 | 00m01s |    0.80000 |      2.6813 |         6.6747 |       509.2387 | \n",
      "\u001b[31mBayesian Optimization\u001b[0m\n",
      "\u001b[94m-----------------------------------------------------------------------------\u001b[0m\n",
      " Step |   Time |      Value |   max_depth |   max_features |   n_estimators | \n",
      "    6 | 00m14s |    0.80000 |      9.9208 |         6.1433 |       100.0509 | \n",
      "    7 | 00m07s |    0.70000 |      9.9685 |         5.9177 |       899.9763 | \n",
      "    8 | 00m05s |    0.80000 |     10.0000 |         7.0000 |       299.0400 | \n",
      "    9 | 00m04s |    0.90000 |      2.0424 |         5.0522 |       212.4671 | \n",
      "   10 | 00m04s |    0.90000 |      9.9978 |         6.8385 |       193.2148 | \n",
      "   11 | 00m06s |    0.90000 |      2.1041 |         5.1170 |       188.0616 | \n",
      "   12 | 00m04s |    0.80000 |      2.4235 |         6.9605 |       201.8516 | \n",
      "   13 | 00m04s |    0.80000 |     10.0000 |         5.0000 |       408.3465 | \n",
      "   14 | 00m06s |    0.70000 |     10.0000 |         5.0000 |       821.8923 | \n",
      "   15 | 00m05s |    0.90000 |     10.0000 |         5.0000 |       252.3367 | \n",
      "   16 | 00m05s |    0.80000 |      2.0000 |         5.0000 |       355.6872 | \n",
      "   17 | 00m07s |    0.80000 |      2.0000 |         7.0000 |       663.2425 | \n",
      "   18 | 00m07s |    0.70000 |      2.0000 |         5.0000 |       560.9593 | \n",
      "   19 | 00m08s |    0.70000 |      2.0000 |         5.0000 |       458.2347 | \n",
      "   20 | 00m08s |    0.90000 |     10.0000 |         5.0000 |       137.5051 | \n",
      "   21 | 00m06s |    0.80000 |     10.0000 |         5.0000 |       228.2718 | \n",
      "   22 | 00m09s |    0.70000 |      2.0000 |         5.0000 |       778.6758 | \n",
      "   23 | 00m07s |    0.70000 |      2.0000 |         5.0000 |       272.6347 | \n",
      "   24 | 00m09s |    0.70000 |      2.0000 |         7.0000 |       862.5382 | \n",
      "   25 | 00m07s |    0.80000 |     10.0000 |         5.0000 |       330.8532 | \n",
      "   26 | 00m08s |    0.80000 |     10.0000 |         7.0000 |       377.8344 | \n",
      "   27 | 00m10s |    0.80000 |     10.0000 |         5.0000 |       641.4862 | \n",
      "   28 | 00m08s |    0.90000 |      2.0000 |         5.0000 |       121.1579 | \n",
      "   29 | 00m09s |    0.70000 |     10.0000 |         5.0000 |       531.0123 | \n",
      "   30 | 00m10s |    0.80000 |     10.0000 |         7.0000 |       686.9560 | \n",
      "-----------------------------------------------------\n",
      "\n",
      "201.471221\n",
      "Bayesian Optimization Best Score: 0\n",
      "Bayesian Optimization Best Parameters: {'max_features': 6.8950306783036028, 'n_estimators': 170.19554897947398, 'max_depth': 4.4079188254209782}\n",
      "{'max_val': 0.90000000000000002, 'max_params': {'max_features': 6.8950306783036028, 'n_estimators': 170.19554897947398, 'max_depth': 4.4079188254209782}}\n"
     ]
    }
   ],
   "source": [
    "# Run BO for pca of color histogram\n",
    "extr_bo(extr_pca_evaluate)"
   ]
  },
  {
   "cell_type": "code",
   "execution_count": 35,
   "metadata": {
    "collapsed": false,
    "deletable": true,
    "editable": true
   },
   "outputs": [
    {
     "name": "stdout",
     "output_type": "stream",
     "text": [
      "Accuracy of best Extra Tree model on training: 1.0\n",
      "Accuracy of best Extra Tree model on training: 0.285714285714\n"
     ]
    },
    {
     "data": {
      "text/plain": [
       "array([368, 368,  24,  24, 368, 368, 368])"
      ]
     },
     "execution_count": 35,
     "metadata": {},
     "output_type": "execute_result"
    }
   ],
   "source": [
    "# Choose the best params from BO results then predict \n",
    "best_estimators = 170\n",
    "best_max_depth = 5\n",
    "best_max_features = 7\n",
    "best_pca_extrc = ExtraTreesClassifier(n_jobs = 4, n_estimators=best_estimators, oob_score=False,\n",
    "                                max_depth = best_max_depth, max_features = best_max_features)\n",
    "\n",
    "best_pca_extrc.fit(pca_transformed, train_labels)\n",
    "\n",
    "# accuracy of trianing dataset\n",
    "print \"Accuracy of best Extra Tree model on training: %s\" % str(best_pca_extrc.score(pca_transformed, train_labels))\n",
    "\n",
    "# accuracy of testing dataset\n",
    "print \"Accuracy of best Extra Tree model on training: %s\" % str(best_pca_extrc.score(pca_transformed_test, test_labels))\n",
    "\n",
    "\n",
    "# use the best params to predict\n",
    "extrc_pca_true, extrc_pca_pred = test_labels, best_pca_extrc.predict(pca_transformed_test)\n",
    "extrc_pca_pred"
   ]
  },
  {
   "cell_type": "code",
   "execution_count": 36,
   "metadata": {
    "collapsed": false,
    "deletable": true,
    "editable": true
   },
   "outputs": [
    {
     "data": {
      "text/plain": [
       "1.0"
      ]
     },
     "execution_count": 36,
     "metadata": {},
     "output_type": "execute_result"
    }
   ],
   "source": [
    "# accuracy of training dataset\n",
    "best_pca_extrc.score(pca_transformed, train_labels)"
   ]
  },
  {
   "cell_type": "code",
   "execution_count": 37,
   "metadata": {
    "collapsed": false,
    "deletable": true,
    "editable": true
   },
   "outputs": [
    {
     "data": {
      "text/plain": [
       "0.2857142857142857"
      ]
     },
     "execution_count": 37,
     "metadata": {},
     "output_type": "execute_result"
    }
   ],
   "source": [
    "# accuracy of testing dataset\n",
    "best_pca_extrc.score(pca_transformed_test, test_labels)"
   ]
  },
  {
   "cell_type": "code",
   "execution_count": 39,
   "metadata": {
    "collapsed": false,
    "deletable": true,
    "editable": true
   },
   "outputs": [
    {
     "data": {
      "text/html": [
       "<div>\n",
       "<table border=\"1\" class=\"dataframe\">\n",
       "  <thead>\n",
       "    <tr style=\"text-align: right;\">\n",
       "      <th></th>\n",
       "      <th>actual</th>\n",
       "      <th>predictions</th>\n",
       "      <th>results</th>\n",
       "    </tr>\n",
       "  </thead>\n",
       "  <tbody>\n",
       "    <tr>\n",
       "      <th>1008</th>\n",
       "      <td>24</td>\n",
       "      <td>368</td>\n",
       "      <td>False</td>\n",
       "    </tr>\n",
       "    <tr>\n",
       "      <th>1293</th>\n",
       "      <td>368</td>\n",
       "      <td>368</td>\n",
       "      <td>True</td>\n",
       "    </tr>\n",
       "    <tr>\n",
       "      <th>1265</th>\n",
       "      <td>368</td>\n",
       "      <td>24</td>\n",
       "      <td>False</td>\n",
       "    </tr>\n",
       "    <tr>\n",
       "      <th>1197</th>\n",
       "      <td>368</td>\n",
       "      <td>24</td>\n",
       "      <td>False</td>\n",
       "    </tr>\n",
       "    <tr>\n",
       "      <th>1029</th>\n",
       "      <td>24</td>\n",
       "      <td>368</td>\n",
       "      <td>False</td>\n",
       "    </tr>\n",
       "    <tr>\n",
       "      <th>1754</th>\n",
       "      <td>1793</td>\n",
       "      <td>368</td>\n",
       "      <td>False</td>\n",
       "    </tr>\n",
       "    <tr>\n",
       "      <th>1297</th>\n",
       "      <td>368</td>\n",
       "      <td>368</td>\n",
       "      <td>True</td>\n",
       "    </tr>\n",
       "  </tbody>\n",
       "</table>\n",
       "</div>"
      ],
      "text/plain": [
       "      actual  predictions results\n",
       "1008      24          368   False\n",
       "1293     368          368    True\n",
       "1265     368           24   False\n",
       "1197     368           24   False\n",
       "1029      24          368   False\n",
       "1754    1793          368   False\n",
       "1297     368          368    True"
      ]
     },
     "execution_count": 39,
     "metadata": {},
     "output_type": "execute_result"
    }
   ],
   "source": [
    "test_data_df = fns.result_table(extrc_pca_true, extrc_pca_pred)\n",
    "test_data_df"
   ]
  },
  {
   "cell_type": "code",
   "execution_count": null,
   "metadata": {
    "collapsed": true
   },
   "outputs": [],
   "source": []
  }
 ],
 "metadata": {
  "kernelspec": {
   "display_name": "Python 2",
   "language": "python",
   "name": "python2"
  },
  "language_info": {
   "codemirror_mode": {
    "name": "ipython",
    "version": 2
   },
   "file_extension": ".py",
   "mimetype": "text/x-python",
   "name": "python",
   "nbconvert_exporter": "python",
   "pygments_lexer": "ipython2",
   "version": "2.7.9"
  }
 },
 "nbformat": 4,
 "nbformat_minor": 2
}
