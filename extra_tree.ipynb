{
 "cells": [
  {
   "cell_type": "markdown",
   "metadata": {},
   "source": [
    "============================================================================================\n",
    "\n",
    "# Extra Tree\n",
    "\n",
    "\n",
    "============================================================================================\n"
   ]
  },
  {
   "cell_type": "code",
   "execution_count": 1,
   "metadata": {
    "collapsed": true
   },
   "outputs": [],
   "source": [
    "import warnings\n",
    "\n",
    "warnings.filterwarnings('ignore', category=DeprecationWarning)"
   ]
  },
  {
   "cell_type": "code",
   "execution_count": null,
   "metadata": {
    "collapsed": true
   },
   "outputs": [],
   "source": [
    "import pandas as pd\n",
    "import numpy as np\n",
    "import os\n",
    "import re\n",
    "import random\n",
    "from matplotlib import pyplot as plt\n",
    "from sklearn.ensemble import ExtraTreesClassifier\n",
    "\n",
    "\n",
    "from sklearn.model_selection import cross_val_score\n",
    "from bayes_opt import BayesianOptimization\n",
    "\n",
    "from sklearn.decomposition import PCA\n",
    "\n",
    "import fns_models as fns\n",
    "\n",
    "\n",
    "% matplotlib inline\n",
    "\n",
    "from subprocess import check_output\n",
    "print(check_output([\"ls\", \"data\"]).decode(\"utf-8\"))"
   ]
  },
  {
   "cell_type": "code",
   "execution_count": null,
   "metadata": {
    "collapsed": true
   },
   "outputs": [],
   "source": [
    "train, train_labels, test, test_labels = fns.get_top_author(3)\n"
   ]
  },
  {
   "cell_type": "markdown",
   "metadata": {},
   "source": [
    "================================================================================================================\n",
    "\n",
    "# Bayesian Optimization + Extra Tree\n",
    "\n",
    "[bayesian-optimization](https://github.com/fmfn/BayesianOptimization/blob/master/bayes_opt/bayesian_optimization.py)\n",
    "\n",
    "================================================================================================================"
   ]
  },
  {
   "cell_type": "code",
   "execution_count": null,
   "metadata": {
    "collapsed": true
   },
   "outputs": [],
   "source": [
    "def extr_evaluate(max_features, max_depth, n_estimators):\n",
    "    \n",
    "    random.seed(2017)\n",
    "#     params['max_features'] = int(max_features)\n",
    "#     params['max_depth'] = int(max_depth)\n",
    "#     params['n_estimators'] = int(n_estimators)\n",
    "    \n",
    "    extrc = ExtraTreesClassifier(n_jobs = 4, n_estimators=int(n_estimators), oob_score=True,\n",
    "                                max_depth = int(max_depth), max_features = int(max_features),\n",
    "                                random_state = 2017)\n",
    "    #scores = cross_val_score(extrc, X=train, y = train_labels, cv=5, n_jobs = 2)\n",
    "    \n",
    "    # The mean score and the 95% confidence interval of the score estimate are hence given by:\n",
    "    #print(\"Accuracy: %0.2f (+/- %0.2f)\" % (scores.mean(), scores.std() * 2))\n",
    "    #return scores.mean()\n",
    "    extrc.fit(train, train_labels)\n",
    "    return extrc.oob_score_\n",
    "\n",
    "def extr_pca_evaluate(max_features,\n",
    "                    max_depth,\n",
    "                    n_estimators):\n",
    "    \n",
    "    \n",
    "    extrc = ExtraTreesClassifier(n_jobs = 4, n_estimators=int(n_estimators), oob_score=True,\n",
    "                                max_depth = int(max_depth), max_features = int(max_features),\n",
    "                                random_state = 2017)\n",
    "    \n",
    "    extrc.fit(pca_transformed, train_labels)\n",
    "    return extrc.oob_score_\n",
    "\n",
    "def extr_bo(extr_fnc=extr_evaluate):\n",
    "    num_iter = 25\n",
    "    init_points = 5\n",
    "    random_state = 2017\n",
    "    # params = {\n",
    "    #     #'eta': 0.1,\n",
    "    #     #'silent': 1,\n",
    "    #     'eval_metric': 'mae',\n",
    "    #     'verbose_eval': True,\n",
    "    #     #'seed': random_state\n",
    "    # }\n",
    "\n",
    "    extrBO = BayesianOptimization(extr_fnc, {'max_features': (5, 7),\n",
    "                                             'max_depth': (2, 10),\n",
    "                                             'n_estimators': (100, 900)})\n",
    "\n",
    "    extrBO.maximize(init_points=init_points, n_iter=num_iter)\n",
    "    \n",
    "    print \"Bayesian Optimization Best Score: %d\" % extrBO.res['max']['max_val']\n",
    "\n",
    "    print \"Bayesian Optimization Best Parameters: %s\" % str(extrBO.res['max']['max_params'])\n",
    "    \n",
    "    print (extrBO.res['max'])\n",
    "    \n",
    "    fns.plot_bo(extr_fnc, extrBO)\n",
    "\n",
    "#     print \"Bayesian Optimization  Parameters: %s\" % str(extrBO.res['all'])\n",
    "\n"
   ]
  },
  {
   "cell_type": "code",
   "execution_count": null,
   "metadata": {
    "collapsed": true
   },
   "outputs": [],
   "source": [
    "# Run BO for color histogram\n",
    "extr_bo(extr_evaluate)"
   ]
  },
  {
   "cell_type": "code",
   "execution_count": null,
   "metadata": {
    "collapsed": true
   },
   "outputs": [],
   "source": [
    "# Choose the best params from BO results then predict \n",
    "best_estimators = \n",
    "best_max_depth = \n",
    "best_max_features = \n",
    "best_extrc = ExtraTreesClassifier(n_jobs = 4, n_estimators=best_estimators, oob_score=False,\n",
    "                                max_depth = best_max_depth, max_features = best_max_features)\n",
    "\n",
    "best_extrc.fit(train, train_labels)\n",
    "\n",
    "# use the best params to predict\n",
    "extrc_true, extrc_pred = test_labels, best_extrc.predict(test)\n",
    "extrc_pred"
   ]
  },
  {
   "cell_type": "code",
   "execution_count": null,
   "metadata": {
    "collapsed": true
   },
   "outputs": [],
   "source": [
    "test_data_df = fns.result_table(extrc_true, extrc_pred)\n",
    "test_data_df"
   ]
  },
  {
   "cell_type": "code",
   "execution_count": null,
   "metadata": {
    "collapsed": true
   },
   "outputs": [],
   "source": []
  },
  {
   "cell_type": "markdown",
   "metadata": {},
   "source": [
    "================================================================================================================\n",
    "\n",
    "# PCA + Extra Tree\n",
    "\n",
    "================================================================================================================"
   ]
  },
  {
   "cell_type": "code",
   "execution_count": null,
   "metadata": {
    "collapsed": true
   },
   "outputs": [],
   "source": [
    "## Get 15 principal components\n",
    "pca = PCA(n_components=15)\n",
    "pca.fit(train)\n",
    "pca_transformed = pca.transform(train)\n",
    "\n",
    "pca_transformed_test = pca.transform(test)"
   ]
  },
  {
   "cell_type": "code",
   "execution_count": null,
   "metadata": {
    "collapsed": true
   },
   "outputs": [],
   "source": [
    "plt.plot(pca.explained_variance_ratio_)\n",
    "plt.title(\"Scree Plot: 10 Principal Components\")\n",
    "plt.xlabel(\"Number of Components\")\n",
    "plt.ylabel(\"% of Explained Variance\")\n",
    "sum(pca.explained_variance_ratio_)"
   ]
  },
  {
   "cell_type": "code",
   "execution_count": null,
   "metadata": {
    "collapsed": true
   },
   "outputs": [],
   "source": [
    "# Run BO for pca of color histogram\n",
    "extr_bo(extr_pca_evaluate)"
   ]
  },
  {
   "cell_type": "code",
   "execution_count": null,
   "metadata": {
    "collapsed": true
   },
   "outputs": [],
   "source": [
    "# Choose the best params from BO results then predict \n",
    "best_estimators = \n",
    "best_max_depth = \n",
    "best_max_features = \n",
    "best_pca_extrc = ExtraTreesClassifier(n_jobs = 4, n_estimators=best_estimators, oob_score=False,\n",
    "                                max_depth = best_max_depth, max_features = best_max_features)\n",
    "\n",
    "best_pca_extrc.fit(train, train_labels)\n",
    "\n",
    "# use the best params to predict\n",
    "extrc_pca_true, extrc_pca_pred = test_labels, best_extrc.predict(test)\n",
    "extrc_pca_pred"
   ]
  },
  {
   "cell_type": "code",
   "execution_count": null,
   "metadata": {
    "collapsed": true
   },
   "outputs": [],
   "source": [
    "# accuracy of training dataset\n",
    "best_pca_extrc.score(pca_transformed, train_labels)"
   ]
  },
  {
   "cell_type": "code",
   "execution_count": null,
   "metadata": {
    "collapsed": true
   },
   "outputs": [],
   "source": [
    "# accuracy of testing dataset\n",
    "best_pca_extrc.score(pca_transformed_test, test_labels)"
   ]
  },
  {
   "cell_type": "code",
   "execution_count": null,
   "metadata": {
    "collapsed": true
   },
   "outputs": [],
   "source": [
    "test_data_df = result_table(extrc_pca_true, extrc_pca_pred)\n",
    "test_data_df"
   ]
  }
 ],
 "metadata": {
  "kernelspec": {
   "display_name": "Python [conda root]",
   "language": "python",
   "name": "conda-root-py"
  },
  "language_info": {
   "codemirror_mode": {
    "name": "ipython",
    "version": 2
   },
   "file_extension": ".py",
   "mimetype": "text/x-python",
   "name": "python",
   "nbconvert_exporter": "python",
   "pygments_lexer": "ipython2",
   "version": "2.7.12"
  }
 },
 "nbformat": 4,
 "nbformat_minor": 2
}
