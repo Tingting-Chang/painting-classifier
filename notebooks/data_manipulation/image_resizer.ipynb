{
 "cells": [
  {
   "cell_type": "code",
   "execution_count": 1,
   "metadata": {
    "collapsed": true,
    "deletable": true,
    "editable": true
   },
   "outputs": [],
   "source": [
    "from PIL import Image\n",
    "import pandas as pd\n",
    "import numpy as np\n",
    "import os, sys\n",
    "from concurrent.futures import ThreadPoolExecutor, as_completed, Future\n",
    "from threading import Lock"
   ]
  },
  {
   "cell_type": "code",
   "execution_count": 2,
   "metadata": {
    "collapsed": true,
    "deletable": true,
    "editable": true
   },
   "outputs": [],
   "source": [
    "def full_image_path(author_id, painting_id):\n",
    "    return 'data/images_athenaeum/full/%d/%d.jpg' % (author_id, painting_id)\n",
    "def half_image_path(author_id, painting_id):\n",
    "    return 'data/images_athenaeum/half/%d' % author_id, '%d.jpg' % painting_id"
   ]
  },
  {
   "cell_type": "code",
   "execution_count": 3,
   "metadata": {
    "collapsed": true,
    "deletable": true,
    "editable": true
   },
   "outputs": [],
   "source": [
    "paintings = pd.read_csv('data/athenaeum_paintings_sizes.csv')"
   ]
  },
  {
   "cell_type": "code",
   "execution_count": 4,
   "metadata": {
    "collapsed": false,
    "deletable": true,
    "editable": true
   },
   "outputs": [
    {
     "data": {
      "text/plain": [
       "(207245, 12)"
      ]
     },
     "execution_count": 4,
     "metadata": {},
     "output_type": "execute_result"
    }
   ],
   "source": [
    "paintings.shape"
   ]
  },
  {
   "cell_type": "code",
   "execution_count": 9,
   "metadata": {
    "collapsed": false,
    "deletable": true,
    "editable": true
   },
   "outputs": [],
   "source": [
    "lock = Lock()\n",
    "\n",
    "def convert_image(author_painting):\n",
    "    author_id, painting_id = author_painting\n",
    "    full_path = full_image_path(author_id, painting_id)\n",
    "    target_path, target_fn = half_image_path(author_id, painting_id)\n",
    "    with lock:\n",
    "        if not os.path.exists(target_path):\n",
    "            os.makedirs(target_path)\n",
    "    target_path = os.path.join(target_path, target_fn)\n",
    "    if not os.path.exists(target_path):\n",
    "        im = Image.open(full_path)\n",
    "        im = im.resize((im.width // 2, im.height // 2), Image.LANCZOS)\n",
    "        im.save(target_path)\n",
    "        return True\n",
    "\n",
    "def check_image(author_painting):\n",
    "    author_id, painting_id = author_painting\n",
    "    full_path = full_image_path(author_id, painting_id)\n",
    "    target_path, target_fn = half_image_path(author_id, painting_id)\n",
    "    target_path = os.path.join(target_path, target_fn)\n",
    "    try:\n",
    "        im = Image.open(target_path)\n",
    "        size = im.size\n",
    "    except BaseException as e:\n",
    "        if os.path.exists(target_path):\n",
    "            os.remove(target_path)\n",
    "        return convert_image(author_painting)"
   ]
  },
  {
   "cell_type": "code",
   "execution_count": 10,
   "metadata": {
    "collapsed": false,
    "deletable": true,
    "editable": true
   },
   "outputs": [
    {
     "name": "stdout",
     "output_type": "stream",
     "text": [
      "207245/207245, 207245 converted\n"
     ]
    }
   ],
   "source": [
    "num_completed = 0\n",
    "total_guys = len(paintings)\n",
    "to_execute = [[author_id, painting_id] for i, (author_id, painting_id)\n",
    "              in paintings[['author_id', 'painting_id']].iterrows()]\n",
    "converted = 0\n",
    "with ThreadPoolExecutor(max_workers = 8) as executor:\n",
    "    for i in range(0, len(to_execute), 1000):\n",
    "        end = min(i + 1000, len(to_execute))\n",
    "        executions = [executor.submit(check_image, author_painting)\n",
    "                          for author_painting in to_execute[i:end]]\n",
    "        for future in as_completed(executions):\n",
    "            result = future.result()\n",
    "            if result:\n",
    "                converted += 1\n",
    "            num_completed+=1\n",
    "            if num_completed % 100 == 0:\n",
    "                sys.stdout.write('\\r%d/%d' % (num_completed, total_guys))\n",
    "                sys.stdout.flush()\n",
    "sys.stdout.write('\\r%d/%d, %d converted\\n' % (num_completed, total_guys, converted))"
   ]
  }
 ],
 "metadata": {
  "kernelspec": {
   "display_name": "Python 2",
   "language": "python",
   "name": "python2"
  },
  "language_info": {
   "codemirror_mode": {
    "name": "ipython",
    "version": 2
   },
   "file_extension": ".py",
   "mimetype": "text/x-python",
   "name": "python",
   "nbconvert_exporter": "python",
   "pygments_lexer": "ipython2",
   "version": "2.7.12"
  }
 },
 "nbformat": 4,
 "nbformat_minor": 2
}
