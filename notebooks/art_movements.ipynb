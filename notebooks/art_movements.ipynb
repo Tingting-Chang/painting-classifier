{
 "cells": [
  {
   "cell_type": "markdown",
   "metadata": {
    "deletable": true,
    "editable": true
   },
   "source": [
    "# Art Movements Aggregator\n",
    "\n",
    "We want to aggregate art movements into a few classes, primarily due to the existence of movements with very few observations."
   ]
  },
  {
   "cell_type": "code",
   "execution_count": 1,
   "metadata": {
    "collapsed": true,
    "deletable": true,
    "editable": true
   },
   "outputs": [],
   "source": [
    "import pandas as pd\n",
    "import numpy as np\n",
    "from matplotlib import pyplot as plt\n",
    "%matplotlib inline"
   ]
  },
  {
   "cell_type": "code",
   "execution_count": 2,
   "metadata": {
    "collapsed": true,
    "deletable": true,
    "editable": true
   },
   "outputs": [],
   "source": [
    "paintings = pd.read_csv('data/athenaeum_painting_filtered.csv')\n",
    "authors = pd.read_csv('data/athenaeum_authors.csv')"
   ]
  },
  {
   "cell_type": "code",
   "execution_count": 3,
   "metadata": {
    "collapsed": false,
    "deletable": true,
    "editable": true
   },
   "outputs": [
    {
     "data": {
      "text/html": [
       "<div>\n",
       "<table border=\"1\" class=\"dataframe\">\n",
       "  <thead>\n",
       "    <tr style=\"text-align: right;\">\n",
       "      <th></th>\n",
       "      <th>medium</th>\n",
       "      <th>painting_location</th>\n",
       "      <th>height</th>\n",
       "      <th>article_type</th>\n",
       "      <th>painting_url</th>\n",
       "      <th>painting_dates</th>\n",
       "      <th>painting_title</th>\n",
       "      <th>author_id</th>\n",
       "      <th>painting_id</th>\n",
       "      <th>width</th>\n",
       "      <th>height_px</th>\n",
       "      <th>width_px</th>\n",
       "    </tr>\n",
       "  </thead>\n",
       "  <tbody>\n",
       "    <tr>\n",
       "      <th>0</th>\n",
       "      <td>oil on canvas</td>\n",
       "      <td>Private collection</td>\n",
       "      <td>16.2</td>\n",
       "      <td>Painting</td>\n",
       "      <td>http://www.the-athenaeum.org/art/display_image...</td>\n",
       "      <td>1915</td>\n",
       "      <td>Zucchini, Tomatoes and Eggplant</td>\n",
       "      <td>24</td>\n",
       "      <td>104839</td>\n",
       "      <td>25.0</td>\n",
       "      <td>842</td>\n",
       "      <td>1280</td>\n",
       "    </tr>\n",
       "    <tr>\n",
       "      <th>1</th>\n",
       "      <td>oil on canvas</td>\n",
       "      <td>Private collection</td>\n",
       "      <td>NaN</td>\n",
       "      <td>Painting</td>\n",
       "      <td>http://www.the-athenaeum.org/art/display_image...</td>\n",
       "      <td>1899-1901</td>\n",
       "      <td>Waterloo Bridge, Hazy Sun</td>\n",
       "      <td>13</td>\n",
       "      <td>3831</td>\n",
       "      <td>NaN</td>\n",
       "      <td>710</td>\n",
       "      <td>1103</td>\n",
       "    </tr>\n",
       "    <tr>\n",
       "      <th>2</th>\n",
       "      <td>oil on canvas</td>\n",
       "      <td>Art Institute of Chicago  (United States - Chi...</td>\n",
       "      <td>65.0</td>\n",
       "      <td>Painting</td>\n",
       "      <td>http://www.the-athenaeum.org/art/display_image...</td>\n",
       "      <td>1900</td>\n",
       "      <td>Waterloo Bridge, Grey Weather</td>\n",
       "      <td>13</td>\n",
       "      <td>3268</td>\n",
       "      <td>93.0</td>\n",
       "      <td>571</td>\n",
       "      <td>800</td>\n",
       "    </tr>\n",
       "    <tr>\n",
       "      <th>3</th>\n",
       "      <td>oil on canvas</td>\n",
       "      <td>Ordrupgaard Collection - Copenhagen  (Denmark ...</td>\n",
       "      <td>NaN</td>\n",
       "      <td>Painting</td>\n",
       "      <td>http://www.the-athenaeum.org/art/display_image...</td>\n",
       "      <td>1899-1901</td>\n",
       "      <td>Waterloo Bridge, Grey Weather</td>\n",
       "      <td>13</td>\n",
       "      <td>3817</td>\n",
       "      <td>NaN</td>\n",
       "      <td>682</td>\n",
       "      <td>1066</td>\n",
       "    </tr>\n",
       "    <tr>\n",
       "      <th>4</th>\n",
       "      <td>oil on canvas</td>\n",
       "      <td>Ashmolean Museum of Art and Archaeology - Univ...</td>\n",
       "      <td>41.0</td>\n",
       "      <td>Painting</td>\n",
       "      <td>http://www.the-athenaeum.org/art/display_image...</td>\n",
       "      <td>1871</td>\n",
       "      <td>Windmill near Zaandam</td>\n",
       "      <td>13</td>\n",
       "      <td>3076</td>\n",
       "      <td>72.5</td>\n",
       "      <td>590</td>\n",
       "      <td>1056</td>\n",
       "    </tr>\n",
       "  </tbody>\n",
       "</table>\n",
       "</div>"
      ],
      "text/plain": [
       "          medium                                  painting_location  height  \\\n",
       "0  oil on canvas                                 Private collection    16.2   \n",
       "1  oil on canvas                                 Private collection     NaN   \n",
       "2  oil on canvas  Art Institute of Chicago  (United States - Chi...    65.0   \n",
       "3  oil on canvas  Ordrupgaard Collection - Copenhagen  (Denmark ...     NaN   \n",
       "4  oil on canvas  Ashmolean Museum of Art and Archaeology - Univ...    41.0   \n",
       "\n",
       "  article_type                                       painting_url  \\\n",
       "0     Painting  http://www.the-athenaeum.org/art/display_image...   \n",
       "1     Painting  http://www.the-athenaeum.org/art/display_image...   \n",
       "2     Painting  http://www.the-athenaeum.org/art/display_image...   \n",
       "3     Painting  http://www.the-athenaeum.org/art/display_image...   \n",
       "4     Painting  http://www.the-athenaeum.org/art/display_image...   \n",
       "\n",
       "  painting_dates                   painting_title  author_id  painting_id  \\\n",
       "0           1915  Zucchini, Tomatoes and Eggplant         24       104839   \n",
       "1      1899-1901        Waterloo Bridge, Hazy Sun         13         3831   \n",
       "2           1900    Waterloo Bridge, Grey Weather         13         3268   \n",
       "3      1899-1901    Waterloo Bridge, Grey Weather         13         3817   \n",
       "4           1871            Windmill near Zaandam         13         3076   \n",
       "\n",
       "   width  height_px  width_px  \n",
       "0   25.0        842      1280  \n",
       "1    NaN        710      1103  \n",
       "2   93.0        571       800  \n",
       "3    NaN        682      1066  \n",
       "4   72.5        590      1056  "
      ]
     },
     "execution_count": 3,
     "metadata": {},
     "output_type": "execute_result"
    }
   ],
   "source": [
    "paintings.head()"
   ]
  },
  {
   "cell_type": "code",
   "execution_count": 4,
   "metadata": {
    "collapsed": false,
    "deletable": true,
    "editable": true
   },
   "outputs": [
    {
     "data": {
      "text/html": [
       "<div>\n",
       "<table border=\"1\" class=\"dataframe\">\n",
       "  <thead>\n",
       "    <tr style=\"text-align: right;\">\n",
       "      <th></th>\n",
       "      <th>first_name</th>\n",
       "      <th>last_name</th>\n",
       "      <th>death_year</th>\n",
       "      <th>bio_url</th>\n",
       "      <th>nationality</th>\n",
       "      <th>art_movement</th>\n",
       "      <th>author_id</th>\n",
       "      <th>bio_info</th>\n",
       "      <th>birth_year</th>\n",
       "    </tr>\n",
       "  </thead>\n",
       "  <tbody>\n",
       "    <tr>\n",
       "      <th>0</th>\n",
       "      <td>Pierre Auguste</td>\n",
       "      <td>Renoir</td>\n",
       "      <td>1919.0</td>\n",
       "      <td>http://www.the-athenaeum.org/people/detail.php...</td>\n",
       "      <td>French</td>\n",
       "      <td>Impressionist</td>\n",
       "      <td>24</td>\n",
       "      <td>French Impressionist Painter.\\nOne of the most...</td>\n",
       "      <td>1841</td>\n",
       "    </tr>\n",
       "    <tr>\n",
       "      <th>1</th>\n",
       "      <td>Oscar-Claude</td>\n",
       "      <td>Monet</td>\n",
       "      <td>1926.0</td>\n",
       "      <td>http://www.the-athenaeum.org/people/detail.php...</td>\n",
       "      <td>French</td>\n",
       "      <td>Impressionist</td>\n",
       "      <td>13</td>\n",
       "      <td>French Impressionist painter (Paris, 14 Novemb...</td>\n",
       "      <td>1840</td>\n",
       "    </tr>\n",
       "    <tr>\n",
       "      <th>2</th>\n",
       "      <td>John Singer</td>\n",
       "      <td>Sargent</td>\n",
       "      <td>1925.0</td>\n",
       "      <td>http://www.the-athenaeum.org/people/detail.php...</td>\n",
       "      <td>American</td>\n",
       "      <td>Impressionist</td>\n",
       "      <td>368</td>\n",
       "      <td>American impressionist painter.\\nA prolific ar...</td>\n",
       "      <td>1856</td>\n",
       "    </tr>\n",
       "    <tr>\n",
       "      <th>3</th>\n",
       "      <td>Joseph Mallord William</td>\n",
       "      <td>Turner</td>\n",
       "      <td>1851.0</td>\n",
       "      <td>http://www.the-athenaeum.org/people/detail.php...</td>\n",
       "      <td>English</td>\n",
       "      <td>Romantic</td>\n",
       "      <td>1315</td>\n",
       "      <td>English romantic painter and watercolourist.\\n...</td>\n",
       "      <td>1775</td>\n",
       "    </tr>\n",
       "    <tr>\n",
       "      <th>4</th>\n",
       "      <td>Vincent Willem van</td>\n",
       "      <td>Gogh</td>\n",
       "      <td>1890.0</td>\n",
       "      <td>http://www.the-athenaeum.org/people/detail.php...</td>\n",
       "      <td>Dutch</td>\n",
       "      <td>Post-Impressionist</td>\n",
       "      <td>789</td>\n",
       "      <td>Dutch Post-Impressionist painter who remains o...</td>\n",
       "      <td>1853</td>\n",
       "    </tr>\n",
       "  </tbody>\n",
       "</table>\n",
       "</div>"
      ],
      "text/plain": [
       "               first_name last_name  death_year  \\\n",
       "0          Pierre Auguste    Renoir      1919.0   \n",
       "1            Oscar-Claude     Monet      1926.0   \n",
       "2             John Singer   Sargent      1925.0   \n",
       "3  Joseph Mallord William    Turner      1851.0   \n",
       "4      Vincent Willem van      Gogh      1890.0   \n",
       "\n",
       "                                             bio_url nationality  \\\n",
       "0  http://www.the-athenaeum.org/people/detail.php...      French   \n",
       "1  http://www.the-athenaeum.org/people/detail.php...      French   \n",
       "2  http://www.the-athenaeum.org/people/detail.php...    American   \n",
       "3  http://www.the-athenaeum.org/people/detail.php...     English   \n",
       "4  http://www.the-athenaeum.org/people/detail.php...       Dutch   \n",
       "\n",
       "         art_movement  author_id  \\\n",
       "0       Impressionist         24   \n",
       "1       Impressionist         13   \n",
       "2       Impressionist        368   \n",
       "3            Romantic       1315   \n",
       "4  Post-Impressionist        789   \n",
       "\n",
       "                                            bio_info  birth_year  \n",
       "0  French Impressionist Painter.\\nOne of the most...        1841  \n",
       "1  French Impressionist painter (Paris, 14 Novemb...        1840  \n",
       "2  American impressionist painter.\\nA prolific ar...        1856  \n",
       "3  English romantic painter and watercolourist.\\n...        1775  \n",
       "4  Dutch Post-Impressionist painter who remains o...        1853  "
      ]
     },
     "execution_count": 4,
     "metadata": {},
     "output_type": "execute_result"
    }
   ],
   "source": [
    "authors.head()"
   ]
  },
  {
   "cell_type": "code",
   "execution_count": 5,
   "metadata": {
    "collapsed": true,
    "deletable": true,
    "editable": true
   },
   "outputs": [],
   "source": [
    "authors = authors.dropna(subset = ['art_movement'])"
   ]
  },
  {
   "cell_type": "code",
   "execution_count": 6,
   "metadata": {
    "collapsed": false,
    "deletable": true,
    "editable": true
   },
   "outputs": [
    {
     "data": {
      "text/plain": [
       "(1391, 9)"
      ]
     },
     "execution_count": 6,
     "metadata": {},
     "output_type": "execute_result"
    }
   ],
   "source": [
    "authors.shape"
   ]
  },
  {
   "cell_type": "code",
   "execution_count": 7,
   "metadata": {
    "collapsed": true,
    "deletable": true,
    "editable": true
   },
   "outputs": [],
   "source": [
    "paintings_with_movement = paintings[['author_id', 'painting_id']]\\\n",
    "        .merge(authors[['author_id', 'art_movement']], on = 'author_id', how = 'inner')"
   ]
  },
  {
   "cell_type": "code",
   "execution_count": 8,
   "metadata": {
    "collapsed": false,
    "deletable": true,
    "editable": true
   },
   "outputs": [
    {
     "data": {
      "text/plain": [
       "(206550, 12)"
      ]
     },
     "execution_count": 8,
     "metadata": {},
     "output_type": "execute_result"
    }
   ],
   "source": [
    "paintings.shape"
   ]
  },
  {
   "cell_type": "code",
   "execution_count": 9,
   "metadata": {
    "collapsed": false,
    "deletable": true,
    "editable": true
   },
   "outputs": [
    {
     "data": {
      "text/plain": [
       "(95799, 3)"
      ]
     },
     "execution_count": 9,
     "metadata": {},
     "output_type": "execute_result"
    }
   ],
   "source": [
    "paintings_with_movement.shape"
   ]
  },
  {
   "cell_type": "code",
   "execution_count": 10,
   "metadata": {
    "collapsed": false,
    "deletable": true,
    "editable": true
   },
   "outputs": [
    {
     "data": {
      "text/html": [
       "<div>\n",
       "<table border=\"1\" class=\"dataframe\">\n",
       "  <thead>\n",
       "    <tr style=\"text-align: right;\">\n",
       "      <th></th>\n",
       "      <th>author_id</th>\n",
       "      <th>painting_id</th>\n",
       "      <th>art_movement</th>\n",
       "    </tr>\n",
       "  </thead>\n",
       "  <tbody>\n",
       "    <tr>\n",
       "      <th>0</th>\n",
       "      <td>24</td>\n",
       "      <td>104839</td>\n",
       "      <td>Impressionist</td>\n",
       "    </tr>\n",
       "    <tr>\n",
       "      <th>1</th>\n",
       "      <td>24</td>\n",
       "      <td>95487</td>\n",
       "      <td>Impressionist</td>\n",
       "    </tr>\n",
       "    <tr>\n",
       "      <th>2</th>\n",
       "      <td>24</td>\n",
       "      <td>6031</td>\n",
       "      <td>Impressionist</td>\n",
       "    </tr>\n",
       "    <tr>\n",
       "      <th>3</th>\n",
       "      <td>24</td>\n",
       "      <td>5957</td>\n",
       "      <td>Impressionist</td>\n",
       "    </tr>\n",
       "    <tr>\n",
       "      <th>4</th>\n",
       "      <td>24</td>\n",
       "      <td>4573</td>\n",
       "      <td>Impressionist</td>\n",
       "    </tr>\n",
       "  </tbody>\n",
       "</table>\n",
       "</div>"
      ],
      "text/plain": [
       "   author_id  painting_id   art_movement\n",
       "0         24       104839  Impressionist\n",
       "1         24        95487  Impressionist\n",
       "2         24         6031  Impressionist\n",
       "3         24         5957  Impressionist\n",
       "4         24         4573  Impressionist"
      ]
     },
     "execution_count": 10,
     "metadata": {},
     "output_type": "execute_result"
    }
   ],
   "source": [
    "paintings_with_movement.head()"
   ]
  },
  {
   "cell_type": "markdown",
   "metadata": {
    "deletable": true,
    "editable": true
   },
   "source": [
    "### From http://www.the-athenaeum.org/art/movements.php:\n",
    "\n",
    "    Abstract art (1914-1960)\n",
    "        - Suprematism (1913-1927)\n",
    "        - De Stijl (1917-1931)\n",
    "        - Abstraction-Création (1931-1936)\n",
    "        - Abstract Expressionism (1940-1960)\n",
    "    Academism (1850-1910)\n",
    "    Art Nouveau (1890-1910)\n",
    "    Ashcan school (1908-1920)\n",
    "    Baroque (1590-1720)\n",
    "        - Caravaggisti (1590-1640)\n",
    "        - Dutch Golden Age (1600-1680)\n",
    "        - Classicism (1610-1700)\n",
    "    Early Netherlandish (1400-1530)\n",
    "    Expressionism (1905-1940)\n",
    "        - Fauvism (1904-1912)\n",
    "        - Die Brücke (1905-1912)\n",
    "        - Cubism (1907-1925)\n",
    "        - Futurism (1909-1944)\n",
    "        - Der Blaue Reiter (1910-1914)\n",
    "        - Dada (1916-1924)\n",
    "        - Bauhaus (1919-1932)\n",
    "    Impressionism (1863-1920)\n",
    "        - Skagen Painters (1878-1910)\n",
    "        - Old Lyme Colony (1900-1915)\n",
    "    Neoclassicism (1760-1820)\n",
    "    Pop Art (1955-1975)\n",
    "    Post-Impressionism (1885-1914)\n",
    "        - Pointilism (1885-1910)\n",
    "        - Les Nabis (1888-1905)\n",
    "    Pre-Raphaelites (1848-1910)\n",
    "    Realism (1830-1900)\n",
    "        - Hudson River School (1825-1870)\n",
    "        - Barbizon school (1830-1880)\n",
    "        - Peredvizhniki (1863-1890)\n",
    "    Renaissance (1440-1590)\n",
    "        - Early Renaissance (1420-1500)\n",
    "        - High Renaissance (1500-1530)\n",
    "        - Northern Renaissance (1500-1590)\n",
    "        - Mannerism (1520-1600)\n",
    "    Rococo (1710-1780)\n",
    "    Romanticism (1790-1850)\n",
    "        - Nazarene (1809-1850)\n",
    "    Surrealism (1924-1970)\n",
    "    Symbolism (1870-1910)\n",
    "    Veduta (1720-1770)"
   ]
  },
  {
   "cell_type": "code",
   "execution_count": 11,
   "metadata": {
    "collapsed": true,
    "deletable": true,
    "editable": true
   },
   "outputs": [],
   "source": [
    "def convert_art_movement(movement):\n",
    "    return art_movement_conversor_key.get(movement, movement)"
   ]
  },
  {
   "cell_type": "code",
   "execution_count": 12,
   "metadata": {
    "collapsed": true,
    "deletable": true,
    "editable": true
   },
   "outputs": [],
   "source": [
    "def get_new_movement_counts(df):\n",
    "    return df['art_movement'].apply(convert_art_movement).value_counts()"
   ]
  },
  {
   "cell_type": "code",
   "execution_count": 13,
   "metadata": {
    "collapsed": true,
    "deletable": true,
    "editable": true
   },
   "outputs": [],
   "source": [
    "art_movement_conversor_key = {'Nazarene': 'Romantic',\n",
    "                             'Abstraction-Création': 'Abstract',\n",
    "                             'High Renaissance': 'Renaissance',\n",
    "                             'Futurist': 'Expressionist',\n",
    "                             'Bauhaus': 'Expressionist',\n",
    "                             'De Stijl': 'Abstract',\n",
    "                             'Fauvist': 'Expressionist',\n",
    "                             'Early Renaissance': 'Renaissance',\n",
    "                             'Suprematist': 'Abstract',\n",
    "                             'Pointilist': 'Post-Impressionist',\n",
    "                             'Mannerism': 'Renaissance',\n",
    "                             'Caravaggisti': 'Baroque',\n",
    "                             'Nabi': 'Post-Impressionist',\n",
    "                             'Skagen': 'Impressionist',\n",
    "                             'Northern Renaissance': 'Renaissance',\n",
    "                             'Old Lyme Colony': 'Impressionist',\n",
    "                             'Barbizon': 'Realist',\n",
    "                             'Peredvizhniki': 'Realist',\n",
    "                             'Hudson River School': 'Realist',\n",
    "                             'Dutch Golden Age': 'Baroque'}\n",
    "\n",
    "# Unhandled: Surrealist, Art Nouveau, Early Netherlandish, Abstract, Veduta, Ashcan, Pre-Raphaelite, Classicist,\n",
    "# Neoclassicist, Symbolist, Rococo, Expressionist, Romantic, Academist, Renaissance, Post-Impressionist, Realist,\n",
    "# Baroque, Impressionist"
   ]
  },
  {
   "cell_type": "code",
   "execution_count": 14,
   "metadata": {
    "collapsed": false,
    "deletable": true,
    "editable": true
   },
   "outputs": [
    {
     "data": {
      "text/plain": [
       "Surrealist               159\n",
       "Art Nouveau              225\n",
       "Early Netherlandish      348\n",
       "Abstract                 667\n",
       "Veduta                  1090\n",
       "Ashcan                  1134\n",
       "Pre-Raphaelite          1568\n",
       "Classicist              1934\n",
       "Neoclassicist           2448\n",
       "Symbolist               3660\n",
       "Rococo                  4770\n",
       "Expressionist           5144\n",
       "Romantic                5523\n",
       "Academist               6081\n",
       "Renaissance             8484\n",
       "Post-Impressionist      9943\n",
       "Realist                11458\n",
       "Baroque                13028\n",
       "Impressionist          18135\n",
       "Name: art_movement, dtype: int64"
      ]
     },
     "execution_count": 14,
     "metadata": {},
     "output_type": "execute_result"
    }
   ],
   "source": [
    "get_new_movement_counts(paintings_with_movement)[::-1]"
   ]
  },
  {
   "cell_type": "code",
   "execution_count": 15,
   "metadata": {
    "collapsed": false,
    "deletable": true,
    "editable": true
   },
   "outputs": [],
   "source": [
    "authors_new_movement = authors.loc[:, ['author_id', 'art_movement']]\n",
    "authors_new_movement['sup_art_movement'] = authors_new_movement['art_movement'].apply(convert_art_movement)\n",
    "paintings_to_export = paintings.merge(authors_new_movement, how = 'inner', on = 'author_id')"
   ]
  },
  {
   "cell_type": "code",
   "execution_count": 16,
   "metadata": {
    "collapsed": false,
    "deletable": true,
    "editable": true
   },
   "outputs": [
    {
     "data": {
      "text/html": [
       "<div>\n",
       "<table border=\"1\" class=\"dataframe\">\n",
       "  <thead>\n",
       "    <tr style=\"text-align: right;\">\n",
       "      <th></th>\n",
       "      <th>medium</th>\n",
       "      <th>painting_location</th>\n",
       "      <th>height</th>\n",
       "      <th>article_type</th>\n",
       "      <th>painting_url</th>\n",
       "      <th>painting_dates</th>\n",
       "      <th>painting_title</th>\n",
       "      <th>author_id</th>\n",
       "      <th>painting_id</th>\n",
       "      <th>width</th>\n",
       "      <th>height_px</th>\n",
       "      <th>width_px</th>\n",
       "      <th>art_movement</th>\n",
       "      <th>sup_art_movement</th>\n",
       "    </tr>\n",
       "  </thead>\n",
       "  <tbody>\n",
       "    <tr>\n",
       "      <th>0</th>\n",
       "      <td>oil on canvas</td>\n",
       "      <td>Private collection</td>\n",
       "      <td>16.2</td>\n",
       "      <td>Painting</td>\n",
       "      <td>http://www.the-athenaeum.org/art/display_image...</td>\n",
       "      <td>1915</td>\n",
       "      <td>Zucchini, Tomatoes and Eggplant</td>\n",
       "      <td>24</td>\n",
       "      <td>104839</td>\n",
       "      <td>25.0</td>\n",
       "      <td>842</td>\n",
       "      <td>1280</td>\n",
       "      <td>Impressionist</td>\n",
       "      <td>Impressionist</td>\n",
       "    </tr>\n",
       "    <tr>\n",
       "      <th>1</th>\n",
       "      <td>oil on canvas</td>\n",
       "      <td>Private collection</td>\n",
       "      <td>25.5</td>\n",
       "      <td>Painting</td>\n",
       "      <td>http://www.the-athenaeum.org/art/display_image...</td>\n",
       "      <td>1872</td>\n",
       "      <td>Young Woman with an Umbrella</td>\n",
       "      <td>24</td>\n",
       "      <td>95487</td>\n",
       "      <td>19.4</td>\n",
       "      <td>1280</td>\n",
       "      <td>981</td>\n",
       "      <td>Impressionist</td>\n",
       "      <td>Impressionist</td>\n",
       "    </tr>\n",
       "    <tr>\n",
       "      <th>2</th>\n",
       "      <td>oil on canvas</td>\n",
       "      <td>Private collection</td>\n",
       "      <td>NaN</td>\n",
       "      <td>Painting</td>\n",
       "      <td>http://www.the-athenaeum.org/art/display_image...</td>\n",
       "      <td>1899</td>\n",
       "      <td>Yvonne and Jean</td>\n",
       "      <td>24</td>\n",
       "      <td>6031</td>\n",
       "      <td>NaN</td>\n",
       "      <td>880</td>\n",
       "      <td>1053</td>\n",
       "      <td>Impressionist</td>\n",
       "      <td>Impressionist</td>\n",
       "    </tr>\n",
       "    <tr>\n",
       "      <th>3</th>\n",
       "      <td>oil on canvas</td>\n",
       "      <td>Musée de l'Orangerie  (France - Paris)</td>\n",
       "      <td>NaN</td>\n",
       "      <td>Painting</td>\n",
       "      <td>http://www.the-athenaeum.org/art/display_image...</td>\n",
       "      <td>1897</td>\n",
       "      <td>Yvonne and Christine Lerolle at the Piano</td>\n",
       "      <td>24</td>\n",
       "      <td>5957</td>\n",
       "      <td>NaN</td>\n",
       "      <td>752</td>\n",
       "      <td>983</td>\n",
       "      <td>Impressionist</td>\n",
       "      <td>Impressionist</td>\n",
       "    </tr>\n",
       "    <tr>\n",
       "      <th>4</th>\n",
       "      <td>oil on canvas</td>\n",
       "      <td>Private collection</td>\n",
       "      <td>76.0</td>\n",
       "      <td>Painting</td>\n",
       "      <td>http://www.the-athenaeum.org/art/display_image...</td>\n",
       "      <td>1886</td>\n",
       "      <td>Young Woman with Crane</td>\n",
       "      <td>24</td>\n",
       "      <td>4573</td>\n",
       "      <td>61.0</td>\n",
       "      <td>1070</td>\n",
       "      <td>854</td>\n",
       "      <td>Impressionist</td>\n",
       "      <td>Impressionist</td>\n",
       "    </tr>\n",
       "  </tbody>\n",
       "</table>\n",
       "</div>"
      ],
      "text/plain": [
       "          medium                       painting_location  height article_type  \\\n",
       "0  oil on canvas                      Private collection    16.2     Painting   \n",
       "1  oil on canvas                      Private collection    25.5     Painting   \n",
       "2  oil on canvas                      Private collection     NaN     Painting   \n",
       "3  oil on canvas  Musée de l'Orangerie  (France - Paris)     NaN     Painting   \n",
       "4  oil on canvas                      Private collection    76.0     Painting   \n",
       "\n",
       "                                        painting_url painting_dates  \\\n",
       "0  http://www.the-athenaeum.org/art/display_image...           1915   \n",
       "1  http://www.the-athenaeum.org/art/display_image...           1872   \n",
       "2  http://www.the-athenaeum.org/art/display_image...           1899   \n",
       "3  http://www.the-athenaeum.org/art/display_image...           1897   \n",
       "4  http://www.the-athenaeum.org/art/display_image...           1886   \n",
       "\n",
       "                              painting_title  author_id  painting_id  width  \\\n",
       "0            Zucchini, Tomatoes and Eggplant         24       104839   25.0   \n",
       "1               Young Woman with an Umbrella         24        95487   19.4   \n",
       "2                            Yvonne and Jean         24         6031    NaN   \n",
       "3  Yvonne and Christine Lerolle at the Piano         24         5957    NaN   \n",
       "4                     Young Woman with Crane         24         4573   61.0   \n",
       "\n",
       "   height_px  width_px   art_movement sup_art_movement  \n",
       "0        842      1280  Impressionist    Impressionist  \n",
       "1       1280       981  Impressionist    Impressionist  \n",
       "2        880      1053  Impressionist    Impressionist  \n",
       "3        752       983  Impressionist    Impressionist  \n",
       "4       1070       854  Impressionist    Impressionist  "
      ]
     },
     "execution_count": 16,
     "metadata": {},
     "output_type": "execute_result"
    }
   ],
   "source": [
    "paintings_to_export.head()"
   ]
  },
  {
   "cell_type": "code",
   "execution_count": 17,
   "metadata": {
    "collapsed": true,
    "deletable": true,
    "editable": true
   },
   "outputs": [],
   "source": [
    "paintings_to_export.to_csv('data/athenaeum_painting_movement.csv', index = False)"
   ]
  },
  {
   "cell_type": "code",
   "execution_count": 18,
   "metadata": {
    "collapsed": true,
    "deletable": true,
    "editable": true
   },
   "outputs": [],
   "source": [
    "from sklearn.model_selection import train_test_split"
   ]
  },
  {
   "cell_type": "code",
   "execution_count": 19,
   "metadata": {
    "collapsed": true,
    "deletable": true,
    "editable": true
   },
   "outputs": [],
   "source": [
    "paintings_movement_train, paintings_movement_test = train_test_split(paintings_to_export, test_size = 0.3,\n",
    "                                                                     stratify = paintings_to_export['sup_art_movement'])"
   ]
  },
  {
   "cell_type": "code",
   "execution_count": 20,
   "metadata": {
    "collapsed": true,
    "deletable": true,
    "editable": true
   },
   "outputs": [],
   "source": [
    "paintings_movement_train.to_csv('data/athenaeum_painting_movement_train.csv', index = False)"
   ]
  },
  {
   "cell_type": "code",
   "execution_count": 21,
   "metadata": {
    "collapsed": true,
    "deletable": true,
    "editable": true
   },
   "outputs": [],
   "source": [
    "paintings_movement_test.to_csv('data/athenaeum_painting_movement_test.csv', index = False)"
   ]
  },
  {
   "cell_type": "code",
   "execution_count": null,
   "metadata": {
    "collapsed": true,
    "deletable": true,
    "editable": true
   },
   "outputs": [],
   "source": []
  }
 ],
 "metadata": {
  "kernelspec": {
   "display_name": "Python 2",
   "language": "python",
   "name": "python2"
  },
  "language_info": {
   "codemirror_mode": {
    "name": "ipython",
    "version": 2
   },
   "file_extension": ".py",
   "mimetype": "text/x-python",
   "name": "python",
   "nbconvert_exporter": "python",
   "pygments_lexer": "ipython2",
   "version": "2.7.9"
  }
 },
 "nbformat": 4,
 "nbformat_minor": 2
}
