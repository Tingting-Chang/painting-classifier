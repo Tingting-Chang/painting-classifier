{
 "cells": [
  {
   "cell_type": "code",
   "execution_count": 1,
   "metadata": {
    "collapsed": true,
    "deletable": true,
    "editable": true
   },
   "outputs": [],
   "source": [
    "import warnings\n",
    "\n",
    "warnings.filterwarnings('ignore', category=DeprecationWarning)"
   ]
  },
  {
   "cell_type": "code",
   "execution_count": 10,
   "metadata": {
    "collapsed": false,
    "deletable": true,
    "editable": true
   },
   "outputs": [
    {
     "name": "stdout",
     "output_type": "stream",
     "text": [
      "athenaeum_authors_preview.csv\n",
      "athenaeum_painting_filtered.csv\n",
      "athenaeum_paintings.csv\n",
      "athenaeum_paintings_sizes.csv\n",
      "color_histograms.csv\n",
      "complete_data.csv\n",
      "images\n",
      "images_athenaeum\n",
      "images_sizes_2325.csv\n",
      "net_predicted.csv\n",
      "painter_info_clean.csv\n",
      "painting_info_clean.csv\n",
      "resized_200\n",
      "test_author200.csv\n",
      "test_data.csv\n",
      "test_hist_author_knn.csv\n",
      "test_hist_author_rf.csv\n",
      "train_author200.csv\n",
      "train_data.csv\n",
      "train_hist_author_knn.csv\n",
      "train_hist_author_rf.csv\n",
      "\n"
     ]
    }
   ],
   "source": [
    "import pandas as pd\n",
    "import numpy as np\n",
    "import time\n",
    "import os\n",
    "import re\n",
    "import random\n",
    "from matplotlib import pyplot as plt\n",
    "from sklearn.cross_validation import cross_val_score\n",
    "from sklearn.model_selection import GridSearchCV\n",
    "from sklearn.svm import SVC\n",
    "from sklearn.decomposition import PCA\n",
    "from bayes_opt import BayesianOptimization\n",
    "from sklearn.metrics import classification_report\n",
    "\n",
    "from src import fns_models as fns\n",
    "\n",
    "\n",
    "% matplotlib inline\n",
    "\n",
    "from subprocess import check_output\n",
    "print(check_output([\"ls\", \"data\"]).decode(\"utf-8\"))"
   ]
  },
  {
   "cell_type": "code",
   "execution_count": 11,
   "metadata": {
    "collapsed": false,
    "deletable": true,
    "editable": true
   },
   "outputs": [
    {
     "name": "stdout",
     "output_type": "stream",
     "text": [
      "[INFO] The size of train histogram for Random Forest(49890, 34)\n",
      "[INFO] The size of test histogram for Random Forest(12473, 34)\n",
      "24      1369\n",
      "1793    1338\n",
      "368     1335\n",
      "Name: author_id, dtype: int64\n",
      "[trian above] ==================================================[test below]\n",
      "24      342\n",
      "1793    335\n",
      "368     334\n",
      "Name: author_id, dtype: int64\n",
      "(4042,)\n",
      "(4042, 34)\n"
     ]
    }
   ],
   "source": [
    "train, train_labels, test, test_labels = fns.get_top_author(3)"
   ]
  },
  {
   "cell_type": "code",
   "execution_count": 12,
   "metadata": {
    "collapsed": false,
    "deletable": true,
    "editable": true
   },
   "outputs": [],
   "source": [
    "# Do not run it \n",
    "train = train.sample(20)\n",
    "test = test.sample(20)\n",
    "train_labels = train_labels.sample(20)\n",
    "test_labels = test_labels.sample(20)"
   ]
  },
  {
   "cell_type": "code",
   "execution_count": 13,
   "metadata": {
    "collapsed": false,
    "deletable": true,
    "editable": true
   },
   "outputs": [],
   "source": [
    "# def svccv(C, gamma, kernel):\n",
    "#     val = cross_val_score(\n",
    "#         SVC(C=C, gamma=gamma, kernel = kernel, random_state=2017),\n",
    "#         train, train_labels, 'f1', cv=5, n_jobs = 4\n",
    "#     ).mean()\n",
    "\n",
    "#     return val\n",
    "\n",
    "# def svccv_pca(C, gamma, kernel):\n",
    "#     val = cross_val_score(\n",
    "#         SVC(C=C, gamma=gamma, kernel = kernel, random_state=2017),\n",
    "#         pca_transformed, train_labels, 'f1', cv=5, n_jobs = 4\n",
    "#     ).mean()\n",
    "\n",
    "#     return val\n",
    "\n",
    "\n",
    "def svc_gs(C, gamma):\n",
    "    gs_params = {\"kernel\": ['linear', 'poly', 'rbf', 'sigmoid'],\n",
    "                'C': [C],\n",
    "                'gamma': [gamma]}\n",
    "    clf = GridSearchCV(SVC(), gs_params, cv=5, n_jobs = 4)\n",
    "    clf.fit(train, train_labels)\n",
    "    \n",
    "#     print(clf.best_params_)\n",
    "#     print clf.score\n",
    "    \n",
    "#     y_true, y_pred = test_labels, clf.best_estimator_.predict(test)\n",
    "#     print(classification_report(y_true, y_pred))\n",
    "    return clf.score\n",
    "\n",
    "def svc_pca_gs(C, gamma):\n",
    "    gs_params = {\"kernel\": ['linear', 'poly', 'rbf', 'sigmoid'],\n",
    "                'C': [C],\n",
    "                'gamma': [gamma]}\n",
    "    clf = GridSearchCV(SVC(), gs_params, cv=5, n_jobs = 4)\n",
    "    clf.fit(pca_transformed, train_labels)\n",
    "    \n",
    "#     print(clf.best_params_)\n",
    "#     print clf.score\n",
    "    \n",
    "#     y_true, y_pred = test_labels, clf.best_estimator_.predict(test)\n",
    "#     print(classification_report(y_true, y_pred))\n",
    "    return clf.score\n",
    "\n",
    "\n",
    "\n",
    "def svc_bo(svc_fn=svc_gs):\n",
    "    start_time = time.time()\n",
    "    \n",
    "    #gp_params = {\"alpha\": 1e-5}\n",
    "\n",
    "    svcBO = BayesianOptimization(svc_fn,\n",
    "        {'C': (0.001, 100), 'gamma': (0.0001, 0.1)})\n",
    "    svcBO.explore({'C': [0.001, 0.01, 0.1], 'gamma': [0.001, 0.01, 0.1]})\n",
    "\n",
    "    svcBO.maximize(n_iter=10)\n",
    "    print('-' * 53)\n",
    "    print '\\n%f' % (time.time() - start_time)\n",
    "    \n",
    "    print \"Bayesian Optimization Best Score: %d\" % svcBO.res['max']['max_val']\n",
    "\n",
    "    print \"Bayesian Optimization Best Parameters: %s\" % str(svcBO.res['max']['max_params'])\n",
    "    fns.plot_bo(svc_fn, svcBO)\n",
    "\n",
    "#     print \"Bayesian Optimization  Parameters: %s\" % str(svcBO.res['all'])\n",
    "    \n",
    "    \n"
   ]
  },
  {
   "cell_type": "code",
   "execution_count": 15,
   "metadata": {
    "collapsed": false,
    "deletable": true,
    "editable": true
   },
   "outputs": [
    {
     "name": "stdout",
     "output_type": "stream",
     "text": [
      "\u001b[31mInitialization\u001b[0m\n",
      "\u001b[94m-----------------------------------------------------\u001b[0m\n",
      " Step |   Time |      Value |         C |     gamma | \n",
      "    1 | 00m00s | "
     ]
    },
    {
     "ename": "ValueError",
     "evalue": "Unknown format code 'f' for object of type 'str'",
     "output_type": "error",
     "traceback": [
      "\u001b[0;31m---------------------------------------------------------------------------\u001b[0m",
      "\u001b[0;31mValueError\u001b[0m                                Traceback (most recent call last)",
      "\u001b[0;32m<ipython-input-15-e6bdbabc5d0a>\u001b[0m in \u001b[0;36m<module>\u001b[0;34m()\u001b[0m\n\u001b[1;32m      1\u001b[0m \u001b[0;31m# SVM for color histgram\u001b[0m\u001b[0;34m\u001b[0m\u001b[0;34m\u001b[0m\u001b[0m\n\u001b[0;32m----> 2\u001b[0;31m \u001b[0msvc_bo\u001b[0m\u001b[0;34m(\u001b[0m\u001b[0;34m)\u001b[0m\u001b[0;34m\u001b[0m\u001b[0m\n\u001b[0m",
      "\u001b[0;32m<ipython-input-13-1027fd4b8aa6>\u001b[0m in \u001b[0;36msvc_bo\u001b[0;34m(svc_fn)\u001b[0m\n\u001b[1;32m     55\u001b[0m     \u001b[0msvcBO\u001b[0m\u001b[0;34m.\u001b[0m\u001b[0mexplore\u001b[0m\u001b[0;34m(\u001b[0m\u001b[0;34m{\u001b[0m\u001b[0;34m'C'\u001b[0m\u001b[0;34m:\u001b[0m \u001b[0;34m[\u001b[0m\u001b[0;36m0.001\u001b[0m\u001b[0;34m,\u001b[0m \u001b[0;36m0.01\u001b[0m\u001b[0;34m,\u001b[0m \u001b[0;36m0.1\u001b[0m\u001b[0;34m]\u001b[0m\u001b[0;34m,\u001b[0m \u001b[0;34m'gamma'\u001b[0m\u001b[0;34m:\u001b[0m \u001b[0;34m[\u001b[0m\u001b[0;36m0.001\u001b[0m\u001b[0;34m,\u001b[0m \u001b[0;36m0.01\u001b[0m\u001b[0;34m,\u001b[0m \u001b[0;36m0.1\u001b[0m\u001b[0;34m]\u001b[0m\u001b[0;34m}\u001b[0m\u001b[0;34m)\u001b[0m\u001b[0;34m\u001b[0m\u001b[0m\n\u001b[1;32m     56\u001b[0m \u001b[0;34m\u001b[0m\u001b[0m\n\u001b[0;32m---> 57\u001b[0;31m     \u001b[0msvcBO\u001b[0m\u001b[0;34m.\u001b[0m\u001b[0mmaximize\u001b[0m\u001b[0;34m(\u001b[0m\u001b[0mn_iter\u001b[0m\u001b[0;34m=\u001b[0m\u001b[0;36m10\u001b[0m\u001b[0;34m)\u001b[0m\u001b[0;34m\u001b[0m\u001b[0m\n\u001b[0m\u001b[1;32m     58\u001b[0m     \u001b[0;32mprint\u001b[0m\u001b[0;34m(\u001b[0m\u001b[0;34m'-'\u001b[0m \u001b[0;34m*\u001b[0m \u001b[0;36m53\u001b[0m\u001b[0;34m)\u001b[0m\u001b[0;34m\u001b[0m\u001b[0m\n\u001b[1;32m     59\u001b[0m     \u001b[0;32mprint\u001b[0m \u001b[0;34m'\\n%f'\u001b[0m \u001b[0;34m%\u001b[0m \u001b[0;34m(\u001b[0m\u001b[0mtime\u001b[0m\u001b[0;34m.\u001b[0m\u001b[0mtime\u001b[0m\u001b[0;34m(\u001b[0m\u001b[0;34m)\u001b[0m \u001b[0;34m-\u001b[0m \u001b[0mstart_time\u001b[0m\u001b[0;34m)\u001b[0m\u001b[0;34m\u001b[0m\u001b[0m\n",
      "\u001b[0;32m/usr/local/lib/python2.7/dist-packages/bayes_opt/bayesian_optimization.pyc\u001b[0m in \u001b[0;36mmaximize\u001b[0;34m(self, init_points, n_iter, acq, kappa, xi, **gp_params)\u001b[0m\n\u001b[1;32m    247\u001b[0m             \u001b[0;32mif\u001b[0m \u001b[0mself\u001b[0m\u001b[0;34m.\u001b[0m\u001b[0mverbose\u001b[0m\u001b[0;34m:\u001b[0m\u001b[0;34m\u001b[0m\u001b[0m\n\u001b[1;32m    248\u001b[0m                 \u001b[0mself\u001b[0m\u001b[0;34m.\u001b[0m\u001b[0mplog\u001b[0m\u001b[0;34m.\u001b[0m\u001b[0mprint_header\u001b[0m\u001b[0;34m(\u001b[0m\u001b[0;34m)\u001b[0m\u001b[0;34m\u001b[0m\u001b[0m\n\u001b[0;32m--> 249\u001b[0;31m             \u001b[0mself\u001b[0m\u001b[0;34m.\u001b[0m\u001b[0minit\u001b[0m\u001b[0;34m(\u001b[0m\u001b[0minit_points\u001b[0m\u001b[0;34m)\u001b[0m\u001b[0;34m\u001b[0m\u001b[0m\n\u001b[0m\u001b[1;32m    250\u001b[0m \u001b[0;34m\u001b[0m\u001b[0m\n\u001b[1;32m    251\u001b[0m         \u001b[0my_max\u001b[0m \u001b[0;34m=\u001b[0m \u001b[0mself\u001b[0m\u001b[0;34m.\u001b[0m\u001b[0mY\u001b[0m\u001b[0;34m.\u001b[0m\u001b[0mmax\u001b[0m\u001b[0;34m(\u001b[0m\u001b[0;34m)\u001b[0m\u001b[0;34m\u001b[0m\u001b[0m\n",
      "\u001b[0;32m/usr/local/lib/python2.7/dist-packages/bayes_opt/bayesian_optimization.pyc\u001b[0m in \u001b[0;36minit\u001b[0;34m(self, init_points)\u001b[0m\n\u001b[1;32m    105\u001b[0m \u001b[0;34m\u001b[0m\u001b[0m\n\u001b[1;32m    106\u001b[0m             \u001b[0;32mif\u001b[0m \u001b[0mself\u001b[0m\u001b[0;34m.\u001b[0m\u001b[0mverbose\u001b[0m\u001b[0;34m:\u001b[0m\u001b[0;34m\u001b[0m\u001b[0m\n\u001b[0;32m--> 107\u001b[0;31m                 \u001b[0mself\u001b[0m\u001b[0;34m.\u001b[0m\u001b[0mplog\u001b[0m\u001b[0;34m.\u001b[0m\u001b[0mprint_step\u001b[0m\u001b[0;34m(\u001b[0m\u001b[0mx\u001b[0m\u001b[0;34m,\u001b[0m \u001b[0my_init\u001b[0m\u001b[0;34m[\u001b[0m\u001b[0;34m-\u001b[0m\u001b[0;36m1\u001b[0m\u001b[0;34m]\u001b[0m\u001b[0;34m)\u001b[0m\u001b[0;34m\u001b[0m\u001b[0m\n\u001b[0m\u001b[1;32m    108\u001b[0m \u001b[0;34m\u001b[0m\u001b[0m\n\u001b[1;32m    109\u001b[0m         \u001b[0;31m# Append any other points passed by the self.initialize method (these\u001b[0m\u001b[0;34m\u001b[0m\u001b[0;34m\u001b[0m\u001b[0m\n",
      "\u001b[0;32m/usr/local/lib/python2.7/dist-packages/bayes_opt/helpers.pyc\u001b[0m in \u001b[0;36mprint_step\u001b[0;34m(self, x, y, warning)\u001b[0m\n\u001b[1;32m    197\u001b[0m             print(\"{0}{2: >10.5f}{1}\".format(BColours.MAGENTA,\n\u001b[1;32m    198\u001b[0m                                              \u001b[0mBColours\u001b[0m\u001b[0;34m.\u001b[0m\u001b[0mENDC\u001b[0m\u001b[0;34m,\u001b[0m\u001b[0;34m\u001b[0m\u001b[0m\n\u001b[0;32m--> 199\u001b[0;31m                                              y),\n\u001b[0m\u001b[1;32m    200\u001b[0m                   end=\" | \")\n\u001b[1;32m    201\u001b[0m \u001b[0;34m\u001b[0m\u001b[0m\n",
      "\u001b[0;31mValueError\u001b[0m: Unknown format code 'f' for object of type 'str'"
     ]
    }
   ],
   "source": [
    "# SVM for color histgram\n",
    "svc_bo()"
   ]
  },
  {
   "cell_type": "code",
   "execution_count": null,
   "metadata": {
    "collapsed": true,
    "deletable": true,
    "editable": true
   },
   "outputs": [],
   "source": [
    "# Build a new model by using the best parameters\n",
    "best_C = \n",
    "best_kernel = \n",
    "beset_gamma = \n",
    "svc_best = SVC(Kernel=best_kernel, C=best_C, gamma=beset_gamma)\n",
    "svc_best"
   ]
  },
  {
   "cell_type": "code",
   "execution_count": null,
   "metadata": {
    "collapsed": true,
    "deletable": true,
    "editable": true
   },
   "outputs": [],
   "source": [
    "svc_best.fit(train, train_labels)\n",
    "\n",
    "# accuracy of trianing dataset\n",
    "print \"Accuracy of best SVC model on training: %s\" % str(svc_best.score(train, train_labels))\n",
    "\n",
    "# accuracy of testing dataset\n",
    "print \"Accuracy of best SVC model on training: %s\" % str(svc_best.score((test, test_labels))\n"
   ]
  },
  {
   "cell_type": "code",
   "execution_count": null,
   "metadata": {
    "collapsed": true,
    "deletable": true,
    "editable": true
   },
   "outputs": [],
   "source": [
    "# use the best params to predict\n",
    "svc_pac_true, svc_pca_pred = test_labels, svc_best.predict(test)\n",
    "svc_pca_pred"
   ]
  },
  {
   "cell_type": "code",
   "execution_count": null,
   "metadata": {
    "collapsed": true,
    "deletable": true,
    "editable": true
   },
   "outputs": [],
   "source": [
    "\n"
   ]
  },
  {
   "cell_type": "code",
   "execution_count": null,
   "metadata": {
    "collapsed": true,
    "deletable": true,
    "editable": true
   },
   "outputs": [],
   "source": []
  },
  {
   "cell_type": "code",
   "execution_count": null,
   "metadata": {
    "collapsed": true,
    "deletable": true,
    "editable": true
   },
   "outputs": [],
   "source": [
    "test_data_df = result_table(svc_pac_true, rfc_pred)\n",
    "test_data_df"
   ]
  },
  {
   "cell_type": "markdown",
   "metadata": {
    "deletable": true,
    "editable": true
   },
   "source": [
    "======================================================================================================\n",
    "\n",
    "# SVM + PCA\n",
    "\n",
    "======================================================================================================"
   ]
  },
  {
   "cell_type": "code",
   "execution_count": 8,
   "metadata": {
    "collapsed": false,
    "deletable": true,
    "editable": true
   },
   "outputs": [],
   "source": [
    "## Get 15 principal components\n",
    "pca = PCA(n_components=15)\n",
    "pca.fit(train)\n",
    "pca_transformed = pca.transform(train)\n",
    "pca_transformed_test = pca.transform(test)"
   ]
  },
  {
   "cell_type": "code",
   "execution_count": 9,
   "metadata": {
    "collapsed": false,
    "deletable": true,
    "editable": true
   },
   "outputs": [
    {
     "data": {
      "text/plain": [
       "0.96356733985523346"
      ]
     },
     "execution_count": 9,
     "metadata": {},
     "output_type": "execute_result"
    },
    {
     "data": {
      "image/png": "[encoded data removed]",
      "text/plain": [
       "<matplotlib.figure.Figure at 0x7ff561276e90>"
      ]
     },
     "metadata": {},
     "output_type": "display_data"
    }
   ],
   "source": [
    "plt.plot(pca.explained_variance_ratio_)\n",
    "plt.title(\"Scree Plot: 10 Principal Components\")\n",
    "plt.xlabel(\"Number of Components\")\n",
    "plt.ylabel(\"% of Explained Variance\")\n",
    "sum(pca.explained_variance_ratio_)"
   ]
  },
  {
   "cell_type": "code",
   "execution_count": null,
   "metadata": {
    "collapsed": true,
    "deletable": true,
    "editable": true
   },
   "outputs": [],
   "source": [
    "# SVM for PCA\n",
    "svc_bo(svccv_pca)\n"
   ]
  },
  {
   "cell_type": "code",
   "execution_count": null,
   "metadata": {
    "collapsed": true,
    "deletable": true,
    "editable": true
   },
   "outputs": [],
   "source": [
    "# Build a new model by using the best parameters\n",
    "# Build a new model by using the best parameters\n",
    "best_C = \n",
    "best_kernel = \n",
    "beset_gamma = \n",
    "svc_pca_best = SVC(Kernel=best_kernel, C=best_C, gamma=beset_gamma)\n",
    "svc_pca_best"
   ]
  },
  {
   "cell_type": "code",
   "execution_count": null,
   "metadata": {
    "collapsed": true,
    "deletable": true,
    "editable": true
   },
   "outputs": [],
   "source": []
  },
  {
   "cell_type": "code",
   "execution_count": null,
   "metadata": {
    "collapsed": true,
    "deletable": true,
    "editable": true
   },
   "outputs": [],
   "source": [
    "svc_pca_best.fit(pca_transformed, train_labels)\n",
    "\n",
    "# accuracy of trianing dataset\n",
    "print \"Accuracy of best SVC model on training: %s\" % str(svc_pca_best.score(pca_transformed, train_labels))\n",
    "\n",
    "# accuracy of testing dataset\n",
    "print \"Accuracy of best SVC model on training: %s\" % str(svc_pca_best.score((pca_transformed_test, test_labels))\n"
   ]
  },
  {
   "cell_type": "code",
   "execution_count": null,
   "metadata": {
    "collapsed": true,
    "deletable": true,
    "editable": true
   },
   "outputs": [],
   "source": [
    "# use the best params to predict\n",
    "svc_pac_true, svc_pca_pred = test_labels, svc_pca_best.predict(pca_transformed_test)\n",
    "svc_pca_pred\n",
    "\n"
   ]
  },
  {
   "cell_type": "code",
   "execution_count": null,
   "metadata": {
    "collapsed": true,
    "deletable": true,
    "editable": true
   },
   "outputs": [],
   "source": [
    "test_data_df = result_table(svc_pac_true, svc_pca_pred)\n",
    "test_data_df"
   ]
  },
  {
   "cell_type": "code",
   "execution_count": null,
   "metadata": {
    "collapsed": true,
    "deletable": true,
    "editable": true
   },
   "outputs": [],
   "source": []
  },
  {
   "cell_type": "code",
   "execution_count": null,
   "metadata": {
    "collapsed": true,
    "deletable": true,
    "editable": true
   },
   "outputs": [],
   "source": []
  },
  {
   "cell_type": "code",
   "execution_count": null,
   "metadata": {
    "collapsed": true,
    "deletable": true,
    "editable": true
   },
   "outputs": [],
   "source": []
  },
  {
   "cell_type": "code",
   "execution_count": null,
   "metadata": {
    "collapsed": true,
    "deletable": true,
    "editable": true
   },
   "outputs": [],
   "source": []
  },
  {
   "cell_type": "code",
   "execution_count": null,
   "metadata": {
    "collapsed": true,
    "deletable": true,
    "editable": true
   },
   "outputs": [],
   "source": []
  },
  {
   "cell_type": "code",
   "execution_count": null,
   "metadata": {
    "collapsed": true,
    "deletable": true,
    "editable": true
   },
   "outputs": [],
   "source": []
  },
  {
   "cell_type": "code",
   "execution_count": 15,
   "metadata": {
    "collapsed": false,
    "deletable": true,
    "editable": true
   },
   "outputs": [],
   "source": [
    "# Do everything with bayesian optimizer.\n",
    "# Drawback: the optimizer will assume the categorical values are ordered\n",
    "# (i.e., if linear and rbf do very poorly, it will likely assume poly would also do poorly)\n",
    "kernels = ['linear', 'poly', 'rbf', 'sigmoid']\n",
    "\n",
    "def svccv(C, gamma, kernel):\n",
    "    val = cross_val_score(\n",
    "        SVC(C=C, gamma=gamma, kernel = kernels[int(kernel)], random_state=2017),\n",
    "        train, train_labels, 'f1', cv=5, n_jobs = 4\n",
    "    ).mean()\n",
    "\n",
    "    return val\n",
    "\n",
    "def svccv_pca(C, gamma, kernel):\n",
    "    val = cross_val_score(\n",
    "        SVC(C=C, gamma=gamma, kernel = kernels[int(kernel)], random_state=2017),\n",
    "        pca_transformed, train_labels, 'f1', cv=5, n_jobs = 4\n",
    "    ).mean()\n",
    "\n",
    "    return val\n",
    "\n",
    "\n",
    "\n",
    "def svc_bo(fvc=svccv):\n",
    "    start_time = time.time()\n",
    "    \n",
    "    gp_params = {\"alpha\": 1e-5}\n",
    "\n",
    "    svcBO = BayesianOptimization(fvc,\n",
    "        {'C': (0.001, 100), 'gamma': (0.0001, 0.1), 'kernel': (0, 3.5)})\n",
    "    svcBO.explore({'C': [0.001, 0.01, 0.1], 'gamma': [0.001, 0.01, 0.1]})\n",
    "\n",
    "    svcBO.maximize(n_iter=10, **gp_params)\n",
    "    print('-' * 53)\n",
    "    print '\\n%f' % (time.time() - start_time)\n",
    "    \n",
    "    print \"Bayesian Optimization Best Score: %d\" % svcBO.res['max']['max_val']\n",
    "\n",
    "    print \"Bayesian Optimization Best Parameters: %s\" % str(svcBO.res['max']['max_params'])\n",
    "\n",
    "    print \"Bayesian Optimization  Parameters: %s\" % str(svcBO.res['all'])\n",
    "\n",
    "    \n",
    "# def svc_gs(C, gamma):\n",
    "#     gs_params = {\"kernel\": ['linear', 'poly', 'rbf', 'sigmoid'],\n",
    "#                 'C': C,\n",
    "#                 'gamma': gamma}\n",
    "#     clf = GridSearchCV(SVC, gs_params, cv=5)\n",
    "#     clf.fit(train, train_labels)\n",
    "    \n",
    "#     print(clf.best_params_)\n",
    "#     print clf.score\n",
    "    \n",
    "#     y_true, y_pred = y_test, clf.best_params_.predict(X_test)\n",
    "#     print(classification_report(y_true, y_pred))\n",
    "\n",
    "    "
   ]
  }
 ],
 "metadata": {
  "anaconda-cloud": {},
  "kernelspec": {
   "display_name": "Python 2",
   "language": "python",
   "name": "python2"
  },
  "language_info": {
   "codemirror_mode": {
    "name": "ipython",
    "version": 2
   },
   "file_extension": ".py",
   "mimetype": "text/x-python",
   "name": "python",
   "nbconvert_exporter": "python",
   "pygments_lexer": "ipython2",
   "version": "2.7.12"
  }
 },
 "nbformat": 4,
 "nbformat_minor": 2
}
