{
 "cells": [
  {
   "cell_type": "code",
   "execution_count": 120,
   "metadata": {
    "collapsed": false
   },
   "outputs": [],
   "source": [
    "from sklearn.linear_model import LogisticRegression\n",
    "from sklearn.neighbors import KNeighborsClassifier\n",
    "from sklearn.naive_bayes import GaussianNB \n",
    "from sklearn.ensemble import RandomForestClassifier\n",
    "from mlxtend.classifier import StackingClassifier\n",
    "\n",
    "from sklearn import tree\n",
    "import pandas as pd\n",
    "import sklearn.cross_validation as cv\n",
    "import numpy as np\n",
    "import sklearn.grid_search as gs\n",
    "from sklearn import ensemble\n",
    "from scipy import sparse"
   ]
  },
  {
   "cell_type": "code",
   "execution_count": 143,
   "metadata": {
    "collapsed": false
   },
   "outputs": [],
   "source": [
    "\n",
    "train = pd.read_json('./input/trian_final_no_dummy.json')\n",
    "test = pd.read_json('./input/test_final_no_dummy.json')\n"
   ]
  },
  {
   "cell_type": "code",
   "execution_count": 263,
   "metadata": {
    "collapsed": false
   },
   "outputs": [],
   "source": [
    "\n",
    "train = pd.read_csv('./input/train_dummies.csv')\n",
    "test = pd.read_csv('./input/test_dummies.csv')\n"
   ]
  },
  {
   "cell_type": "code",
   "execution_count": 264,
   "metadata": {
    "collapsed": true
   },
   "outputs": [],
   "source": [
    "X_train = train.drop(['created'], axis = 1)\n",
    "\n",
    "X_test = test\n",
    "X_test = test.drop(['created'], axis = 1)\n"
   ]
  },
  {
   "cell_type": "code",
   "execution_count": 265,
   "metadata": {
    "collapsed": false
   },
   "outputs": [
    {
     "data": {
      "text/plain": [
       "(49352, 1287)"
      ]
     },
     "execution_count": 265,
     "metadata": {},
     "output_type": "execute_result"
    }
   ],
   "source": [
    "X_train = X_train.drop(X_train.columns[144:344], axis=1)\n",
    "X_test = X_test.drop(X_train.columns[143:343], axis=1)\n",
    "\n",
    "X_train.shape"
   ]
  },
  {
   "cell_type": "code",
   "execution_count": 268,
   "metadata": {
    "collapsed": false
   },
   "outputs": [],
   "source": [
    "X_train.to_csv('./input/train_no_cor.csv', index=False)\n",
    "X_test.to_csv('./input/test_no_cor.csv', index=False)"
   ]
  },
  {
   "cell_type": "code",
   "execution_count": 277,
   "metadata": {
    "collapsed": true
   },
   "outputs": [],
   "source": [
    "train = pd.read_csv('./input/train_no_cor.csv')\n",
    "test = pd.read_csv('./input/test_no_cor.csv')"
   ]
  },
  {
   "cell_type": "code",
   "execution_count": 278,
   "metadata": {
    "collapsed": false
   },
   "outputs": [
    {
     "data": {
      "text/plain": [
       "(49352, 1287)"
      ]
     },
     "execution_count": 278,
     "metadata": {},
     "output_type": "execute_result"
    }
   ],
   "source": [
    "train.shape"
   ]
  },
  {
   "cell_type": "code",
   "execution_count": 279,
   "metadata": {
    "collapsed": false
   },
   "outputs": [
    {
     "data": {
      "text/plain": [
       "(74659, 1286)"
      ]
     },
     "execution_count": 279,
     "metadata": {},
     "output_type": "execute_result"
    }
   ],
   "source": [
    "test.shape"
   ]
  },
  {
   "cell_type": "code",
   "execution_count": 252,
   "metadata": {
    "collapsed": true
   },
   "outputs": [],
   "source": [
    "train_t = train.iloc[1:2, ]\n",
    "test_t = test.iloc[1:2, ]\n",
    "train_t = train_t.drop(['created'], axis = 1)\n",
    "test_t = test_t.drop(['created'], axis = 1)\n"
   ]
  },
  {
   "cell_type": "code",
   "execution_count": 276,
   "metadata": {
    "collapsed": false
   },
   "outputs": [
    {
     "data": {
      "text/plain": [
       "(74659, 1286)"
      ]
     },
     "execution_count": 276,
     "metadata": {},
     "output_type": "execute_result"
    }
   ],
   "source": [
    "X_test.shape"
   ]
  },
  {
   "cell_type": "code",
   "execution_count": 271,
   "metadata": {
    "collapsed": true
   },
   "outputs": [],
   "source": [
    "y_map = {'low': 2, 'medium': 1, 'high': 0}\n",
    "X_train['interest_level'] = X_train['interest_level'].apply(lambda x: y_map[x])\n",
    "\n",
    "\n"
   ]
  },
  {
   "cell_type": "code",
   "execution_count": 274,
   "metadata": {
    "collapsed": true
   },
   "outputs": [],
   "source": [
    "y_train = X_train.interest_level.values\n",
    "X_train = X_train.drop(['interest_level'], axis = 1)\n"
   ]
  },
  {
   "cell_type": "code",
   "execution_count": null,
   "metadata": {
    "collapsed": true
   },
   "outputs": [],
   "source": [
    "y_train = train.interest_level.values\n",
    "X_train = train.drop(['interest_level'], axis = 1)\n",
    "\n",
    "X_test = test"
   ]
  },
  {
   "cell_type": "code",
   "execution_count": 275,
   "metadata": {
    "collapsed": false
   },
   "outputs": [
    {
     "data": {
      "text/plain": [
       "(49352, 1286)"
      ]
     },
     "execution_count": 275,
     "metadata": {},
     "output_type": "execute_result"
    }
   ],
   "source": [
    "X_train.shape"
   ]
  },
  {
   "cell_type": "code",
   "execution_count": 255,
   "metadata": {
    "collapsed": false
   },
   "outputs": [
    {
     "data": {
      "text/html": [
       "<div>\n",
       "<table border=\"1\" class=\"dataframe\">\n",
       "  <thead>\n",
       "    <tr style=\"text-align: right;\">\n",
       "      <th></th>\n",
       "      <th>man_dummy__39af186286605963b1d75543e1492c61</th>\n",
       "      <th>man_dummy__3b630ec9cb6eee53b92cfac7f42e3bf4</th>\n",
       "      <th>man_dummy__3b8355616c4cb1a7b8b1c0731d3fe720</th>\n",
       "      <th>man_dummy__3bab35ac5638b81d5e0ccc11d0d1fe85</th>\n",
       "      <th>man_dummy__3bf7bc10ba7d7520f86cbf914d24c323</th>\n",
       "      <th>man_dummy__3c9fa93880997efea71b7669019a51cd</th>\n",
       "      <th>man_dummy__3ca41875dd95b256a1ecc858b9992909</th>\n",
       "      <th>man_dummy__3d3e99065b124ebbd0bc425aaa723647</th>\n",
       "      <th>man_dummy__3d46c1ae1988d7ce646081408c421675</th>\n",
       "      <th>man_dummy__3d61dc38744a7f36140c27520060db59</th>\n",
       "      <th>...</th>\n",
       "      <th>man_dummy__a515c29de8a1b732b46e4a5e3955a07e</th>\n",
       "      <th>man_dummy__a5b9c4d7d495b085331f45ac21a34369</th>\n",
       "      <th>man_dummy__a5bd6bc8ee3438115452b14005105a82</th>\n",
       "      <th>man_dummy__a621bebe105d26cd338d4c54f35f52e6</th>\n",
       "      <th>man_dummy__a7318e9bd83f6d32ed56b3b1d046b449</th>\n",
       "      <th>man_dummy__a742cf7dd3b2627d83417bc3a1b3ec96</th>\n",
       "      <th>man_dummy__a7b1843113e8780eb0f881ab1596a9a8</th>\n",
       "      <th>man_dummy__a9171b0aec2df7c31f96da798343d7ea</th>\n",
       "      <th>man_dummy__a936cd07895efded15c36140a62a78b7</th>\n",
       "      <th>man_dummy__a9a44735cc7189ed019a0d383eb6d1c9</th>\n",
       "    </tr>\n",
       "  </thead>\n",
       "  <tbody>\n",
       "    <tr>\n",
       "      <th>1</th>\n",
       "      <td>0.0</td>\n",
       "      <td>0.0</td>\n",
       "      <td>0.0</td>\n",
       "      <td>0.0</td>\n",
       "      <td>0.0</td>\n",
       "      <td>0.0</td>\n",
       "      <td>0.0</td>\n",
       "      <td>0.0</td>\n",
       "      <td>0.0</td>\n",
       "      <td>0.0</td>\n",
       "      <td>...</td>\n",
       "      <td>0.0</td>\n",
       "      <td>0.0</td>\n",
       "      <td>0.0</td>\n",
       "      <td>0.0</td>\n",
       "      <td>0.0</td>\n",
       "      <td>0.0</td>\n",
       "      <td>0.0</td>\n",
       "      <td>0.0</td>\n",
       "      <td>0.0</td>\n",
       "      <td>0.0</td>\n",
       "    </tr>\n",
       "  </tbody>\n",
       "</table>\n",
       "<p>1 rows × 250 columns</p>\n",
       "</div>"
      ],
      "text/plain": [
       "   man_dummy__39af186286605963b1d75543e1492c61  \\\n",
       "1                                          0.0   \n",
       "\n",
       "   man_dummy__3b630ec9cb6eee53b92cfac7f42e3bf4  \\\n",
       "1                                          0.0   \n",
       "\n",
       "   man_dummy__3b8355616c4cb1a7b8b1c0731d3fe720  \\\n",
       "1                                          0.0   \n",
       "\n",
       "   man_dummy__3bab35ac5638b81d5e0ccc11d0d1fe85  \\\n",
       "1                                          0.0   \n",
       "\n",
       "   man_dummy__3bf7bc10ba7d7520f86cbf914d24c323  \\\n",
       "1                                          0.0   \n",
       "\n",
       "   man_dummy__3c9fa93880997efea71b7669019a51cd  \\\n",
       "1                                          0.0   \n",
       "\n",
       "   man_dummy__3ca41875dd95b256a1ecc858b9992909  \\\n",
       "1                                          0.0   \n",
       "\n",
       "   man_dummy__3d3e99065b124ebbd0bc425aaa723647  \\\n",
       "1                                          0.0   \n",
       "\n",
       "   man_dummy__3d46c1ae1988d7ce646081408c421675  \\\n",
       "1                                          0.0   \n",
       "\n",
       "   man_dummy__3d61dc38744a7f36140c27520060db59  \\\n",
       "1                                          0.0   \n",
       "\n",
       "                      ...                       \\\n",
       "1                     ...                        \n",
       "\n",
       "   man_dummy__a515c29de8a1b732b46e4a5e3955a07e  \\\n",
       "1                                          0.0   \n",
       "\n",
       "   man_dummy__a5b9c4d7d495b085331f45ac21a34369  \\\n",
       "1                                          0.0   \n",
       "\n",
       "   man_dummy__a5bd6bc8ee3438115452b14005105a82  \\\n",
       "1                                          0.0   \n",
       "\n",
       "   man_dummy__a621bebe105d26cd338d4c54f35f52e6  \\\n",
       "1                                          0.0   \n",
       "\n",
       "   man_dummy__a7318e9bd83f6d32ed56b3b1d046b449  \\\n",
       "1                                          0.0   \n",
       "\n",
       "   man_dummy__a742cf7dd3b2627d83417bc3a1b3ec96  \\\n",
       "1                                          0.0   \n",
       "\n",
       "   man_dummy__a7b1843113e8780eb0f881ab1596a9a8  \\\n",
       "1                                          0.0   \n",
       "\n",
       "   man_dummy__a9171b0aec2df7c31f96da798343d7ea  \\\n",
       "1                                          0.0   \n",
       "\n",
       "   man_dummy__a936cd07895efded15c36140a62a78b7  \\\n",
       "1                                          0.0   \n",
       "\n",
       "   man_dummy__a9a44735cc7189ed019a0d383eb6d1c9  \n",
       "1                                          0.0  \n",
       "\n",
       "[1 rows x 250 columns]"
      ]
     },
     "execution_count": 255,
     "metadata": {},
     "output_type": "execute_result"
    }
   ],
   "source": [
    "train_t = train_t.drop(train_t.columns[144:344], axis=1)\n",
    "train_t.iloc[:, 350:600]"
   ]
  },
  {
   "cell_type": "code",
   "execution_count": 256,
   "metadata": {
    "collapsed": false
   },
   "outputs": [
    {
     "data": {
      "text/plain": [
       "(1, 1287)"
      ]
     },
     "execution_count": 256,
     "metadata": {},
     "output_type": "execute_result"
    }
   ],
   "source": [
    "train_t.shape"
   ]
  },
  {
   "cell_type": "code",
   "execution_count": 257,
   "metadata": {
    "collapsed": false
   },
   "outputs": [
    {
     "data": {
      "text/plain": [
       "Index([u'neigh_dummy__40.625-73.95', u'neigh_dummy__40.625-73.975',\n",
       "       u'neigh_dummy__40.625-74.0', u'neigh_dummy__40.625-74.025',\n",
       "       u'neigh_dummy__40.65-73.925', u'neigh_dummy__40.65-73.95',\n",
       "       u'neigh_dummy__40.65-73.975', u'neigh_dummy__40.65-74.0',\n",
       "       u'neigh_dummy__40.65-74.025', u'neigh_dummy__40.675-73.9',\n",
       "       ...\n",
       "       u'man_dummy__34545e3e23ce49e85d161ff75309d0f6',\n",
       "       u'man_dummy__35af1611db6bc8ffe0488799a5bc97d3',\n",
       "       u'man_dummy__35dc123b6f5f9ea6d7b755f21b9c3585',\n",
       "       u'man_dummy__35f11f952ba96803a9d9e23e83e7f972',\n",
       "       u'man_dummy__36037ab2a7c5d2c29f0bea59fee2a47b',\n",
       "       u'man_dummy__36665067f02a1eefb569f8ef049f32fc',\n",
       "       u'man_dummy__370a9b35c74f968387f3be370fbed8e6',\n",
       "       u'man_dummy__3734dac511776b0990e90a94d71c8251',\n",
       "       u'man_dummy__3793e58c60343a3fd6846ca2d2ef3c7f',\n",
       "       u'man_dummy__379e9c250a70372e5cb50b3edce15127'],\n",
       "      dtype='object', length=200)"
      ]
     },
     "execution_count": 257,
     "metadata": {},
     "output_type": "execute_result"
    }
   ],
   "source": [
    "train_t.columns[144:344]"
   ]
  },
  {
   "cell_type": "code",
   "execution_count": 211,
   "metadata": {
    "collapsed": false
   },
   "outputs": [
    {
     "data": {
      "text/html": [
       "<div>\n",
       "<table border=\"1\" class=\"dataframe\">\n",
       "  <thead>\n",
       "    <tr style=\"text-align: right;\">\n",
       "      <th></th>\n",
       "      <th>desc:0</th>\n",
       "      <th>desc:1</th>\n",
       "      <th>desc:2</th>\n",
       "      <th>desc:3</th>\n",
       "      <th>desc:4</th>\n",
       "      <th>desc:5</th>\n",
       "      <th>desc:6</th>\n",
       "      <th>desc:7</th>\n",
       "      <th>desc:8</th>\n",
       "      <th>desc:9</th>\n",
       "      <th>...</th>\n",
       "      <th>feats:90</th>\n",
       "      <th>feats:91</th>\n",
       "      <th>feats:92</th>\n",
       "      <th>feats:93</th>\n",
       "      <th>feats:94</th>\n",
       "      <th>feats:95</th>\n",
       "      <th>feats:96</th>\n",
       "      <th>feats:97</th>\n",
       "      <th>feats:98</th>\n",
       "      <th>feats:99</th>\n",
       "    </tr>\n",
       "  </thead>\n",
       "  <tbody>\n",
       "    <tr>\n",
       "      <th>1</th>\n",
       "      <td>0.0</td>\n",
       "      <td>0.0</td>\n",
       "      <td>0.0</td>\n",
       "      <td>0.0</td>\n",
       "      <td>0.0</td>\n",
       "      <td>0.0</td>\n",
       "      <td>0.0</td>\n",
       "      <td>0.0</td>\n",
       "      <td>0.0</td>\n",
       "      <td>0.0</td>\n",
       "      <td>...</td>\n",
       "      <td>0.0</td>\n",
       "      <td>0.0</td>\n",
       "      <td>0.0</td>\n",
       "      <td>0.0</td>\n",
       "      <td>0.0</td>\n",
       "      <td>0.0</td>\n",
       "      <td>0.0</td>\n",
       "      <td>0.0</td>\n",
       "      <td>0.0</td>\n",
       "      <td>0.0</td>\n",
       "    </tr>\n",
       "  </tbody>\n",
       "</table>\n",
       "<p>1 rows × 200 columns</p>\n",
       "</div>"
      ],
      "text/plain": [
       "   desc:0  desc:1  desc:2  desc:3  desc:4  desc:5  desc:6  desc:7  desc:8  \\\n",
       "1     0.0     0.0     0.0     0.0     0.0     0.0     0.0     0.0     0.0   \n",
       "\n",
       "   desc:9    ...     feats:90  feats:91  feats:92  feats:93  feats:94  \\\n",
       "1     0.0    ...          0.0       0.0       0.0       0.0       0.0   \n",
       "\n",
       "   feats:95  feats:96  feats:97  feats:98  feats:99  \n",
       "1       0.0       0.0       0.0       0.0       0.0  \n",
       "\n",
       "[1 rows x 200 columns]"
      ]
     },
     "execution_count": 211,
     "metadata": {},
     "output_type": "execute_result"
    }
   ],
   "source": [
    "train_t.iloc[:, 144: 344]"
   ]
  },
  {
   "cell_type": "code",
   "execution_count": 203,
   "metadata": {
    "collapsed": false
   },
   "outputs": [
    {
     "data": {
      "text/html": [
       "<div>\n",
       "<table border=\"1\" class=\"dataframe\">\n",
       "  <thead>\n",
       "    <tr style=\"text-align: right;\">\n",
       "      <th></th>\n",
       "      <th>desc:0</th>\n",
       "      <th>desc:1</th>\n",
       "      <th>desc:2</th>\n",
       "      <th>desc:3</th>\n",
       "      <th>desc:4</th>\n",
       "      <th>desc:5</th>\n",
       "    </tr>\n",
       "  </thead>\n",
       "  <tbody>\n",
       "    <tr>\n",
       "      <th>1</th>\n",
       "      <td>0.0</td>\n",
       "      <td>0.0</td>\n",
       "      <td>0.0</td>\n",
       "      <td>0.0</td>\n",
       "      <td>0.0</td>\n",
       "      <td>0.0</td>\n",
       "    </tr>\n",
       "  </tbody>\n",
       "</table>\n",
       "</div>"
      ],
      "text/plain": [
       "   desc:0  desc:1  desc:2  desc:3  desc:4  desc:5\n",
       "1     0.0     0.0     0.0     0.0     0.0     0.0"
      ]
     },
     "execution_count": 203,
     "metadata": {},
     "output_type": "execute_result"
    }
   ],
   "source": [
    "train_t.iloc[:, 144:150]"
   ]
  },
  {
   "cell_type": "code",
   "execution_count": 236,
   "metadata": {
    "collapsed": false
   },
   "outputs": [
    {
     "data": {
      "text/plain": [
       "(1, 144)"
      ]
     },
     "execution_count": 236,
     "metadata": {},
     "output_type": "execute_result"
    }
   ],
   "source": [
    "train_t.shape"
   ]
  },
  {
   "cell_type": "code",
   "execution_count": 217,
   "metadata": {
    "collapsed": false
   },
   "outputs": [
    {
     "data": {
      "text/plain": [
       "1    1970-01-01 00:24:25.733967\n",
       "Name: created, dtype: object"
      ]
     },
     "execution_count": 217,
     "metadata": {},
     "output_type": "execute_result"
    }
   ],
   "source": [
    "train_t.created"
   ]
  },
  {
   "cell_type": "code",
   "execution_count": 80,
   "metadata": {
    "collapsed": false
   },
   "outputs": [],
   "source": [
    "train = train.iloc[1:50, ]\n",
    "test = test.iloc[1:50, ]\n",
    "y_train = y_train[1:50, ]"
   ]
  },
  {
   "cell_type": "code",
   "execution_count": 16,
   "metadata": {
    "collapsed": false
   },
   "outputs": [
    {
     "data": {
      "text/plain": [
       "Index([u' photo_pix_max', u' photo_pix_mean', u' photo_pix_min', u'avenue',\n",
       "       u'bath_cat', u'bathprice_ratio', u'bathrooms', u'bed_cat',\n",
       "       u'bedbath_ratio', u'bedprice_ratio',\n",
       "       ...\n",
       "       u'top_5_manager', u'top_5_neighborhood', u'topic0', u'topic1',\n",
       "       u'topic2', u'topic3', u'topic4', u'topic5', u'topic6', u'west'],\n",
       "      dtype='object', length=286)"
      ]
     },
     "execution_count": 16,
     "metadata": {},
     "output_type": "execute_result"
    }
   ],
   "source": [
    "train.columns"
   ]
  },
  {
   "cell_type": "code",
   "execution_count": 144,
   "metadata": {
    "collapsed": false
   },
   "outputs": [],
   "source": [
    "y_map = {'low': 2, 'medium': 1, 'high': 0}\n",
    "train['interest_level'] = train['interest_level'].apply(lambda x: y_map[x])\n",
    "y_train = train.interest_level.values\n",
    "X_train = train.drop(['interest_level'], axis = 1)\n",
    "\n",
    "X_test = test\n",
    "\n"
   ]
  },
  {
   "cell_type": "code",
   "execution_count": 145,
   "metadata": {
    "collapsed": false
   },
   "outputs": [
    {
     "data": {
      "text/plain": [
       "(49352, 285)"
      ]
     },
     "execution_count": 145,
     "metadata": {},
     "output_type": "execute_result"
    }
   ],
   "source": [
    "X_train.shape"
   ]
  },
  {
   "cell_type": "code",
   "execution_count": 146,
   "metadata": {
    "collapsed": false
   },
   "outputs": [
    {
     "data": {
      "text/plain": [
       "(74659, 285)"
      ]
     },
     "execution_count": 146,
     "metadata": {},
     "output_type": "execute_result"
    }
   ],
   "source": [
    "X_test.shape"
   ]
  },
  {
   "cell_type": "code",
   "execution_count": 147,
   "metadata": {
    "collapsed": false
   },
   "outputs": [
    {
     "data": {
      "text/plain": [
       "(49352, 276)"
      ]
     },
     "execution_count": 147,
     "metadata": {},
     "output_type": "execute_result"
    }
   ],
   "source": [
    "filter_out_cat = ['bath_cat', 'bed_cat', 'created_day_cat', 'created_hour_cat',\n",
    "                 'created_month_cat', 'created_weekday_cat', 'bath_cat', 'bed_cat',\n",
    "                 'created_day_cat', 'created_hour_cat', 'created_month_cat', 'created_weekday_cat',\n",
    "                 'manager_id_cleaned', 'neighborhood_cleaned', 'building_id_cleaned']\n",
    "train_num = list(f for f in X_train.columns if f not in filter_out_cat)\n",
    "train_num = X_train[train_num]\n",
    "train_num.shape"
   ]
  },
  {
   "cell_type": "code",
   "execution_count": 148,
   "metadata": {
    "collapsed": false
   },
   "outputs": [
    {
     "data": {
      "text/plain": [
       "(74659, 276)"
      ]
     },
     "execution_count": 148,
     "metadata": {},
     "output_type": "execute_result"
    }
   ],
   "source": [
    "filter_out_cat = ['bath_cat', 'bed_cat', 'created_day_cat', 'created_hour_cat',\n",
    "                 'created_month_cat', 'created_weekday_cat', 'bath_cat', 'bed_cat',\n",
    "                 'created_day_cat', 'created_hour_cat', 'created_month_cat', 'created_weekday_cat',\n",
    "                 'manager_id_cleaned', 'neighborhood_cleaned', 'building_id_cleaned']\n",
    "test_num = list(f for f in X_test.columns if f not in filter_out_cat)\n",
    "test_num = X_test[test_num]\n",
    "test_num.shape"
   ]
  },
  {
   "cell_type": "code",
   "execution_count": null,
   "metadata": {
    "collapsed": false
   },
   "outputs": [],
   "source": []
  },
  {
   "cell_type": "code",
   "execution_count": 149,
   "metadata": {
    "collapsed": false
   },
   "outputs": [],
   "source": [
    "X_train = train_num\n",
    "X_test = test_num"
   ]
  },
  {
   "cell_type": "code",
   "execution_count": 150,
   "metadata": {
    "collapsed": false
   },
   "outputs": [
    {
     "data": {
      "text/plain": [
       "(49352, 276)"
      ]
     },
     "execution_count": 150,
     "metadata": {},
     "output_type": "execute_result"
    }
   ],
   "source": [
    "X_train.shape"
   ]
  },
  {
   "cell_type": "code",
   "execution_count": 151,
   "metadata": {
    "collapsed": false
   },
   "outputs": [
    {
     "data": {
      "text/plain": [
       "(74659, 276)"
      ]
     },
     "execution_count": 151,
     "metadata": {},
     "output_type": "execute_result"
    }
   ],
   "source": [
    "X_test.shape"
   ]
  },
  {
   "cell_type": "code",
   "execution_count": 163,
   "metadata": {
    "collapsed": false
   },
   "outputs": [
    {
     "ename": "ValueError",
     "evalue": "Invalid parameter meta-logisticregressionC for estimator StackingClassifier. Check the list of available parameters with `estimator.get_params().keys()`.",
     "output_type": "error",
     "traceback": [
      "\u001b[0;31m---------------------------------------------------------------------------\u001b[0m",
      "\u001b[0;31mValueError\u001b[0m                                Traceback (most recent call last)",
      "\u001b[0;32m<ipython-input-163-90b3d8aa69d4>\u001b[0m in \u001b[0;36m<module>\u001b[0;34m()\u001b[0m\n\u001b[1;32m     20\u001b[0m                     refit=True)          \n\u001b[1;32m     21\u001b[0m \u001b[0;34m\u001b[0m\u001b[0m\n\u001b[0;32m---> 22\u001b[0;31m \u001b[0mgrid\u001b[0m\u001b[0;34m.\u001b[0m\u001b[0mfit\u001b[0m\u001b[0;34m(\u001b[0m\u001b[0mX_train\u001b[0m\u001b[0;34m,\u001b[0m \u001b[0my_train\u001b[0m\u001b[0;34m)\u001b[0m\u001b[0;34m\u001b[0m\u001b[0m\n\u001b[0m\u001b[1;32m     23\u001b[0m \u001b[0mpreba\u001b[0m \u001b[0;34m=\u001b[0m \u001b[0mgrid\u001b[0m\u001b[0;34m.\u001b[0m\u001b[0mbest_estimator_\u001b[0m\u001b[0;34m.\u001b[0m\u001b[0mpredict_proba\u001b[0m\u001b[0;34m(\u001b[0m\u001b[0mX_test\u001b[0m\u001b[0;34m)\u001b[0m\u001b[0;34m\u001b[0m\u001b[0m\n\u001b[1;32m     24\u001b[0m \u001b[0mpreba\u001b[0m \u001b[0;34m=\u001b[0m \u001b[0mpd\u001b[0m\u001b[0;34m.\u001b[0m\u001b[0mDataFrame\u001b[0m\u001b[0;34m(\u001b[0m\u001b[0mpreba\u001b[0m\u001b[0;34m)\u001b[0m\u001b[0;34m\u001b[0m\u001b[0m\n",
      "\u001b[0;32m/Library/Python/2.7/site-packages/sklearn/grid_search.pyc\u001b[0m in \u001b[0;36mfit\u001b[0;34m(self, X, y)\u001b[0m\n\u001b[1;32m    827\u001b[0m \u001b[0;34m\u001b[0m\u001b[0m\n\u001b[1;32m    828\u001b[0m         \"\"\"\n\u001b[0;32m--> 829\u001b[0;31m         \u001b[0;32mreturn\u001b[0m \u001b[0mself\u001b[0m\u001b[0;34m.\u001b[0m\u001b[0m_fit\u001b[0m\u001b[0;34m(\u001b[0m\u001b[0mX\u001b[0m\u001b[0;34m,\u001b[0m \u001b[0my\u001b[0m\u001b[0;34m,\u001b[0m \u001b[0mParameterGrid\u001b[0m\u001b[0;34m(\u001b[0m\u001b[0mself\u001b[0m\u001b[0;34m.\u001b[0m\u001b[0mparam_grid\u001b[0m\u001b[0;34m)\u001b[0m\u001b[0;34m)\u001b[0m\u001b[0;34m\u001b[0m\u001b[0m\n\u001b[0m\u001b[1;32m    830\u001b[0m \u001b[0;34m\u001b[0m\u001b[0m\n\u001b[1;32m    831\u001b[0m \u001b[0;34m\u001b[0m\u001b[0m\n",
      "\u001b[0;32m/Library/Python/2.7/site-packages/sklearn/grid_search.pyc\u001b[0m in \u001b[0;36m_fit\u001b[0;34m(self, X, y, parameter_iterable)\u001b[0m\n\u001b[1;32m    571\u001b[0m                                     \u001b[0mself\u001b[0m\u001b[0;34m.\u001b[0m\u001b[0mfit_params\u001b[0m\u001b[0;34m,\u001b[0m \u001b[0mreturn_parameters\u001b[0m\u001b[0;34m=\u001b[0m\u001b[0mTrue\u001b[0m\u001b[0;34m,\u001b[0m\u001b[0;34m\u001b[0m\u001b[0m\n\u001b[1;32m    572\u001b[0m                                     error_score=self.error_score)\n\u001b[0;32m--> 573\u001b[0;31m                 \u001b[0;32mfor\u001b[0m \u001b[0mparameters\u001b[0m \u001b[0;32min\u001b[0m \u001b[0mparameter_iterable\u001b[0m\u001b[0;34m\u001b[0m\u001b[0m\n\u001b[0m\u001b[1;32m    574\u001b[0m                 for train, test in cv)\n\u001b[1;32m    575\u001b[0m \u001b[0;34m\u001b[0m\u001b[0m\n",
      "\u001b[0;32m/Library/Python/2.7/site-packages/sklearn/externals/joblib/parallel.pyc\u001b[0m in \u001b[0;36m__call__\u001b[0;34m(self, iterable)\u001b[0m\n\u001b[1;32m    756\u001b[0m             \u001b[0;31m# was dispatched. In particular this covers the edge\u001b[0m\u001b[0;34m\u001b[0m\u001b[0;34m\u001b[0m\u001b[0m\n\u001b[1;32m    757\u001b[0m             \u001b[0;31m# case of Parallel used with an exhausted iterator.\u001b[0m\u001b[0;34m\u001b[0m\u001b[0;34m\u001b[0m\u001b[0m\n\u001b[0;32m--> 758\u001b[0;31m             \u001b[0;32mwhile\u001b[0m \u001b[0mself\u001b[0m\u001b[0;34m.\u001b[0m\u001b[0mdispatch_one_batch\u001b[0m\u001b[0;34m(\u001b[0m\u001b[0miterator\u001b[0m\u001b[0;34m)\u001b[0m\u001b[0;34m:\u001b[0m\u001b[0;34m\u001b[0m\u001b[0m\n\u001b[0m\u001b[1;32m    759\u001b[0m                 \u001b[0mself\u001b[0m\u001b[0;34m.\u001b[0m\u001b[0m_iterating\u001b[0m \u001b[0;34m=\u001b[0m \u001b[0mTrue\u001b[0m\u001b[0;34m\u001b[0m\u001b[0m\n\u001b[1;32m    760\u001b[0m             \u001b[0;32melse\u001b[0m\u001b[0;34m:\u001b[0m\u001b[0;34m\u001b[0m\u001b[0m\n",
      "\u001b[0;32m/Library/Python/2.7/site-packages/sklearn/externals/joblib/parallel.pyc\u001b[0m in \u001b[0;36mdispatch_one_batch\u001b[0;34m(self, iterator)\u001b[0m\n\u001b[1;32m    606\u001b[0m                 \u001b[0;32mreturn\u001b[0m \u001b[0mFalse\u001b[0m\u001b[0;34m\u001b[0m\u001b[0m\n\u001b[1;32m    607\u001b[0m             \u001b[0;32melse\u001b[0m\u001b[0;34m:\u001b[0m\u001b[0;34m\u001b[0m\u001b[0m\n\u001b[0;32m--> 608\u001b[0;31m                 \u001b[0mself\u001b[0m\u001b[0;34m.\u001b[0m\u001b[0m_dispatch\u001b[0m\u001b[0;34m(\u001b[0m\u001b[0mtasks\u001b[0m\u001b[0;34m)\u001b[0m\u001b[0;34m\u001b[0m\u001b[0m\n\u001b[0m\u001b[1;32m    609\u001b[0m                 \u001b[0;32mreturn\u001b[0m \u001b[0mTrue\u001b[0m\u001b[0;34m\u001b[0m\u001b[0m\n\u001b[1;32m    610\u001b[0m \u001b[0;34m\u001b[0m\u001b[0m\n",
      "\u001b[0;32m/Library/Python/2.7/site-packages/sklearn/externals/joblib/parallel.pyc\u001b[0m in \u001b[0;36m_dispatch\u001b[0;34m(self, batch)\u001b[0m\n\u001b[1;32m    569\u001b[0m         \u001b[0mdispatch_timestamp\u001b[0m \u001b[0;34m=\u001b[0m \u001b[0mtime\u001b[0m\u001b[0;34m.\u001b[0m\u001b[0mtime\u001b[0m\u001b[0;34m(\u001b[0m\u001b[0;34m)\u001b[0m\u001b[0;34m\u001b[0m\u001b[0m\n\u001b[1;32m    570\u001b[0m         \u001b[0mcb\u001b[0m \u001b[0;34m=\u001b[0m \u001b[0mBatchCompletionCallBack\u001b[0m\u001b[0;34m(\u001b[0m\u001b[0mdispatch_timestamp\u001b[0m\u001b[0;34m,\u001b[0m \u001b[0mlen\u001b[0m\u001b[0;34m(\u001b[0m\u001b[0mbatch\u001b[0m\u001b[0;34m)\u001b[0m\u001b[0;34m,\u001b[0m \u001b[0mself\u001b[0m\u001b[0;34m)\u001b[0m\u001b[0;34m\u001b[0m\u001b[0m\n\u001b[0;32m--> 571\u001b[0;31m         \u001b[0mjob\u001b[0m \u001b[0;34m=\u001b[0m \u001b[0mself\u001b[0m\u001b[0;34m.\u001b[0m\u001b[0m_backend\u001b[0m\u001b[0;34m.\u001b[0m\u001b[0mapply_async\u001b[0m\u001b[0;34m(\u001b[0m\u001b[0mbatch\u001b[0m\u001b[0;34m,\u001b[0m \u001b[0mcallback\u001b[0m\u001b[0;34m=\u001b[0m\u001b[0mcb\u001b[0m\u001b[0;34m)\u001b[0m\u001b[0;34m\u001b[0m\u001b[0m\n\u001b[0m\u001b[1;32m    572\u001b[0m         \u001b[0mself\u001b[0m\u001b[0;34m.\u001b[0m\u001b[0m_jobs\u001b[0m\u001b[0;34m.\u001b[0m\u001b[0mappend\u001b[0m\u001b[0;34m(\u001b[0m\u001b[0mjob\u001b[0m\u001b[0;34m)\u001b[0m\u001b[0;34m\u001b[0m\u001b[0m\n\u001b[1;32m    573\u001b[0m \u001b[0;34m\u001b[0m\u001b[0m\n",
      "\u001b[0;32m/Library/Python/2.7/site-packages/sklearn/externals/joblib/_parallel_backends.pyc\u001b[0m in \u001b[0;36mapply_async\u001b[0;34m(self, func, callback)\u001b[0m\n\u001b[1;32m    107\u001b[0m     \u001b[0;32mdef\u001b[0m \u001b[0mapply_async\u001b[0m\u001b[0;34m(\u001b[0m\u001b[0mself\u001b[0m\u001b[0;34m,\u001b[0m \u001b[0mfunc\u001b[0m\u001b[0;34m,\u001b[0m \u001b[0mcallback\u001b[0m\u001b[0;34m=\u001b[0m\u001b[0mNone\u001b[0m\u001b[0;34m)\u001b[0m\u001b[0;34m:\u001b[0m\u001b[0;34m\u001b[0m\u001b[0m\n\u001b[1;32m    108\u001b[0m         \u001b[0;34m\"\"\"Schedule a func to be run\"\"\"\u001b[0m\u001b[0;34m\u001b[0m\u001b[0m\n\u001b[0;32m--> 109\u001b[0;31m         \u001b[0mresult\u001b[0m \u001b[0;34m=\u001b[0m \u001b[0mImmediateResult\u001b[0m\u001b[0;34m(\u001b[0m\u001b[0mfunc\u001b[0m\u001b[0;34m)\u001b[0m\u001b[0;34m\u001b[0m\u001b[0m\n\u001b[0m\u001b[1;32m    110\u001b[0m         \u001b[0;32mif\u001b[0m \u001b[0mcallback\u001b[0m\u001b[0;34m:\u001b[0m\u001b[0;34m\u001b[0m\u001b[0m\n\u001b[1;32m    111\u001b[0m             \u001b[0mcallback\u001b[0m\u001b[0;34m(\u001b[0m\u001b[0mresult\u001b[0m\u001b[0;34m)\u001b[0m\u001b[0;34m\u001b[0m\u001b[0m\n",
      "\u001b[0;32m/Library/Python/2.7/site-packages/sklearn/externals/joblib/_parallel_backends.pyc\u001b[0m in \u001b[0;36m__init__\u001b[0;34m(self, batch)\u001b[0m\n\u001b[1;32m    324\u001b[0m         \u001b[0;31m# Don't delay the application, to avoid keeping the input\u001b[0m\u001b[0;34m\u001b[0m\u001b[0;34m\u001b[0m\u001b[0m\n\u001b[1;32m    325\u001b[0m         \u001b[0;31m# arguments in memory\u001b[0m\u001b[0;34m\u001b[0m\u001b[0;34m\u001b[0m\u001b[0m\n\u001b[0;32m--> 326\u001b[0;31m         \u001b[0mself\u001b[0m\u001b[0;34m.\u001b[0m\u001b[0mresults\u001b[0m \u001b[0;34m=\u001b[0m \u001b[0mbatch\u001b[0m\u001b[0;34m(\u001b[0m\u001b[0;34m)\u001b[0m\u001b[0;34m\u001b[0m\u001b[0m\n\u001b[0m\u001b[1;32m    327\u001b[0m \u001b[0;34m\u001b[0m\u001b[0m\n\u001b[1;32m    328\u001b[0m     \u001b[0;32mdef\u001b[0m \u001b[0mget\u001b[0m\u001b[0;34m(\u001b[0m\u001b[0mself\u001b[0m\u001b[0;34m)\u001b[0m\u001b[0;34m:\u001b[0m\u001b[0;34m\u001b[0m\u001b[0m\n",
      "\u001b[0;32m/Library/Python/2.7/site-packages/sklearn/externals/joblib/parallel.pyc\u001b[0m in \u001b[0;36m__call__\u001b[0;34m(self)\u001b[0m\n\u001b[1;32m    129\u001b[0m \u001b[0;34m\u001b[0m\u001b[0m\n\u001b[1;32m    130\u001b[0m     \u001b[0;32mdef\u001b[0m \u001b[0m__call__\u001b[0m\u001b[0;34m(\u001b[0m\u001b[0mself\u001b[0m\u001b[0;34m)\u001b[0m\u001b[0;34m:\u001b[0m\u001b[0;34m\u001b[0m\u001b[0m\n\u001b[0;32m--> 131\u001b[0;31m         \u001b[0;32mreturn\u001b[0m \u001b[0;34m[\u001b[0m\u001b[0mfunc\u001b[0m\u001b[0;34m(\u001b[0m\u001b[0;34m*\u001b[0m\u001b[0margs\u001b[0m\u001b[0;34m,\u001b[0m \u001b[0;34m**\u001b[0m\u001b[0mkwargs\u001b[0m\u001b[0;34m)\u001b[0m \u001b[0;32mfor\u001b[0m \u001b[0mfunc\u001b[0m\u001b[0;34m,\u001b[0m \u001b[0margs\u001b[0m\u001b[0;34m,\u001b[0m \u001b[0mkwargs\u001b[0m \u001b[0;32min\u001b[0m \u001b[0mself\u001b[0m\u001b[0;34m.\u001b[0m\u001b[0mitems\u001b[0m\u001b[0;34m]\u001b[0m\u001b[0;34m\u001b[0m\u001b[0m\n\u001b[0m\u001b[1;32m    132\u001b[0m \u001b[0;34m\u001b[0m\u001b[0m\n\u001b[1;32m    133\u001b[0m     \u001b[0;32mdef\u001b[0m \u001b[0m__len__\u001b[0m\u001b[0;34m(\u001b[0m\u001b[0mself\u001b[0m\u001b[0;34m)\u001b[0m\u001b[0;34m:\u001b[0m\u001b[0;34m\u001b[0m\u001b[0m\n",
      "\u001b[0;32m/Library/Python/2.7/site-packages/sklearn/cross_validation.pyc\u001b[0m in \u001b[0;36m_fit_and_score\u001b[0;34m(estimator, X, y, scorer, train, test, verbose, parameters, fit_params, return_train_score, return_parameters, error_score)\u001b[0m\n\u001b[1;32m   1652\u001b[0m \u001b[0;34m\u001b[0m\u001b[0m\n\u001b[1;32m   1653\u001b[0m     \u001b[0;32mif\u001b[0m \u001b[0mparameters\u001b[0m \u001b[0;32mis\u001b[0m \u001b[0;32mnot\u001b[0m \u001b[0mNone\u001b[0m\u001b[0;34m:\u001b[0m\u001b[0;34m\u001b[0m\u001b[0m\n\u001b[0;32m-> 1654\u001b[0;31m         \u001b[0mestimator\u001b[0m\u001b[0;34m.\u001b[0m\u001b[0mset_params\u001b[0m\u001b[0;34m(\u001b[0m\u001b[0;34m**\u001b[0m\u001b[0mparameters\u001b[0m\u001b[0;34m)\u001b[0m\u001b[0;34m\u001b[0m\u001b[0m\n\u001b[0m\u001b[1;32m   1655\u001b[0m \u001b[0;34m\u001b[0m\u001b[0m\n\u001b[1;32m   1656\u001b[0m     \u001b[0mstart_time\u001b[0m \u001b[0;34m=\u001b[0m \u001b[0mtime\u001b[0m\u001b[0;34m.\u001b[0m\u001b[0mtime\u001b[0m\u001b[0;34m(\u001b[0m\u001b[0;34m)\u001b[0m\u001b[0;34m\u001b[0m\u001b[0m\n",
      "\u001b[0;32m/Library/Python/2.7/site-packages/sklearn/base.pyc\u001b[0m in \u001b[0;36mset_params\u001b[0;34m(self, **params)\u001b[0m\n\u001b[1;32m    289\u001b[0m                                      \u001b[0;34m'Check the list of available parameters '\u001b[0m\u001b[0;34m\u001b[0m\u001b[0m\n\u001b[1;32m    290\u001b[0m                                      \u001b[0;34m'with `estimator.get_params().keys()`.'\u001b[0m \u001b[0;34m%\u001b[0m\u001b[0;34m\u001b[0m\u001b[0m\n\u001b[0;32m--> 291\u001b[0;31m                                      (key, self.__class__.__name__))\n\u001b[0m\u001b[1;32m    292\u001b[0m                 \u001b[0msetattr\u001b[0m\u001b[0;34m(\u001b[0m\u001b[0mself\u001b[0m\u001b[0;34m,\u001b[0m \u001b[0mkey\u001b[0m\u001b[0;34m,\u001b[0m \u001b[0mvalue\u001b[0m\u001b[0;34m)\u001b[0m\u001b[0;34m\u001b[0m\u001b[0m\n\u001b[1;32m    293\u001b[0m         \u001b[0;32mreturn\u001b[0m \u001b[0mself\u001b[0m\u001b[0;34m\u001b[0m\u001b[0m\n",
      "\u001b[0;31mValueError\u001b[0m: Invalid parameter meta-logisticregressionC for estimator StackingClassifier. Check the list of available parameters with `estimator.get_params().keys()`."
     ]
    }
   ],
   "source": [
    "\n",
    "\n",
    "# Initializing models\n",
    "\n",
    "clf1 = RandomForestClassifier(random_state=1)\n",
    "# clf2 = GaussianNB()\n",
    "lr = LogisticRegression()\n",
    "sclf = StackingClassifier(classifiers=[clf1], \n",
    "                          meta_classifier=lr)\n",
    "\n",
    "params = {'randomforestclassifier__n_estimators': [50, 100],\n",
    "          'meta-logisticregressionC': [0.1, 5, 10.0, 100],\n",
    "#           'max_features': [4, 6],\n",
    "          }\n",
    "\n",
    "grid = gs.GridSearchCV(estimator=sclf, \n",
    "                    param_grid=params,\n",
    "                    scoring = 'neg_log_loss', \n",
    "                    cv=5,\n",
    "                    refit=True)          \n",
    "\n",
    "grid.fit(X_train, y_train)\n",
    "preba = grid.best_estimator_.predict_proba(X_test)\n",
    "preba = pd.DataFrame(preba)\n",
    "preba.to_csv('stack_rf_lg_gnb_submission.csv', index=None)\n",
    "\n",
    "print('Best parameters: %s' % grid.best_params_)\n",
    "print('Accuracy: %.2f' % grid.best_score_)\n",
    "\n"
   ]
  },
  {
   "cell_type": "code",
   "execution_count": 154,
   "metadata": {
    "collapsed": false
   },
   "outputs": [],
   "source": [
    "cols = ['high', 'medium', 'low']\n",
    "preba.columns = cols\n",
    "preba['listing_id'] = test.listing_id.values"
   ]
  },
  {
   "cell_type": "code",
   "execution_count": 155,
   "metadata": {
    "collapsed": true
   },
   "outputs": [],
   "source": [
    "preba.to_csv('stack_rf_lg_gnb_submission.csv', index=False)\n"
   ]
  },
  {
   "cell_type": "code",
   "execution_count": null,
   "metadata": {
    "collapsed": false
   },
   "outputs": [],
   "source": []
  },
  {
   "cell_type": "code",
   "execution_count": 157,
   "metadata": {
    "collapsed": false
   },
   "outputs": [
    {
     "data": {
      "text/plain": [
       "<bound method GridSearchCV.get_params of GridSearchCV(cv=5, error_score='raise',\n",
       "       estimator=StackingClassifier(average_probas=False,\n",
       "          classifiers=[RandomForestClassifier(bootstrap=True, class_weight=None, criterion='gini',\n",
       "            max_depth=None, max_features='auto', max_leaf_nodes=None,\n",
       "            min_impurity_split=1e-07, min_samples_leaf=1,\n",
       "            min_sample...erbose=0, warm_start=False),\n",
       "          use_features_in_secondary=False, use_probas=False, verbose=0),\n",
       "       fit_params={}, iid=True, n_jobs=1,\n",
       "       param_grid={'randomforestclassifier__n_estimators': [50, 100]},\n",
       "       pre_dispatch='2*n_jobs', refit=True, scoring='neg_log_loss',\n",
       "       verbose=0)>"
      ]
     },
     "execution_count": 157,
     "metadata": {},
     "output_type": "execute_result"
    }
   ],
   "source": [
    "grid.get_params"
   ]
  },
  {
   "cell_type": "code",
   "execution_count": 165,
   "metadata": {
    "collapsed": false
   },
   "outputs": [],
   "source": [
    "from sklearn import tree\n",
    "import pandas as pd\n",
    "import sklearn.cross_validation as cv\n",
    "import numpy as np\n",
    "import sklearn.grid_search as gs\n",
    "from sklearn import ensemble\n",
    "from scipy import sparse\n",
    "randomForest = ensemble.RandomForestClassifier()"
   ]
  },
  {
   "cell_type": "code",
   "execution_count": 166,
   "metadata": {
    "collapsed": true
   },
   "outputs": [],
   "source": [
    "grid_para_forest = {'criterion': ['gini', 'entropy'], 'max_depth': range(10, 40, 2), \"n_estimators\": range(50, 150, 10)}"
   ]
  },
  {
   "cell_type": "code",
   "execution_count": 171,
   "metadata": {
    "collapsed": false
   },
   "outputs": [
    {
     "name": "stdout",
     "output_type": "stream",
     "text": [
      "Fitting 5 folds for each of 300 candidates, totalling 1500 fits\n"
     ]
    },
    {
     "name": "stderr",
     "output_type": "stream",
     "text": [
      "[Parallel(n_jobs=4)]: Done  42 tasks      | elapsed: 10.2min\n"
     ]
    },
    {
     "ename": "KeyboardInterrupt",
     "evalue": "",
     "output_type": "error",
     "traceback": [
      "\u001b[0;31m---------------------------------------------------------------------------\u001b[0m",
      "\u001b[0;31mKeyboardInterrupt\u001b[0m                         Traceback (most recent call last)",
      "\u001b[0;32m<ipython-input-171-d442856660df>\u001b[0m in \u001b[0;36m<module>\u001b[0;34m()\u001b[0m\n\u001b[0;32m----> 1\u001b[0;31m \u001b[0mgrid_search_forest\u001b[0m \u001b[0;34m=\u001b[0m \u001b[0mgs\u001b[0m\u001b[0;34m.\u001b[0m\u001b[0mGridSearchCV\u001b[0m\u001b[0;34m(\u001b[0m\u001b[0mrandomForest\u001b[0m\u001b[0;34m,\u001b[0m \u001b[0mgrid_para_forest\u001b[0m\u001b[0;34m,\u001b[0m \u001b[0mscoring\u001b[0m \u001b[0;34m=\u001b[0m                                      \u001b[0;34m'neg_log_loss'\u001b[0m\u001b[0;34m,\u001b[0m \u001b[0mcv\u001b[0m\u001b[0;34m=\u001b[0m\u001b[0;36m5\u001b[0m\u001b[0;34m,\u001b[0m \u001b[0mverbose\u001b[0m \u001b[0;34m=\u001b[0m \u001b[0;36m1\u001b[0m\u001b[0;34m,\u001b[0m \u001b[0mn_jobs\u001b[0m \u001b[0;34m=\u001b[0m \u001b[0;36m4\u001b[0m\u001b[0;34m)\u001b[0m\u001b[0;34m.\u001b[0m\u001b[0mfit\u001b[0m\u001b[0;34m(\u001b[0m\u001b[0mX_train\u001b[0m\u001b[0;34m,\u001b[0m \u001b[0my_train\u001b[0m\u001b[0;34m)\u001b[0m\u001b[0;34m\u001b[0m\u001b[0m\n\u001b[0m",
      "\u001b[0;32m/Library/Python/2.7/site-packages/sklearn/grid_search.pyc\u001b[0m in \u001b[0;36mfit\u001b[0;34m(self, X, y)\u001b[0m\n\u001b[1;32m    827\u001b[0m \u001b[0;34m\u001b[0m\u001b[0m\n\u001b[1;32m    828\u001b[0m         \"\"\"\n\u001b[0;32m--> 829\u001b[0;31m         \u001b[0;32mreturn\u001b[0m \u001b[0mself\u001b[0m\u001b[0;34m.\u001b[0m\u001b[0m_fit\u001b[0m\u001b[0;34m(\u001b[0m\u001b[0mX\u001b[0m\u001b[0;34m,\u001b[0m \u001b[0my\u001b[0m\u001b[0;34m,\u001b[0m \u001b[0mParameterGrid\u001b[0m\u001b[0;34m(\u001b[0m\u001b[0mself\u001b[0m\u001b[0;34m.\u001b[0m\u001b[0mparam_grid\u001b[0m\u001b[0;34m)\u001b[0m\u001b[0;34m)\u001b[0m\u001b[0;34m\u001b[0m\u001b[0m\n\u001b[0m\u001b[1;32m    830\u001b[0m \u001b[0;34m\u001b[0m\u001b[0m\n\u001b[1;32m    831\u001b[0m \u001b[0;34m\u001b[0m\u001b[0m\n",
      "\u001b[0;32m/Library/Python/2.7/site-packages/sklearn/grid_search.pyc\u001b[0m in \u001b[0;36m_fit\u001b[0;34m(self, X, y, parameter_iterable)\u001b[0m\n\u001b[1;32m    571\u001b[0m                                     \u001b[0mself\u001b[0m\u001b[0;34m.\u001b[0m\u001b[0mfit_params\u001b[0m\u001b[0;34m,\u001b[0m \u001b[0mreturn_parameters\u001b[0m\u001b[0;34m=\u001b[0m\u001b[0mTrue\u001b[0m\u001b[0;34m,\u001b[0m\u001b[0;34m\u001b[0m\u001b[0m\n\u001b[1;32m    572\u001b[0m                                     error_score=self.error_score)\n\u001b[0;32m--> 573\u001b[0;31m                 \u001b[0;32mfor\u001b[0m \u001b[0mparameters\u001b[0m \u001b[0;32min\u001b[0m \u001b[0mparameter_iterable\u001b[0m\u001b[0;34m\u001b[0m\u001b[0m\n\u001b[0m\u001b[1;32m    574\u001b[0m                 for train, test in cv)\n\u001b[1;32m    575\u001b[0m \u001b[0;34m\u001b[0m\u001b[0m\n",
      "\u001b[0;32m/Library/Python/2.7/site-packages/sklearn/externals/joblib/parallel.pyc\u001b[0m in \u001b[0;36m__call__\u001b[0;34m(self, iterable)\u001b[0m\n\u001b[1;32m    766\u001b[0m                 \u001b[0;31m# consumption.\u001b[0m\u001b[0;34m\u001b[0m\u001b[0;34m\u001b[0m\u001b[0m\n\u001b[1;32m    767\u001b[0m                 \u001b[0mself\u001b[0m\u001b[0;34m.\u001b[0m\u001b[0m_iterating\u001b[0m \u001b[0;34m=\u001b[0m \u001b[0mFalse\u001b[0m\u001b[0;34m\u001b[0m\u001b[0m\n\u001b[0;32m--> 768\u001b[0;31m             \u001b[0mself\u001b[0m\u001b[0;34m.\u001b[0m\u001b[0mretrieve\u001b[0m\u001b[0;34m(\u001b[0m\u001b[0;34m)\u001b[0m\u001b[0;34m\u001b[0m\u001b[0m\n\u001b[0m\u001b[1;32m    769\u001b[0m             \u001b[0;31m# Make sure that we get a last message telling us we are done\u001b[0m\u001b[0;34m\u001b[0m\u001b[0;34m\u001b[0m\u001b[0m\n\u001b[1;32m    770\u001b[0m             \u001b[0melapsed_time\u001b[0m \u001b[0;34m=\u001b[0m \u001b[0mtime\u001b[0m\u001b[0;34m.\u001b[0m\u001b[0mtime\u001b[0m\u001b[0;34m(\u001b[0m\u001b[0;34m)\u001b[0m \u001b[0;34m-\u001b[0m \u001b[0mself\u001b[0m\u001b[0;34m.\u001b[0m\u001b[0m_start_time\u001b[0m\u001b[0;34m\u001b[0m\u001b[0m\n",
      "\u001b[0;32m/Library/Python/2.7/site-packages/sklearn/externals/joblib/parallel.pyc\u001b[0m in \u001b[0;36mretrieve\u001b[0;34m(self)\u001b[0m\n\u001b[1;32m    717\u001b[0m                     \u001b[0mensure_ready\u001b[0m \u001b[0;34m=\u001b[0m \u001b[0mself\u001b[0m\u001b[0;34m.\u001b[0m\u001b[0m_managed_backend\u001b[0m\u001b[0;34m\u001b[0m\u001b[0m\n\u001b[1;32m    718\u001b[0m                     \u001b[0mbackend\u001b[0m\u001b[0;34m.\u001b[0m\u001b[0mabort_everything\u001b[0m\u001b[0;34m(\u001b[0m\u001b[0mensure_ready\u001b[0m\u001b[0;34m=\u001b[0m\u001b[0mensure_ready\u001b[0m\u001b[0;34m)\u001b[0m\u001b[0;34m\u001b[0m\u001b[0m\n\u001b[0;32m--> 719\u001b[0;31m                 \u001b[0;32mraise\u001b[0m \u001b[0mexception\u001b[0m\u001b[0;34m\u001b[0m\u001b[0m\n\u001b[0m\u001b[1;32m    720\u001b[0m \u001b[0;34m\u001b[0m\u001b[0m\n\u001b[1;32m    721\u001b[0m     \u001b[0;32mdef\u001b[0m \u001b[0m__call__\u001b[0m\u001b[0;34m(\u001b[0m\u001b[0mself\u001b[0m\u001b[0;34m,\u001b[0m \u001b[0miterable\u001b[0m\u001b[0;34m)\u001b[0m\u001b[0;34m:\u001b[0m\u001b[0;34m\u001b[0m\u001b[0m\n",
      "\u001b[0;31mKeyboardInterrupt\u001b[0m: "
     ]
    }
   ],
   "source": [
    "grid_search_forest = gs.GridSearchCV(randomForest, grid_para_forest, scoring = \\\n",
    "                                     'neg_log_loss', cv=5, verbose = 1, n_jobs = 4).fit(X_train, y_train)"
   ]
  },
  {
   "cell_type": "code",
   "execution_count": null,
   "metadata": {
    "collapsed": true
   },
   "outputs": [],
   "source": [
    "grid_search_forest.best_score_, grid_search_forest.best_params_"
   ]
  },
  {
   "cell_type": "code",
   "execution_count": null,
   "metadata": {
    "collapsed": true
   },
   "outputs": [],
   "source": [
    "forest_best = grid_search_forest.best_estimator_\n",
    "preds = forest_best.predict_proba(x_test)"
   ]
  },
  {
   "cell_type": "code",
   "execution_count": null,
   "metadata": {
    "collapsed": true
   },
   "outputs": [],
   "source": [
    "preds = pd.DataFrame(preds)\n",
    "preds"
   ]
  },
  {
   "cell_type": "code",
   "execution_count": null,
   "metadata": {
    "collapsed": true
   },
   "outputs": [],
   "source": []
  },
  {
   "cell_type": "code",
   "execution_count": 285,
   "metadata": {
    "collapsed": false
   },
   "outputs": [],
   "source": [
    "import matplotlib.pyplot as plt\n",
    "%matplotlib inline"
   ]
  },
  {
   "cell_type": "code",
   "execution_count": null,
   "metadata": {
    "collapsed": false
   },
   "outputs": [],
   "source": []
  },
  {
   "cell_type": "code",
   "execution_count": null,
   "metadata": {
    "collapsed": true
   },
   "outputs": [],
   "source": []
  },
  {
   "cell_type": "code",
   "execution_count": null,
   "metadata": {
    "collapsed": false
   },
   "outputs": [],
   "source": []
  },
  {
   "cell_type": "code",
   "execution_count": 385,
   "metadata": {
    "collapsed": true
   },
   "outputs": [],
   "source": [
    "train = pd.read_csv('./input/train_no_cor.csv')\n",
    "test = pd.read_csv('./input/test_no_cor.csv')\n"
   ]
  },
  {
   "cell_type": "code",
   "execution_count": 386,
   "metadata": {
    "collapsed": true
   },
   "outputs": [],
   "source": [
    "dummy = filter(lambda x: 'dummy' in x, columns_name)\n",
    "filter_out = ['ac',\n",
    " 'actual apt. photos',\n",
    " 'bike',\n",
    " 'brownstone',\n",
    " 'cats allowed',\n",
    " 'decorative fireplace',\n",
    " 'dining room',\n",
    " 'dishwasher',\n",
    " 'dogs allowed',\n",
    " 'doorman',\n",
    " 'duplex',\n",
    " 'elevator',\n",
    " 'exclusive',\n",
    " 'exposed brick',\n",
    " 'fireplace',\n",
    " 'furnished',\n",
    " 'garden',\n",
    " 'green building',\n",
    " 'gym',\n",
    " 'hardwood',\n",
    " 'hi rise',\n",
    " 'high ceiling',\n",
    " 'high ceilings',\n",
    " 'highrise',\n",
    " 'kitchen',\n",
    " 'laundry',\n",
    " 'light',\n",
    " 'live/work',\n",
    " 'loft',\n",
    " 'lounge',\n",
    " 'lounge room',\n",
    " 'lowrise',\n",
    " 'luxury building',\n",
    " 'marble bath',\n",
    " 'microwave',\n",
    " 'midrise',\n",
    " 'multi-level',\n",
    " 'new construction',\n",
    " 'newly renovated',\n",
    " 'no fee',\n",
    " 'other_y',\n",
    " 'outdoor',\n",
    " 'park',\n",
    " 'parking',\n",
    " 'patio',\n",
    " 'pet friendly',\n",
    " 'pets',\n",
    " 'playroom',\n",
    " 'post war',\n",
    " 'post-war',\n",
    " 'prewar',\n",
    " 'reduced fee',\n",
    " 'renovated',\n",
    " 'residents lounge',\n",
    " 'roof',\n",
    " 'sauna',\n",
    " 'shares ok',\n",
    " 'short term allowed',\n",
    " 'simplex',\n",
    " 'stainless steel appliances',\n",
    " 'storage',\n",
    " 'sublet',\n",
    " 'train',\n",
    " 'valet',\n",
    " 'view',\n",
    " 'wheelchair access',\n",
    " 'wheelchair ramp',\n",
    " 'wifi','desc:0'\n",
    "             ]"
   ]
  },
  {
   "cell_type": "code",
   "execution_count": 371,
   "metadata": {
    "collapsed": false
   },
   "outputs": [],
   "source": [
    "\n"
   ]
  },
  {
   "cell_type": "code",
   "execution_count": 387,
   "metadata": {
    "collapsed": false
   },
   "outputs": [],
   "source": [
    "get_out = filter_out + dummy\n",
    "column = list(f for f in train.columns if f not in get_out)\n",
    "train_lg = train[column]\n"
   ]
  },
  {
   "cell_type": "code",
   "execution_count": 395,
   "metadata": {
    "collapsed": false
   },
   "outputs": [
    {
     "data": {
      "text/plain": [
       "Index([u'listing_id', u'photo_len_mean', u'photo_wid_mean', u'photo_rat_mean',\n",
       "       u' photo_pix_mean', u'photo_bri_mean', u'photo_len_max',\n",
       "       u'photo_wid_max', u'photo_rat_max', u' photo_pix_max', u'photo_bri_max',\n",
       "       u'photo_len_min', u'photo_wid_min', u'photo_rat_min', u' photo_pix_min',\n",
       "       u'photo_bri_min', u'num_photos', u'latitude', u'longitude',\n",
       "       u'top_1_neighborhood', u'top_2_neighborhood', u'top_5_neighborhood',\n",
       "       u'top_10_neighborhood', u'top_20_neighborhood', u'top_25_neighborhood',\n",
       "       u'top_30_neighborhood', u'top_40_neighborhood', u'top_50_neighborhood',\n",
       "       u'avenue', u'east', u'north', u'other_x', u'south', u'street', u'west',\n",
       "       u'cluster', u'top_1_manager', u'top_2_manager', u'top_5_manager',\n",
       "       u'top_10_manager', u'top_20_manager', u'top_25_manager',\n",
       "       u'top_30_manager', u'top_40_manager', u'top_50_manager',\n",
       "       u'top_1_building', u'top_2_building', u'top_5_building',\n",
       "       u'top_10_building', u'top_20_building', u'top_25_building',\n",
       "       u'top_30_building', u'top_40_building', u'top_50_building',\n",
       "       u'created_month', u'created_day', u'created_hour', u'created_weekday',\n",
       "       u'bathrooms', u'bedrooms', u'price', u'bedbath_ratio',\n",
       "       u'bathprice_ratio', u'bedprice_ratio', u'num_letters_desc',\n",
       "       u'num_words_desc', u'num_features', u'tfidf', u'topic0', u'topic1',\n",
       "       u'topic2', u'topic3', u'topic4', u'topic5', u'topic6',\n",
       "       u'interest_level'],\n",
       "      dtype='object')"
      ]
     },
     "execution_count": 395,
     "metadata": {},
     "output_type": "execute_result"
    }
   ],
   "source": [
    "train_lg.columns"
   ]
  },
  {
   "cell_type": "code",
   "execution_count": 394,
   "metadata": {
    "collapsed": false
   },
   "outputs": [
    {
     "data": {
      "text/plain": [
       "0        medium\n",
       "1           low\n",
       "2          high\n",
       "3           low\n",
       "4           low\n",
       "5        medium\n",
       "6           low\n",
       "7           low\n",
       "8        medium\n",
       "9           low\n",
       "10          low\n",
       "11          low\n",
       "12         high\n",
       "13          low\n",
       "14          low\n",
       "15       medium\n",
       "16          low\n",
       "17          low\n",
       "18          low\n",
       "19          low\n",
       "20          low\n",
       "21       medium\n",
       "22          low\n",
       "23          low\n",
       "24       medium\n",
       "25          low\n",
       "26       medium\n",
       "27          low\n",
       "28         high\n",
       "29          low\n",
       "          ...  \n",
       "49322       low\n",
       "49323       low\n",
       "49324    medium\n",
       "49325    medium\n",
       "49326       low\n",
       "49327       low\n",
       "49328       low\n",
       "49329       low\n",
       "49330       low\n",
       "49331       low\n",
       "49332       low\n",
       "49333       low\n",
       "49334       low\n",
       "49335    medium\n",
       "49336       low\n",
       "49337    medium\n",
       "49338       low\n",
       "49339       low\n",
       "49340       low\n",
       "49341       low\n",
       "49342      high\n",
       "49343       low\n",
       "49344       low\n",
       "49345       low\n",
       "49346    medium\n",
       "49347    medium\n",
       "49348       low\n",
       "49349       low\n",
       "49350       low\n",
       "49351       low\n",
       "Name: interest_level, dtype: object"
      ]
     },
     "execution_count": 394,
     "metadata": {},
     "output_type": "execute_result"
    }
   ],
   "source": [
    "train_lg.interest_level"
   ]
  },
  {
   "cell_type": "code",
   "execution_count": 390,
   "metadata": {
    "collapsed": false
   },
   "outputs": [
    {
     "data": {
      "text/plain": [
       "(74659, 75)"
      ]
     },
     "execution_count": 390,
     "metadata": {},
     "output_type": "execute_result"
    }
   ],
   "source": [
    "column.remove('interest_level')\n",
    "test_lg = test[column]\n",
    "test_lg.shape"
   ]
  },
  {
   "cell_type": "code",
   "execution_count": 392,
   "metadata": {
    "collapsed": true
   },
   "outputs": [],
   "source": [
    "train_lg.to_csv('train_lg.csv', index=False)"
   ]
  },
  {
   "cell_type": "code",
   "execution_count": 393,
   "metadata": {
    "collapsed": true
   },
   "outputs": [],
   "source": [
    "test_lg.to_csv('test_lg.csv', index=False)"
   ]
  },
  {
   "cell_type": "code",
   "execution_count": 381,
   "metadata": {
    "collapsed": false
   },
   "outputs": [],
   "source": [
    "train = train_lg.iloc[1:50, ]\n",
    "test = test_lg.iloc[1:50, ]"
   ]
  },
  {
   "cell_type": "code",
   "execution_count": null,
   "metadata": {
    "collapsed": true
   },
   "outputs": [],
   "source": []
  },
  {
   "cell_type": "code",
   "execution_count": 382,
   "metadata": {
    "collapsed": false
   },
   "outputs": [
    {
     "name": "stderr",
     "output_type": "stream",
     "text": [
      "/Applications/anaconda/lib/python2.7/site-packages/ipykernel/__main__.py:2: SettingWithCopyWarning: \n",
      "A value is trying to be set on a copy of a slice from a DataFrame.\n",
      "Try using .loc[row_indexer,col_indexer] = value instead\n",
      "\n",
      "See the caveats in the documentation: http://pandas.pydata.org/pandas-docs/stable/indexing.html#indexing-view-versus-copy\n",
      "  from ipykernel import kernelapp as app\n"
     ]
    }
   ],
   "source": [
    "y_map = {'low': 2, 'medium': 1, 'high': 0}\n",
    "train['interest_level'] = train['interest_level'].apply(lambda x: y_map[x])\n",
    "y_train = train.interest_level.values\n",
    "X_train = train.drop(['interest_level'], axis = 1)\n",
    "\n",
    "X_test = test"
   ]
  },
  {
   "cell_type": "code",
   "execution_count": 383,
   "metadata": {
    "collapsed": false
   },
   "outputs": [
    {
     "name": "stderr",
     "output_type": "stream",
     "text": [
      "/Library/Python/2.7/site-packages/sklearn/cross_validation.py:552: Warning: The least populated class in y has only 4 members, which is too few. The minimum number of labels for any class cannot be less than n_folds=5.\n",
      "  % (min_labels, self.n_folds)), Warning)\n"
     ]
    },
    {
     "name": "stdout",
     "output_type": "stream",
     "text": [
      "Best parameters: {'penalty': 'l2', 'C': 0.001}\n",
      "Accuracy: 0.57\n",
      "Best estimator: LogisticRegression(C=0.001, class_weight=None, dual=False, fit_intercept=True,\n",
      "          intercept_scaling=1, max_iter=100, multi_class='ovr', n_jobs=1,\n",
      "          penalty='l2', random_state=None, solver='liblinear', tol=0.0001,\n",
      "          verbose=0, warm_start=False)\n"
     ]
    }
   ],
   "source": [
    "param_grid = [{'C': [0.001, 0.01, 0.1, 1, 10, 100, 1000],\n",
    "\t\t\t\t\t\t\t\t'penalty': ('l1', 'l2')}]\n",
    "grid = GridSearchCV(LogisticRegression(), param_grid, scoring = 'accuracy', cv=5, n_jobs=3)\n",
    "grid.fit(X_train, y_train)\n",
    "\n",
    "print('Best parameters: %s' % grid.best_params_)\n",
    "print('Accuracy: %.2f' % grid.best_score_)\n",
    "print ('Best estimator: %s' % grid.best_estimator_)\n",
    "\n",
    "preba = grid.best_estimator_.predict_proba(X_test)\n",
    "preba = pd.DataFrame(preba)"
   ]
  },
  {
   "cell_type": "code",
   "execution_count": 384,
   "metadata": {
    "collapsed": false
   },
   "outputs": [
    {
     "data": {
      "text/html": [
       "<div>\n",
       "<table border=\"1\" class=\"dataframe\">\n",
       "  <thead>\n",
       "    <tr style=\"text-align: right;\">\n",
       "      <th></th>\n",
       "      <th>0</th>\n",
       "      <th>1</th>\n",
       "      <th>2</th>\n",
       "    </tr>\n",
       "  </thead>\n",
       "  <tbody>\n",
       "    <tr>\n",
       "      <th>0</th>\n",
       "      <td>0.102249</td>\n",
       "      <td>0.351216</td>\n",
       "      <td>0.546535</td>\n",
       "    </tr>\n",
       "    <tr>\n",
       "      <th>1</th>\n",
       "      <td>0.262683</td>\n",
       "      <td>0.104003</td>\n",
       "      <td>0.633315</td>\n",
       "    </tr>\n",
       "    <tr>\n",
       "      <th>2</th>\n",
       "      <td>0.013011</td>\n",
       "      <td>0.063264</td>\n",
       "      <td>0.923725</td>\n",
       "    </tr>\n",
       "    <tr>\n",
       "      <th>3</th>\n",
       "      <td>0.008446</td>\n",
       "      <td>0.082661</td>\n",
       "      <td>0.908893</td>\n",
       "    </tr>\n",
       "    <tr>\n",
       "      <th>4</th>\n",
       "      <td>0.000122</td>\n",
       "      <td>0.114130</td>\n",
       "      <td>0.885748</td>\n",
       "    </tr>\n",
       "    <tr>\n",
       "      <th>5</th>\n",
       "      <td>0.070777</td>\n",
       "      <td>0.354141</td>\n",
       "      <td>0.575082</td>\n",
       "    </tr>\n",
       "    <tr>\n",
       "      <th>6</th>\n",
       "      <td>0.194025</td>\n",
       "      <td>0.392497</td>\n",
       "      <td>0.413478</td>\n",
       "    </tr>\n",
       "    <tr>\n",
       "      <th>7</th>\n",
       "      <td>0.101303</td>\n",
       "      <td>0.423804</td>\n",
       "      <td>0.474893</td>\n",
       "    </tr>\n",
       "    <tr>\n",
       "      <th>8</th>\n",
       "      <td>0.097290</td>\n",
       "      <td>0.357921</td>\n",
       "      <td>0.544790</td>\n",
       "    </tr>\n",
       "    <tr>\n",
       "      <th>9</th>\n",
       "      <td>0.010883</td>\n",
       "      <td>0.258857</td>\n",
       "      <td>0.730259</td>\n",
       "    </tr>\n",
       "    <tr>\n",
       "      <th>10</th>\n",
       "      <td>0.130909</td>\n",
       "      <td>0.368085</td>\n",
       "      <td>0.501006</td>\n",
       "    </tr>\n",
       "    <tr>\n",
       "      <th>11</th>\n",
       "      <td>0.041975</td>\n",
       "      <td>0.006988</td>\n",
       "      <td>0.951037</td>\n",
       "    </tr>\n",
       "    <tr>\n",
       "      <th>12</th>\n",
       "      <td>0.004706</td>\n",
       "      <td>0.321843</td>\n",
       "      <td>0.673451</td>\n",
       "    </tr>\n",
       "    <tr>\n",
       "      <th>13</th>\n",
       "      <td>0.018197</td>\n",
       "      <td>0.002022</td>\n",
       "      <td>0.979781</td>\n",
       "    </tr>\n",
       "    <tr>\n",
       "      <th>14</th>\n",
       "      <td>0.068351</td>\n",
       "      <td>0.177464</td>\n",
       "      <td>0.754185</td>\n",
       "    </tr>\n",
       "    <tr>\n",
       "      <th>15</th>\n",
       "      <td>0.109460</td>\n",
       "      <td>0.378909</td>\n",
       "      <td>0.511631</td>\n",
       "    </tr>\n",
       "    <tr>\n",
       "      <th>16</th>\n",
       "      <td>0.028572</td>\n",
       "      <td>0.413025</td>\n",
       "      <td>0.558403</td>\n",
       "    </tr>\n",
       "    <tr>\n",
       "      <th>17</th>\n",
       "      <td>0.063696</td>\n",
       "      <td>0.229616</td>\n",
       "      <td>0.706688</td>\n",
       "    </tr>\n",
       "    <tr>\n",
       "      <th>18</th>\n",
       "      <td>0.083630</td>\n",
       "      <td>0.258661</td>\n",
       "      <td>0.657709</td>\n",
       "    </tr>\n",
       "    <tr>\n",
       "      <th>19</th>\n",
       "      <td>0.167869</td>\n",
       "      <td>0.129363</td>\n",
       "      <td>0.702767</td>\n",
       "    </tr>\n",
       "    <tr>\n",
       "      <th>20</th>\n",
       "      <td>0.126884</td>\n",
       "      <td>0.221093</td>\n",
       "      <td>0.652024</td>\n",
       "    </tr>\n",
       "    <tr>\n",
       "      <th>21</th>\n",
       "      <td>0.040028</td>\n",
       "      <td>0.004471</td>\n",
       "      <td>0.955501</td>\n",
       "    </tr>\n",
       "    <tr>\n",
       "      <th>22</th>\n",
       "      <td>0.010491</td>\n",
       "      <td>0.110448</td>\n",
       "      <td>0.879060</td>\n",
       "    </tr>\n",
       "    <tr>\n",
       "      <th>23</th>\n",
       "      <td>0.059382</td>\n",
       "      <td>0.195718</td>\n",
       "      <td>0.744900</td>\n",
       "    </tr>\n",
       "    <tr>\n",
       "      <th>24</th>\n",
       "      <td>0.127884</td>\n",
       "      <td>0.326918</td>\n",
       "      <td>0.545198</td>\n",
       "    </tr>\n",
       "    <tr>\n",
       "      <th>25</th>\n",
       "      <td>0.002067</td>\n",
       "      <td>0.255364</td>\n",
       "      <td>0.742568</td>\n",
       "    </tr>\n",
       "    <tr>\n",
       "      <th>26</th>\n",
       "      <td>0.200218</td>\n",
       "      <td>0.381115</td>\n",
       "      <td>0.418667</td>\n",
       "    </tr>\n",
       "    <tr>\n",
       "      <th>27</th>\n",
       "      <td>0.069321</td>\n",
       "      <td>0.238983</td>\n",
       "      <td>0.691696</td>\n",
       "    </tr>\n",
       "    <tr>\n",
       "      <th>28</th>\n",
       "      <td>0.168339</td>\n",
       "      <td>0.300228</td>\n",
       "      <td>0.531433</td>\n",
       "    </tr>\n",
       "    <tr>\n",
       "      <th>29</th>\n",
       "      <td>0.013630</td>\n",
       "      <td>0.035779</td>\n",
       "      <td>0.950590</td>\n",
       "    </tr>\n",
       "    <tr>\n",
       "      <th>30</th>\n",
       "      <td>0.071313</td>\n",
       "      <td>0.369861</td>\n",
       "      <td>0.558826</td>\n",
       "    </tr>\n",
       "    <tr>\n",
       "      <th>31</th>\n",
       "      <td>0.411281</td>\n",
       "      <td>0.255011</td>\n",
       "      <td>0.333708</td>\n",
       "    </tr>\n",
       "    <tr>\n",
       "      <th>32</th>\n",
       "      <td>0.088769</td>\n",
       "      <td>0.141935</td>\n",
       "      <td>0.769296</td>\n",
       "    </tr>\n",
       "    <tr>\n",
       "      <th>33</th>\n",
       "      <td>0.001162</td>\n",
       "      <td>0.010122</td>\n",
       "      <td>0.988716</td>\n",
       "    </tr>\n",
       "    <tr>\n",
       "      <th>34</th>\n",
       "      <td>0.065854</td>\n",
       "      <td>0.749178</td>\n",
       "      <td>0.184968</td>\n",
       "    </tr>\n",
       "    <tr>\n",
       "      <th>35</th>\n",
       "      <td>0.053929</td>\n",
       "      <td>0.280254</td>\n",
       "      <td>0.665817</td>\n",
       "    </tr>\n",
       "    <tr>\n",
       "      <th>36</th>\n",
       "      <td>0.129141</td>\n",
       "      <td>0.192293</td>\n",
       "      <td>0.678566</td>\n",
       "    </tr>\n",
       "    <tr>\n",
       "      <th>37</th>\n",
       "      <td>0.014889</td>\n",
       "      <td>0.235349</td>\n",
       "      <td>0.749762</td>\n",
       "    </tr>\n",
       "    <tr>\n",
       "      <th>38</th>\n",
       "      <td>0.055245</td>\n",
       "      <td>0.019451</td>\n",
       "      <td>0.925304</td>\n",
       "    </tr>\n",
       "    <tr>\n",
       "      <th>39</th>\n",
       "      <td>0.005991</td>\n",
       "      <td>0.201927</td>\n",
       "      <td>0.792082</td>\n",
       "    </tr>\n",
       "    <tr>\n",
       "      <th>40</th>\n",
       "      <td>0.180933</td>\n",
       "      <td>0.246490</td>\n",
       "      <td>0.572576</td>\n",
       "    </tr>\n",
       "    <tr>\n",
       "      <th>41</th>\n",
       "      <td>0.092278</td>\n",
       "      <td>0.309262</td>\n",
       "      <td>0.598460</td>\n",
       "    </tr>\n",
       "    <tr>\n",
       "      <th>42</th>\n",
       "      <td>0.048048</td>\n",
       "      <td>0.395974</td>\n",
       "      <td>0.555978</td>\n",
       "    </tr>\n",
       "    <tr>\n",
       "      <th>43</th>\n",
       "      <td>0.024139</td>\n",
       "      <td>0.263559</td>\n",
       "      <td>0.712302</td>\n",
       "    </tr>\n",
       "    <tr>\n",
       "      <th>44</th>\n",
       "      <td>0.208403</td>\n",
       "      <td>0.264749</td>\n",
       "      <td>0.526848</td>\n",
       "    </tr>\n",
       "    <tr>\n",
       "      <th>45</th>\n",
       "      <td>0.199068</td>\n",
       "      <td>0.301721</td>\n",
       "      <td>0.499211</td>\n",
       "    </tr>\n",
       "    <tr>\n",
       "      <th>46</th>\n",
       "      <td>0.002950</td>\n",
       "      <td>0.209667</td>\n",
       "      <td>0.787383</td>\n",
       "    </tr>\n",
       "    <tr>\n",
       "      <th>47</th>\n",
       "      <td>0.026110</td>\n",
       "      <td>0.342744</td>\n",
       "      <td>0.631145</td>\n",
       "    </tr>\n",
       "    <tr>\n",
       "      <th>48</th>\n",
       "      <td>0.007991</td>\n",
       "      <td>0.251837</td>\n",
       "      <td>0.740172</td>\n",
       "    </tr>\n",
       "  </tbody>\n",
       "</table>\n",
       "</div>"
      ],
      "text/plain": [
       "           0         1         2\n",
       "0   0.102249  0.351216  0.546535\n",
       "1   0.262683  0.104003  0.633315\n",
       "2   0.013011  0.063264  0.923725\n",
       "3   0.008446  0.082661  0.908893\n",
       "4   0.000122  0.114130  0.885748\n",
       "5   0.070777  0.354141  0.575082\n",
       "6   0.194025  0.392497  0.413478\n",
       "7   0.101303  0.423804  0.474893\n",
       "8   0.097290  0.357921  0.544790\n",
       "9   0.010883  0.258857  0.730259\n",
       "10  0.130909  0.368085  0.501006\n",
       "11  0.041975  0.006988  0.951037\n",
       "12  0.004706  0.321843  0.673451\n",
       "13  0.018197  0.002022  0.979781\n",
       "14  0.068351  0.177464  0.754185\n",
       "15  0.109460  0.378909  0.511631\n",
       "16  0.028572  0.413025  0.558403\n",
       "17  0.063696  0.229616  0.706688\n",
       "18  0.083630  0.258661  0.657709\n",
       "19  0.167869  0.129363  0.702767\n",
       "20  0.126884  0.221093  0.652024\n",
       "21  0.040028  0.004471  0.955501\n",
       "22  0.010491  0.110448  0.879060\n",
       "23  0.059382  0.195718  0.744900\n",
       "24  0.127884  0.326918  0.545198\n",
       "25  0.002067  0.255364  0.742568\n",
       "26  0.200218  0.381115  0.418667\n",
       "27  0.069321  0.238983  0.691696\n",
       "28  0.168339  0.300228  0.531433\n",
       "29  0.013630  0.035779  0.950590\n",
       "30  0.071313  0.369861  0.558826\n",
       "31  0.411281  0.255011  0.333708\n",
       "32  0.088769  0.141935  0.769296\n",
       "33  0.001162  0.010122  0.988716\n",
       "34  0.065854  0.749178  0.184968\n",
       "35  0.053929  0.280254  0.665817\n",
       "36  0.129141  0.192293  0.678566\n",
       "37  0.014889  0.235349  0.749762\n",
       "38  0.055245  0.019451  0.925304\n",
       "39  0.005991  0.201927  0.792082\n",
       "40  0.180933  0.246490  0.572576\n",
       "41  0.092278  0.309262  0.598460\n",
       "42  0.048048  0.395974  0.555978\n",
       "43  0.024139  0.263559  0.712302\n",
       "44  0.208403  0.264749  0.526848\n",
       "45  0.199068  0.301721  0.499211\n",
       "46  0.002950  0.209667  0.787383\n",
       "47  0.026110  0.342744  0.631145\n",
       "48  0.007991  0.251837  0.740172"
      ]
     },
     "execution_count": 384,
     "metadata": {},
     "output_type": "execute_result"
    }
   ],
   "source": [
    "preba"
   ]
  },
  {
   "cell_type": "code",
   "execution_count": 316,
   "metadata": {
    "collapsed": false
   },
   "outputs": [
    {
     "data": {
      "text/plain": [
       "array(['listing_id', 'photo_len_mean', 'photo_wid_mean', ...,\n",
       "       'bed_dummy_4', 'bed_dummy_5', 'interest_level'], dtype=object)"
      ]
     },
     "execution_count": 316,
     "metadata": {},
     "output_type": "execute_result"
    }
   ],
   "source": [
    "columns_name = train.columns.values\n",
    "columns_name"
   ]
  },
  {
   "cell_type": "code",
   "execution_count": null,
   "metadata": {
    "collapsed": false
   },
   "outputs": [],
   "source": []
  },
  {
   "cell_type": "code",
   "execution_count": 334,
   "metadata": {
    "collapsed": false
   },
   "outputs": [],
   "source": []
  },
  {
   "cell_type": "code",
   "execution_count": 335,
   "metadata": {
    "collapsed": true
   },
   "outputs": [],
   "source": []
  },
  {
   "cell_type": "code",
   "execution_count": 343,
   "metadata": {
    "collapsed": false
   },
   "outputs": [],
   "source": []
  },
  {
   "cell_type": "code",
   "execution_count": 344,
   "metadata": {
    "collapsed": false
   },
   "outputs": [],
   "source": [
    "\n"
   ]
  },
  {
   "cell_type": "code",
   "execution_count": null,
   "metadata": {
    "collapsed": false
   },
   "outputs": [],
   "source": []
  },
  {
   "cell_type": "code",
   "execution_count": 341,
   "metadata": {
    "collapsed": false
   },
   "outputs": [
    {
     "data": {
      "text/plain": [
       "(99, 76)"
      ]
     },
     "execution_count": 341,
     "metadata": {},
     "output_type": "execute_result"
    }
   ],
   "source": [
    "train[column].shape"
   ]
  },
  {
   "cell_type": "code",
   "execution_count": 350,
   "metadata": {
    "collapsed": false
   },
   "outputs": [
    {
     "name": "stdout",
     "output_type": "stream",
     "text": [
      "{'alpha': 0.5, 'l1_ratio': 0.8}\n",
      "SGDClassifier(alpha=0.5, average=False, class_weight=None, epsilon=0.1,\n",
      "       eta0=0.0, fit_intercept=True, l1_ratio=0.8, learning_rate='optimal',\n",
      "       loss='log', n_iter=5, n_jobs=1, penalty='elasticnet', power_t=0.5,\n",
      "       random_state=None, shuffle=True, verbose=0, warm_start=False)\n"
     ]
    }
   ],
   "source": [
    "import numpy as np # linear algebra\n",
    "import pandas as pd # data processing, CSV file I/O (e.g. pd.read_csv)\n",
    "\n",
    "\n",
    "from sklearn.model_selection import train_test_split\n",
    "from sklearn.linear_model import LogisticRegression\n",
    "from sklearn.linear_model import ElasticNet\n",
    "from sklearn.grid_search import GridSearchCV\n",
    "from sklearn.externals import joblib\n",
    "from sklearn.linear_model import SGDClassifier\n",
    "\n",
    "from operator import itemgetter\n",
    "\n",
    "\n",
    "\n",
    "# train = pd.read_csv('./input/train_dummies.csv')\n",
    "# test = pd.read_csv('./input/test_dummies.csv')\n",
    "\n",
    "\n",
    "# y_map = {'low': 2, 'medium': 1, 'high': 0}\n",
    "# train['interest_level'] = train['interest_level'].apply(lambda x: y_map[x])\n",
    "y_train = train.interest_level.values\n",
    "X_train = train.drop(['interest_level'], axis = 1)\n",
    "X_test = test\n",
    "\n",
    "## ElasticNet\n",
    "\n",
    "param_grid = [{'alpha': [0.1, 0.3, 0.4, 0.5, 0.6],\n",
    "              'l1_ratio': [0,0.2, 0.4, 0.6, 0.7, 0.8,1]}]\n",
    "clf_elastic = GridSearchCV(SGDClassifier(loss=\"log\", penalty = 'elasticnet'), param_grid, scoring = 'accuracy', cv=5)\n",
    "clf_elastic.fit(X_train, y_train)\n",
    "\n",
    "print clf_elastic.best_params_\n",
    "print clf_elastic.best_estimator_\n",
    "preba = clf_elastic.best_estimator_.predict_proba(X_test)\n",
    "preba = pd.DataFrame(preba)\n",
    "cols = ['high', 'medium', 'low']\n",
    "preba.columns = cols\n",
    "preba['listing_id'] = test.listing_id.values\n",
    "\n",
    "# preba.to_csv('elasticNet_submission.csv', index=False)\n",
    "\n",
    "\n",
    "\n",
    "\n"
   ]
  },
  {
   "cell_type": "code",
   "execution_count": 348,
   "metadata": {
    "collapsed": false
   },
   "outputs": [
    {
     "data": {
      "text/html": [
       "<div>\n",
       "<table border=\"1\" class=\"dataframe\">\n",
       "  <thead>\n",
       "    <tr style=\"text-align: right;\">\n",
       "      <th></th>\n",
       "      <th>high</th>\n",
       "      <th>medium</th>\n",
       "      <th>low</th>\n",
       "      <th>listing_id</th>\n",
       "    </tr>\n",
       "  </thead>\n",
       "  <tbody>\n",
       "    <tr>\n",
       "      <th>0</th>\n",
       "      <td>0.0</td>\n",
       "      <td>0.0</td>\n",
       "      <td>1.0</td>\n",
       "      <td>7210040</td>\n",
       "    </tr>\n",
       "    <tr>\n",
       "      <th>1</th>\n",
       "      <td>0.0</td>\n",
       "      <td>0.0</td>\n",
       "      <td>1.0</td>\n",
       "      <td>7103890</td>\n",
       "    </tr>\n",
       "    <tr>\n",
       "      <th>2</th>\n",
       "      <td>0.0</td>\n",
       "      <td>0.0</td>\n",
       "      <td>1.0</td>\n",
       "      <td>7143442</td>\n",
       "    </tr>\n",
       "    <tr>\n",
       "      <th>3</th>\n",
       "      <td>0.0</td>\n",
       "      <td>0.0</td>\n",
       "      <td>1.0</td>\n",
       "      <td>6860601</td>\n",
       "    </tr>\n",
       "    <tr>\n",
       "      <th>4</th>\n",
       "      <td>0.0</td>\n",
       "      <td>0.0</td>\n",
       "      <td>1.0</td>\n",
       "      <td>6840081</td>\n",
       "    </tr>\n",
       "    <tr>\n",
       "      <th>5</th>\n",
       "      <td>0.0</td>\n",
       "      <td>0.0</td>\n",
       "      <td>1.0</td>\n",
       "      <td>6922337</td>\n",
       "    </tr>\n",
       "    <tr>\n",
       "      <th>6</th>\n",
       "      <td>0.0</td>\n",
       "      <td>0.0</td>\n",
       "      <td>1.0</td>\n",
       "      <td>6913616</td>\n",
       "    </tr>\n",
       "    <tr>\n",
       "      <th>7</th>\n",
       "      <td>0.0</td>\n",
       "      <td>0.0</td>\n",
       "      <td>1.0</td>\n",
       "      <td>6937820</td>\n",
       "    </tr>\n",
       "    <tr>\n",
       "      <th>8</th>\n",
       "      <td>0.0</td>\n",
       "      <td>0.0</td>\n",
       "      <td>1.0</td>\n",
       "      <td>6893933</td>\n",
       "    </tr>\n",
       "    <tr>\n",
       "      <th>9</th>\n",
       "      <td>0.0</td>\n",
       "      <td>0.0</td>\n",
       "      <td>1.0</td>\n",
       "      <td>6832604</td>\n",
       "    </tr>\n",
       "    <tr>\n",
       "      <th>10</th>\n",
       "      <td>0.0</td>\n",
       "      <td>0.0</td>\n",
       "      <td>1.0</td>\n",
       "      <td>6915282</td>\n",
       "    </tr>\n",
       "    <tr>\n",
       "      <th>11</th>\n",
       "      <td>0.0</td>\n",
       "      <td>0.0</td>\n",
       "      <td>1.0</td>\n",
       "      <td>7127565</td>\n",
       "    </tr>\n",
       "    <tr>\n",
       "      <th>12</th>\n",
       "      <td>0.0</td>\n",
       "      <td>0.0</td>\n",
       "      <td>1.0</td>\n",
       "      <td>6827899</td>\n",
       "    </tr>\n",
       "    <tr>\n",
       "      <th>13</th>\n",
       "      <td>0.0</td>\n",
       "      <td>0.0</td>\n",
       "      <td>1.0</td>\n",
       "      <td>6934855</td>\n",
       "    </tr>\n",
       "    <tr>\n",
       "      <th>14</th>\n",
       "      <td>0.0</td>\n",
       "      <td>0.0</td>\n",
       "      <td>1.0</td>\n",
       "      <td>6861826</td>\n",
       "    </tr>\n",
       "    <tr>\n",
       "      <th>15</th>\n",
       "      <td>0.0</td>\n",
       "      <td>0.0</td>\n",
       "      <td>1.0</td>\n",
       "      <td>6871643</td>\n",
       "    </tr>\n",
       "    <tr>\n",
       "      <th>16</th>\n",
       "      <td>0.0</td>\n",
       "      <td>0.0</td>\n",
       "      <td>1.0</td>\n",
       "      <td>6842542</td>\n",
       "    </tr>\n",
       "    <tr>\n",
       "      <th>17</th>\n",
       "      <td>0.0</td>\n",
       "      <td>0.0</td>\n",
       "      <td>1.0</td>\n",
       "      <td>6934145</td>\n",
       "    </tr>\n",
       "    <tr>\n",
       "      <th>18</th>\n",
       "      <td>0.0</td>\n",
       "      <td>0.0</td>\n",
       "      <td>1.0</td>\n",
       "      <td>6829365</td>\n",
       "    </tr>\n",
       "    <tr>\n",
       "      <th>19</th>\n",
       "      <td>0.0</td>\n",
       "      <td>0.0</td>\n",
       "      <td>1.0</td>\n",
       "      <td>7167858</td>\n",
       "    </tr>\n",
       "    <tr>\n",
       "      <th>20</th>\n",
       "      <td>0.0</td>\n",
       "      <td>0.0</td>\n",
       "      <td>1.0</td>\n",
       "      <td>6859483</td>\n",
       "    </tr>\n",
       "    <tr>\n",
       "      <th>21</th>\n",
       "      <td>0.0</td>\n",
       "      <td>0.0</td>\n",
       "      <td>1.0</td>\n",
       "      <td>6861377</td>\n",
       "    </tr>\n",
       "    <tr>\n",
       "      <th>22</th>\n",
       "      <td>0.0</td>\n",
       "      <td>0.0</td>\n",
       "      <td>1.0</td>\n",
       "      <td>6848960</td>\n",
       "    </tr>\n",
       "    <tr>\n",
       "      <th>23</th>\n",
       "      <td>0.0</td>\n",
       "      <td>0.0</td>\n",
       "      <td>1.0</td>\n",
       "      <td>6918850</td>\n",
       "    </tr>\n",
       "    <tr>\n",
       "      <th>24</th>\n",
       "      <td>0.0</td>\n",
       "      <td>0.0</td>\n",
       "      <td>1.0</td>\n",
       "      <td>6916867</td>\n",
       "    </tr>\n",
       "    <tr>\n",
       "      <th>25</th>\n",
       "      <td>0.0</td>\n",
       "      <td>0.0</td>\n",
       "      <td>1.0</td>\n",
       "      <td>6895840</td>\n",
       "    </tr>\n",
       "    <tr>\n",
       "      <th>26</th>\n",
       "      <td>0.0</td>\n",
       "      <td>0.0</td>\n",
       "      <td>1.0</td>\n",
       "      <td>6813539</td>\n",
       "    </tr>\n",
       "    <tr>\n",
       "      <th>27</th>\n",
       "      <td>0.0</td>\n",
       "      <td>0.0</td>\n",
       "      <td>1.0</td>\n",
       "      <td>7116900</td>\n",
       "    </tr>\n",
       "    <tr>\n",
       "      <th>28</th>\n",
       "      <td>0.0</td>\n",
       "      <td>0.0</td>\n",
       "      <td>1.0</td>\n",
       "      <td>6890328</td>\n",
       "    </tr>\n",
       "    <tr>\n",
       "      <th>29</th>\n",
       "      <td>0.0</td>\n",
       "      <td>0.0</td>\n",
       "      <td>1.0</td>\n",
       "      <td>6879406</td>\n",
       "    </tr>\n",
       "    <tr>\n",
       "      <th>...</th>\n",
       "      <td>...</td>\n",
       "      <td>...</td>\n",
       "      <td>...</td>\n",
       "      <td>...</td>\n",
       "    </tr>\n",
       "    <tr>\n",
       "      <th>69</th>\n",
       "      <td>0.0</td>\n",
       "      <td>0.0</td>\n",
       "      <td>1.0</td>\n",
       "      <td>6856860</td>\n",
       "    </tr>\n",
       "    <tr>\n",
       "      <th>70</th>\n",
       "      <td>0.0</td>\n",
       "      <td>0.0</td>\n",
       "      <td>1.0</td>\n",
       "      <td>6884921</td>\n",
       "    </tr>\n",
       "    <tr>\n",
       "      <th>71</th>\n",
       "      <td>0.0</td>\n",
       "      <td>0.0</td>\n",
       "      <td>1.0</td>\n",
       "      <td>6937417</td>\n",
       "    </tr>\n",
       "    <tr>\n",
       "      <th>72</th>\n",
       "      <td>0.0</td>\n",
       "      <td>0.0</td>\n",
       "      <td>1.0</td>\n",
       "      <td>6831129</td>\n",
       "    </tr>\n",
       "    <tr>\n",
       "      <th>73</th>\n",
       "      <td>0.0</td>\n",
       "      <td>0.0</td>\n",
       "      <td>1.0</td>\n",
       "      <td>6936660</td>\n",
       "    </tr>\n",
       "    <tr>\n",
       "      <th>74</th>\n",
       "      <td>0.0</td>\n",
       "      <td>0.0</td>\n",
       "      <td>1.0</td>\n",
       "      <td>6940667</td>\n",
       "    </tr>\n",
       "    <tr>\n",
       "      <th>75</th>\n",
       "      <td>0.0</td>\n",
       "      <td>0.0</td>\n",
       "      <td>1.0</td>\n",
       "      <td>7201307</td>\n",
       "    </tr>\n",
       "    <tr>\n",
       "      <th>76</th>\n",
       "      <td>0.0</td>\n",
       "      <td>0.0</td>\n",
       "      <td>1.0</td>\n",
       "      <td>6825434</td>\n",
       "    </tr>\n",
       "    <tr>\n",
       "      <th>77</th>\n",
       "      <td>0.0</td>\n",
       "      <td>0.0</td>\n",
       "      <td>1.0</td>\n",
       "      <td>6848114</td>\n",
       "    </tr>\n",
       "    <tr>\n",
       "      <th>78</th>\n",
       "      <td>0.0</td>\n",
       "      <td>0.0</td>\n",
       "      <td>1.0</td>\n",
       "      <td>6947758</td>\n",
       "    </tr>\n",
       "    <tr>\n",
       "      <th>79</th>\n",
       "      <td>0.0</td>\n",
       "      <td>0.0</td>\n",
       "      <td>1.0</td>\n",
       "      <td>6897002</td>\n",
       "    </tr>\n",
       "    <tr>\n",
       "      <th>80</th>\n",
       "      <td>0.0</td>\n",
       "      <td>0.0</td>\n",
       "      <td>1.0</td>\n",
       "      <td>6926661</td>\n",
       "    </tr>\n",
       "    <tr>\n",
       "      <th>81</th>\n",
       "      <td>0.0</td>\n",
       "      <td>0.0</td>\n",
       "      <td>1.0</td>\n",
       "      <td>6867411</td>\n",
       "    </tr>\n",
       "    <tr>\n",
       "      <th>82</th>\n",
       "      <td>0.0</td>\n",
       "      <td>0.0</td>\n",
       "      <td>1.0</td>\n",
       "      <td>6910154</td>\n",
       "    </tr>\n",
       "    <tr>\n",
       "      <th>83</th>\n",
       "      <td>0.0</td>\n",
       "      <td>0.0</td>\n",
       "      <td>1.0</td>\n",
       "      <td>7157900</td>\n",
       "    </tr>\n",
       "    <tr>\n",
       "      <th>84</th>\n",
       "      <td>0.0</td>\n",
       "      <td>0.0</td>\n",
       "      <td>1.0</td>\n",
       "      <td>6922324</td>\n",
       "    </tr>\n",
       "    <tr>\n",
       "      <th>85</th>\n",
       "      <td>0.0</td>\n",
       "      <td>0.0</td>\n",
       "      <td>1.0</td>\n",
       "      <td>6863068</td>\n",
       "    </tr>\n",
       "    <tr>\n",
       "      <th>86</th>\n",
       "      <td>0.0</td>\n",
       "      <td>0.0</td>\n",
       "      <td>1.0</td>\n",
       "      <td>6912109</td>\n",
       "    </tr>\n",
       "    <tr>\n",
       "      <th>87</th>\n",
       "      <td>0.0</td>\n",
       "      <td>0.0</td>\n",
       "      <td>1.0</td>\n",
       "      <td>6918609</td>\n",
       "    </tr>\n",
       "    <tr>\n",
       "      <th>88</th>\n",
       "      <td>0.0</td>\n",
       "      <td>0.0</td>\n",
       "      <td>1.0</td>\n",
       "      <td>6889300</td>\n",
       "    </tr>\n",
       "    <tr>\n",
       "      <th>89</th>\n",
       "      <td>0.0</td>\n",
       "      <td>0.0</td>\n",
       "      <td>1.0</td>\n",
       "      <td>6837794</td>\n",
       "    </tr>\n",
       "    <tr>\n",
       "      <th>90</th>\n",
       "      <td>0.0</td>\n",
       "      <td>0.0</td>\n",
       "      <td>1.0</td>\n",
       "      <td>6943098</td>\n",
       "    </tr>\n",
       "    <tr>\n",
       "      <th>91</th>\n",
       "      <td>0.0</td>\n",
       "      <td>0.0</td>\n",
       "      <td>1.0</td>\n",
       "      <td>6927601</td>\n",
       "    </tr>\n",
       "    <tr>\n",
       "      <th>92</th>\n",
       "      <td>0.0</td>\n",
       "      <td>0.0</td>\n",
       "      <td>1.0</td>\n",
       "      <td>6897826</td>\n",
       "    </tr>\n",
       "    <tr>\n",
       "      <th>93</th>\n",
       "      <td>0.0</td>\n",
       "      <td>0.0</td>\n",
       "      <td>1.0</td>\n",
       "      <td>6882892</td>\n",
       "    </tr>\n",
       "    <tr>\n",
       "      <th>94</th>\n",
       "      <td>0.0</td>\n",
       "      <td>0.0</td>\n",
       "      <td>1.0</td>\n",
       "      <td>6873384</td>\n",
       "    </tr>\n",
       "    <tr>\n",
       "      <th>95</th>\n",
       "      <td>0.0</td>\n",
       "      <td>0.0</td>\n",
       "      <td>1.0</td>\n",
       "      <td>6934693</td>\n",
       "    </tr>\n",
       "    <tr>\n",
       "      <th>96</th>\n",
       "      <td>0.0</td>\n",
       "      <td>0.0</td>\n",
       "      <td>1.0</td>\n",
       "      <td>7224450</td>\n",
       "    </tr>\n",
       "    <tr>\n",
       "      <th>97</th>\n",
       "      <td>0.0</td>\n",
       "      <td>0.0</td>\n",
       "      <td>1.0</td>\n",
       "      <td>6898157</td>\n",
       "    </tr>\n",
       "    <tr>\n",
       "      <th>98</th>\n",
       "      <td>0.0</td>\n",
       "      <td>0.0</td>\n",
       "      <td>1.0</td>\n",
       "      <td>6837355</td>\n",
       "    </tr>\n",
       "  </tbody>\n",
       "</table>\n",
       "<p>99 rows × 4 columns</p>\n",
       "</div>"
      ],
      "text/plain": [
       "    high  medium  low  listing_id\n",
       "0    0.0     0.0  1.0     7210040\n",
       "1    0.0     0.0  1.0     7103890\n",
       "2    0.0     0.0  1.0     7143442\n",
       "3    0.0     0.0  1.0     6860601\n",
       "4    0.0     0.0  1.0     6840081\n",
       "5    0.0     0.0  1.0     6922337\n",
       "6    0.0     0.0  1.0     6913616\n",
       "7    0.0     0.0  1.0     6937820\n",
       "8    0.0     0.0  1.0     6893933\n",
       "9    0.0     0.0  1.0     6832604\n",
       "10   0.0     0.0  1.0     6915282\n",
       "11   0.0     0.0  1.0     7127565\n",
       "12   0.0     0.0  1.0     6827899\n",
       "13   0.0     0.0  1.0     6934855\n",
       "14   0.0     0.0  1.0     6861826\n",
       "15   0.0     0.0  1.0     6871643\n",
       "16   0.0     0.0  1.0     6842542\n",
       "17   0.0     0.0  1.0     6934145\n",
       "18   0.0     0.0  1.0     6829365\n",
       "19   0.0     0.0  1.0     7167858\n",
       "20   0.0     0.0  1.0     6859483\n",
       "21   0.0     0.0  1.0     6861377\n",
       "22   0.0     0.0  1.0     6848960\n",
       "23   0.0     0.0  1.0     6918850\n",
       "24   0.0     0.0  1.0     6916867\n",
       "25   0.0     0.0  1.0     6895840\n",
       "26   0.0     0.0  1.0     6813539\n",
       "27   0.0     0.0  1.0     7116900\n",
       "28   0.0     0.0  1.0     6890328\n",
       "29   0.0     0.0  1.0     6879406\n",
       "..   ...     ...  ...         ...\n",
       "69   0.0     0.0  1.0     6856860\n",
       "70   0.0     0.0  1.0     6884921\n",
       "71   0.0     0.0  1.0     6937417\n",
       "72   0.0     0.0  1.0     6831129\n",
       "73   0.0     0.0  1.0     6936660\n",
       "74   0.0     0.0  1.0     6940667\n",
       "75   0.0     0.0  1.0     7201307\n",
       "76   0.0     0.0  1.0     6825434\n",
       "77   0.0     0.0  1.0     6848114\n",
       "78   0.0     0.0  1.0     6947758\n",
       "79   0.0     0.0  1.0     6897002\n",
       "80   0.0     0.0  1.0     6926661\n",
       "81   0.0     0.0  1.0     6867411\n",
       "82   0.0     0.0  1.0     6910154\n",
       "83   0.0     0.0  1.0     7157900\n",
       "84   0.0     0.0  1.0     6922324\n",
       "85   0.0     0.0  1.0     6863068\n",
       "86   0.0     0.0  1.0     6912109\n",
       "87   0.0     0.0  1.0     6918609\n",
       "88   0.0     0.0  1.0     6889300\n",
       "89   0.0     0.0  1.0     6837794\n",
       "90   0.0     0.0  1.0     6943098\n",
       "91   0.0     0.0  1.0     6927601\n",
       "92   0.0     0.0  1.0     6897826\n",
       "93   0.0     0.0  1.0     6882892\n",
       "94   0.0     0.0  1.0     6873384\n",
       "95   0.0     0.0  1.0     6934693\n",
       "96   0.0     0.0  1.0     7224450\n",
       "97   0.0     0.0  1.0     6898157\n",
       "98   0.0     0.0  1.0     6837355\n",
       "\n",
       "[99 rows x 4 columns]"
      ]
     },
     "execution_count": 348,
     "metadata": {},
     "output_type": "execute_result"
    }
   ],
   "source": [
    "preba"
   ]
  },
  {
   "cell_type": "code",
   "execution_count": null,
   "metadata": {
    "collapsed": true
   },
   "outputs": [],
   "source": [
    "import numpy as np # linear algebra\n",
    "import pandas as pd # data processing, CSV file I/O (e.g. pd.read_csv)\n",
    "\n",
    "\n",
    "# from sklearn.model_selection import train_test_split\n",
    "from sklearn.linear_model import LogisticRegression\n",
    "from sklearn.grid_search import GridSearchCV\n",
    "# from sklearn.externals import joblib\n",
    "\n",
    "\n",
    "\n",
    "# train = pd.read_csv('./royce/train_dummies.csv')\n",
    "# test = pd.read_csv('./royce/test_dummies.csv')\n",
    "train = pd.read_csv('train_226.csv')\n",
    "test = pd.read_csv('test_225.csv')\n",
    "\n",
    "# y_map = {'low': 2, 'medium': 1, 'high': 0}\n",
    "# train['interest_level'] = train['interest_level'].apply(lambda x: y_map[x])\n",
    "# y_train = train.interest_level.values\n",
    "# X_train = train.drop(['interest_level'], axis = 1)\n",
    "\n",
    "# X_test = test\n",
    "\n",
    "\n",
    "y_map = {'low': 2, 'medium': 1, 'high': 0}\n",
    "train['interest_level_x'] = train['interest_level_x'].apply(lambda x: y_map[x])\n",
    "y_train = train.interest_level_x.values\n",
    "X_train = train.drop(['interest_level_x'], axis = 1)\n",
    "\n",
    "X_test = test\n",
    "\n",
    "#joblib memmap the data\n",
    "# joblib.dump(X_train, '/tmp/Xmwe.mmap')\n",
    "# loading for memmapped usage\n",
    "# X_train = joblib.load('/tmp/Xmwe.mmap', mmap_mode='r+')\n",
    "\n",
    "## ElasticNet\n",
    "\n",
    "param_grid = [{'C': [0.001, 0.01, 0.1, 1, 10, 100, 1000],\n",
    "\t\t\t\t\t\t\t\t'penalty': ('l1', 'l2')}]\n",
    "grid = GridSearchCV(LogisticRegression(), param_grid, scoring = 'accuracy', cv=5, n_jobs=3)\n",
    "grid.fit(X_train, y_train)\n",
    "\n",
    "print('Best parameters: %s' % grid.best_params_)\n",
    "print('Accuracy: %.2f' % grid.best_score_)\n",
    "print ('Best estimator: %s' % grid.best_estimator_)\n",
    "\n",
    "preba = grid.best_estimator_.predict_proba(X_test)\n",
    "preba = pd.DataFrame(preba)\n",
    "cols = ['high', 'medium', 'low']\n",
    "preba.columns = cols\n",
    "preba['listing_id'] = test.listing_id.values\n",
    "\n",
    "# preba.to_csv('./input/submission_regression.csv', index=False)\n",
    "\n",
    "\n",
    "\n",
    "\n",
    "\n",
    "\n",
    "\n",
    "\n",
    "\n",
    "\n",
    "\n",
    "\n",
    "\n",
    "\n",
    "\n",
    "\n",
    "\n",
    "\n",
    "\n",
    "\n",
    "\n",
    "\n",
    "\n"
   ]
  }
 ],
 "metadata": {
  "anaconda-cloud": {},
  "kernelspec": {
   "display_name": "Python [conda root]",
   "language": "python",
   "name": "conda-root-py"
  },
  "language_info": {
   "codemirror_mode": {
    "name": "ipython",
    "version": 2
   },
   "file_extension": ".py",
   "mimetype": "text/x-python",
   "name": "python",
   "nbconvert_exporter": "python",
   "pygments_lexer": "ipython2",
   "version": "2.7.12"
  }
 },
 "nbformat": 4,
 "nbformat_minor": 1
}
