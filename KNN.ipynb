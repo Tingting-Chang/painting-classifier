{
 "metadata": {
  "name": "",
  "signature": "sha256:21e270367f2113e3229e4ac4f966aa1a8aaede161a659d495cba71da9e87abc9"
 },
 "nbformat": 3,
 "nbformat_minor": 0,
 "worksheets": [
  {
   "cells": [
    {
     "cell_type": "markdown",
     "metadata": {},
     "source": [
      "#KNN"
     ]
    },
    {
     "cell_type": "code",
     "collapsed": false,
     "input": [
      "import neural_net_v4\n",
      "import data_preparing_v4 as data_preparing\n"
     ],
     "language": "python",
     "metadata": {},
     "outputs": [
      {
       "output_type": "stream",
       "stream": "stderr",
       "text": [
        "Using TensorFlow backend.\n"
       ]
      }
     ],
     "prompt_number": 1
    },
    {
     "cell_type": "code",
     "collapsed": false,
     "input": [
      "# import the necessary packages\n",
      "from sklearn.neighbors import KNeighborsClassifier\n",
      "from sklearn import cross_validation\n",
      "import numpy as np\n",
      "import pandas as pd\n",
      "import os\n",
      "import re\n",
      "import math\n",
      "\n",
      "import warnings\n",
      "warnings.filterwarnings('ignore', category=DeprecationWarning)\n",
      "\n",
      "from subprocess import check_output\n",
      "print(check_output([\"ls\", \"./data\"]).decode(\"utf-8\"))"
     ],
     "language": "python",
     "metadata": {},
     "outputs": [
      {
       "output_type": "stream",
       "stream": "stdout",
       "text": [
        "athenaeum_authors_preview.csv\n",
        "athenaeum_paintings.csv\n",
        "complete_data.csv\n",
        "images\n",
        "images_sizes_2325.csv\n",
        "net_predicted.csv\n",
        "painter_info_clean.csv\n",
        "painting_info_clean.csv\n",
        "resized_200\n",
        "test_data.csv\n",
        "train_data.csv\n",
        "\n"
       ]
      }
     ],
     "prompt_number": 9
    },
    {
     "cell_type": "code",
     "collapsed": false,
     "input": [],
     "language": "python",
     "metadata": {},
     "outputs": [],
     "prompt_number": 9
    },
    {
     "cell_type": "code",
     "collapsed": false,
     "input": [
      "# get the raw images data\n",
      "train_data = data_preparing.get_not_net_data(painters = 3, train = True)\n",
      "test_data = data_preparing.get_not_net_data(painters = None, train = False)"
     ],
     "language": "python",
     "metadata": {},
     "outputs": [
      {
       "output_type": "stream",
       "stream": "stdout",
       "text": [
        "\u001b[2K\r",
        "Loading images: 1/739"
       ]
      },
      {
       "output_type": "stream",
       "stream": "stdout",
       "text": [
        "\u001b[2K\r",
        "Loading images: 2/739"
       ]
      },
      {
       "output_type": "stream",
       "stream": "stdout",
       "text": [
        "\u001b[2K\r",
        "Loading images: 3/739"
       ]
      },
      {
       "output_type": "stream",
       "stream": "stdout",
       "text": [
        "\u001b[2K\r",
        "Loading images: 4/739"
       ]
      },
      {
       "output_type": "stream",
       "stream": "stdout",
       "text": [
        "\u001b[2K\r",
        "Loading images: 5/739"
       ]
      },
      {
       "output_type": "stream",
       "stream": "stdout",
       "text": [
        "\u001b[2K\r",
        "Loading images: 6/739"
       ]
      },
      {
       "output_type": "stream",
       "stream": "stdout",
       "text": [
        "\u001b[2K\r",
        "Loading images: 7/739"
       ]
      },
      {
       "output_type": "stream",
       "stream": "stdout",
       "text": [
        "\u001b[2K\r",
        "Loading images: 8/739"
       ]
      },
      {
       "output_type": "stream",
       "stream": "stdout",
       "text": [
        "\u001b[2K\r",
        "Loading images: 9/739"
       ]
      },
      {
       "output_type": "stream",
       "stream": "stdout",
       "text": [
        "\u001b[2K\r",
        "Loading images: 10/739"
       ]
      },
      {
       "output_type": "stream",
       "stream": "stdout",
       "text": [
        "\u001b[2K\r",
        "Loading images: 11/739"
       ]
      },
      {
       "output_type": "stream",
       "stream": "stdout",
       "text": [
        "\u001b[2K\r",
        "Loading images: 12/739"
       ]
      },
      {
       "output_type": "stream",
       "stream": "stdout",
       "text": [
        "\u001b[2K\r",
        "Loading images: 13/739"
       ]
      },
      {
       "output_type": "stream",
       "stream": "stdout",
       "text": [
        "\u001b[2K\r",
        "Loading images: 14/739"
       ]
      },
      {
       "output_type": "stream",
       "stream": "stdout",
       "text": [
        "\u001b[2K\r",
        "Loading images: 15/739"
       ]
      },
      {
       "output_type": "stream",
       "stream": "stdout",
       "text": [
        "\u001b[2K\r",
        "Loading images: 16/739"
       ]
      },
      {
       "output_type": "stream",
       "stream": "stdout",
       "text": [
        "\u001b[2K\r",
        "Loading images: 17/739"
       ]
      },
      {
       "output_type": "stream",
       "stream": "stdout",
       "text": [
        "\u001b[2K\r",
        "Loading images: 18/739"
       ]
      },
      {
       "output_type": "stream",
       "stream": "stdout",
       "text": [
        "\u001b[2K\r",
        "Loading images: 19/739"
       ]
      },
      {
       "output_type": "stream",
       "stream": "stdout",
       "text": [
        "\u001b[2K\r",
        "Loading images: 20/739"
       ]
      },
      {
       "output_type": "stream",
       "stream": "stdout",
       "text": [
        "\u001b[2K\r",
        "Loading images: 21/739"
       ]
      },
      {
       "output_type": "stream",
       "stream": "stdout",
       "text": [
        "\u001b[2K\r",
        "Loading images: 22/739"
       ]
      },
      {
       "output_type": "stream",
       "stream": "stdout",
       "text": [
        "\u001b[2K\r",
        "Loading images: 23/739"
       ]
      },
      {
       "output_type": "stream",
       "stream": "stdout",
       "text": [
        "\u001b[2K\r",
        "Loading images: 24/739"
       ]
      },
      {
       "output_type": "stream",
       "stream": "stdout",
       "text": [
        "\u001b[2K\r",
        "Loading images: 25/739"
       ]
      },
      {
       "output_type": "stream",
       "stream": "stdout",
       "text": [
        "\u001b[2K\r",
        "Loading images: 26/739"
       ]
      },
      {
       "output_type": "stream",
       "stream": "stdout",
       "text": [
        "\u001b[2K\r",
        "Loading images: 27/739"
       ]
      },
      {
       "output_type": "stream",
       "stream": "stdout",
       "text": [
        "\u001b[2K\r",
        "Loading images: 28/739"
       ]
      },
      {
       "output_type": "stream",
       "stream": "stdout",
       "text": [
        "\u001b[2K\r",
        "Loading images: 29/739"
       ]
      },
      {
       "output_type": "stream",
       "stream": "stdout",
       "text": [
        "\u001b[2K\r",
        "Loading images: 30/739"
       ]
      },
      {
       "output_type": "stream",
       "stream": "stdout",
       "text": [
        "\u001b[2K\r",
        "Loading images: 31/739"
       ]
      },
      {
       "output_type": "stream",
       "stream": "stdout",
       "text": [
        "\u001b[2K\r",
        "Loading images: 32/739"
       ]
      },
      {
       "output_type": "stream",
       "stream": "stdout",
       "text": [
        "\u001b[2K\r",
        "Loading images: 33/739"
       ]
      },
      {
       "output_type": "stream",
       "stream": "stdout",
       "text": [
        "\u001b[2K\r",
        "Loading images: 34/739"
       ]
      },
      {
       "output_type": "stream",
       "stream": "stdout",
       "text": [
        "\u001b[2K\r",
        "Loading images: 35/739"
       ]
      },
      {
       "output_type": "stream",
       "stream": "stdout",
       "text": [
        "\u001b[2K\r",
        "Loading images: 36/739"
       ]
      },
      {
       "output_type": "stream",
       "stream": "stdout",
       "text": [
        "\u001b[2K\r",
        "Loading images: 37/739"
       ]
      },
      {
       "output_type": "stream",
       "stream": "stdout",
       "text": [
        "\u001b[2K\r",
        "Loading images: 38/739"
       ]
      },
      {
       "output_type": "stream",
       "stream": "stdout",
       "text": [
        "\u001b[2K\r",
        "Loading images: 39/739"
       ]
      },
      {
       "output_type": "stream",
       "stream": "stdout",
       "text": [
        "\u001b[2K\r",
        "Loading images: 40/739"
       ]
      },
      {
       "output_type": "stream",
       "stream": "stdout",
       "text": [
        "\u001b[2K\r",
        "Loading images: 41/739"
       ]
      },
      {
       "output_type": "stream",
       "stream": "stdout",
       "text": [
        "\u001b[2K\r",
        "Loading images: 42/739"
       ]
      },
      {
       "output_type": "stream",
       "stream": "stdout",
       "text": [
        "\u001b[2K\r",
        "Loading images: 43/739"
       ]
      },
      {
       "output_type": "stream",
       "stream": "stdout",
       "text": [
        "\u001b[2K\r",
        "Loading images: 44/739"
       ]
      },
      {
       "output_type": "stream",
       "stream": "stdout",
       "text": [
        "\u001b[2K\r",
        "Loading images: 45/739"
       ]
      },
      {
       "output_type": "stream",
       "stream": "stdout",
       "text": [
        "\u001b[2K\r",
        "Loading images: 46/739"
       ]
      },
      {
       "output_type": "stream",
       "stream": "stdout",
       "text": [
        "\u001b[2K\r",
        "Loading images: 47/739"
       ]
      },
      {
       "output_type": "stream",
       "stream": "stdout",
       "text": [
        "\u001b[2K\r",
        "Loading images: 48/739"
       ]
      },
      {
       "output_type": "stream",
       "stream": "stdout",
       "text": [
        "\u001b[2K\r",
        "Loading images: 49/739"
       ]
      },
      {
       "output_type": "stream",
       "stream": "stdout",
       "text": [
        "\u001b[2K\r",
        "Loading images: 50/739"
       ]
      },
      {
       "output_type": "stream",
       "stream": "stdout",
       "text": [
        "\u001b[2K\r",
        "Loading images: 51/739"
       ]
      },
      {
       "output_type": "stream",
       "stream": "stdout",
       "text": [
        "\u001b[2K\r",
        "Loading images: 52/739"
       ]
      },
      {
       "output_type": "stream",
       "stream": "stdout",
       "text": [
        "\u001b[2K\r",
        "Loading images: 53/739"
       ]
      },
      {
       "output_type": "stream",
       "stream": "stdout",
       "text": [
        "\u001b[2K\r",
        "Loading images: 54/739"
       ]
      },
      {
       "output_type": "stream",
       "stream": "stdout",
       "text": [
        "\u001b[2K\r",
        "Loading images: 55/739"
       ]
      },
      {
       "output_type": "stream",
       "stream": "stdout",
       "text": [
        "\u001b[2K\r",
        "Loading images: 56/739"
       ]
      },
      {
       "output_type": "stream",
       "stream": "stdout",
       "text": [
        "\u001b[2K\r",
        "Loading images: 57/739"
       ]
      },
      {
       "output_type": "stream",
       "stream": "stdout",
       "text": [
        "\u001b[2K\r",
        "Loading images: 58/739"
       ]
      },
      {
       "output_type": "stream",
       "stream": "stdout",
       "text": [
        "\u001b[2K\r",
        "Loading images: 59/739"
       ]
      },
      {
       "output_type": "stream",
       "stream": "stdout",
       "text": [
        "\u001b[2K\r",
        "Loading images: 60/739"
       ]
      },
      {
       "output_type": "stream",
       "stream": "stdout",
       "text": [
        "\u001b[2K\r",
        "Loading images: 61/739"
       ]
      },
      {
       "output_type": "stream",
       "stream": "stdout",
       "text": [
        "\u001b[2K\r",
        "Loading images: 62/739"
       ]
      },
      {
       "output_type": "stream",
       "stream": "stdout",
       "text": [
        "\u001b[2K\r",
        "Loading images: 63/739"
       ]
      },
      {
       "output_type": "stream",
       "stream": "stdout",
       "text": [
        "\u001b[2K\r",
        "Loading images: 64/739"
       ]
      },
      {
       "output_type": "stream",
       "stream": "stdout",
       "text": [
        "\u001b[2K\r",
        "Loading images: 65/739"
       ]
      },
      {
       "output_type": "stream",
       "stream": "stdout",
       "text": [
        "\u001b[2K\r",
        "Loading images: 66/739"
       ]
      },
      {
       "output_type": "stream",
       "stream": "stdout",
       "text": [
        "\u001b[2K\r",
        "Loading images: 67/739"
       ]
      },
      {
       "output_type": "stream",
       "stream": "stdout",
       "text": [
        "\u001b[2K\r",
        "Loading images: 68/739"
       ]
      },
      {
       "output_type": "stream",
       "stream": "stdout",
       "text": [
        "\u001b[2K\r",
        "Loading images: 69/739"
       ]
      },
      {
       "output_type": "stream",
       "stream": "stdout",
       "text": [
        "\u001b[2K\r",
        "Loading images: 70/739"
       ]
      },
      {
       "output_type": "stream",
       "stream": "stdout",
       "text": [
        "\u001b[2K\r",
        "Loading images: 71/739"
       ]
      },
      {
       "output_type": "stream",
       "stream": "stdout",
       "text": [
        "\u001b[2K\r",
        "Loading images: 72/739"
       ]
      },
      {
       "output_type": "stream",
       "stream": "stdout",
       "text": [
        "\u001b[2K\r",
        "Loading images: 73/739"
       ]
      },
      {
       "output_type": "stream",
       "stream": "stdout",
       "text": [
        "\u001b[2K\r",
        "Loading images: 74/739"
       ]
      },
      {
       "output_type": "stream",
       "stream": "stdout",
       "text": [
        "\u001b[2K\r",
        "Loading images: 75/739"
       ]
      },
      {
       "output_type": "stream",
       "stream": "stdout",
       "text": [
        "\u001b[2K\r",
        "Loading images: 76/739"
       ]
      },
      {
       "output_type": "stream",
       "stream": "stdout",
       "text": [
        "\u001b[2K\r",
        "Loading images: 77/739"
       ]
      },
      {
       "output_type": "stream",
       "stream": "stdout",
       "text": [
        "\u001b[2K\r",
        "Loading images: 78/739"
       ]
      },
      {
       "output_type": "stream",
       "stream": "stdout",
       "text": [
        "\u001b[2K\r",
        "Loading images: 79/739"
       ]
      },
      {
       "output_type": "stream",
       "stream": "stdout",
       "text": [
        "\u001b[2K\r",
        "Loading images: 80/739"
       ]
      },
      {
       "output_type": "stream",
       "stream": "stdout",
       "text": [
        "\u001b[2K\r",
        "Loading images: 81/739"
       ]
      },
      {
       "output_type": "stream",
       "stream": "stdout",
       "text": [
        "\u001b[2K\r",
        "Loading images: 82/739"
       ]
      },
      {
       "output_type": "stream",
       "stream": "stdout",
       "text": [
        "\u001b[2K\r",
        "Loading images: 83/739"
       ]
      },
      {
       "output_type": "stream",
       "stream": "stdout",
       "text": [
        "\u001b[2K\r",
        "Loading images: 84/739"
       ]
      },
      {
       "output_type": "stream",
       "stream": "stdout",
       "text": [
        "\u001b[2K\r",
        "Loading images: 85/739"
       ]
      },
      {
       "output_type": "stream",
       "stream": "stdout",
       "text": [
        "\u001b[2K\r",
        "Loading images: 86/739"
       ]
      },
      {
       "output_type": "stream",
       "stream": "stdout",
       "text": [
        "\u001b[2K\r",
        "Loading images: 87/739"
       ]
      },
      {
       "output_type": "stream",
       "stream": "stdout",
       "text": [
        "\u001b[2K\r",
        "Loading images: 88/739"
       ]
      },
      {
       "output_type": "stream",
       "stream": "stdout",
       "text": [
        "\u001b[2K\r",
        "Loading images: 89/739"
       ]
      },
      {
       "output_type": "stream",
       "stream": "stdout",
       "text": [
        "\u001b[2K\r",
        "Loading images: 90/739"
       ]
      },
      {
       "output_type": "stream",
       "stream": "stdout",
       "text": [
        "\u001b[2K\r",
        "Loading images: 91/739"
       ]
      },
      {
       "output_type": "stream",
       "stream": "stdout",
       "text": [
        "\u001b[2K\r",
        "Loading images: 92/739"
       ]
      },
      {
       "output_type": "stream",
       "stream": "stdout",
       "text": [
        "\u001b[2K\r",
        "Loading images: 93/739"
       ]
      },
      {
       "output_type": "stream",
       "stream": "stdout",
       "text": [
        "\u001b[2K\r",
        "Loading images: 94/739"
       ]
      },
      {
       "output_type": "stream",
       "stream": "stdout",
       "text": [
        "\u001b[2K\r",
        "Loading images: 95/739"
       ]
      },
      {
       "output_type": "stream",
       "stream": "stdout",
       "text": [
        "\u001b[2K\r",
        "Loading images: 96/739"
       ]
      },
      {
       "output_type": "stream",
       "stream": "stdout",
       "text": [
        "\u001b[2K\r",
        "Loading images: 97/739"
       ]
      },
      {
       "output_type": "stream",
       "stream": "stdout",
       "text": [
        "\u001b[2K\r",
        "Loading images: 98/739"
       ]
      },
      {
       "output_type": "stream",
       "stream": "stdout",
       "text": [
        "\u001b[2K\r",
        "Loading images: 99/739"
       ]
      },
      {
       "output_type": "stream",
       "stream": "stdout",
       "text": [
        "\u001b[2K\r",
        "Loading images: 100/739"
       ]
      },
      {
       "output_type": "stream",
       "stream": "stdout",
       "text": [
        "\u001b[2K\r",
        "Loading images: 101/739"
       ]
      },
      {
       "output_type": "stream",
       "stream": "stdout",
       "text": [
        "\u001b[2K\r",
        "Loading images: 102/739"
       ]
      },
      {
       "output_type": "stream",
       "stream": "stdout",
       "text": [
        "\u001b[2K\r",
        "Loading images: 103/739"
       ]
      },
      {
       "output_type": "stream",
       "stream": "stdout",
       "text": [
        "\u001b[2K\r",
        "Loading images: 104/739"
       ]
      },
      {
       "output_type": "stream",
       "stream": "stdout",
       "text": [
        "\u001b[2K\r",
        "Loading images: 105/739"
       ]
      },
      {
       "output_type": "stream",
       "stream": "stdout",
       "text": [
        "\u001b[2K\r",
        "Loading images: 106/739"
       ]
      },
      {
       "output_type": "stream",
       "stream": "stdout",
       "text": [
        "\u001b[2K\r",
        "Loading images: 107/739"
       ]
      },
      {
       "output_type": "stream",
       "stream": "stdout",
       "text": [
        "\u001b[2K\r",
        "Loading images: 108/739"
       ]
      },
      {
       "output_type": "stream",
       "stream": "stdout",
       "text": [
        "\u001b[2K\r",
        "Loading images: 109/739"
       ]
      },
      {
       "output_type": "stream",
       "stream": "stdout",
       "text": [
        "\u001b[2K\r",
        "Loading images: 110/739"
       ]
      },
      {
       "output_type": "stream",
       "stream": "stdout",
       "text": [
        "\u001b[2K\r",
        "Loading images: 111/739"
       ]
      },
      {
       "output_type": "stream",
       "stream": "stdout",
       "text": [
        "\u001b[2K\r",
        "Loading images: 112/739"
       ]
      },
      {
       "output_type": "stream",
       "stream": "stdout",
       "text": [
        "\u001b[2K\r",
        "Loading images: 113/739"
       ]
      },
      {
       "output_type": "stream",
       "stream": "stdout",
       "text": [
        "\u001b[2K\r",
        "Loading images: 114/739"
       ]
      },
      {
       "output_type": "stream",
       "stream": "stdout",
       "text": [
        "\u001b[2K\r",
        "Loading images: 115/739"
       ]
      },
      {
       "output_type": "stream",
       "stream": "stdout",
       "text": [
        "\u001b[2K\r",
        "Loading images: 116/739"
       ]
      },
      {
       "output_type": "stream",
       "stream": "stdout",
       "text": [
        "\u001b[2K\r",
        "Loading images: 117/739"
       ]
      },
      {
       "output_type": "stream",
       "stream": "stdout",
       "text": [
        "\u001b[2K\r",
        "Loading images: 118/739"
       ]
      },
      {
       "output_type": "stream",
       "stream": "stdout",
       "text": [
        "\u001b[2K\r",
        "Loading images: 119/739"
       ]
      },
      {
       "output_type": "stream",
       "stream": "stdout",
       "text": [
        "\u001b[2K\r",
        "Loading images: 120/739"
       ]
      },
      {
       "output_type": "stream",
       "stream": "stdout",
       "text": [
        "\u001b[2K\r",
        "Loading images: 121/739"
       ]
      },
      {
       "output_type": "stream",
       "stream": "stdout",
       "text": [
        "\u001b[2K\r",
        "Loading images: 122/739"
       ]
      },
      {
       "output_type": "stream",
       "stream": "stdout",
       "text": [
        "\u001b[2K\r",
        "Loading images: 123/739"
       ]
      },
      {
       "output_type": "stream",
       "stream": "stdout",
       "text": [
        "\u001b[2K\r",
        "Loading images: 124/739"
       ]
      },
      {
       "output_type": "stream",
       "stream": "stdout",
       "text": [
        "\u001b[2K\r",
        "Loading images: 125/739"
       ]
      },
      {
       "output_type": "stream",
       "stream": "stdout",
       "text": [
        "\u001b[2K\r",
        "Loading images: 126/739"
       ]
      },
      {
       "output_type": "stream",
       "stream": "stdout",
       "text": [
        "\u001b[2K\r",
        "Loading images: 127/739"
       ]
      },
      {
       "output_type": "stream",
       "stream": "stdout",
       "text": [
        "\u001b[2K\r",
        "Loading images: 128/739"
       ]
      },
      {
       "output_type": "stream",
       "stream": "stdout",
       "text": [
        "\u001b[2K\r",
        "Loading images: 129/739"
       ]
      },
      {
       "output_type": "stream",
       "stream": "stdout",
       "text": [
        "\u001b[2K\r",
        "Loading images: 130/739"
       ]
      },
      {
       "output_type": "stream",
       "stream": "stdout",
       "text": [
        "\u001b[2K\r",
        "Loading images: 131/739"
       ]
      },
      {
       "output_type": "stream",
       "stream": "stdout",
       "text": [
        "\u001b[2K\r",
        "Loading images: 132/739"
       ]
      },
      {
       "output_type": "stream",
       "stream": "stdout",
       "text": [
        "\u001b[2K\r",
        "Loading images: 133/739"
       ]
      },
      {
       "output_type": "stream",
       "stream": "stdout",
       "text": [
        "\u001b[2K\r",
        "Loading images: 134/739"
       ]
      },
      {
       "output_type": "stream",
       "stream": "stdout",
       "text": [
        "\u001b[2K\r",
        "Loading images: 135/739"
       ]
      },
      {
       "output_type": "stream",
       "stream": "stdout",
       "text": [
        "\u001b[2K\r",
        "Loading images: 136/739"
       ]
      },
      {
       "output_type": "stream",
       "stream": "stdout",
       "text": [
        "\u001b[2K\r",
        "Loading images: 137/739"
       ]
      },
      {
       "output_type": "stream",
       "stream": "stdout",
       "text": [
        "\u001b[2K\r",
        "Loading images: 138/739"
       ]
      },
      {
       "output_type": "stream",
       "stream": "stdout",
       "text": [
        "\u001b[2K\r",
        "Loading images: 139/739"
       ]
      },
      {
       "output_type": "stream",
       "stream": "stdout",
       "text": [
        "\u001b[2K\r",
        "Loading images: 140/739"
       ]
      },
      {
       "output_type": "stream",
       "stream": "stdout",
       "text": [
        "\u001b[2K\r",
        "Loading images: 141/739"
       ]
      },
      {
       "output_type": "stream",
       "stream": "stdout",
       "text": [
        "\u001b[2K\r",
        "Loading images: 142/739"
       ]
      },
      {
       "output_type": "stream",
       "stream": "stdout",
       "text": [
        "\u001b[2K\r",
        "Loading images: 143/739"
       ]
      },
      {
       "output_type": "stream",
       "stream": "stdout",
       "text": [
        "\u001b[2K\r",
        "Loading images: 144/739"
       ]
      },
      {
       "output_type": "stream",
       "stream": "stdout",
       "text": [
        "\u001b[2K\r",
        "Loading images: 145/739"
       ]
      },
      {
       "output_type": "stream",
       "stream": "stdout",
       "text": [
        "\u001b[2K\r",
        "Loading images: 146/739"
       ]
      },
      {
       "output_type": "stream",
       "stream": "stdout",
       "text": [
        "\u001b[2K\r",
        "Loading images: 147/739"
       ]
      },
      {
       "output_type": "stream",
       "stream": "stdout",
       "text": [
        "\u001b[2K\r",
        "Loading images: 148/739"
       ]
      },
      {
       "output_type": "stream",
       "stream": "stdout",
       "text": [
        "\u001b[2K\r",
        "Loading images: 149/739"
       ]
      },
      {
       "output_type": "stream",
       "stream": "stdout",
       "text": [
        "\u001b[2K\r",
        "Loading images: 150/739"
       ]
      },
      {
       "output_type": "stream",
       "stream": "stdout",
       "text": [
        "\u001b[2K\r",
        "Loading images: 151/739"
       ]
      },
      {
       "output_type": "stream",
       "stream": "stdout",
       "text": [
        "\u001b[2K\r",
        "Loading images: 152/739"
       ]
      },
      {
       "output_type": "stream",
       "stream": "stdout",
       "text": [
        "\u001b[2K\r",
        "Loading images: 153/739"
       ]
      },
      {
       "output_type": "stream",
       "stream": "stdout",
       "text": [
        "\u001b[2K\r",
        "Loading images: 154/739"
       ]
      },
      {
       "output_type": "stream",
       "stream": "stdout",
       "text": [
        "\u001b[2K\r",
        "Loading images: 155/739"
       ]
      },
      {
       "output_type": "stream",
       "stream": "stdout",
       "text": [
        "\u001b[2K\r",
        "Loading images: 156/739"
       ]
      },
      {
       "output_type": "stream",
       "stream": "stdout",
       "text": [
        "\u001b[2K\r",
        "Loading images: 157/739"
       ]
      },
      {
       "output_type": "stream",
       "stream": "stdout",
       "text": [
        "\u001b[2K\r",
        "Loading images: 158/739"
       ]
      },
      {
       "output_type": "stream",
       "stream": "stdout",
       "text": [
        "\u001b[2K\r",
        "Loading images: 159/739"
       ]
      },
      {
       "output_type": "stream",
       "stream": "stdout",
       "text": [
        "\u001b[2K\r",
        "Loading images: 160/739"
       ]
      },
      {
       "output_type": "stream",
       "stream": "stdout",
       "text": [
        "\u001b[2K\r",
        "Loading images: 161/739"
       ]
      },
      {
       "output_type": "stream",
       "stream": "stdout",
       "text": [
        "\u001b[2K\r",
        "Loading images: 162/739"
       ]
      },
      {
       "output_type": "stream",
       "stream": "stdout",
       "text": [
        "\u001b[2K\r",
        "Loading images: 163/739"
       ]
      },
      {
       "output_type": "stream",
       "stream": "stdout",
       "text": [
        "\u001b[2K\r",
        "Loading images: 164/739"
       ]
      },
      {
       "output_type": "stream",
       "stream": "stdout",
       "text": [
        "\u001b[2K\r",
        "Loading images: 165/739"
       ]
      },
      {
       "output_type": "stream",
       "stream": "stdout",
       "text": [
        "\u001b[2K\r",
        "Loading images: 166/739"
       ]
      },
      {
       "output_type": "stream",
       "stream": "stdout",
       "text": [
        "\u001b[2K\r",
        "Loading images: 167/739"
       ]
      },
      {
       "output_type": "stream",
       "stream": "stdout",
       "text": [
        "\u001b[2K\r",
        "Loading images: 168/739"
       ]
      },
      {
       "output_type": "stream",
       "stream": "stdout",
       "text": [
        "\u001b[2K\r",
        "Loading images: 169/739"
       ]
      },
      {
       "output_type": "stream",
       "stream": "stdout",
       "text": [
        "\u001b[2K\r",
        "Loading images: 170/739"
       ]
      },
      {
       "output_type": "stream",
       "stream": "stdout",
       "text": [
        "\u001b[2K\r",
        "Loading images: 171/739"
       ]
      },
      {
       "output_type": "stream",
       "stream": "stdout",
       "text": [
        "\u001b[2K\r",
        "Loading images: 172/739"
       ]
      },
      {
       "output_type": "stream",
       "stream": "stdout",
       "text": [
        "\u001b[2K\r",
        "Loading images: 173/739"
       ]
      },
      {
       "output_type": "stream",
       "stream": "stdout",
       "text": [
        "\u001b[2K\r",
        "Loading images: 174/739"
       ]
      },
      {
       "output_type": "stream",
       "stream": "stdout",
       "text": [
        "\u001b[2K\r",
        "Loading images: 175/739"
       ]
      },
      {
       "output_type": "stream",
       "stream": "stdout",
       "text": [
        "\u001b[2K\r",
        "Loading images: 176/739"
       ]
      },
      {
       "output_type": "stream",
       "stream": "stdout",
       "text": [
        "\u001b[2K\r",
        "Loading images: 177/739"
       ]
      },
      {
       "output_type": "stream",
       "stream": "stdout",
       "text": [
        "\u001b[2K\r",
        "Loading images: 178/739"
       ]
      },
      {
       "output_type": "stream",
       "stream": "stdout",
       "text": [
        "\u001b[2K\r",
        "Loading images: 179/739"
       ]
      },
      {
       "output_type": "stream",
       "stream": "stdout",
       "text": [
        "\u001b[2K\r",
        "Loading images: 180/739"
       ]
      },
      {
       "output_type": "stream",
       "stream": "stdout",
       "text": [
        "\u001b[2K\r",
        "Loading images: 181/739"
       ]
      },
      {
       "output_type": "stream",
       "stream": "stdout",
       "text": [
        "\u001b[2K\r",
        "Loading images: 182/739"
       ]
      },
      {
       "output_type": "stream",
       "stream": "stdout",
       "text": [
        "\u001b[2K\r",
        "Loading images: 183/739"
       ]
      },
      {
       "output_type": "stream",
       "stream": "stdout",
       "text": [
        "\u001b[2K\r",
        "Loading images: 184/739"
       ]
      },
      {
       "output_type": "stream",
       "stream": "stdout",
       "text": [
        "\u001b[2K\r",
        "Loading images: 185/739"
       ]
      },
      {
       "output_type": "stream",
       "stream": "stdout",
       "text": [
        "\u001b[2K\r",
        "Loading images: 186/739"
       ]
      },
      {
       "output_type": "stream",
       "stream": "stdout",
       "text": [
        "\u001b[2K\r",
        "Loading images: 187/739"
       ]
      },
      {
       "output_type": "stream",
       "stream": "stdout",
       "text": [
        "\u001b[2K\r",
        "Loading images: 188/739"
       ]
      },
      {
       "output_type": "stream",
       "stream": "stdout",
       "text": [
        "\u001b[2K\r",
        "Loading images: 189/739"
       ]
      },
      {
       "output_type": "stream",
       "stream": "stdout",
       "text": [
        "\u001b[2K\r",
        "Loading images: 190/739"
       ]
      },
      {
       "output_type": "stream",
       "stream": "stdout",
       "text": [
        "\u001b[2K\r",
        "Loading images: 191/739"
       ]
      },
      {
       "output_type": "stream",
       "stream": "stdout",
       "text": [
        "\u001b[2K\r",
        "Loading images: 192/739"
       ]
      },
      {
       "output_type": "stream",
       "stream": "stdout",
       "text": [
        "\u001b[2K\r",
        "Loading images: 193/739"
       ]
      },
      {
       "output_type": "stream",
       "stream": "stdout",
       "text": [
        "\u001b[2K\r",
        "Loading images: 194/739"
       ]
      },
      {
       "output_type": "stream",
       "stream": "stdout",
       "text": [
        "\u001b[2K\r",
        "Loading images: 195/739"
       ]
      },
      {
       "output_type": "stream",
       "stream": "stdout",
       "text": [
        "\u001b[2K\r",
        "Loading images: 196/739"
       ]
      },
      {
       "output_type": "stream",
       "stream": "stdout",
       "text": [
        "\u001b[2K\r",
        "Loading images: 197/739"
       ]
      },
      {
       "output_type": "stream",
       "stream": "stdout",
       "text": [
        "\u001b[2K\r",
        "Loading images: 198/739"
       ]
      },
      {
       "output_type": "stream",
       "stream": "stdout",
       "text": [
        "\u001b[2K\r",
        "Loading images: 199/739"
       ]
      },
      {
       "output_type": "stream",
       "stream": "stdout",
       "text": [
        "\u001b[2K\r",
        "Loading images: 200/739"
       ]
      },
      {
       "output_type": "stream",
       "stream": "stdout",
       "text": [
        "\u001b[2K\r",
        "Loading images: 201/739"
       ]
      },
      {
       "output_type": "stream",
       "stream": "stdout",
       "text": [
        "\u001b[2K\r",
        "Loading images: 202/739"
       ]
      },
      {
       "output_type": "stream",
       "stream": "stdout",
       "text": [
        "\u001b[2K\r",
        "Loading images: 203/739"
       ]
      },
      {
       "output_type": "stream",
       "stream": "stdout",
       "text": [
        "\u001b[2K\r",
        "Loading images: 204/739"
       ]
      },
      {
       "output_type": "stream",
       "stream": "stdout",
       "text": [
        "\u001b[2K\r",
        "Loading images: 205/739"
       ]
      },
      {
       "output_type": "stream",
       "stream": "stdout",
       "text": [
        "\u001b[2K\r",
        "Loading images: 206/739"
       ]
      },
      {
       "output_type": "stream",
       "stream": "stdout",
       "text": [
        "\u001b[2K\r",
        "Loading images: 207/739"
       ]
      },
      {
       "output_type": "stream",
       "stream": "stdout",
       "text": [
        "\u001b[2K\r",
        "Loading images: 208/739"
       ]
      },
      {
       "output_type": "stream",
       "stream": "stdout",
       "text": [
        "\u001b[2K\r",
        "Loading images: 209/739"
       ]
      },
      {
       "output_type": "stream",
       "stream": "stdout",
       "text": [
        "\u001b[2K\r",
        "Loading images: 210/739"
       ]
      },
      {
       "output_type": "stream",
       "stream": "stdout",
       "text": [
        "\u001b[2K\r",
        "Loading images: 211/739"
       ]
      },
      {
       "output_type": "stream",
       "stream": "stdout",
       "text": [
        "\u001b[2K\r",
        "Loading images: 212/739"
       ]
      },
      {
       "output_type": "stream",
       "stream": "stdout",
       "text": [
        "\u001b[2K\r",
        "Loading images: 213/739"
       ]
      },
      {
       "output_type": "stream",
       "stream": "stdout",
       "text": [
        "\u001b[2K\r",
        "Loading images: 214/739"
       ]
      },
      {
       "output_type": "stream",
       "stream": "stdout",
       "text": [
        "\u001b[2K\r",
        "Loading images: 215/739"
       ]
      },
      {
       "output_type": "stream",
       "stream": "stdout",
       "text": [
        "\u001b[2K\r",
        "Loading images: 216/739"
       ]
      },
      {
       "output_type": "stream",
       "stream": "stdout",
       "text": [
        "\u001b[2K\r",
        "Loading images: 217/739"
       ]
      },
      {
       "output_type": "stream",
       "stream": "stdout",
       "text": [
        "\u001b[2K\r",
        "Loading images: 218/739"
       ]
      },
      {
       "output_type": "stream",
       "stream": "stdout",
       "text": [
        "\u001b[2K\r",
        "Loading images: 219/739"
       ]
      },
      {
       "output_type": "stream",
       "stream": "stdout",
       "text": [
        "\u001b[2K\r",
        "Loading images: 220/739"
       ]
      },
      {
       "output_type": "stream",
       "stream": "stdout",
       "text": [
        "\u001b[2K\r",
        "Loading images: 221/739"
       ]
      },
      {
       "output_type": "stream",
       "stream": "stdout",
       "text": [
        "\u001b[2K\r",
        "Loading images: 222/739"
       ]
      },
      {
       "output_type": "stream",
       "stream": "stdout",
       "text": [
        "\u001b[2K\r",
        "Loading images: 223/739"
       ]
      },
      {
       "output_type": "stream",
       "stream": "stdout",
       "text": [
        "\u001b[2K\r",
        "Loading images: 224/739"
       ]
      },
      {
       "output_type": "stream",
       "stream": "stdout",
       "text": [
        "\u001b[2K\r",
        "Loading images: 225/739"
       ]
      },
      {
       "output_type": "stream",
       "stream": "stdout",
       "text": [
        "\u001b[2K\r",
        "Loading images: 226/739"
       ]
      },
      {
       "output_type": "stream",
       "stream": "stdout",
       "text": [
        "\u001b[2K\r",
        "Loading images: 227/739"
       ]
      },
      {
       "output_type": "stream",
       "stream": "stdout",
       "text": [
        "\u001b[2K\r",
        "Loading images: 228/739"
       ]
      },
      {
       "output_type": "stream",
       "stream": "stdout",
       "text": [
        "\u001b[2K\r",
        "Loading images: 229/739"
       ]
      },
      {
       "output_type": "stream",
       "stream": "stdout",
       "text": [
        "\u001b[2K\r",
        "Loading images: 230/739"
       ]
      },
      {
       "output_type": "stream",
       "stream": "stdout",
       "text": [
        "\u001b[2K\r",
        "Loading images: 231/739"
       ]
      },
      {
       "output_type": "stream",
       "stream": "stdout",
       "text": [
        "\u001b[2K\r",
        "Loading images: 232/739"
       ]
      },
      {
       "output_type": "stream",
       "stream": "stdout",
       "text": [
        "\u001b[2K\r",
        "Loading images: 233/739"
       ]
      },
      {
       "output_type": "stream",
       "stream": "stdout",
       "text": [
        "\u001b[2K\r",
        "Loading images: 234/739"
       ]
      },
      {
       "output_type": "stream",
       "stream": "stdout",
       "text": [
        "\u001b[2K\r",
        "Loading images: 235/739"
       ]
      },
      {
       "output_type": "stream",
       "stream": "stdout",
       "text": [
        "\u001b[2K\r",
        "Loading images: 236/739"
       ]
      },
      {
       "output_type": "stream",
       "stream": "stdout",
       "text": [
        "\u001b[2K\r",
        "Loading images: 237/739"
       ]
      },
      {
       "output_type": "stream",
       "stream": "stdout",
       "text": [
        "\u001b[2K\r",
        "Loading images: 238/739"
       ]
      },
      {
       "output_type": "stream",
       "stream": "stdout",
       "text": [
        "\u001b[2K\r",
        "Loading images: 239/739"
       ]
      },
      {
       "output_type": "stream",
       "stream": "stdout",
       "text": [
        "\u001b[2K\r",
        "Loading images: 240/739"
       ]
      },
      {
       "output_type": "stream",
       "stream": "stdout",
       "text": [
        "\u001b[2K\r",
        "Loading images: 241/739"
       ]
      },
      {
       "output_type": "stream",
       "stream": "stdout",
       "text": [
        "\u001b[2K\r",
        "Loading images: 242/739"
       ]
      },
      {
       "output_type": "stream",
       "stream": "stdout",
       "text": [
        "\u001b[2K\r",
        "Loading images: 243/739"
       ]
      },
      {
       "output_type": "stream",
       "stream": "stdout",
       "text": [
        "\u001b[2K\r",
        "Loading images: 244/739"
       ]
      },
      {
       "output_type": "stream",
       "stream": "stdout",
       "text": [
        "\u001b[2K\r",
        "Loading images: 245/739"
       ]
      },
      {
       "output_type": "stream",
       "stream": "stdout",
       "text": [
        "\u001b[2K\r",
        "Loading images: 246/739"
       ]
      },
      {
       "output_type": "stream",
       "stream": "stdout",
       "text": [
        "\u001b[2K\r",
        "Loading images: 247/739"
       ]
      },
      {
       "output_type": "stream",
       "stream": "stdout",
       "text": [
        "\u001b[2K\r",
        "Loading images: 248/739"
       ]
      },
      {
       "output_type": "stream",
       "stream": "stdout",
       "text": [
        "\u001b[2K\r",
        "Loading images: 249/739"
       ]
      },
      {
       "output_type": "stream",
       "stream": "stdout",
       "text": [
        "\u001b[2K\r",
        "Loading images: 250/739"
       ]
      },
      {
       "output_type": "stream",
       "stream": "stdout",
       "text": [
        "\u001b[2K\r",
        "Loading images: 251/739"
       ]
      },
      {
       "output_type": "stream",
       "stream": "stdout",
       "text": [
        "\u001b[2K\r",
        "Loading images: 252/739"
       ]
      },
      {
       "output_type": "stream",
       "stream": "stdout",
       "text": [
        "\u001b[2K\r",
        "Loading images: 253/739"
       ]
      },
      {
       "output_type": "stream",
       "stream": "stdout",
       "text": [
        "\u001b[2K\r",
        "Loading images: 254/739"
       ]
      },
      {
       "output_type": "stream",
       "stream": "stdout",
       "text": [
        "\u001b[2K\r",
        "Loading images: 255/739"
       ]
      },
      {
       "output_type": "stream",
       "stream": "stdout",
       "text": [
        "\u001b[2K\r",
        "Loading images: 256/739"
       ]
      },
      {
       "output_type": "stream",
       "stream": "stdout",
       "text": [
        "\u001b[2K\r",
        "Loading images: 257/739"
       ]
      },
      {
       "output_type": "stream",
       "stream": "stdout",
       "text": [
        "\u001b[2K\r",
        "Loading images: 258/739"
       ]
      },
      {
       "output_type": "stream",
       "stream": "stdout",
       "text": [
        "\u001b[2K\r",
        "Loading images: 259/739"
       ]
      },
      {
       "output_type": "stream",
       "stream": "stdout",
       "text": [
        "\u001b[2K\r",
        "Loading images: 260/739"
       ]
      },
      {
       "output_type": "stream",
       "stream": "stdout",
       "text": [
        "\u001b[2K\r",
        "Loading images: 261/739"
       ]
      },
      {
       "output_type": "stream",
       "stream": "stdout",
       "text": [
        "\u001b[2K\r",
        "Loading images: 262/739"
       ]
      },
      {
       "output_type": "stream",
       "stream": "stdout",
       "text": [
        "\u001b[2K\r",
        "Loading images: 263/739"
       ]
      },
      {
       "output_type": "stream",
       "stream": "stdout",
       "text": [
        "\u001b[2K\r",
        "Loading images: 264/739"
       ]
      },
      {
       "output_type": "stream",
       "stream": "stdout",
       "text": [
        "\u001b[2K\r",
        "Loading images: 265/739"
       ]
      },
      {
       "output_type": "stream",
       "stream": "stdout",
       "text": [
        "\u001b[2K\r",
        "Loading images: 266/739"
       ]
      },
      {
       "output_type": "stream",
       "stream": "stdout",
       "text": [
        "\u001b[2K\r",
        "Loading images: 267/739"
       ]
      },
      {
       "output_type": "stream",
       "stream": "stdout",
       "text": [
        "\u001b[2K\r",
        "Loading images: 268/739"
       ]
      },
      {
       "output_type": "stream",
       "stream": "stdout",
       "text": [
        "\u001b[2K\r",
        "Loading images: 269/739"
       ]
      },
      {
       "output_type": "stream",
       "stream": "stdout",
       "text": [
        "\u001b[2K\r",
        "Loading images: 270/739"
       ]
      },
      {
       "output_type": "stream",
       "stream": "stdout",
       "text": [
        "\u001b[2K\r",
        "Loading images: 271/739"
       ]
      },
      {
       "output_type": "stream",
       "stream": "stdout",
       "text": [
        "\u001b[2K\r",
        "Loading images: 272/739"
       ]
      },
      {
       "output_type": "stream",
       "stream": "stdout",
       "text": [
        "\u001b[2K\r",
        "Loading images: 273/739"
       ]
      },
      {
       "output_type": "stream",
       "stream": "stdout",
       "text": [
        "\u001b[2K\r",
        "Loading images: 274/739"
       ]
      },
      {
       "output_type": "stream",
       "stream": "stdout",
       "text": [
        "\u001b[2K\r",
        "Loading images: 275/739"
       ]
      },
      {
       "output_type": "stream",
       "stream": "stdout",
       "text": [
        "\u001b[2K\r",
        "Loading images: 276/739"
       ]
      },
      {
       "output_type": "stream",
       "stream": "stdout",
       "text": [
        "\u001b[2K\r",
        "Loading images: 277/739"
       ]
      },
      {
       "output_type": "stream",
       "stream": "stdout",
       "text": [
        "\u001b[2K\r",
        "Loading images: 278/739"
       ]
      },
      {
       "output_type": "stream",
       "stream": "stdout",
       "text": [
        "\u001b[2K\r",
        "Loading images: 279/739"
       ]
      },
      {
       "output_type": "stream",
       "stream": "stdout",
       "text": [
        "\u001b[2K\r",
        "Loading images: 280/739"
       ]
      },
      {
       "output_type": "stream",
       "stream": "stdout",
       "text": [
        "\u001b[2K\r",
        "Loading images: 281/739"
       ]
      },
      {
       "output_type": "stream",
       "stream": "stdout",
       "text": [
        "\u001b[2K\r",
        "Loading images: 282/739"
       ]
      },
      {
       "output_type": "stream",
       "stream": "stdout",
       "text": [
        "\u001b[2K\r",
        "Loading images: 283/739"
       ]
      },
      {
       "output_type": "stream",
       "stream": "stdout",
       "text": [
        "\u001b[2K\r",
        "Loading images: 284/739"
       ]
      },
      {
       "output_type": "stream",
       "stream": "stdout",
       "text": [
        "\u001b[2K\r",
        "Loading images: 285/739"
       ]
      },
      {
       "output_type": "stream",
       "stream": "stdout",
       "text": [
        "\u001b[2K\r",
        "Loading images: 286/739"
       ]
      },
      {
       "output_type": "stream",
       "stream": "stdout",
       "text": [
        "\u001b[2K\r",
        "Loading images: 287/739"
       ]
      },
      {
       "output_type": "stream",
       "stream": "stdout",
       "text": [
        "\u001b[2K\r",
        "Loading images: 288/739"
       ]
      },
      {
       "output_type": "stream",
       "stream": "stdout",
       "text": [
        "\u001b[2K\r",
        "Loading images: 289/739"
       ]
      },
      {
       "output_type": "stream",
       "stream": "stdout",
       "text": [
        "\u001b[2K\r",
        "Loading images: 290/739"
       ]
      },
      {
       "output_type": "stream",
       "stream": "stdout",
       "text": [
        "\u001b[2K\r",
        "Loading images: 291/739"
       ]
      },
      {
       "output_type": "stream",
       "stream": "stdout",
       "text": [
        "\u001b[2K\r",
        "Loading images: 292/739"
       ]
      },
      {
       "output_type": "stream",
       "stream": "stdout",
       "text": [
        "\u001b[2K\r",
        "Loading images: 293/739"
       ]
      },
      {
       "output_type": "stream",
       "stream": "stdout",
       "text": [
        "\u001b[2K\r",
        "Loading images: 294/739"
       ]
      },
      {
       "output_type": "stream",
       "stream": "stdout",
       "text": [
        "\u001b[2K\r",
        "Loading images: 295/739"
       ]
      },
      {
       "output_type": "stream",
       "stream": "stdout",
       "text": [
        "\u001b[2K\r",
        "Loading images: 296/739"
       ]
      },
      {
       "output_type": "stream",
       "stream": "stdout",
       "text": [
        "\u001b[2K\r",
        "Loading images: 297/739"
       ]
      },
      {
       "output_type": "stream",
       "stream": "stdout",
       "text": [
        "\u001b[2K\r",
        "Loading images: 298/739"
       ]
      },
      {
       "output_type": "stream",
       "stream": "stdout",
       "text": [
        "\u001b[2K\r",
        "Loading images: 299/739"
       ]
      },
      {
       "output_type": "stream",
       "stream": "stdout",
       "text": [
        "\u001b[2K\r",
        "Loading images: 300/739"
       ]
      },
      {
       "output_type": "stream",
       "stream": "stdout",
       "text": [
        "\u001b[2K\r",
        "Loading images: 301/739"
       ]
      },
      {
       "output_type": "stream",
       "stream": "stdout",
       "text": [
        "\u001b[2K\r",
        "Loading images: 302/739"
       ]
      },
      {
       "output_type": "stream",
       "stream": "stdout",
       "text": [
        "\u001b[2K\r",
        "Loading images: 303/739"
       ]
      },
      {
       "output_type": "stream",
       "stream": "stdout",
       "text": [
        "\u001b[2K\r",
        "Loading images: 304/739"
       ]
      },
      {
       "output_type": "stream",
       "stream": "stdout",
       "text": [
        "\u001b[2K\r",
        "Loading images: 305/739"
       ]
      },
      {
       "output_type": "stream",
       "stream": "stdout",
       "text": [
        "\u001b[2K\r",
        "Loading images: 306/739"
       ]
      },
      {
       "output_type": "stream",
       "stream": "stdout",
       "text": [
        "\u001b[2K\r",
        "Loading images: 307/739"
       ]
      },
      {
       "output_type": "stream",
       "stream": "stdout",
       "text": [
        "\u001b[2K\r",
        "Loading images: 308/739"
       ]
      },
      {
       "output_type": "stream",
       "stream": "stdout",
       "text": [
        "\u001b[2K\r",
        "Loading images: 309/739"
       ]
      },
      {
       "output_type": "stream",
       "stream": "stdout",
       "text": [
        "\u001b[2K\r",
        "Loading images: 310/739"
       ]
      },
      {
       "output_type": "stream",
       "stream": "stdout",
       "text": [
        "\u001b[2K\r",
        "Loading images: 311/739"
       ]
      },
      {
       "output_type": "stream",
       "stream": "stdout",
       "text": [
        "\u001b[2K\r",
        "Loading images: 312/739"
       ]
      },
      {
       "output_type": "stream",
       "stream": "stdout",
       "text": [
        "\u001b[2K\r",
        "Loading images: 313/739"
       ]
      },
      {
       "output_type": "stream",
       "stream": "stdout",
       "text": [
        "\u001b[2K\r",
        "Loading images: 314/739"
       ]
      },
      {
       "output_type": "stream",
       "stream": "stdout",
       "text": [
        "\u001b[2K\r",
        "Loading images: 315/739"
       ]
      },
      {
       "output_type": "stream",
       "stream": "stdout",
       "text": [
        "\u001b[2K\r",
        "Loading images: 316/739"
       ]
      },
      {
       "output_type": "stream",
       "stream": "stdout",
       "text": [
        "\u001b[2K\r",
        "Loading images: 317/739"
       ]
      },
      {
       "output_type": "stream",
       "stream": "stdout",
       "text": [
        "\u001b[2K\r",
        "Loading images: 318/739"
       ]
      },
      {
       "output_type": "stream",
       "stream": "stdout",
       "text": [
        "\u001b[2K\r",
        "Loading images: 319/739"
       ]
      },
      {
       "output_type": "stream",
       "stream": "stdout",
       "text": [
        "\u001b[2K\r",
        "Loading images: 320/739"
       ]
      },
      {
       "output_type": "stream",
       "stream": "stdout",
       "text": [
        "\u001b[2K\r",
        "Loading images: 321/739"
       ]
      },
      {
       "output_type": "stream",
       "stream": "stdout",
       "text": [
        "\u001b[2K\r",
        "Loading images: 322/739"
       ]
      },
      {
       "output_type": "stream",
       "stream": "stdout",
       "text": [
        "\u001b[2K\r",
        "Loading images: 323/739"
       ]
      },
      {
       "output_type": "stream",
       "stream": "stdout",
       "text": [
        "\u001b[2K\r",
        "Loading images: 324/739"
       ]
      },
      {
       "output_type": "stream",
       "stream": "stdout",
       "text": [
        "\u001b[2K\r",
        "Loading images: 325/739"
       ]
      },
      {
       "output_type": "stream",
       "stream": "stdout",
       "text": [
        "\u001b[2K\r",
        "Loading images: 326/739"
       ]
      },
      {
       "output_type": "stream",
       "stream": "stdout",
       "text": [
        "\u001b[2K\r",
        "Loading images: 327/739"
       ]
      },
      {
       "output_type": "stream",
       "stream": "stdout",
       "text": [
        "\u001b[2K\r",
        "Loading images: 328/739"
       ]
      },
      {
       "output_type": "stream",
       "stream": "stdout",
       "text": [
        "\u001b[2K\r",
        "Loading images: 329/739"
       ]
      },
      {
       "output_type": "stream",
       "stream": "stdout",
       "text": [
        "\u001b[2K\r",
        "Loading images: 330/739"
       ]
      },
      {
       "output_type": "stream",
       "stream": "stdout",
       "text": [
        "\u001b[2K\r",
        "Loading images: 331/739"
       ]
      },
      {
       "output_type": "stream",
       "stream": "stdout",
       "text": [
        "\u001b[2K\r",
        "Loading images: 332/739"
       ]
      },
      {
       "output_type": "stream",
       "stream": "stdout",
       "text": [
        "\u001b[2K\r",
        "Loading images: 333/739"
       ]
      },
      {
       "output_type": "stream",
       "stream": "stdout",
       "text": [
        "\u001b[2K\r",
        "Loading images: 334/739"
       ]
      },
      {
       "output_type": "stream",
       "stream": "stdout",
       "text": [
        "\u001b[2K\r",
        "Loading images: 335/739"
       ]
      },
      {
       "output_type": "stream",
       "stream": "stdout",
       "text": [
        "\u001b[2K\r",
        "Loading images: 336/739"
       ]
      },
      {
       "output_type": "stream",
       "stream": "stdout",
       "text": [
        "\u001b[2K\r",
        "Loading images: 337/739"
       ]
      },
      {
       "output_type": "stream",
       "stream": "stdout",
       "text": [
        "\u001b[2K\r",
        "Loading images: 338/739"
       ]
      },
      {
       "output_type": "stream",
       "stream": "stdout",
       "text": [
        "\u001b[2K\r",
        "Loading images: 339/739"
       ]
      },
      {
       "output_type": "stream",
       "stream": "stdout",
       "text": [
        "\u001b[2K\r",
        "Loading images: 340/739"
       ]
      },
      {
       "output_type": "stream",
       "stream": "stdout",
       "text": [
        "\u001b[2K\r",
        "Loading images: 341/739"
       ]
      },
      {
       "output_type": "stream",
       "stream": "stdout",
       "text": [
        "\u001b[2K\r",
        "Loading images: 342/739"
       ]
      },
      {
       "output_type": "stream",
       "stream": "stdout",
       "text": [
        "\u001b[2K\r",
        "Loading images: 343/739"
       ]
      },
      {
       "output_type": "stream",
       "stream": "stdout",
       "text": [
        "\u001b[2K\r",
        "Loading images: 344/739"
       ]
      },
      {
       "output_type": "stream",
       "stream": "stdout",
       "text": [
        "\u001b[2K\r",
        "Loading images: 345/739"
       ]
      },
      {
       "output_type": "stream",
       "stream": "stdout",
       "text": [
        "\u001b[2K\r",
        "Loading images: 346/739"
       ]
      },
      {
       "output_type": "stream",
       "stream": "stdout",
       "text": [
        "\u001b[2K\r",
        "Loading images: 347/739"
       ]
      },
      {
       "output_type": "stream",
       "stream": "stdout",
       "text": [
        "\u001b[2K\r",
        "Loading images: 348/739"
       ]
      },
      {
       "output_type": "stream",
       "stream": "stdout",
       "text": [
        "\u001b[2K\r",
        "Loading images: 349/739"
       ]
      },
      {
       "output_type": "stream",
       "stream": "stdout",
       "text": [
        "\u001b[2K\r",
        "Loading images: 350/739"
       ]
      },
      {
       "output_type": "stream",
       "stream": "stdout",
       "text": [
        "\u001b[2K\r",
        "Loading images: 351/739"
       ]
      },
      {
       "output_type": "stream",
       "stream": "stdout",
       "text": [
        "\u001b[2K\r",
        "Loading images: 352/739"
       ]
      },
      {
       "output_type": "stream",
       "stream": "stdout",
       "text": [
        "\u001b[2K\r",
        "Loading images: 353/739"
       ]
      },
      {
       "output_type": "stream",
       "stream": "stdout",
       "text": [
        "\u001b[2K\r",
        "Loading images: 354/739"
       ]
      },
      {
       "output_type": "stream",
       "stream": "stdout",
       "text": [
        "\u001b[2K\r",
        "Loading images: 355/739"
       ]
      },
      {
       "output_type": "stream",
       "stream": "stdout",
       "text": [
        "\u001b[2K\r",
        "Loading images: 356/739"
       ]
      },
      {
       "output_type": "stream",
       "stream": "stdout",
       "text": [
        "\u001b[2K\r",
        "Loading images: 357/739"
       ]
      },
      {
       "output_type": "stream",
       "stream": "stdout",
       "text": [
        "\u001b[2K\r",
        "Loading images: 358/739"
       ]
      },
      {
       "output_type": "stream",
       "stream": "stdout",
       "text": [
        "\u001b[2K\r",
        "Loading images: 359/739"
       ]
      },
      {
       "output_type": "stream",
       "stream": "stdout",
       "text": [
        "\u001b[2K\r",
        "Loading images: 360/739"
       ]
      },
      {
       "output_type": "stream",
       "stream": "stdout",
       "text": [
        "\u001b[2K\r",
        "Loading images: 361/739"
       ]
      },
      {
       "output_type": "stream",
       "stream": "stdout",
       "text": [
        "\u001b[2K\r",
        "Loading images: 362/739"
       ]
      },
      {
       "output_type": "stream",
       "stream": "stdout",
       "text": [
        "\u001b[2K\r",
        "Loading images: 363/739"
       ]
      },
      {
       "output_type": "stream",
       "stream": "stdout",
       "text": [
        "\u001b[2K\r",
        "Loading images: 364/739"
       ]
      },
      {
       "output_type": "stream",
       "stream": "stdout",
       "text": [
        "\u001b[2K\r",
        "Loading images: 365/739"
       ]
      },
      {
       "output_type": "stream",
       "stream": "stdout",
       "text": [
        "\u001b[2K\r",
        "Loading images: 366/739"
       ]
      },
      {
       "output_type": "stream",
       "stream": "stdout",
       "text": [
        "\u001b[2K\r",
        "Loading images: 367/739"
       ]
      },
      {
       "output_type": "stream",
       "stream": "stdout",
       "text": [
        "\u001b[2K\r",
        "Loading images: 368/739"
       ]
      },
      {
       "output_type": "stream",
       "stream": "stdout",
       "text": [
        "\u001b[2K\r",
        "Loading images: 369/739"
       ]
      },
      {
       "output_type": "stream",
       "stream": "stdout",
       "text": [
        "\u001b[2K\r",
        "Loading images: 370/739"
       ]
      },
      {
       "output_type": "stream",
       "stream": "stdout",
       "text": [
        "\u001b[2K\r",
        "Loading images: 371/739"
       ]
      },
      {
       "output_type": "stream",
       "stream": "stdout",
       "text": [
        "\u001b[2K\r",
        "Loading images: 372/739"
       ]
      },
      {
       "output_type": "stream",
       "stream": "stdout",
       "text": [
        "\u001b[2K\r",
        "Loading images: 373/739"
       ]
      },
      {
       "output_type": "stream",
       "stream": "stdout",
       "text": [
        "\u001b[2K\r",
        "Loading images: 374/739"
       ]
      },
      {
       "output_type": "stream",
       "stream": "stdout",
       "text": [
        "\u001b[2K\r",
        "Loading images: 375/739"
       ]
      },
      {
       "output_type": "stream",
       "stream": "stdout",
       "text": [
        "\u001b[2K\r",
        "Loading images: 376/739"
       ]
      },
      {
       "output_type": "stream",
       "stream": "stdout",
       "text": [
        "\u001b[2K\r",
        "Loading images: 377/739"
       ]
      },
      {
       "output_type": "stream",
       "stream": "stdout",
       "text": [
        "\u001b[2K\r",
        "Loading images: 378/739"
       ]
      },
      {
       "output_type": "stream",
       "stream": "stdout",
       "text": [
        "\u001b[2K\r",
        "Loading images: 379/739"
       ]
      },
      {
       "output_type": "stream",
       "stream": "stdout",
       "text": [
        "\u001b[2K\r",
        "Loading images: 380/739"
       ]
      },
      {
       "output_type": "stream",
       "stream": "stdout",
       "text": [
        "\u001b[2K\r",
        "Loading images: 381/739"
       ]
      },
      {
       "output_type": "stream",
       "stream": "stdout",
       "text": [
        "\u001b[2K\r",
        "Loading images: 382/739"
       ]
      },
      {
       "output_type": "stream",
       "stream": "stdout",
       "text": [
        "\u001b[2K\r",
        "Loading images: 383/739"
       ]
      },
      {
       "output_type": "stream",
       "stream": "stdout",
       "text": [
        "\u001b[2K\r",
        "Loading images: 384/739"
       ]
      },
      {
       "output_type": "stream",
       "stream": "stdout",
       "text": [
        "\u001b[2K\r",
        "Loading images: 385/739"
       ]
      },
      {
       "output_type": "stream",
       "stream": "stdout",
       "text": [
        "\u001b[2K\r",
        "Loading images: 386/739"
       ]
      },
      {
       "output_type": "stream",
       "stream": "stdout",
       "text": [
        "\u001b[2K\r",
        "Loading images: 387/739"
       ]
      },
      {
       "output_type": "stream",
       "stream": "stdout",
       "text": [
        "\u001b[2K\r",
        "Loading images: 388/739"
       ]
      },
      {
       "output_type": "stream",
       "stream": "stdout",
       "text": [
        "\u001b[2K\r",
        "Loading images: 389/739"
       ]
      },
      {
       "output_type": "stream",
       "stream": "stdout",
       "text": [
        "\u001b[2K\r",
        "Loading images: 390/739"
       ]
      },
      {
       "output_type": "stream",
       "stream": "stdout",
       "text": [
        "\u001b[2K\r",
        "Loading images: 391/739"
       ]
      },
      {
       "output_type": "stream",
       "stream": "stdout",
       "text": [
        "\u001b[2K\r",
        "Loading images: 392/739"
       ]
      },
      {
       "output_type": "stream",
       "stream": "stdout",
       "text": [
        "\u001b[2K\r",
        "Loading images: 393/739"
       ]
      },
      {
       "output_type": "stream",
       "stream": "stdout",
       "text": [
        "\u001b[2K\r",
        "Loading images: 394/739"
       ]
      },
      {
       "output_type": "stream",
       "stream": "stdout",
       "text": [
        "\u001b[2K\r",
        "Loading images: 395/739"
       ]
      },
      {
       "output_type": "stream",
       "stream": "stdout",
       "text": [
        "\u001b[2K\r",
        "Loading images: 396/739"
       ]
      },
      {
       "output_type": "stream",
       "stream": "stdout",
       "text": [
        "\u001b[2K\r",
        "Loading images: 397/739"
       ]
      },
      {
       "output_type": "stream",
       "stream": "stdout",
       "text": [
        "\u001b[2K\r",
        "Loading images: 398/739"
       ]
      },
      {
       "output_type": "stream",
       "stream": "stdout",
       "text": [
        "\u001b[2K\r",
        "Loading images: 399/739"
       ]
      },
      {
       "output_type": "stream",
       "stream": "stdout",
       "text": [
        "\u001b[2K\r",
        "Loading images: 400/739"
       ]
      },
      {
       "output_type": "stream",
       "stream": "stdout",
       "text": [
        "\u001b[2K\r",
        "Loading images: 401/739"
       ]
      },
      {
       "output_type": "stream",
       "stream": "stdout",
       "text": [
        "\u001b[2K\r",
        "Loading images: 402/739"
       ]
      },
      {
       "output_type": "stream",
       "stream": "stdout",
       "text": [
        "\u001b[2K\r",
        "Loading images: 403/739"
       ]
      },
      {
       "output_type": "stream",
       "stream": "stdout",
       "text": [
        "\u001b[2K\r",
        "Loading images: 404/739"
       ]
      },
      {
       "output_type": "stream",
       "stream": "stdout",
       "text": [
        "\u001b[2K\r",
        "Loading images: 405/739"
       ]
      },
      {
       "output_type": "stream",
       "stream": "stdout",
       "text": [
        "\u001b[2K\r",
        "Loading images: 406/739"
       ]
      },
      {
       "output_type": "stream",
       "stream": "stdout",
       "text": [
        "\u001b[2K\r",
        "Loading images: 407/739"
       ]
      },
      {
       "output_type": "stream",
       "stream": "stdout",
       "text": [
        "\u001b[2K\r",
        "Loading images: 408/739"
       ]
      },
      {
       "output_type": "stream",
       "stream": "stdout",
       "text": [
        "\u001b[2K\r",
        "Loading images: 409/739"
       ]
      },
      {
       "output_type": "stream",
       "stream": "stdout",
       "text": [
        "\u001b[2K\r",
        "Loading images: 410/739"
       ]
      },
      {
       "output_type": "stream",
       "stream": "stdout",
       "text": [
        "\u001b[2K\r",
        "Loading images: 411/739"
       ]
      },
      {
       "output_type": "stream",
       "stream": "stdout",
       "text": [
        "\u001b[2K\r",
        "Loading images: 412/739"
       ]
      },
      {
       "output_type": "stream",
       "stream": "stdout",
       "text": [
        "\u001b[2K\r",
        "Loading images: 413/739"
       ]
      },
      {
       "output_type": "stream",
       "stream": "stdout",
       "text": [
        "\u001b[2K\r",
        "Loading images: 414/739"
       ]
      },
      {
       "output_type": "stream",
       "stream": "stdout",
       "text": [
        "\u001b[2K\r",
        "Loading images: 415/739"
       ]
      },
      {
       "output_type": "stream",
       "stream": "stdout",
       "text": [
        "\u001b[2K\r",
        "Loading images: 416/739"
       ]
      },
      {
       "output_type": "stream",
       "stream": "stdout",
       "text": [
        "\u001b[2K\r",
        "Loading images: 417/739"
       ]
      },
      {
       "output_type": "stream",
       "stream": "stdout",
       "text": [
        "\u001b[2K\r",
        "Loading images: 418/739"
       ]
      },
      {
       "output_type": "stream",
       "stream": "stdout",
       "text": [
        "\u001b[2K\r",
        "Loading images: 419/739"
       ]
      },
      {
       "output_type": "stream",
       "stream": "stdout",
       "text": [
        "\u001b[2K\r",
        "Loading images: 420/739"
       ]
      },
      {
       "output_type": "stream",
       "stream": "stdout",
       "text": [
        "\u001b[2K\r",
        "Loading images: 421/739"
       ]
      },
      {
       "output_type": "stream",
       "stream": "stdout",
       "text": [
        "\u001b[2K\r",
        "Loading images: 422/739"
       ]
      },
      {
       "output_type": "stream",
       "stream": "stdout",
       "text": [
        "\u001b[2K\r",
        "Loading images: 423/739"
       ]
      },
      {
       "output_type": "stream",
       "stream": "stdout",
       "text": [
        "\u001b[2K\r",
        "Loading images: 424/739"
       ]
      },
      {
       "output_type": "stream",
       "stream": "stdout",
       "text": [
        "\u001b[2K\r",
        "Loading images: 425/739"
       ]
      },
      {
       "output_type": "stream",
       "stream": "stdout",
       "text": [
        "\u001b[2K\r",
        "Loading images: 426/739"
       ]
      },
      {
       "output_type": "stream",
       "stream": "stdout",
       "text": [
        "\u001b[2K\r",
        "Loading images: 427/739"
       ]
      },
      {
       "output_type": "stream",
       "stream": "stdout",
       "text": [
        "\u001b[2K\r",
        "Loading images: 428/739"
       ]
      },
      {
       "output_type": "stream",
       "stream": "stdout",
       "text": [
        "\u001b[2K\r",
        "Loading images: 429/739"
       ]
      },
      {
       "output_type": "stream",
       "stream": "stdout",
       "text": [
        "\u001b[2K\r",
        "Loading images: 430/739"
       ]
      },
      {
       "output_type": "stream",
       "stream": "stdout",
       "text": [
        "\u001b[2K\r",
        "Loading images: 431/739"
       ]
      },
      {
       "output_type": "stream",
       "stream": "stdout",
       "text": [
        "\u001b[2K\r",
        "Loading images: 432/739"
       ]
      },
      {
       "output_type": "stream",
       "stream": "stdout",
       "text": [
        "\u001b[2K\r",
        "Loading images: 433/739"
       ]
      },
      {
       "output_type": "stream",
       "stream": "stdout",
       "text": [
        "\u001b[2K\r",
        "Loading images: 434/739"
       ]
      },
      {
       "output_type": "stream",
       "stream": "stdout",
       "text": [
        "\u001b[2K\r",
        "Loading images: 435/739"
       ]
      },
      {
       "output_type": "stream",
       "stream": "stdout",
       "text": [
        "\u001b[2K\r",
        "Loading images: 436/739"
       ]
      },
      {
       "output_type": "stream",
       "stream": "stdout",
       "text": [
        "\u001b[2K\r",
        "Loading images: 437/739"
       ]
      },
      {
       "output_type": "stream",
       "stream": "stdout",
       "text": [
        "\u001b[2K\r",
        "Loading images: 438/739"
       ]
      },
      {
       "output_type": "stream",
       "stream": "stdout",
       "text": [
        "\u001b[2K\r",
        "Loading images: 439/739"
       ]
      },
      {
       "output_type": "stream",
       "stream": "stdout",
       "text": [
        "\u001b[2K\r",
        "Loading images: 440/739"
       ]
      },
      {
       "output_type": "stream",
       "stream": "stdout",
       "text": [
        "\u001b[2K\r",
        "Loading images: 441/739"
       ]
      },
      {
       "output_type": "stream",
       "stream": "stdout",
       "text": [
        "\u001b[2K\r",
        "Loading images: 442/739"
       ]
      },
      {
       "output_type": "stream",
       "stream": "stdout",
       "text": [
        "\u001b[2K\r",
        "Loading images: 443/739"
       ]
      },
      {
       "output_type": "stream",
       "stream": "stdout",
       "text": [
        "\u001b[2K\r",
        "Loading images: 444/739"
       ]
      },
      {
       "output_type": "stream",
       "stream": "stdout",
       "text": [
        "\u001b[2K\r",
        "Loading images: 445/739"
       ]
      },
      {
       "output_type": "stream",
       "stream": "stdout",
       "text": [
        "\u001b[2K\r",
        "Loading images: 446/739"
       ]
      },
      {
       "output_type": "stream",
       "stream": "stdout",
       "text": [
        "\u001b[2K\r",
        "Loading images: 447/739"
       ]
      },
      {
       "output_type": "stream",
       "stream": "stdout",
       "text": [
        "\u001b[2K\r",
        "Loading images: 448/739"
       ]
      },
      {
       "output_type": "stream",
       "stream": "stdout",
       "text": [
        "\u001b[2K\r",
        "Loading images: 449/739"
       ]
      },
      {
       "output_type": "stream",
       "stream": "stdout",
       "text": [
        "\u001b[2K\r",
        "Loading images: 450/739"
       ]
      },
      {
       "output_type": "stream",
       "stream": "stdout",
       "text": [
        "\u001b[2K\r",
        "Loading images: 451/739"
       ]
      },
      {
       "output_type": "stream",
       "stream": "stdout",
       "text": [
        "\u001b[2K\r",
        "Loading images: 452/739"
       ]
      },
      {
       "output_type": "stream",
       "stream": "stdout",
       "text": [
        "\u001b[2K\r",
        "Loading images: 453/739"
       ]
      },
      {
       "output_type": "stream",
       "stream": "stdout",
       "text": [
        "\u001b[2K\r",
        "Loading images: 454/739"
       ]
      },
      {
       "output_type": "stream",
       "stream": "stdout",
       "text": [
        "\u001b[2K\r",
        "Loading images: 455/739"
       ]
      },
      {
       "output_type": "stream",
       "stream": "stdout",
       "text": [
        "\u001b[2K\r",
        "Loading images: 456/739"
       ]
      },
      {
       "output_type": "stream",
       "stream": "stdout",
       "text": [
        "\u001b[2K\r",
        "Loading images: 457/739"
       ]
      },
      {
       "output_type": "stream",
       "stream": "stdout",
       "text": [
        "\u001b[2K\r",
        "Loading images: 458/739"
       ]
      },
      {
       "output_type": "stream",
       "stream": "stdout",
       "text": [
        "\u001b[2K\r",
        "Loading images: 459/739"
       ]
      },
      {
       "output_type": "stream",
       "stream": "stdout",
       "text": [
        "\u001b[2K\r",
        "Loading images: 460/739"
       ]
      },
      {
       "output_type": "stream",
       "stream": "stdout",
       "text": [
        "\u001b[2K\r",
        "Loading images: 461/739"
       ]
      },
      {
       "output_type": "stream",
       "stream": "stdout",
       "text": [
        "\u001b[2K\r",
        "Loading images: 462/739"
       ]
      },
      {
       "output_type": "stream",
       "stream": "stdout",
       "text": [
        "\u001b[2K\r",
        "Loading images: 463/739"
       ]
      },
      {
       "output_type": "stream",
       "stream": "stdout",
       "text": [
        "\u001b[2K\r",
        "Loading images: 464/739"
       ]
      },
      {
       "output_type": "stream",
       "stream": "stdout",
       "text": [
        "\u001b[2K\r",
        "Loading images: 465/739"
       ]
      },
      {
       "output_type": "stream",
       "stream": "stdout",
       "text": [
        "\u001b[2K\r",
        "Loading images: 466/739"
       ]
      },
      {
       "output_type": "stream",
       "stream": "stdout",
       "text": [
        "\u001b[2K\r",
        "Loading images: 467/739"
       ]
      },
      {
       "output_type": "stream",
       "stream": "stdout",
       "text": [
        "\u001b[2K\r",
        "Loading images: 468/739"
       ]
      },
      {
       "output_type": "stream",
       "stream": "stdout",
       "text": [
        "\u001b[2K\r",
        "Loading images: 469/739"
       ]
      },
      {
       "output_type": "stream",
       "stream": "stdout",
       "text": [
        "\u001b[2K\r",
        "Loading images: 470/739"
       ]
      },
      {
       "output_type": "stream",
       "stream": "stdout",
       "text": [
        "\u001b[2K\r",
        "Loading images: 471/739"
       ]
      },
      {
       "output_type": "stream",
       "stream": "stdout",
       "text": [
        "\u001b[2K\r",
        "Loading images: 472/739"
       ]
      },
      {
       "output_type": "stream",
       "stream": "stdout",
       "text": [
        "\u001b[2K\r",
        "Loading images: 473/739"
       ]
      },
      {
       "output_type": "stream",
       "stream": "stdout",
       "text": [
        "\u001b[2K\r",
        "Loading images: 474/739"
       ]
      },
      {
       "output_type": "stream",
       "stream": "stdout",
       "text": [
        "\u001b[2K\r",
        "Loading images: 475/739"
       ]
      },
      {
       "output_type": "stream",
       "stream": "stdout",
       "text": [
        "\u001b[2K\r",
        "Loading images: 476/739"
       ]
      },
      {
       "output_type": "stream",
       "stream": "stdout",
       "text": [
        "\u001b[2K\r",
        "Loading images: 477/739"
       ]
      },
      {
       "output_type": "stream",
       "stream": "stdout",
       "text": [
        "\u001b[2K\r",
        "Loading images: 478/739"
       ]
      },
      {
       "output_type": "stream",
       "stream": "stdout",
       "text": [
        "\u001b[2K\r",
        "Loading images: 479/739"
       ]
      },
      {
       "output_type": "stream",
       "stream": "stdout",
       "text": [
        "\u001b[2K\r",
        "Loading images: 480/739"
       ]
      },
      {
       "output_type": "stream",
       "stream": "stdout",
       "text": [
        "\u001b[2K\r",
        "Loading images: 481/739"
       ]
      },
      {
       "output_type": "stream",
       "stream": "stdout",
       "text": [
        "\u001b[2K\r",
        "Loading images: 482/739"
       ]
      },
      {
       "output_type": "stream",
       "stream": "stdout",
       "text": [
        "\u001b[2K\r",
        "Loading images: 483/739"
       ]
      },
      {
       "output_type": "stream",
       "stream": "stdout",
       "text": [
        "\u001b[2K\r",
        "Loading images: 484/739"
       ]
      },
      {
       "output_type": "stream",
       "stream": "stdout",
       "text": [
        "\u001b[2K\r",
        "Loading images: 485/739"
       ]
      },
      {
       "output_type": "stream",
       "stream": "stdout",
       "text": [
        "\u001b[2K\r",
        "Loading images: 486/739"
       ]
      },
      {
       "output_type": "stream",
       "stream": "stdout",
       "text": [
        "\u001b[2K\r",
        "Loading images: 487/739"
       ]
      },
      {
       "output_type": "stream",
       "stream": "stdout",
       "text": [
        "\u001b[2K\r",
        "Loading images: 488/739"
       ]
      },
      {
       "output_type": "stream",
       "stream": "stdout",
       "text": [
        "\u001b[2K\r",
        "Loading images: 489/739"
       ]
      },
      {
       "output_type": "stream",
       "stream": "stdout",
       "text": [
        "\u001b[2K\r",
        "Loading images: 490/739"
       ]
      },
      {
       "output_type": "stream",
       "stream": "stdout",
       "text": [
        "\u001b[2K\r",
        "Loading images: 491/739"
       ]
      },
      {
       "output_type": "stream",
       "stream": "stdout",
       "text": [
        "\u001b[2K\r",
        "Loading images: 492/739"
       ]
      },
      {
       "output_type": "stream",
       "stream": "stdout",
       "text": [
        "\u001b[2K\r",
        "Loading images: 493/739"
       ]
      },
      {
       "output_type": "stream",
       "stream": "stdout",
       "text": [
        "\u001b[2K\r",
        "Loading images: 494/739"
       ]
      },
      {
       "output_type": "stream",
       "stream": "stdout",
       "text": [
        "\u001b[2K\r",
        "Loading images: 495/739"
       ]
      },
      {
       "output_type": "stream",
       "stream": "stdout",
       "text": [
        "\u001b[2K\r",
        "Loading images: 496/739"
       ]
      },
      {
       "output_type": "stream",
       "stream": "stdout",
       "text": [
        "\u001b[2K\r",
        "Loading images: 497/739"
       ]
      },
      {
       "output_type": "stream",
       "stream": "stdout",
       "text": [
        "\u001b[2K\r",
        "Loading images: 498/739"
       ]
      },
      {
       "output_type": "stream",
       "stream": "stdout",
       "text": [
        "\u001b[2K\r",
        "Loading images: 499/739"
       ]
      },
      {
       "output_type": "stream",
       "stream": "stdout",
       "text": [
        "\u001b[2K\r",
        "Loading images: 500/739"
       ]
      },
      {
       "output_type": "stream",
       "stream": "stdout",
       "text": [
        "\u001b[2K\r",
        "Loading images: 501/739"
       ]
      },
      {
       "output_type": "stream",
       "stream": "stdout",
       "text": [
        "\u001b[2K\r",
        "Loading images: 502/739"
       ]
      },
      {
       "output_type": "stream",
       "stream": "stdout",
       "text": [
        "\u001b[2K\r",
        "Loading images: 503/739"
       ]
      },
      {
       "output_type": "stream",
       "stream": "stdout",
       "text": [
        "\u001b[2K\r",
        "Loading images: 504/739"
       ]
      },
      {
       "output_type": "stream",
       "stream": "stdout",
       "text": [
        "\u001b[2K\r",
        "Loading images: 505/739"
       ]
      },
      {
       "output_type": "stream",
       "stream": "stdout",
       "text": [
        "\u001b[2K\r",
        "Loading images: 506/739"
       ]
      },
      {
       "output_type": "stream",
       "stream": "stdout",
       "text": [
        "\u001b[2K\r",
        "Loading images: 507/739"
       ]
      },
      {
       "output_type": "stream",
       "stream": "stdout",
       "text": [
        "\u001b[2K\r",
        "Loading images: 508/739"
       ]
      },
      {
       "output_type": "stream",
       "stream": "stdout",
       "text": [
        "\u001b[2K\r",
        "Loading images: 509/739"
       ]
      },
      {
       "output_type": "stream",
       "stream": "stdout",
       "text": [
        "\u001b[2K\r",
        "Loading images: 510/739"
       ]
      },
      {
       "output_type": "stream",
       "stream": "stdout",
       "text": [
        "\u001b[2K\r",
        "Loading images: 511/739"
       ]
      },
      {
       "output_type": "stream",
       "stream": "stdout",
       "text": [
        "\u001b[2K\r",
        "Loading images: 512/739"
       ]
      },
      {
       "output_type": "stream",
       "stream": "stdout",
       "text": [
        "\u001b[2K\r",
        "Loading images: 513/739"
       ]
      },
      {
       "output_type": "stream",
       "stream": "stdout",
       "text": [
        "\u001b[2K\r",
        "Loading images: 514/739"
       ]
      },
      {
       "output_type": "stream",
       "stream": "stdout",
       "text": [
        "\u001b[2K\r",
        "Loading images: 515/739"
       ]
      },
      {
       "output_type": "stream",
       "stream": "stdout",
       "text": [
        "\u001b[2K\r",
        "Loading images: 516/739"
       ]
      },
      {
       "output_type": "stream",
       "stream": "stdout",
       "text": [
        "\u001b[2K\r",
        "Loading images: 517/739"
       ]
      },
      {
       "output_type": "stream",
       "stream": "stdout",
       "text": [
        "\u001b[2K\r",
        "Loading images: 518/739"
       ]
      },
      {
       "output_type": "stream",
       "stream": "stdout",
       "text": [
        "\u001b[2K\r",
        "Loading images: 519/739"
       ]
      },
      {
       "output_type": "stream",
       "stream": "stdout",
       "text": [
        "\u001b[2K\r",
        "Loading images: 520/739"
       ]
      },
      {
       "output_type": "stream",
       "stream": "stdout",
       "text": [
        "\u001b[2K\r",
        "Loading images: 521/739"
       ]
      },
      {
       "output_type": "stream",
       "stream": "stdout",
       "text": [
        "\u001b[2K\r",
        "Loading images: 522/739"
       ]
      },
      {
       "output_type": "stream",
       "stream": "stdout",
       "text": [
        "\u001b[2K\r",
        "Loading images: 523/739"
       ]
      },
      {
       "output_type": "stream",
       "stream": "stdout",
       "text": [
        "\u001b[2K\r",
        "Loading images: 524/739"
       ]
      },
      {
       "output_type": "stream",
       "stream": "stdout",
       "text": [
        "\u001b[2K\r",
        "Loading images: 525/739"
       ]
      },
      {
       "output_type": "stream",
       "stream": "stdout",
       "text": [
        "\u001b[2K\r",
        "Loading images: 526/739"
       ]
      },
      {
       "output_type": "stream",
       "stream": "stdout",
       "text": [
        "\u001b[2K\r",
        "Loading images: 527/739"
       ]
      },
      {
       "output_type": "stream",
       "stream": "stdout",
       "text": [
        "\u001b[2K\r",
        "Loading images: 528/739"
       ]
      },
      {
       "output_type": "stream",
       "stream": "stdout",
       "text": [
        "\u001b[2K\r",
        "Loading images: 529/739"
       ]
      },
      {
       "output_type": "stream",
       "stream": "stdout",
       "text": [
        "\u001b[2K\r",
        "Loading images: 530/739"
       ]
      },
      {
       "output_type": "stream",
       "stream": "stdout",
       "text": [
        "\u001b[2K\r",
        "Loading images: 531/739"
       ]
      },
      {
       "output_type": "stream",
       "stream": "stdout",
       "text": [
        "\u001b[2K\r",
        "Loading images: 532/739"
       ]
      },
      {
       "output_type": "stream",
       "stream": "stdout",
       "text": [
        "\u001b[2K\r",
        "Loading images: 533/739"
       ]
      },
      {
       "output_type": "stream",
       "stream": "stdout",
       "text": [
        "\u001b[2K\r",
        "Loading images: 534/739"
       ]
      },
      {
       "output_type": "stream",
       "stream": "stdout",
       "text": [
        "\u001b[2K\r",
        "Loading images: 535/739"
       ]
      },
      {
       "output_type": "stream",
       "stream": "stdout",
       "text": [
        "\u001b[2K\r",
        "Loading images: 536/739"
       ]
      },
      {
       "output_type": "stream",
       "stream": "stdout",
       "text": [
        "\u001b[2K\r",
        "Loading images: 537/739"
       ]
      },
      {
       "output_type": "stream",
       "stream": "stdout",
       "text": [
        "\u001b[2K\r",
        "Loading images: 538/739"
       ]
      },
      {
       "output_type": "stream",
       "stream": "stdout",
       "text": [
        "\u001b[2K\r",
        "Loading images: 539/739"
       ]
      },
      {
       "output_type": "stream",
       "stream": "stdout",
       "text": [
        "\u001b[2K\r",
        "Loading images: 540/739"
       ]
      },
      {
       "output_type": "stream",
       "stream": "stdout",
       "text": [
        "\u001b[2K\r",
        "Loading images: 541/739"
       ]
      },
      {
       "output_type": "stream",
       "stream": "stdout",
       "text": [
        "\u001b[2K\r",
        "Loading images: 542/739"
       ]
      },
      {
       "output_type": "stream",
       "stream": "stdout",
       "text": [
        "\u001b[2K\r",
        "Loading images: 543/739"
       ]
      },
      {
       "output_type": "stream",
       "stream": "stdout",
       "text": [
        "\u001b[2K\r",
        "Loading images: 544/739"
       ]
      },
      {
       "output_type": "stream",
       "stream": "stdout",
       "text": [
        "\u001b[2K\r",
        "Loading images: 545/739"
       ]
      },
      {
       "output_type": "stream",
       "stream": "stdout",
       "text": [
        "\u001b[2K\r",
        "Loading images: 546/739"
       ]
      },
      {
       "output_type": "stream",
       "stream": "stdout",
       "text": [
        "\u001b[2K\r",
        "Loading images: 547/739"
       ]
      },
      {
       "output_type": "stream",
       "stream": "stdout",
       "text": [
        "\u001b[2K\r",
        "Loading images: 548/739"
       ]
      },
      {
       "output_type": "stream",
       "stream": "stdout",
       "text": [
        "\u001b[2K\r",
        "Loading images: 549/739"
       ]
      },
      {
       "output_type": "stream",
       "stream": "stdout",
       "text": [
        "\u001b[2K\r",
        "Loading images: 550/739"
       ]
      },
      {
       "output_type": "stream",
       "stream": "stdout",
       "text": [
        "\u001b[2K\r",
        "Loading images: 551/739"
       ]
      },
      {
       "output_type": "stream",
       "stream": "stdout",
       "text": [
        "\u001b[2K\r",
        "Loading images: 552/739"
       ]
      },
      {
       "output_type": "stream",
       "stream": "stdout",
       "text": [
        "\u001b[2K\r",
        "Loading images: 553/739"
       ]
      },
      {
       "output_type": "stream",
       "stream": "stdout",
       "text": [
        "\u001b[2K\r",
        "Loading images: 554/739"
       ]
      },
      {
       "output_type": "stream",
       "stream": "stdout",
       "text": [
        "\u001b[2K\r",
        "Loading images: 555/739"
       ]
      },
      {
       "output_type": "stream",
       "stream": "stdout",
       "text": [
        "\u001b[2K\r",
        "Loading images: 556/739"
       ]
      },
      {
       "output_type": "stream",
       "stream": "stdout",
       "text": [
        "\u001b[2K\r",
        "Loading images: 557/739"
       ]
      },
      {
       "output_type": "stream",
       "stream": "stdout",
       "text": [
        "\u001b[2K\r",
        "Loading images: 558/739"
       ]
      },
      {
       "output_type": "stream",
       "stream": "stdout",
       "text": [
        "\u001b[2K\r",
        "Loading images: 559/739"
       ]
      },
      {
       "output_type": "stream",
       "stream": "stdout",
       "text": [
        "\u001b[2K\r",
        "Loading images: 560/739"
       ]
      },
      {
       "output_type": "stream",
       "stream": "stdout",
       "text": [
        "\u001b[2K\r",
        "Loading images: 561/739"
       ]
      },
      {
       "output_type": "stream",
       "stream": "stdout",
       "text": [
        "\u001b[2K\r",
        "Loading images: 562/739"
       ]
      },
      {
       "output_type": "stream",
       "stream": "stdout",
       "text": [
        "\u001b[2K\r",
        "Loading images: 563/739"
       ]
      },
      {
       "output_type": "stream",
       "stream": "stdout",
       "text": [
        "\u001b[2K\r",
        "Loading images: 564/739"
       ]
      },
      {
       "output_type": "stream",
       "stream": "stdout",
       "text": [
        "\u001b[2K\r",
        "Loading images: 565/739"
       ]
      },
      {
       "output_type": "stream",
       "stream": "stdout",
       "text": [
        "\u001b[2K\r",
        "Loading images: 566/739"
       ]
      },
      {
       "output_type": "stream",
       "stream": "stdout",
       "text": [
        "\u001b[2K\r",
        "Loading images: 567/739"
       ]
      },
      {
       "output_type": "stream",
       "stream": "stdout",
       "text": [
        "\u001b[2K\r",
        "Loading images: 568/739"
       ]
      },
      {
       "output_type": "stream",
       "stream": "stdout",
       "text": [
        "\u001b[2K\r",
        "Loading images: 569/739"
       ]
      },
      {
       "output_type": "stream",
       "stream": "stdout",
       "text": [
        "\u001b[2K\r",
        "Loading images: 570/739"
       ]
      },
      {
       "output_type": "stream",
       "stream": "stdout",
       "text": [
        "\u001b[2K\r",
        "Loading images: 571/739"
       ]
      },
      {
       "output_type": "stream",
       "stream": "stdout",
       "text": [
        "\u001b[2K\r",
        "Loading images: 572/739"
       ]
      },
      {
       "output_type": "stream",
       "stream": "stdout",
       "text": [
        "\u001b[2K\r",
        "Loading images: 573/739"
       ]
      },
      {
       "output_type": "stream",
       "stream": "stdout",
       "text": [
        "\u001b[2K\r",
        "Loading images: 574/739"
       ]
      },
      {
       "output_type": "stream",
       "stream": "stdout",
       "text": [
        "\u001b[2K\r",
        "Loading images: 575/739"
       ]
      },
      {
       "output_type": "stream",
       "stream": "stdout",
       "text": [
        "\u001b[2K\r",
        "Loading images: 576/739"
       ]
      },
      {
       "output_type": "stream",
       "stream": "stdout",
       "text": [
        "\u001b[2K\r",
        "Loading images: 577/739"
       ]
      },
      {
       "output_type": "stream",
       "stream": "stdout",
       "text": [
        "\u001b[2K\r",
        "Loading images: 578/739"
       ]
      },
      {
       "output_type": "stream",
       "stream": "stdout",
       "text": [
        "\u001b[2K\r",
        "Loading images: 579/739"
       ]
      },
      {
       "output_type": "stream",
       "stream": "stdout",
       "text": [
        "\u001b[2K\r",
        "Loading images: 580/739"
       ]
      },
      {
       "output_type": "stream",
       "stream": "stdout",
       "text": [
        "\u001b[2K\r",
        "Loading images: 581/739"
       ]
      },
      {
       "output_type": "stream",
       "stream": "stdout",
       "text": [
        "\u001b[2K\r",
        "Loading images: 582/739"
       ]
      },
      {
       "output_type": "stream",
       "stream": "stdout",
       "text": [
        "\u001b[2K\r",
        "Loading images: 583/739"
       ]
      },
      {
       "output_type": "stream",
       "stream": "stdout",
       "text": [
        "\u001b[2K\r",
        "Loading images: 584/739"
       ]
      },
      {
       "output_type": "stream",
       "stream": "stdout",
       "text": [
        "\u001b[2K\r",
        "Loading images: 585/739"
       ]
      },
      {
       "output_type": "stream",
       "stream": "stdout",
       "text": [
        "\u001b[2K\r",
        "Loading images: 586/739"
       ]
      },
      {
       "output_type": "stream",
       "stream": "stdout",
       "text": [
        "\u001b[2K\r",
        "Loading images: 587/739"
       ]
      },
      {
       "output_type": "stream",
       "stream": "stdout",
       "text": [
        "\u001b[2K\r",
        "Loading images: 588/739"
       ]
      },
      {
       "output_type": "stream",
       "stream": "stdout",
       "text": [
        "\u001b[2K\r",
        "Loading images: 589/739"
       ]
      },
      {
       "output_type": "stream",
       "stream": "stdout",
       "text": [
        "\u001b[2K\r",
        "Loading images: 590/739"
       ]
      },
      {
       "output_type": "stream",
       "stream": "stdout",
       "text": [
        "\u001b[2K\r",
        "Loading images: 591/739"
       ]
      },
      {
       "output_type": "stream",
       "stream": "stdout",
       "text": [
        "\u001b[2K\r",
        "Loading images: 592/739"
       ]
      },
      {
       "output_type": "stream",
       "stream": "stdout",
       "text": [
        "\u001b[2K\r",
        "Loading images: 593/739"
       ]
      },
      {
       "output_type": "stream",
       "stream": "stdout",
       "text": [
        "\u001b[2K\r",
        "Loading images: 594/739"
       ]
      },
      {
       "output_type": "stream",
       "stream": "stdout",
       "text": [
        "\u001b[2K\r",
        "Loading images: 595/739"
       ]
      },
      {
       "output_type": "stream",
       "stream": "stdout",
       "text": [
        "\u001b[2K\r",
        "Loading images: 596/739"
       ]
      },
      {
       "output_type": "stream",
       "stream": "stdout",
       "text": [
        "\u001b[2K\r",
        "Loading images: 597/739"
       ]
      },
      {
       "output_type": "stream",
       "stream": "stdout",
       "text": [
        "\u001b[2K\r",
        "Loading images: 598/739"
       ]
      },
      {
       "output_type": "stream",
       "stream": "stdout",
       "text": [
        "\u001b[2K\r",
        "Loading images: 599/739"
       ]
      },
      {
       "output_type": "stream",
       "stream": "stdout",
       "text": [
        "\u001b[2K\r",
        "Loading images: 600/739"
       ]
      },
      {
       "output_type": "stream",
       "stream": "stdout",
       "text": [
        "\u001b[2K\r",
        "Loading images: 601/739"
       ]
      },
      {
       "output_type": "stream",
       "stream": "stdout",
       "text": [
        "\u001b[2K\r",
        "Loading images: 602/739"
       ]
      },
      {
       "output_type": "stream",
       "stream": "stdout",
       "text": [
        "\u001b[2K\r",
        "Loading images: 603/739"
       ]
      },
      {
       "output_type": "stream",
       "stream": "stdout",
       "text": [
        "\u001b[2K\r",
        "Loading images: 604/739"
       ]
      },
      {
       "output_type": "stream",
       "stream": "stdout",
       "text": [
        "\u001b[2K\r",
        "Loading images: 605/739"
       ]
      },
      {
       "output_type": "stream",
       "stream": "stdout",
       "text": [
        "\u001b[2K\r",
        "Loading images: 606/739"
       ]
      },
      {
       "output_type": "stream",
       "stream": "stdout",
       "text": [
        "\u001b[2K\r",
        "Loading images: 607/739"
       ]
      },
      {
       "output_type": "stream",
       "stream": "stdout",
       "text": [
        "\u001b[2K\r",
        "Loading images: 608/739"
       ]
      },
      {
       "output_type": "stream",
       "stream": "stdout",
       "text": [
        "\u001b[2K\r",
        "Loading images: 609/739"
       ]
      },
      {
       "output_type": "stream",
       "stream": "stdout",
       "text": [
        "\u001b[2K\r",
        "Loading images: 610/739"
       ]
      },
      {
       "output_type": "stream",
       "stream": "stdout",
       "text": [
        "\u001b[2K\r",
        "Loading images: 611/739"
       ]
      },
      {
       "output_type": "stream",
       "stream": "stdout",
       "text": [
        "\u001b[2K\r",
        "Loading images: 612/739"
       ]
      },
      {
       "output_type": "stream",
       "stream": "stdout",
       "text": [
        "\u001b[2K\r",
        "Loading images: 613/739"
       ]
      },
      {
       "output_type": "stream",
       "stream": "stdout",
       "text": [
        "\u001b[2K\r",
        "Loading images: 614/739"
       ]
      },
      {
       "output_type": "stream",
       "stream": "stdout",
       "text": [
        "\u001b[2K\r",
        "Loading images: 615/739"
       ]
      },
      {
       "output_type": "stream",
       "stream": "stdout",
       "text": [
        "\u001b[2K\r",
        "Loading images: 616/739"
       ]
      },
      {
       "output_type": "stream",
       "stream": "stdout",
       "text": [
        "\u001b[2K\r",
        "Loading images: 617/739"
       ]
      },
      {
       "output_type": "stream",
       "stream": "stdout",
       "text": [
        "\u001b[2K\r",
        "Loading images: 618/739"
       ]
      },
      {
       "output_type": "stream",
       "stream": "stdout",
       "text": [
        "\u001b[2K\r",
        "Loading images: 619/739"
       ]
      },
      {
       "output_type": "stream",
       "stream": "stdout",
       "text": [
        "\u001b[2K\r",
        "Loading images: 620/739"
       ]
      },
      {
       "output_type": "stream",
       "stream": "stdout",
       "text": [
        "\u001b[2K\r",
        "Loading images: 621/739"
       ]
      },
      {
       "output_type": "stream",
       "stream": "stdout",
       "text": [
        "\u001b[2K\r",
        "Loading images: 622/739"
       ]
      },
      {
       "output_type": "stream",
       "stream": "stdout",
       "text": [
        "\u001b[2K\r",
        "Loading images: 623/739"
       ]
      },
      {
       "output_type": "stream",
       "stream": "stdout",
       "text": [
        "\u001b[2K\r",
        "Loading images: 624/739"
       ]
      },
      {
       "output_type": "stream",
       "stream": "stdout",
       "text": [
        "\u001b[2K\r",
        "Loading images: 625/739"
       ]
      },
      {
       "output_type": "stream",
       "stream": "stdout",
       "text": [
        "\u001b[2K\r",
        "Loading images: 626/739"
       ]
      },
      {
       "output_type": "stream",
       "stream": "stdout",
       "text": [
        "\u001b[2K\r",
        "Loading images: 627/739"
       ]
      },
      {
       "output_type": "stream",
       "stream": "stdout",
       "text": [
        "\u001b[2K\r",
        "Loading images: 628/739"
       ]
      },
      {
       "output_type": "stream",
       "stream": "stdout",
       "text": [
        "\u001b[2K\r",
        "Loading images: 629/739"
       ]
      },
      {
       "output_type": "stream",
       "stream": "stdout",
       "text": [
        "\u001b[2K\r",
        "Loading images: 630/739"
       ]
      },
      {
       "output_type": "stream",
       "stream": "stdout",
       "text": [
        "\u001b[2K\r",
        "Loading images: 631/739"
       ]
      },
      {
       "output_type": "stream",
       "stream": "stdout",
       "text": [
        "\u001b[2K\r",
        "Loading images: 632/739"
       ]
      },
      {
       "output_type": "stream",
       "stream": "stdout",
       "text": [
        "\u001b[2K\r",
        "Loading images: 633/739"
       ]
      },
      {
       "output_type": "stream",
       "stream": "stdout",
       "text": [
        "\u001b[2K\r",
        "Loading images: 634/739"
       ]
      },
      {
       "output_type": "stream",
       "stream": "stdout",
       "text": [
        "\u001b[2K\r",
        "Loading images: 635/739"
       ]
      },
      {
       "output_type": "stream",
       "stream": "stdout",
       "text": [
        "\u001b[2K\r",
        "Loading images: 636/739"
       ]
      },
      {
       "output_type": "stream",
       "stream": "stdout",
       "text": [
        "\u001b[2K\r",
        "Loading images: 637/739"
       ]
      },
      {
       "output_type": "stream",
       "stream": "stdout",
       "text": [
        "\u001b[2K\r",
        "Loading images: 638/739"
       ]
      },
      {
       "output_type": "stream",
       "stream": "stdout",
       "text": [
        "\u001b[2K\r",
        "Loading images: 639/739"
       ]
      },
      {
       "output_type": "stream",
       "stream": "stdout",
       "text": [
        "\u001b[2K\r",
        "Loading images: 640/739"
       ]
      },
      {
       "output_type": "stream",
       "stream": "stdout",
       "text": [
        "\u001b[2K\r",
        "Loading images: 641/739"
       ]
      },
      {
       "output_type": "stream",
       "stream": "stdout",
       "text": [
        "\u001b[2K\r",
        "Loading images: 642/739"
       ]
      },
      {
       "output_type": "stream",
       "stream": "stdout",
       "text": [
        "\u001b[2K\r",
        "Loading images: 643/739"
       ]
      },
      {
       "output_type": "stream",
       "stream": "stdout",
       "text": [
        "\u001b[2K\r",
        "Loading images: 644/739"
       ]
      },
      {
       "output_type": "stream",
       "stream": "stdout",
       "text": [
        "\u001b[2K\r",
        "Loading images: 645/739"
       ]
      },
      {
       "output_type": "stream",
       "stream": "stdout",
       "text": [
        "\u001b[2K\r",
        "Loading images: 646/739"
       ]
      },
      {
       "output_type": "stream",
       "stream": "stdout",
       "text": [
        "\u001b[2K\r",
        "Loading images: 647/739"
       ]
      },
      {
       "output_type": "stream",
       "stream": "stdout",
       "text": [
        "\u001b[2K\r",
        "Loading images: 648/739"
       ]
      },
      {
       "output_type": "stream",
       "stream": "stdout",
       "text": [
        "\u001b[2K\r",
        "Loading images: 649/739"
       ]
      },
      {
       "output_type": "stream",
       "stream": "stdout",
       "text": [
        "\u001b[2K\r",
        "Loading images: 650/739"
       ]
      },
      {
       "output_type": "stream",
       "stream": "stdout",
       "text": [
        "\u001b[2K\r",
        "Loading images: 651/739"
       ]
      },
      {
       "output_type": "stream",
       "stream": "stdout",
       "text": [
        "\u001b[2K\r",
        "Loading images: 652/739"
       ]
      },
      {
       "output_type": "stream",
       "stream": "stdout",
       "text": [
        "\u001b[2K\r",
        "Loading images: 653/739"
       ]
      },
      {
       "output_type": "stream",
       "stream": "stdout",
       "text": [
        "\u001b[2K\r",
        "Loading images: 654/739"
       ]
      },
      {
       "output_type": "stream",
       "stream": "stdout",
       "text": [
        "\u001b[2K\r",
        "Loading images: 655/739"
       ]
      },
      {
       "output_type": "stream",
       "stream": "stdout",
       "text": [
        "\u001b[2K\r",
        "Loading images: 656/739"
       ]
      },
      {
       "output_type": "stream",
       "stream": "stdout",
       "text": [
        "\u001b[2K\r",
        "Loading images: 657/739"
       ]
      },
      {
       "output_type": "stream",
       "stream": "stdout",
       "text": [
        "\u001b[2K\r",
        "Loading images: 658/739"
       ]
      },
      {
       "output_type": "stream",
       "stream": "stdout",
       "text": [
        "\u001b[2K\r",
        "Loading images: 659/739"
       ]
      },
      {
       "output_type": "stream",
       "stream": "stdout",
       "text": [
        "\u001b[2K\r",
        "Loading images: 660/739"
       ]
      },
      {
       "output_type": "stream",
       "stream": "stdout",
       "text": [
        "\u001b[2K\r",
        "Loading images: 661/739"
       ]
      },
      {
       "output_type": "stream",
       "stream": "stdout",
       "text": [
        "\u001b[2K\r",
        "Loading images: 662/739"
       ]
      },
      {
       "output_type": "stream",
       "stream": "stdout",
       "text": [
        "\u001b[2K\r",
        "Loading images: 663/739"
       ]
      },
      {
       "output_type": "stream",
       "stream": "stdout",
       "text": [
        "\u001b[2K\r",
        "Loading images: 664/739"
       ]
      },
      {
       "output_type": "stream",
       "stream": "stdout",
       "text": [
        "\u001b[2K\r",
        "Loading images: 665/739"
       ]
      },
      {
       "output_type": "stream",
       "stream": "stdout",
       "text": [
        "\u001b[2K\r",
        "Loading images: 666/739"
       ]
      },
      {
       "output_type": "stream",
       "stream": "stdout",
       "text": [
        "\u001b[2K\r",
        "Loading images: 667/739"
       ]
      },
      {
       "output_type": "stream",
       "stream": "stdout",
       "text": [
        "\u001b[2K\r",
        "Loading images: 668/739"
       ]
      },
      {
       "output_type": "stream",
       "stream": "stdout",
       "text": [
        "\u001b[2K\r",
        "Loading images: 669/739"
       ]
      },
      {
       "output_type": "stream",
       "stream": "stdout",
       "text": [
        "\u001b[2K\r",
        "Loading images: 670/739"
       ]
      },
      {
       "output_type": "stream",
       "stream": "stdout",
       "text": [
        "\u001b[2K\r",
        "Loading images: 671/739"
       ]
      },
      {
       "output_type": "stream",
       "stream": "stdout",
       "text": [
        "\u001b[2K\r",
        "Loading images: 672/739"
       ]
      },
      {
       "output_type": "stream",
       "stream": "stdout",
       "text": [
        "\u001b[2K\r",
        "Loading images: 673/739"
       ]
      },
      {
       "output_type": "stream",
       "stream": "stdout",
       "text": [
        "\u001b[2K\r",
        "Loading images: 674/739"
       ]
      },
      {
       "output_type": "stream",
       "stream": "stdout",
       "text": [
        "\u001b[2K\r",
        "Loading images: 675/739"
       ]
      },
      {
       "output_type": "stream",
       "stream": "stdout",
       "text": [
        "\u001b[2K\r",
        "Loading images: 676/739"
       ]
      },
      {
       "output_type": "stream",
       "stream": "stdout",
       "text": [
        "\u001b[2K\r",
        "Loading images: 677/739"
       ]
      },
      {
       "output_type": "stream",
       "stream": "stdout",
       "text": [
        "\u001b[2K\r",
        "Loading images: 678/739"
       ]
      },
      {
       "output_type": "stream",
       "stream": "stdout",
       "text": [
        "\u001b[2K\r",
        "Loading images: 679/739"
       ]
      },
      {
       "output_type": "stream",
       "stream": "stdout",
       "text": [
        "\u001b[2K\r",
        "Loading images: 680/739"
       ]
      },
      {
       "output_type": "stream",
       "stream": "stdout",
       "text": [
        "\u001b[2K\r",
        "Loading images: 681/739"
       ]
      },
      {
       "output_type": "stream",
       "stream": "stdout",
       "text": [
        "\u001b[2K\r",
        "Loading images: 682/739"
       ]
      },
      {
       "output_type": "stream",
       "stream": "stdout",
       "text": [
        "\u001b[2K\r",
        "Loading images: 683/739"
       ]
      },
      {
       "output_type": "stream",
       "stream": "stdout",
       "text": [
        "\u001b[2K\r",
        "Loading images: 684/739"
       ]
      },
      {
       "output_type": "stream",
       "stream": "stdout",
       "text": [
        "\u001b[2K\r",
        "Loading images: 685/739"
       ]
      },
      {
       "output_type": "stream",
       "stream": "stdout",
       "text": [
        "\u001b[2K\r",
        "Loading images: 686/739"
       ]
      },
      {
       "output_type": "stream",
       "stream": "stdout",
       "text": [
        "\u001b[2K\r",
        "Loading images: 687/739"
       ]
      },
      {
       "output_type": "stream",
       "stream": "stdout",
       "text": [
        "\u001b[2K\r",
        "Loading images: 688/739"
       ]
      },
      {
       "output_type": "stream",
       "stream": "stdout",
       "text": [
        "\u001b[2K\r",
        "Loading images: 689/739"
       ]
      },
      {
       "output_type": "stream",
       "stream": "stdout",
       "text": [
        "\u001b[2K\r",
        "Loading images: 690/739"
       ]
      },
      {
       "output_type": "stream",
       "stream": "stdout",
       "text": [
        "\u001b[2K\r",
        "Loading images: 691/739"
       ]
      },
      {
       "output_type": "stream",
       "stream": "stdout",
       "text": [
        "\u001b[2K\r",
        "Loading images: 692/739"
       ]
      },
      {
       "output_type": "stream",
       "stream": "stdout",
       "text": [
        "\u001b[2K\r",
        "Loading images: 693/739"
       ]
      },
      {
       "output_type": "stream",
       "stream": "stdout",
       "text": [
        "\u001b[2K\r",
        "Loading images: 694/739"
       ]
      },
      {
       "output_type": "stream",
       "stream": "stdout",
       "text": [
        "\u001b[2K\r",
        "Loading images: 695/739"
       ]
      },
      {
       "output_type": "stream",
       "stream": "stdout",
       "text": [
        "\u001b[2K\r",
        "Loading images: 696/739"
       ]
      },
      {
       "output_type": "stream",
       "stream": "stdout",
       "text": [
        "\u001b[2K\r",
        "Loading images: 697/739"
       ]
      },
      {
       "output_type": "stream",
       "stream": "stdout",
       "text": [
        "\u001b[2K\r",
        "Loading images: 698/739"
       ]
      },
      {
       "output_type": "stream",
       "stream": "stdout",
       "text": [
        "\u001b[2K\r",
        "Loading images: 699/739"
       ]
      },
      {
       "output_type": "stream",
       "stream": "stdout",
       "text": [
        "\u001b[2K\r",
        "Loading images: 700/739"
       ]
      },
      {
       "output_type": "stream",
       "stream": "stdout",
       "text": [
        "\u001b[2K\r",
        "Loading images: 701/739"
       ]
      },
      {
       "output_type": "stream",
       "stream": "stdout",
       "text": [
        "\u001b[2K\r",
        "Loading images: 702/739"
       ]
      },
      {
       "output_type": "stream",
       "stream": "stdout",
       "text": [
        "\u001b[2K\r",
        "Loading images: 703/739"
       ]
      },
      {
       "output_type": "stream",
       "stream": "stdout",
       "text": [
        "\u001b[2K\r",
        "Loading images: 704/739"
       ]
      },
      {
       "output_type": "stream",
       "stream": "stdout",
       "text": [
        "\u001b[2K\r",
        "Loading images: 705/739"
       ]
      },
      {
       "output_type": "stream",
       "stream": "stdout",
       "text": [
        "\u001b[2K\r",
        "Loading images: 706/739"
       ]
      },
      {
       "output_type": "stream",
       "stream": "stdout",
       "text": [
        "\u001b[2K\r",
        "Loading images: 707/739"
       ]
      },
      {
       "output_type": "stream",
       "stream": "stdout",
       "text": [
        "\u001b[2K\r",
        "Loading images: 708/739"
       ]
      },
      {
       "output_type": "stream",
       "stream": "stdout",
       "text": [
        "\u001b[2K\r",
        "Loading images: 709/739"
       ]
      },
      {
       "output_type": "stream",
       "stream": "stdout",
       "text": [
        "\u001b[2K\r",
        "Loading images: 710/739"
       ]
      },
      {
       "output_type": "stream",
       "stream": "stdout",
       "text": [
        "\u001b[2K\r",
        "Loading images: 711/739"
       ]
      },
      {
       "output_type": "stream",
       "stream": "stdout",
       "text": [
        "\u001b[2K\r",
        "Loading images: 712/739"
       ]
      },
      {
       "output_type": "stream",
       "stream": "stdout",
       "text": [
        "\u001b[2K\r",
        "Loading images: 713/739"
       ]
      },
      {
       "output_type": "stream",
       "stream": "stdout",
       "text": [
        "\u001b[2K\r",
        "Loading images: 714/739"
       ]
      },
      {
       "output_type": "stream",
       "stream": "stdout",
       "text": [
        "\u001b[2K\r",
        "Loading images: 715/739"
       ]
      },
      {
       "output_type": "stream",
       "stream": "stdout",
       "text": [
        "\u001b[2K\r",
        "Loading images: 716/739"
       ]
      },
      {
       "output_type": "stream",
       "stream": "stdout",
       "text": [
        "\u001b[2K\r",
        "Loading images: 717/739"
       ]
      },
      {
       "output_type": "stream",
       "stream": "stdout",
       "text": [
        "\u001b[2K\r",
        "Loading images: 718/739"
       ]
      },
      {
       "output_type": "stream",
       "stream": "stdout",
       "text": [
        "\u001b[2K\r",
        "Loading images: 719/739"
       ]
      },
      {
       "output_type": "stream",
       "stream": "stdout",
       "text": [
        "\u001b[2K\r",
        "Loading images: 720/739"
       ]
      },
      {
       "output_type": "stream",
       "stream": "stdout",
       "text": [
        "\u001b[2K\r",
        "Loading images: 721/739"
       ]
      },
      {
       "output_type": "stream",
       "stream": "stdout",
       "text": [
        "\u001b[2K\r",
        "Loading images: 722/739"
       ]
      },
      {
       "output_type": "stream",
       "stream": "stdout",
       "text": [
        "\u001b[2K\r",
        "Loading images: 723/739"
       ]
      },
      {
       "output_type": "stream",
       "stream": "stdout",
       "text": [
        "\u001b[2K\r",
        "Loading images: 724/739"
       ]
      },
      {
       "output_type": "stream",
       "stream": "stdout",
       "text": [
        "\u001b[2K\r",
        "Loading images: 725/739"
       ]
      },
      {
       "output_type": "stream",
       "stream": "stdout",
       "text": [
        "\u001b[2K\r",
        "Loading images: 726/739"
       ]
      },
      {
       "output_type": "stream",
       "stream": "stdout",
       "text": [
        "\u001b[2K\r",
        "Loading images: 727/739"
       ]
      },
      {
       "output_type": "stream",
       "stream": "stdout",
       "text": [
        "\u001b[2K\r",
        "Loading images: 728/739"
       ]
      },
      {
       "output_type": "stream",
       "stream": "stdout",
       "text": [
        "\u001b[2K\r",
        "Loading images: 729/739"
       ]
      },
      {
       "output_type": "stream",
       "stream": "stdout",
       "text": [
        "\u001b[2K\r",
        "Loading images: 730/739"
       ]
      },
      {
       "output_type": "stream",
       "stream": "stdout",
       "text": [
        "\u001b[2K\r",
        "Loading images: 731/739"
       ]
      },
      {
       "output_type": "stream",
       "stream": "stdout",
       "text": [
        "\u001b[2K\r",
        "Loading images: 732/739"
       ]
      },
      {
       "output_type": "stream",
       "stream": "stdout",
       "text": [
        "\u001b[2K\r",
        "Loading images: 733/739"
       ]
      },
      {
       "output_type": "stream",
       "stream": "stdout",
       "text": [
        "\u001b[2K\r",
        "Loading images: 734/739"
       ]
      },
      {
       "output_type": "stream",
       "stream": "stdout",
       "text": [
        "\u001b[2K\r",
        "Loading images: 735/739"
       ]
      },
      {
       "output_type": "stream",
       "stream": "stdout",
       "text": [
        "\u001b[2K\r",
        "Loading images: 736/739"
       ]
      },
      {
       "output_type": "stream",
       "stream": "stdout",
       "text": [
        "\u001b[2K\r",
        "Loading images: 737/739"
       ]
      },
      {
       "output_type": "stream",
       "stream": "stdout",
       "text": [
        "\u001b[2K\r",
        "Loading images: 738/739"
       ]
      },
      {
       "output_type": "stream",
       "stream": "stdout",
       "text": [
        "\u001b[2K\r",
        "Loading images: 739/739"
       ]
      },
      {
       "output_type": "stream",
       "stream": "stdout",
       "text": [
        "\n",
        "\u001b[2K\r",
        "Loading images: 1/439"
       ]
      },
      {
       "output_type": "stream",
       "stream": "stdout",
       "text": [
        "\u001b[2K\r",
        "Loading images: 2/439"
       ]
      },
      {
       "output_type": "stream",
       "stream": "stdout",
       "text": [
        "\u001b[2K\r",
        "Loading images: 3/439"
       ]
      },
      {
       "output_type": "stream",
       "stream": "stdout",
       "text": [
        "\u001b[2K\r",
        "Loading images: 4/439"
       ]
      },
      {
       "output_type": "stream",
       "stream": "stdout",
       "text": [
        "\u001b[2K\r",
        "Loading images: 5/439"
       ]
      },
      {
       "output_type": "stream",
       "stream": "stdout",
       "text": [
        "\u001b[2K\r",
        "Loading images: 6/439"
       ]
      },
      {
       "output_type": "stream",
       "stream": "stdout",
       "text": [
        "\u001b[2K\r",
        "Loading images: 7/439"
       ]
      },
      {
       "output_type": "stream",
       "stream": "stdout",
       "text": [
        "\u001b[2K\r",
        "Loading images: 8/439"
       ]
      },
      {
       "output_type": "stream",
       "stream": "stdout",
       "text": [
        "\u001b[2K\r",
        "Loading images: 9/439"
       ]
      },
      {
       "output_type": "stream",
       "stream": "stdout",
       "text": [
        "\u001b[2K\r",
        "Loading images: 10/439"
       ]
      },
      {
       "output_type": "stream",
       "stream": "stdout",
       "text": [
        "\u001b[2K\r",
        "Loading images: 11/439"
       ]
      },
      {
       "output_type": "stream",
       "stream": "stdout",
       "text": [
        "\u001b[2K\r",
        "Loading images: 12/439"
       ]
      },
      {
       "output_type": "stream",
       "stream": "stdout",
       "text": [
        "\u001b[2K\r",
        "Loading images: 13/439"
       ]
      },
      {
       "output_type": "stream",
       "stream": "stdout",
       "text": [
        "\u001b[2K\r",
        "Loading images: 14/439"
       ]
      },
      {
       "output_type": "stream",
       "stream": "stdout",
       "text": [
        "\u001b[2K\r",
        "Loading images: 15/439"
       ]
      },
      {
       "output_type": "stream",
       "stream": "stdout",
       "text": [
        "\u001b[2K\r",
        "Loading images: 16/439"
       ]
      },
      {
       "output_type": "stream",
       "stream": "stdout",
       "text": [
        "\u001b[2K\r",
        "Loading images: 17/439"
       ]
      },
      {
       "output_type": "stream",
       "stream": "stdout",
       "text": [
        "\u001b[2K\r",
        "Loading images: 18/439"
       ]
      },
      {
       "output_type": "stream",
       "stream": "stdout",
       "text": [
        "\u001b[2K\r",
        "Loading images: 19/439"
       ]
      },
      {
       "output_type": "stream",
       "stream": "stdout",
       "text": [
        "\u001b[2K\r",
        "Loading images: 20/439"
       ]
      },
      {
       "output_type": "stream",
       "stream": "stdout",
       "text": [
        "\u001b[2K\r",
        "Loading images: 21/439"
       ]
      },
      {
       "output_type": "stream",
       "stream": "stdout",
       "text": [
        "\u001b[2K\r",
        "Loading images: 22/439"
       ]
      },
      {
       "output_type": "stream",
       "stream": "stdout",
       "text": [
        "\u001b[2K\r",
        "Loading images: 23/439"
       ]
      },
      {
       "output_type": "stream",
       "stream": "stdout",
       "text": [
        "\u001b[2K\r",
        "Loading images: 24/439"
       ]
      },
      {
       "output_type": "stream",
       "stream": "stdout",
       "text": [
        "\u001b[2K\r",
        "Loading images: 25/439"
       ]
      },
      {
       "output_type": "stream",
       "stream": "stdout",
       "text": [
        "\u001b[2K\r",
        "Loading images: 26/439"
       ]
      },
      {
       "output_type": "stream",
       "stream": "stdout",
       "text": [
        "\u001b[2K\r",
        "Loading images: 27/439"
       ]
      },
      {
       "output_type": "stream",
       "stream": "stdout",
       "text": [
        "\u001b[2K\r",
        "Loading images: 28/439"
       ]
      },
      {
       "output_type": "stream",
       "stream": "stdout",
       "text": [
        "\u001b[2K\r",
        "Loading images: 29/439"
       ]
      },
      {
       "output_type": "stream",
       "stream": "stdout",
       "text": [
        "\u001b[2K\r",
        "Loading images: 30/439"
       ]
      },
      {
       "output_type": "stream",
       "stream": "stdout",
       "text": [
        "\u001b[2K\r",
        "Loading images: 31/439"
       ]
      },
      {
       "output_type": "stream",
       "stream": "stdout",
       "text": [
        "\u001b[2K\r",
        "Loading images: 32/439"
       ]
      },
      {
       "output_type": "stream",
       "stream": "stdout",
       "text": [
        "\u001b[2K\r",
        "Loading images: 33/439"
       ]
      },
      {
       "output_type": "stream",
       "stream": "stdout",
       "text": [
        "\u001b[2K\r",
        "Loading images: 34/439"
       ]
      },
      {
       "output_type": "stream",
       "stream": "stdout",
       "text": [
        "\u001b[2K\r",
        "Loading images: 35/439"
       ]
      },
      {
       "output_type": "stream",
       "stream": "stdout",
       "text": [
        "\u001b[2K\r",
        "Loading images: 36/439"
       ]
      },
      {
       "output_type": "stream",
       "stream": "stdout",
       "text": [
        "\u001b[2K\r",
        "Loading images: 37/439"
       ]
      },
      {
       "output_type": "stream",
       "stream": "stdout",
       "text": [
        "\u001b[2K\r",
        "Loading images: 38/439"
       ]
      },
      {
       "output_type": "stream",
       "stream": "stdout",
       "text": [
        "\u001b[2K\r",
        "Loading images: 39/439"
       ]
      },
      {
       "output_type": "stream",
       "stream": "stdout",
       "text": [
        "\u001b[2K\r",
        "Loading images: 40/439"
       ]
      },
      {
       "output_type": "stream",
       "stream": "stdout",
       "text": [
        "\u001b[2K\r",
        "Loading images: 41/439"
       ]
      },
      {
       "output_type": "stream",
       "stream": "stdout",
       "text": [
        "\u001b[2K\r",
        "Loading images: 42/439"
       ]
      },
      {
       "output_type": "stream",
       "stream": "stdout",
       "text": [
        "\u001b[2K\r",
        "Loading images: 43/439"
       ]
      },
      {
       "output_type": "stream",
       "stream": "stdout",
       "text": [
        "\u001b[2K\r",
        "Loading images: 44/439"
       ]
      },
      {
       "output_type": "stream",
       "stream": "stdout",
       "text": [
        "\u001b[2K\r",
        "Loading images: 45/439"
       ]
      },
      {
       "output_type": "stream",
       "stream": "stdout",
       "text": [
        "\u001b[2K\r",
        "Loading images: 46/439"
       ]
      },
      {
       "output_type": "stream",
       "stream": "stdout",
       "text": [
        "\u001b[2K\r",
        "Loading images: 47/439"
       ]
      },
      {
       "output_type": "stream",
       "stream": "stdout",
       "text": [
        "\u001b[2K\r",
        "Loading images: 48/439"
       ]
      },
      {
       "output_type": "stream",
       "stream": "stdout",
       "text": [
        "\u001b[2K\r",
        "Loading images: 49/439"
       ]
      },
      {
       "output_type": "stream",
       "stream": "stdout",
       "text": [
        "\u001b[2K\r",
        "Loading images: 50/439"
       ]
      },
      {
       "output_type": "stream",
       "stream": "stdout",
       "text": [
        "\u001b[2K\r",
        "Loading images: 51/439"
       ]
      },
      {
       "output_type": "stream",
       "stream": "stdout",
       "text": [
        "\u001b[2K\r",
        "Loading images: 52/439"
       ]
      },
      {
       "output_type": "stream",
       "stream": "stdout",
       "text": [
        "\u001b[2K\r",
        "Loading images: 53/439"
       ]
      },
      {
       "output_type": "stream",
       "stream": "stdout",
       "text": [
        "\u001b[2K\r",
        "Loading images: 54/439"
       ]
      },
      {
       "output_type": "stream",
       "stream": "stdout",
       "text": [
        "\u001b[2K\r",
        "Loading images: 55/439"
       ]
      },
      {
       "output_type": "stream",
       "stream": "stdout",
       "text": [
        "\u001b[2K\r",
        "Loading images: 56/439"
       ]
      },
      {
       "output_type": "stream",
       "stream": "stdout",
       "text": [
        "\u001b[2K\r",
        "Loading images: 57/439"
       ]
      },
      {
       "output_type": "stream",
       "stream": "stdout",
       "text": [
        "\u001b[2K\r",
        "Loading images: 58/439"
       ]
      },
      {
       "output_type": "stream",
       "stream": "stdout",
       "text": [
        "\u001b[2K\r",
        "Loading images: 59/439"
       ]
      },
      {
       "output_type": "stream",
       "stream": "stdout",
       "text": [
        "\u001b[2K\r",
        "Loading images: 60/439"
       ]
      },
      {
       "output_type": "stream",
       "stream": "stdout",
       "text": [
        "\u001b[2K\r",
        "Loading images: 61/439"
       ]
      },
      {
       "output_type": "stream",
       "stream": "stdout",
       "text": [
        "\u001b[2K\r",
        "Loading images: 62/439"
       ]
      },
      {
       "output_type": "stream",
       "stream": "stdout",
       "text": [
        "\u001b[2K\r",
        "Loading images: 63/439"
       ]
      },
      {
       "output_type": "stream",
       "stream": "stdout",
       "text": [
        "\u001b[2K\r",
        "Loading images: 64/439"
       ]
      },
      {
       "output_type": "stream",
       "stream": "stdout",
       "text": [
        "\u001b[2K\r",
        "Loading images: 65/439"
       ]
      },
      {
       "output_type": "stream",
       "stream": "stdout",
       "text": [
        "\u001b[2K\r",
        "Loading images: 66/439"
       ]
      },
      {
       "output_type": "stream",
       "stream": "stdout",
       "text": [
        "\u001b[2K\r",
        "Loading images: 67/439"
       ]
      },
      {
       "output_type": "stream",
       "stream": "stdout",
       "text": [
        "\u001b[2K\r",
        "Loading images: 68/439"
       ]
      },
      {
       "output_type": "stream",
       "stream": "stdout",
       "text": [
        "\u001b[2K\r",
        "Loading images: 69/439"
       ]
      },
      {
       "output_type": "stream",
       "stream": "stdout",
       "text": [
        "\u001b[2K\r",
        "Loading images: 70/439"
       ]
      },
      {
       "output_type": "stream",
       "stream": "stdout",
       "text": [
        "\u001b[2K\r",
        "Loading images: 71/439"
       ]
      },
      {
       "output_type": "stream",
       "stream": "stdout",
       "text": [
        "\u001b[2K\r",
        "Loading images: 72/439"
       ]
      },
      {
       "output_type": "stream",
       "stream": "stdout",
       "text": [
        "\u001b[2K\r",
        "Loading images: 73/439"
       ]
      },
      {
       "output_type": "stream",
       "stream": "stdout",
       "text": [
        "\u001b[2K\r",
        "Loading images: 74/439"
       ]
      },
      {
       "output_type": "stream",
       "stream": "stdout",
       "text": [
        "\u001b[2K\r",
        "Loading images: 75/439"
       ]
      },
      {
       "output_type": "stream",
       "stream": "stdout",
       "text": [
        "\u001b[2K\r",
        "Loading images: 76/439"
       ]
      },
      {
       "output_type": "stream",
       "stream": "stdout",
       "text": [
        "\u001b[2K\r",
        "Loading images: 77/439"
       ]
      },
      {
       "output_type": "stream",
       "stream": "stdout",
       "text": [
        "\u001b[2K\r",
        "Loading images: 78/439"
       ]
      },
      {
       "output_type": "stream",
       "stream": "stdout",
       "text": [
        "\u001b[2K\r",
        "Loading images: 79/439"
       ]
      },
      {
       "output_type": "stream",
       "stream": "stdout",
       "text": [
        "\u001b[2K\r",
        "Loading images: 80/439"
       ]
      },
      {
       "output_type": "stream",
       "stream": "stdout",
       "text": [
        "\u001b[2K\r",
        "Loading images: 81/439"
       ]
      },
      {
       "output_type": "stream",
       "stream": "stdout",
       "text": [
        "\u001b[2K\r",
        "Loading images: 82/439"
       ]
      },
      {
       "output_type": "stream",
       "stream": "stdout",
       "text": [
        "\u001b[2K\r",
        "Loading images: 83/439"
       ]
      },
      {
       "output_type": "stream",
       "stream": "stdout",
       "text": [
        "\u001b[2K\r",
        "Loading images: 84/439"
       ]
      },
      {
       "output_type": "stream",
       "stream": "stdout",
       "text": [
        "\u001b[2K\r",
        "Loading images: 85/439"
       ]
      },
      {
       "output_type": "stream",
       "stream": "stdout",
       "text": [
        "\u001b[2K\r",
        "Loading images: 86/439"
       ]
      },
      {
       "output_type": "stream",
       "stream": "stdout",
       "text": [
        "\u001b[2K\r",
        "Loading images: 87/439"
       ]
      },
      {
       "output_type": "stream",
       "stream": "stdout",
       "text": [
        "\u001b[2K\r",
        "Loading images: 88/439"
       ]
      },
      {
       "output_type": "stream",
       "stream": "stdout",
       "text": [
        "\u001b[2K\r",
        "Loading images: 89/439"
       ]
      },
      {
       "output_type": "stream",
       "stream": "stdout",
       "text": [
        "\u001b[2K\r",
        "Loading images: 90/439"
       ]
      },
      {
       "output_type": "stream",
       "stream": "stdout",
       "text": [
        "\u001b[2K\r",
        "Loading images: 91/439"
       ]
      },
      {
       "output_type": "stream",
       "stream": "stdout",
       "text": [
        "\u001b[2K\r",
        "Loading images: 92/439"
       ]
      },
      {
       "output_type": "stream",
       "stream": "stdout",
       "text": [
        "\u001b[2K\r",
        "Loading images: 93/439"
       ]
      },
      {
       "output_type": "stream",
       "stream": "stdout",
       "text": [
        "\u001b[2K\r",
        "Loading images: 94/439"
       ]
      },
      {
       "output_type": "stream",
       "stream": "stdout",
       "text": [
        "\u001b[2K\r",
        "Loading images: 95/439"
       ]
      },
      {
       "output_type": "stream",
       "stream": "stdout",
       "text": [
        "\u001b[2K\r",
        "Loading images: 96/439"
       ]
      },
      {
       "output_type": "stream",
       "stream": "stdout",
       "text": [
        "\u001b[2K\r",
        "Loading images: 97/439"
       ]
      },
      {
       "output_type": "stream",
       "stream": "stdout",
       "text": [
        "\u001b[2K\r",
        "Loading images: 98/439"
       ]
      },
      {
       "output_type": "stream",
       "stream": "stdout",
       "text": [
        "\u001b[2K\r",
        "Loading images: 99/439"
       ]
      },
      {
       "output_type": "stream",
       "stream": "stdout",
       "text": [
        "\u001b[2K\r",
        "Loading images: 100/439"
       ]
      },
      {
       "output_type": "stream",
       "stream": "stdout",
       "text": [
        "\u001b[2K\r",
        "Loading images: 101/439"
       ]
      },
      {
       "output_type": "stream",
       "stream": "stdout",
       "text": [
        "\u001b[2K\r",
        "Loading images: 102/439"
       ]
      },
      {
       "output_type": "stream",
       "stream": "stdout",
       "text": [
        "\u001b[2K\r",
        "Loading images: 103/439"
       ]
      },
      {
       "output_type": "stream",
       "stream": "stdout",
       "text": [
        "\u001b[2K\r",
        "Loading images: 104/439"
       ]
      },
      {
       "output_type": "stream",
       "stream": "stdout",
       "text": [
        "\u001b[2K\r",
        "Loading images: 105/439"
       ]
      },
      {
       "output_type": "stream",
       "stream": "stdout",
       "text": [
        "\u001b[2K\r",
        "Loading images: 106/439"
       ]
      },
      {
       "output_type": "stream",
       "stream": "stdout",
       "text": [
        "\u001b[2K\r",
        "Loading images: 107/439"
       ]
      },
      {
       "output_type": "stream",
       "stream": "stdout",
       "text": [
        "\u001b[2K\r",
        "Loading images: 108/439"
       ]
      },
      {
       "output_type": "stream",
       "stream": "stdout",
       "text": [
        "\u001b[2K\r",
        "Loading images: 109/439"
       ]
      },
      {
       "output_type": "stream",
       "stream": "stdout",
       "text": [
        "\u001b[2K\r",
        "Loading images: 110/439"
       ]
      },
      {
       "output_type": "stream",
       "stream": "stdout",
       "text": [
        "\u001b[2K\r",
        "Loading images: 111/439"
       ]
      },
      {
       "output_type": "stream",
       "stream": "stdout",
       "text": [
        "\u001b[2K\r",
        "Loading images: 112/439"
       ]
      },
      {
       "output_type": "stream",
       "stream": "stdout",
       "text": [
        "\u001b[2K\r",
        "Loading images: 113/439"
       ]
      },
      {
       "output_type": "stream",
       "stream": "stdout",
       "text": [
        "\u001b[2K\r",
        "Loading images: 114/439"
       ]
      },
      {
       "output_type": "stream",
       "stream": "stdout",
       "text": [
        "\u001b[2K\r",
        "Loading images: 115/439"
       ]
      },
      {
       "output_type": "stream",
       "stream": "stdout",
       "text": [
        "\u001b[2K\r",
        "Loading images: 116/439"
       ]
      },
      {
       "output_type": "stream",
       "stream": "stdout",
       "text": [
        "\u001b[2K\r",
        "Loading images: 117/439"
       ]
      },
      {
       "output_type": "stream",
       "stream": "stdout",
       "text": [
        "\u001b[2K\r",
        "Loading images: 118/439"
       ]
      },
      {
       "output_type": "stream",
       "stream": "stdout",
       "text": [
        "\u001b[2K\r",
        "Loading images: 119/439"
       ]
      },
      {
       "output_type": "stream",
       "stream": "stdout",
       "text": [
        "\u001b[2K\r",
        "Loading images: 120/439"
       ]
      },
      {
       "output_type": "stream",
       "stream": "stdout",
       "text": [
        "\u001b[2K\r",
        "Loading images: 121/439"
       ]
      },
      {
       "output_type": "stream",
       "stream": "stdout",
       "text": [
        "\u001b[2K\r",
        "Loading images: 122/439"
       ]
      },
      {
       "output_type": "stream",
       "stream": "stdout",
       "text": [
        "\u001b[2K\r",
        "Loading images: 123/439"
       ]
      },
      {
       "output_type": "stream",
       "stream": "stdout",
       "text": [
        "\u001b[2K\r",
        "Loading images: 124/439"
       ]
      },
      {
       "output_type": "stream",
       "stream": "stdout",
       "text": [
        "\u001b[2K\r",
        "Loading images: 125/439"
       ]
      },
      {
       "output_type": "stream",
       "stream": "stdout",
       "text": [
        "\u001b[2K\r",
        "Loading images: 126/439"
       ]
      },
      {
       "output_type": "stream",
       "stream": "stdout",
       "text": [
        "\u001b[2K\r",
        "Loading images: 127/439"
       ]
      },
      {
       "output_type": "stream",
       "stream": "stdout",
       "text": [
        "\u001b[2K\r",
        "Loading images: 128/439"
       ]
      },
      {
       "output_type": "stream",
       "stream": "stdout",
       "text": [
        "\u001b[2K\r",
        "Loading images: 129/439"
       ]
      },
      {
       "output_type": "stream",
       "stream": "stdout",
       "text": [
        "\u001b[2K\r",
        "Loading images: 130/439"
       ]
      },
      {
       "output_type": "stream",
       "stream": "stdout",
       "text": [
        "\u001b[2K\r",
        "Loading images: 131/439"
       ]
      },
      {
       "output_type": "stream",
       "stream": "stdout",
       "text": [
        "\u001b[2K\r",
        "Loading images: 132/439"
       ]
      },
      {
       "output_type": "stream",
       "stream": "stdout",
       "text": [
        "\u001b[2K\r",
        "Loading images: 133/439"
       ]
      },
      {
       "output_type": "stream",
       "stream": "stdout",
       "text": [
        "\u001b[2K\r",
        "Loading images: 134/439"
       ]
      },
      {
       "output_type": "stream",
       "stream": "stdout",
       "text": [
        "\u001b[2K\r",
        "Loading images: 135/439"
       ]
      },
      {
       "output_type": "stream",
       "stream": "stdout",
       "text": [
        "\u001b[2K\r",
        "Loading images: 136/439"
       ]
      },
      {
       "output_type": "stream",
       "stream": "stdout",
       "text": [
        "\u001b[2K\r",
        "Loading images: 137/439"
       ]
      },
      {
       "output_type": "stream",
       "stream": "stdout",
       "text": [
        "\u001b[2K\r",
        "Loading images: 138/439"
       ]
      },
      {
       "output_type": "stream",
       "stream": "stdout",
       "text": [
        "\u001b[2K\r",
        "Loading images: 139/439"
       ]
      },
      {
       "output_type": "stream",
       "stream": "stdout",
       "text": [
        "\u001b[2K\r",
        "Loading images: 140/439"
       ]
      },
      {
       "output_type": "stream",
       "stream": "stdout",
       "text": [
        "\u001b[2K\r",
        "Loading images: 141/439"
       ]
      },
      {
       "output_type": "stream",
       "stream": "stdout",
       "text": [
        "\u001b[2K\r",
        "Loading images: 142/439"
       ]
      },
      {
       "output_type": "stream",
       "stream": "stdout",
       "text": [
        "\u001b[2K\r",
        "Loading images: 143/439"
       ]
      },
      {
       "output_type": "stream",
       "stream": "stdout",
       "text": [
        "\u001b[2K\r",
        "Loading images: 144/439"
       ]
      },
      {
       "output_type": "stream",
       "stream": "stdout",
       "text": [
        "\u001b[2K\r",
        "Loading images: 145/439"
       ]
      },
      {
       "output_type": "stream",
       "stream": "stdout",
       "text": [
        "\u001b[2K\r",
        "Loading images: 146/439"
       ]
      },
      {
       "output_type": "stream",
       "stream": "stdout",
       "text": [
        "\u001b[2K\r",
        "Loading images: 147/439"
       ]
      },
      {
       "output_type": "stream",
       "stream": "stdout",
       "text": [
        "\u001b[2K\r",
        "Loading images: 148/439"
       ]
      },
      {
       "output_type": "stream",
       "stream": "stdout",
       "text": [
        "\u001b[2K\r",
        "Loading images: 149/439"
       ]
      },
      {
       "output_type": "stream",
       "stream": "stdout",
       "text": [
        "\u001b[2K\r",
        "Loading images: 150/439"
       ]
      },
      {
       "output_type": "stream",
       "stream": "stdout",
       "text": [
        "\u001b[2K\r",
        "Loading images: 151/439"
       ]
      },
      {
       "output_type": "stream",
       "stream": "stdout",
       "text": [
        "\u001b[2K\r",
        "Loading images: 152/439"
       ]
      },
      {
       "output_type": "stream",
       "stream": "stdout",
       "text": [
        "\u001b[2K\r",
        "Loading images: 153/439"
       ]
      },
      {
       "output_type": "stream",
       "stream": "stdout",
       "text": [
        "\u001b[2K\r",
        "Loading images: 154/439"
       ]
      },
      {
       "output_type": "stream",
       "stream": "stdout",
       "text": [
        "\u001b[2K\r",
        "Loading images: 155/439"
       ]
      },
      {
       "output_type": "stream",
       "stream": "stdout",
       "text": [
        "\u001b[2K\r",
        "Loading images: 156/439"
       ]
      },
      {
       "output_type": "stream",
       "stream": "stdout",
       "text": [
        "\u001b[2K\r",
        "Loading images: 157/439"
       ]
      },
      {
       "output_type": "stream",
       "stream": "stdout",
       "text": [
        "\u001b[2K\r",
        "Loading images: 158/439"
       ]
      },
      {
       "output_type": "stream",
       "stream": "stdout",
       "text": [
        "\u001b[2K\r",
        "Loading images: 159/439"
       ]
      },
      {
       "output_type": "stream",
       "stream": "stdout",
       "text": [
        "\u001b[2K\r",
        "Loading images: 160/439"
       ]
      },
      {
       "output_type": "stream",
       "stream": "stdout",
       "text": [
        "\u001b[2K\r",
        "Loading images: 161/439"
       ]
      },
      {
       "output_type": "stream",
       "stream": "stdout",
       "text": [
        "\u001b[2K\r",
        "Loading images: 162/439"
       ]
      },
      {
       "output_type": "stream",
       "stream": "stdout",
       "text": [
        "\u001b[2K\r",
        "Loading images: 163/439"
       ]
      },
      {
       "output_type": "stream",
       "stream": "stdout",
       "text": [
        "\u001b[2K\r",
        "Loading images: 164/439"
       ]
      },
      {
       "output_type": "stream",
       "stream": "stdout",
       "text": [
        "\u001b[2K\r",
        "Loading images: 165/439"
       ]
      },
      {
       "output_type": "stream",
       "stream": "stdout",
       "text": [
        "\u001b[2K\r",
        "Loading images: 166/439"
       ]
      },
      {
       "output_type": "stream",
       "stream": "stdout",
       "text": [
        "\u001b[2K\r",
        "Loading images: 167/439"
       ]
      },
      {
       "output_type": "stream",
       "stream": "stdout",
       "text": [
        "\u001b[2K\r",
        "Loading images: 168/439"
       ]
      },
      {
       "output_type": "stream",
       "stream": "stdout",
       "text": [
        "\u001b[2K\r",
        "Loading images: 169/439"
       ]
      },
      {
       "output_type": "stream",
       "stream": "stdout",
       "text": [
        "\u001b[2K\r",
        "Loading images: 170/439"
       ]
      },
      {
       "output_type": "stream",
       "stream": "stdout",
       "text": [
        "\u001b[2K\r",
        "Loading images: 171/439"
       ]
      },
      {
       "output_type": "stream",
       "stream": "stdout",
       "text": [
        "\u001b[2K\r",
        "Loading images: 172/439"
       ]
      },
      {
       "output_type": "stream",
       "stream": "stdout",
       "text": [
        "\u001b[2K\r",
        "Loading images: 173/439"
       ]
      },
      {
       "output_type": "stream",
       "stream": "stdout",
       "text": [
        "\u001b[2K\r",
        "Loading images: 174/439"
       ]
      },
      {
       "output_type": "stream",
       "stream": "stdout",
       "text": [
        "\u001b[2K\r",
        "Loading images: 175/439"
       ]
      },
      {
       "output_type": "stream",
       "stream": "stdout",
       "text": [
        "\u001b[2K\r",
        "Loading images: 176/439"
       ]
      },
      {
       "output_type": "stream",
       "stream": "stdout",
       "text": [
        "\u001b[2K\r",
        "Loading images: 177/439"
       ]
      },
      {
       "output_type": "stream",
       "stream": "stdout",
       "text": [
        "\u001b[2K\r",
        "Loading images: 178/439"
       ]
      },
      {
       "output_type": "stream",
       "stream": "stdout",
       "text": [
        "\u001b[2K\r",
        "Loading images: 179/439"
       ]
      },
      {
       "output_type": "stream",
       "stream": "stdout",
       "text": [
        "\u001b[2K\r",
        "Loading images: 180/439"
       ]
      },
      {
       "output_type": "stream",
       "stream": "stdout",
       "text": [
        "\u001b[2K\r",
        "Loading images: 181/439"
       ]
      },
      {
       "output_type": "stream",
       "stream": "stdout",
       "text": [
        "\u001b[2K\r",
        "Loading images: 182/439"
       ]
      },
      {
       "output_type": "stream",
       "stream": "stdout",
       "text": [
        "\u001b[2K\r",
        "Loading images: 183/439"
       ]
      },
      {
       "output_type": "stream",
       "stream": "stdout",
       "text": [
        "\u001b[2K\r",
        "Loading images: 184/439"
       ]
      },
      {
       "output_type": "stream",
       "stream": "stdout",
       "text": [
        "\u001b[2K\r",
        "Loading images: 185/439"
       ]
      },
      {
       "output_type": "stream",
       "stream": "stdout",
       "text": [
        "\u001b[2K\r",
        "Loading images: 186/439"
       ]
      },
      {
       "output_type": "stream",
       "stream": "stdout",
       "text": [
        "\u001b[2K\r",
        "Loading images: 187/439"
       ]
      },
      {
       "output_type": "stream",
       "stream": "stdout",
       "text": [
        "\u001b[2K\r",
        "Loading images: 188/439"
       ]
      },
      {
       "output_type": "stream",
       "stream": "stdout",
       "text": [
        "\u001b[2K\r",
        "Loading images: 189/439"
       ]
      },
      {
       "output_type": "stream",
       "stream": "stdout",
       "text": [
        "\u001b[2K\r",
        "Loading images: 190/439"
       ]
      },
      {
       "output_type": "stream",
       "stream": "stdout",
       "text": [
        "\u001b[2K\r",
        "Loading images: 191/439"
       ]
      },
      {
       "output_type": "stream",
       "stream": "stdout",
       "text": [
        "\u001b[2K\r",
        "Loading images: 192/439"
       ]
      },
      {
       "output_type": "stream",
       "stream": "stdout",
       "text": [
        "\u001b[2K\r",
        "Loading images: 193/439"
       ]
      },
      {
       "output_type": "stream",
       "stream": "stdout",
       "text": [
        "\u001b[2K\r",
        "Loading images: 194/439"
       ]
      },
      {
       "output_type": "stream",
       "stream": "stdout",
       "text": [
        "\u001b[2K\r",
        "Loading images: 195/439"
       ]
      },
      {
       "output_type": "stream",
       "stream": "stdout",
       "text": [
        "\u001b[2K\r",
        "Loading images: 196/439"
       ]
      },
      {
       "output_type": "stream",
       "stream": "stdout",
       "text": [
        "\u001b[2K\r",
        "Loading images: 197/439"
       ]
      },
      {
       "output_type": "stream",
       "stream": "stdout",
       "text": [
        "\u001b[2K\r",
        "Loading images: 198/439"
       ]
      },
      {
       "output_type": "stream",
       "stream": "stdout",
       "text": [
        "\u001b[2K\r",
        "Loading images: 199/439"
       ]
      },
      {
       "output_type": "stream",
       "stream": "stdout",
       "text": [
        "\u001b[2K\r",
        "Loading images: 200/439"
       ]
      },
      {
       "output_type": "stream",
       "stream": "stdout",
       "text": [
        "\u001b[2K\r",
        "Loading images: 201/439"
       ]
      },
      {
       "output_type": "stream",
       "stream": "stdout",
       "text": [
        "\u001b[2K\r",
        "Loading images: 202/439"
       ]
      },
      {
       "output_type": "stream",
       "stream": "stdout",
       "text": [
        "\u001b[2K\r",
        "Loading images: 203/439"
       ]
      },
      {
       "output_type": "stream",
       "stream": "stdout",
       "text": [
        "\u001b[2K\r",
        "Loading images: 204/439"
       ]
      },
      {
       "output_type": "stream",
       "stream": "stdout",
       "text": [
        "\u001b[2K\r",
        "Loading images: 205/439"
       ]
      },
      {
       "output_type": "stream",
       "stream": "stdout",
       "text": [
        "\u001b[2K\r",
        "Loading images: 206/439"
       ]
      },
      {
       "output_type": "stream",
       "stream": "stdout",
       "text": [
        "\u001b[2K\r",
        "Loading images: 207/439"
       ]
      },
      {
       "output_type": "stream",
       "stream": "stdout",
       "text": [
        "\u001b[2K\r",
        "Loading images: 208/439"
       ]
      },
      {
       "output_type": "stream",
       "stream": "stdout",
       "text": [
        "\u001b[2K\r",
        "Loading images: 209/439"
       ]
      },
      {
       "output_type": "stream",
       "stream": "stdout",
       "text": [
        "\u001b[2K\r",
        "Loading images: 210/439"
       ]
      },
      {
       "output_type": "stream",
       "stream": "stdout",
       "text": [
        "\u001b[2K\r",
        "Loading images: 211/439"
       ]
      },
      {
       "output_type": "stream",
       "stream": "stdout",
       "text": [
        "\u001b[2K\r",
        "Loading images: 212/439"
       ]
      },
      {
       "output_type": "stream",
       "stream": "stdout",
       "text": [
        "\u001b[2K\r",
        "Loading images: 213/439"
       ]
      },
      {
       "output_type": "stream",
       "stream": "stdout",
       "text": [
        "\u001b[2K\r",
        "Loading images: 214/439"
       ]
      },
      {
       "output_type": "stream",
       "stream": "stdout",
       "text": [
        "\u001b[2K\r",
        "Loading images: 215/439"
       ]
      },
      {
       "output_type": "stream",
       "stream": "stdout",
       "text": [
        "\u001b[2K\r",
        "Loading images: 216/439"
       ]
      },
      {
       "output_type": "stream",
       "stream": "stdout",
       "text": [
        "\u001b[2K\r",
        "Loading images: 217/439"
       ]
      },
      {
       "output_type": "stream",
       "stream": "stdout",
       "text": [
        "\u001b[2K\r",
        "Loading images: 218/439"
       ]
      },
      {
       "output_type": "stream",
       "stream": "stdout",
       "text": [
        "\u001b[2K\r",
        "Loading images: 219/439"
       ]
      },
      {
       "output_type": "stream",
       "stream": "stdout",
       "text": [
        "\u001b[2K\r",
        "Loading images: 220/439"
       ]
      },
      {
       "output_type": "stream",
       "stream": "stdout",
       "text": [
        "\u001b[2K\r",
        "Loading images: 221/439"
       ]
      },
      {
       "output_type": "stream",
       "stream": "stdout",
       "text": [
        "\u001b[2K\r",
        "Loading images: 222/439"
       ]
      },
      {
       "output_type": "stream",
       "stream": "stdout",
       "text": [
        "\u001b[2K\r",
        "Loading images: 223/439"
       ]
      },
      {
       "output_type": "stream",
       "stream": "stdout",
       "text": [
        "\u001b[2K\r",
        "Loading images: 224/439"
       ]
      },
      {
       "output_type": "stream",
       "stream": "stdout",
       "text": [
        "\u001b[2K\r",
        "Loading images: 225/439"
       ]
      },
      {
       "output_type": "stream",
       "stream": "stdout",
       "text": [
        "\u001b[2K\r",
        "Loading images: 226/439"
       ]
      },
      {
       "output_type": "stream",
       "stream": "stdout",
       "text": [
        "\u001b[2K\r",
        "Loading images: 227/439"
       ]
      },
      {
       "output_type": "stream",
       "stream": "stdout",
       "text": [
        "\u001b[2K\r",
        "Loading images: 228/439"
       ]
      },
      {
       "output_type": "stream",
       "stream": "stdout",
       "text": [
        "\u001b[2K\r",
        "Loading images: 229/439"
       ]
      },
      {
       "output_type": "stream",
       "stream": "stdout",
       "text": [
        "\u001b[2K\r",
        "Loading images: 230/439"
       ]
      },
      {
       "output_type": "stream",
       "stream": "stdout",
       "text": [
        "\u001b[2K\r",
        "Loading images: 231/439"
       ]
      },
      {
       "output_type": "stream",
       "stream": "stdout",
       "text": [
        "\u001b[2K\r",
        "Loading images: 232/439"
       ]
      },
      {
       "output_type": "stream",
       "stream": "stdout",
       "text": [
        "\u001b[2K\r",
        "Loading images: 233/439"
       ]
      },
      {
       "output_type": "stream",
       "stream": "stdout",
       "text": [
        "\u001b[2K\r",
        "Loading images: 234/439"
       ]
      },
      {
       "output_type": "stream",
       "stream": "stdout",
       "text": [
        "\u001b[2K\r",
        "Loading images: 235/439"
       ]
      },
      {
       "output_type": "stream",
       "stream": "stdout",
       "text": [
        "\u001b[2K\r",
        "Loading images: 236/439"
       ]
      },
      {
       "output_type": "stream",
       "stream": "stdout",
       "text": [
        "\u001b[2K\r",
        "Loading images: 237/439"
       ]
      },
      {
       "output_type": "stream",
       "stream": "stdout",
       "text": [
        "\u001b[2K\r",
        "Loading images: 238/439"
       ]
      },
      {
       "output_type": "stream",
       "stream": "stdout",
       "text": [
        "\u001b[2K\r",
        "Loading images: 239/439"
       ]
      },
      {
       "output_type": "stream",
       "stream": "stdout",
       "text": [
        "\u001b[2K\r",
        "Loading images: 240/439"
       ]
      },
      {
       "output_type": "stream",
       "stream": "stdout",
       "text": [
        "\u001b[2K\r",
        "Loading images: 241/439"
       ]
      },
      {
       "output_type": "stream",
       "stream": "stdout",
       "text": [
        "\u001b[2K\r",
        "Loading images: 242/439"
       ]
      },
      {
       "output_type": "stream",
       "stream": "stdout",
       "text": [
        "\u001b[2K\r",
        "Loading images: 243/439"
       ]
      },
      {
       "output_type": "stream",
       "stream": "stdout",
       "text": [
        "\u001b[2K\r",
        "Loading images: 244/439"
       ]
      },
      {
       "output_type": "stream",
       "stream": "stdout",
       "text": [
        "\u001b[2K\r",
        "Loading images: 245/439"
       ]
      },
      {
       "output_type": "stream",
       "stream": "stdout",
       "text": [
        "\u001b[2K\r",
        "Loading images: 246/439"
       ]
      },
      {
       "output_type": "stream",
       "stream": "stdout",
       "text": [
        "\u001b[2K\r",
        "Loading images: 247/439"
       ]
      },
      {
       "output_type": "stream",
       "stream": "stdout",
       "text": [
        "\u001b[2K\r",
        "Loading images: 248/439"
       ]
      },
      {
       "output_type": "stream",
       "stream": "stdout",
       "text": [
        "\u001b[2K\r",
        "Loading images: 249/439"
       ]
      },
      {
       "output_type": "stream",
       "stream": "stdout",
       "text": [
        "\u001b[2K\r",
        "Loading images: 250/439"
       ]
      },
      {
       "output_type": "stream",
       "stream": "stdout",
       "text": [
        "\u001b[2K\r",
        "Loading images: 251/439"
       ]
      },
      {
       "output_type": "stream",
       "stream": "stdout",
       "text": [
        "\u001b[2K\r",
        "Loading images: 252/439"
       ]
      },
      {
       "output_type": "stream",
       "stream": "stdout",
       "text": [
        "\u001b[2K\r",
        "Loading images: 253/439"
       ]
      },
      {
       "output_type": "stream",
       "stream": "stdout",
       "text": [
        "\u001b[2K\r",
        "Loading images: 254/439"
       ]
      },
      {
       "output_type": "stream",
       "stream": "stdout",
       "text": [
        "\u001b[2K\r",
        "Loading images: 255/439"
       ]
      },
      {
       "output_type": "stream",
       "stream": "stdout",
       "text": [
        "\u001b[2K\r",
        "Loading images: 256/439"
       ]
      },
      {
       "output_type": "stream",
       "stream": "stdout",
       "text": [
        "\u001b[2K\r",
        "Loading images: 257/439"
       ]
      },
      {
       "output_type": "stream",
       "stream": "stdout",
       "text": [
        "\u001b[2K\r",
        "Loading images: 258/439"
       ]
      },
      {
       "output_type": "stream",
       "stream": "stdout",
       "text": [
        "\u001b[2K\r",
        "Loading images: 259/439"
       ]
      },
      {
       "output_type": "stream",
       "stream": "stdout",
       "text": [
        "\u001b[2K\r",
        "Loading images: 260/439"
       ]
      },
      {
       "output_type": "stream",
       "stream": "stdout",
       "text": [
        "\u001b[2K\r",
        "Loading images: 261/439"
       ]
      },
      {
       "output_type": "stream",
       "stream": "stdout",
       "text": [
        "\u001b[2K\r",
        "Loading images: 262/439"
       ]
      },
      {
       "output_type": "stream",
       "stream": "stdout",
       "text": [
        "\u001b[2K\r",
        "Loading images: 263/439"
       ]
      },
      {
       "output_type": "stream",
       "stream": "stdout",
       "text": [
        "\u001b[2K\r",
        "Loading images: 264/439"
       ]
      },
      {
       "output_type": "stream",
       "stream": "stdout",
       "text": [
        "\u001b[2K\r",
        "Loading images: 265/439"
       ]
      },
      {
       "output_type": "stream",
       "stream": "stdout",
       "text": [
        "\u001b[2K\r",
        "Loading images: 266/439"
       ]
      },
      {
       "output_type": "stream",
       "stream": "stdout",
       "text": [
        "\u001b[2K\r",
        "Loading images: 267/439"
       ]
      },
      {
       "output_type": "stream",
       "stream": "stdout",
       "text": [
        "\u001b[2K\r",
        "Loading images: 268/439"
       ]
      },
      {
       "output_type": "stream",
       "stream": "stdout",
       "text": [
        "\u001b[2K\r",
        "Loading images: 269/439"
       ]
      },
      {
       "output_type": "stream",
       "stream": "stdout",
       "text": [
        "\u001b[2K\r",
        "Loading images: 270/439"
       ]
      },
      {
       "output_type": "stream",
       "stream": "stdout",
       "text": [
        "\u001b[2K\r",
        "Loading images: 271/439"
       ]
      },
      {
       "output_type": "stream",
       "stream": "stdout",
       "text": [
        "\u001b[2K\r",
        "Loading images: 272/439"
       ]
      },
      {
       "output_type": "stream",
       "stream": "stdout",
       "text": [
        "\u001b[2K\r",
        "Loading images: 273/439"
       ]
      },
      {
       "output_type": "stream",
       "stream": "stdout",
       "text": [
        "\u001b[2K\r",
        "Loading images: 274/439"
       ]
      },
      {
       "output_type": "stream",
       "stream": "stdout",
       "text": [
        "\u001b[2K\r",
        "Loading images: 275/439"
       ]
      },
      {
       "output_type": "stream",
       "stream": "stdout",
       "text": [
        "\u001b[2K\r",
        "Loading images: 276/439"
       ]
      },
      {
       "output_type": "stream",
       "stream": "stdout",
       "text": [
        "\u001b[2K\r",
        "Loading images: 277/439"
       ]
      },
      {
       "output_type": "stream",
       "stream": "stdout",
       "text": [
        "\u001b[2K\r",
        "Loading images: 278/439"
       ]
      },
      {
       "output_type": "stream",
       "stream": "stdout",
       "text": [
        "\u001b[2K\r",
        "Loading images: 279/439"
       ]
      },
      {
       "output_type": "stream",
       "stream": "stdout",
       "text": [
        "\u001b[2K\r",
        "Loading images: 280/439"
       ]
      },
      {
       "output_type": "stream",
       "stream": "stdout",
       "text": [
        "\u001b[2K\r",
        "Loading images: 281/439"
       ]
      },
      {
       "output_type": "stream",
       "stream": "stdout",
       "text": [
        "\u001b[2K\r",
        "Loading images: 282/439"
       ]
      },
      {
       "output_type": "stream",
       "stream": "stdout",
       "text": [
        "\u001b[2K\r",
        "Loading images: 283/439"
       ]
      },
      {
       "output_type": "stream",
       "stream": "stdout",
       "text": [
        "\u001b[2K\r",
        "Loading images: 284/439"
       ]
      },
      {
       "output_type": "stream",
       "stream": "stdout",
       "text": [
        "\u001b[2K\r",
        "Loading images: 285/439"
       ]
      },
      {
       "output_type": "stream",
       "stream": "stdout",
       "text": [
        "\u001b[2K\r",
        "Loading images: 286/439"
       ]
      },
      {
       "output_type": "stream",
       "stream": "stdout",
       "text": [
        "\u001b[2K\r",
        "Loading images: 287/439"
       ]
      },
      {
       "output_type": "stream",
       "stream": "stdout",
       "text": [
        "\u001b[2K\r",
        "Loading images: 288/439"
       ]
      },
      {
       "output_type": "stream",
       "stream": "stdout",
       "text": [
        "\u001b[2K\r",
        "Loading images: 289/439"
       ]
      },
      {
       "output_type": "stream",
       "stream": "stdout",
       "text": [
        "\u001b[2K\r",
        "Loading images: 290/439"
       ]
      },
      {
       "output_type": "stream",
       "stream": "stdout",
       "text": [
        "\u001b[2K\r",
        "Loading images: 291/439"
       ]
      },
      {
       "output_type": "stream",
       "stream": "stdout",
       "text": [
        "\u001b[2K\r",
        "Loading images: 292/439"
       ]
      },
      {
       "output_type": "stream",
       "stream": "stdout",
       "text": [
        "\u001b[2K\r",
        "Loading images: 293/439"
       ]
      },
      {
       "output_type": "stream",
       "stream": "stdout",
       "text": [
        "\u001b[2K\r",
        "Loading images: 294/439"
       ]
      },
      {
       "output_type": "stream",
       "stream": "stdout",
       "text": [
        "\u001b[2K\r",
        "Loading images: 295/439"
       ]
      },
      {
       "output_type": "stream",
       "stream": "stdout",
       "text": [
        "\u001b[2K\r",
        "Loading images: 296/439"
       ]
      },
      {
       "output_type": "stream",
       "stream": "stdout",
       "text": [
        "\u001b[2K\r",
        "Loading images: 297/439"
       ]
      },
      {
       "output_type": "stream",
       "stream": "stdout",
       "text": [
        "\u001b[2K\r",
        "Loading images: 298/439"
       ]
      },
      {
       "output_type": "stream",
       "stream": "stdout",
       "text": [
        "\u001b[2K\r",
        "Loading images: 299/439"
       ]
      },
      {
       "output_type": "stream",
       "stream": "stdout",
       "text": [
        "\u001b[2K\r",
        "Loading images: 300/439"
       ]
      },
      {
       "output_type": "stream",
       "stream": "stdout",
       "text": [
        "\u001b[2K\r",
        "Loading images: 301/439"
       ]
      },
      {
       "output_type": "stream",
       "stream": "stdout",
       "text": [
        "\u001b[2K\r",
        "Loading images: 302/439"
       ]
      },
      {
       "output_type": "stream",
       "stream": "stdout",
       "text": [
        "\u001b[2K\r",
        "Loading images: 303/439"
       ]
      },
      {
       "output_type": "stream",
       "stream": "stdout",
       "text": [
        "\u001b[2K\r",
        "Loading images: 304/439"
       ]
      },
      {
       "output_type": "stream",
       "stream": "stdout",
       "text": [
        "\u001b[2K\r",
        "Loading images: 305/439"
       ]
      },
      {
       "output_type": "stream",
       "stream": "stdout",
       "text": [
        "\u001b[2K\r",
        "Loading images: 306/439"
       ]
      },
      {
       "output_type": "stream",
       "stream": "stdout",
       "text": [
        "\u001b[2K\r",
        "Loading images: 307/439"
       ]
      },
      {
       "output_type": "stream",
       "stream": "stdout",
       "text": [
        "\u001b[2K\r",
        "Loading images: 308/439"
       ]
      },
      {
       "output_type": "stream",
       "stream": "stdout",
       "text": [
        "\u001b[2K\r",
        "Loading images: 309/439"
       ]
      },
      {
       "output_type": "stream",
       "stream": "stdout",
       "text": [
        "\u001b[2K\r",
        "Loading images: 310/439"
       ]
      },
      {
       "output_type": "stream",
       "stream": "stdout",
       "text": [
        "\u001b[2K\r",
        "Loading images: 311/439"
       ]
      },
      {
       "output_type": "stream",
       "stream": "stdout",
       "text": [
        "\u001b[2K\r",
        "Loading images: 312/439"
       ]
      },
      {
       "output_type": "stream",
       "stream": "stdout",
       "text": [
        "\u001b[2K\r",
        "Loading images: 313/439"
       ]
      },
      {
       "output_type": "stream",
       "stream": "stdout",
       "text": [
        "\u001b[2K\r",
        "Loading images: 314/439"
       ]
      },
      {
       "output_type": "stream",
       "stream": "stdout",
       "text": [
        "\u001b[2K\r",
        "Loading images: 315/439"
       ]
      },
      {
       "output_type": "stream",
       "stream": "stdout",
       "text": [
        "\u001b[2K\r",
        "Loading images: 316/439"
       ]
      },
      {
       "output_type": "stream",
       "stream": "stdout",
       "text": [
        "\u001b[2K\r",
        "Loading images: 317/439"
       ]
      },
      {
       "output_type": "stream",
       "stream": "stdout",
       "text": [
        "\u001b[2K\r",
        "Loading images: 318/439"
       ]
      },
      {
       "output_type": "stream",
       "stream": "stdout",
       "text": [
        "\u001b[2K\r",
        "Loading images: 319/439"
       ]
      },
      {
       "output_type": "stream",
       "stream": "stdout",
       "text": [
        "\u001b[2K\r",
        "Loading images: 320/439"
       ]
      },
      {
       "output_type": "stream",
       "stream": "stdout",
       "text": [
        "\u001b[2K\r",
        "Loading images: 321/439"
       ]
      },
      {
       "output_type": "stream",
       "stream": "stdout",
       "text": [
        "\u001b[2K\r",
        "Loading images: 322/439"
       ]
      },
      {
       "output_type": "stream",
       "stream": "stdout",
       "text": [
        "\u001b[2K\r",
        "Loading images: 323/439"
       ]
      },
      {
       "output_type": "stream",
       "stream": "stdout",
       "text": [
        "\u001b[2K\r",
        "Loading images: 324/439"
       ]
      },
      {
       "output_type": "stream",
       "stream": "stdout",
       "text": [
        "\u001b[2K\r",
        "Loading images: 325/439"
       ]
      },
      {
       "output_type": "stream",
       "stream": "stdout",
       "text": [
        "\u001b[2K\r",
        "Loading images: 326/439"
       ]
      },
      {
       "output_type": "stream",
       "stream": "stdout",
       "text": [
        "\u001b[2K\r",
        "Loading images: 327/439"
       ]
      },
      {
       "output_type": "stream",
       "stream": "stdout",
       "text": [
        "\u001b[2K\r",
        "Loading images: 328/439"
       ]
      },
      {
       "output_type": "stream",
       "stream": "stdout",
       "text": [
        "\u001b[2K\r",
        "Loading images: 329/439"
       ]
      },
      {
       "output_type": "stream",
       "stream": "stdout",
       "text": [
        "\u001b[2K\r",
        "Loading images: 330/439"
       ]
      },
      {
       "output_type": "stream",
       "stream": "stdout",
       "text": [
        "\u001b[2K\r",
        "Loading images: 331/439"
       ]
      },
      {
       "output_type": "stream",
       "stream": "stdout",
       "text": [
        "\u001b[2K\r",
        "Loading images: 332/439"
       ]
      },
      {
       "output_type": "stream",
       "stream": "stdout",
       "text": [
        "\u001b[2K\r",
        "Loading images: 333/439"
       ]
      },
      {
       "output_type": "stream",
       "stream": "stdout",
       "text": [
        "\u001b[2K\r",
        "Loading images: 334/439"
       ]
      },
      {
       "output_type": "stream",
       "stream": "stdout",
       "text": [
        "\u001b[2K\r",
        "Loading images: 335/439"
       ]
      },
      {
       "output_type": "stream",
       "stream": "stdout",
       "text": [
        "\u001b[2K\r",
        "Loading images: 336/439"
       ]
      },
      {
       "output_type": "stream",
       "stream": "stdout",
       "text": [
        "\u001b[2K\r",
        "Loading images: 337/439"
       ]
      },
      {
       "output_type": "stream",
       "stream": "stdout",
       "text": [
        "\u001b[2K\r",
        "Loading images: 338/439"
       ]
      },
      {
       "output_type": "stream",
       "stream": "stdout",
       "text": [
        "\u001b[2K\r",
        "Loading images: 339/439"
       ]
      },
      {
       "output_type": "stream",
       "stream": "stdout",
       "text": [
        "\u001b[2K\r",
        "Loading images: 340/439"
       ]
      },
      {
       "output_type": "stream",
       "stream": "stdout",
       "text": [
        "\u001b[2K\r",
        "Loading images: 341/439"
       ]
      },
      {
       "output_type": "stream",
       "stream": "stdout",
       "text": [
        "\u001b[2K\r",
        "Loading images: 342/439"
       ]
      },
      {
       "output_type": "stream",
       "stream": "stdout",
       "text": [
        "\u001b[2K\r",
        "Loading images: 343/439"
       ]
      },
      {
       "output_type": "stream",
       "stream": "stdout",
       "text": [
        "\u001b[2K\r",
        "Loading images: 344/439"
       ]
      },
      {
       "output_type": "stream",
       "stream": "stdout",
       "text": [
        "\u001b[2K\r",
        "Loading images: 345/439"
       ]
      },
      {
       "output_type": "stream",
       "stream": "stdout",
       "text": [
        "\u001b[2K\r",
        "Loading images: 346/439"
       ]
      },
      {
       "output_type": "stream",
       "stream": "stdout",
       "text": [
        "\u001b[2K\r",
        "Loading images: 347/439"
       ]
      },
      {
       "output_type": "stream",
       "stream": "stdout",
       "text": [
        "\u001b[2K\r",
        "Loading images: 348/439"
       ]
      },
      {
       "output_type": "stream",
       "stream": "stdout",
       "text": [
        "\u001b[2K\r",
        "Loading images: 349/439"
       ]
      },
      {
       "output_type": "stream",
       "stream": "stdout",
       "text": [
        "\u001b[2K\r",
        "Loading images: 350/439"
       ]
      },
      {
       "output_type": "stream",
       "stream": "stdout",
       "text": [
        "\u001b[2K\r",
        "Loading images: 351/439"
       ]
      },
      {
       "output_type": "stream",
       "stream": "stdout",
       "text": [
        "\u001b[2K\r",
        "Loading images: 352/439"
       ]
      },
      {
       "output_type": "stream",
       "stream": "stdout",
       "text": [
        "\u001b[2K\r",
        "Loading images: 353/439"
       ]
      },
      {
       "output_type": "stream",
       "stream": "stdout",
       "text": [
        "\u001b[2K\r",
        "Loading images: 354/439"
       ]
      },
      {
       "output_type": "stream",
       "stream": "stdout",
       "text": [
        "\u001b[2K\r",
        "Loading images: 355/439"
       ]
      },
      {
       "output_type": "stream",
       "stream": "stdout",
       "text": [
        "\u001b[2K\r",
        "Loading images: 356/439"
       ]
      },
      {
       "output_type": "stream",
       "stream": "stdout",
       "text": [
        "\u001b[2K\r",
        "Loading images: 357/439"
       ]
      },
      {
       "output_type": "stream",
       "stream": "stdout",
       "text": [
        "\u001b[2K\r",
        "Loading images: 358/439"
       ]
      },
      {
       "output_type": "stream",
       "stream": "stdout",
       "text": [
        "\u001b[2K\r",
        "Loading images: 359/439"
       ]
      },
      {
       "output_type": "stream",
       "stream": "stdout",
       "text": [
        "\u001b[2K\r",
        "Loading images: 360/439"
       ]
      },
      {
       "output_type": "stream",
       "stream": "stdout",
       "text": [
        "\u001b[2K\r",
        "Loading images: 361/439"
       ]
      },
      {
       "output_type": "stream",
       "stream": "stdout",
       "text": [
        "\u001b[2K\r",
        "Loading images: 362/439"
       ]
      },
      {
       "output_type": "stream",
       "stream": "stdout",
       "text": [
        "\u001b[2K\r",
        "Loading images: 363/439"
       ]
      },
      {
       "output_type": "stream",
       "stream": "stdout",
       "text": [
        "\u001b[2K\r",
        "Loading images: 364/439"
       ]
      },
      {
       "output_type": "stream",
       "stream": "stdout",
       "text": [
        "\u001b[2K\r",
        "Loading images: 365/439"
       ]
      },
      {
       "output_type": "stream",
       "stream": "stdout",
       "text": [
        "\u001b[2K\r",
        "Loading images: 366/439"
       ]
      },
      {
       "output_type": "stream",
       "stream": "stdout",
       "text": [
        "\u001b[2K\r",
        "Loading images: 367/439"
       ]
      },
      {
       "output_type": "stream",
       "stream": "stdout",
       "text": [
        "\u001b[2K\r",
        "Loading images: 368/439"
       ]
      },
      {
       "output_type": "stream",
       "stream": "stdout",
       "text": [
        "\u001b[2K\r",
        "Loading images: 369/439"
       ]
      },
      {
       "output_type": "stream",
       "stream": "stdout",
       "text": [
        "\u001b[2K\r",
        "Loading images: 370/439"
       ]
      },
      {
       "output_type": "stream",
       "stream": "stdout",
       "text": [
        "\u001b[2K\r",
        "Loading images: 371/439"
       ]
      },
      {
       "output_type": "stream",
       "stream": "stdout",
       "text": [
        "\u001b[2K\r",
        "Loading images: 372/439"
       ]
      },
      {
       "output_type": "stream",
       "stream": "stdout",
       "text": [
        "\u001b[2K\r",
        "Loading images: 373/439"
       ]
      },
      {
       "output_type": "stream",
       "stream": "stdout",
       "text": [
        "\u001b[2K\r",
        "Loading images: 374/439"
       ]
      },
      {
       "output_type": "stream",
       "stream": "stdout",
       "text": [
        "\u001b[2K\r",
        "Loading images: 375/439"
       ]
      },
      {
       "output_type": "stream",
       "stream": "stdout",
       "text": [
        "\u001b[2K\r",
        "Loading images: 376/439"
       ]
      },
      {
       "output_type": "stream",
       "stream": "stdout",
       "text": [
        "\u001b[2K\r",
        "Loading images: 377/439"
       ]
      },
      {
       "output_type": "stream",
       "stream": "stdout",
       "text": [
        "\u001b[2K\r",
        "Loading images: 378/439"
       ]
      },
      {
       "output_type": "stream",
       "stream": "stdout",
       "text": [
        "\u001b[2K\r",
        "Loading images: 379/439"
       ]
      },
      {
       "output_type": "stream",
       "stream": "stdout",
       "text": [
        "\u001b[2K\r",
        "Loading images: 380/439"
       ]
      },
      {
       "output_type": "stream",
       "stream": "stdout",
       "text": [
        "\u001b[2K\r",
        "Loading images: 381/439"
       ]
      },
      {
       "output_type": "stream",
       "stream": "stdout",
       "text": [
        "\u001b[2K\r",
        "Loading images: 382/439"
       ]
      },
      {
       "output_type": "stream",
       "stream": "stdout",
       "text": [
        "\u001b[2K\r",
        "Loading images: 383/439"
       ]
      },
      {
       "output_type": "stream",
       "stream": "stdout",
       "text": [
        "\u001b[2K\r",
        "Loading images: 384/439"
       ]
      },
      {
       "output_type": "stream",
       "stream": "stdout",
       "text": [
        "\u001b[2K\r",
        "Loading images: 385/439"
       ]
      },
      {
       "output_type": "stream",
       "stream": "stdout",
       "text": [
        "\u001b[2K\r",
        "Loading images: 386/439"
       ]
      },
      {
       "output_type": "stream",
       "stream": "stdout",
       "text": [
        "\u001b[2K\r",
        "Loading images: 387/439"
       ]
      },
      {
       "output_type": "stream",
       "stream": "stdout",
       "text": [
        "\u001b[2K\r",
        "Loading images: 388/439"
       ]
      },
      {
       "output_type": "stream",
       "stream": "stdout",
       "text": [
        "\u001b[2K\r",
        "Loading images: 389/439"
       ]
      },
      {
       "output_type": "stream",
       "stream": "stdout",
       "text": [
        "\u001b[2K\r",
        "Loading images: 390/439"
       ]
      },
      {
       "output_type": "stream",
       "stream": "stdout",
       "text": [
        "\u001b[2K\r",
        "Loading images: 391/439"
       ]
      },
      {
       "output_type": "stream",
       "stream": "stdout",
       "text": [
        "\u001b[2K\r",
        "Loading images: 392/439"
       ]
      },
      {
       "output_type": "stream",
       "stream": "stdout",
       "text": [
        "\u001b[2K\r",
        "Loading images: 393/439"
       ]
      },
      {
       "output_type": "stream",
       "stream": "stdout",
       "text": [
        "\u001b[2K\r",
        "Loading images: 394/439"
       ]
      },
      {
       "output_type": "stream",
       "stream": "stdout",
       "text": [
        "\u001b[2K\r",
        "Loading images: 395/439"
       ]
      },
      {
       "output_type": "stream",
       "stream": "stdout",
       "text": [
        "\u001b[2K\r",
        "Loading images: 396/439"
       ]
      },
      {
       "output_type": "stream",
       "stream": "stdout",
       "text": [
        "\u001b[2K\r",
        "Loading images: 397/439"
       ]
      },
      {
       "output_type": "stream",
       "stream": "stdout",
       "text": [
        "\u001b[2K\r",
        "Loading images: 398/439"
       ]
      },
      {
       "output_type": "stream",
       "stream": "stdout",
       "text": [
        "\u001b[2K\r",
        "Loading images: 399/439"
       ]
      },
      {
       "output_type": "stream",
       "stream": "stdout",
       "text": [
        "\u001b[2K\r",
        "Loading images: 400/439"
       ]
      },
      {
       "output_type": "stream",
       "stream": "stdout",
       "text": [
        "\u001b[2K\r",
        "Loading images: 401/439"
       ]
      },
      {
       "output_type": "stream",
       "stream": "stdout",
       "text": [
        "\u001b[2K\r",
        "Loading images: 402/439"
       ]
      },
      {
       "output_type": "stream",
       "stream": "stdout",
       "text": [
        "\u001b[2K\r",
        "Loading images: 403/439"
       ]
      },
      {
       "output_type": "stream",
       "stream": "stdout",
       "text": [
        "\u001b[2K\r",
        "Loading images: 404/439"
       ]
      },
      {
       "output_type": "stream",
       "stream": "stdout",
       "text": [
        "\u001b[2K\r",
        "Loading images: 405/439"
       ]
      },
      {
       "output_type": "stream",
       "stream": "stdout",
       "text": [
        "\u001b[2K\r",
        "Loading images: 406/439"
       ]
      },
      {
       "output_type": "stream",
       "stream": "stdout",
       "text": [
        "\u001b[2K\r",
        "Loading images: 407/439"
       ]
      },
      {
       "output_type": "stream",
       "stream": "stdout",
       "text": [
        "\u001b[2K\r",
        "Loading images: 408/439"
       ]
      },
      {
       "output_type": "stream",
       "stream": "stdout",
       "text": [
        "\u001b[2K\r",
        "Loading images: 409/439"
       ]
      },
      {
       "output_type": "stream",
       "stream": "stdout",
       "text": [
        "\u001b[2K\r",
        "Loading images: 410/439"
       ]
      },
      {
       "output_type": "stream",
       "stream": "stdout",
       "text": [
        "\u001b[2K\r",
        "Loading images: 411/439"
       ]
      },
      {
       "output_type": "stream",
       "stream": "stdout",
       "text": [
        "\u001b[2K\r",
        "Loading images: 412/439"
       ]
      },
      {
       "output_type": "stream",
       "stream": "stdout",
       "text": [
        "\u001b[2K\r",
        "Loading images: 413/439"
       ]
      },
      {
       "output_type": "stream",
       "stream": "stdout",
       "text": [
        "\u001b[2K\r",
        "Loading images: 414/439"
       ]
      },
      {
       "output_type": "stream",
       "stream": "stdout",
       "text": [
        "\u001b[2K\r",
        "Loading images: 415/439"
       ]
      },
      {
       "output_type": "stream",
       "stream": "stdout",
       "text": [
        "\u001b[2K\r",
        "Loading images: 416/439"
       ]
      },
      {
       "output_type": "stream",
       "stream": "stdout",
       "text": [
        "\u001b[2K\r",
        "Loading images: 417/439"
       ]
      },
      {
       "output_type": "stream",
       "stream": "stdout",
       "text": [
        "\u001b[2K\r",
        "Loading images: 418/439"
       ]
      },
      {
       "output_type": "stream",
       "stream": "stdout",
       "text": [
        "\u001b[2K\r",
        "Loading images: 419/439"
       ]
      },
      {
       "output_type": "stream",
       "stream": "stdout",
       "text": [
        "\u001b[2K\r",
        "Loading images: 420/439"
       ]
      },
      {
       "output_type": "stream",
       "stream": "stdout",
       "text": [
        "\u001b[2K\r",
        "Loading images: 421/439"
       ]
      },
      {
       "output_type": "stream",
       "stream": "stdout",
       "text": [
        "\u001b[2K\r",
        "Loading images: 422/439"
       ]
      },
      {
       "output_type": "stream",
       "stream": "stdout",
       "text": [
        "\u001b[2K\r",
        "Loading images: 423/439"
       ]
      },
      {
       "output_type": "stream",
       "stream": "stdout",
       "text": [
        "\u001b[2K\r",
        "Loading images: 424/439"
       ]
      },
      {
       "output_type": "stream",
       "stream": "stdout",
       "text": [
        "\u001b[2K\r",
        "Loading images: 425/439"
       ]
      },
      {
       "output_type": "stream",
       "stream": "stdout",
       "text": [
        "\u001b[2K\r",
        "Loading images: 426/439"
       ]
      },
      {
       "output_type": "stream",
       "stream": "stdout",
       "text": [
        "\u001b[2K\r",
        "Loading images: 427/439"
       ]
      },
      {
       "output_type": "stream",
       "stream": "stdout",
       "text": [
        "\u001b[2K\r",
        "Loading images: 428/439"
       ]
      },
      {
       "output_type": "stream",
       "stream": "stdout",
       "text": [
        "\u001b[2K\r",
        "Loading images: 429/439"
       ]
      },
      {
       "output_type": "stream",
       "stream": "stdout",
       "text": [
        "\u001b[2K\r",
        "Loading images: 430/439"
       ]
      },
      {
       "output_type": "stream",
       "stream": "stdout",
       "text": [
        "\u001b[2K\r",
        "Loading images: 431/439"
       ]
      },
      {
       "output_type": "stream",
       "stream": "stdout",
       "text": [
        "\u001b[2K\r",
        "Loading images: 432/439"
       ]
      },
      {
       "output_type": "stream",
       "stream": "stdout",
       "text": [
        "\u001b[2K\r",
        "Loading images: 433/439"
       ]
      },
      {
       "output_type": "stream",
       "stream": "stdout",
       "text": [
        "\u001b[2K\r",
        "Loading images: 434/439"
       ]
      },
      {
       "output_type": "stream",
       "stream": "stdout",
       "text": [
        "\u001b[2K\r",
        "Loading images: 435/439"
       ]
      },
      {
       "output_type": "stream",
       "stream": "stdout",
       "text": [
        "\u001b[2K\r",
        "Loading images: 436/439"
       ]
      },
      {
       "output_type": "stream",
       "stream": "stdout",
       "text": [
        "\u001b[2K\r",
        "Loading images: 437/439"
       ]
      },
      {
       "output_type": "stream",
       "stream": "stdout",
       "text": [
        "\u001b[2K\r",
        "Loading images: 438/439"
       ]
      },
      {
       "output_type": "stream",
       "stream": "stdout",
       "text": [
        "\u001b[2K\r",
        "Loading images: 439/439"
       ]
      },
      {
       "output_type": "stream",
       "stream": "stdout",
       "text": [
        "\n"
       ]
      }
     ],
     "prompt_number": 3
    },
    {
     "cell_type": "code",
     "collapsed": false,
     "input": [
      "# 3*200*200 colors\n",
      "\n",
      "img_colors = train_data['images_colors']\n",
      "file_name = train_data['file_name']\n",
      "short_name = train_data['short_name']"
     ],
     "language": "python",
     "metadata": {},
     "outputs": [],
     "prompt_number": 4
    },
    {
     "cell_type": "code",
     "collapsed": false,
     "input": [
      "## Prepare data for KNN\n",
      "X_train, X_val, y_train, y_val, fn_train, fn_val = cross_validation.train_test_split(\n",
      "                                                                   img_colors,\n",
      "                                                                   short_name, \n",
      "                                                                   file_name,\n",
      "                                                                   test_size=.2,\n",
      "                                                                   random_state=777)\n",
      "\n",
      "print \"Length of Validation Set:\" + str(len(y_val))\n",
      "print \"Length of Train Set:\" + str(len(y_train))\n",
      "print \"Ratio: \" + str(len(y_val) / float(len(y_train)))"
     ],
     "language": "python",
     "metadata": {},
     "outputs": [
      {
       "output_type": "stream",
       "stream": "stdout",
       "text": [
        "Length of Validation Set:148\n",
        "Length of Train Set:591\n",
        "Ratio: 0.250423011844\n"
       ]
      }
     ],
     "prompt_number": 5
    },
    {
     "cell_type": "code",
     "collapsed": false,
     "input": [
      "## Train the KNN model\n",
      "print \"Training KNN Model...\"\n",
      "\n",
      "## n_jobs=-1: Use all cores\n",
      "## n_neighbors = Number of Neighbors\n",
      "n_neighbors = int(math.ceil(math.sqrt(len(img_colors))))\n",
      "model = KNeighborsClassifier(n_neighbors=n_neighbors,\n",
      "                             n_jobs=-1)\n",
      "model.fit(X_train, y_train)"
     ],
     "language": "python",
     "metadata": {},
     "outputs": [
      {
       "output_type": "stream",
       "stream": "stdout",
       "text": [
        "Training KNN Model...\n"
       ]
      },
      {
       "metadata": {},
       "output_type": "pyout",
       "prompt_number": 6,
       "text": [
        "KNeighborsClassifier(algorithm='auto', leaf_size=30, metric='minkowski',\n",
        "           metric_params=None, n_jobs=-1, n_neighbors=28, p=2,\n",
        "           weights='uniform')"
       ]
      }
     ],
     "prompt_number": 6
    },
    {
     "cell_type": "code",
     "collapsed": false,
     "input": [
      "## Predict on the validation set using the KNN model.\n",
      "validations_predictions = model.predict(X_val)\n",
      "print validations_predictions"
     ],
     "language": "python",
     "metadata": {},
     "outputs": [
      {
       "output_type": "stream",
       "stream": "stdout",
       "text": [
        "['gogh_van' 'rembrand' 'rembrand' 'gogh_van' 'gogh_van' 'gogh_van'\n",
        " 'gogh_van' 'rembrand' 'gogh_van' 'rembrand' 'gogh_van' 'rembrand'\n",
        " 'gogh_van' 'rembrand' 'gogh_van' 'gogh_van' 'rembrand' 'rembrand'\n",
        " 'gogh_van' 'gogh_van' 'gogh_van' 'gogh_van' 'rembrand' 'rembrand'\n",
        " 'gogh_van' 'gogh_van' 'gogh_van' 'rembrand' 'rembrand' 'rubens' 'rembrand'\n",
        " 'gogh_van' 'gogh_van' 'gogh_van' 'rembrand' 'rembrand' 'rembrand'\n",
        " 'rembrand' 'rembrand' 'rembrand' 'gogh_van' 'gogh_van' 'gogh_van'\n",
        " 'rembrand' 'gogh_van' 'gogh_van' 'rembrand' 'rembrand' 'gogh_van'\n",
        " 'gogh_van' 'gogh_van' 'gogh_van' 'gogh_van' 'rembrand' 'rembrand'\n",
        " 'rembrand' 'rembrand' 'gogh_van' 'gogh_van' 'gogh_van' 'rembrand'\n",
        " 'gogh_van' 'gogh_van' 'gogh_van' 'gogh_van' 'rembrand' 'rubens' 'gogh_van'\n",
        " 'gogh_van' 'gogh_van' 'rembrand' 'gogh_van' 'rembrand' 'rembrand'\n",
        " 'gogh_van' 'rembrand' 'rembrand' 'rembrand' 'gogh_van' 'gogh_van'\n",
        " 'gogh_van' 'gogh_van' 'gogh_van' 'rembrand' 'gogh_van' 'gogh_van'\n",
        " 'gogh_van' 'rembrand' 'rembrand' 'gogh_van' 'gogh_van' 'gogh_van'\n",
        " 'gogh_van' 'gogh_van' 'gogh_van' 'rembrand' 'rembrand' 'gogh_van'\n",
        " 'gogh_van' 'gogh_van' 'rembrand' 'rembrand' 'gogh_van' 'gogh_van'\n",
        " 'gogh_van' 'rembrand' 'rembrand' 'gogh_van' 'rembrand' 'rembrand'\n",
        " 'rembrand' 'rembrand' 'gogh_van' 'gogh_van' 'rubens' 'gogh_van' 'gogh_van'\n",
        " 'rembrand' 'gogh_van' 'rembrand' 'gogh_van' 'gogh_van' 'gogh_van'\n",
        " 'gogh_van' 'rembrand' 'rembrand' 'gogh_van' 'gogh_van' 'gogh_van'\n",
        " 'gogh_van' 'gogh_van' 'gogh_van' 'gogh_van' 'rembrand' 'rembrand'\n",
        " 'rembrand' 'gogh_van' 'gogh_van' 'rembrand' 'rembrand' 'gogh_van'\n",
        " 'gogh_van' 'rembrand' 'gogh_van' 'rembrand' 'gogh_van' 'gogh_van'\n",
        " 'gogh_van']\n"
       ]
      }
     ],
     "prompt_number": 7
    },
    {
     "cell_type": "code",
     "collapsed": false,
     "input": [
      "results = pd.DataFrame()\n",
      "\n",
      "results.insert(0,'actual',y_val)\n",
      "results.insert(1,'predictions',validations_predictions)\n",
      "\n",
      "misclassified = (results['actual'] != results['predictions']).mean()\n",
      "misclassified"
     ],
     "language": "python",
     "metadata": {},
     "outputs": [
      {
       "metadata": {},
       "output_type": "pyout",
       "prompt_number": 12,
       "text": [
        "0.31756756756756754"
       ]
      }
     ],
     "prompt_number": 12
    },
    {
     "cell_type": "code",
     "collapsed": false,
     "input": [
      "## Give me the 5 nearest neighbors of the first two items in the validation set\n",
      "pd.concat((fn_val.iloc[:5].reset_index(drop = True), \n",
      "           pd.DataFrame(model.kneighbors(X_val[0:5], n_neighbors=3, return_distance=False)).\n",
      "        applymap(lambda x: fn_train.iloc[x])), axis = 1)"
     ],
     "language": "python",
     "metadata": {},
     "outputs": [
      {
       "html": [
        "<div style=\"max-width:1500px;overflow:auto;\">\n",
        "<table border=\"1\" class=\"dataframe\">\n",
        "  <thead>\n",
        "    <tr style=\"text-align: right;\">\n",
        "      <th></th>\n",
        "      <th>file_name</th>\n",
        "      <th>0</th>\n",
        "      <th>1</th>\n",
        "      <th>2</th>\n",
        "    </tr>\n",
        "  </thead>\n",
        "  <tbody>\n",
        "    <tr>\n",
        "      <th>0</th>\n",
        "      <td>rubens_7graphic_06sketci.jpg</td>\n",
        "      <td>rubens_7graphic_20drawin.jpg</td>\n",
        "      <td>rubens_7graphic_24drawin.jpg</td>\n",
        "      <td>gogh_van_19_1remy06.jpg</td>\n",
        "    </tr>\n",
        "    <tr>\n",
        "      <th>1</th>\n",
        "      <td>rembrand_15oldtes_04oldtes.jpg</td>\n",
        "      <td>rembrand_24portra_102portr.jpg</td>\n",
        "      <td>rembrand_14biblic_64newtes.jpg</td>\n",
        "      <td>rembrand_25portra_135portr.jpg</td>\n",
        "    </tr>\n",
        "    <tr>\n",
        "      <th>2</th>\n",
        "      <td>rubens_42portra_11family.jpg</td>\n",
        "      <td>rembrand_27self_23sp1669.jpg</td>\n",
        "      <td>gogh_van_02_nuenen16.jpg</td>\n",
        "      <td>rembrand_21portra_06portrb.jpg</td>\n",
        "    </tr>\n",
        "    <tr>\n",
        "      <th>3</th>\n",
        "      <td>rubens_7graphic_09euchar.jpg</td>\n",
        "      <td>gogh_van_16_selfpo07.jpg</td>\n",
        "      <td>rubens_7graphic_11sketc1.jpg</td>\n",
        "      <td>rubens_7graphic_24drawin.jpg</td>\n",
        "    </tr>\n",
        "    <tr>\n",
        "      <th>4</th>\n",
        "      <td>gogh_van_16_selfpo10.jpg</td>\n",
        "      <td>gogh_van_16_selfpo04.jpg</td>\n",
        "      <td>gogh_van_16_selfpo13.jpg</td>\n",
        "      <td>gogh_van_16_selfpo09.jpg</td>\n",
        "    </tr>\n",
        "  </tbody>\n",
        "</table>\n",
        "</div>"
       ],
       "metadata": {},
       "output_type": "pyout",
       "prompt_number": 13,
       "text": [
        "                        file_name                               0  \\\n",
        "0    rubens_7graphic_06sketci.jpg    rubens_7graphic_20drawin.jpg   \n",
        "1  rembrand_15oldtes_04oldtes.jpg  rembrand_24portra_102portr.jpg   \n",
        "2    rubens_42portra_11family.jpg    rembrand_27self_23sp1669.jpg   \n",
        "3    rubens_7graphic_09euchar.jpg        gogh_van_16_selfpo07.jpg   \n",
        "4        gogh_van_16_selfpo10.jpg        gogh_van_16_selfpo04.jpg   \n",
        "\n",
        "                                1                               2  \n",
        "0    rubens_7graphic_24drawin.jpg         gogh_van_19_1remy06.jpg  \n",
        "1  rembrand_14biblic_64newtes.jpg  rembrand_25portra_135portr.jpg  \n",
        "2        gogh_van_02_nuenen16.jpg  rembrand_21portra_06portrb.jpg  \n",
        "3    rubens_7graphic_11sketc1.jpg    rubens_7graphic_24drawin.jpg  \n",
        "4        gogh_van_16_selfpo13.jpg        gogh_van_16_selfpo09.jpg  "
       ]
      }
     ],
     "prompt_number": 13
    },
    {
     "cell_type": "code",
     "collapsed": false,
     "input": [
      "# accuracy for the validation set\n",
      "model.score(X_val,y_val)\n"
     ],
     "language": "python",
     "metadata": {},
     "outputs": [
      {
       "metadata": {},
       "output_type": "pyout",
       "prompt_number": 14,
       "text": [
        "0.68243243243243246"
       ]
      }
     ],
     "prompt_number": 14
    },
    {
     "cell_type": "code",
     "collapsed": false,
     "input": [
      "# accuracy for the trianing set\n",
      "model.score(X_train,y_train)\n"
     ],
     "language": "python",
     "metadata": {},
     "outputs": [
      {
       "metadata": {},
       "output_type": "pyout",
       "prompt_number": 16,
       "text": [
        "0.63451776649746194"
       ]
      }
     ],
     "prompt_number": 16
    },
    {
     "cell_type": "code",
     "collapsed": false,
     "input": [
      "test_data_img = test_data['images_colors']\n",
      "test_labels = test_data['short_name']\n",
      "test_data_predictions = model.predict(test_data_img)\n",
      "rslt = test_labels  == test_data_predictions\n",
      "\n",
      "new_data_df = pd.DataFrame()\n",
      "new_data_df.insert(0,'actual',test_labels)\n",
      "new_data_df.insert(1,'predictions',test_data_predictions)\n",
      "new_data_df.insert(2,'results',rslt)\n",
      "\n",
      "print \"Accuracy of the Model:\" + str(model.score(test_data_img, test_labels))\n",
      "\n",
      "new_data_df"
     ],
     "language": "python",
     "metadata": {},
     "outputs": [
      {
       "output_type": "stream",
       "stream": "stdout",
       "text": [
        "Accuracy of the Model:0.255125284738\n"
       ]
      },
      {
       "html": [
        "<div style=\"max-width:1500px;overflow:auto;\">\n",
        "<table border=\"1\" class=\"dataframe\">\n",
        "  <thead>\n",
        "    <tr style=\"text-align: right;\">\n",
        "      <th></th>\n",
        "      <th>actual</th>\n",
        "      <th>predictions</th>\n",
        "      <th>results</th>\n",
        "    </tr>\n",
        "  </thead>\n",
        "  <tbody>\n",
        "    <tr>\n",
        "      <th>1</th>\n",
        "      <td>renoir</td>\n",
        "      <td>gogh_van</td>\n",
        "      <td>False</td>\n",
        "    </tr>\n",
        "    <tr>\n",
        "      <th>2</th>\n",
        "      <td>lippi__filippo</td>\n",
        "      <td>gogh_van</td>\n",
        "      <td>False</td>\n",
        "    </tr>\n",
        "    <tr>\n",
        "      <th>3</th>\n",
        "      <td>goya</td>\n",
        "      <td>gogh_van</td>\n",
        "      <td>False</td>\n",
        "    </tr>\n",
        "    <tr>\n",
        "      <th>5</th>\n",
        "      <td>rubens</td>\n",
        "      <td>gogh_van</td>\n",
        "      <td>False</td>\n",
        "    </tr>\n",
        "    <tr>\n",
        "      <th>6</th>\n",
        "      <td>monet</td>\n",
        "      <td>gogh_van</td>\n",
        "      <td>False</td>\n",
        "    </tr>\n",
        "    <tr>\n",
        "      <th>7</th>\n",
        "      <td>mantegna</td>\n",
        "      <td>gogh_van</td>\n",
        "      <td>False</td>\n",
        "    </tr>\n",
        "    <tr>\n",
        "      <th>8</th>\n",
        "      <td>leonardo</td>\n",
        "      <td>gogh_van</td>\n",
        "      <td>False</td>\n",
        "    </tr>\n",
        "    <tr>\n",
        "      <th>9</th>\n",
        "      <td>caravagg</td>\n",
        "      <td>rembrand</td>\n",
        "      <td>False</td>\n",
        "    </tr>\n",
        "    <tr>\n",
        "      <th>10</th>\n",
        "      <td>angelico</td>\n",
        "      <td>gogh_van</td>\n",
        "      <td>False</td>\n",
        "    </tr>\n",
        "    <tr>\n",
        "      <th>11</th>\n",
        "      <td>rubens</td>\n",
        "      <td>gogh_van</td>\n",
        "      <td>False</td>\n",
        "    </tr>\n",
        "    <tr>\n",
        "      <th>12</th>\n",
        "      <td>monet</td>\n",
        "      <td>gogh_van</td>\n",
        "      <td>False</td>\n",
        "    </tr>\n",
        "    <tr>\n",
        "      <th>13</th>\n",
        "      <td>lippi__filippo</td>\n",
        "      <td>gogh_van</td>\n",
        "      <td>False</td>\n",
        "    </tr>\n",
        "    <tr>\n",
        "      <th>14</th>\n",
        "      <td>gogh_van</td>\n",
        "      <td>gogh_van</td>\n",
        "      <td>True</td>\n",
        "    </tr>\n",
        "    <tr>\n",
        "      <th>16</th>\n",
        "      <td>monet</td>\n",
        "      <td>gogh_van</td>\n",
        "      <td>False</td>\n",
        "    </tr>\n",
        "    <tr>\n",
        "      <th>17</th>\n",
        "      <td>degas</td>\n",
        "      <td>gogh_van</td>\n",
        "      <td>False</td>\n",
        "    </tr>\n",
        "    <tr>\n",
        "      <th>18</th>\n",
        "      <td>goya</td>\n",
        "      <td>rembrand</td>\n",
        "      <td>False</td>\n",
        "    </tr>\n",
        "    <tr>\n",
        "      <th>19</th>\n",
        "      <td>gogh_van</td>\n",
        "      <td>gogh_van</td>\n",
        "      <td>True</td>\n",
        "    </tr>\n",
        "    <tr>\n",
        "      <th>20</th>\n",
        "      <td>leonardo</td>\n",
        "      <td>gogh_van</td>\n",
        "      <td>False</td>\n",
        "    </tr>\n",
        "    <tr>\n",
        "      <th>21</th>\n",
        "      <td>gogh_van</td>\n",
        "      <td>gogh_van</td>\n",
        "      <td>True</td>\n",
        "    </tr>\n",
        "    <tr>\n",
        "      <th>22</th>\n",
        "      <td>rembrand</td>\n",
        "      <td>rembrand</td>\n",
        "      <td>True</td>\n",
        "    </tr>\n",
        "    <tr>\n",
        "      <th>23</th>\n",
        "      <td>rembrand</td>\n",
        "      <td>rembrand</td>\n",
        "      <td>True</td>\n",
        "    </tr>\n",
        "    <tr>\n",
        "      <th>24</th>\n",
        "      <td>rubens</td>\n",
        "      <td>gogh_van</td>\n",
        "      <td>False</td>\n",
        "    </tr>\n",
        "    <tr>\n",
        "      <th>25</th>\n",
        "      <td>rubens</td>\n",
        "      <td>gogh_van</td>\n",
        "      <td>False</td>\n",
        "    </tr>\n",
        "    <tr>\n",
        "      <th>26</th>\n",
        "      <td>gogh_van</td>\n",
        "      <td>gogh_van</td>\n",
        "      <td>True</td>\n",
        "    </tr>\n",
        "    <tr>\n",
        "      <th>27</th>\n",
        "      <td>caravagg</td>\n",
        "      <td>rembrand</td>\n",
        "      <td>False</td>\n",
        "    </tr>\n",
        "    <tr>\n",
        "      <th>28</th>\n",
        "      <td>caravagg</td>\n",
        "      <td>rembrand</td>\n",
        "      <td>False</td>\n",
        "    </tr>\n",
        "    <tr>\n",
        "      <th>29</th>\n",
        "      <td>manet</td>\n",
        "      <td>gogh_van</td>\n",
        "      <td>False</td>\n",
        "    </tr>\n",
        "    <tr>\n",
        "      <th>30</th>\n",
        "      <td>rubens</td>\n",
        "      <td>rembrand</td>\n",
        "      <td>False</td>\n",
        "    </tr>\n",
        "    <tr>\n",
        "      <th>31</th>\n",
        "      <td>leonardo</td>\n",
        "      <td>gogh_van</td>\n",
        "      <td>False</td>\n",
        "    </tr>\n",
        "    <tr>\n",
        "      <th>32</th>\n",
        "      <td>gogh_van</td>\n",
        "      <td>gogh_van</td>\n",
        "      <td>True</td>\n",
        "    </tr>\n",
        "    <tr>\n",
        "      <th>...</th>\n",
        "      <td>...</td>\n",
        "      <td>...</td>\n",
        "      <td>...</td>\n",
        "    </tr>\n",
        "    <tr>\n",
        "      <th>435</th>\n",
        "      <td>rembrand</td>\n",
        "      <td>rembrand</td>\n",
        "      <td>True</td>\n",
        "    </tr>\n",
        "    <tr>\n",
        "      <th>436</th>\n",
        "      <td>mantegna</td>\n",
        "      <td>gogh_van</td>\n",
        "      <td>False</td>\n",
        "    </tr>\n",
        "    <tr>\n",
        "      <th>437</th>\n",
        "      <td>caravagg</td>\n",
        "      <td>rembrand</td>\n",
        "      <td>False</td>\n",
        "    </tr>\n",
        "    <tr>\n",
        "      <th>438</th>\n",
        "      <td>degas</td>\n",
        "      <td>gogh_van</td>\n",
        "      <td>False</td>\n",
        "    </tr>\n",
        "    <tr>\n",
        "      <th>439</th>\n",
        "      <td>degas</td>\n",
        "      <td>gogh_van</td>\n",
        "      <td>False</td>\n",
        "    </tr>\n",
        "    <tr>\n",
        "      <th>440</th>\n",
        "      <td>goya</td>\n",
        "      <td>rembrand</td>\n",
        "      <td>False</td>\n",
        "    </tr>\n",
        "    <tr>\n",
        "      <th>441</th>\n",
        "      <td>cezanne</td>\n",
        "      <td>gogh_van</td>\n",
        "      <td>False</td>\n",
        "    </tr>\n",
        "    <tr>\n",
        "      <th>442</th>\n",
        "      <td>monet</td>\n",
        "      <td>gogh_van</td>\n",
        "      <td>False</td>\n",
        "    </tr>\n",
        "    <tr>\n",
        "      <th>443</th>\n",
        "      <td>monet</td>\n",
        "      <td>gogh_van</td>\n",
        "      <td>False</td>\n",
        "    </tr>\n",
        "    <tr>\n",
        "      <th>444</th>\n",
        "      <td>rembrand</td>\n",
        "      <td>rembrand</td>\n",
        "      <td>True</td>\n",
        "    </tr>\n",
        "    <tr>\n",
        "      <th>445</th>\n",
        "      <td>rubens</td>\n",
        "      <td>rubens</td>\n",
        "      <td>True</td>\n",
        "    </tr>\n",
        "    <tr>\n",
        "      <th>446</th>\n",
        "      <td>cezanne</td>\n",
        "      <td>rembrand</td>\n",
        "      <td>False</td>\n",
        "    </tr>\n",
        "    <tr>\n",
        "      <th>447</th>\n",
        "      <td>caravagg</td>\n",
        "      <td>rembrand</td>\n",
        "      <td>False</td>\n",
        "    </tr>\n",
        "    <tr>\n",
        "      <th>448</th>\n",
        "      <td>rembrand</td>\n",
        "      <td>rembrand</td>\n",
        "      <td>True</td>\n",
        "    </tr>\n",
        "    <tr>\n",
        "      <th>449</th>\n",
        "      <td>rembrand</td>\n",
        "      <td>rembrand</td>\n",
        "      <td>True</td>\n",
        "    </tr>\n",
        "    <tr>\n",
        "      <th>450</th>\n",
        "      <td>caravagg</td>\n",
        "      <td>rembrand</td>\n",
        "      <td>False</td>\n",
        "    </tr>\n",
        "    <tr>\n",
        "      <th>451</th>\n",
        "      <td>renoir</td>\n",
        "      <td>gogh_van</td>\n",
        "      <td>False</td>\n",
        "    </tr>\n",
        "    <tr>\n",
        "      <th>452</th>\n",
        "      <td>cezanne</td>\n",
        "      <td>gogh_van</td>\n",
        "      <td>False</td>\n",
        "    </tr>\n",
        "    <tr>\n",
        "      <th>453</th>\n",
        "      <td>renoir</td>\n",
        "      <td>gogh_van</td>\n",
        "      <td>False</td>\n",
        "    </tr>\n",
        "    <tr>\n",
        "      <th>454</th>\n",
        "      <td>rubens</td>\n",
        "      <td>gogh_van</td>\n",
        "      <td>False</td>\n",
        "    </tr>\n",
        "    <tr>\n",
        "      <th>455</th>\n",
        "      <td>manet</td>\n",
        "      <td>gogh_van</td>\n",
        "      <td>False</td>\n",
        "    </tr>\n",
        "    <tr>\n",
        "      <th>456</th>\n",
        "      <td>rembrand</td>\n",
        "      <td>rembrand</td>\n",
        "      <td>True</td>\n",
        "    </tr>\n",
        "    <tr>\n",
        "      <th>457</th>\n",
        "      <td>angelico</td>\n",
        "      <td>gogh_van</td>\n",
        "      <td>False</td>\n",
        "    </tr>\n",
        "    <tr>\n",
        "      <th>458</th>\n",
        "      <td>leonardo</td>\n",
        "      <td>gogh_van</td>\n",
        "      <td>False</td>\n",
        "    </tr>\n",
        "    <tr>\n",
        "      <th>459</th>\n",
        "      <td>rubens</td>\n",
        "      <td>gogh_van</td>\n",
        "      <td>False</td>\n",
        "    </tr>\n",
        "    <tr>\n",
        "      <th>460</th>\n",
        "      <td>rubens</td>\n",
        "      <td>gogh_van</td>\n",
        "      <td>False</td>\n",
        "    </tr>\n",
        "    <tr>\n",
        "      <th>461</th>\n",
        "      <td>rembrand</td>\n",
        "      <td>rembrand</td>\n",
        "      <td>True</td>\n",
        "    </tr>\n",
        "    <tr>\n",
        "      <th>462</th>\n",
        "      <td>degas</td>\n",
        "      <td>gogh_van</td>\n",
        "      <td>False</td>\n",
        "    </tr>\n",
        "    <tr>\n",
        "      <th>463</th>\n",
        "      <td>rubens</td>\n",
        "      <td>rembrand</td>\n",
        "      <td>False</td>\n",
        "    </tr>\n",
        "    <tr>\n",
        "      <th>464</th>\n",
        "      <td>caravagg</td>\n",
        "      <td>rembrand</td>\n",
        "      <td>False</td>\n",
        "    </tr>\n",
        "  </tbody>\n",
        "</table>\n",
        "<p>439 rows \u00d7 3 columns</p>\n",
        "</div>"
       ],
       "metadata": {},
       "output_type": "pyout",
       "prompt_number": 24,
       "text": [
        "             actual predictions results\n",
        "1            renoir    gogh_van   False\n",
        "2    lippi__filippo    gogh_van   False\n",
        "3              goya    gogh_van   False\n",
        "5            rubens    gogh_van   False\n",
        "6             monet    gogh_van   False\n",
        "7          mantegna    gogh_van   False\n",
        "8          leonardo    gogh_van   False\n",
        "9          caravagg    rembrand   False\n",
        "10         angelico    gogh_van   False\n",
        "11           rubens    gogh_van   False\n",
        "12            monet    gogh_van   False\n",
        "13   lippi__filippo    gogh_van   False\n",
        "14         gogh_van    gogh_van    True\n",
        "16            monet    gogh_van   False\n",
        "17            degas    gogh_van   False\n",
        "18             goya    rembrand   False\n",
        "19         gogh_van    gogh_van    True\n",
        "20         leonardo    gogh_van   False\n",
        "21         gogh_van    gogh_van    True\n",
        "22         rembrand    rembrand    True\n",
        "23         rembrand    rembrand    True\n",
        "24           rubens    gogh_van   False\n",
        "25           rubens    gogh_van   False\n",
        "26         gogh_van    gogh_van    True\n",
        "27         caravagg    rembrand   False\n",
        "28         caravagg    rembrand   False\n",
        "29            manet    gogh_van   False\n",
        "30           rubens    rembrand   False\n",
        "31         leonardo    gogh_van   False\n",
        "32         gogh_van    gogh_van    True\n",
        "..              ...         ...     ...\n",
        "435        rembrand    rembrand    True\n",
        "436        mantegna    gogh_van   False\n",
        "437        caravagg    rembrand   False\n",
        "438           degas    gogh_van   False\n",
        "439           degas    gogh_van   False\n",
        "440            goya    rembrand   False\n",
        "441         cezanne    gogh_van   False\n",
        "442           monet    gogh_van   False\n",
        "443           monet    gogh_van   False\n",
        "444        rembrand    rembrand    True\n",
        "445          rubens      rubens    True\n",
        "446         cezanne    rembrand   False\n",
        "447        caravagg    rembrand   False\n",
        "448        rembrand    rembrand    True\n",
        "449        rembrand    rembrand    True\n",
        "450        caravagg    rembrand   False\n",
        "451          renoir    gogh_van   False\n",
        "452         cezanne    gogh_van   False\n",
        "453          renoir    gogh_van   False\n",
        "454          rubens    gogh_van   False\n",
        "455           manet    gogh_van   False\n",
        "456        rembrand    rembrand    True\n",
        "457        angelico    gogh_van   False\n",
        "458        leonardo    gogh_van   False\n",
        "459          rubens    gogh_van   False\n",
        "460          rubens    gogh_van   False\n",
        "461        rembrand    rembrand    True\n",
        "462           degas    gogh_van   False\n",
        "463          rubens    rembrand   False\n",
        "464        caravagg    rembrand   False\n",
        "\n",
        "[439 rows x 3 columns]"
       ]
      }
     ],
     "prompt_number": 24
    },
    {
     "cell_type": "code",
     "collapsed": false,
     "input": [
      "prediction_nearest_neighbors = pd.DataFrame(model.kneighbors(test_data_img, n_neighbors=107, return_distance=False))\n",
      "prediction_nearest_neighbors"
     ],
     "language": "python",
     "metadata": {},
     "outputs": [
      {
       "html": [
        "<div style=\"max-width:1500px;overflow:auto;\">\n",
        "<table border=\"1\" class=\"dataframe\">\n",
        "  <thead>\n",
        "    <tr style=\"text-align: right;\">\n",
        "      <th></th>\n",
        "      <th>0</th>\n",
        "      <th>1</th>\n",
        "      <th>2</th>\n",
        "      <th>3</th>\n",
        "      <th>4</th>\n",
        "      <th>5</th>\n",
        "      <th>6</th>\n",
        "      <th>7</th>\n",
        "      <th>8</th>\n",
        "      <th>9</th>\n",
        "      <th>...</th>\n",
        "      <th>97</th>\n",
        "      <th>98</th>\n",
        "      <th>99</th>\n",
        "      <th>100</th>\n",
        "      <th>101</th>\n",
        "      <th>102</th>\n",
        "      <th>103</th>\n",
        "      <th>104</th>\n",
        "      <th>105</th>\n",
        "      <th>106</th>\n",
        "    </tr>\n",
        "  </thead>\n",
        "  <tbody>\n",
        "    <tr>\n",
        "      <th>0</th>\n",
        "      <td>551</td>\n",
        "      <td>156</td>\n",
        "      <td>129</td>\n",
        "      <td>267</td>\n",
        "      <td>108</td>\n",
        "      <td>498</td>\n",
        "      <td>335</td>\n",
        "      <td>210</td>\n",
        "      <td>319</td>\n",
        "      <td>417</td>\n",
        "      <td>...</td>\n",
        "      <td>332</td>\n",
        "      <td>193</td>\n",
        "      <td>370</td>\n",
        "      <td>256</td>\n",
        "      <td>200</td>\n",
        "      <td>131</td>\n",
        "      <td>467</td>\n",
        "      <td>433</td>\n",
        "      <td>585</td>\n",
        "      <td>57</td>\n",
        "    </tr>\n",
        "    <tr>\n",
        "      <th>1</th>\n",
        "      <td>98</td>\n",
        "      <td>0</td>\n",
        "      <td>526</td>\n",
        "      <td>387</td>\n",
        "      <td>574</td>\n",
        "      <td>272</td>\n",
        "      <td>170</td>\n",
        "      <td>579</td>\n",
        "      <td>35</td>\n",
        "      <td>385</td>\n",
        "      <td>...</td>\n",
        "      <td>208</td>\n",
        "      <td>519</td>\n",
        "      <td>550</td>\n",
        "      <td>339</td>\n",
        "      <td>411</td>\n",
        "      <td>244</td>\n",
        "      <td>543</td>\n",
        "      <td>78</td>\n",
        "      <td>121</td>\n",
        "      <td>185</td>\n",
        "    </tr>\n",
        "    <tr>\n",
        "      <th>2</th>\n",
        "      <td>30</td>\n",
        "      <td>169</td>\n",
        "      <td>589</td>\n",
        "      <td>514</td>\n",
        "      <td>392</td>\n",
        "      <td>562</td>\n",
        "      <td>121</td>\n",
        "      <td>251</td>\n",
        "      <td>329</td>\n",
        "      <td>539</td>\n",
        "      <td>...</td>\n",
        "      <td>356</td>\n",
        "      <td>140</td>\n",
        "      <td>181</td>\n",
        "      <td>184</td>\n",
        "      <td>396</td>\n",
        "      <td>165</td>\n",
        "      <td>452</td>\n",
        "      <td>89</td>\n",
        "      <td>284</td>\n",
        "      <td>125</td>\n",
        "    </tr>\n",
        "    <tr>\n",
        "      <th>3</th>\n",
        "      <td>198</td>\n",
        "      <td>277</td>\n",
        "      <td>514</td>\n",
        "      <td>323</td>\n",
        "      <td>382</td>\n",
        "      <td>413</td>\n",
        "      <td>392</td>\n",
        "      <td>281</td>\n",
        "      <td>148</td>\n",
        "      <td>562</td>\n",
        "      <td>...</td>\n",
        "      <td>248</td>\n",
        "      <td>301</td>\n",
        "      <td>563</td>\n",
        "      <td>60</td>\n",
        "      <td>481</td>\n",
        "      <td>424</td>\n",
        "      <td>559</td>\n",
        "      <td>431</td>\n",
        "      <td>29</td>\n",
        "      <td>173</td>\n",
        "    </tr>\n",
        "    <tr>\n",
        "      <th>4</th>\n",
        "      <td>210</td>\n",
        "      <td>35</td>\n",
        "      <td>526</td>\n",
        "      <td>0</td>\n",
        "      <td>551</td>\n",
        "      <td>145</td>\n",
        "      <td>344</td>\n",
        "      <td>385</td>\n",
        "      <td>300</td>\n",
        "      <td>134</td>\n",
        "      <td>...</td>\n",
        "      <td>133</td>\n",
        "      <td>367</td>\n",
        "      <td>522</td>\n",
        "      <td>27</td>\n",
        "      <td>291</td>\n",
        "      <td>413</td>\n",
        "      <td>57</td>\n",
        "      <td>51</td>\n",
        "      <td>332</td>\n",
        "      <td>264</td>\n",
        "    </tr>\n",
        "    <tr>\n",
        "      <th>5</th>\n",
        "      <td>589</td>\n",
        "      <td>551</td>\n",
        "      <td>67</td>\n",
        "      <td>583</td>\n",
        "      <td>514</td>\n",
        "      <td>467</td>\n",
        "      <td>507</td>\n",
        "      <td>452</td>\n",
        "      <td>131</td>\n",
        "      <td>51</td>\n",
        "      <td>...</td>\n",
        "      <td>127</td>\n",
        "      <td>208</td>\n",
        "      <td>59</td>\n",
        "      <td>264</td>\n",
        "      <td>86</td>\n",
        "      <td>90</td>\n",
        "      <td>378</td>\n",
        "      <td>559</td>\n",
        "      <td>145</td>\n",
        "      <td>265</td>\n",
        "    </tr>\n",
        "    <tr>\n",
        "      <th>6</th>\n",
        "      <td>267</td>\n",
        "      <td>551</td>\n",
        "      <td>514</td>\n",
        "      <td>170</td>\n",
        "      <td>210</td>\n",
        "      <td>156</td>\n",
        "      <td>246</td>\n",
        "      <td>168</td>\n",
        "      <td>108</td>\n",
        "      <td>102</td>\n",
        "      <td>...</td>\n",
        "      <td>413</td>\n",
        "      <td>550</td>\n",
        "      <td>279</td>\n",
        "      <td>250</td>\n",
        "      <td>134</td>\n",
        "      <td>131</td>\n",
        "      <td>487</td>\n",
        "      <td>54</td>\n",
        "      <td>392</td>\n",
        "      <td>264</td>\n",
        "    </tr>\n",
        "    <tr>\n",
        "      <th>7</th>\n",
        "      <td>557</td>\n",
        "      <td>500</td>\n",
        "      <td>21</td>\n",
        "      <td>179</td>\n",
        "      <td>325</td>\n",
        "      <td>8</td>\n",
        "      <td>468</td>\n",
        "      <td>315</td>\n",
        "      <td>285</td>\n",
        "      <td>523</td>\n",
        "      <td>...</td>\n",
        "      <td>172</td>\n",
        "      <td>408</td>\n",
        "      <td>159</td>\n",
        "      <td>88</td>\n",
        "      <td>302</td>\n",
        "      <td>150</td>\n",
        "      <td>416</td>\n",
        "      <td>278</td>\n",
        "      <td>43</td>\n",
        "      <td>414</td>\n",
        "    </tr>\n",
        "    <tr>\n",
        "      <th>8</th>\n",
        "      <td>170</td>\n",
        "      <td>35</td>\n",
        "      <td>427</td>\n",
        "      <td>348</td>\n",
        "      <td>146</td>\n",
        "      <td>526</td>\n",
        "      <td>98</td>\n",
        "      <td>215</td>\n",
        "      <td>320</td>\n",
        "      <td>236</td>\n",
        "      <td>...</td>\n",
        "      <td>378</td>\n",
        "      <td>507</td>\n",
        "      <td>574</td>\n",
        "      <td>116</td>\n",
        "      <td>249</td>\n",
        "      <td>370</td>\n",
        "      <td>483</td>\n",
        "      <td>258</td>\n",
        "      <td>9</td>\n",
        "      <td>160</td>\n",
        "    </tr>\n",
        "    <tr>\n",
        "      <th>9</th>\n",
        "      <td>514</td>\n",
        "      <td>551</td>\n",
        "      <td>129</td>\n",
        "      <td>57</td>\n",
        "      <td>62</td>\n",
        "      <td>498</td>\n",
        "      <td>562</td>\n",
        "      <td>507</td>\n",
        "      <td>108</td>\n",
        "      <td>121</td>\n",
        "      <td>...</td>\n",
        "      <td>317</td>\n",
        "      <td>27</td>\n",
        "      <td>550</td>\n",
        "      <td>95</td>\n",
        "      <td>573</td>\n",
        "      <td>273</td>\n",
        "      <td>433</td>\n",
        "      <td>168</td>\n",
        "      <td>146</td>\n",
        "      <td>431</td>\n",
        "    </tr>\n",
        "    <tr>\n",
        "      <th>10</th>\n",
        "      <td>551</td>\n",
        "      <td>129</td>\n",
        "      <td>323</td>\n",
        "      <td>307</td>\n",
        "      <td>413</td>\n",
        "      <td>589</td>\n",
        "      <td>498</td>\n",
        "      <td>329</td>\n",
        "      <td>365</td>\n",
        "      <td>37</td>\n",
        "      <td>...</td>\n",
        "      <td>481</td>\n",
        "      <td>238</td>\n",
        "      <td>281</td>\n",
        "      <td>95</td>\n",
        "      <td>356</td>\n",
        "      <td>561</td>\n",
        "      <td>392</td>\n",
        "      <td>335</td>\n",
        "      <td>458</td>\n",
        "      <td>242</td>\n",
        "    </tr>\n",
        "    <tr>\n",
        "      <th>11</th>\n",
        "      <td>323</td>\n",
        "      <td>382</td>\n",
        "      <td>481</td>\n",
        "      <td>90</td>\n",
        "      <td>551</td>\n",
        "      <td>467</td>\n",
        "      <td>413</td>\n",
        "      <td>495</td>\n",
        "      <td>69</td>\n",
        "      <td>67</td>\n",
        "      <td>...</td>\n",
        "      <td>267</td>\n",
        "      <td>487</td>\n",
        "      <td>388</td>\n",
        "      <td>159</td>\n",
        "      <td>97</td>\n",
        "      <td>192</td>\n",
        "      <td>562</td>\n",
        "      <td>276</td>\n",
        "      <td>259</td>\n",
        "      <td>417</td>\n",
        "    </tr>\n",
        "    <tr>\n",
        "      <th>12</th>\n",
        "      <td>121</td>\n",
        "      <td>133</td>\n",
        "      <td>514</td>\n",
        "      <td>550</td>\n",
        "      <td>418</td>\n",
        "      <td>426</td>\n",
        "      <td>35</td>\n",
        "      <td>427</td>\n",
        "      <td>466</td>\n",
        "      <td>47</td>\n",
        "      <td>...</td>\n",
        "      <td>15</td>\n",
        "      <td>348</td>\n",
        "      <td>272</td>\n",
        "      <td>208</td>\n",
        "      <td>417</td>\n",
        "      <td>583</td>\n",
        "      <td>587</td>\n",
        "      <td>156</td>\n",
        "      <td>540</td>\n",
        "      <td>9</td>\n",
        "    </tr>\n",
        "    <tr>\n",
        "      <th>13</th>\n",
        "      <td>574</td>\n",
        "      <td>272</td>\n",
        "      <td>96</td>\n",
        "      <td>0</td>\n",
        "      <td>294</td>\n",
        "      <td>98</td>\n",
        "      <td>371</td>\n",
        "      <td>387</td>\n",
        "      <td>579</td>\n",
        "      <td>350</td>\n",
        "      <td>...</td>\n",
        "      <td>478</td>\n",
        "      <td>514</td>\n",
        "      <td>280</td>\n",
        "      <td>575</td>\n",
        "      <td>339</td>\n",
        "      <td>456</td>\n",
        "      <td>197</td>\n",
        "      <td>551</td>\n",
        "      <td>457</td>\n",
        "      <td>561</td>\n",
        "    </tr>\n",
        "    <tr>\n",
        "      <th>14</th>\n",
        "      <td>551</td>\n",
        "      <td>382</td>\n",
        "      <td>452</td>\n",
        "      <td>323</td>\n",
        "      <td>433</td>\n",
        "      <td>67</td>\n",
        "      <td>495</td>\n",
        "      <td>467</td>\n",
        "      <td>83</td>\n",
        "      <td>481</td>\n",
        "      <td>...</td>\n",
        "      <td>200</td>\n",
        "      <td>281</td>\n",
        "      <td>477</td>\n",
        "      <td>303</td>\n",
        "      <td>97</td>\n",
        "      <td>276</td>\n",
        "      <td>167</td>\n",
        "      <td>204</td>\n",
        "      <td>315</td>\n",
        "      <td>163</td>\n",
        "    </tr>\n",
        "    <tr>\n",
        "      <th>15</th>\n",
        "      <td>469</td>\n",
        "      <td>298</td>\n",
        "      <td>2</td>\n",
        "      <td>278</td>\n",
        "      <td>481</td>\n",
        "      <td>407</td>\n",
        "      <td>479</td>\n",
        "      <td>188</td>\n",
        "      <td>454</td>\n",
        "      <td>202</td>\n",
        "      <td>...</td>\n",
        "      <td>440</td>\n",
        "      <td>262</td>\n",
        "      <td>142</td>\n",
        "      <td>73</td>\n",
        "      <td>295</td>\n",
        "      <td>477</td>\n",
        "      <td>228</td>\n",
        "      <td>179</td>\n",
        "      <td>257</td>\n",
        "      <td>180</td>\n",
        "    </tr>\n",
        "    <tr>\n",
        "      <th>16</th>\n",
        "      <td>481</td>\n",
        "      <td>551</td>\n",
        "      <td>67</td>\n",
        "      <td>452</td>\n",
        "      <td>495</td>\n",
        "      <td>248</td>\n",
        "      <td>433</td>\n",
        "      <td>83</td>\n",
        "      <td>172</td>\n",
        "      <td>77</td>\n",
        "      <td>...</td>\n",
        "      <td>311</td>\n",
        "      <td>407</td>\n",
        "      <td>568</td>\n",
        "      <td>477</td>\n",
        "      <td>202</td>\n",
        "      <td>156</td>\n",
        "      <td>200</td>\n",
        "      <td>189</td>\n",
        "      <td>476</td>\n",
        "      <td>190</td>\n",
        "    </tr>\n",
        "    <tr>\n",
        "      <th>17</th>\n",
        "      <td>272</td>\n",
        "      <td>294</td>\n",
        "      <td>96</td>\n",
        "      <td>170</td>\n",
        "      <td>98</td>\n",
        "      <td>0</td>\n",
        "      <td>574</td>\n",
        "      <td>587</td>\n",
        "      <td>387</td>\n",
        "      <td>348</td>\n",
        "      <td>...</td>\n",
        "      <td>343</td>\n",
        "      <td>540</td>\n",
        "      <td>208</td>\n",
        "      <td>466</td>\n",
        "      <td>529</td>\n",
        "      <td>478</td>\n",
        "      <td>136</td>\n",
        "      <td>327</td>\n",
        "      <td>160</td>\n",
        "      <td>332</td>\n",
        "    </tr>\n",
        "    <tr>\n",
        "      <th>18</th>\n",
        "      <td>551</td>\n",
        "      <td>540</td>\n",
        "      <td>108</td>\n",
        "      <td>267</td>\n",
        "      <td>210</td>\n",
        "      <td>335</td>\n",
        "      <td>561</td>\n",
        "      <td>246</td>\n",
        "      <td>156</td>\n",
        "      <td>301</td>\n",
        "      <td>...</td>\n",
        "      <td>413</td>\n",
        "      <td>22</td>\n",
        "      <td>467</td>\n",
        "      <td>443</td>\n",
        "      <td>273</td>\n",
        "      <td>200</td>\n",
        "      <td>330</td>\n",
        "      <td>420</td>\n",
        "      <td>371</td>\n",
        "      <td>539</td>\n",
        "    </tr>\n",
        "    <tr>\n",
        "      <th>19</th>\n",
        "      <td>564</td>\n",
        "      <td>451</td>\n",
        "      <td>282</td>\n",
        "      <td>345</td>\n",
        "      <td>70</td>\n",
        "      <td>410</td>\n",
        "      <td>221</td>\n",
        "      <td>326</td>\n",
        "      <td>492</td>\n",
        "      <td>412</td>\n",
        "      <td>...</td>\n",
        "      <td>286</td>\n",
        "      <td>549</td>\n",
        "      <td>384</td>\n",
        "      <td>342</td>\n",
        "      <td>88</td>\n",
        "      <td>127</td>\n",
        "      <td>337</td>\n",
        "      <td>347</td>\n",
        "      <td>555</td>\n",
        "      <td>502</td>\n",
        "    </tr>\n",
        "    <tr>\n",
        "      <th>20</th>\n",
        "      <td>83</td>\n",
        "      <td>159</td>\n",
        "      <td>172</td>\n",
        "      <td>424</td>\n",
        "      <td>2</td>\n",
        "      <td>568</td>\n",
        "      <td>259</td>\n",
        "      <td>262</td>\n",
        "      <td>422</td>\n",
        "      <td>481</td>\n",
        "      <td>...</td>\n",
        "      <td>442</td>\n",
        "      <td>182</td>\n",
        "      <td>180</td>\n",
        "      <td>477</td>\n",
        "      <td>179</td>\n",
        "      <td>406</td>\n",
        "      <td>123</td>\n",
        "      <td>216</td>\n",
        "      <td>440</td>\n",
        "      <td>464</td>\n",
        "    </tr>\n",
        "    <tr>\n",
        "      <th>21</th>\n",
        "      <td>551</td>\n",
        "      <td>18</td>\n",
        "      <td>323</td>\n",
        "      <td>355</td>\n",
        "      <td>25</td>\n",
        "      <td>417</td>\n",
        "      <td>460</td>\n",
        "      <td>108</td>\n",
        "      <td>413</td>\n",
        "      <td>210</td>\n",
        "      <td>...</td>\n",
        "      <td>300</td>\n",
        "      <td>392</td>\n",
        "      <td>397</td>\n",
        "      <td>184</td>\n",
        "      <td>443</td>\n",
        "      <td>168</td>\n",
        "      <td>430</td>\n",
        "      <td>565</td>\n",
        "      <td>75</td>\n",
        "      <td>388</td>\n",
        "    </tr>\n",
        "    <tr>\n",
        "      <th>22</th>\n",
        "      <td>551</td>\n",
        "      <td>62</td>\n",
        "      <td>108</td>\n",
        "      <td>498</td>\n",
        "      <td>248</td>\n",
        "      <td>210</td>\n",
        "      <td>540</td>\n",
        "      <td>67</td>\n",
        "      <td>323</td>\n",
        "      <td>90</td>\n",
        "      <td>...</td>\n",
        "      <td>317</td>\n",
        "      <td>301</td>\n",
        "      <td>87</td>\n",
        "      <td>489</td>\n",
        "      <td>514</td>\n",
        "      <td>242</td>\n",
        "      <td>95</td>\n",
        "      <td>168</td>\n",
        "      <td>290</td>\n",
        "      <td>118</td>\n",
        "    </tr>\n",
        "    <tr>\n",
        "      <th>23</th>\n",
        "      <td>427</td>\n",
        "      <td>418</td>\n",
        "      <td>215</td>\n",
        "      <td>579</td>\n",
        "      <td>249</td>\n",
        "      <td>98</td>\n",
        "      <td>35</td>\n",
        "      <td>371</td>\n",
        "      <td>348</td>\n",
        "      <td>426</td>\n",
        "      <td>...</td>\n",
        "      <td>432</td>\n",
        "      <td>82</td>\n",
        "      <td>148</td>\n",
        "      <td>541</td>\n",
        "      <td>96</td>\n",
        "      <td>267</td>\n",
        "      <td>367</td>\n",
        "      <td>389</td>\n",
        "      <td>239</td>\n",
        "      <td>559</td>\n",
        "    </tr>\n",
        "    <tr>\n",
        "      <th>24</th>\n",
        "      <td>325</td>\n",
        "      <td>162</td>\n",
        "      <td>500</td>\n",
        "      <td>259</td>\n",
        "      <td>535</td>\n",
        "      <td>374</td>\n",
        "      <td>21</td>\n",
        "      <td>558</td>\n",
        "      <td>485</td>\n",
        "      <td>407</td>\n",
        "      <td>...</td>\n",
        "      <td>547</td>\n",
        "      <td>469</td>\n",
        "      <td>416</td>\n",
        "      <td>91</td>\n",
        "      <td>509</td>\n",
        "      <td>159</td>\n",
        "      <td>206</td>\n",
        "      <td>270</td>\n",
        "      <td>302</td>\n",
        "      <td>216</td>\n",
        "    </tr>\n",
        "    <tr>\n",
        "      <th>25</th>\n",
        "      <td>259</td>\n",
        "      <td>558</td>\n",
        "      <td>500</td>\n",
        "      <td>315</td>\n",
        "      <td>138</td>\n",
        "      <td>325</td>\n",
        "      <td>177</td>\n",
        "      <td>407</td>\n",
        "      <td>485</td>\n",
        "      <td>188</td>\n",
        "      <td>...</td>\n",
        "      <td>109</td>\n",
        "      <td>48</td>\n",
        "      <td>406</td>\n",
        "      <td>469</td>\n",
        "      <td>403</td>\n",
        "      <td>167</td>\n",
        "      <td>91</td>\n",
        "      <td>2</td>\n",
        "      <td>434</td>\n",
        "      <td>206</td>\n",
        "    </tr>\n",
        "    <tr>\n",
        "      <th>26</th>\n",
        "      <td>323</td>\n",
        "      <td>467</td>\n",
        "      <td>382</td>\n",
        "      <td>392</td>\n",
        "      <td>413</td>\n",
        "      <td>481</td>\n",
        "      <td>22</td>\n",
        "      <td>83</td>\n",
        "      <td>539</td>\n",
        "      <td>143</td>\n",
        "      <td>...</td>\n",
        "      <td>388</td>\n",
        "      <td>346</td>\n",
        "      <td>262</td>\n",
        "      <td>159</td>\n",
        "      <td>556</td>\n",
        "      <td>29</td>\n",
        "      <td>97</td>\n",
        "      <td>476</td>\n",
        "      <td>419</td>\n",
        "      <td>358</td>\n",
        "    </tr>\n",
        "    <tr>\n",
        "      <th>27</th>\n",
        "      <td>568</td>\n",
        "      <td>2</td>\n",
        "      <td>278</td>\n",
        "      <td>581</td>\n",
        "      <td>424</td>\n",
        "      <td>292</td>\n",
        "      <td>481</td>\n",
        "      <td>435</td>\n",
        "      <td>433</td>\n",
        "      <td>461</td>\n",
        "      <td>...</td>\n",
        "      <td>477</td>\n",
        "      <td>123</td>\n",
        "      <td>495</td>\n",
        "      <td>551</td>\n",
        "      <td>63</td>\n",
        "      <td>143</td>\n",
        "      <td>380</td>\n",
        "      <td>176</td>\n",
        "      <td>72</td>\n",
        "      <td>582</td>\n",
        "    </tr>\n",
        "    <tr>\n",
        "      <th>28</th>\n",
        "      <td>96</td>\n",
        "      <td>272</td>\n",
        "      <td>294</td>\n",
        "      <td>144</td>\n",
        "      <td>574</td>\n",
        "      <td>387</td>\n",
        "      <td>98</td>\n",
        "      <td>441</td>\n",
        "      <td>0</td>\n",
        "      <td>579</td>\n",
        "      <td>...</td>\n",
        "      <td>225</td>\n",
        "      <td>267</td>\n",
        "      <td>78</td>\n",
        "      <td>494</td>\n",
        "      <td>280</td>\n",
        "      <td>121</td>\n",
        "      <td>540</td>\n",
        "      <td>239</td>\n",
        "      <td>550</td>\n",
        "      <td>133</td>\n",
        "    </tr>\n",
        "    <tr>\n",
        "      <th>29</th>\n",
        "      <td>551</td>\n",
        "      <td>307</td>\n",
        "      <td>67</td>\n",
        "      <td>452</td>\n",
        "      <td>317</td>\n",
        "      <td>413</td>\n",
        "      <td>37</td>\n",
        "      <td>433</td>\n",
        "      <td>323</td>\n",
        "      <td>129</td>\n",
        "      <td>...</td>\n",
        "      <td>69</td>\n",
        "      <td>203</td>\n",
        "      <td>126</td>\n",
        "      <td>95</td>\n",
        "      <td>156</td>\n",
        "      <td>462</td>\n",
        "      <td>578</td>\n",
        "      <td>86</td>\n",
        "      <td>13</td>\n",
        "      <td>513</td>\n",
        "    </tr>\n",
        "    <tr>\n",
        "      <th>...</th>\n",
        "      <td>...</td>\n",
        "      <td>...</td>\n",
        "      <td>...</td>\n",
        "      <td>...</td>\n",
        "      <td>...</td>\n",
        "      <td>...</td>\n",
        "      <td>...</td>\n",
        "      <td>...</td>\n",
        "      <td>...</td>\n",
        "      <td>...</td>\n",
        "      <td>...</td>\n",
        "      <td>...</td>\n",
        "      <td>...</td>\n",
        "      <td>...</td>\n",
        "      <td>...</td>\n",
        "      <td>...</td>\n",
        "      <td>...</td>\n",
        "      <td>...</td>\n",
        "      <td>...</td>\n",
        "      <td>...</td>\n",
        "      <td>...</td>\n",
        "    </tr>\n",
        "    <tr>\n",
        "      <th>409</th>\n",
        "      <td>270</td>\n",
        "      <td>563</td>\n",
        "      <td>393</td>\n",
        "      <td>318</td>\n",
        "      <td>233</td>\n",
        "      <td>424</td>\n",
        "      <td>391</td>\n",
        "      <td>23</td>\n",
        "      <td>85</td>\n",
        "      <td>189</td>\n",
        "      <td>...</td>\n",
        "      <td>138</td>\n",
        "      <td>123</td>\n",
        "      <td>95</td>\n",
        "      <td>505</td>\n",
        "      <td>88</td>\n",
        "      <td>475</td>\n",
        "      <td>582</td>\n",
        "      <td>542</td>\n",
        "      <td>330</td>\n",
        "      <td>1</td>\n",
        "    </tr>\n",
        "    <tr>\n",
        "      <th>410</th>\n",
        "      <td>551</td>\n",
        "      <td>583</td>\n",
        "      <td>507</td>\n",
        "      <td>18</td>\n",
        "      <td>323</td>\n",
        "      <td>528</td>\n",
        "      <td>168</td>\n",
        "      <td>589</td>\n",
        "      <td>22</td>\n",
        "      <td>303</td>\n",
        "      <td>...</td>\n",
        "      <td>379</td>\n",
        "      <td>437</td>\n",
        "      <td>200</td>\n",
        "      <td>401</td>\n",
        "      <td>2</td>\n",
        "      <td>329</td>\n",
        "      <td>330</td>\n",
        "      <td>172</td>\n",
        "      <td>13</td>\n",
        "      <td>458</td>\n",
        "    </tr>\n",
        "    <tr>\n",
        "      <th>411</th>\n",
        "      <td>21</td>\n",
        "      <td>500</td>\n",
        "      <td>8</td>\n",
        "      <td>325</td>\n",
        "      <td>285</td>\n",
        "      <td>179</td>\n",
        "      <td>523</td>\n",
        "      <td>259</td>\n",
        "      <td>485</td>\n",
        "      <td>73</td>\n",
        "      <td>...</td>\n",
        "      <td>384</td>\n",
        "      <td>142</td>\n",
        "      <td>326</td>\n",
        "      <td>464</td>\n",
        "      <td>530</td>\n",
        "      <td>398</td>\n",
        "      <td>243</td>\n",
        "      <td>345</td>\n",
        "      <td>172</td>\n",
        "      <td>414</td>\n",
        "    </tr>\n",
        "    <tr>\n",
        "      <th>412</th>\n",
        "      <td>441</td>\n",
        "      <td>294</td>\n",
        "      <td>107</td>\n",
        "      <td>96</td>\n",
        "      <td>574</td>\n",
        "      <td>560</td>\n",
        "      <td>272</td>\n",
        "      <td>222</td>\n",
        "      <td>350</td>\n",
        "      <td>387</td>\n",
        "      <td>...</td>\n",
        "      <td>121</td>\n",
        "      <td>68</td>\n",
        "      <td>102</td>\n",
        "      <td>225</td>\n",
        "      <td>116</td>\n",
        "      <td>494</td>\n",
        "      <td>168</td>\n",
        "      <td>26</td>\n",
        "      <td>129</td>\n",
        "      <td>280</td>\n",
        "    </tr>\n",
        "    <tr>\n",
        "      <th>413</th>\n",
        "      <td>551</td>\n",
        "      <td>204</td>\n",
        "      <td>514</td>\n",
        "      <td>589</td>\n",
        "      <td>418</td>\n",
        "      <td>168</td>\n",
        "      <td>291</td>\n",
        "      <td>102</td>\n",
        "      <td>562</td>\n",
        "      <td>526</td>\n",
        "      <td>...</td>\n",
        "      <td>433</td>\n",
        "      <td>55</td>\n",
        "      <td>59</td>\n",
        "      <td>264</td>\n",
        "      <td>483</td>\n",
        "      <td>215</td>\n",
        "      <td>85</td>\n",
        "      <td>69</td>\n",
        "      <td>452</td>\n",
        "      <td>57</td>\n",
        "    </tr>\n",
        "    <tr>\n",
        "      <th>414</th>\n",
        "      <td>558</td>\n",
        "      <td>40</td>\n",
        "      <td>83</td>\n",
        "      <td>408</td>\n",
        "      <td>422</td>\n",
        "      <td>380</td>\n",
        "      <td>211</td>\n",
        "      <td>172</td>\n",
        "      <td>257</td>\n",
        "      <td>259</td>\n",
        "      <td>...</td>\n",
        "      <td>37</td>\n",
        "      <td>73</td>\n",
        "      <td>323</td>\n",
        "      <td>138</td>\n",
        "      <td>467</td>\n",
        "      <td>32</td>\n",
        "      <td>416</td>\n",
        "      <td>556</td>\n",
        "      <td>90</td>\n",
        "      <td>285</td>\n",
        "    </tr>\n",
        "    <tr>\n",
        "      <th>415</th>\n",
        "      <td>320</td>\n",
        "      <td>550</td>\n",
        "      <td>121</td>\n",
        "      <td>35</td>\n",
        "      <td>116</td>\n",
        "      <td>438</td>\n",
        "      <td>229</td>\n",
        "      <td>466</td>\n",
        "      <td>55</td>\n",
        "      <td>225</td>\n",
        "      <td>...</td>\n",
        "      <td>15</td>\n",
        "      <td>572</td>\n",
        "      <td>432</td>\n",
        "      <td>301</td>\n",
        "      <td>78</td>\n",
        "      <td>272</td>\n",
        "      <td>459</td>\n",
        "      <td>164</td>\n",
        "      <td>148</td>\n",
        "      <td>348</td>\n",
        "    </tr>\n",
        "    <tr>\n",
        "      <th>416</th>\n",
        "      <td>495</td>\n",
        "      <td>248</td>\n",
        "      <td>460</td>\n",
        "      <td>551</td>\n",
        "      <td>433</td>\n",
        "      <td>452</td>\n",
        "      <td>481</td>\n",
        "      <td>177</td>\n",
        "      <td>293</td>\n",
        "      <td>238</td>\n",
        "      <td>...</td>\n",
        "      <td>87</td>\n",
        "      <td>50</td>\n",
        "      <td>402</td>\n",
        "      <td>202</td>\n",
        "      <td>528</td>\n",
        "      <td>307</td>\n",
        "      <td>2</td>\n",
        "      <td>28</td>\n",
        "      <td>465</td>\n",
        "      <td>561</td>\n",
        "    </tr>\n",
        "    <tr>\n",
        "      <th>417</th>\n",
        "      <td>551</td>\n",
        "      <td>413</td>\n",
        "      <td>323</td>\n",
        "      <td>382</td>\n",
        "      <td>62</td>\n",
        "      <td>129</td>\n",
        "      <td>498</td>\n",
        "      <td>51</td>\n",
        "      <td>307</td>\n",
        "      <td>467</td>\n",
        "      <td>...</td>\n",
        "      <td>246</td>\n",
        "      <td>23</td>\n",
        "      <td>546</td>\n",
        "      <td>458</td>\n",
        "      <td>357</td>\n",
        "      <td>273</td>\n",
        "      <td>154</td>\n",
        "      <td>540</td>\n",
        "      <td>508</td>\n",
        "      <td>363</td>\n",
        "    </tr>\n",
        "    <tr>\n",
        "      <th>418</th>\n",
        "      <td>177</td>\n",
        "      <td>259</td>\n",
        "      <td>402</td>\n",
        "      <td>558</td>\n",
        "      <td>468</td>\n",
        "      <td>475</td>\n",
        "      <td>407</td>\n",
        "      <td>342</td>\n",
        "      <td>190</td>\n",
        "      <td>582</td>\n",
        "      <td>...</td>\n",
        "      <td>191</td>\n",
        "      <td>247</td>\n",
        "      <td>40</td>\n",
        "      <td>469</td>\n",
        "      <td>124</td>\n",
        "      <td>434</td>\n",
        "      <td>299</td>\n",
        "      <td>455</td>\n",
        "      <td>172</td>\n",
        "      <td>442</td>\n",
        "    </tr>\n",
        "    <tr>\n",
        "      <th>419</th>\n",
        "      <td>293</td>\n",
        "      <td>511</td>\n",
        "      <td>479</td>\n",
        "      <td>354</td>\n",
        "      <td>581</td>\n",
        "      <td>4</td>\n",
        "      <td>61</td>\n",
        "      <td>520</td>\n",
        "      <td>481</td>\n",
        "      <td>77</td>\n",
        "      <td>...</td>\n",
        "      <td>159</td>\n",
        "      <td>382</td>\n",
        "      <td>227</td>\n",
        "      <td>101</td>\n",
        "      <td>110</td>\n",
        "      <td>123</td>\n",
        "      <td>18</td>\n",
        "      <td>85</td>\n",
        "      <td>286</td>\n",
        "      <td>83</td>\n",
        "    </tr>\n",
        "    <tr>\n",
        "      <th>420</th>\n",
        "      <td>481</td>\n",
        "      <td>374</td>\n",
        "      <td>581</td>\n",
        "      <td>346</td>\n",
        "      <td>298</td>\n",
        "      <td>479</td>\n",
        "      <td>293</td>\n",
        "      <td>469</td>\n",
        "      <td>5</td>\n",
        "      <td>567</td>\n",
        "      <td>...</td>\n",
        "      <td>122</td>\n",
        "      <td>132</td>\n",
        "      <td>235</td>\n",
        "      <td>227</td>\n",
        "      <td>326</td>\n",
        "      <td>340</td>\n",
        "      <td>352</td>\n",
        "      <td>211</td>\n",
        "      <td>297</td>\n",
        "      <td>14</td>\n",
        "    </tr>\n",
        "    <tr>\n",
        "      <th>421</th>\n",
        "      <td>8</td>\n",
        "      <td>500</td>\n",
        "      <td>182</td>\n",
        "      <td>315</td>\n",
        "      <td>523</td>\n",
        "      <td>347</td>\n",
        "      <td>285</td>\n",
        "      <td>21</td>\n",
        "      <td>410</td>\n",
        "      <td>558</td>\n",
        "      <td>...</td>\n",
        "      <td>345</td>\n",
        "      <td>278</td>\n",
        "      <td>480</td>\n",
        "      <td>58</td>\n",
        "      <td>109</td>\n",
        "      <td>245</td>\n",
        "      <td>211</td>\n",
        "      <td>472</td>\n",
        "      <td>502</td>\n",
        "      <td>530</td>\n",
        "    </tr>\n",
        "    <tr>\n",
        "      <th>422</th>\n",
        "      <td>523</td>\n",
        "      <td>259</td>\n",
        "      <td>306</td>\n",
        "      <td>132</td>\n",
        "      <td>485</td>\n",
        "      <td>138</td>\n",
        "      <td>182</td>\n",
        "      <td>372</td>\n",
        "      <td>19</td>\n",
        "      <td>500</td>\n",
        "      <td>...</td>\n",
        "      <td>532</td>\n",
        "      <td>549</td>\n",
        "      <td>509</td>\n",
        "      <td>2</td>\n",
        "      <td>337</td>\n",
        "      <td>206</td>\n",
        "      <td>406</td>\n",
        "      <td>124</td>\n",
        "      <td>278</td>\n",
        "      <td>311</td>\n",
        "    </tr>\n",
        "    <tr>\n",
        "      <th>423</th>\n",
        "      <td>257</td>\n",
        "      <td>462</td>\n",
        "      <td>277</td>\n",
        "      <td>83</td>\n",
        "      <td>326</td>\n",
        "      <td>211</td>\n",
        "      <td>492</td>\n",
        "      <td>352</td>\n",
        "      <td>382</td>\n",
        "      <td>558</td>\n",
        "      <td>...</td>\n",
        "      <td>488</td>\n",
        "      <td>306</td>\n",
        "      <td>198</td>\n",
        "      <td>310</td>\n",
        "      <td>295</td>\n",
        "      <td>91</td>\n",
        "      <td>578</td>\n",
        "      <td>556</td>\n",
        "      <td>253</td>\n",
        "      <td>189</td>\n",
        "    </tr>\n",
        "    <tr>\n",
        "      <th>424</th>\n",
        "      <td>500</td>\n",
        "      <td>468</td>\n",
        "      <td>485</td>\n",
        "      <td>347</td>\n",
        "      <td>182</td>\n",
        "      <td>21</td>\n",
        "      <td>402</td>\n",
        "      <td>285</td>\n",
        "      <td>555</td>\n",
        "      <td>8</td>\n",
        "      <td>...</td>\n",
        "      <td>48</td>\n",
        "      <td>38</td>\n",
        "      <td>216</td>\n",
        "      <td>298</td>\n",
        "      <td>91</td>\n",
        "      <td>314</td>\n",
        "      <td>297</td>\n",
        "      <td>530</td>\n",
        "      <td>106</td>\n",
        "      <td>292</td>\n",
        "    </tr>\n",
        "    <tr>\n",
        "      <th>425</th>\n",
        "      <td>0</td>\n",
        "      <td>98</td>\n",
        "      <td>210</td>\n",
        "      <td>170</td>\n",
        "      <td>526</td>\n",
        "      <td>371</td>\n",
        "      <td>35</td>\n",
        "      <td>385</td>\n",
        "      <td>506</td>\n",
        "      <td>134</td>\n",
        "      <td>...</td>\n",
        "      <td>550</td>\n",
        "      <td>160</td>\n",
        "      <td>450</td>\n",
        "      <td>294</td>\n",
        "      <td>378</td>\n",
        "      <td>575</td>\n",
        "      <td>478</td>\n",
        "      <td>97</td>\n",
        "      <td>115</td>\n",
        "      <td>323</td>\n",
        "    </tr>\n",
        "    <tr>\n",
        "      <th>426</th>\n",
        "      <td>481</td>\n",
        "      <td>177</td>\n",
        "      <td>67</td>\n",
        "      <td>452</td>\n",
        "      <td>433</td>\n",
        "      <td>298</td>\n",
        "      <td>188</td>\n",
        "      <td>2</td>\n",
        "      <td>558</td>\n",
        "      <td>495</td>\n",
        "      <td>...</td>\n",
        "      <td>472</td>\n",
        "      <td>109</td>\n",
        "      <td>435</td>\n",
        "      <td>340</td>\n",
        "      <td>130</td>\n",
        "      <td>166</td>\n",
        "      <td>40</td>\n",
        "      <td>184</td>\n",
        "      <td>200</td>\n",
        "      <td>295</td>\n",
        "    </tr>\n",
        "    <tr>\n",
        "      <th>427</th>\n",
        "      <td>551</td>\n",
        "      <td>514</td>\n",
        "      <td>129</td>\n",
        "      <td>108</td>\n",
        "      <td>62</td>\n",
        "      <td>210</td>\n",
        "      <td>562</td>\n",
        "      <td>507</td>\n",
        "      <td>335</td>\n",
        "      <td>498</td>\n",
        "      <td>...</td>\n",
        "      <td>453</td>\n",
        "      <td>248</td>\n",
        "      <td>291</td>\n",
        "      <td>349</td>\n",
        "      <td>370</td>\n",
        "      <td>430</td>\n",
        "      <td>131</td>\n",
        "      <td>449</td>\n",
        "      <td>522</td>\n",
        "      <td>67</td>\n",
        "    </tr>\n",
        "    <tr>\n",
        "      <th>428</th>\n",
        "      <td>551</td>\n",
        "      <td>108</td>\n",
        "      <td>267</td>\n",
        "      <td>335</td>\n",
        "      <td>156</td>\n",
        "      <td>210</td>\n",
        "      <td>540</td>\n",
        "      <td>417</td>\n",
        "      <td>168</td>\n",
        "      <td>300</td>\n",
        "      <td>...</td>\n",
        "      <td>219</td>\n",
        "      <td>264</td>\n",
        "      <td>589</td>\n",
        "      <td>47</td>\n",
        "      <td>546</td>\n",
        "      <td>145</td>\n",
        "      <td>382</td>\n",
        "      <td>449</td>\n",
        "      <td>79</td>\n",
        "      <td>39</td>\n",
        "    </tr>\n",
        "    <tr>\n",
        "      <th>429</th>\n",
        "      <td>229</td>\n",
        "      <td>320</td>\n",
        "      <td>519</td>\n",
        "      <td>181</td>\n",
        "      <td>35</td>\n",
        "      <td>438</td>\n",
        "      <td>55</td>\n",
        "      <td>579</td>\n",
        "      <td>550</td>\n",
        "      <td>371</td>\n",
        "      <td>...</td>\n",
        "      <td>105</td>\n",
        "      <td>54</td>\n",
        "      <td>586</td>\n",
        "      <td>280</td>\n",
        "      <td>301</td>\n",
        "      <td>96</td>\n",
        "      <td>199</td>\n",
        "      <td>62</td>\n",
        "      <td>151</td>\n",
        "      <td>386</td>\n",
        "    </tr>\n",
        "    <tr>\n",
        "      <th>430</th>\n",
        "      <td>259</td>\n",
        "      <td>16</td>\n",
        "      <td>325</td>\n",
        "      <td>477</td>\n",
        "      <td>535</td>\n",
        "      <td>558</td>\n",
        "      <td>557</td>\n",
        "      <td>374</td>\n",
        "      <td>402</td>\n",
        "      <td>233</td>\n",
        "      <td>...</td>\n",
        "      <td>36</td>\n",
        "      <td>157</td>\n",
        "      <td>286</td>\n",
        "      <td>261</td>\n",
        "      <td>147</td>\n",
        "      <td>158</td>\n",
        "      <td>311</td>\n",
        "      <td>132</td>\n",
        "      <td>48</td>\n",
        "      <td>189</td>\n",
        "    </tr>\n",
        "    <tr>\n",
        "      <th>431</th>\n",
        "      <td>551</td>\n",
        "      <td>90</td>\n",
        "      <td>498</td>\n",
        "      <td>62</td>\n",
        "      <td>481</td>\n",
        "      <td>77</td>\n",
        "      <td>401</td>\n",
        "      <td>85</td>\n",
        "      <td>129</td>\n",
        "      <td>108</td>\n",
        "      <td>...</td>\n",
        "      <td>1</td>\n",
        "      <td>112</td>\n",
        "      <td>189</td>\n",
        "      <td>454</td>\n",
        "      <td>270</td>\n",
        "      <td>4</td>\n",
        "      <td>489</td>\n",
        "      <td>25</td>\n",
        "      <td>13</td>\n",
        "      <td>585</td>\n",
        "    </tr>\n",
        "    <tr>\n",
        "      <th>432</th>\n",
        "      <td>294</td>\n",
        "      <td>441</td>\n",
        "      <td>96</td>\n",
        "      <td>574</td>\n",
        "      <td>272</td>\n",
        "      <td>560</td>\n",
        "      <td>107</td>\n",
        "      <td>376</td>\n",
        "      <td>350</td>\n",
        "      <td>387</td>\n",
        "      <td>...</td>\n",
        "      <td>343</td>\n",
        "      <td>529</td>\n",
        "      <td>308</td>\n",
        "      <td>115</td>\n",
        "      <td>139</td>\n",
        "      <td>456</td>\n",
        "      <td>156</td>\n",
        "      <td>514</td>\n",
        "      <td>494</td>\n",
        "      <td>225</td>\n",
        "    </tr>\n",
        "    <tr>\n",
        "      <th>433</th>\n",
        "      <td>23</td>\n",
        "      <td>292</td>\n",
        "      <td>401</td>\n",
        "      <td>90</td>\n",
        "      <td>563</td>\n",
        "      <td>551</td>\n",
        "      <td>85</td>\n",
        "      <td>388</td>\n",
        "      <td>481</td>\n",
        "      <td>522</td>\n",
        "      <td>...</td>\n",
        "      <td>52</td>\n",
        "      <td>259</td>\n",
        "      <td>40</td>\n",
        "      <td>94</td>\n",
        "      <td>83</td>\n",
        "      <td>166</td>\n",
        "      <td>576</td>\n",
        "      <td>508</td>\n",
        "      <td>156</td>\n",
        "      <td>210</td>\n",
        "    </tr>\n",
        "    <tr>\n",
        "      <th>434</th>\n",
        "      <td>551</td>\n",
        "      <td>583</td>\n",
        "      <td>528</td>\n",
        "      <td>303</td>\n",
        "      <td>430</td>\n",
        "      <td>51</td>\n",
        "      <td>589</td>\n",
        "      <td>18</td>\n",
        "      <td>323</td>\n",
        "      <td>413</td>\n",
        "      <td>...</td>\n",
        "      <td>277</td>\n",
        "      <td>476</td>\n",
        "      <td>392</td>\n",
        "      <td>460</td>\n",
        "      <td>424</td>\n",
        "      <td>29</td>\n",
        "      <td>79</td>\n",
        "      <td>539</td>\n",
        "      <td>264</td>\n",
        "      <td>454</td>\n",
        "    </tr>\n",
        "    <tr>\n",
        "      <th>435</th>\n",
        "      <td>500</td>\n",
        "      <td>259</td>\n",
        "      <td>485</td>\n",
        "      <td>402</td>\n",
        "      <td>73</td>\n",
        "      <td>179</td>\n",
        "      <td>325</td>\n",
        "      <td>306</td>\n",
        "      <td>558</td>\n",
        "      <td>182</td>\n",
        "      <td>...</td>\n",
        "      <td>416</td>\n",
        "      <td>469</td>\n",
        "      <td>245</td>\n",
        "      <td>403</td>\n",
        "      <td>243</td>\n",
        "      <td>314</td>\n",
        "      <td>298</td>\n",
        "      <td>477</td>\n",
        "      <td>172</td>\n",
        "      <td>110</td>\n",
        "    </tr>\n",
        "    <tr>\n",
        "      <th>436</th>\n",
        "      <td>169</td>\n",
        "      <td>54</td>\n",
        "      <td>186</td>\n",
        "      <td>589</td>\n",
        "      <td>514</td>\n",
        "      <td>121</td>\n",
        "      <td>392</td>\n",
        "      <td>462</td>\n",
        "      <td>59</td>\n",
        "      <td>466</td>\n",
        "      <td>...</td>\n",
        "      <td>116</td>\n",
        "      <td>83</td>\n",
        "      <td>423</td>\n",
        "      <td>352</td>\n",
        "      <td>585</td>\n",
        "      <td>146</td>\n",
        "      <td>129</td>\n",
        "      <td>175</td>\n",
        "      <td>62</td>\n",
        "      <td>29</td>\n",
        "    </tr>\n",
        "    <tr>\n",
        "      <th>437</th>\n",
        "      <td>259</td>\n",
        "      <td>558</td>\n",
        "      <td>500</td>\n",
        "      <td>262</td>\n",
        "      <td>315</td>\n",
        "      <td>582</td>\n",
        "      <td>485</td>\n",
        "      <td>260</td>\n",
        "      <td>422</td>\n",
        "      <td>518</td>\n",
        "      <td>...</td>\n",
        "      <td>502</td>\n",
        "      <td>532</td>\n",
        "      <td>440</td>\n",
        "      <td>228</td>\n",
        "      <td>488</td>\n",
        "      <td>408</td>\n",
        "      <td>149</td>\n",
        "      <td>87</td>\n",
        "      <td>243</td>\n",
        "      <td>406</td>\n",
        "    </tr>\n",
        "    <tr>\n",
        "      <th>438</th>\n",
        "      <td>581</td>\n",
        "      <td>293</td>\n",
        "      <td>401</td>\n",
        "      <td>481</td>\n",
        "      <td>28</td>\n",
        "      <td>200</td>\n",
        "      <td>90</td>\n",
        "      <td>563</td>\n",
        "      <td>172</td>\n",
        "      <td>346</td>\n",
        "      <td>...</td>\n",
        "      <td>177</td>\n",
        "      <td>286</td>\n",
        "      <td>87</td>\n",
        "      <td>79</td>\n",
        "      <td>535</td>\n",
        "      <td>16</td>\n",
        "      <td>453</td>\n",
        "      <td>175</td>\n",
        "      <td>62</td>\n",
        "      <td>14</td>\n",
        "    </tr>\n",
        "  </tbody>\n",
        "</table>\n",
        "<p>439 rows \u00d7 107 columns</p>\n",
        "</div>"
       ],
       "metadata": {},
       "output_type": "pyout",
       "prompt_number": 25,
       "text": [
        "     0    1    2    3    4    5    6    7    8    9   ...   97   98   99   \\\n",
        "0    551  156  129  267  108  498  335  210  319  417 ...   332  193  370   \n",
        "1     98    0  526  387  574  272  170  579   35  385 ...   208  519  550   \n",
        "2     30  169  589  514  392  562  121  251  329  539 ...   356  140  181   \n",
        "3    198  277  514  323  382  413  392  281  148  562 ...   248  301  563   \n",
        "4    210   35  526    0  551  145  344  385  300  134 ...   133  367  522   \n",
        "5    589  551   67  583  514  467  507  452  131   51 ...   127  208   59   \n",
        "6    267  551  514  170  210  156  246  168  108  102 ...   413  550  279   \n",
        "7    557  500   21  179  325    8  468  315  285  523 ...   172  408  159   \n",
        "8    170   35  427  348  146  526   98  215  320  236 ...   378  507  574   \n",
        "9    514  551  129   57   62  498  562  507  108  121 ...   317   27  550   \n",
        "10   551  129  323  307  413  589  498  329  365   37 ...   481  238  281   \n",
        "11   323  382  481   90  551  467  413  495   69   67 ...   267  487  388   \n",
        "12   121  133  514  550  418  426   35  427  466   47 ...    15  348  272   \n",
        "13   574  272   96    0  294   98  371  387  579  350 ...   478  514  280   \n",
        "14   551  382  452  323  433   67  495  467   83  481 ...   200  281  477   \n",
        "15   469  298    2  278  481  407  479  188  454  202 ...   440  262  142   \n",
        "16   481  551   67  452  495  248  433   83  172   77 ...   311  407  568   \n",
        "17   272  294   96  170   98    0  574  587  387  348 ...   343  540  208   \n",
        "18   551  540  108  267  210  335  561  246  156  301 ...   413   22  467   \n",
        "19   564  451  282  345   70  410  221  326  492  412 ...   286  549  384   \n",
        "20    83  159  172  424    2  568  259  262  422  481 ...   442  182  180   \n",
        "21   551   18  323  355   25  417  460  108  413  210 ...   300  392  397   \n",
        "22   551   62  108  498  248  210  540   67  323   90 ...   317  301   87   \n",
        "23   427  418  215  579  249   98   35  371  348  426 ...   432   82  148   \n",
        "24   325  162  500  259  535  374   21  558  485  407 ...   547  469  416   \n",
        "25   259  558  500  315  138  325  177  407  485  188 ...   109   48  406   \n",
        "26   323  467  382  392  413  481   22   83  539  143 ...   388  346  262   \n",
        "27   568    2  278  581  424  292  481  435  433  461 ...   477  123  495   \n",
        "28    96  272  294  144  574  387   98  441    0  579 ...   225  267   78   \n",
        "29   551  307   67  452  317  413   37  433  323  129 ...    69  203  126   \n",
        "..   ...  ...  ...  ...  ...  ...  ...  ...  ...  ... ...   ...  ...  ...   \n",
        "409  270  563  393  318  233  424  391   23   85  189 ...   138  123   95   \n",
        "410  551  583  507   18  323  528  168  589   22  303 ...   379  437  200   \n",
        "411   21  500    8  325  285  179  523  259  485   73 ...   384  142  326   \n",
        "412  441  294  107   96  574  560  272  222  350  387 ...   121   68  102   \n",
        "413  551  204  514  589  418  168  291  102  562  526 ...   433   55   59   \n",
        "414  558   40   83  408  422  380  211  172  257  259 ...    37   73  323   \n",
        "415  320  550  121   35  116  438  229  466   55  225 ...    15  572  432   \n",
        "416  495  248  460  551  433  452  481  177  293  238 ...    87   50  402   \n",
        "417  551  413  323  382   62  129  498   51  307  467 ...   246   23  546   \n",
        "418  177  259  402  558  468  475  407  342  190  582 ...   191  247   40   \n",
        "419  293  511  479  354  581    4   61  520  481   77 ...   159  382  227   \n",
        "420  481  374  581  346  298  479  293  469    5  567 ...   122  132  235   \n",
        "421    8  500  182  315  523  347  285   21  410  558 ...   345  278  480   \n",
        "422  523  259  306  132  485  138  182  372   19  500 ...   532  549  509   \n",
        "423  257  462  277   83  326  211  492  352  382  558 ...   488  306  198   \n",
        "424  500  468  485  347  182   21  402  285  555    8 ...    48   38  216   \n",
        "425    0   98  210  170  526  371   35  385  506  134 ...   550  160  450   \n",
        "426  481  177   67  452  433  298  188    2  558  495 ...   472  109  435   \n",
        "427  551  514  129  108   62  210  562  507  335  498 ...   453  248  291   \n",
        "428  551  108  267  335  156  210  540  417  168  300 ...   219  264  589   \n",
        "429  229  320  519  181   35  438   55  579  550  371 ...   105   54  586   \n",
        "430  259   16  325  477  535  558  557  374  402  233 ...    36  157  286   \n",
        "431  551   90  498   62  481   77  401   85  129  108 ...     1  112  189   \n",
        "432  294  441   96  574  272  560  107  376  350  387 ...   343  529  308   \n",
        "433   23  292  401   90  563  551   85  388  481  522 ...    52  259   40   \n",
        "434  551  583  528  303  430   51  589   18  323  413 ...   277  476  392   \n",
        "435  500  259  485  402   73  179  325  306  558  182 ...   416  469  245   \n",
        "436  169   54  186  589  514  121  392  462   59  466 ...   116   83  423   \n",
        "437  259  558  500  262  315  582  485  260  422  518 ...   502  532  440   \n",
        "438  581  293  401  481   28  200   90  563  172  346 ...   177  286   87   \n",
        "\n",
        "     100  101  102  103  104  105  106  \n",
        "0    256  200  131  467  433  585   57  \n",
        "1    339  411  244  543   78  121  185  \n",
        "2    184  396  165  452   89  284  125  \n",
        "3     60  481  424  559  431   29  173  \n",
        "4     27  291  413   57   51  332  264  \n",
        "5    264   86   90  378  559  145  265  \n",
        "6    250  134  131  487   54  392  264  \n",
        "7     88  302  150  416  278   43  414  \n",
        "8    116  249  370  483  258    9  160  \n",
        "9     95  573  273  433  168  146  431  \n",
        "10    95  356  561  392  335  458  242  \n",
        "11   159   97  192  562  276  259  417  \n",
        "12   208  417  583  587  156  540    9  \n",
        "13   575  339  456  197  551  457  561  \n",
        "14   303   97  276  167  204  315  163  \n",
        "15    73  295  477  228  179  257  180  \n",
        "16   477  202  156  200  189  476  190  \n",
        "17   466  529  478  136  327  160  332  \n",
        "18   443  273  200  330  420  371  539  \n",
        "19   342   88  127  337  347  555  502  \n",
        "20   477  179  406  123  216  440  464  \n",
        "21   184  443  168  430  565   75  388  \n",
        "22   489  514  242   95  168  290  118  \n",
        "23   541   96  267  367  389  239  559  \n",
        "24    91  509  159  206  270  302  216  \n",
        "25   469  403  167   91    2  434  206  \n",
        "26   159  556   29   97  476  419  358  \n",
        "27   551   63  143  380  176   72  582  \n",
        "28   494  280  121  540  239  550  133  \n",
        "29    95  156  462  578   86   13  513  \n",
        "..   ...  ...  ...  ...  ...  ...  ...  \n",
        "409  505   88  475  582  542  330    1  \n",
        "410  401    2  329  330  172   13  458  \n",
        "411  464  530  398  243  345  172  414  \n",
        "412  225  116  494  168   26  129  280  \n",
        "413  264  483  215   85   69  452   57  \n",
        "414  138  467   32  416  556   90  285  \n",
        "415  301   78  272  459  164  148  348  \n",
        "416  202  528  307    2   28  465  561  \n",
        "417  458  357  273  154  540  508  363  \n",
        "418  469  124  434  299  455  172  442  \n",
        "419  101  110  123   18   85  286   83  \n",
        "420  227  326  340  352  211  297   14  \n",
        "421   58  109  245  211  472  502  530  \n",
        "422    2  337  206  406  124  278  311  \n",
        "423  310  295   91  578  556  253  189  \n",
        "424  298   91  314  297  530  106  292  \n",
        "425  294  378  575  478   97  115  323  \n",
        "426  340  130  166   40  184  200  295  \n",
        "427  349  370  430  131  449  522   67  \n",
        "428   47  546  145  382  449   79   39  \n",
        "429  280  301   96  199   62  151  386  \n",
        "430  261  147  158  311  132   48  189  \n",
        "431  454  270    4  489   25   13  585  \n",
        "432  115  139  456  156  514  494  225  \n",
        "433   94   83  166  576  508  156  210  \n",
        "434  460  424   29   79  539  264  454  \n",
        "435  403  243  314  298  477  172  110  \n",
        "436  352  585  146  129  175   62   29  \n",
        "437  228  488  408  149   87  243  406  \n",
        "438   79  535   16  453  175   62   14  \n",
        "\n",
        "[439 rows x 107 columns]"
       ]
      }
     ],
     "prompt_number": 25
    },
    {
     "cell_type": "code",
     "collapsed": false,
     "input": [
      "painting_info_clean = pd.read_csv('data/painting_info_clean.csv')\n",
      "sizes_paintings = pd.read_csv('data/images_sizes_2325.csv')\n",
      "sizes_paintings = pd.merge(painting_info_clean[['file_name']], sizes_paintings, how = 'left', on='file_name')\n",
      "\n",
      "\n",
      "# preparing train, test data\n",
      "complete_data = painting_info_clean.merge(sizes_paintings, how = 'inner', on = 'file_name')\n",
      "complete_data.to_csv('./data/complete_data.csv', index = False)\n"
     ],
     "language": "python",
     "metadata": {},
     "outputs": [],
     "prompt_number": 50
    },
    {
     "cell_type": "code",
     "collapsed": false,
     "input": [
      "complete_data = pd.read_csv('./data/complete_data.csv')\n",
      "file_list = complete_data['file_name']"
     ],
     "language": "python",
     "metadata": {},
     "outputs": [],
     "prompt_number": 58
    },
    {
     "cell_type": "code",
     "collapsed": false,
     "input": [
      "nearest_neighbors = list(model.kneighbors(test_data_img[5], n_neighbors=31, return_distance=False)[0])\n",
      "NN_images = [y_train.iloc[x] for x in nearest_neighbors]\n",
      "[ (i,NN_images.count(i)) for i in set(NN_images) ]"
     ],
     "language": "python",
     "metadata": {},
     "outputs": [
      {
       "output_type": "stream",
       "stream": "stderr",
       "text": [
        "/usr/local/lib/python2.7/dist-packages/sklearn/utils/validation.py:395: DeprecationWarning: Passing 1d arrays as data is deprecated in 0.17 and will raise ValueError in 0.19. Reshape your data either using X.reshape(-1, 1) if your data has a single feature or X.reshape(1, -1) if it contains a single sample.\n",
        "  DeprecationWarning)\n"
       ]
      },
      {
       "metadata": {},
       "output_type": "pyout",
       "prompt_number": 60,
       "text": [
        "[('gogh_van', 26), ('rembrand', 1), ('rubens', 4)]"
       ]
      }
     ],
     "prompt_number": 60
    },
    {
     "cell_type": "code",
     "collapsed": false,
     "input": [
      "nearest_neighbors = list(model.kneighbors(test_data_img[5], n_neighbors=107, return_distance=False)[0])\n",
      "\n",
      "[file_list.iloc[x] for x in nearest_neighbors]"
     ],
     "language": "python",
     "metadata": {},
     "outputs": [
      {
       "output_type": "stream",
       "stream": "stderr",
       "text": [
        "/usr/local/lib/python2.7/dist-packages/sklearn/utils/validation.py:395: DeprecationWarning: Passing 1d arrays as data is deprecated in 0.17 and will raise ValueError in 0.19. Reshape your data either using X.reshape(-1, 1) if your data has a single feature or X.reshape(1, -1) if it contains a single sample.\n",
        "  DeprecationWarning)\n"
       ]
      },
      {
       "metadata": {},
       "output_type": "pyout",
       "prompt_number": 59,
       "text": [
        "['cezanne_4_4still7.jpg',\n",
        " 'cezanne_5_1variou2.jpg',\n",
        " 'rubens_7graphic_02sketch.jpg',\n",
        " 'cezanne_4_4still1.jpg',\n",
        " 'goya_3_305goya.jpg',\n",
        " 'goya_6_601goya.jpg',\n",
        " 'goya_4_417goya.jpg',\n",
        " 'goya_7_705goya.jpg',\n",
        " 'renoir_4_4renoi04.jpg',\n",
        " 'rembrand_91nonrem_16noremb.jpg',\n",
        " 'rembrand_91nonrem_03noremb.jpg',\n",
        " 'cezanne_5_4bather3.jpg',\n",
        " 'goya_4_418goya.jpg',\n",
        " 'angelico_08_1trinita.jpg',\n",
        " 'angelico_02_predel2.jpg',\n",
        " 'angelico_00_11fieso3.jpg',\n",
        " 'angelico_05_cortona1.jpg',\n",
        " 'goya_7_720goya.jpg',\n",
        " 'goya_4_405goya.jpg',\n",
        " 'angelico_07_marco_p8.jpg',\n",
        " 'angelico_05_predell3.jpg',\n",
        " 'angelico_07_panel6.jpg',\n",
        " 'manet_4_4manet18.jpg',\n",
        " 'angelico_14_3brisio.jpg',\n",
        " 'renoir_3_3renoi201.jpg',\n",
        " 'manet_2_2manet02.jpg',\n",
        " 'manet_3_3manet04.jpg',\n",
        " 'angelico_12_70lastju.jpg',\n",
        " 'renoir_4_4renoi02.jpg',\n",
        " 'goya_9_blac639.jpg',\n",
        " 'goya_5_510goya.jpg',\n",
        " 'manet_1_6stilli3.jpg',\n",
        " 'monet_08_7liliy03.jpg',\n",
        " 'rubens_7graphic_11sketcx.jpg',\n",
        " 'rembrand_91nonrem_01noremb.jpg',\n",
        " 'monet_08_3bridge2.jpg',\n",
        " 'manet_3_3manet17.jpg',\n",
        " 'manet_1_4olympi1.jpg',\n",
        " 'goya_3_313goya.jpg',\n",
        " 'angelico_10_3vault.jpg',\n",
        " 'renoir_3_3renoi08.jpg',\n",
        " 'angelico_13_00adorati.jpg',\n",
        " 'goya_4_402goya.jpg',\n",
        " 'manet_1_6stilli4.jpg',\n",
        " 'renoir_4_4renoi22.jpg',\n",
        " 'goya_2_217goya.jpg',\n",
        " 'degas_7_graphi12.jpg',\n",
        " 'rembrand_91nonrem_19noremb.jpg',\n",
        " 'rubens_7graphic_08euchar.jpg',\n",
        " 'goya_7_706goya.jpg',\n",
        " 'renoir_3_3renoi21.jpg',\n",
        " 'angelico_07_altar_sm.jpg',\n",
        " 'manet_2_2manet09.jpg',\n",
        " 'rubens_7graphic_15sketch.jpg',\n",
        " 'rembrand_91nonrem_27noremb.jpg',\n",
        " 'caravagg_12_79stjohn.jpg',\n",
        " 'manet_4_4manet19.jpg',\n",
        " 'rubens_7graphic_04sketc.jpg',\n",
        " 'renoir_4_4renoi16.jpg',\n",
        " 'goya_1_17goya.jpg',\n",
        " 'cezanne_5_1variou3.jpg',\n",
        " 'cezanne_4_2figure2.jpg',\n",
        " 'goya_7_716goya.jpg',\n",
        " 'angelico_04_2edge1.jpg',\n",
        " 'cezanne_4_4still3.jpg',\n",
        " 'rubens_7graphic_13sketch.jpg',\n",
        " 'cezanne_4_3lands06.jpg',\n",
        " 'angelico_03_lastjud1.jpg',\n",
        " 'angelico_11_2armadio.jpg',\n",
        " 'angelico_12_00_peter.jpg',\n",
        " 'goya_4_415goya.jpg',\n",
        " 'monet_08_2venice3.jpg',\n",
        " 'renoir_3_3renoi13.jpg',\n",
        " 'angelico_07_marco_p1.jpg',\n",
        " 'manet_2_2manet13.jpg',\n",
        " 'angelico_12_32corona.jpg',\n",
        " 'cezanne_6_graphi09.jpg',\n",
        " 'angelico_11_3armadio.jpg',\n",
        " 'angelico_14_7metalpo.jpg',\n",
        " 'goya_9_blac633.jpg',\n",
        " 'monet_08_3bridge5.jpg',\n",
        " 'manet_1_2spanis2.jpg',\n",
        " 'goya_2_204goya.jpg',\n",
        " 'angelico_02_2open.jpg',\n",
        " 'renoir_4_4renoi13.jpg',\n",
        " 'rubens_7graphic_10euchar.jpg',\n",
        " 'angelico_04_3predel3.jpg',\n",
        " 'goya_5_501goya1.jpg',\n",
        " 'angelico_01_2prado.jpg',\n",
        " 'goya_5_507goya.jpg',\n",
        " 'angelico_12_30coron.jpg',\n",
        " 'angelico_12_50annale.jpg',\n",
        " 'goya_7_713goya.jpg',\n",
        " 'angelico_14_2illumix.jpg',\n",
        " 'goya_8_8101goya.jpg',\n",
        " 'goya_9_blac635.jpg',\n",
        " 'cezanne_6_graphi07.jpg',\n",
        " 'caravagg_12_90holyfa.jpg',\n",
        " 'angelico_14_5drawing.jpg',\n",
        " 'rembrand_91nonrem_24noremb.jpg',\n",
        " 'angelico_11_armadio8.jpg',\n",
        " 'rubens_7graphic_14sketch.jpg',\n",
        " 'rubens_7graphic_18drawin.jpg',\n",
        " 'manet_3_3manet12.jpg',\n",
        " 'cezanne_5_3victor6.jpg',\n",
        " 'renoir_4_4renoi18.jpg',\n",
        " 'angelico_10_1scenes.jpg']"
       ]
      }
     ],
     "prompt_number": 59
    },
    {
     "cell_type": "code",
     "collapsed": false,
     "input": [
      "test_data['file_name'].iloc[589]"
     ],
     "language": "python",
     "metadata": {},
     "outputs": [
      {
       "ename": "IndexError",
       "evalue": "single positional indexer is out-of-bounds",
       "output_type": "pyerr",
       "traceback": [
        "\u001b[0;31m---------------------------------------------------------------------------\u001b[0m\n\u001b[0;31mIndexError\u001b[0m                                Traceback (most recent call last)",
        "\u001b[0;32m<ipython-input-44-2d5740015b73>\u001b[0m in \u001b[0;36m<module>\u001b[0;34m()\u001b[0m\n\u001b[0;32m----> 1\u001b[0;31m \u001b[0mtest_data\u001b[0m\u001b[0;34m[\u001b[0m\u001b[0;34m'file_name'\u001b[0m\u001b[0;34m]\u001b[0m\u001b[0;34m.\u001b[0m\u001b[0miloc\u001b[0m\u001b[0;34m[\u001b[0m\u001b[0;36m589\u001b[0m\u001b[0;34m]\u001b[0m\u001b[0;34m\u001b[0m\u001b[0m\n\u001b[0m",
        "\u001b[0;32m/usr/local/lib/python2.7/dist-packages/pandas/core/indexing.pyc\u001b[0m in \u001b[0;36m__getitem__\u001b[0;34m(self, key)\u001b[0m\n\u001b[1;32m   1310\u001b[0m             \u001b[0;32mreturn\u001b[0m \u001b[0mself\u001b[0m\u001b[0;34m.\u001b[0m\u001b[0m_getitem_tuple\u001b[0m\u001b[0;34m(\u001b[0m\u001b[0mkey\u001b[0m\u001b[0;34m)\u001b[0m\u001b[0;34m\u001b[0m\u001b[0m\n\u001b[1;32m   1311\u001b[0m         \u001b[0;32melse\u001b[0m\u001b[0;34m:\u001b[0m\u001b[0;34m\u001b[0m\u001b[0m\n\u001b[0;32m-> 1312\u001b[0;31m             \u001b[0;32mreturn\u001b[0m \u001b[0mself\u001b[0m\u001b[0;34m.\u001b[0m\u001b[0m_getitem_axis\u001b[0m\u001b[0;34m(\u001b[0m\u001b[0mkey\u001b[0m\u001b[0;34m,\u001b[0m \u001b[0maxis\u001b[0m\u001b[0;34m=\u001b[0m\u001b[0;36m0\u001b[0m\u001b[0;34m)\u001b[0m\u001b[0;34m\u001b[0m\u001b[0m\n\u001b[0m\u001b[1;32m   1313\u001b[0m \u001b[0;34m\u001b[0m\u001b[0m\n\u001b[1;32m   1314\u001b[0m     \u001b[0;32mdef\u001b[0m \u001b[0m_getitem_axis\u001b[0m\u001b[0;34m(\u001b[0m\u001b[0mself\u001b[0m\u001b[0;34m,\u001b[0m \u001b[0mkey\u001b[0m\u001b[0;34m,\u001b[0m \u001b[0maxis\u001b[0m\u001b[0;34m=\u001b[0m\u001b[0;36m0\u001b[0m\u001b[0;34m)\u001b[0m\u001b[0;34m:\u001b[0m\u001b[0;34m\u001b[0m\u001b[0m\n",
        "\u001b[0;32m/usr/local/lib/python2.7/dist-packages/pandas/core/indexing.pyc\u001b[0m in \u001b[0;36m_getitem_axis\u001b[0;34m(self, key, axis)\u001b[0m\n\u001b[1;32m   1626\u001b[0m \u001b[0;34m\u001b[0m\u001b[0m\n\u001b[1;32m   1627\u001b[0m                 \u001b[0;31m# validate the location\u001b[0m\u001b[0;34m\u001b[0m\u001b[0;34m\u001b[0m\u001b[0m\n\u001b[0;32m-> 1628\u001b[0;31m                 \u001b[0mself\u001b[0m\u001b[0;34m.\u001b[0m\u001b[0m_is_valid_integer\u001b[0m\u001b[0;34m(\u001b[0m\u001b[0mkey\u001b[0m\u001b[0;34m,\u001b[0m \u001b[0maxis\u001b[0m\u001b[0;34m)\u001b[0m\u001b[0;34m\u001b[0m\u001b[0m\n\u001b[0m\u001b[1;32m   1629\u001b[0m \u001b[0;34m\u001b[0m\u001b[0m\n\u001b[1;32m   1630\u001b[0m             \u001b[0;32mreturn\u001b[0m \u001b[0mself\u001b[0m\u001b[0;34m.\u001b[0m\u001b[0m_get_loc\u001b[0m\u001b[0;34m(\u001b[0m\u001b[0mkey\u001b[0m\u001b[0;34m,\u001b[0m \u001b[0maxis\u001b[0m\u001b[0;34m=\u001b[0m\u001b[0maxis\u001b[0m\u001b[0;34m)\u001b[0m\u001b[0;34m\u001b[0m\u001b[0m\n",
        "\u001b[0;32m/usr/local/lib/python2.7/dist-packages/pandas/core/indexing.pyc\u001b[0m in \u001b[0;36m_is_valid_integer\u001b[0;34m(self, key, axis)\u001b[0m\n\u001b[1;32m   1540\u001b[0m         \u001b[0ml\u001b[0m \u001b[0;34m=\u001b[0m \u001b[0mlen\u001b[0m\u001b[0;34m(\u001b[0m\u001b[0max\u001b[0m\u001b[0;34m)\u001b[0m\u001b[0;34m\u001b[0m\u001b[0m\n\u001b[1;32m   1541\u001b[0m         \u001b[0;32mif\u001b[0m \u001b[0mkey\u001b[0m \u001b[0;34m>=\u001b[0m \u001b[0ml\u001b[0m \u001b[0;32mor\u001b[0m \u001b[0mkey\u001b[0m \u001b[0;34m<\u001b[0m \u001b[0;34m-\u001b[0m\u001b[0ml\u001b[0m\u001b[0;34m:\u001b[0m\u001b[0;34m\u001b[0m\u001b[0m\n\u001b[0;32m-> 1542\u001b[0;31m             \u001b[0;32mraise\u001b[0m \u001b[0mIndexError\u001b[0m\u001b[0;34m(\u001b[0m\u001b[0;34m\"single positional indexer is out-of-bounds\"\u001b[0m\u001b[0;34m)\u001b[0m\u001b[0;34m\u001b[0m\u001b[0m\n\u001b[0m\u001b[1;32m   1543\u001b[0m         \u001b[0;32mreturn\u001b[0m \u001b[0mTrue\u001b[0m\u001b[0;34m\u001b[0m\u001b[0m\n\u001b[1;32m   1544\u001b[0m \u001b[0;34m\u001b[0m\u001b[0m\n",
        "\u001b[0;31mIndexError\u001b[0m: single positional indexer is out-of-bounds"
       ]
      }
     ],
     "prompt_number": 44
    },
    {
     "cell_type": "code",
     "collapsed": false,
     "input": [],
     "language": "python",
     "metadata": {},
     "outputs": []
    }
   ],
   "metadata": {}
  }
 ]
}