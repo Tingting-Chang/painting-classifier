{
 "cells": [
  {
   "cell_type": "markdown",
   "metadata": {
    "deletable": true,
    "editable": true
   },
   "source": [
    "======================================================================================================\n",
    "\n",
    "# KNN & PCA\n",
    "\n",
    "======================================================================================================"
   ]
  },
  {
   "cell_type": "code",
   "execution_count": 1,
   "metadata": {
    "collapsed": false,
    "deletable": true,
    "editable": true
   },
   "outputs": [],
   "source": [
    "import warnings\n",
    "\n",
    "warnings.filterwarnings('ignore', category=DeprecationWarning)"
   ]
  },
  {
   "cell_type": "code",
   "execution_count": 2,
   "metadata": {
    "collapsed": false,
    "deletable": true,
    "editable": true
   },
   "outputs": [
    {
     "name": "stdout",
     "output_type": "stream",
     "text": [
      "athenaeum_authors_preview.csv\n",
      "athenaeum_painting_filtered.csv\n",
      "athenaeum_paintings.csv\n",
      "athenaeum_paintings_sizes.csv\n",
      "color_histograms.csv\n",
      "complete_data.csv\n",
      "extra_tree_com.csv\n",
      "grad_boost_com.csv\n",
      "images\n",
      "images_athenaeum\n",
      "images_sizes_2325.csv\n",
      "net_predicted.csv\n",
      "painter_info_clean.csv\n",
      "painting_info_clean.csv\n",
      "resized_200\n",
      "rf_com.csv\n",
      "test_author200.csv\n",
      "test_data.csv\n",
      "test_hist_author_knn.csv\n",
      "test_hist_author_rf.csv\n",
      "train_author200.csv\n",
      "train_data.csv\n",
      "train_hist_author_knn.csv\n",
      "train_hist_author_rf.csv\n",
      "xgb_com.csv\n",
      "\n"
     ]
    }
   ],
   "source": [
    "import pandas as pd\n",
    "import numpy as np\n",
    "import os\n",
    "import re\n",
    "import random\n",
    "from matplotlib import pyplot as plt\n",
    "from sklearn.neighbors import KNeighborsClassifier\n",
    "from sklearn.model_selection import GridSearchCV\n",
    "from sklearn.model_selection import train_test_split\n",
    "from sklearn.decomposition import PCA\n",
    "# import sklearn.grid_search\n",
    "\n",
    "import fns_models as fns\n",
    "\n",
    "\n",
    "% matplotlib inline\n",
    "\n",
    "from subprocess import check_output\n",
    "print(check_output([\"ls\", \"data\"]).decode(\"utf-8\"))"
   ]
  },
  {
   "cell_type": "code",
   "execution_count": 3,
   "metadata": {
    "collapsed": false,
    "deletable": true,
    "editable": true
   },
   "outputs": [
    {
     "name": "stdout",
     "output_type": "stream",
     "text": [
      "[INFO] The size of train histogram for Random Forest(49890, 35)\n",
      "[INFO] The size of test histogram for Random Forest(12473, 35)\n",
      "24      1369\n",
      "1793    1338\n",
      "368     1335\n",
      "Name: author_id, dtype: int64\n",
      "[trian above] ==================================================[test below]\n",
      "24      342\n",
      "1793    335\n",
      "368     334\n",
      "Name: author_id, dtype: int64\n",
      "(4042,)\n",
      "(4042, 35)\n"
     ]
    }
   ],
   "source": [
    "train, train_labels, test, test_labels = fns.get_top_author(3)\n"
   ]
  },
  {
   "cell_type": "code",
   "execution_count": 4,
   "metadata": {
    "collapsed": false,
    "deletable": true,
    "editable": true
   },
   "outputs": [
    {
     "data": {
      "text/html": [
       "<div>\n",
       "<table border=\"1\" class=\"dataframe\">\n",
       "  <thead>\n",
       "    <tr style=\"text-align: right;\">\n",
       "      <th></th>\n",
       "      <th>hist_01</th>\n",
       "      <th>hist_02</th>\n",
       "      <th>hist_03</th>\n",
       "      <th>hist_04</th>\n",
       "      <th>hist_05</th>\n",
       "      <th>hist_06</th>\n",
       "      <th>hist_07</th>\n",
       "      <th>hist_08</th>\n",
       "      <th>hist_09</th>\n",
       "      <th>hist_10</th>\n",
       "      <th>...</th>\n",
       "      <th>hist_22</th>\n",
       "      <th>hist_23</th>\n",
       "      <th>hist_24</th>\n",
       "      <th>hist_25</th>\n",
       "      <th>hist_26</th>\n",
       "      <th>hist_27</th>\n",
       "      <th>hist_28</th>\n",
       "      <th>hist_29</th>\n",
       "      <th>hist_30</th>\n",
       "      <th>height_width_ratio</th>\n",
       "    </tr>\n",
       "  </thead>\n",
       "  <tbody>\n",
       "    <tr>\n",
       "      <th>177</th>\n",
       "      <td>0.075736</td>\n",
       "      <td>0.001017</td>\n",
       "      <td>0.000195</td>\n",
       "      <td>0.000061</td>\n",
       "      <td>0.000091</td>\n",
       "      <td>0.000167</td>\n",
       "      <td>0.000124</td>\n",
       "      <td>0.000265</td>\n",
       "      <td>0.000814</td>\n",
       "      <td>0.010185</td>\n",
       "      <td>...</td>\n",
       "      <td>0.064973</td>\n",
       "      <td>0.155495</td>\n",
       "      <td>0.198439</td>\n",
       "      <td>0.022097</td>\n",
       "      <td>0.106906</td>\n",
       "      <td>0.188239</td>\n",
       "      <td>0.087873</td>\n",
       "      <td>0.033008</td>\n",
       "      <td>0.583974</td>\n",
       "      <td>1.984496</td>\n",
       "    </tr>\n",
       "    <tr>\n",
       "      <th>381</th>\n",
       "      <td>0.113157</td>\n",
       "      <td>0.100789</td>\n",
       "      <td>0.008086</td>\n",
       "      <td>0.001295</td>\n",
       "      <td>0.001914</td>\n",
       "      <td>0.004696</td>\n",
       "      <td>0.004417</td>\n",
       "      <td>0.011081</td>\n",
       "      <td>0.024289</td>\n",
       "      <td>0.064011</td>\n",
       "      <td>...</td>\n",
       "      <td>0.120838</td>\n",
       "      <td>0.122384</td>\n",
       "      <td>0.240406</td>\n",
       "      <td>0.066717</td>\n",
       "      <td>0.006814</td>\n",
       "      <td>0.036815</td>\n",
       "      <td>0.124549</td>\n",
       "      <td>0.168427</td>\n",
       "      <td>0.663395</td>\n",
       "      <td>1.565749</td>\n",
       "    </tr>\n",
       "    <tr>\n",
       "      <th>383</th>\n",
       "      <td>0.039886</td>\n",
       "      <td>0.167470</td>\n",
       "      <td>0.076083</td>\n",
       "      <td>0.001664</td>\n",
       "      <td>0.000785</td>\n",
       "      <td>0.000676</td>\n",
       "      <td>0.000319</td>\n",
       "      <td>0.000550</td>\n",
       "      <td>0.000656</td>\n",
       "      <td>0.002208</td>\n",
       "      <td>...</td>\n",
       "      <td>0.484468</td>\n",
       "      <td>0.307293</td>\n",
       "      <td>0.022210</td>\n",
       "      <td>0.002730</td>\n",
       "      <td>0.011258</td>\n",
       "      <td>0.037837</td>\n",
       "      <td>0.110167</td>\n",
       "      <td>0.263844</td>\n",
       "      <td>0.576894</td>\n",
       "      <td>1.412414</td>\n",
       "    </tr>\n",
       "  </tbody>\n",
       "</table>\n",
       "<p>3 rows × 31 columns</p>\n",
       "</div>"
      ],
      "text/plain": [
       "      hist_01   hist_02   hist_03   hist_04   hist_05   hist_06   hist_07  \\\n",
       "177  0.075736  0.001017  0.000195  0.000061  0.000091  0.000167  0.000124   \n",
       "381  0.113157  0.100789  0.008086  0.001295  0.001914  0.004696  0.004417   \n",
       "383  0.039886  0.167470  0.076083  0.001664  0.000785  0.000676  0.000319   \n",
       "\n",
       "      hist_08   hist_09   hist_10         ...           hist_22   hist_23  \\\n",
       "177  0.000265  0.000814  0.010185         ...          0.064973  0.155495   \n",
       "381  0.011081  0.024289  0.064011         ...          0.120838  0.122384   \n",
       "383  0.000550  0.000656  0.002208         ...          0.484468  0.307293   \n",
       "\n",
       "      hist_24   hist_25   hist_26   hist_27   hist_28   hist_29   hist_30  \\\n",
       "177  0.198439  0.022097  0.106906  0.188239  0.087873  0.033008  0.583974   \n",
       "381  0.240406  0.066717  0.006814  0.036815  0.124549  0.168427  0.663395   \n",
       "383  0.022210  0.002730  0.011258  0.037837  0.110167  0.263844  0.576894   \n",
       "\n",
       "     height_width_ratio  \n",
       "177            1.984496  \n",
       "381            1.565749  \n",
       "383            1.412414  \n",
       "\n",
       "[3 rows x 31 columns]"
      ]
     },
     "execution_count": 4,
     "metadata": {},
     "output_type": "execute_result"
    }
   ],
   "source": [
    "train.head(3)\n"
   ]
  },
  {
   "cell_type": "markdown",
   "metadata": {
    "deletable": true,
    "editable": true
   },
   "source": [
    "======================================================================================================\n",
    "\n",
    "# KNN \n",
    "\n",
    "======================================================================================================"
   ]
  },
  {
   "cell_type": "code",
   "execution_count": 54,
   "metadata": {
    "collapsed": false,
    "deletable": true,
    "editable": true
   },
   "outputs": [],
   "source": [
    "# random.seed(2017)\n",
    "\n",
    "# X_trian, X_val, y_train, y_val = train_test_split(train, train_labels, test_size = 0.5, random_state=0)\n",
    "\n",
    "# print \"Length of Validation Set:\" + str(len(y_val))\n",
    "# print \"Length of Train Set:\" + str(len(y_train))\n",
    "# print \"Ratio: \" + str(len(y_val) / float(len(y_train)))"
   ]
  },
  {
   "cell_type": "code",
   "execution_count": 5,
   "metadata": {
    "collapsed": false,
    "deletable": true,
    "editable": true
   },
   "outputs": [
    {
     "data": {
      "text/plain": [
       "64"
      ]
     },
     "execution_count": 5,
     "metadata": {},
     "output_type": "execute_result"
    }
   ],
   "source": [
    "import math\n",
    "\n",
    "int(math.ceil(math.sqrt(len(train))))\n"
   ]
  },
  {
   "cell_type": "code",
   "execution_count": 7,
   "metadata": {
    "collapsed": false,
    "deletable": true,
    "editable": true
   },
   "outputs": [
    {
     "name": "stdout",
     "output_type": "stream",
     "text": [
      "Training KNN Model...\n"
     ]
    },
    {
     "data": {
      "text/plain": [
       "GridSearchCV(cv=6, error_score='raise',\n",
       "       estimator=KNeighborsClassifier(algorithm='auto', leaf_size=30, metric='minkowski',\n",
       "           metric_params=None, n_jobs=1, n_neighbors=5, p=2,\n",
       "           weights='uniform'),\n",
       "       fit_params={}, iid=True, n_jobs=4,\n",
       "       param_grid={'n_neighbors': [5, 10, 15, 20, 30, 40, 50, 64, 70, 80, 90, 100, 125, 200, 250], 'algorithm': ['auto', 'ball_tree', 'kd_tree', 'brute'], 'p': [1, 2, 9]},\n",
       "       pre_dispatch='2*n_jobs', refit=True, return_train_score=True,\n",
       "       scoring=None, verbose=0)"
      ]
     },
     "execution_count": 7,
     "metadata": {},
     "output_type": "execute_result"
    }
   ],
   "source": [
    "## Train the KNN model\n",
    "print \"Training KNN Model...\"\n",
    "\n",
    "# minkowski_distance\n",
    "k = [5, 10, 15, 20, 30, 40, 50, 64, 70, 80, 90, 100, 125, 200, 250]\n",
    "#k = [5, 20]\n",
    "parameters = {'n_neighbors': k, 'algorithm': ['auto', 'ball_tree', 'kd_tree', 'brute'],\n",
    "              'p': [1, 2, 9]}\n",
    "knn = KNeighborsClassifier()\n",
    "clf = GridSearchCV(knn, parameters, cv=6, n_jobs=4)\n",
    "clf"
   ]
  },
  {
   "cell_type": "code",
   "execution_count": 8,
   "metadata": {
    "collapsed": false,
    "deletable": true,
    "editable": true
   },
   "outputs": [
    {
     "name": "stdout",
     "output_type": "stream",
     "text": [
      "Accuracy of the Model on testing set:0.707220573689\n",
      "Accuracy of the Model on training set:0.705838693716\n"
     ]
    }
   ],
   "source": [
    "clf.fit(train, train_labels)\n",
    "# accuracy for the test set\n",
    "print \"Accuracy of the Model on testing set:\" + str(clf.score(test,test_labels))\n",
    "\n",
    "# accuracy for the train set\n",
    "print \"Accuracy of the Model on training set:\" + str(clf.score(train,train_labels))\n"
   ]
  },
  {
   "cell_type": "code",
   "execution_count": null,
   "metadata": {
    "collapsed": true,
    "deletable": true,
    "editable": true
   },
   "outputs": [],
   "source": []
  },
  {
   "cell_type": "code",
   "execution_count": 13,
   "metadata": {
    "collapsed": false,
    "deletable": true,
    "editable": true
   },
   "outputs": [
    {
     "name": "stdout",
     "output_type": "stream",
     "text": [
      "Best parameters set found on development set:\n",
      "()\n",
      "{'n_neighbors': 30, 'algorithm': 'auto', 'p': 1}\n",
      "()\n",
      "Grid scores on development set:\n",
      "()\n",
      "0.644 (+/-0.040) for {'n_neighbors': 5, 'algorithm': 'auto', 'p': 1}\n",
      "0.629 (+/-0.054) for {'n_neighbors': 5, 'algorithm': 'auto', 'p': 2}\n",
      "0.602 (+/-0.049) for {'n_neighbors': 5, 'algorithm': 'auto', 'p': 9}\n",
      "0.667 (+/-0.042) for {'n_neighbors': 10, 'algorithm': 'auto', 'p': 1}\n",
      "0.648 (+/-0.056) for {'n_neighbors': 10, 'algorithm': 'auto', 'p': 2}\n",
      "0.624 (+/-0.035) for {'n_neighbors': 10, 'algorithm': 'auto', 'p': 9}\n",
      "0.672 (+/-0.037) for {'n_neighbors': 15, 'algorithm': 'auto', 'p': 1}\n",
      "0.652 (+/-0.058) for {'n_neighbors': 15, 'algorithm': 'auto', 'p': 2}\n",
      "0.633 (+/-0.037) for {'n_neighbors': 15, 'algorithm': 'auto', 'p': 9}\n",
      "0.673 (+/-0.039) for {'n_neighbors': 20, 'algorithm': 'auto', 'p': 1}\n",
      "0.657 (+/-0.048) for {'n_neighbors': 20, 'algorithm': 'auto', 'p': 2}\n",
      "0.626 (+/-0.027) for {'n_neighbors': 20, 'algorithm': 'auto', 'p': 9}\n",
      "0.675 (+/-0.041) for {'n_neighbors': 30, 'algorithm': 'auto', 'p': 1}\n",
      "0.654 (+/-0.042) for {'n_neighbors': 30, 'algorithm': 'auto', 'p': 2}\n",
      "0.624 (+/-0.045) for {'n_neighbors': 30, 'algorithm': 'auto', 'p': 9}\n",
      "0.667 (+/-0.049) for {'n_neighbors': 40, 'algorithm': 'auto', 'p': 1}\n",
      "0.650 (+/-0.049) for {'n_neighbors': 40, 'algorithm': 'auto', 'p': 2}\n",
      "0.625 (+/-0.045) for {'n_neighbors': 40, 'algorithm': 'auto', 'p': 9}\n",
      "0.669 (+/-0.049) for {'n_neighbors': 50, 'algorithm': 'auto', 'p': 1}\n",
      "0.645 (+/-0.046) for {'n_neighbors': 50, 'algorithm': 'auto', 'p': 2}\n",
      "0.624 (+/-0.047) for {'n_neighbors': 50, 'algorithm': 'auto', 'p': 9}\n",
      "0.664 (+/-0.043) for {'n_neighbors': 64, 'algorithm': 'auto', 'p': 1}\n",
      "0.645 (+/-0.035) for {'n_neighbors': 64, 'algorithm': 'auto', 'p': 2}\n",
      "0.621 (+/-0.031) for {'n_neighbors': 64, 'algorithm': 'auto', 'p': 9}\n",
      "0.665 (+/-0.042) for {'n_neighbors': 70, 'algorithm': 'auto', 'p': 1}\n",
      "0.646 (+/-0.043) for {'n_neighbors': 70, 'algorithm': 'auto', 'p': 2}\n",
      "0.618 (+/-0.036) for {'n_neighbors': 70, 'algorithm': 'auto', 'p': 9}\n",
      "0.661 (+/-0.036) for {'n_neighbors': 80, 'algorithm': 'auto', 'p': 1}\n",
      "0.644 (+/-0.038) for {'n_neighbors': 80, 'algorithm': 'auto', 'p': 2}\n",
      "0.621 (+/-0.041) for {'n_neighbors': 80, 'algorithm': 'auto', 'p': 9}\n",
      "0.662 (+/-0.036) for {'n_neighbors': 90, 'algorithm': 'auto', 'p': 1}\n",
      "0.643 (+/-0.042) for {'n_neighbors': 90, 'algorithm': 'auto', 'p': 2}\n",
      "0.616 (+/-0.036) for {'n_neighbors': 90, 'algorithm': 'auto', 'p': 9}\n",
      "0.662 (+/-0.038) for {'n_neighbors': 100, 'algorithm': 'auto', 'p': 1}\n",
      "0.639 (+/-0.043) for {'n_neighbors': 100, 'algorithm': 'auto', 'p': 2}\n",
      "0.610 (+/-0.039) for {'n_neighbors': 100, 'algorithm': 'auto', 'p': 9}\n",
      "0.661 (+/-0.032) for {'n_neighbors': 125, 'algorithm': 'auto', 'p': 1}\n",
      "0.634 (+/-0.028) for {'n_neighbors': 125, 'algorithm': 'auto', 'p': 2}\n",
      "0.606 (+/-0.045) for {'n_neighbors': 125, 'algorithm': 'auto', 'p': 9}\n",
      "0.651 (+/-0.032) for {'n_neighbors': 200, 'algorithm': 'auto', 'p': 1}\n",
      "0.619 (+/-0.034) for {'n_neighbors': 200, 'algorithm': 'auto', 'p': 2}\n",
      "0.595 (+/-0.050) for {'n_neighbors': 200, 'algorithm': 'auto', 'p': 9}\n",
      "0.642 (+/-0.035) for {'n_neighbors': 250, 'algorithm': 'auto', 'p': 1}\n",
      "0.615 (+/-0.024) for {'n_neighbors': 250, 'algorithm': 'auto', 'p': 2}\n",
      "0.586 (+/-0.053) for {'n_neighbors': 250, 'algorithm': 'auto', 'p': 9}\n",
      "0.644 (+/-0.040) for {'n_neighbors': 5, 'algorithm': 'ball_tree', 'p': 1}\n",
      "0.629 (+/-0.054) for {'n_neighbors': 5, 'algorithm': 'ball_tree', 'p': 2}\n",
      "0.602 (+/-0.049) for {'n_neighbors': 5, 'algorithm': 'ball_tree', 'p': 9}\n",
      "0.667 (+/-0.042) for {'n_neighbors': 10, 'algorithm': 'ball_tree', 'p': 1}\n",
      "0.648 (+/-0.056) for {'n_neighbors': 10, 'algorithm': 'ball_tree', 'p': 2}\n",
      "0.624 (+/-0.035) for {'n_neighbors': 10, 'algorithm': 'ball_tree', 'p': 9}\n",
      "0.672 (+/-0.037) for {'n_neighbors': 15, 'algorithm': 'ball_tree', 'p': 1}\n",
      "0.652 (+/-0.058) for {'n_neighbors': 15, 'algorithm': 'ball_tree', 'p': 2}\n",
      "0.633 (+/-0.037) for {'n_neighbors': 15, 'algorithm': 'ball_tree', 'p': 9}\n",
      "0.673 (+/-0.039) for {'n_neighbors': 20, 'algorithm': 'ball_tree', 'p': 1}\n",
      "0.657 (+/-0.048) for {'n_neighbors': 20, 'algorithm': 'ball_tree', 'p': 2}\n",
      "0.626 (+/-0.027) for {'n_neighbors': 20, 'algorithm': 'ball_tree', 'p': 9}\n",
      "0.675 (+/-0.041) for {'n_neighbors': 30, 'algorithm': 'ball_tree', 'p': 1}\n",
      "0.654 (+/-0.042) for {'n_neighbors': 30, 'algorithm': 'ball_tree', 'p': 2}\n",
      "0.624 (+/-0.045) for {'n_neighbors': 30, 'algorithm': 'ball_tree', 'p': 9}\n",
      "0.667 (+/-0.049) for {'n_neighbors': 40, 'algorithm': 'ball_tree', 'p': 1}\n",
      "0.650 (+/-0.049) for {'n_neighbors': 40, 'algorithm': 'ball_tree', 'p': 2}\n",
      "0.625 (+/-0.045) for {'n_neighbors': 40, 'algorithm': 'ball_tree', 'p': 9}\n",
      "0.669 (+/-0.049) for {'n_neighbors': 50, 'algorithm': 'ball_tree', 'p': 1}\n",
      "0.645 (+/-0.046) for {'n_neighbors': 50, 'algorithm': 'ball_tree', 'p': 2}\n",
      "0.624 (+/-0.047) for {'n_neighbors': 50, 'algorithm': 'ball_tree', 'p': 9}\n",
      "0.664 (+/-0.043) for {'n_neighbors': 64, 'algorithm': 'ball_tree', 'p': 1}\n",
      "0.645 (+/-0.035) for {'n_neighbors': 64, 'algorithm': 'ball_tree', 'p': 2}\n",
      "0.621 (+/-0.031) for {'n_neighbors': 64, 'algorithm': 'ball_tree', 'p': 9}\n",
      "0.665 (+/-0.042) for {'n_neighbors': 70, 'algorithm': 'ball_tree', 'p': 1}\n",
      "0.646 (+/-0.043) for {'n_neighbors': 70, 'algorithm': 'ball_tree', 'p': 2}\n",
      "0.618 (+/-0.036) for {'n_neighbors': 70, 'algorithm': 'ball_tree', 'p': 9}\n",
      "0.661 (+/-0.036) for {'n_neighbors': 80, 'algorithm': 'ball_tree', 'p': 1}\n",
      "0.644 (+/-0.038) for {'n_neighbors': 80, 'algorithm': 'ball_tree', 'p': 2}\n",
      "0.621 (+/-0.041) for {'n_neighbors': 80, 'algorithm': 'ball_tree', 'p': 9}\n",
      "0.662 (+/-0.036) for {'n_neighbors': 90, 'algorithm': 'ball_tree', 'p': 1}\n",
      "0.643 (+/-0.042) for {'n_neighbors': 90, 'algorithm': 'ball_tree', 'p': 2}\n",
      "0.616 (+/-0.036) for {'n_neighbors': 90, 'algorithm': 'ball_tree', 'p': 9}\n",
      "0.662 (+/-0.038) for {'n_neighbors': 100, 'algorithm': 'ball_tree', 'p': 1}\n",
      "0.639 (+/-0.043) for {'n_neighbors': 100, 'algorithm': 'ball_tree', 'p': 2}\n",
      "0.610 (+/-0.039) for {'n_neighbors': 100, 'algorithm': 'ball_tree', 'p': 9}\n",
      "0.661 (+/-0.032) for {'n_neighbors': 125, 'algorithm': 'ball_tree', 'p': 1}\n",
      "0.634 (+/-0.028) for {'n_neighbors': 125, 'algorithm': 'ball_tree', 'p': 2}\n",
      "0.606 (+/-0.045) for {'n_neighbors': 125, 'algorithm': 'ball_tree', 'p': 9}\n",
      "0.651 (+/-0.032) for {'n_neighbors': 200, 'algorithm': 'ball_tree', 'p': 1}\n",
      "0.619 (+/-0.034) for {'n_neighbors': 200, 'algorithm': 'ball_tree', 'p': 2}\n",
      "0.595 (+/-0.050) for {'n_neighbors': 200, 'algorithm': 'ball_tree', 'p': 9}\n",
      "0.642 (+/-0.035) for {'n_neighbors': 250, 'algorithm': 'ball_tree', 'p': 1}\n",
      "0.615 (+/-0.024) for {'n_neighbors': 250, 'algorithm': 'ball_tree', 'p': 2}\n",
      "0.586 (+/-0.053) for {'n_neighbors': 250, 'algorithm': 'ball_tree', 'p': 9}\n",
      "0.644 (+/-0.040) for {'n_neighbors': 5, 'algorithm': 'kd_tree', 'p': 1}\n",
      "0.629 (+/-0.054) for {'n_neighbors': 5, 'algorithm': 'kd_tree', 'p': 2}\n",
      "0.602 (+/-0.049) for {'n_neighbors': 5, 'algorithm': 'kd_tree', 'p': 9}\n",
      "0.667 (+/-0.042) for {'n_neighbors': 10, 'algorithm': 'kd_tree', 'p': 1}\n",
      "0.648 (+/-0.056) for {'n_neighbors': 10, 'algorithm': 'kd_tree', 'p': 2}\n",
      "0.624 (+/-0.035) for {'n_neighbors': 10, 'algorithm': 'kd_tree', 'p': 9}\n",
      "0.672 (+/-0.037) for {'n_neighbors': 15, 'algorithm': 'kd_tree', 'p': 1}\n",
      "0.652 (+/-0.058) for {'n_neighbors': 15, 'algorithm': 'kd_tree', 'p': 2}\n",
      "0.633 (+/-0.037) for {'n_neighbors': 15, 'algorithm': 'kd_tree', 'p': 9}\n",
      "0.673 (+/-0.039) for {'n_neighbors': 20, 'algorithm': 'kd_tree', 'p': 1}\n",
      "0.657 (+/-0.048) for {'n_neighbors': 20, 'algorithm': 'kd_tree', 'p': 2}\n",
      "0.626 (+/-0.027) for {'n_neighbors': 20, 'algorithm': 'kd_tree', 'p': 9}\n",
      "0.675 (+/-0.041) for {'n_neighbors': 30, 'algorithm': 'kd_tree', 'p': 1}\n",
      "0.654 (+/-0.042) for {'n_neighbors': 30, 'algorithm': 'kd_tree', 'p': 2}\n",
      "0.624 (+/-0.045) for {'n_neighbors': 30, 'algorithm': 'kd_tree', 'p': 9}\n",
      "0.667 (+/-0.049) for {'n_neighbors': 40, 'algorithm': 'kd_tree', 'p': 1}\n",
      "0.650 (+/-0.049) for {'n_neighbors': 40, 'algorithm': 'kd_tree', 'p': 2}\n",
      "0.625 (+/-0.045) for {'n_neighbors': 40, 'algorithm': 'kd_tree', 'p': 9}\n",
      "0.669 (+/-0.049) for {'n_neighbors': 50, 'algorithm': 'kd_tree', 'p': 1}\n",
      "0.645 (+/-0.046) for {'n_neighbors': 50, 'algorithm': 'kd_tree', 'p': 2}\n",
      "0.624 (+/-0.047) for {'n_neighbors': 50, 'algorithm': 'kd_tree', 'p': 9}\n",
      "0.664 (+/-0.043) for {'n_neighbors': 64, 'algorithm': 'kd_tree', 'p': 1}\n",
      "0.645 (+/-0.035) for {'n_neighbors': 64, 'algorithm': 'kd_tree', 'p': 2}\n",
      "0.621 (+/-0.031) for {'n_neighbors': 64, 'algorithm': 'kd_tree', 'p': 9}\n",
      "0.665 (+/-0.042) for {'n_neighbors': 70, 'algorithm': 'kd_tree', 'p': 1}\n",
      "0.646 (+/-0.043) for {'n_neighbors': 70, 'algorithm': 'kd_tree', 'p': 2}\n",
      "0.618 (+/-0.036) for {'n_neighbors': 70, 'algorithm': 'kd_tree', 'p': 9}\n",
      "0.661 (+/-0.036) for {'n_neighbors': 80, 'algorithm': 'kd_tree', 'p': 1}\n",
      "0.644 (+/-0.038) for {'n_neighbors': 80, 'algorithm': 'kd_tree', 'p': 2}\n",
      "0.621 (+/-0.041) for {'n_neighbors': 80, 'algorithm': 'kd_tree', 'p': 9}\n",
      "0.662 (+/-0.036) for {'n_neighbors': 90, 'algorithm': 'kd_tree', 'p': 1}\n",
      "0.643 (+/-0.042) for {'n_neighbors': 90, 'algorithm': 'kd_tree', 'p': 2}\n",
      "0.616 (+/-0.036) for {'n_neighbors': 90, 'algorithm': 'kd_tree', 'p': 9}\n",
      "0.662 (+/-0.038) for {'n_neighbors': 100, 'algorithm': 'kd_tree', 'p': 1}\n",
      "0.639 (+/-0.043) for {'n_neighbors': 100, 'algorithm': 'kd_tree', 'p': 2}\n",
      "0.610 (+/-0.039) for {'n_neighbors': 100, 'algorithm': 'kd_tree', 'p': 9}\n",
      "0.661 (+/-0.032) for {'n_neighbors': 125, 'algorithm': 'kd_tree', 'p': 1}\n",
      "0.634 (+/-0.028) for {'n_neighbors': 125, 'algorithm': 'kd_tree', 'p': 2}\n",
      "0.606 (+/-0.045) for {'n_neighbors': 125, 'algorithm': 'kd_tree', 'p': 9}\n",
      "0.651 (+/-0.032) for {'n_neighbors': 200, 'algorithm': 'kd_tree', 'p': 1}\n",
      "0.619 (+/-0.034) for {'n_neighbors': 200, 'algorithm': 'kd_tree', 'p': 2}\n",
      "0.595 (+/-0.050) for {'n_neighbors': 200, 'algorithm': 'kd_tree', 'p': 9}\n",
      "0.642 (+/-0.035) for {'n_neighbors': 250, 'algorithm': 'kd_tree', 'p': 1}\n",
      "0.615 (+/-0.024) for {'n_neighbors': 250, 'algorithm': 'kd_tree', 'p': 2}\n",
      "0.586 (+/-0.053) for {'n_neighbors': 250, 'algorithm': 'kd_tree', 'p': 9}\n",
      "0.644 (+/-0.040) for {'n_neighbors': 5, 'algorithm': 'brute', 'p': 1}\n",
      "0.629 (+/-0.054) for {'n_neighbors': 5, 'algorithm': 'brute', 'p': 2}\n",
      "0.602 (+/-0.049) for {'n_neighbors': 5, 'algorithm': 'brute', 'p': 9}\n",
      "0.667 (+/-0.042) for {'n_neighbors': 10, 'algorithm': 'brute', 'p': 1}\n",
      "0.648 (+/-0.056) for {'n_neighbors': 10, 'algorithm': 'brute', 'p': 2}\n",
      "0.624 (+/-0.035) for {'n_neighbors': 10, 'algorithm': 'brute', 'p': 9}\n",
      "0.672 (+/-0.037) for {'n_neighbors': 15, 'algorithm': 'brute', 'p': 1}\n",
      "0.652 (+/-0.058) for {'n_neighbors': 15, 'algorithm': 'brute', 'p': 2}\n",
      "0.633 (+/-0.037) for {'n_neighbors': 15, 'algorithm': 'brute', 'p': 9}\n",
      "0.673 (+/-0.039) for {'n_neighbors': 20, 'algorithm': 'brute', 'p': 1}\n",
      "0.657 (+/-0.048) for {'n_neighbors': 20, 'algorithm': 'brute', 'p': 2}\n",
      "0.626 (+/-0.027) for {'n_neighbors': 20, 'algorithm': 'brute', 'p': 9}\n",
      "0.675 (+/-0.041) for {'n_neighbors': 30, 'algorithm': 'brute', 'p': 1}\n",
      "0.654 (+/-0.042) for {'n_neighbors': 30, 'algorithm': 'brute', 'p': 2}\n",
      "0.624 (+/-0.045) for {'n_neighbors': 30, 'algorithm': 'brute', 'p': 9}\n",
      "0.667 (+/-0.049) for {'n_neighbors': 40, 'algorithm': 'brute', 'p': 1}\n",
      "0.650 (+/-0.049) for {'n_neighbors': 40, 'algorithm': 'brute', 'p': 2}\n",
      "0.625 (+/-0.045) for {'n_neighbors': 40, 'algorithm': 'brute', 'p': 9}\n",
      "0.669 (+/-0.049) for {'n_neighbors': 50, 'algorithm': 'brute', 'p': 1}\n",
      "0.645 (+/-0.046) for {'n_neighbors': 50, 'algorithm': 'brute', 'p': 2}\n",
      "0.624 (+/-0.047) for {'n_neighbors': 50, 'algorithm': 'brute', 'p': 9}\n",
      "0.664 (+/-0.043) for {'n_neighbors': 64, 'algorithm': 'brute', 'p': 1}\n",
      "0.645 (+/-0.035) for {'n_neighbors': 64, 'algorithm': 'brute', 'p': 2}\n",
      "0.621 (+/-0.031) for {'n_neighbors': 64, 'algorithm': 'brute', 'p': 9}\n",
      "0.665 (+/-0.042) for {'n_neighbors': 70, 'algorithm': 'brute', 'p': 1}\n",
      "0.646 (+/-0.043) for {'n_neighbors': 70, 'algorithm': 'brute', 'p': 2}\n",
      "0.618 (+/-0.036) for {'n_neighbors': 70, 'algorithm': 'brute', 'p': 9}\n",
      "0.661 (+/-0.036) for {'n_neighbors': 80, 'algorithm': 'brute', 'p': 1}\n",
      "0.644 (+/-0.038) for {'n_neighbors': 80, 'algorithm': 'brute', 'p': 2}\n",
      "0.621 (+/-0.041) for {'n_neighbors': 80, 'algorithm': 'brute', 'p': 9}\n",
      "0.662 (+/-0.036) for {'n_neighbors': 90, 'algorithm': 'brute', 'p': 1}\n",
      "0.643 (+/-0.042) for {'n_neighbors': 90, 'algorithm': 'brute', 'p': 2}\n",
      "0.616 (+/-0.036) for {'n_neighbors': 90, 'algorithm': 'brute', 'p': 9}\n",
      "0.662 (+/-0.038) for {'n_neighbors': 100, 'algorithm': 'brute', 'p': 1}\n",
      "0.639 (+/-0.043) for {'n_neighbors': 100, 'algorithm': 'brute', 'p': 2}\n",
      "0.610 (+/-0.039) for {'n_neighbors': 100, 'algorithm': 'brute', 'p': 9}\n",
      "0.661 (+/-0.032) for {'n_neighbors': 125, 'algorithm': 'brute', 'p': 1}\n",
      "0.634 (+/-0.028) for {'n_neighbors': 125, 'algorithm': 'brute', 'p': 2}\n",
      "0.606 (+/-0.045) for {'n_neighbors': 125, 'algorithm': 'brute', 'p': 9}\n",
      "0.651 (+/-0.032) for {'n_neighbors': 200, 'algorithm': 'brute', 'p': 1}\n",
      "0.619 (+/-0.034) for {'n_neighbors': 200, 'algorithm': 'brute', 'p': 2}\n",
      "0.595 (+/-0.050) for {'n_neighbors': 200, 'algorithm': 'brute', 'p': 9}\n",
      "0.642 (+/-0.035) for {'n_neighbors': 250, 'algorithm': 'brute', 'p': 1}\n",
      "0.615 (+/-0.024) for {'n_neighbors': 250, 'algorithm': 'brute', 'p': 2}\n",
      "0.586 (+/-0.053) for {'n_neighbors': 250, 'algorithm': 'brute', 'p': 9}\n",
      "()\n",
      "Detailed classification report:\n",
      "()\n",
      "The model is trained on the full development set.\n",
      "The scores are computed on the full evaluation set.\n",
      "()\n",
      "             precision    recall  f1-score   support\n",
      "\n",
      "         24       0.72      0.73      0.72       342\n",
      "        368       0.68      0.75      0.71       334\n",
      "       1793       0.73      0.64      0.68       335\n",
      "\n",
      "avg / total       0.71      0.71      0.71      1011\n",
      "\n",
      "()\n"
     ]
    }
   ],
   "source": [
    "from sklearn.metrics import classification_report\n",
    "\n",
    "print(\"Best parameters set found on development set:\")\n",
    "print()\n",
    "print(clf.best_params_)\n",
    "print()\n",
    "print(\"Grid scores on development set:\")\n",
    "print()\n",
    "means = clf.cv_results_['mean_test_score']\n",
    "stds = clf.cv_results_['std_test_score']\n",
    "for mean, std, params in zip(means, stds, clf.cv_results_['params']):\n",
    "    print(\"%0.3f (+/-%0.03f) for %r\"\n",
    "          % (mean, std * 2, params))\n",
    "print()\n",
    "\n",
    "print(\"Detailed classification report:\")\n",
    "print()\n",
    "print(\"The model is trained on the full development set.\")\n",
    "print(\"The scores are computed on the full evaluation set.\")\n",
    "print()\n",
    "y_true, y_pred = test_labels, clf.best_estimator_.predict(test)\n",
    "print(classification_report(y_true, y_pred))\n",
    "print()\n",
    "\n",
    "# n_neighbors': 30, 'algorithm': 'auto', 'p': 1}"
   ]
  },
  {
   "cell_type": "code",
   "execution_count": 11,
   "metadata": {
    "collapsed": false,
    "deletable": true,
    "editable": true
   },
   "outputs": [
    {
     "data": {
      "text/plain": [
       "array([  24, 1793, 1793, ..., 1793,   24, 1793])"
      ]
     },
     "execution_count": 11,
     "metadata": {},
     "output_type": "execute_result"
    }
   ],
   "source": [
    "y_pred"
   ]
  },
  {
   "cell_type": "code",
   "execution_count": 14,
   "metadata": {
    "collapsed": false,
    "deletable": true,
    "editable": true
   },
   "outputs": [
    {
     "data": {
      "text/html": [
       "<div>\n",
       "<table border=\"1\" class=\"dataframe\">\n",
       "  <thead>\n",
       "    <tr style=\"text-align: right;\">\n",
       "      <th></th>\n",
       "      <th>actual</th>\n",
       "      <th>knn_pred</th>\n",
       "      <th>knn_res</th>\n",
       "    </tr>\n",
       "  </thead>\n",
       "  <tbody>\n",
       "    <tr>\n",
       "      <th>33</th>\n",
       "      <td>24</td>\n",
       "      <td>24</td>\n",
       "      <td>True</td>\n",
       "    </tr>\n",
       "    <tr>\n",
       "      <th>34</th>\n",
       "      <td>1793</td>\n",
       "      <td>1793</td>\n",
       "      <td>True</td>\n",
       "    </tr>\n",
       "    <tr>\n",
       "      <th>35</th>\n",
       "      <td>1793</td>\n",
       "      <td>1793</td>\n",
       "      <td>True</td>\n",
       "    </tr>\n",
       "    <tr>\n",
       "      <th>37</th>\n",
       "      <td>1793</td>\n",
       "      <td>24</td>\n",
       "      <td>False</td>\n",
       "    </tr>\n",
       "    <tr>\n",
       "      <th>101</th>\n",
       "      <td>1793</td>\n",
       "      <td>368</td>\n",
       "      <td>False</td>\n",
       "    </tr>\n",
       "    <tr>\n",
       "      <th>102</th>\n",
       "      <td>1793</td>\n",
       "      <td>1793</td>\n",
       "      <td>True</td>\n",
       "    </tr>\n",
       "    <tr>\n",
       "      <th>105</th>\n",
       "      <td>1793</td>\n",
       "      <td>1793</td>\n",
       "      <td>True</td>\n",
       "    </tr>\n",
       "    <tr>\n",
       "      <th>217</th>\n",
       "      <td>1793</td>\n",
       "      <td>24</td>\n",
       "      <td>False</td>\n",
       "    </tr>\n",
       "    <tr>\n",
       "      <th>261</th>\n",
       "      <td>1793</td>\n",
       "      <td>1793</td>\n",
       "      <td>True</td>\n",
       "    </tr>\n",
       "    <tr>\n",
       "      <th>295</th>\n",
       "      <td>1793</td>\n",
       "      <td>368</td>\n",
       "      <td>False</td>\n",
       "    </tr>\n",
       "    <tr>\n",
       "      <th>354</th>\n",
       "      <td>1793</td>\n",
       "      <td>368</td>\n",
       "      <td>False</td>\n",
       "    </tr>\n",
       "    <tr>\n",
       "      <th>355</th>\n",
       "      <td>1793</td>\n",
       "      <td>24</td>\n",
       "      <td>False</td>\n",
       "    </tr>\n",
       "    <tr>\n",
       "      <th>399</th>\n",
       "      <td>1793</td>\n",
       "      <td>1793</td>\n",
       "      <td>True</td>\n",
       "    </tr>\n",
       "    <tr>\n",
       "      <th>474</th>\n",
       "      <td>1793</td>\n",
       "      <td>1793</td>\n",
       "      <td>True</td>\n",
       "    </tr>\n",
       "    <tr>\n",
       "      <th>507</th>\n",
       "      <td>1793</td>\n",
       "      <td>368</td>\n",
       "      <td>False</td>\n",
       "    </tr>\n",
       "    <tr>\n",
       "      <th>545</th>\n",
       "      <td>1793</td>\n",
       "      <td>1793</td>\n",
       "      <td>True</td>\n",
       "    </tr>\n",
       "    <tr>\n",
       "      <th>554</th>\n",
       "      <td>24</td>\n",
       "      <td>24</td>\n",
       "      <td>True</td>\n",
       "    </tr>\n",
       "    <tr>\n",
       "      <th>604</th>\n",
       "      <td>24</td>\n",
       "      <td>24</td>\n",
       "      <td>True</td>\n",
       "    </tr>\n",
       "    <tr>\n",
       "      <th>607</th>\n",
       "      <td>24</td>\n",
       "      <td>368</td>\n",
       "      <td>False</td>\n",
       "    </tr>\n",
       "    <tr>\n",
       "      <th>608</th>\n",
       "      <td>24</td>\n",
       "      <td>24</td>\n",
       "      <td>True</td>\n",
       "    </tr>\n",
       "    <tr>\n",
       "      <th>662</th>\n",
       "      <td>24</td>\n",
       "      <td>24</td>\n",
       "      <td>True</td>\n",
       "    </tr>\n",
       "    <tr>\n",
       "      <th>686</th>\n",
       "      <td>1793</td>\n",
       "      <td>1793</td>\n",
       "      <td>True</td>\n",
       "    </tr>\n",
       "    <tr>\n",
       "      <th>710</th>\n",
       "      <td>1793</td>\n",
       "      <td>1793</td>\n",
       "      <td>True</td>\n",
       "    </tr>\n",
       "    <tr>\n",
       "      <th>860</th>\n",
       "      <td>24</td>\n",
       "      <td>368</td>\n",
       "      <td>False</td>\n",
       "    </tr>\n",
       "    <tr>\n",
       "      <th>861</th>\n",
       "      <td>24</td>\n",
       "      <td>24</td>\n",
       "      <td>True</td>\n",
       "    </tr>\n",
       "    <tr>\n",
       "      <th>862</th>\n",
       "      <td>24</td>\n",
       "      <td>1793</td>\n",
       "      <td>False</td>\n",
       "    </tr>\n",
       "    <tr>\n",
       "      <th>863</th>\n",
       "      <td>24</td>\n",
       "      <td>24</td>\n",
       "      <td>True</td>\n",
       "    </tr>\n",
       "    <tr>\n",
       "      <th>864</th>\n",
       "      <td>24</td>\n",
       "      <td>24</td>\n",
       "      <td>True</td>\n",
       "    </tr>\n",
       "    <tr>\n",
       "      <th>865</th>\n",
       "      <td>24</td>\n",
       "      <td>24</td>\n",
       "      <td>True</td>\n",
       "    </tr>\n",
       "    <tr>\n",
       "      <th>866</th>\n",
       "      <td>24</td>\n",
       "      <td>24</td>\n",
       "      <td>True</td>\n",
       "    </tr>\n",
       "    <tr>\n",
       "      <th>...</th>\n",
       "      <td>...</td>\n",
       "      <td>...</td>\n",
       "      <td>...</td>\n",
       "    </tr>\n",
       "    <tr>\n",
       "      <th>9704</th>\n",
       "      <td>1793</td>\n",
       "      <td>1793</td>\n",
       "      <td>True</td>\n",
       "    </tr>\n",
       "    <tr>\n",
       "      <th>9715</th>\n",
       "      <td>1793</td>\n",
       "      <td>368</td>\n",
       "      <td>False</td>\n",
       "    </tr>\n",
       "    <tr>\n",
       "      <th>9716</th>\n",
       "      <td>1793</td>\n",
       "      <td>368</td>\n",
       "      <td>False</td>\n",
       "    </tr>\n",
       "    <tr>\n",
       "      <th>9718</th>\n",
       "      <td>1793</td>\n",
       "      <td>24</td>\n",
       "      <td>False</td>\n",
       "    </tr>\n",
       "    <tr>\n",
       "      <th>9719</th>\n",
       "      <td>1793</td>\n",
       "      <td>368</td>\n",
       "      <td>False</td>\n",
       "    </tr>\n",
       "    <tr>\n",
       "      <th>9720</th>\n",
       "      <td>1793</td>\n",
       "      <td>1793</td>\n",
       "      <td>True</td>\n",
       "    </tr>\n",
       "    <tr>\n",
       "      <th>9724</th>\n",
       "      <td>1793</td>\n",
       "      <td>1793</td>\n",
       "      <td>True</td>\n",
       "    </tr>\n",
       "    <tr>\n",
       "      <th>9726</th>\n",
       "      <td>1793</td>\n",
       "      <td>1793</td>\n",
       "      <td>True</td>\n",
       "    </tr>\n",
       "    <tr>\n",
       "      <th>9727</th>\n",
       "      <td>1793</td>\n",
       "      <td>1793</td>\n",
       "      <td>True</td>\n",
       "    </tr>\n",
       "    <tr>\n",
       "      <th>9729</th>\n",
       "      <td>1793</td>\n",
       "      <td>24</td>\n",
       "      <td>False</td>\n",
       "    </tr>\n",
       "    <tr>\n",
       "      <th>9730</th>\n",
       "      <td>1793</td>\n",
       "      <td>1793</td>\n",
       "      <td>True</td>\n",
       "    </tr>\n",
       "    <tr>\n",
       "      <th>9731</th>\n",
       "      <td>1793</td>\n",
       "      <td>24</td>\n",
       "      <td>False</td>\n",
       "    </tr>\n",
       "    <tr>\n",
       "      <th>9732</th>\n",
       "      <td>24</td>\n",
       "      <td>24</td>\n",
       "      <td>True</td>\n",
       "    </tr>\n",
       "    <tr>\n",
       "      <th>9734</th>\n",
       "      <td>24</td>\n",
       "      <td>24</td>\n",
       "      <td>True</td>\n",
       "    </tr>\n",
       "    <tr>\n",
       "      <th>9735</th>\n",
       "      <td>1793</td>\n",
       "      <td>1793</td>\n",
       "      <td>True</td>\n",
       "    </tr>\n",
       "    <tr>\n",
       "      <th>9739</th>\n",
       "      <td>24</td>\n",
       "      <td>24</td>\n",
       "      <td>True</td>\n",
       "    </tr>\n",
       "    <tr>\n",
       "      <th>9740</th>\n",
       "      <td>24</td>\n",
       "      <td>24</td>\n",
       "      <td>True</td>\n",
       "    </tr>\n",
       "    <tr>\n",
       "      <th>9744</th>\n",
       "      <td>24</td>\n",
       "      <td>1793</td>\n",
       "      <td>False</td>\n",
       "    </tr>\n",
       "    <tr>\n",
       "      <th>9746</th>\n",
       "      <td>24</td>\n",
       "      <td>24</td>\n",
       "      <td>True</td>\n",
       "    </tr>\n",
       "    <tr>\n",
       "      <th>9749</th>\n",
       "      <td>24</td>\n",
       "      <td>24</td>\n",
       "      <td>True</td>\n",
       "    </tr>\n",
       "    <tr>\n",
       "      <th>9750</th>\n",
       "      <td>24</td>\n",
       "      <td>24</td>\n",
       "      <td>True</td>\n",
       "    </tr>\n",
       "    <tr>\n",
       "      <th>9751</th>\n",
       "      <td>24</td>\n",
       "      <td>24</td>\n",
       "      <td>True</td>\n",
       "    </tr>\n",
       "    <tr>\n",
       "      <th>9752</th>\n",
       "      <td>24</td>\n",
       "      <td>24</td>\n",
       "      <td>True</td>\n",
       "    </tr>\n",
       "    <tr>\n",
       "      <th>9753</th>\n",
       "      <td>24</td>\n",
       "      <td>24</td>\n",
       "      <td>True</td>\n",
       "    </tr>\n",
       "    <tr>\n",
       "      <th>9754</th>\n",
       "      <td>24</td>\n",
       "      <td>24</td>\n",
       "      <td>True</td>\n",
       "    </tr>\n",
       "    <tr>\n",
       "      <th>9755</th>\n",
       "      <td>24</td>\n",
       "      <td>24</td>\n",
       "      <td>True</td>\n",
       "    </tr>\n",
       "    <tr>\n",
       "      <th>9756</th>\n",
       "      <td>24</td>\n",
       "      <td>24</td>\n",
       "      <td>True</td>\n",
       "    </tr>\n",
       "    <tr>\n",
       "      <th>9757</th>\n",
       "      <td>24</td>\n",
       "      <td>1793</td>\n",
       "      <td>False</td>\n",
       "    </tr>\n",
       "    <tr>\n",
       "      <th>9758</th>\n",
       "      <td>24</td>\n",
       "      <td>24</td>\n",
       "      <td>True</td>\n",
       "    </tr>\n",
       "    <tr>\n",
       "      <th>9759</th>\n",
       "      <td>24</td>\n",
       "      <td>1793</td>\n",
       "      <td>False</td>\n",
       "    </tr>\n",
       "  </tbody>\n",
       "</table>\n",
       "<p>1011 rows × 3 columns</p>\n",
       "</div>"
      ],
      "text/plain": [
       "      actual  knn_pred knn_res\n",
       "33        24        24    True\n",
       "34      1793      1793    True\n",
       "35      1793      1793    True\n",
       "37      1793        24   False\n",
       "101     1793       368   False\n",
       "102     1793      1793    True\n",
       "105     1793      1793    True\n",
       "217     1793        24   False\n",
       "261     1793      1793    True\n",
       "295     1793       368   False\n",
       "354     1793       368   False\n",
       "355     1793        24   False\n",
       "399     1793      1793    True\n",
       "474     1793      1793    True\n",
       "507     1793       368   False\n",
       "545     1793      1793    True\n",
       "554       24        24    True\n",
       "604       24        24    True\n",
       "607       24       368   False\n",
       "608       24        24    True\n",
       "662       24        24    True\n",
       "686     1793      1793    True\n",
       "710     1793      1793    True\n",
       "860       24       368   False\n",
       "861       24        24    True\n",
       "862       24      1793   False\n",
       "863       24        24    True\n",
       "864       24        24    True\n",
       "865       24        24    True\n",
       "866       24        24    True\n",
       "...      ...       ...     ...\n",
       "9704    1793      1793    True\n",
       "9715    1793       368   False\n",
       "9716    1793       368   False\n",
       "9718    1793        24   False\n",
       "9719    1793       368   False\n",
       "9720    1793      1793    True\n",
       "9724    1793      1793    True\n",
       "9726    1793      1793    True\n",
       "9727    1793      1793    True\n",
       "9729    1793        24   False\n",
       "9730    1793      1793    True\n",
       "9731    1793        24   False\n",
       "9732      24        24    True\n",
       "9734      24        24    True\n",
       "9735    1793      1793    True\n",
       "9739      24        24    True\n",
       "9740      24        24    True\n",
       "9744      24      1793   False\n",
       "9746      24        24    True\n",
       "9749      24        24    True\n",
       "9750      24        24    True\n",
       "9751      24        24    True\n",
       "9752      24        24    True\n",
       "9753      24        24    True\n",
       "9754      24        24    True\n",
       "9755      24        24    True\n",
       "9756      24        24    True\n",
       "9757      24      1793   False\n",
       "9758      24        24    True\n",
       "9759      24      1793   False\n",
       "\n",
       "[1011 rows x 3 columns]"
      ]
     },
     "execution_count": 14,
     "metadata": {},
     "output_type": "execute_result"
    }
   ],
   "source": [
    "knn_test_df = fns.result_table(y_true, y_pred)\n",
    "knn_test_df = knn_test_df.rename(index=str, columns={'predictions': 'knn_pred', 'results': 'knn_res'})\n",
    "knn_test_df"
   ]
  },
  {
   "cell_type": "code",
   "execution_count": 15,
   "metadata": {
    "collapsed": false,
    "deletable": true,
    "editable": true
   },
   "outputs": [
    {
     "data": {
      "text/html": [
       "<div>\n",
       "<table border=\"1\" class=\"dataframe\">\n",
       "  <thead>\n",
       "    <tr>\n",
       "      <th></th>\n",
       "      <th colspan=\"3\" halign=\"left\">knn_res</th>\n",
       "    </tr>\n",
       "    <tr>\n",
       "      <th>knn_pred</th>\n",
       "      <th>24</th>\n",
       "      <th>368</th>\n",
       "      <th>1793</th>\n",
       "    </tr>\n",
       "    <tr>\n",
       "      <th>actual</th>\n",
       "      <th></th>\n",
       "      <th></th>\n",
       "      <th></th>\n",
       "    </tr>\n",
       "  </thead>\n",
       "  <tbody>\n",
       "    <tr>\n",
       "      <th>24</th>\n",
       "      <td>248</td>\n",
       "      <td>49</td>\n",
       "      <td>45</td>\n",
       "    </tr>\n",
       "    <tr>\n",
       "      <th>368</th>\n",
       "      <td>49</td>\n",
       "      <td>252</td>\n",
       "      <td>33</td>\n",
       "    </tr>\n",
       "    <tr>\n",
       "      <th>1793</th>\n",
       "      <td>49</td>\n",
       "      <td>71</td>\n",
       "      <td>215</td>\n",
       "    </tr>\n",
       "  </tbody>\n",
       "</table>\n",
       "</div>"
      ],
      "text/plain": [
       "         knn_res          \n",
       "knn_pred    24   368  1793\n",
       "actual                    \n",
       "24           248   49   45\n",
       "368           49  252   33\n",
       "1793          49   71  215"
      ]
     },
     "execution_count": 15,
     "metadata": {},
     "output_type": "execute_result"
    }
   ],
   "source": [
    "\n",
    "knn_test_df.groupby(['actual', 'knn_pred']).aggregate({'knn_res': 'count'}).unstack()\n"
   ]
  },
  {
   "cell_type": "code",
   "execution_count": 21,
   "metadata": {
    "collapsed": false
   },
   "outputs": [
    {
     "name": "stdout",
     "output_type": "stream",
     "text": [
      "0.707220573689\n"
     ]
    }
   ],
   "source": [
    "import pickle\n",
    "\n",
    "# save the model to disk\n",
    "filename = 'models/knn.sav'\n",
    "pickle.dump(clf, open(filename, 'wb'))\n",
    " \n",
    "# some time later...\n",
    " \n",
    "# load the model from disk\n",
    "loaded_knn_pca = pickle.load(open(filename, 'rb'))\n",
    "result = loaded_knn_pca.score(test, test_labels)\n",
    "print(result)"
   ]
  },
  {
   "cell_type": "code",
   "execution_count": 16,
   "metadata": {
    "collapsed": false,
    "deletable": true,
    "editable": true
   },
   "outputs": [
    {
     "data": {
      "text/plain": [
       "0.29277942631058357"
      ]
     },
     "execution_count": 16,
     "metadata": {},
     "output_type": "execute_result"
    }
   ],
   "source": [
    "\n",
    "results = pd.DataFrame()\n",
    "\n",
    "results.insert(0,'actual',test_labels)\n",
    "results.insert(1,'predictions',y_pred)\n",
    "\n",
    "misclassified = (results['actual'] != results['predictions']).mean()\n",
    "misclassified"
   ]
  },
  {
   "cell_type": "code",
   "execution_count": null,
   "metadata": {
    "collapsed": false,
    "deletable": true,
    "editable": true
   },
   "outputs": [],
   "source": [
    "## Give me the 5 nearest neighbors of the first two items in the validation set\n",
    "pd.concat((test_labels.iloc[:5].reset_index(drop = True), \n",
    "           pd.DataFrame(clf.kneighbors(test[0:5], n_neighbors=3, return_distance=False)).\n",
    "        applymap(lambda x: fn_train.iloc[x])), axis = 1)"
   ]
  },
  {
   "cell_type": "code",
   "execution_count": null,
   "metadata": {
    "collapsed": false,
    "deletable": true,
    "editable": true
   },
   "outputs": [],
   "source": []
  },
  {
   "cell_type": "code",
   "execution_count": null,
   "metadata": {
    "collapsed": false,
    "deletable": true,
    "editable": true
   },
   "outputs": [],
   "source": [
    "# get neighbors \n",
    "prediction_nearest_neighbors = pd.DataFrame(clf.kneighbors(test, n_neighbors=107, return_distance=False))\n",
    "prediction_nearest_neighbors"
   ]
  },
  {
   "cell_type": "code",
   "execution_count": null,
   "metadata": {
    "collapsed": false,
    "deletable": true,
    "editable": true
   },
   "outputs": [],
   "source": [
    "nearest_neighbors = list(model.kneighbors(test_data_img[5], n_neighbors=31, return_distance=False)[0])\n",
    "NN_images = [y_train.iloc[x] for x in nearest_neighbors]\n",
    "[ (i,NN_images.count(i)) for i in set(NN_images) ]"
   ]
  },
  {
   "cell_type": "markdown",
   "metadata": {
    "deletable": true,
    "editable": true
   },
   "source": [
    "======================================================================================================\n",
    "\n",
    "# PCA\n",
    "\n",
    "======================================================================================================"
   ]
  },
  {
   "cell_type": "code",
   "execution_count": 70,
   "metadata": {
    "collapsed": false,
    "deletable": true,
    "editable": true
   },
   "outputs": [],
   "source": [
    "## Get 10 principal components\n",
    "pca = PCA(n_components=15)\n",
    "pca.fit(train)\n",
    "pca_transformed = pca.transform(train)"
   ]
  },
  {
   "cell_type": "code",
   "execution_count": 71,
   "metadata": {
    "collapsed": false,
    "deletable": true,
    "editable": true
   },
   "outputs": [
    {
     "data": {
      "text/plain": [
       "0.97650450836418023"
      ]
     },
     "execution_count": 71,
     "metadata": {},
     "output_type": "execute_result"
    },
    {
     "data": {
      "image/png": "[encoded data removed]",
      "text/plain": [
       "<matplotlib.figure.Figure at 0x7fab19b8c6d0>"
      ]
     },
     "metadata": {},
     "output_type": "display_data"
    }
   ],
   "source": [
    "plt.plot(pca.explained_variance_ratio_)\n",
    "plt.title(\"Scree Plot: 10 Principal Components\")\n",
    "plt.xlabel(\"Number of Components\")\n",
    "plt.ylabel(\"% of Explained Variance\")\n",
    "sum(pca.explained_variance_ratio_)"
   ]
  },
  {
   "cell_type": "markdown",
   "metadata": {
    "deletable": true,
    "editable": true
   },
   "source": [
    "======================================================================================================\n",
    "\n",
    "# KNN + PCA\n",
    "\n",
    "======================================================================================================"
   ]
  },
  {
   "cell_type": "code",
   "execution_count": 74,
   "metadata": {
    "collapsed": false,
    "deletable": true,
    "editable": true
   },
   "outputs": [
    {
     "name": "stdout",
     "output_type": "stream",
     "text": [
      "Training KNN Model...\n"
     ]
    },
    {
     "data": {
      "text/plain": [
       "GridSearchCV(cv=6, error_score='raise',\n",
       "       estimator=KNeighborsClassifier(algorithm='auto', leaf_size=30, metric='minkowski',\n",
       "           metric_params=None, n_jobs=1, n_neighbors=5, p=2,\n",
       "           weights='uniform'),\n",
       "       fit_params={}, iid=True, n_jobs=4,\n",
       "       param_grid={'n_neighbors': [2, 3, 4, 5, 10, 15, 20], 'algorithm': ['auto', 'ball_tree', 'kd_tree', 'brute'], 'p': [1, 2, 9]},\n",
       "       pre_dispatch='2*n_jobs', refit=True, return_train_score=True,\n",
       "       scoring=None, verbose=0)"
      ]
     },
     "execution_count": 74,
     "metadata": {},
     "output_type": "execute_result"
    }
   ],
   "source": [
    "## Train the KNN model\n",
    "print \"Training KNN Model...\"\n",
    "\n",
    "# minkowski_distance\n",
    "k = [2, 3, 4, 5, 10, 15, 20]\n",
    "#k = [5, 20]\n",
    "parameters = {'n_neighbors': k, 'algorithm': ['auto', 'ball_tree', 'kd_tree', 'brute'],\n",
    "              'p': [1, 2, 9]\n",
    "              }\n",
    "knn_pca = KNeighborsClassifier()\n",
    "clf_pca = GridSearchCV(knn_pca, parameters, cv=6, n_jobs=4)\n",
    "clf_pca"
   ]
  },
  {
   "cell_type": "code",
   "execution_count": 75,
   "metadata": {
    "collapsed": false,
    "deletable": true,
    "editable": true
   },
   "outputs": [
    {
     "data": {
      "text/plain": [
       "GridSearchCV(cv=6, error_score='raise',\n",
       "       estimator=KNeighborsClassifier(algorithm='auto', leaf_size=30, metric='minkowski',\n",
       "           metric_params=None, n_jobs=1, n_neighbors=5, p=2,\n",
       "           weights='uniform'),\n",
       "       fit_params={}, iid=True, n_jobs=4,\n",
       "       param_grid={'n_neighbors': [2, 3, 4, 5, 10, 15, 20], 'algorithm': ['auto', 'ball_tree', 'kd_tree', 'brute'], 'p': [1, 2, 9]},\n",
       "       pre_dispatch='2*n_jobs', refit=True, return_train_score=True,\n",
       "       scoring=None, verbose=0)"
      ]
     },
     "execution_count": 75,
     "metadata": {},
     "output_type": "execute_result"
    }
   ],
   "source": [
    "start_time = time.time()\n",
    "\n",
    "clf_pca.fit(pca_transformed, train_labels)\n",
    "\n",
    "print('-' * 53)\n",
    "print 'Costed time: \\n%f' % (time.time() - start_time)\n",
    "\n",
    "\n",
    "# accuracy for the train set\n",
    "print \"Accuracy of the Model on training set:\" + str(clf.score(pca_transformed,train_labels))\n",
    "\n",
    "# accuracy for the test set\n",
    "print \"Accuracy of the Model on testing set:\" + str(clf.score(pca_transformed_test,test_labels))\n"
   ]
  },
  {
   "cell_type": "code",
   "execution_count": 62,
   "metadata": {
    "collapsed": false,
    "deletable": true,
    "editable": true
   },
   "outputs": [
    {
     "name": "stdout",
     "output_type": "stream",
     "text": [
      "Best parameters set found on development set:\n",
      "()\n"
     ]
    },
    {
     "ename": "NameError",
     "evalue": "name 'clf_pca' is not defined",
     "output_type": "error",
     "traceback": [
      "\u001b[0;31m---------------------------------------------------------------------------\u001b[0m\n\u001b[0;31mNameError\u001b[0m                                 Traceback (most recent call last)",
      "\u001b[0;32m<ipython-input-62-e8a424a90098>\u001b[0m in \u001b[0;36m<module>\u001b[0;34m()\u001b[0m\n\u001b[1;32m      3\u001b[0m \u001b[0;32mprint\u001b[0m\u001b[0;34m(\u001b[0m\u001b[0;34m\"Best parameters set found on development set:\"\u001b[0m\u001b[0;34m)\u001b[0m\u001b[0;34m\u001b[0m\u001b[0m\n\u001b[1;32m      4\u001b[0m \u001b[0;32mprint\u001b[0m\u001b[0;34m(\u001b[0m\u001b[0;34m)\u001b[0m\u001b[0;34m\u001b[0m\u001b[0m\n\u001b[0;32m----> 5\u001b[0;31m \u001b[0;32mprint\u001b[0m\u001b[0;34m(\u001b[0m\u001b[0mclf_pca\u001b[0m\u001b[0;34m.\u001b[0m\u001b[0mbest_params_\u001b[0m\u001b[0;34m)\u001b[0m\u001b[0;34m\u001b[0m\u001b[0m\n\u001b[0m\u001b[1;32m      6\u001b[0m \u001b[0;32mprint\u001b[0m\u001b[0;34m(\u001b[0m\u001b[0;34m)\u001b[0m\u001b[0;34m\u001b[0m\u001b[0m\n\u001b[1;32m      7\u001b[0m \u001b[0;32mprint\u001b[0m\u001b[0;34m(\u001b[0m\u001b[0;34m\"Grid scores on development set:\"\u001b[0m\u001b[0;34m)\u001b[0m\u001b[0;34m\u001b[0m\u001b[0m\n",
      "\u001b[0;31mNameError\u001b[0m: name 'clf_pca' is not defined"
     ]
    }
   ],
   "source": [
    "from sklearn.metrics import classification_report\n",
    "\n",
    "print(\"Best parameters set found on development set:\")\n",
    "print()\n",
    "print(clf_pca.best_params_)\n",
    "print()\n",
    "print(\"Grid scores on development set:\")\n",
    "print()\n",
    "means = clf_pca.cv_results_['mean_test_score']\n",
    "stds = clf_pca.cv_results_['std_test_score']\n",
    "for mean, std, params in zip(means, stds, clf_pca.cv_results_['params']):\n",
    "    print(\"%0.3f (+/-%0.03f) for %r\"\n",
    "          % (mean, std * 2, params))\n",
    "print()\n",
    "\n",
    "print(\"Detailed classification report:\")\n",
    "print()\n",
    "print(\"The model is trained on the full development set.\")\n",
    "print(\"The scores are computed on the full evaluation set.\")\n",
    "print()\n",
    "y_pca_true, y_pca_pred = test_labels, clf_pca.best_estimator_.predict(test)\n",
    "print(classification_report(y_true, y_pred))\n",
    "print()\n"
   ]
  },
  {
   "cell_type": "code",
   "execution_count": null,
   "metadata": {
    "collapsed": false,
    "deletable": true,
    "editable": true
   },
   "outputs": [],
   "source": [
    "pca_knn_test_df = fns.result_table(knn_pca_true, knn_pca_pred)\n",
    "pca_knn_test_df = pca_knn_test_df.rename(index=str, columns={'predictions': 'knn_pca_pred', 'results': 'knn_pca_res'})\n",
    "pca_knn_test_df"
   ]
  },
  {
   "cell_type": "code",
   "execution_count": 11,
   "metadata": {
    "collapsed": false,
    "deletable": true,
    "editable": true
   },
   "outputs": [],
   "source": [
    "pca_knn_test_df.groupby(['actual', 'knn_pca_pred']).aggregate({'knn_pca_res': 'count'}).unstack()\n"
   ]
  },
  {
   "cell_type": "code",
   "execution_count": null,
   "metadata": {
    "collapsed": true,
    "deletable": true,
    "editable": true
   },
   "outputs": [],
   "source": [
    "knn_com = knn_test_data_df.merge(pca_knn_test_df, how='inner', on='actual')\n",
    "knn_com"
   ]
  },
  {
   "cell_type": "code",
   "execution_count": null,
   "metadata": {
    "collapsed": true,
    "deletable": true,
    "editable": true
   },
   "outputs": [],
   "source": [
    "knn_com.to_csv('data/knn_com.csv', index=False)\n"
   ]
  },
  {
   "cell_type": "code",
   "execution_count": null,
   "metadata": {
    "collapsed": true,
    "deletable": true,
    "editable": true
   },
   "outputs": [],
   "source": []
  },
  {
   "cell_type": "code",
   "execution_count": null,
   "metadata": {
    "collapsed": true,
    "deletable": true,
    "editable": true
   },
   "outputs": [],
   "source": []
  },
  {
   "cell_type": "code",
   "execution_count": null,
   "metadata": {
    "collapsed": false,
    "deletable": true,
    "editable": true
   },
   "outputs": [],
   "source": []
  }
 ],
 "metadata": {
  "kernelspec": {
   "display_name": "Python 2",
   "language": "python",
   "name": "python2"
  },
  "language_info": {
   "codemirror_mode": {
    "name": "ipython",
    "version": 2
   },
   "file_extension": ".py",
   "mimetype": "text/x-python",
   "name": "python",
   "nbconvert_exporter": "python",
   "pygments_lexer": "ipython2",
   "version": "2.7.9"
  }
 },
 "nbformat": 4,
 "nbformat_minor": 0
}
