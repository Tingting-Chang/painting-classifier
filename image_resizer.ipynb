{
 "cells": [
  {
   "cell_type": "code",
   "execution_count": 1,
   "metadata": {
    "collapsed": true
   },
   "outputs": [],
   "source": [
    "from PIL import Image\n",
    "import pandas as pd\n",
    "import numpy as np\n",
    "import os, sys\n",
    "from concurrent.futures import ThreadPoolExecutor, as_completed, Future\n",
    "from threading import Lock"
   ]
  },
  {
   "cell_type": "code",
   "execution_count": 2,
   "metadata": {
    "collapsed": true
   },
   "outputs": [],
   "source": [
    "def full_image_path(author_id, painting_id):\n",
    "    return 'data/images_athenaeum/full/%d/%d.jpg' % (author_id, painting_id)\n",
    "def half_image_path(author_id, painting_id):\n",
    "    return 'data/images_athenaeum/half/%d' % author_id, '%d.jpg' % painting_id"
   ]
  },
  {
   "cell_type": "code",
   "execution_count": 7,
   "metadata": {
    "collapsed": true
   },
   "outputs": [],
   "source": [
    "paintings = pd.read_csv('data/athenaeum_paintings_sizes.csv')"
   ]
  },
  {
   "cell_type": "code",
   "execution_count": 8,
   "metadata": {
    "collapsed": false
   },
   "outputs": [
    {
     "data": {
      "text/plain": [
       "(207245, 12)"
      ]
     },
     "execution_count": 8,
     "metadata": {},
     "output_type": "execute_result"
    }
   ],
   "source": [
    "paintings.shape"
   ]
  },
  {
   "cell_type": "code",
   "execution_count": 11,
   "metadata": {
    "collapsed": false
   },
   "outputs": [],
   "source": [
    "lock = Lock()\n",
    "\n",
    "def convert_image(author_painting):\n",
    "    author_id, painting_id = author_painting\n",
    "    full_path = full_image_path(author_id, painting_id)\n",
    "    target_path, target_fn = half_image_path(author_id, painting_id)\n",
    "    with lock:\n",
    "        if not os.path.exists(target_path):\n",
    "            os.makedirs(target_path)\n",
    "    target_path = os.path.join(target_path, target_fn)\n",
    "    if not os.path.exists(target_path):\n",
    "        im = Image.open(full_path)\n",
    "        im = im.resize((im.width // 2, im.height // 2), Image.LANCZOS)\n",
    "        im.save(target_path)"
   ]
  },
  {
   "cell_type": "code",
   "execution_count": null,
   "metadata": {
    "collapsed": false
   },
   "outputs": [],
   "source": [
    "num_completed = 0\n",
    "total_guys = len(paintings)\n",
    "to_execute = [[author_id, painting_id] for i, (author_id, painting_id)\n",
    "              in paintings[['author_id', 'painting_id']].iterrows()]\n",
    "new_sizes = []\n",
    "with ThreadPoolExecutor(max_workers = 8) as executor:\n",
    "    for i in range(0, len(to_execute), 1000):\n",
    "        end = min(i + 1000, len(to_execute))\n",
    "        executions = [executor.submit(convert_image, author_painting)\n",
    "                          for author_painting in to_execute[i:end]]\n",
    "        for future in as_completed(executions):\n",
    "            new_sizes.append(future.result())\n",
    "            num_completed+=1\n",
    "            if num_completed % 100 == 0:\n",
    "                sys.stdout.write('\\r%d/%d' % (num_completed, total_guys))\n",
    "                sys.stdout.flush()\n",
    "sys.stdout.write('\\r%d/%d\\n' % (num_completed, total_guys))"
   ]
  }
 ],
 "metadata": {
  "kernelspec": {
   "display_name": "Python 2",
   "language": "python",
   "name": "python2"
  },
  "language_info": {
   "codemirror_mode": {
    "name": "ipython",
    "version": 2
   },
   "file_extension": ".py",
   "mimetype": "text/x-python",
   "name": "python",
   "nbconvert_exporter": "python",
   "pygments_lexer": "ipython2",
   "version": "2.7.9"
  }
 },
 "nbformat": 4,
 "nbformat_minor": 2
}
